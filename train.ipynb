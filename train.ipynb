{
    "cells": [
        {
            "cell_type": "markdown",
            "metadata": {},
            "source": [
                "# 股票预测模型工作流\n",
                "\n",
                "---\n",
                "### 工作流说明\n",
                "1.  **阶段零 (Setup)**: 导入库、加载配置。\n",
                "2.  **阶段一 (Data Pipeline)**: 独立运行。负责处理并保存数据，生成 L2 特征数据缓存。\n",
                "3.  **阶段二 (Model Pipeline)**: 独立运行。包含三个子步骤：\n",
                "    - **2.1 HPO**: 自动调参。\n",
                "    - **2.2 (预处理)**: 智能地加载或生成 L3 预处理数据缓存\n",
                "    - **2.3 (模型训练)**: 使用 L3 缓存进行高效的模型训练。\n",
                "    - **2.4 (评估)**: 对训练结果进行聚合与可视化。"
            ]
        },
        {
            "cell_type": "markdown",
            "metadata": {},
            "source": [
                "## 0. 通用设置与导入"
            ]
        },
        {
            "cell_type": "code",
            "execution_count": 1,
            "metadata": {},
            "outputs": [
                {
                    "name": "stderr",
                    "output_type": "stream",
                    "text": [
                        "d:\\Project\\Command\\Python\\Neural\\Wolf_of_Wall_Street\\main_train.py:13: TqdmExperimentalWarning: Using `tqdm.autonotebook.tqdm` in notebook mode. Use `tqdm.tqdm` instead to force console mode (e.g. in jupyter console)\n",
                        "  from tqdm.autonotebook import tqdm\n"
                    ]
                },
                {
                    "name": "stdout",
                    "output_type": "stream",
                    "text": [
                        "--- 正在初始化环境：加载配置与模块... ---\n",
                        "INFO: 底层并行计算库线程数已设置为: 4\n",
                        "INFO: 项目模块导入成功。\n",
                        "SUCCESS: 配置已从 'configs/config.yaml' 加载。\n"
                    ]
                }
            ],
            "source": [
                "import sys\n",
                "from pathlib import Path\n",
                "import matplotlib.pyplot as plt\n",
                "import seaborn as sns\n",
                "\n",
                "# 设置 Matplotlib 样式 (可以在 main_train 外部设置)\n",
                "plt.style.use('seaborn-v0_8-whitegrid')\n",
                "plt.rcParams['font.sans-serif'] = ['SimHei']\n",
                "plt.rcParams['axes.unicode_minus'] = False\n",
                "\n",
                "# --- 动态导入 main_train ---\n",
                "project_root = str(Path().resolve())\n",
                "if project_root not in sys.path:\n",
                "    sys.path.append(project_root)\n",
                "\n",
                "# 从我们统一的核心引擎中导入所有需要的函数和模块\n",
                "from main_train import (\n",
                "    run_load_config_and_modules,\n",
                "    run_all_data_pipeline,\n",
                "    run_preprocess_l3_cache,\n",
                "    run_hpo_train,\n",
                "    run_all_models_train,\n",
                "    run_performance_evaluation,\n",
                "    run_results_visualization\n",
                ")\n",
                "\n",
                "# --- 加载全局配置和模块 ---\n",
                "# 在 Notebook 的生命周期中，我们只加载一次\n",
                "config, modules = run_load_config_and_modules()\n",
                "\n",
                "if not (config and modules):\n",
                "    raise RuntimeError(\"环境初始化失败，请检查配置文件路径和模块导入。\")"
            ]
        },
        {
            "cell_type": "markdown",
            "metadata": {},
            "source": [
                "# **阶段一：数据准备与特征工程**"
            ]
        },
        {
            "cell_type": "code",
            "execution_count": 2,
            "metadata": {},
            "outputs": [
                {
                    "name": "stdout",
                    "output_type": "stream",
                    "text": [
                        "=== 阶段一：数据准备与特征工程 ===\n",
                        "INFO: 正在尝试登录 Baostock...\n",
                        "login success!\n",
                        "INFO: Baostock API 登录成功。\n",
                        "INFO: 未在配置中提供有效的 Tushare Token，将跳过 Tushare 相关数据。\n",
                        "开始执行数据管道协调任务...\n",
                        "INFO: 正在根据 'end_date' 和 'data_lookback_years' 动态计算 'start_date'...\n",
                        "      计算得出的 start_date 为: 2010-09-30，已更新到本次运行的全局配置中。\n",
                        "INFO: 特征文件已存在于 data\\processed\\000100.SZ\\4cac08e82ad6\\features.pkl，跳过 TCL科技 (000100.SZ) 的数据处理。\n",
                        "INFO: 特征文件已存在于 data\\processed\\000426.SZ\\5617fe5e7af3\\features.pkl，跳过 兴业矿业 (000426.SZ) 的数据处理。\n",
                        "INFO: 特征文件已存在于 data\\processed\\002083.SZ\\5d6a6b153d0e\\features.pkl，跳过 孚日股份 (002083.SZ) 的数据处理。\n",
                        "INFO: 特征文件已存在于 data\\processed\\000150.SZ\\5634b34f3878\\features.pkl，跳过 宜华健康 (000150.SZ) 的数据处理。\n",
                        "INFO: 特征文件已存在于 data\\processed\\300013.SZ\\4cac08e82ad6\\features.pkl，跳过 新宁物流 (300013.SZ) 的数据处理。\n",
                        "INFO: 特征文件已存在于 data\\processed\\300242.SZ\\30376337ba8e\\features.pkl，跳过 佳云科技 (300242.SZ) 的数据处理。\n",
                        "INFO: 特征文件已存在于 data\\processed\\002006.SZ\\26378c150652\\features.pkl，跳过 精功科技 (002006.SZ) 的数据处理。\n",
                        "INFO: 特征文件已存在于 data\\processed\\300242.SZ\\30376337ba8e\\features.pkl，跳过 佳云科技 (300242.SZ) 的数据处理。\n",
                        "\n",
                        "所有股票的特征文件均已存在。无需执行数据处理流水线。\n",
                        "logout success!\n",
                        "INFO: Baostock API 已成功登出.\n",
                        "--- 阶段一成功完成。 ---\n"
                    ]
                }
            ],
            "source": [
                "if config and modules:\n",
                "    # 调用核心引擎中的数据处理函数\n",
                "    # 它会自动处理 API 初始化、动态日期计算和数据保存\n",
                "    run_all_data_pipeline(config, modules)"
            ]
        },
        {
            "cell_type": "markdown",
            "metadata": {},
            "source": [
                "# **阶段二：模型训练与评估**"
            ]
        },
        {
            "cell_type": "markdown",
            "metadata": {},
            "source": [
                "### 2.1 数据预加载与全局预处理 (L3 缓存)"
            ]
        },
        {
            "cell_type": "code",
            "execution_count": 3,
            "metadata": {},
            "outputs": [
                {
                    "name": "stdout",
                    "output_type": "stream",
                    "text": [
                        "=== 工作流阶段 2.1：为模型预处理数据 (L3 缓存) ===\n",
                        "SUCCESS: L3 缓存已加载。\n",
                        "--- 阶段 2.1 成功完成。 ---\n"
                    ]
                }
            ],
            "source": [
                "if config and modules:\n",
                "    # 调用核心引擎中的预处理函数\n",
                "    # force_reprocess=True/False 可以方便地控制是否重建缓存\n",
                "    global_data_cache = run_preprocess_l3_cache(config, modules, force_reprocess=False)"
            ]
        },
        {
            "cell_type": "markdown",
            "metadata": {},
            "source": [
                "### 2.2 超参数优化"
            ]
        },
        {
            "cell_type": "code",
            "execution_count": 4,
            "metadata": {},
            "outputs": [],
            "source": [
                "# 同样，可以通过一个简单的开关来控制是否运行\n",
                "RUN_HPO = False\n",
                "\n",
                "if RUN_HPO and config and modules and 'global_data_cache' in locals():\n",
                "    # 调用核心引擎中的 HPO 函数\n",
                "    # HPO 的结果会自动更新到内存中的 config 字典里\n",
                "    run_hpo_train(config, modules, global_data_cache)"
            ]
        },
        {
            "cell_type": "markdown",
            "metadata": {},
            "source": [
                "### 2.3 模型训练"
            ]
        },
        {
            "cell_type": "code",
            "execution_count": null,
            "metadata": {},
            "outputs": [
                {
                    "name": "stdout",
                    "output_type": "stream",
                    "text": [
                        "=== 工作流阶段 2.3：训练所有模型 ===\n",
                        "\n",
                        "--- 2.3.1 基础模型训练 ---\n"
                    ]
                },
                {
                    "data": {
                        "application/vnd.jupyter.widget-view+json": {
                            "model_id": "6e65c70a9b0d41b597e943ab2c6c974b",
                            "version_major": 2,
                            "version_minor": 0
                        },
                        "text/plain": [
                            "训练基础模型:   0%|          | 0/8 [00:00<?, ?it/s]"
                        ]
                    },
                    "metadata": {},
                    "output_type": "display_data"
                },
                {
                    "name": "stdout",
                    "output_type": "stream",
                    "text": [
                        "--- 开始为 TCL科技 (000100.SZ) 进行 LGBM 模型训练 ---\n",
                        "INFO: 检测到已存在的完整训练结果。跳过训练。\n",
                        "\n",
                        "WARNNING: 未找到 TCL科技 (000100.SZ) 的 'lstm' 预处理 folds。跳过训练。\n",
                        "--- 开始为 TCL科技 (000100.SZ) 进行 TABTRANSFORMER 模型训练 ---\n",
                        "INFO: 检测到已存在的完整训练结果。跳过训练。\n",
                        "--- 开始为 兴业矿业 (000426.SZ) 进行 LGBM 模型训练 ---\n",
                        "INFO: 检测到上次未完成的训练任务。将尝试从断点恢复...\n",
                        "SUCCESS: 成功从第 53 个 fold 开始续训。\n",
                        "INFO: 开始对 兴业矿业 (000426.SZ) 进行跨 62 folds 的前向验证...\n"
                    ]
                },
                {
                    "data": {
                        "application/vnd.jupyter.widget-view+json": {
                            "model_id": "3cc3e07fd64b49da861511b37c129371",
                            "version_major": 2,
                            "version_minor": 0
                        },
                        "text/plain": [
                            "正在 兴业矿业 上训练 LGBM:  84%|########3 | 52/62 [00:00<?, ?it/s]"
                        ]
                    },
                    "metadata": {},
                    "output_type": "display_data"
                },
                {
                    "name": "stdout",
                    "output_type": "stream",
                    "text": [
                        "INFO: 滚动训练成功完成，准备训练最终模型。\n",
                        "INFO: 正在训练最终模型...\n",
                        "SUCCESS: 新版本模型已保存: lgbm_model_20251021_235158.pkl\n",
                        "INFO: 整个训练流程（包括最终模型）成功完成，已移除进度文件。\n",
                        "\n",
                        "WARNNING: 未找到 兴业矿业 (000426.SZ) 的 'lstm' 预处理 folds。跳过训练。\n",
                        "--- 开始为 兴业矿业 (000426.SZ) 进行 TABTRANSFORMER 模型训练 ---\n",
                        "INFO: 未检测到现有进度或完整模型，将从头开始全新训练。\n",
                        "INFO: PyTorch TabTransformerBuilder initialized with device: CUDA\n",
                        "INFO: 开始对 兴业矿业 (000426.SZ) 进行跨 62 folds 的前向验证...\n"
                    ]
                },
                {
                    "data": {
                        "application/vnd.jupyter.widget-view+json": {
                            "model_id": "080345e4d3764c5da3f19d772acdfddd",
                            "version_major": 2,
                            "version_minor": 0
                        },
                        "text/plain": [
                            "正在 兴业矿业 上训练 TABTRANSFORMER:   0%|          | 0/62 [00:00<?, ?it/s]"
                        ]
                    },
                    "metadata": {},
                    "output_type": "display_data"
                },
                {
                    "data": {
                        "application/vnd.jupyter.widget-view+json": {
                            "model_id": "889c89347e324c9f96cadb96851fec2b",
                            "version_major": 2,
                            "version_minor": 0
                        },
                        "text/plain": [
                            "    - Epochs (TabTransformer):   0%|          | 0/100 [00:00<?, ?it/s]"
                        ]
                    },
                    "metadata": {},
                    "output_type": "display_data"
                },
                {
                    "name": "stdout",
                    "output_type": "stream",
                    "text": [
                        "    - INFO: 早停机制已在第 27 轮触发。\n"
                    ]
                },
                {
                    "data": {
                        "application/vnd.jupyter.widget-view+json": {
                            "model_id": "c1a4a5b6964b4b80879414a6da715b26",
                            "version_major": 2,
                            "version_minor": 0
                        },
                        "text/plain": [
                            "    - Epochs (TabTransformer):   0%|          | 0/100 [00:00<?, ?it/s]"
                        ]
                    },
                    "metadata": {},
                    "output_type": "display_data"
                },
                {
                    "name": "stdout",
                    "output_type": "stream",
                    "text": [
                        "    - INFO: 早停机制已在第 27 轮触发。\n"
                    ]
                },
                {
                    "data": {
                        "application/vnd.jupyter.widget-view+json": {
                            "model_id": "081bffd9cdca4c4aa1dcbe7a7c9b7752",
                            "version_major": 2,
                            "version_minor": 0
                        },
                        "text/plain": [
                            "    - Epochs (TabTransformer):   0%|          | 0/100 [00:00<?, ?it/s]"
                        ]
                    },
                    "metadata": {},
                    "output_type": "display_data"
                },
                {
                    "name": "stdout",
                    "output_type": "stream",
                    "text": [
                        "    - INFO: 早停机制已在第 25 轮触发。\n"
                    ]
                },
                {
                    "data": {
                        "application/vnd.jupyter.widget-view+json": {
                            "model_id": "740b328c57ed40e1b4078246face3462",
                            "version_major": 2,
                            "version_minor": 0
                        },
                        "text/plain": [
                            "    - Epochs (TabTransformer):   0%|          | 0/100 [00:00<?, ?it/s]"
                        ]
                    },
                    "metadata": {},
                    "output_type": "display_data"
                },
                {
                    "name": "stdout",
                    "output_type": "stream",
                    "text": [
                        "    - INFO: 早停机制已在第 35 轮触发。\n"
                    ]
                },
                {
                    "data": {
                        "application/vnd.jupyter.widget-view+json": {
                            "model_id": "8d919e696ca548bfa93f37947cdfa764",
                            "version_major": 2,
                            "version_minor": 0
                        },
                        "text/plain": [
                            "    - Epochs (TabTransformer):   0%|          | 0/100 [00:00<?, ?it/s]"
                        ]
                    },
                    "metadata": {},
                    "output_type": "display_data"
                },
                {
                    "name": "stdout",
                    "output_type": "stream",
                    "text": [
                        "    - INFO: 早停机制已在第 23 轮触发。\n"
                    ]
                },
                {
                    "data": {
                        "application/vnd.jupyter.widget-view+json": {
                            "model_id": "00df75b5378d4646a482809623fa9881",
                            "version_major": 2,
                            "version_minor": 0
                        },
                        "text/plain": [
                            "    - Epochs (TabTransformer):   0%|          | 0/100 [00:00<?, ?it/s]"
                        ]
                    },
                    "metadata": {},
                    "output_type": "display_data"
                },
                {
                    "name": "stdout",
                    "output_type": "stream",
                    "text": [
                        "    - INFO: 早停机制已在第 26 轮触发。\n"
                    ]
                },
                {
                    "data": {
                        "application/vnd.jupyter.widget-view+json": {
                            "model_id": "edda17ad11ef40ffb5b83dda2d418eec",
                            "version_major": 2,
                            "version_minor": 0
                        },
                        "text/plain": [
                            "    - Epochs (TabTransformer):   0%|          | 0/100 [00:00<?, ?it/s]"
                        ]
                    },
                    "metadata": {},
                    "output_type": "display_data"
                },
                {
                    "name": "stdout",
                    "output_type": "stream",
                    "text": [
                        "    - INFO: 早停机制已在第 25 轮触发。\n"
                    ]
                },
                {
                    "data": {
                        "application/vnd.jupyter.widget-view+json": {
                            "model_id": "5c56af9b764d4e659382ef5d39978435",
                            "version_major": 2,
                            "version_minor": 0
                        },
                        "text/plain": [
                            "    - Epochs (TabTransformer):   0%|          | 0/100 [00:00<?, ?it/s]"
                        ]
                    },
                    "metadata": {},
                    "output_type": "display_data"
                },
                {
                    "name": "stdout",
                    "output_type": "stream",
                    "text": [
                        "    - INFO: 早停机制已在第 21 轮触发。\n"
                    ]
                },
                {
                    "data": {
                        "application/vnd.jupyter.widget-view+json": {
                            "model_id": "18ce647630d84d53b382af7a88d97a66",
                            "version_major": 2,
                            "version_minor": 0
                        },
                        "text/plain": [
                            "    - Epochs (TabTransformer):   0%|          | 0/100 [00:00<?, ?it/s]"
                        ]
                    },
                    "metadata": {},
                    "output_type": "display_data"
                },
                {
                    "name": "stdout",
                    "output_type": "stream",
                    "text": [
                        "    - INFO: 早停机制已在第 23 轮触发。\n"
                    ]
                },
                {
                    "data": {
                        "application/vnd.jupyter.widget-view+json": {
                            "model_id": "3dbdd73a47a5483cbf9fc0ab1289395a",
                            "version_major": 2,
                            "version_minor": 0
                        },
                        "text/plain": [
                            "    - Epochs (TabTransformer):   0%|          | 0/100 [00:00<?, ?it/s]"
                        ]
                    },
                    "metadata": {},
                    "output_type": "display_data"
                },
                {
                    "name": "stdout",
                    "output_type": "stream",
                    "text": [
                        "    - INFO: 早停机制已在第 29 轮触发。\n"
                    ]
                },
                {
                    "data": {
                        "application/vnd.jupyter.widget-view+json": {
                            "model_id": "1e3ebcb5ec4e479f942e013ab508f90f",
                            "version_major": 2,
                            "version_minor": 0
                        },
                        "text/plain": [
                            "    - Epochs (TabTransformer):   0%|          | 0/100 [00:00<?, ?it/s]"
                        ]
                    },
                    "metadata": {},
                    "output_type": "display_data"
                },
                {
                    "name": "stdout",
                    "output_type": "stream",
                    "text": [
                        "    - INFO: 早停机制已在第 25 轮触发。\n"
                    ]
                },
                {
                    "data": {
                        "application/vnd.jupyter.widget-view+json": {
                            "model_id": "d4743c6b689e47b6930405b48be89ef5",
                            "version_major": 2,
                            "version_minor": 0
                        },
                        "text/plain": [
                            "    - Epochs (TabTransformer):   0%|          | 0/100 [00:00<?, ?it/s]"
                        ]
                    },
                    "metadata": {},
                    "output_type": "display_data"
                },
                {
                    "name": "stdout",
                    "output_type": "stream",
                    "text": [
                        "    - INFO: 早停机制已在第 25 轮触发。\n"
                    ]
                },
                {
                    "data": {
                        "application/vnd.jupyter.widget-view+json": {
                            "model_id": "c63452adecb1415d9f33cfcf9fab2b7b",
                            "version_major": 2,
                            "version_minor": 0
                        },
                        "text/plain": [
                            "    - Epochs (TabTransformer):   0%|          | 0/100 [00:00<?, ?it/s]"
                        ]
                    },
                    "metadata": {},
                    "output_type": "display_data"
                },
                {
                    "name": "stdout",
                    "output_type": "stream",
                    "text": [
                        "    - INFO: 早停机制已在第 43 轮触发。\n"
                    ]
                },
                {
                    "data": {
                        "application/vnd.jupyter.widget-view+json": {
                            "model_id": "2364ac6eebd24c30ba5880869abc3935",
                            "version_major": 2,
                            "version_minor": 0
                        },
                        "text/plain": [
                            "    - Epochs (TabTransformer):   0%|          | 0/100 [00:00<?, ?it/s]"
                        ]
                    },
                    "metadata": {},
                    "output_type": "display_data"
                },
                {
                    "name": "stdout",
                    "output_type": "stream",
                    "text": [
                        "    - INFO: 早停机制已在第 21 轮触发。\n"
                    ]
                },
                {
                    "data": {
                        "application/vnd.jupyter.widget-view+json": {
                            "model_id": "69a80adf52ca4390b6454a2e961ee8fb",
                            "version_major": 2,
                            "version_minor": 0
                        },
                        "text/plain": [
                            "    - Epochs (TabTransformer):   0%|          | 0/100 [00:00<?, ?it/s]"
                        ]
                    },
                    "metadata": {},
                    "output_type": "display_data"
                },
                {
                    "name": "stdout",
                    "output_type": "stream",
                    "text": [
                        "    - INFO: 早停机制已在第 59 轮触发。\n"
                    ]
                },
                {
                    "data": {
                        "application/vnd.jupyter.widget-view+json": {
                            "model_id": "aefacd22ae134715b0be18832a41d78a",
                            "version_major": 2,
                            "version_minor": 0
                        },
                        "text/plain": [
                            "    - Epochs (TabTransformer):   0%|          | 0/100 [00:00<?, ?it/s]"
                        ]
                    },
                    "metadata": {},
                    "output_type": "display_data"
                },
                {
                    "name": "stdout",
                    "output_type": "stream",
                    "text": [
                        "    - INFO: 早停机制已在第 25 轮触发。\n"
                    ]
                },
                {
                    "data": {
                        "application/vnd.jupyter.widget-view+json": {
                            "model_id": "23f1ff9e178d4f2ab9f269a7f792cf83",
                            "version_major": 2,
                            "version_minor": 0
                        },
                        "text/plain": [
                            "    - Epochs (TabTransformer):   0%|          | 0/100 [00:00<?, ?it/s]"
                        ]
                    },
                    "metadata": {},
                    "output_type": "display_data"
                },
                {
                    "name": "stdout",
                    "output_type": "stream",
                    "text": [
                        "    - INFO: 早停机制已在第 43 轮触发。\n"
                    ]
                },
                {
                    "data": {
                        "application/vnd.jupyter.widget-view+json": {
                            "model_id": "6c7e3d18fe814699be32fbef7bcc1f14",
                            "version_major": 2,
                            "version_minor": 0
                        },
                        "text/plain": [
                            "    - Epochs (TabTransformer):   0%|          | 0/100 [00:00<?, ?it/s]"
                        ]
                    },
                    "metadata": {},
                    "output_type": "display_data"
                },
                {
                    "name": "stdout",
                    "output_type": "stream",
                    "text": [
                        "    - INFO: 早停机制已在第 22 轮触发。\n"
                    ]
                },
                {
                    "data": {
                        "application/vnd.jupyter.widget-view+json": {
                            "model_id": "bda1f9cc35df45d4aafa8150103fe8c0",
                            "version_major": 2,
                            "version_minor": 0
                        },
                        "text/plain": [
                            "    - Epochs (TabTransformer):   0%|          | 0/100 [00:00<?, ?it/s]"
                        ]
                    },
                    "metadata": {},
                    "output_type": "display_data"
                },
                {
                    "name": "stdout",
                    "output_type": "stream",
                    "text": [
                        "    - INFO: 早停机制已在第 31 轮触发。\n"
                    ]
                },
                {
                    "data": {
                        "application/vnd.jupyter.widget-view+json": {
                            "model_id": "25bb2e35597e4cfb9c51409fe2769c17",
                            "version_major": 2,
                            "version_minor": 0
                        },
                        "text/plain": [
                            "    - Epochs (TabTransformer):   0%|          | 0/100 [00:00<?, ?it/s]"
                        ]
                    },
                    "metadata": {},
                    "output_type": "display_data"
                },
                {
                    "name": "stdout",
                    "output_type": "stream",
                    "text": [
                        "    - INFO: 早停机制已在第 22 轮触发。\n"
                    ]
                },
                {
                    "data": {
                        "application/vnd.jupyter.widget-view+json": {
                            "model_id": "94f67caeeb8c46ad8753f520dfe8d6ad",
                            "version_major": 2,
                            "version_minor": 0
                        },
                        "text/plain": [
                            "    - Epochs (TabTransformer):   0%|          | 0/100 [00:00<?, ?it/s]"
                        ]
                    },
                    "metadata": {},
                    "output_type": "display_data"
                },
                {
                    "name": "stdout",
                    "output_type": "stream",
                    "text": [
                        "    - INFO: 早停机制已在第 24 轮触发。\n"
                    ]
                },
                {
                    "data": {
                        "application/vnd.jupyter.widget-view+json": {
                            "model_id": "4847dd95708a493d82fd2268ee019a10",
                            "version_major": 2,
                            "version_minor": 0
                        },
                        "text/plain": [
                            "    - Epochs (TabTransformer):   0%|          | 0/100 [00:00<?, ?it/s]"
                        ]
                    },
                    "metadata": {},
                    "output_type": "display_data"
                },
                {
                    "name": "stdout",
                    "output_type": "stream",
                    "text": [
                        "    - INFO: 早停机制已在第 25 轮触发。\n"
                    ]
                },
                {
                    "data": {
                        "application/vnd.jupyter.widget-view+json": {
                            "model_id": "33d52d6d9cb8447587a8e04fa07fd7f9",
                            "version_major": 2,
                            "version_minor": 0
                        },
                        "text/plain": [
                            "    - Epochs (TabTransformer):   0%|          | 0/100 [00:00<?, ?it/s]"
                        ]
                    },
                    "metadata": {},
                    "output_type": "display_data"
                },
                {
                    "name": "stdout",
                    "output_type": "stream",
                    "text": [
                        "    - INFO: 早停机制已在第 25 轮触发。\n"
                    ]
                },
                {
                    "data": {
                        "application/vnd.jupyter.widget-view+json": {
                            "model_id": "511c5bfe22154bfe8f2b607409fd44e3",
                            "version_major": 2,
                            "version_minor": 0
                        },
                        "text/plain": [
                            "    - Epochs (TabTransformer):   0%|          | 0/100 [00:00<?, ?it/s]"
                        ]
                    },
                    "metadata": {},
                    "output_type": "display_data"
                },
                {
                    "name": "stdout",
                    "output_type": "stream",
                    "text": [
                        "    - INFO: 早停机制已在第 21 轮触发。\n"
                    ]
                },
                {
                    "data": {
                        "application/vnd.jupyter.widget-view+json": {
                            "model_id": "904633653c3b4dcab47286c5de0435c2",
                            "version_major": 2,
                            "version_minor": 0
                        },
                        "text/plain": [
                            "    - Epochs (TabTransformer):   0%|          | 0/100 [00:00<?, ?it/s]"
                        ]
                    },
                    "metadata": {},
                    "output_type": "display_data"
                },
                {
                    "name": "stdout",
                    "output_type": "stream",
                    "text": [
                        "    - INFO: 早停机制已在第 78 轮触发。\n"
                    ]
                },
                {
                    "data": {
                        "application/vnd.jupyter.widget-view+json": {
                            "model_id": "845d6729d1ce4b43afe09463902670cf",
                            "version_major": 2,
                            "version_minor": 0
                        },
                        "text/plain": [
                            "    - Epochs (TabTransformer):   0%|          | 0/100 [00:00<?, ?it/s]"
                        ]
                    },
                    "metadata": {},
                    "output_type": "display_data"
                },
                {
                    "data": {
                        "application/vnd.jupyter.widget-view+json": {
                            "model_id": "32849e81d15649aebfd93d3219e3e45e",
                            "version_major": 2,
                            "version_minor": 0
                        },
                        "text/plain": [
                            "    - Epochs (TabTransformer):   0%|          | 0/100 [00:00<?, ?it/s]"
                        ]
                    },
                    "metadata": {},
                    "output_type": "display_data"
                },
                {
                    "name": "stdout",
                    "output_type": "stream",
                    "text": [
                        "    - INFO: 早停机制已在第 49 轮触发。\n"
                    ]
                },
                {
                    "data": {
                        "application/vnd.jupyter.widget-view+json": {
                            "model_id": "5db8da4cb95248d18f7a753426c40782",
                            "version_major": 2,
                            "version_minor": 0
                        },
                        "text/plain": [
                            "    - Epochs (TabTransformer):   0%|          | 0/100 [00:00<?, ?it/s]"
                        ]
                    },
                    "metadata": {},
                    "output_type": "display_data"
                },
                {
                    "name": "stdout",
                    "output_type": "stream",
                    "text": [
                        "    - INFO: 早停机制已在第 23 轮触发。\n"
                    ]
                },
                {
                    "data": {
                        "application/vnd.jupyter.widget-view+json": {
                            "model_id": "7cc03a2b2dee447eabb11e33bb1e76d9",
                            "version_major": 2,
                            "version_minor": 0
                        },
                        "text/plain": [
                            "    - Epochs (TabTransformer):   0%|          | 0/100 [00:00<?, ?it/s]"
                        ]
                    },
                    "metadata": {},
                    "output_type": "display_data"
                },
                {
                    "name": "stdout",
                    "output_type": "stream",
                    "text": [
                        "    - INFO: 早停机制已在第 44 轮触发。\n"
                    ]
                },
                {
                    "data": {
                        "application/vnd.jupyter.widget-view+json": {
                            "model_id": "3a7833fd925d49e7bc19681182d858bf",
                            "version_major": 2,
                            "version_minor": 0
                        },
                        "text/plain": [
                            "    - Epochs (TabTransformer):   0%|          | 0/100 [00:00<?, ?it/s]"
                        ]
                    },
                    "metadata": {},
                    "output_type": "display_data"
                },
                {
                    "name": "stdout",
                    "output_type": "stream",
                    "text": [
                        "    - INFO: 早停机制已在第 23 轮触发。\n"
                    ]
                },
                {
                    "data": {
                        "application/vnd.jupyter.widget-view+json": {
                            "model_id": "c798c623aa4f4a4aae6b6f3e4243d16c",
                            "version_major": 2,
                            "version_minor": 0
                        },
                        "text/plain": [
                            "    - Epochs (TabTransformer):   0%|          | 0/100 [00:00<?, ?it/s]"
                        ]
                    },
                    "metadata": {},
                    "output_type": "display_data"
                },
                {
                    "name": "stdout",
                    "output_type": "stream",
                    "text": [
                        "    - INFO: 早停机制已在第 21 轮触发。\n"
                    ]
                },
                {
                    "data": {
                        "application/vnd.jupyter.widget-view+json": {
                            "model_id": "1aa48f106edc4809b98473b16e03a757",
                            "version_major": 2,
                            "version_minor": 0
                        },
                        "text/plain": [
                            "    - Epochs (TabTransformer):   0%|          | 0/100 [00:00<?, ?it/s]"
                        ]
                    },
                    "metadata": {},
                    "output_type": "display_data"
                },
                {
                    "name": "stdout",
                    "output_type": "stream",
                    "text": [
                        "    - INFO: 早停机制已在第 25 轮触发。\n"
                    ]
                },
                {
                    "data": {
                        "application/vnd.jupyter.widget-view+json": {
                            "model_id": "229a2a8e9f7245c69b2c50d334cba54a",
                            "version_major": 2,
                            "version_minor": 0
                        },
                        "text/plain": [
                            "    - Epochs (TabTransformer):   0%|          | 0/100 [00:00<?, ?it/s]"
                        ]
                    },
                    "metadata": {},
                    "output_type": "display_data"
                },
                {
                    "name": "stdout",
                    "output_type": "stream",
                    "text": [
                        "    - INFO: 早停机制已在第 27 轮触发。\n"
                    ]
                },
                {
                    "data": {
                        "application/vnd.jupyter.widget-view+json": {
                            "model_id": "71f33576540a464ebc7f25d8ec77ed76",
                            "version_major": 2,
                            "version_minor": 0
                        },
                        "text/plain": [
                            "    - Epochs (TabTransformer):   0%|          | 0/100 [00:00<?, ?it/s]"
                        ]
                    },
                    "metadata": {},
                    "output_type": "display_data"
                },
                {
                    "name": "stdout",
                    "output_type": "stream",
                    "text": [
                        "    - INFO: 早停机制已在第 24 轮触发。\n"
                    ]
                },
                {
                    "data": {
                        "application/vnd.jupyter.widget-view+json": {
                            "model_id": "a7f70c8d7ca64dc5ac9fa43dabbff1e3",
                            "version_major": 2,
                            "version_minor": 0
                        },
                        "text/plain": [
                            "    - Epochs (TabTransformer):   0%|          | 0/100 [00:00<?, ?it/s]"
                        ]
                    },
                    "metadata": {},
                    "output_type": "display_data"
                },
                {
                    "name": "stdout",
                    "output_type": "stream",
                    "text": [
                        "    - INFO: 早停机制已在第 22 轮触发。\n"
                    ]
                },
                {
                    "data": {
                        "application/vnd.jupyter.widget-view+json": {
                            "model_id": "c0e2a5b80ec54d4d9d6b53ca21bf0e43",
                            "version_major": 2,
                            "version_minor": 0
                        },
                        "text/plain": [
                            "    - Epochs (TabTransformer):   0%|          | 0/100 [00:00<?, ?it/s]"
                        ]
                    },
                    "metadata": {},
                    "output_type": "display_data"
                },
                {
                    "name": "stdout",
                    "output_type": "stream",
                    "text": [
                        "    - INFO: 早停机制已在第 22 轮触发。\n"
                    ]
                },
                {
                    "data": {
                        "application/vnd.jupyter.widget-view+json": {
                            "model_id": "bc6469a48ae540049d79fca47e761b59",
                            "version_major": 2,
                            "version_minor": 0
                        },
                        "text/plain": [
                            "    - Epochs (TabTransformer):   0%|          | 0/100 [00:00<?, ?it/s]"
                        ]
                    },
                    "metadata": {},
                    "output_type": "display_data"
                },
                {
                    "name": "stdout",
                    "output_type": "stream",
                    "text": [
                        "    - INFO: 早停机制已在第 23 轮触发。\n"
                    ]
                },
                {
                    "data": {
                        "application/vnd.jupyter.widget-view+json": {
                            "model_id": "0050a7fae3f540148fd4dca564b7b182",
                            "version_major": 2,
                            "version_minor": 0
                        },
                        "text/plain": [
                            "    - Epochs (TabTransformer):   0%|          | 0/100 [00:00<?, ?it/s]"
                        ]
                    },
                    "metadata": {},
                    "output_type": "display_data"
                },
                {
                    "name": "stdout",
                    "output_type": "stream",
                    "text": [
                        "    - INFO: 早停机制已在第 24 轮触发。\n"
                    ]
                },
                {
                    "data": {
                        "application/vnd.jupyter.widget-view+json": {
                            "model_id": "75070026fe9543ba92153c250bf8bfa8",
                            "version_major": 2,
                            "version_minor": 0
                        },
                        "text/plain": [
                            "    - Epochs (TabTransformer):   0%|          | 0/100 [00:00<?, ?it/s]"
                        ]
                    },
                    "metadata": {},
                    "output_type": "display_data"
                },
                {
                    "name": "stdout",
                    "output_type": "stream",
                    "text": [
                        "    - INFO: 早停机制已在第 31 轮触发。\n"
                    ]
                },
                {
                    "data": {
                        "application/vnd.jupyter.widget-view+json": {
                            "model_id": "572da4fda52d4489bafbb49f8ca6a037",
                            "version_major": 2,
                            "version_minor": 0
                        },
                        "text/plain": [
                            "    - Epochs (TabTransformer):   0%|          | 0/100 [00:00<?, ?it/s]"
                        ]
                    },
                    "metadata": {},
                    "output_type": "display_data"
                },
                {
                    "name": "stdout",
                    "output_type": "stream",
                    "text": [
                        "    - INFO: 早停机制已在第 30 轮触发。\n"
                    ]
                },
                {
                    "data": {
                        "application/vnd.jupyter.widget-view+json": {
                            "model_id": "6d02934b816349f581b447e46a47be31",
                            "version_major": 2,
                            "version_minor": 0
                        },
                        "text/plain": [
                            "    - Epochs (TabTransformer):   0%|          | 0/100 [00:00<?, ?it/s]"
                        ]
                    },
                    "metadata": {},
                    "output_type": "display_data"
                },
                {
                    "name": "stdout",
                    "output_type": "stream",
                    "text": [
                        "    - INFO: 早停机制已在第 31 轮触发。\n"
                    ]
                },
                {
                    "data": {
                        "application/vnd.jupyter.widget-view+json": {
                            "model_id": "d6303437ff9342eb82a5382968a1f4d6",
                            "version_major": 2,
                            "version_minor": 0
                        },
                        "text/plain": [
                            "    - Epochs (TabTransformer):   0%|          | 0/100 [00:00<?, ?it/s]"
                        ]
                    },
                    "metadata": {},
                    "output_type": "display_data"
                },
                {
                    "name": "stdout",
                    "output_type": "stream",
                    "text": [
                        "    - INFO: 早停机制已在第 47 轮触发。\n"
                    ]
                },
                {
                    "data": {
                        "application/vnd.jupyter.widget-view+json": {
                            "model_id": "53824e842091494e9786bdf1b7aeab72",
                            "version_major": 2,
                            "version_minor": 0
                        },
                        "text/plain": [
                            "    - Epochs (TabTransformer):   0%|          | 0/100 [00:00<?, ?it/s]"
                        ]
                    },
                    "metadata": {},
                    "output_type": "display_data"
                },
                {
                    "name": "stdout",
                    "output_type": "stream",
                    "text": [
                        "    - INFO: 早停机制已在第 21 轮触发。\n"
                    ]
                },
                {
                    "data": {
                        "application/vnd.jupyter.widget-view+json": {
                            "model_id": "a03a0727c9834445af556f8058baa09d",
                            "version_major": 2,
                            "version_minor": 0
                        },
                        "text/plain": [
                            "    - Epochs (TabTransformer):   0%|          | 0/100 [00:00<?, ?it/s]"
                        ]
                    },
                    "metadata": {},
                    "output_type": "display_data"
                },
                {
                    "name": "stdout",
                    "output_type": "stream",
                    "text": [
                        "    - INFO: 早停机制已在第 40 轮触发。\n"
                    ]
                },
                {
                    "data": {
                        "application/vnd.jupyter.widget-view+json": {
                            "model_id": "e60f76d4affa46659a13f6fb616f6e65",
                            "version_major": 2,
                            "version_minor": 0
                        },
                        "text/plain": [
                            "    - Epochs (TabTransformer):   0%|          | 0/100 [00:00<?, ?it/s]"
                        ]
                    },
                    "metadata": {},
                    "output_type": "display_data"
                },
                {
                    "name": "stdout",
                    "output_type": "stream",
                    "text": [
                        "    - INFO: 早停机制已在第 40 轮触发。\n"
                    ]
                },
                {
                    "data": {
                        "application/vnd.jupyter.widget-view+json": {
                            "model_id": "b0f10cd64fad4dc7bcc3c0dfc7421b1d",
                            "version_major": 2,
                            "version_minor": 0
                        },
                        "text/plain": [
                            "    - Epochs (TabTransformer):   0%|          | 0/100 [00:00<?, ?it/s]"
                        ]
                    },
                    "metadata": {},
                    "output_type": "display_data"
                },
                {
                    "name": "stdout",
                    "output_type": "stream",
                    "text": [
                        "    - INFO: 早停机制已在第 25 轮触发。\n"
                    ]
                },
                {
                    "data": {
                        "application/vnd.jupyter.widget-view+json": {
                            "model_id": "232199056c4d4227a97e6f11989ca3da",
                            "version_major": 2,
                            "version_minor": 0
                        },
                        "text/plain": [
                            "    - Epochs (TabTransformer):   0%|          | 0/100 [00:00<?, ?it/s]"
                        ]
                    },
                    "metadata": {},
                    "output_type": "display_data"
                },
                {
                    "name": "stdout",
                    "output_type": "stream",
                    "text": [
                        "    - INFO: 早停机制已在第 22 轮触发。\n"
                    ]
                },
                {
                    "data": {
                        "application/vnd.jupyter.widget-view+json": {
                            "model_id": "f82b2ac33850421c955650a59b0c8f2e",
                            "version_major": 2,
                            "version_minor": 0
                        },
                        "text/plain": [
                            "    - Epochs (TabTransformer):   0%|          | 0/100 [00:00<?, ?it/s]"
                        ]
                    },
                    "metadata": {},
                    "output_type": "display_data"
                },
                {
                    "name": "stdout",
                    "output_type": "stream",
                    "text": [
                        "    - INFO: 早停机制已在第 32 轮触发。\n"
                    ]
                },
                {
                    "data": {
                        "application/vnd.jupyter.widget-view+json": {
                            "model_id": "c75ff165a79d40a2af7ac2649ebf1fc7",
                            "version_major": 2,
                            "version_minor": 0
                        },
                        "text/plain": [
                            "    - Epochs (TabTransformer):   0%|          | 0/100 [00:00<?, ?it/s]"
                        ]
                    },
                    "metadata": {},
                    "output_type": "display_data"
                },
                {
                    "name": "stdout",
                    "output_type": "stream",
                    "text": [
                        "    - INFO: 早停机制已在第 38 轮触发。\n"
                    ]
                },
                {
                    "data": {
                        "application/vnd.jupyter.widget-view+json": {
                            "model_id": "05fd7b59e4534f8db275b3bbe41cf86e",
                            "version_major": 2,
                            "version_minor": 0
                        },
                        "text/plain": [
                            "    - Epochs (TabTransformer):   0%|          | 0/100 [00:00<?, ?it/s]"
                        ]
                    },
                    "metadata": {},
                    "output_type": "display_data"
                },
                {
                    "name": "stdout",
                    "output_type": "stream",
                    "text": [
                        "    - INFO: 早停机制已在第 34 轮触发。\n"
                    ]
                },
                {
                    "data": {
                        "application/vnd.jupyter.widget-view+json": {
                            "model_id": "1d6d6476caa546aebd6adee72cd10f8e",
                            "version_major": 2,
                            "version_minor": 0
                        },
                        "text/plain": [
                            "    - Epochs (TabTransformer):   0%|          | 0/100 [00:00<?, ?it/s]"
                        ]
                    },
                    "metadata": {},
                    "output_type": "display_data"
                },
                {
                    "name": "stdout",
                    "output_type": "stream",
                    "text": [
                        "    - INFO: 早停机制已在第 60 轮触发。\n"
                    ]
                },
                {
                    "data": {
                        "application/vnd.jupyter.widget-view+json": {
                            "model_id": "da89d85ed80e4bd99bbc18ea07d9bbd9",
                            "version_major": 2,
                            "version_minor": 0
                        },
                        "text/plain": [
                            "    - Epochs (TabTransformer):   0%|          | 0/100 [00:00<?, ?it/s]"
                        ]
                    },
                    "metadata": {},
                    "output_type": "display_data"
                },
                {
                    "name": "stdout",
                    "output_type": "stream",
                    "text": [
                        "    - INFO: 早停机制已在第 21 轮触发。\n"
                    ]
                },
                {
                    "data": {
                        "application/vnd.jupyter.widget-view+json": {
                            "model_id": "8b93aee1d8574a31aecf22da2d7a25f5",
                            "version_major": 2,
                            "version_minor": 0
                        },
                        "text/plain": [
                            "    - Epochs (TabTransformer):   0%|          | 0/100 [00:00<?, ?it/s]"
                        ]
                    },
                    "metadata": {},
                    "output_type": "display_data"
                },
                {
                    "name": "stdout",
                    "output_type": "stream",
                    "text": [
                        "    - INFO: 早停机制已在第 41 轮触发。\n"
                    ]
                },
                {
                    "data": {
                        "application/vnd.jupyter.widget-view+json": {
                            "model_id": "6bb73fb00ba84679887dae5fdeea02f0",
                            "version_major": 2,
                            "version_minor": 0
                        },
                        "text/plain": [
                            "    - Epochs (TabTransformer):   0%|          | 0/100 [00:00<?, ?it/s]"
                        ]
                    },
                    "metadata": {},
                    "output_type": "display_data"
                },
                {
                    "name": "stdout",
                    "output_type": "stream",
                    "text": [
                        "    - INFO: 早停机制已在第 48 轮触发。\n"
                    ]
                },
                {
                    "data": {
                        "application/vnd.jupyter.widget-view+json": {
                            "model_id": "5607f59a35374d8cab0376da762d7eb1",
                            "version_major": 2,
                            "version_minor": 0
                        },
                        "text/plain": [
                            "    - Epochs (TabTransformer):   0%|          | 0/100 [00:00<?, ?it/s]"
                        ]
                    },
                    "metadata": {},
                    "output_type": "display_data"
                },
                {
                    "name": "stdout",
                    "output_type": "stream",
                    "text": [
                        "    - INFO: 早停机制已在第 22 轮触发。\n"
                    ]
                },
                {
                    "data": {
                        "application/vnd.jupyter.widget-view+json": {
                            "model_id": "ea559802b9a7438584bdcc5dab2488f4",
                            "version_major": 2,
                            "version_minor": 0
                        },
                        "text/plain": [
                            "    - Epochs (TabTransformer):   0%|          | 0/100 [00:00<?, ?it/s]"
                        ]
                    },
                    "metadata": {},
                    "output_type": "display_data"
                },
                {
                    "name": "stdout",
                    "output_type": "stream",
                    "text": [
                        "    - INFO: 早停机制已在第 21 轮触发。\n"
                    ]
                },
                {
                    "data": {
                        "application/vnd.jupyter.widget-view+json": {
                            "model_id": "3d3d547c20f64c7088f3e8c174ee6245",
                            "version_major": 2,
                            "version_minor": 0
                        },
                        "text/plain": [
                            "    - Epochs (TabTransformer):   0%|          | 0/100 [00:00<?, ?it/s]"
                        ]
                    },
                    "metadata": {},
                    "output_type": "display_data"
                },
                {
                    "name": "stdout",
                    "output_type": "stream",
                    "text": [
                        "    - INFO: 早停机制已在第 46 轮触发。\n"
                    ]
                },
                {
                    "data": {
                        "application/vnd.jupyter.widget-view+json": {
                            "model_id": "ea86191ee9f046bb9b6bc9fdf24e6ce7",
                            "version_major": 2,
                            "version_minor": 0
                        },
                        "text/plain": [
                            "    - Epochs (TabTransformer):   0%|          | 0/100 [00:00<?, ?it/s]"
                        ]
                    },
                    "metadata": {},
                    "output_type": "display_data"
                },
                {
                    "name": "stdout",
                    "output_type": "stream",
                    "text": [
                        "    - INFO: 早停机制已在第 22 轮触发。\n"
                    ]
                },
                {
                    "data": {
                        "application/vnd.jupyter.widget-view+json": {
                            "model_id": "9246c12df4fd498090bab52f50b00d47",
                            "version_major": 2,
                            "version_minor": 0
                        },
                        "text/plain": [
                            "    - Epochs (TabTransformer):   0%|          | 0/100 [00:00<?, ?it/s]"
                        ]
                    },
                    "metadata": {},
                    "output_type": "display_data"
                },
                {
                    "name": "stdout",
                    "output_type": "stream",
                    "text": [
                        "    - INFO: 早停机制已在第 22 轮触发。\n"
                    ]
                },
                {
                    "data": {
                        "application/vnd.jupyter.widget-view+json": {
                            "model_id": "f84d08b967f94a6ea1f8e431ebb76b57",
                            "version_major": 2,
                            "version_minor": 0
                        },
                        "text/plain": [
                            "    - Epochs (TabTransformer):   0%|          | 0/100 [00:00<?, ?it/s]"
                        ]
                    },
                    "metadata": {},
                    "output_type": "display_data"
                },
                {
                    "name": "stdout",
                    "output_type": "stream",
                    "text": [
                        "    - INFO: 早停机制已在第 26 轮触发。\n"
                    ]
                },
                {
                    "data": {
                        "application/vnd.jupyter.widget-view+json": {
                            "model_id": "2f40eb95767c4a28afedba2580c89a96",
                            "version_major": 2,
                            "version_minor": 0
                        },
                        "text/plain": [
                            "    - Epochs (TabTransformer):   0%|          | 0/100 [00:00<?, ?it/s]"
                        ]
                    },
                    "metadata": {},
                    "output_type": "display_data"
                },
                {
                    "name": "stdout",
                    "output_type": "stream",
                    "text": [
                        "    - INFO: 早停机制已在第 32 轮触发。\n"
                    ]
                },
                {
                    "data": {
                        "application/vnd.jupyter.widget-view+json": {
                            "model_id": "8f685ace2d8d41bf83dceafe2f74452f",
                            "version_major": 2,
                            "version_minor": 0
                        },
                        "text/plain": [
                            "    - Epochs (TabTransformer):   0%|          | 0/100 [00:00<?, ?it/s]"
                        ]
                    },
                    "metadata": {},
                    "output_type": "display_data"
                },
                {
                    "name": "stdout",
                    "output_type": "stream",
                    "text": [
                        "    - INFO: 早停机制已在第 31 轮触发。\n",
                        "INFO: 滚动训练成功完成，准备训练最终模型。\n",
                        "INFO: 正在训练最终模型...\n",
                        "    - INFO: Starting final TabTransformer model training...\n"
                    ]
                },
                {
                    "name": "stderr",
                    "output_type": "stream",
                    "text": [
                        "d:\\Project\\Command\\Python\\Neural\\Wolf_of_Wall_Street\\model\\builders\\tabtransformer_builder.py:98: UserWarning: The given NumPy array is not writable, and PyTorch does not support non-writable tensors. This means writing to this tensor will result in undefined behavior. You may want to copy the array to protect its data or make it writable before converting it to a tensor. This type of warning will be suppressed for the rest of this program. (Triggered internally at C:\\actions-runner\\_work\\pytorch\\pytorch\\pytorch\\torch\\csrc\\utils\\tensor_numpy.cpp:209.)\n",
                        "  y_tensor = torch.from_numpy(y_series.values).float().unsqueeze(1)\n"
                    ]
                },
                {
                    "name": "stdout",
                    "output_type": "stream",
                    "text": [
                        "    - SUCCESS: Final TabTransformer model training complete.\n",
                        "SUCCESS: TABTRANSFORMER Encoders 已保存: tabtransformer_encoders_20251021_235841.pkl\n",
                        "SUCCESS: 新版本模型已保存: tabtransformer_model_20251021_235841.pt\n",
                        "INFO: 整个训练流程（包括最终模型）成功完成，已移除进度文件。\n",
                        "--- 开始为 孚日股份 (002083.SZ) 进行 LGBM 模型训练 ---\n",
                        "INFO: 未检测到现有进度或完整模型，将从头开始全新训练。\n",
                        "INFO: 开始对 孚日股份 (002083.SZ) 进行跨 69 folds 的前向验证...\n"
                    ]
                },
                {
                    "data": {
                        "application/vnd.jupyter.widget-view+json": {
                            "model_id": "ac5699bf641f4ea4b61cab7930e12f3c",
                            "version_major": 2,
                            "version_minor": 0
                        },
                        "text/plain": [
                            "正在 孚日股份 上训练 LGBM:   0%|          | 0/69 [00:00<?, ?it/s]"
                        ]
                    },
                    "metadata": {},
                    "output_type": "display_data"
                }
            ],
            "source": [
                "if config and modules and 'global_data_cache' in locals():\n",
                "    # 调用核心引擎中的模型训练函数\n",
                "    # 同样可以通过开关控制是否强制重训\n",
                "    all_ic_history = run_all_models_train(\n",
                "        config, \n",
                "        modules, \n",
                "        global_data_cache, \n",
                "        force_retrain_base=False, \n",
                "        force_retrain_fuser=False\n",
                "    )"
            ]
        },
        {
            "cell_type": "markdown",
            "metadata": {},
            "source": [
                "### 2.4 结果聚合、评估与可视化"
            ]
        },
        {
            "cell_type": "code",
            "execution_count": null,
            "metadata": {},
            "outputs": [],
            "source": [
                "if config and modules and 'all_ic_history' in locals() and all_ic_history:\n",
                "    # 调用核心引擎中的评估和可视化函数\n",
                "    evaluation_summary, backtest_summary, final_eval_df = run_performance_evaluation(config, modules, all_ic_history)\n",
                "    \n",
                "    # 只有在有结果时才进行可视化\n",
                "    if evaluation_summary is not None or backtest_summary is not None:\n",
                "        run_results_visualization(config, modules, evaluation_summary, backtest_summary, final_eval_df)"
            ]
        }
    ],
    "metadata": {
        "...": "...",
        "kernelspec": {
            "display_name": ".venv",
            "language": "python",
            "name": "python3"
        },
        "language_info": {
            "codemirror_mode": {
                "name": "ipython",
                "version": 3
            },
            "file_extension": ".py",
            "mimetype": "text/x-python",
            "name": "python",
            "nbconvert_exporter": "python",
            "pygments_lexer": "ipython3",
            "version": "3.13.0"
        }
    },
    "nbformat": 4,
    "nbformat_minor": 4
}
