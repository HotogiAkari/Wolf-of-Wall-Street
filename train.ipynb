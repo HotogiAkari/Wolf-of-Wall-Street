{
    "cells": [
        {
            "cell_type": "markdown",
            "metadata": {},
            "source": [
                "# 股票预测模型工作流\n",
                "\n",
                "---\n",
                "### 工作流说明\n",
                "1.  **阶段零 (Setup)**: 导入库、加载配置。\n",
                "2.  **阶段一 (Data Pipeline)**: 独立运行。负责处理并保存数据，生成 L2 特征数据缓存。\n",
                "3.  **阶段二 (Model Pipeline)**: 独立运行。包含三个子步骤：\n",
                "    - **2.1 HPO**: 自动调参。\n",
                "    - **2.2 (预处理)**: 智能地加载或生成 L3 预处理数据缓存\n",
                "    - **2.3 (模型训练)**: 使用 L3 缓存进行高效的模型训练。\n",
                "    - **2.4 (评估)**: 对训练结果进行聚合与可视化。"
            ]
        },
        {
            "cell_type": "markdown",
            "metadata": {},
            "source": [
                "## 0. 通用设置与导入"
            ]
        },
        {
            "cell_type": "code",
            "execution_count": 1,
            "metadata": {},
            "outputs": [
                {
                    "name": "stderr",
                    "output_type": "stream",
                    "text": [
                        "d:\\Project\\Command\\Python\\Neural\\Wolf_of_Wall_Street\\main_train.py:12: TqdmExperimentalWarning: Using `tqdm.autonotebook.tqdm` in notebook mode. Use `tqdm.tqdm` instead to force console mode (e.g. in jupyter console)\n",
                        "  from tqdm.autonotebook import tqdm\n"
                    ]
                },
                {
                    "name": "stdout",
                    "output_type": "stream",
                    "text": [
                        "--- 正在初始化环境：加载配置与模块... ---\n",
                        "INFO: 底层并行计算库线程数已设置为: 4\n",
                        "INFO: 项目模块导入成功。\n",
                        "SUCCESS: 配置已从 'configs/config.yaml' 加载。\n"
                    ]
                }
            ],
            "source": [
                "import sys\n",
                "from pathlib import Path\n",
                "import matplotlib.pyplot as plt\n",
                "import seaborn as sns\n",
                "\n",
                "# 设置 Matplotlib 样式 (可以在 main_train 外部设置)\n",
                "plt.style.use('seaborn-v0_8-whitegrid')\n",
                "plt.rcParams['font.sans-serif'] = ['SimHei']\n",
                "plt.rcParams['axes.unicode_minus'] = False\n",
                "\n",
                "# --- 动态导入 main_train ---\n",
                "project_root = str(Path().resolve())\n",
                "if project_root not in sys.path:\n",
                "    sys.path.append(project_root)\n",
                "\n",
                "# 从我们统一的核心引擎中导入所有需要的函数和模块\n",
                "from main_train import (\n",
                "    run_load_config_and_modules,\n",
                "    run_all_data_pipeline,\n",
                "    run_preprocess_l3_cache,\n",
                "    run_hpo_train,\n",
                "    run_all_models_train,\n",
                "    run_performance_evaluation,\n",
                "    run_results_visualization\n",
                ")\n",
                "\n",
                "# --- 加载全局配置和模块 ---\n",
                "# 在 Notebook 的生命周期中，我们只加载一次\n",
                "config, modules = run_load_config_and_modules()\n",
                "\n",
                "if not (config and modules):\n",
                "    raise RuntimeError(\"环境初始化失败，请检查配置文件路径和模块导入。\")"
            ]
        },
        {
            "cell_type": "markdown",
            "metadata": {},
            "source": [
                "# **阶段一：数据准备与特征工程**"
            ]
        },
        {
            "cell_type": "code",
            "execution_count": 2,
            "metadata": {},
            "outputs": [
                {
                    "name": "stdout",
                    "output_type": "stream",
                    "text": [
                        "--- INFO: 日期模式 -> 使用最新日期 ---\n",
                        "=== 阶段一：数据准备与特征工程 ===\n",
                        "INFO: 已启用动态日期模式，将使用今天的日期 '2025-10-27' 作为 end_date。\n",
                        "INFO: 日期已解析. Start Date: 2010-10-27, End Date: 2025-10-27\n",
                        "INFO: 正在尝试登录 Baostock...\n",
                        "login success!\n",
                        "INFO: Baostock API 登录成功。\n",
                        "INFO: 未在配置中提供有效的 Tushare Token，将跳过 Tushare 相关数据。\n",
                        "开始执行数据管道协调任务...\n",
                        "\n",
                        "需要为以下 7 只股票生成新数据: ['TCL科技 (000100.SZ)', '兴业矿业 (000426.SZ)', '孚日股份 (002083.SZ)', '宜华健康 (000150.SZ)', '新宁物流 (300013.SZ)', '佳云科技 (300242.SZ)', '精功科技 (002006.SZ)']\n",
                        "\n",
                        "--- 正在准备所有全局市场数据 (此过程只运行一次) ---\n",
                        "--- 开始生成市场广度数据 ---\n",
                        "  - 正在获取指数成分股列表...\n"
                    ]
                },
                {
                    "data": {
                        "application/vnd.jupyter.widget-view+json": {
                            "model_id": "b8b71419119b472c9b492c7cf0af4be1",
                            "version_major": 2,
                            "version_minor": 0
                        },
                        "text/plain": [
                            "下载成分股日线数据:   0%|          | 0/300 [00:00<?, ?it/s]"
                        ]
                    },
                    "metadata": {},
                    "output_type": "display_data"
                },
                {
                    "name": "stdout",
                    "output_type": "stream",
                    "text": [
                        "  - 正在从本地缓存加载 sh.600000 (sh.600000) 的原始日线数据...\n",
                        "  - 正在从本地缓存加载 sh.600009 (sh.600009) 的原始日线数据...\n",
                        "  - 正在从本地缓存加载 sh.600010 (sh.600010) 的原始日线数据...\n",
                        "  - 正在从本地缓存加载 sh.600011 (sh.600011) 的原始日线数据...\n",
                        "  - 正在从本地缓存加载 sh.600015 (sh.600015) 的原始日线数据...\n",
                        "  - 正在从本地缓存加载 sh.600016 (sh.600016) 的原始日线数据...\n",
                        "  - 正在从本地缓存加载 sh.600018 (sh.600018) 的原始日线数据...\n",
                        "  - 正在从本地缓存加载 sh.600019 (sh.600019) 的原始日线数据...\n",
                        "  - 正在从本地缓存加载 sh.600023 (sh.600023) 的原始日线数据...\n",
                        "  - 正在从本地缓存加载 sh.600025 (sh.600025) 的原始日线数据...\n",
                        "  - 正在从本地缓存加载 sh.600026 (sh.600026) 的原始日线数据...\n",
                        "  - 正在从本地缓存加载 sh.600027 (sh.600027) 的原始日线数据...\n",
                        "  - 正在从本地缓存加载 sh.600028 (sh.600028) 的原始日线数据...\n",
                        "  - 正在从本地缓存加载 sh.600029 (sh.600029) 的原始日线数据...\n",
                        "  - 正在从本地缓存加载 sh.600030 (sh.600030) 的原始日线数据...\n",
                        "  - 正在从本地缓存加载 sh.600031 (sh.600031) 的原始日线数据...\n",
                        "  - 正在从本地缓存加载 sh.600036 (sh.600036) 的原始日线数据...\n",
                        "  - 正在从本地缓存加载 sh.600039 (sh.600039) 的原始日线数据...\n",
                        "  - 正在从本地缓存加载 sh.600048 (sh.600048) 的原始日线数据...\n",
                        "  - 正在从本地缓存加载 sh.600050 (sh.600050) 的原始日线数据...\n",
                        "  - 正在从本地缓存加载 sh.600061 (sh.600061) 的原始日线数据...\n",
                        "  - 正在从本地缓存加载 sh.600066 (sh.600066) 的原始日线数据...\n",
                        "  - 正在从本地缓存加载 sh.600085 (sh.600085) 的原始日线数据...\n",
                        "  - 正在从本地缓存加载 sh.600089 (sh.600089) 的原始日线数据...\n",
                        "  - 正在从本地缓存加载 sh.600104 (sh.600104) 的原始日线数据...\n",
                        "  - 正在从本地缓存加载 sh.600111 (sh.600111) 的原始日线数据...\n",
                        "  - 正在从本地缓存加载 sh.600115 (sh.600115) 的原始日线数据...\n",
                        "  - 正在从本地缓存加载 sh.600150 (sh.600150) 的原始日线数据...\n",
                        "  - 正在从本地缓存加载 sh.600160 (sh.600160) 的原始日线数据...\n",
                        "  - 正在从本地缓存加载 sh.600161 (sh.600161) 的原始日线数据...\n",
                        "  - 正在从本地缓存加载 sh.600176 (sh.600176) 的原始日线数据...\n",
                        "  - 正在从本地缓存加载 sh.600183 (sh.600183) 的原始日线数据...\n",
                        "  - 正在从本地缓存加载 sh.600188 (sh.600188) 的原始日线数据...\n",
                        "  - 正在从本地缓存加载 sh.600196 (sh.600196) 的原始日线数据...\n",
                        "  - 正在从本地缓存加载 sh.600219 (sh.600219) 的原始日线数据...\n",
                        "  - 正在从本地缓存加载 sh.600233 (sh.600233) 的原始日线数据...\n",
                        "  - 正在从本地缓存加载 sh.600276 (sh.600276) 的原始日线数据...\n",
                        "  - 正在从本地缓存加载 sh.600309 (sh.600309) 的原始日线数据...\n",
                        "  - 正在从本地缓存加载 sh.600332 (sh.600332) 的原始日线数据...\n",
                        "  - 正在从本地缓存加载 sh.600346 (sh.600346) 的原始日线数据...\n",
                        "  - 正在从本地缓存加载 sh.600362 (sh.600362) 的原始日线数据...\n",
                        "  - 正在从本地缓存加载 sh.600372 (sh.600372) 的原始日线数据...\n",
                        "  - 正在从本地缓存加载 sh.600377 (sh.600377) 的原始日线数据...\n",
                        "  - 正在从本地缓存加载 sh.600406 (sh.600406) 的原始日线数据...\n",
                        "  - 正在从 Baostock 下载 sh.600415 (sh.600415) 的日线行情...\n",
                        "  - INFO: 已将 sh.600415 (sh.600415) 的数据缓存至 data\\data_cache\\raw_ohlcv\\raw_sh_600415_2010-10-27_2025-09-30.pkl\n",
                        "  - 正在从 Baostock 下载 sh.600426 (sh.600426) 的日线行情...\n",
                        "  - INFO: 已将 sh.600426 (sh.600426) 的数据缓存至 data\\data_cache\\raw_ohlcv\\raw_sh_600426_2010-10-27_2025-09-30.pkl\n",
                        "  - 正在从 Baostock 下载 sh.600436 (sh.600436) 的日线行情...\n",
                        "  - INFO: 已将 sh.600436 (sh.600436) 的数据缓存至 data\\data_cache\\raw_ohlcv\\raw_sh_600436_2010-10-27_2025-09-30.pkl\n",
                        "  - 正在从 Baostock 下载 sh.600438 (sh.600438) 的日线行情...\n",
                        "  - INFO: 已将 sh.600438 (sh.600438) 的数据缓存至 data\\data_cache\\raw_ohlcv\\raw_sh_600438_2010-10-27_2025-09-30.pkl\n",
                        "  - 正在从 Baostock 下载 sh.600460 (sh.600460) 的日线行情...\n",
                        "  - INFO: 已将 sh.600460 (sh.600460) 的数据缓存至 data\\data_cache\\raw_ohlcv\\raw_sh_600460_2010-10-27_2025-09-30.pkl\n",
                        "  - 正在从 Baostock 下载 sh.600482 (sh.600482) 的日线行情...\n",
                        "  - INFO: 已将 sh.600482 (sh.600482) 的数据缓存至 data\\data_cache\\raw_ohlcv\\raw_sh_600482_2010-10-27_2025-09-30.pkl\n",
                        "  - 正在从 Baostock 下载 sh.600489 (sh.600489) 的日线行情...\n",
                        "  - INFO: 已将 sh.600489 (sh.600489) 的数据缓存至 data\\data_cache\\raw_ohlcv\\raw_sh_600489_2010-10-27_2025-09-30.pkl\n",
                        "  - 正在从 Baostock 下载 sh.600515 (sh.600515) 的日线行情...\n",
                        "  - INFO: 已将 sh.600515 (sh.600515) 的数据缓存至 data\\data_cache\\raw_ohlcv\\raw_sh_600515_2010-10-27_2025-09-30.pkl\n",
                        "  - 正在从 Baostock 下载 sh.600519 (sh.600519) 的日线行情...\n",
                        "  - INFO: 已将 sh.600519 (sh.600519) 的数据缓存至 data\\data_cache\\raw_ohlcv\\raw_sh_600519_2010-10-27_2025-09-30.pkl\n",
                        "  - 正在从 Baostock 下载 sh.600547 (sh.600547) 的日线行情...\n",
                        "  - INFO: 已将 sh.600547 (sh.600547) 的数据缓存至 data\\data_cache\\raw_ohlcv\\raw_sh_600547_2010-10-27_2025-09-30.pkl\n",
                        "  - 正在从 Baostock 下载 sh.600570 (sh.600570) 的日线行情...\n",
                        "  - INFO: 已将 sh.600570 (sh.600570) 的数据缓存至 data\\data_cache\\raw_ohlcv\\raw_sh_600570_2010-10-27_2025-09-30.pkl\n",
                        "  - 正在从 Baostock 下载 sh.600584 (sh.600584) 的日线行情...\n",
                        "  - INFO: 已将 sh.600584 (sh.600584) 的数据缓存至 data\\data_cache\\raw_ohlcv\\raw_sh_600584_2010-10-27_2025-09-30.pkl\n",
                        "  - 正在从 Baostock 下载 sh.600585 (sh.600585) 的日线行情...\n",
                        "  - INFO: 已将 sh.600585 (sh.600585) 的数据缓存至 data\\data_cache\\raw_ohlcv\\raw_sh_600585_2010-10-27_2025-09-30.pkl\n",
                        "  - 正在从 Baostock 下载 sh.600588 (sh.600588) 的日线行情...\n",
                        "  - INFO: 已将 sh.600588 (sh.600588) 的数据缓存至 data\\data_cache\\raw_ohlcv\\raw_sh_600588_2010-10-27_2025-09-30.pkl\n",
                        "  - 正在从 Baostock 下载 sh.600600 (sh.600600) 的日线行情...\n",
                        "  - INFO: 已将 sh.600600 (sh.600600) 的数据缓存至 data\\data_cache\\raw_ohlcv\\raw_sh_600600_2010-10-27_2025-09-30.pkl\n",
                        "  - 正在从 Baostock 下载 sh.600660 (sh.600660) 的日线行情...\n",
                        "  - INFO: 已将 sh.600660 (sh.600660) 的数据缓存至 data\\data_cache\\raw_ohlcv\\raw_sh_600660_2010-10-27_2025-09-30.pkl\n",
                        "  - 正在从 Baostock 下载 sh.600674 (sh.600674) 的日线行情...\n",
                        "  - INFO: 已将 sh.600674 (sh.600674) 的数据缓存至 data\\data_cache\\raw_ohlcv\\raw_sh_600674_2010-10-27_2025-09-30.pkl\n",
                        "  - 正在从 Baostock 下载 sh.600690 (sh.600690) 的日线行情...\n",
                        "  - INFO: 已将 sh.600690 (sh.600690) 的数据缓存至 data\\data_cache\\raw_ohlcv\\raw_sh_600690_2010-10-27_2025-09-30.pkl\n",
                        "  - 正在从 Baostock 下载 sh.600741 (sh.600741) 的日线行情...\n",
                        "  - INFO: 已将 sh.600741 (sh.600741) 的数据缓存至 data\\data_cache\\raw_ohlcv\\raw_sh_600741_2010-10-27_2025-09-30.pkl\n",
                        "  - 正在从 Baostock 下载 sh.600760 (sh.600760) 的日线行情...\n",
                        "  - INFO: 已将 sh.600760 (sh.600760) 的数据缓存至 data\\data_cache\\raw_ohlcv\\raw_sh_600760_2010-10-27_2025-09-30.pkl\n",
                        "  - 正在从 Baostock 下载 sh.600795 (sh.600795) 的日线行情...\n",
                        "  - INFO: 已将 sh.600795 (sh.600795) 的数据缓存至 data\\data_cache\\raw_ohlcv\\raw_sh_600795_2010-10-27_2025-09-30.pkl\n",
                        "  - 正在从 Baostock 下载 sh.600803 (sh.600803) 的日线行情...\n",
                        "  - INFO: 已将 sh.600803 (sh.600803) 的数据缓存至 data\\data_cache\\raw_ohlcv\\raw_sh_600803_2010-10-27_2025-09-30.pkl\n",
                        "  - 正在从 Baostock 下载 sh.600809 (sh.600809) 的日线行情...\n",
                        "  - INFO: 已将 sh.600809 (sh.600809) 的数据缓存至 data\\data_cache\\raw_ohlcv\\raw_sh_600809_2010-10-27_2025-09-30.pkl\n",
                        "  - 正在从 Baostock 下载 sh.600845 (sh.600845) 的日线行情...\n",
                        "  - INFO: 已将 sh.600845 (sh.600845) 的数据缓存至 data\\data_cache\\raw_ohlcv\\raw_sh_600845_2010-10-27_2025-09-30.pkl\n",
                        "  - 正在从 Baostock 下载 sh.600875 (sh.600875) 的日线行情...\n",
                        "  - INFO: 已将 sh.600875 (sh.600875) 的数据缓存至 data\\data_cache\\raw_ohlcv\\raw_sh_600875_2010-10-27_2025-09-30.pkl\n",
                        "  - 正在从 Baostock 下载 sh.600886 (sh.600886) 的日线行情...\n",
                        "  - INFO: 已将 sh.600886 (sh.600886) 的数据缓存至 data\\data_cache\\raw_ohlcv\\raw_sh_600886_2010-10-27_2025-09-30.pkl\n",
                        "  - 正在从 Baostock 下载 sh.600887 (sh.600887) 的日线行情...\n",
                        "  - INFO: 已将 sh.600887 (sh.600887) 的数据缓存至 data\\data_cache\\raw_ohlcv\\raw_sh_600887_2010-10-27_2025-09-30.pkl\n",
                        "  - 正在从 Baostock 下载 sh.600893 (sh.600893) 的日线行情...\n",
                        "  - INFO: 已将 sh.600893 (sh.600893) 的数据缓存至 data\\data_cache\\raw_ohlcv\\raw_sh_600893_2010-10-27_2025-09-30.pkl\n",
                        "  - 正在从 Baostock 下载 sh.600900 (sh.600900) 的日线行情...\n",
                        "  - INFO: 已将 sh.600900 (sh.600900) 的数据缓存至 data\\data_cache\\raw_ohlcv\\raw_sh_600900_2010-10-27_2025-09-30.pkl\n",
                        "  - 正在从 Baostock 下载 sh.600905 (sh.600905) 的日线行情...\n",
                        "  - INFO: 已将 sh.600905 (sh.600905) 的数据缓存至 data\\data_cache\\raw_ohlcv\\raw_sh_600905_2010-10-27_2025-09-30.pkl\n",
                        "  - 正在从 Baostock 下载 sh.600918 (sh.600918) 的日线行情...\n",
                        "  - INFO: 已将 sh.600918 (sh.600918) 的数据缓存至 data\\data_cache\\raw_ohlcv\\raw_sh_600918_2010-10-27_2025-09-30.pkl\n",
                        "  - 正在从 Baostock 下载 sh.600919 (sh.600919) 的日线行情...\n",
                        "  - INFO: 已将 sh.600919 (sh.600919) 的数据缓存至 data\\data_cache\\raw_ohlcv\\raw_sh_600919_2010-10-27_2025-09-30.pkl\n",
                        "  - 正在从 Baostock 下载 sh.600926 (sh.600926) 的日线行情...\n",
                        "  - INFO: 已将 sh.600926 (sh.600926) 的数据缓存至 data\\data_cache\\raw_ohlcv\\raw_sh_600926_2010-10-27_2025-09-30.pkl\n",
                        "  - 正在从 Baostock 下载 sh.600938 (sh.600938) 的日线行情...\n",
                        "  - INFO: 已将 sh.600938 (sh.600938) 的数据缓存至 data\\data_cache\\raw_ohlcv\\raw_sh_600938_2010-10-27_2025-09-30.pkl\n",
                        "  - 正在从 Baostock 下载 sh.600941 (sh.600941) 的日线行情...\n",
                        "  - INFO: 已将 sh.600941 (sh.600941) 的数据缓存至 data\\data_cache\\raw_ohlcv\\raw_sh_600941_2010-10-27_2025-09-30.pkl\n",
                        "  - 正在从 Baostock 下载 sh.600958 (sh.600958) 的日线行情...\n",
                        "  - INFO: 已将 sh.600958 (sh.600958) 的数据缓存至 data\\data_cache\\raw_ohlcv\\raw_sh_600958_2010-10-27_2025-09-30.pkl\n",
                        "  - 正在从 Baostock 下载 sh.600989 (sh.600989) 的日线行情...\n",
                        "  - INFO: 已将 sh.600989 (sh.600989) 的数据缓存至 data\\data_cache\\raw_ohlcv\\raw_sh_600989_2010-10-27_2025-09-30.pkl\n",
                        "  - 正在从 Baostock 下载 sh.600999 (sh.600999) 的日线行情...\n",
                        "  - INFO: 已将 sh.600999 (sh.600999) 的数据缓存至 data\\data_cache\\raw_ohlcv\\raw_sh_600999_2010-10-27_2025-09-30.pkl\n",
                        "  - 正在从 Baostock 下载 sh.601006 (sh.601006) 的日线行情...\n",
                        "  - INFO: 已将 sh.601006 (sh.601006) 的数据缓存至 data\\data_cache\\raw_ohlcv\\raw_sh_601006_2010-10-27_2025-09-30.pkl\n",
                        "  - 正在从 Baostock 下载 sh.601009 (sh.601009) 的日线行情...\n",
                        "  - INFO: 已将 sh.601009 (sh.601009) 的数据缓存至 data\\data_cache\\raw_ohlcv\\raw_sh_601009_2010-10-27_2025-09-30.pkl\n",
                        "  - 正在从 Baostock 下载 sh.601012 (sh.601012) 的日线行情...\n",
                        "  - INFO: 已将 sh.601012 (sh.601012) 的数据缓存至 data\\data_cache\\raw_ohlcv\\raw_sh_601012_2010-10-27_2025-09-30.pkl\n",
                        "  - 正在从 Baostock 下载 sh.601021 (sh.601021) 的日线行情...\n",
                        "  - INFO: 已将 sh.601021 (sh.601021) 的数据缓存至 data\\data_cache\\raw_ohlcv\\raw_sh_601021_2010-10-27_2025-09-30.pkl\n",
                        "  - 正在从 Baostock 下载 sh.601058 (sh.601058) 的日线行情...\n",
                        "  - INFO: 已将 sh.601058 (sh.601058) 的数据缓存至 data\\data_cache\\raw_ohlcv\\raw_sh_601058_2010-10-27_2025-09-30.pkl\n",
                        "  - 正在从 Baostock 下载 sh.601059 (sh.601059) 的日线行情...\n",
                        "  - INFO: 已将 sh.601059 (sh.601059) 的数据缓存至 data\\data_cache\\raw_ohlcv\\raw_sh_601059_2010-10-27_2025-09-30.pkl\n",
                        "  - 正在从 Baostock 下载 sh.601066 (sh.601066) 的日线行情...\n",
                        "  - INFO: 已将 sh.601066 (sh.601066) 的数据缓存至 data\\data_cache\\raw_ohlcv\\raw_sh_601066_2010-10-27_2025-09-30.pkl\n",
                        "  - 正在从 Baostock 下载 sh.601077 (sh.601077) 的日线行情...\n",
                        "  - INFO: 已将 sh.601077 (sh.601077) 的数据缓存至 data\\data_cache\\raw_ohlcv\\raw_sh_601077_2010-10-27_2025-09-30.pkl\n",
                        "  - 正在从 Baostock 下载 sh.601088 (sh.601088) 的日线行情...\n",
                        "  - INFO: 已将 sh.601088 (sh.601088) 的数据缓存至 data\\data_cache\\raw_ohlcv\\raw_sh_601088_2010-10-27_2025-09-30.pkl\n",
                        "  - 正在从 Baostock 下载 sh.601100 (sh.601100) 的日线行情...\n",
                        "  - INFO: 已将 sh.601100 (sh.601100) 的数据缓存至 data\\data_cache\\raw_ohlcv\\raw_sh_601100_2010-10-27_2025-09-30.pkl\n",
                        "  - 正在从 Baostock 下载 sh.601111 (sh.601111) 的日线行情...\n",
                        "  - INFO: 已将 sh.601111 (sh.601111) 的数据缓存至 data\\data_cache\\raw_ohlcv\\raw_sh_601111_2010-10-27_2025-09-30.pkl\n",
                        "  - 正在从 Baostock 下载 sh.601117 (sh.601117) 的日线行情...\n",
                        "  - INFO: 已将 sh.601117 (sh.601117) 的数据缓存至 data\\data_cache\\raw_ohlcv\\raw_sh_601117_2010-10-27_2025-09-30.pkl\n",
                        "  - 正在从 Baostock 下载 sh.601127 (sh.601127) 的日线行情...\n",
                        "  - INFO: 已将 sh.601127 (sh.601127) 的数据缓存至 data\\data_cache\\raw_ohlcv\\raw_sh_601127_2010-10-27_2025-09-30.pkl\n",
                        "  - 正在从 Baostock 下载 sh.601136 (sh.601136) 的日线行情...\n",
                        "  - INFO: 已将 sh.601136 (sh.601136) 的数据缓存至 data\\data_cache\\raw_ohlcv\\raw_sh_601136_2010-10-27_2025-09-30.pkl\n",
                        "  - 正在从 Baostock 下载 sh.601138 (sh.601138) 的日线行情...\n",
                        "  - INFO: 已将 sh.601138 (sh.601138) 的数据缓存至 data\\data_cache\\raw_ohlcv\\raw_sh_601138_2010-10-27_2025-09-30.pkl\n",
                        "  - 正在从 Baostock 下载 sh.601166 (sh.601166) 的日线行情...\n",
                        "  - INFO: 已将 sh.601166 (sh.601166) 的数据缓存至 data\\data_cache\\raw_ohlcv\\raw_sh_601166_2010-10-27_2025-09-30.pkl\n",
                        "  - 正在从 Baostock 下载 sh.601169 (sh.601169) 的日线行情...\n",
                        "  - INFO: 已将 sh.601169 (sh.601169) 的数据缓存至 data\\data_cache\\raw_ohlcv\\raw_sh_601169_2010-10-27_2025-09-30.pkl\n",
                        "  - 正在从 Baostock 下载 sh.601186 (sh.601186) 的日线行情...\n",
                        "  - INFO: 已将 sh.601186 (sh.601186) 的数据缓存至 data\\data_cache\\raw_ohlcv\\raw_sh_601186_2010-10-27_2025-09-30.pkl\n",
                        "  - 正在从 Baostock 下载 sh.601211 (sh.601211) 的日线行情...\n",
                        "  - INFO: 已将 sh.601211 (sh.601211) 的数据缓存至 data\\data_cache\\raw_ohlcv\\raw_sh_601211_2010-10-27_2025-09-30.pkl\n",
                        "  - 正在从 Baostock 下载 sh.601225 (sh.601225) 的日线行情...\n",
                        "  - INFO: 已将 sh.601225 (sh.601225) 的数据缓存至 data\\data_cache\\raw_ohlcv\\raw_sh_601225_2010-10-27_2025-09-30.pkl\n",
                        "  - 正在从 Baostock 下载 sh.601229 (sh.601229) 的日线行情...\n",
                        "  - INFO: 已将 sh.601229 (sh.601229) 的数据缓存至 data\\data_cache\\raw_ohlcv\\raw_sh_601229_2010-10-27_2025-09-30.pkl\n",
                        "  - 正在从 Baostock 下载 sh.601236 (sh.601236) 的日线行情...\n",
                        "  - INFO: 已将 sh.601236 (sh.601236) 的数据缓存至 data\\data_cache\\raw_ohlcv\\raw_sh_601236_2010-10-27_2025-09-30.pkl\n",
                        "  - 正在从 Baostock 下载 sh.601238 (sh.601238) 的日线行情...\n",
                        "  - INFO: 已将 sh.601238 (sh.601238) 的数据缓存至 data\\data_cache\\raw_ohlcv\\raw_sh_601238_2010-10-27_2025-09-30.pkl\n",
                        "  - 正在从 Baostock 下载 sh.601288 (sh.601288) 的日线行情...\n",
                        "  - INFO: 已将 sh.601288 (sh.601288) 的数据缓存至 data\\data_cache\\raw_ohlcv\\raw_sh_601288_2010-10-27_2025-09-30.pkl\n",
                        "  - 正在从 Baostock 下载 sh.601298 (sh.601298) 的日线行情...\n",
                        "  - INFO: 已将 sh.601298 (sh.601298) 的数据缓存至 data\\data_cache\\raw_ohlcv\\raw_sh_601298_2010-10-27_2025-09-30.pkl\n",
                        "  - 正在从 Baostock 下载 sh.601318 (sh.601318) 的日线行情...\n",
                        "  - INFO: 已将 sh.601318 (sh.601318) 的数据缓存至 data\\data_cache\\raw_ohlcv\\raw_sh_601318_2010-10-27_2025-09-30.pkl\n",
                        "  - 正在从 Baostock 下载 sh.601319 (sh.601319) 的日线行情...\n",
                        "  - INFO: 已将 sh.601319 (sh.601319) 的数据缓存至 data\\data_cache\\raw_ohlcv\\raw_sh_601319_2010-10-27_2025-09-30.pkl\n",
                        "  - 正在从 Baostock 下载 sh.601328 (sh.601328) 的日线行情...\n",
                        "  - INFO: 已将 sh.601328 (sh.601328) 的数据缓存至 data\\data_cache\\raw_ohlcv\\raw_sh_601328_2010-10-27_2025-09-30.pkl\n",
                        "  - 正在从 Baostock 下载 sh.601336 (sh.601336) 的日线行情...\n",
                        "  - INFO: 已将 sh.601336 (sh.601336) 的数据缓存至 data\\data_cache\\raw_ohlcv\\raw_sh_601336_2010-10-27_2025-09-30.pkl\n",
                        "  - 正在从 Baostock 下载 sh.601360 (sh.601360) 的日线行情...\n",
                        "  - INFO: 已将 sh.601360 (sh.601360) 的数据缓存至 data\\data_cache\\raw_ohlcv\\raw_sh_601360_2010-10-27_2025-09-30.pkl\n",
                        "  - 正在从 Baostock 下载 sh.601377 (sh.601377) 的日线行情...\n",
                        "  - INFO: 已将 sh.601377 (sh.601377) 的数据缓存至 data\\data_cache\\raw_ohlcv\\raw_sh_601377_2010-10-27_2025-09-30.pkl\n",
                        "  - 正在从 Baostock 下载 sh.601390 (sh.601390) 的日线行情...\n",
                        "  - INFO: 已将 sh.601390 (sh.601390) 的数据缓存至 data\\data_cache\\raw_ohlcv\\raw_sh_601390_2010-10-27_2025-09-30.pkl\n",
                        "  - 正在从 Baostock 下载 sh.601398 (sh.601398) 的日线行情...\n",
                        "  - INFO: 已将 sh.601398 (sh.601398) 的数据缓存至 data\\data_cache\\raw_ohlcv\\raw_sh_601398_2010-10-27_2025-09-30.pkl\n",
                        "  - 正在从 Baostock 下载 sh.601600 (sh.601600) 的日线行情...\n",
                        "  - INFO: 已将 sh.601600 (sh.601600) 的数据缓存至 data\\data_cache\\raw_ohlcv\\raw_sh_601600_2010-10-27_2025-09-30.pkl\n",
                        "  - 正在从 Baostock 下载 sh.601601 (sh.601601) 的日线行情...\n",
                        "  - INFO: 已将 sh.601601 (sh.601601) 的数据缓存至 data\\data_cache\\raw_ohlcv\\raw_sh_601601_2010-10-27_2025-09-30.pkl\n",
                        "  - 正在从 Baostock 下载 sh.601607 (sh.601607) 的日线行情...\n",
                        "  - INFO: 已将 sh.601607 (sh.601607) 的数据缓存至 data\\data_cache\\raw_ohlcv\\raw_sh_601607_2010-10-27_2025-09-30.pkl\n",
                        "  - 正在从 Baostock 下载 sh.601618 (sh.601618) 的日线行情...\n",
                        "  - INFO: 已将 sh.601618 (sh.601618) 的数据缓存至 data\\data_cache\\raw_ohlcv\\raw_sh_601618_2010-10-27_2025-09-30.pkl\n",
                        "  - 正在从 Baostock 下载 sh.601628 (sh.601628) 的日线行情...\n",
                        "  - INFO: 已将 sh.601628 (sh.601628) 的数据缓存至 data\\data_cache\\raw_ohlcv\\raw_sh_601628_2010-10-27_2025-09-30.pkl\n",
                        "  - 正在从 Baostock 下载 sh.601633 (sh.601633) 的日线行情...\n",
                        "  - INFO: 已将 sh.601633 (sh.601633) 的数据缓存至 data\\data_cache\\raw_ohlcv\\raw_sh_601633_2010-10-27_2025-09-30.pkl\n",
                        "  - 正在从 Baostock 下载 sh.601658 (sh.601658) 的日线行情...\n",
                        "  - INFO: 已将 sh.601658 (sh.601658) 的数据缓存至 data\\data_cache\\raw_ohlcv\\raw_sh_601658_2010-10-27_2025-09-30.pkl\n",
                        "  - 正在从 Baostock 下载 sh.601668 (sh.601668) 的日线行情...\n",
                        "  - INFO: 已将 sh.601668 (sh.601668) 的数据缓存至 data\\data_cache\\raw_ohlcv\\raw_sh_601668_2010-10-27_2025-09-30.pkl\n",
                        "  - 正在从 Baostock 下载 sh.601669 (sh.601669) 的日线行情...\n",
                        "  - INFO: 已将 sh.601669 (sh.601669) 的数据缓存至 data\\data_cache\\raw_ohlcv\\raw_sh_601669_2010-10-27_2025-09-30.pkl\n",
                        "  - 正在从 Baostock 下载 sh.601688 (sh.601688) 的日线行情...\n",
                        "  - INFO: 已将 sh.601688 (sh.601688) 的数据缓存至 data\\data_cache\\raw_ohlcv\\raw_sh_601688_2010-10-27_2025-09-30.pkl\n",
                        "  - 正在从 Baostock 下载 sh.601689 (sh.601689) 的日线行情...\n",
                        "  - INFO: 已将 sh.601689 (sh.601689) 的数据缓存至 data\\data_cache\\raw_ohlcv\\raw_sh_601689_2010-10-27_2025-09-30.pkl\n",
                        "  - 正在从 Baostock 下载 sh.601698 (sh.601698) 的日线行情...\n",
                        "  - INFO: 已将 sh.601698 (sh.601698) 的数据缓存至 data\\data_cache\\raw_ohlcv\\raw_sh_601698_2010-10-27_2025-09-30.pkl\n",
                        "  - 正在从 Baostock 下载 sh.601699 (sh.601699) 的日线行情...\n",
                        "  - INFO: 已将 sh.601699 (sh.601699) 的数据缓存至 data\\data_cache\\raw_ohlcv\\raw_sh_601699_2010-10-27_2025-09-30.pkl\n",
                        "  - 正在从 Baostock 下载 sh.601728 (sh.601728) 的日线行情...\n",
                        "  - INFO: 已将 sh.601728 (sh.601728) 的数据缓存至 data\\data_cache\\raw_ohlcv\\raw_sh_601728_2010-10-27_2025-09-30.pkl\n",
                        "  - 正在从 Baostock 下载 sh.601766 (sh.601766) 的日线行情...\n",
                        "  - INFO: 已将 sh.601766 (sh.601766) 的数据缓存至 data\\data_cache\\raw_ohlcv\\raw_sh_601766_2010-10-27_2025-09-30.pkl\n",
                        "  - 正在从 Baostock 下载 sh.601788 (sh.601788) 的日线行情...\n",
                        "  - INFO: 已将 sh.601788 (sh.601788) 的数据缓存至 data\\data_cache\\raw_ohlcv\\raw_sh_601788_2010-10-27_2025-09-30.pkl\n",
                        "  - 正在从 Baostock 下载 sh.601799 (sh.601799) 的日线行情...\n",
                        "  - INFO: 已将 sh.601799 (sh.601799) 的数据缓存至 data\\data_cache\\raw_ohlcv\\raw_sh_601799_2010-10-27_2025-09-30.pkl\n",
                        "  - 正在从 Baostock 下载 sh.601800 (sh.601800) 的日线行情...\n",
                        "  - INFO: 已将 sh.601800 (sh.601800) 的数据缓存至 data\\data_cache\\raw_ohlcv\\raw_sh_601800_2010-10-27_2025-09-30.pkl\n",
                        "  - 正在从 Baostock 下载 sh.601808 (sh.601808) 的日线行情...\n",
                        "  - INFO: 已将 sh.601808 (sh.601808) 的数据缓存至 data\\data_cache\\raw_ohlcv\\raw_sh_601808_2010-10-27_2025-09-30.pkl\n",
                        "  - 正在从 Baostock 下载 sh.601816 (sh.601816) 的日线行情...\n",
                        "  - INFO: 已将 sh.601816 (sh.601816) 的数据缓存至 data\\data_cache\\raw_ohlcv\\raw_sh_601816_2010-10-27_2025-09-30.pkl\n",
                        "  - 正在从 Baostock 下载 sh.601818 (sh.601818) 的日线行情...\n",
                        "  - INFO: 已将 sh.601818 (sh.601818) 的数据缓存至 data\\data_cache\\raw_ohlcv\\raw_sh_601818_2010-10-27_2025-09-30.pkl\n",
                        "  - 正在从 Baostock 下载 sh.601825 (sh.601825) 的日线行情...\n",
                        "  - INFO: 已将 sh.601825 (sh.601825) 的数据缓存至 data\\data_cache\\raw_ohlcv\\raw_sh_601825_2010-10-27_2025-09-30.pkl\n",
                        "  - 正在从 Baostock 下载 sh.601838 (sh.601838) 的日线行情...\n",
                        "  - INFO: 已将 sh.601838 (sh.601838) 的数据缓存至 data\\data_cache\\raw_ohlcv\\raw_sh_601838_2010-10-27_2025-09-30.pkl\n",
                        "  - 正在从 Baostock 下载 sh.601857 (sh.601857) 的日线行情...\n",
                        "  - INFO: 已将 sh.601857 (sh.601857) 的数据缓存至 data\\data_cache\\raw_ohlcv\\raw_sh_601857_2010-10-27_2025-09-30.pkl\n",
                        "  - 正在从 Baostock 下载 sh.601865 (sh.601865) 的日线行情...\n",
                        "  - INFO: 已将 sh.601865 (sh.601865) 的数据缓存至 data\\data_cache\\raw_ohlcv\\raw_sh_601865_2010-10-27_2025-09-30.pkl\n",
                        "  - 正在从 Baostock 下载 sh.601868 (sh.601868) 的日线行情...\n",
                        "  - INFO: 已将 sh.601868 (sh.601868) 的数据缓存至 data\\data_cache\\raw_ohlcv\\raw_sh_601868_2010-10-27_2025-09-30.pkl\n",
                        "  - 正在从 Baostock 下载 sh.601872 (sh.601872) 的日线行情...\n",
                        "  - INFO: 已将 sh.601872 (sh.601872) 的数据缓存至 data\\data_cache\\raw_ohlcv\\raw_sh_601872_2010-10-27_2025-09-30.pkl\n",
                        "  - 正在从 Baostock 下载 sh.601877 (sh.601877) 的日线行情...\n",
                        "  - INFO: 已将 sh.601877 (sh.601877) 的数据缓存至 data\\data_cache\\raw_ohlcv\\raw_sh_601877_2010-10-27_2025-09-30.pkl\n",
                        "  - 正在从 Baostock 下载 sh.601878 (sh.601878) 的日线行情...\n",
                        "  - INFO: 已将 sh.601878 (sh.601878) 的数据缓存至 data\\data_cache\\raw_ohlcv\\raw_sh_601878_2010-10-27_2025-09-30.pkl\n",
                        "  - 正在从 Baostock 下载 sh.601881 (sh.601881) 的日线行情...\n",
                        "  - INFO: 已将 sh.601881 (sh.601881) 的数据缓存至 data\\data_cache\\raw_ohlcv\\raw_sh_601881_2010-10-27_2025-09-30.pkl\n",
                        "  - 正在从 Baostock 下载 sh.601888 (sh.601888) 的日线行情...\n",
                        "  - INFO: 已将 sh.601888 (sh.601888) 的数据缓存至 data\\data_cache\\raw_ohlcv\\raw_sh_601888_2010-10-27_2025-09-30.pkl\n",
                        "  - 正在从 Baostock 下载 sh.601898 (sh.601898) 的日线行情...\n",
                        "  - INFO: 已将 sh.601898 (sh.601898) 的数据缓存至 data\\data_cache\\raw_ohlcv\\raw_sh_601898_2010-10-27_2025-09-30.pkl\n",
                        "  - 正在从 Baostock 下载 sh.601899 (sh.601899) 的日线行情...\n",
                        "  - INFO: 已将 sh.601899 (sh.601899) 的数据缓存至 data\\data_cache\\raw_ohlcv\\raw_sh_601899_2010-10-27_2025-09-30.pkl\n",
                        "  - 正在从 Baostock 下载 sh.601901 (sh.601901) 的日线行情...\n",
                        "  - INFO: 已将 sh.601901 (sh.601901) 的数据缓存至 data\\data_cache\\raw_ohlcv\\raw_sh_601901_2010-10-27_2025-09-30.pkl\n",
                        "  - 正在从 Baostock 下载 sh.601916 (sh.601916) 的日线行情...\n",
                        "  - INFO: 已将 sh.601916 (sh.601916) 的数据缓存至 data\\data_cache\\raw_ohlcv\\raw_sh_601916_2010-10-27_2025-09-30.pkl\n",
                        "  - 正在从 Baostock 下载 sh.601919 (sh.601919) 的日线行情...\n",
                        "  - INFO: 已将 sh.601919 (sh.601919) 的数据缓存至 data\\data_cache\\raw_ohlcv\\raw_sh_601919_2010-10-27_2025-09-30.pkl\n",
                        "  - 正在从 Baostock 下载 sh.601939 (sh.601939) 的日线行情...\n",
                        "  - INFO: 已将 sh.601939 (sh.601939) 的数据缓存至 data\\data_cache\\raw_ohlcv\\raw_sh_601939_2010-10-27_2025-09-30.pkl\n",
                        "  - 正在从 Baostock 下载 sh.601985 (sh.601985) 的日线行情...\n",
                        "  - INFO: 已将 sh.601985 (sh.601985) 的数据缓存至 data\\data_cache\\raw_ohlcv\\raw_sh_601985_2010-10-27_2025-09-30.pkl\n",
                        "  - 正在从 Baostock 下载 sh.601988 (sh.601988) 的日线行情...\n",
                        "  - INFO: 已将 sh.601988 (sh.601988) 的数据缓存至 data\\data_cache\\raw_ohlcv\\raw_sh_601988_2010-10-27_2025-09-30.pkl\n",
                        "  - 正在从 Baostock 下载 sh.601995 (sh.601995) 的日线行情...\n",
                        "  - INFO: 已将 sh.601995 (sh.601995) 的数据缓存至 data\\data_cache\\raw_ohlcv\\raw_sh_601995_2010-10-27_2025-09-30.pkl\n",
                        "  - 正在从 Baostock 下载 sh.601998 (sh.601998) 的日线行情...\n",
                        "  - INFO: 已将 sh.601998 (sh.601998) 的数据缓存至 data\\data_cache\\raw_ohlcv\\raw_sh_601998_2010-10-27_2025-09-30.pkl\n",
                        "  - 正在从 Baostock 下载 sh.603019 (sh.603019) 的日线行情...\n",
                        "  - INFO: 已将 sh.603019 (sh.603019) 的数据缓存至 data\\data_cache\\raw_ohlcv\\raw_sh_603019_2010-10-27_2025-09-30.pkl\n",
                        "  - 正在从 Baostock 下载 sh.603195 (sh.603195) 的日线行情...\n",
                        "  - INFO: 已将 sh.603195 (sh.603195) 的数据缓存至 data\\data_cache\\raw_ohlcv\\raw_sh_603195_2010-10-27_2025-09-30.pkl\n",
                        "  - 正在从 Baostock 下载 sh.603259 (sh.603259) 的日线行情...\n",
                        "  - INFO: 已将 sh.603259 (sh.603259) 的数据缓存至 data\\data_cache\\raw_ohlcv\\raw_sh_603259_2010-10-27_2025-09-30.pkl\n",
                        "  - 正在从 Baostock 下载 sh.603260 (sh.603260) 的日线行情...\n",
                        "  - INFO: 已将 sh.603260 (sh.603260) 的数据缓存至 data\\data_cache\\raw_ohlcv\\raw_sh_603260_2010-10-27_2025-09-30.pkl\n",
                        "  - 正在从 Baostock 下载 sh.603288 (sh.603288) 的日线行情...\n",
                        "  - INFO: 已将 sh.603288 (sh.603288) 的数据缓存至 data\\data_cache\\raw_ohlcv\\raw_sh_603288_2010-10-27_2025-09-30.pkl\n",
                        "  - 正在从 Baostock 下载 sh.603296 (sh.603296) 的日线行情...\n",
                        "  - INFO: 已将 sh.603296 (sh.603296) 的数据缓存至 data\\data_cache\\raw_ohlcv\\raw_sh_603296_2010-10-27_2025-09-30.pkl\n",
                        "  - 正在从 Baostock 下载 sh.603369 (sh.603369) 的日线行情...\n",
                        "  - INFO: 已将 sh.603369 (sh.603369) 的数据缓存至 data\\data_cache\\raw_ohlcv\\raw_sh_603369_2010-10-27_2025-09-30.pkl\n",
                        "  - 正在从 Baostock 下载 sh.603392 (sh.603392) 的日线行情...\n",
                        "  - INFO: 已将 sh.603392 (sh.603392) 的数据缓存至 data\\data_cache\\raw_ohlcv\\raw_sh_603392_2010-10-27_2025-09-30.pkl\n",
                        "  - 正在从 Baostock 下载 sh.603501 (sh.603501) 的日线行情...\n",
                        "  - INFO: 已将 sh.603501 (sh.603501) 的数据缓存至 data\\data_cache\\raw_ohlcv\\raw_sh_603501_2010-10-27_2025-09-30.pkl\n",
                        "  - 正在从 Baostock 下载 sh.603799 (sh.603799) 的日线行情...\n",
                        "  - INFO: 已将 sh.603799 (sh.603799) 的数据缓存至 data\\data_cache\\raw_ohlcv\\raw_sh_603799_2010-10-27_2025-09-30.pkl\n",
                        "  - 正在从 Baostock 下载 sh.603806 (sh.603806) 的日线行情...\n",
                        "  - INFO: 已将 sh.603806 (sh.603806) 的数据缓存至 data\\data_cache\\raw_ohlcv\\raw_sh_603806_2010-10-27_2025-09-30.pkl\n",
                        "  - 正在从 Baostock 下载 sh.603833 (sh.603833) 的日线行情...\n",
                        "  - INFO: 已将 sh.603833 (sh.603833) 的数据缓存至 data\\data_cache\\raw_ohlcv\\raw_sh_603833_2010-10-27_2025-09-30.pkl\n",
                        "  - 正在从 Baostock 下载 sh.603986 (sh.603986) 的日线行情...\n",
                        "  - INFO: 已将 sh.603986 (sh.603986) 的数据缓存至 data\\data_cache\\raw_ohlcv\\raw_sh_603986_2010-10-27_2025-09-30.pkl\n",
                        "  - 正在从 Baostock 下载 sh.603993 (sh.603993) 的日线行情...\n",
                        "  - INFO: 已将 sh.603993 (sh.603993) 的数据缓存至 data\\data_cache\\raw_ohlcv\\raw_sh_603993_2010-10-27_2025-09-30.pkl\n",
                        "  - 正在从 Baostock 下载 sh.605117 (sh.605117) 的日线行情...\n",
                        "  - INFO: 已将 sh.605117 (sh.605117) 的数据缓存至 data\\data_cache\\raw_ohlcv\\raw_sh_605117_2010-10-27_2025-09-30.pkl\n",
                        "  - 正在从 Baostock 下载 sh.605499 (sh.605499) 的日线行情...\n",
                        "  - INFO: 已将 sh.605499 (sh.605499) 的数据缓存至 data\\data_cache\\raw_ohlcv\\raw_sh_605499_2010-10-27_2025-09-30.pkl\n",
                        "  - 正在从 Baostock 下载 sh.688008 (sh.688008) 的日线行情...\n",
                        "  - INFO: 已将 sh.688008 (sh.688008) 的数据缓存至 data\\data_cache\\raw_ohlcv\\raw_sh_688008_2010-10-27_2025-09-30.pkl\n",
                        "  - 正在从 Baostock 下载 sh.688009 (sh.688009) 的日线行情...\n",
                        "  - INFO: 已将 sh.688009 (sh.688009) 的数据缓存至 data\\data_cache\\raw_ohlcv\\raw_sh_688009_2010-10-27_2025-09-30.pkl\n",
                        "  - 正在从 Baostock 下载 sh.688012 (sh.688012) 的日线行情...\n",
                        "  - INFO: 已将 sh.688012 (sh.688012) 的数据缓存至 data\\data_cache\\raw_ohlcv\\raw_sh_688012_2010-10-27_2025-09-30.pkl\n",
                        "  - 正在从 Baostock 下载 sh.688036 (sh.688036) 的日线行情...\n",
                        "  - INFO: 已将 sh.688036 (sh.688036) 的数据缓存至 data\\data_cache\\raw_ohlcv\\raw_sh_688036_2010-10-27_2025-09-30.pkl\n",
                        "  - 正在从 Baostock 下载 sh.688041 (sh.688041) 的日线行情...\n",
                        "  - INFO: 已将 sh.688041 (sh.688041) 的数据缓存至 data\\data_cache\\raw_ohlcv\\raw_sh_688041_2010-10-27_2025-09-30.pkl\n",
                        "  - 正在从 Baostock 下载 sh.688047 (sh.688047) 的日线行情...\n",
                        "  - INFO: 已将 sh.688047 (sh.688047) 的数据缓存至 data\\data_cache\\raw_ohlcv\\raw_sh_688047_2010-10-27_2025-09-30.pkl\n",
                        "  - 正在从 Baostock 下载 sh.688082 (sh.688082) 的日线行情...\n",
                        "  - INFO: 已将 sh.688082 (sh.688082) 的数据缓存至 data\\data_cache\\raw_ohlcv\\raw_sh_688082_2010-10-27_2025-09-30.pkl\n",
                        "  - 正在从 Baostock 下载 sh.688111 (sh.688111) 的日线行情...\n",
                        "  - INFO: 已将 sh.688111 (sh.688111) 的数据缓存至 data\\data_cache\\raw_ohlcv\\raw_sh_688111_2010-10-27_2025-09-30.pkl\n",
                        "  - 正在从 Baostock 下载 sh.688126 (sh.688126) 的日线行情...\n",
                        "  - INFO: 已将 sh.688126 (sh.688126) 的数据缓存至 data\\data_cache\\raw_ohlcv\\raw_sh_688126_2010-10-27_2025-09-30.pkl\n",
                        "  - 正在从 Baostock 下载 sh.688169 (sh.688169) 的日线行情...\n",
                        "  - INFO: 已将 sh.688169 (sh.688169) 的数据缓存至 data\\data_cache\\raw_ohlcv\\raw_sh_688169_2010-10-27_2025-09-30.pkl\n",
                        "  - 正在从 Baostock 下载 sh.688187 (sh.688187) 的日线行情...\n",
                        "  - INFO: 已将 sh.688187 (sh.688187) 的数据缓存至 data\\data_cache\\raw_ohlcv\\raw_sh_688187_2010-10-27_2025-09-30.pkl\n",
                        "  - 正在从 Baostock 下载 sh.688223 (sh.688223) 的日线行情...\n",
                        "  - INFO: 已将 sh.688223 (sh.688223) 的数据缓存至 data\\data_cache\\raw_ohlcv\\raw_sh_688223_2010-10-27_2025-09-30.pkl\n",
                        "  - 正在从 Baostock 下载 sh.688256 (sh.688256) 的日线行情...\n",
                        "  - INFO: 已将 sh.688256 (sh.688256) 的数据缓存至 data\\data_cache\\raw_ohlcv\\raw_sh_688256_2010-10-27_2025-09-30.pkl\n",
                        "  - 正在从 Baostock 下载 sh.688271 (sh.688271) 的日线行情...\n",
                        "  - INFO: 已将 sh.688271 (sh.688271) 的数据缓存至 data\\data_cache\\raw_ohlcv\\raw_sh_688271_2010-10-27_2025-09-30.pkl\n",
                        "  - 正在从 Baostock 下载 sh.688303 (sh.688303) 的日线行情...\n",
                        "  - INFO: 已将 sh.688303 (sh.688303) 的数据缓存至 data\\data_cache\\raw_ohlcv\\raw_sh_688303_2010-10-27_2025-09-30.pkl\n",
                        "  - 正在从 Baostock 下载 sh.688396 (sh.688396) 的日线行情...\n",
                        "  - INFO: 已将 sh.688396 (sh.688396) 的数据缓存至 data\\data_cache\\raw_ohlcv\\raw_sh_688396_2010-10-27_2025-09-30.pkl\n",
                        "  - 正在从 Baostock 下载 sh.688472 (sh.688472) 的日线行情...\n",
                        "  - INFO: 已将 sh.688472 (sh.688472) 的数据缓存至 data\\data_cache\\raw_ohlcv\\raw_sh_688472_2010-10-27_2025-09-30.pkl\n",
                        "  - 正在从 Baostock 下载 sh.688506 (sh.688506) 的日线行情...\n",
                        "  - INFO: 已将 sh.688506 (sh.688506) 的数据缓存至 data\\data_cache\\raw_ohlcv\\raw_sh_688506_2010-10-27_2025-09-30.pkl\n",
                        "  - 正在从 Baostock 下载 sh.688599 (sh.688599) 的日线行情...\n",
                        "  - INFO: 已将 sh.688599 (sh.688599) 的数据缓存至 data\\data_cache\\raw_ohlcv\\raw_sh_688599_2010-10-27_2025-09-30.pkl\n",
                        "  - 正在从 Baostock 下载 sh.688981 (sh.688981) 的日线行情...\n",
                        "  - INFO: 已将 sh.688981 (sh.688981) 的数据缓存至 data\\data_cache\\raw_ohlcv\\raw_sh_688981_2010-10-27_2025-09-30.pkl\n",
                        "  - 正在从 Baostock 下载 sz.000001 (sz.000001) 的日线行情...\n",
                        "  - INFO: 已将 sz.000001 (sz.000001) 的数据缓存至 data\\data_cache\\raw_ohlcv\\raw_sz_000001_2010-10-27_2025-09-30.pkl\n",
                        "  - 正在从 Baostock 下载 sz.000002 (sz.000002) 的日线行情...\n",
                        "  - INFO: 已将 sz.000002 (sz.000002) 的数据缓存至 data\\data_cache\\raw_ohlcv\\raw_sz_000002_2010-10-27_2025-09-30.pkl\n",
                        "  - 正在从 Baostock 下载 sz.000063 (sz.000063) 的日线行情...\n",
                        "  - INFO: 已将 sz.000063 (sz.000063) 的数据缓存至 data\\data_cache\\raw_ohlcv\\raw_sz_000063_2010-10-27_2025-09-30.pkl\n",
                        "  - 正在从 Baostock 下载 sz.000100 (sz.000100) 的日线行情...\n",
                        "  - INFO: 已将 sz.000100 (sz.000100) 的数据缓存至 data\\data_cache\\raw_ohlcv\\raw_sz_000100_2010-10-27_2025-09-30.pkl\n",
                        "  - 正在从 Baostock 下载 sz.000157 (sz.000157) 的日线行情...\n",
                        "  - INFO: 已将 sz.000157 (sz.000157) 的数据缓存至 data\\data_cache\\raw_ohlcv\\raw_sz_000157_2010-10-27_2025-09-30.pkl\n",
                        "  - 正在从 Baostock 下载 sz.000166 (sz.000166) 的日线行情...\n",
                        "  - INFO: 已将 sz.000166 (sz.000166) 的数据缓存至 data\\data_cache\\raw_ohlcv\\raw_sz_000166_2010-10-27_2025-09-30.pkl\n",
                        "  - 正在从 Baostock 下载 sz.000301 (sz.000301) 的日线行情...\n",
                        "  - INFO: 已将 sz.000301 (sz.000301) 的数据缓存至 data\\data_cache\\raw_ohlcv\\raw_sz_000301_2010-10-27_2025-09-30.pkl\n",
                        "  - 正在从 Baostock 下载 sz.000333 (sz.000333) 的日线行情...\n",
                        "  - INFO: 已将 sz.000333 (sz.000333) 的数据缓存至 data\\data_cache\\raw_ohlcv\\raw_sz_000333_2010-10-27_2025-09-30.pkl\n",
                        "  - 正在从 Baostock 下载 sz.000338 (sz.000338) 的日线行情...\n",
                        "  - INFO: 已将 sz.000338 (sz.000338) 的数据缓存至 data\\data_cache\\raw_ohlcv\\raw_sz_000338_2010-10-27_2025-09-30.pkl\n",
                        "  - 正在从 Baostock 下载 sz.000408 (sz.000408) 的日线行情...\n",
                        "  - INFO: 已将 sz.000408 (sz.000408) 的数据缓存至 data\\data_cache\\raw_ohlcv\\raw_sz_000408_2010-10-27_2025-09-30.pkl\n",
                        "  - 正在从 Baostock 下载 sz.000425 (sz.000425) 的日线行情...\n",
                        "  - INFO: 已将 sz.000425 (sz.000425) 的数据缓存至 data\\data_cache\\raw_ohlcv\\raw_sz_000425_2010-10-27_2025-09-30.pkl\n",
                        "  - 正在从 Baostock 下载 sz.000538 (sz.000538) 的日线行情...\n",
                        "  - INFO: 已将 sz.000538 (sz.000538) 的数据缓存至 data\\data_cache\\raw_ohlcv\\raw_sz_000538_2010-10-27_2025-09-30.pkl\n",
                        "  - 正在从 Baostock 下载 sz.000568 (sz.000568) 的日线行情...\n",
                        "  - INFO: 已将 sz.000568 (sz.000568) 的数据缓存至 data\\data_cache\\raw_ohlcv\\raw_sz_000568_2010-10-27_2025-09-30.pkl\n",
                        "  - 正在从 Baostock 下载 sz.000596 (sz.000596) 的日线行情...\n",
                        "  - INFO: 已将 sz.000596 (sz.000596) 的数据缓存至 data\\data_cache\\raw_ohlcv\\raw_sz_000596_2010-10-27_2025-09-30.pkl\n",
                        "  - 正在从 Baostock 下载 sz.000617 (sz.000617) 的日线行情...\n",
                        "  - INFO: 已将 sz.000617 (sz.000617) 的数据缓存至 data\\data_cache\\raw_ohlcv\\raw_sz_000617_2010-10-27_2025-09-30.pkl\n",
                        "  - 正在从 Baostock 下载 sz.000625 (sz.000625) 的日线行情...\n",
                        "  - INFO: 已将 sz.000625 (sz.000625) 的数据缓存至 data\\data_cache\\raw_ohlcv\\raw_sz_000625_2010-10-27_2025-09-30.pkl\n",
                        "  - 正在从 Baostock 下载 sz.000630 (sz.000630) 的日线行情...\n",
                        "  - INFO: 已将 sz.000630 (sz.000630) 的数据缓存至 data\\data_cache\\raw_ohlcv\\raw_sz_000630_2010-10-27_2025-09-30.pkl\n",
                        "  - 正在从 Baostock 下载 sz.000651 (sz.000651) 的日线行情...\n",
                        "  - INFO: 已将 sz.000651 (sz.000651) 的数据缓存至 data\\data_cache\\raw_ohlcv\\raw_sz_000651_2010-10-27_2025-09-30.pkl\n",
                        "  - 正在从 Baostock 下载 sz.000661 (sz.000661) 的日线行情...\n",
                        "  - INFO: 已将 sz.000661 (sz.000661) 的数据缓存至 data\\data_cache\\raw_ohlcv\\raw_sz_000661_2010-10-27_2025-09-30.pkl\n",
                        "  - 正在从 Baostock 下载 sz.000708 (sz.000708) 的日线行情...\n",
                        "  - INFO: 已将 sz.000708 (sz.000708) 的数据缓存至 data\\data_cache\\raw_ohlcv\\raw_sz_000708_2010-10-27_2025-09-30.pkl\n",
                        "  - 正在从 Baostock 下载 sz.000725 (sz.000725) 的日线行情...\n",
                        "  - INFO: 已将 sz.000725 (sz.000725) 的数据缓存至 data\\data_cache\\raw_ohlcv\\raw_sz_000725_2010-10-27_2025-09-30.pkl\n",
                        "  - 正在从 Baostock 下载 sz.000768 (sz.000768) 的日线行情...\n",
                        "  - INFO: 已将 sz.000768 (sz.000768) 的数据缓存至 data\\data_cache\\raw_ohlcv\\raw_sz_000768_2010-10-27_2025-09-30.pkl\n",
                        "  - 正在从 Baostock 下载 sz.000776 (sz.000776) 的日线行情...\n",
                        "  - INFO: 已将 sz.000776 (sz.000776) 的数据缓存至 data\\data_cache\\raw_ohlcv\\raw_sz_000776_2010-10-27_2025-09-30.pkl\n",
                        "  - 正在从 Baostock 下载 sz.000786 (sz.000786) 的日线行情...\n",
                        "  - INFO: 已将 sz.000786 (sz.000786) 的数据缓存至 data\\data_cache\\raw_ohlcv\\raw_sz_000786_2010-10-27_2025-09-30.pkl\n",
                        "  - 正在从 Baostock 下载 sz.000792 (sz.000792) 的日线行情...\n",
                        "  - INFO: 已将 sz.000792 (sz.000792) 的数据缓存至 data\\data_cache\\raw_ohlcv\\raw_sz_000792_2010-10-27_2025-09-30.pkl\n",
                        "  - 正在从 Baostock 下载 sz.000800 (sz.000800) 的日线行情...\n",
                        "  - INFO: 已将 sz.000800 (sz.000800) 的数据缓存至 data\\data_cache\\raw_ohlcv\\raw_sz_000800_2010-10-27_2025-09-30.pkl\n",
                        "  - 正在从 Baostock 下载 sz.000807 (sz.000807) 的日线行情...\n",
                        "  - INFO: 已将 sz.000807 (sz.000807) 的数据缓存至 data\\data_cache\\raw_ohlcv\\raw_sz_000807_2010-10-27_2025-09-30.pkl\n",
                        "  - 正在从 Baostock 下载 sz.000858 (sz.000858) 的日线行情...\n",
                        "  - INFO: 已将 sz.000858 (sz.000858) 的数据缓存至 data\\data_cache\\raw_ohlcv\\raw_sz_000858_2010-10-27_2025-09-30.pkl\n",
                        "  - 正在从 Baostock 下载 sz.000876 (sz.000876) 的日线行情...\n",
                        "  - INFO: 已将 sz.000876 (sz.000876) 的数据缓存至 data\\data_cache\\raw_ohlcv\\raw_sz_000876_2010-10-27_2025-09-30.pkl\n",
                        "  - 正在从 Baostock 下载 sz.000895 (sz.000895) 的日线行情...\n",
                        "  - INFO: 已将 sz.000895 (sz.000895) 的数据缓存至 data\\data_cache\\raw_ohlcv\\raw_sz_000895_2010-10-27_2025-09-30.pkl\n",
                        "  - 正在从 Baostock 下载 sz.000938 (sz.000938) 的日线行情...\n",
                        "  - INFO: 已将 sz.000938 (sz.000938) 的数据缓存至 data\\data_cache\\raw_ohlcv\\raw_sz_000938_2010-10-27_2025-09-30.pkl\n",
                        "  - 正在从 Baostock 下载 sz.000963 (sz.000963) 的日线行情...\n",
                        "  - INFO: 已将 sz.000963 (sz.000963) 的数据缓存至 data\\data_cache\\raw_ohlcv\\raw_sz_000963_2010-10-27_2025-09-30.pkl\n",
                        "  - 正在从 Baostock 下载 sz.000975 (sz.000975) 的日线行情...\n",
                        "  - INFO: 已将 sz.000975 (sz.000975) 的数据缓存至 data\\data_cache\\raw_ohlcv\\raw_sz_000975_2010-10-27_2025-09-30.pkl\n",
                        "  - 正在从 Baostock 下载 sz.000977 (sz.000977) 的日线行情...\n",
                        "  - INFO: 已将 sz.000977 (sz.000977) 的数据缓存至 data\\data_cache\\raw_ohlcv\\raw_sz_000977_2010-10-27_2025-09-30.pkl\n",
                        "  - 正在从 Baostock 下载 sz.000983 (sz.000983) 的日线行情...\n",
                        "  - INFO: 已将 sz.000983 (sz.000983) 的数据缓存至 data\\data_cache\\raw_ohlcv\\raw_sz_000983_2010-10-27_2025-09-30.pkl\n",
                        "  - 正在从 Baostock 下载 sz.000999 (sz.000999) 的日线行情...\n",
                        "  - INFO: 已将 sz.000999 (sz.000999) 的数据缓存至 data\\data_cache\\raw_ohlcv\\raw_sz_000999_2010-10-27_2025-09-30.pkl\n",
                        "  - 正在从 Baostock 下载 sz.001289 (sz.001289) 的日线行情...\n",
                        "  - INFO: 已将 sz.001289 (sz.001289) 的数据缓存至 data\\data_cache\\raw_ohlcv\\raw_sz_001289_2010-10-27_2025-09-30.pkl\n",
                        "  - 正在从 Baostock 下载 sz.001391 (sz.001391) 的日线行情...\n",
                        "  - INFO: 已将 sz.001391 (sz.001391) 的数据缓存至 data\\data_cache\\raw_ohlcv\\raw_sz_001391_2010-10-27_2025-09-30.pkl\n",
                        "  - 正在从 Baostock 下载 sz.001965 (sz.001965) 的日线行情...\n",
                        "  - INFO: 已将 sz.001965 (sz.001965) 的数据缓存至 data\\data_cache\\raw_ohlcv\\raw_sz_001965_2010-10-27_2025-09-30.pkl\n",
                        "  - 正在从 Baostock 下载 sz.001979 (sz.001979) 的日线行情...\n",
                        "  - INFO: 已将 sz.001979 (sz.001979) 的数据缓存至 data\\data_cache\\raw_ohlcv\\raw_sz_001979_2010-10-27_2025-09-30.pkl\n",
                        "  - 正在从 Baostock 下载 sz.002001 (sz.002001) 的日线行情...\n",
                        "  - INFO: 已将 sz.002001 (sz.002001) 的数据缓存至 data\\data_cache\\raw_ohlcv\\raw_sz_002001_2010-10-27_2025-09-30.pkl\n",
                        "  - 正在从 Baostock 下载 sz.002027 (sz.002027) 的日线行情...\n",
                        "  - INFO: 已将 sz.002027 (sz.002027) 的数据缓存至 data\\data_cache\\raw_ohlcv\\raw_sz_002027_2010-10-27_2025-09-30.pkl\n",
                        "  - 正在从 Baostock 下载 sz.002028 (sz.002028) 的日线行情...\n",
                        "  - INFO: 已将 sz.002028 (sz.002028) 的数据缓存至 data\\data_cache\\raw_ohlcv\\raw_sz_002028_2010-10-27_2025-09-30.pkl\n",
                        "  - 正在从 Baostock 下载 sz.002049 (sz.002049) 的日线行情...\n",
                        "  - INFO: 已将 sz.002049 (sz.002049) 的数据缓存至 data\\data_cache\\raw_ohlcv\\raw_sz_002049_2010-10-27_2025-09-30.pkl\n",
                        "  - 正在从 Baostock 下载 sz.002050 (sz.002050) 的日线行情...\n",
                        "  - INFO: 已将 sz.002050 (sz.002050) 的数据缓存至 data\\data_cache\\raw_ohlcv\\raw_sz_002050_2010-10-27_2025-09-30.pkl\n",
                        "  - 正在从 Baostock 下载 sz.002074 (sz.002074) 的日线行情...\n",
                        "  - INFO: 已将 sz.002074 (sz.002074) 的数据缓存至 data\\data_cache\\raw_ohlcv\\raw_sz_002074_2010-10-27_2025-09-30.pkl\n",
                        "  - 正在从 Baostock 下载 sz.002129 (sz.002129) 的日线行情...\n",
                        "  - INFO: 已将 sz.002129 (sz.002129) 的数据缓存至 data\\data_cache\\raw_ohlcv\\raw_sz_002129_2010-10-27_2025-09-30.pkl\n",
                        "  - 正在从 Baostock 下载 sz.002142 (sz.002142) 的日线行情...\n",
                        "  - INFO: 已将 sz.002142 (sz.002142) 的数据缓存至 data\\data_cache\\raw_ohlcv\\raw_sz_002142_2010-10-27_2025-09-30.pkl\n",
                        "  - 正在从 Baostock 下载 sz.002179 (sz.002179) 的日线行情...\n",
                        "  - INFO: 已将 sz.002179 (sz.002179) 的数据缓存至 data\\data_cache\\raw_ohlcv\\raw_sz_002179_2010-10-27_2025-09-30.pkl\n",
                        "  - 正在从 Baostock 下载 sz.002180 (sz.002180) 的日线行情...\n",
                        "  - INFO: 已将 sz.002180 (sz.002180) 的数据缓存至 data\\data_cache\\raw_ohlcv\\raw_sz_002180_2010-10-27_2025-09-30.pkl\n",
                        "  - 正在从 Baostock 下载 sz.002230 (sz.002230) 的日线行情...\n",
                        "  - INFO: 已将 sz.002230 (sz.002230) 的数据缓存至 data\\data_cache\\raw_ohlcv\\raw_sz_002230_2010-10-27_2025-09-30.pkl\n",
                        "  - 正在从 Baostock 下载 sz.002236 (sz.002236) 的日线行情...\n",
                        "  - INFO: 已将 sz.002236 (sz.002236) 的数据缓存至 data\\data_cache\\raw_ohlcv\\raw_sz_002236_2010-10-27_2025-09-30.pkl\n",
                        "  - 正在从 Baostock 下载 sz.002241 (sz.002241) 的日线行情...\n",
                        "  - INFO: 已将 sz.002241 (sz.002241) 的数据缓存至 data\\data_cache\\raw_ohlcv\\raw_sz_002241_2010-10-27_2025-09-30.pkl\n",
                        "  - 正在从 Baostock 下载 sz.002252 (sz.002252) 的日线行情...\n",
                        "  - INFO: 已将 sz.002252 (sz.002252) 的数据缓存至 data\\data_cache\\raw_ohlcv\\raw_sz_002252_2010-10-27_2025-09-30.pkl\n",
                        "  - 正在从 Baostock 下载 sz.002304 (sz.002304) 的日线行情...\n",
                        "  - INFO: 已将 sz.002304 (sz.002304) 的数据缓存至 data\\data_cache\\raw_ohlcv\\raw_sz_002304_2010-10-27_2025-09-30.pkl\n",
                        "  - 正在从 Baostock 下载 sz.002311 (sz.002311) 的日线行情...\n",
                        "  - INFO: 已将 sz.002311 (sz.002311) 的数据缓存至 data\\data_cache\\raw_ohlcv\\raw_sz_002311_2010-10-27_2025-09-30.pkl\n",
                        "  - 正在从 Baostock 下载 sz.002352 (sz.002352) 的日线行情...\n",
                        "  - INFO: 已将 sz.002352 (sz.002352) 的数据缓存至 data\\data_cache\\raw_ohlcv\\raw_sz_002352_2010-10-27_2025-09-30.pkl\n",
                        "  - 正在从 Baostock 下载 sz.002371 (sz.002371) 的日线行情...\n",
                        "  - INFO: 已将 sz.002371 (sz.002371) 的数据缓存至 data\\data_cache\\raw_ohlcv\\raw_sz_002371_2010-10-27_2025-09-30.pkl\n",
                        "  - 正在从 Baostock 下载 sz.002415 (sz.002415) 的日线行情...\n",
                        "  - INFO: 已将 sz.002415 (sz.002415) 的数据缓存至 data\\data_cache\\raw_ohlcv\\raw_sz_002415_2010-10-27_2025-09-30.pkl\n",
                        "  - 正在从 Baostock 下载 sz.002422 (sz.002422) 的日线行情...\n",
                        "  - INFO: 已将 sz.002422 (sz.002422) 的数据缓存至 data\\data_cache\\raw_ohlcv\\raw_sz_002422_2010-10-27_2025-09-30.pkl\n",
                        "  - 正在从 Baostock 下载 sz.002459 (sz.002459) 的日线行情...\n",
                        "  - INFO: 已将 sz.002459 (sz.002459) 的数据缓存至 data\\data_cache\\raw_ohlcv\\raw_sz_002459_2010-10-27_2025-09-30.pkl\n",
                        "  - 正在从 Baostock 下载 sz.002460 (sz.002460) 的日线行情...\n",
                        "  - INFO: 已将 sz.002460 (sz.002460) 的数据缓存至 data\\data_cache\\raw_ohlcv\\raw_sz_002460_2010-10-27_2025-09-30.pkl\n",
                        "  - 正在从 Baostock 下载 sz.002463 (sz.002463) 的日线行情...\n",
                        "  - INFO: 已将 sz.002463 (sz.002463) 的数据缓存至 data\\data_cache\\raw_ohlcv\\raw_sz_002463_2010-10-27_2025-09-30.pkl\n",
                        "  - 正在从 Baostock 下载 sz.002466 (sz.002466) 的日线行情...\n",
                        "  - INFO: 已将 sz.002466 (sz.002466) 的数据缓存至 data\\data_cache\\raw_ohlcv\\raw_sz_002466_2010-10-27_2025-09-30.pkl\n",
                        "  - 正在从 Baostock 下载 sz.002475 (sz.002475) 的日线行情...\n",
                        "  - INFO: 已将 sz.002475 (sz.002475) 的数据缓存至 data\\data_cache\\raw_ohlcv\\raw_sz_002475_2010-10-27_2025-09-30.pkl\n",
                        "  - 正在从 Baostock 下载 sz.002493 (sz.002493) 的日线行情...\n",
                        "  - INFO: 已将 sz.002493 (sz.002493) 的数据缓存至 data\\data_cache\\raw_ohlcv\\raw_sz_002493_2010-10-27_2025-09-30.pkl\n",
                        "  - 正在从 Baostock 下载 sz.002594 (sz.002594) 的日线行情...\n",
                        "  - INFO: 已将 sz.002594 (sz.002594) 的数据缓存至 data\\data_cache\\raw_ohlcv\\raw_sz_002594_2010-10-27_2025-09-30.pkl\n",
                        "  - 正在从 Baostock 下载 sz.002600 (sz.002600) 的日线行情...\n",
                        "  - INFO: 已将 sz.002600 (sz.002600) 的数据缓存至 data\\data_cache\\raw_ohlcv\\raw_sz_002600_2010-10-27_2025-09-30.pkl\n",
                        "  - 正在从 Baostock 下载 sz.002601 (sz.002601) 的日线行情...\n",
                        "  - INFO: 已将 sz.002601 (sz.002601) 的数据缓存至 data\\data_cache\\raw_ohlcv\\raw_sz_002601_2010-10-27_2025-09-30.pkl\n",
                        "  - 正在从 Baostock 下载 sz.002648 (sz.002648) 的日线行情...\n",
                        "  - INFO: 已将 sz.002648 (sz.002648) 的数据缓存至 data\\data_cache\\raw_ohlcv\\raw_sz_002648_2010-10-27_2025-09-30.pkl\n",
                        "  - 正在从 Baostock 下载 sz.002709 (sz.002709) 的日线行情...\n",
                        "  - INFO: 已将 sz.002709 (sz.002709) 的数据缓存至 data\\data_cache\\raw_ohlcv\\raw_sz_002709_2010-10-27_2025-09-30.pkl\n",
                        "  - 正在从 Baostock 下载 sz.002714 (sz.002714) 的日线行情...\n",
                        "  - INFO: 已将 sz.002714 (sz.002714) 的数据缓存至 data\\data_cache\\raw_ohlcv\\raw_sz_002714_2010-10-27_2025-09-30.pkl\n",
                        "  - 正在从 Baostock 下载 sz.002736 (sz.002736) 的日线行情...\n",
                        "  - INFO: 已将 sz.002736 (sz.002736) 的数据缓存至 data\\data_cache\\raw_ohlcv\\raw_sz_002736_2010-10-27_2025-09-30.pkl\n",
                        "  - 正在从 Baostock 下载 sz.002916 (sz.002916) 的日线行情...\n",
                        "  - INFO: 已将 sz.002916 (sz.002916) 的数据缓存至 data\\data_cache\\raw_ohlcv\\raw_sz_002916_2010-10-27_2025-09-30.pkl\n",
                        "  - 正在从 Baostock 下载 sz.002920 (sz.002920) 的日线行情...\n",
                        "  - INFO: 已将 sz.002920 (sz.002920) 的数据缓存至 data\\data_cache\\raw_ohlcv\\raw_sz_002920_2010-10-27_2025-09-30.pkl\n",
                        "  - 正在从 Baostock 下载 sz.002938 (sz.002938) 的日线行情...\n",
                        "  - INFO: 已将 sz.002938 (sz.002938) 的数据缓存至 data\\data_cache\\raw_ohlcv\\raw_sz_002938_2010-10-27_2025-09-30.pkl\n",
                        "  - 正在从 Baostock 下载 sz.003816 (sz.003816) 的日线行情...\n",
                        "  - INFO: 已将 sz.003816 (sz.003816) 的数据缓存至 data\\data_cache\\raw_ohlcv\\raw_sz_003816_2010-10-27_2025-09-30.pkl\n",
                        "  - 正在从 Baostock 下载 sz.300014 (sz.300014) 的日线行情...\n",
                        "  - INFO: 已将 sz.300014 (sz.300014) 的数据缓存至 data\\data_cache\\raw_ohlcv\\raw_sz_300014_2010-10-27_2025-09-30.pkl\n",
                        "  - 正在从 Baostock 下载 sz.300015 (sz.300015) 的日线行情...\n",
                        "  - INFO: 已将 sz.300015 (sz.300015) 的数据缓存至 data\\data_cache\\raw_ohlcv\\raw_sz_300015_2010-10-27_2025-09-30.pkl\n",
                        "  - 正在从 Baostock 下载 sz.300033 (sz.300033) 的日线行情...\n",
                        "  - INFO: 已将 sz.300033 (sz.300033) 的数据缓存至 data\\data_cache\\raw_ohlcv\\raw_sz_300033_2010-10-27_2025-09-30.pkl\n",
                        "  - 正在从 Baostock 下载 sz.300059 (sz.300059) 的日线行情...\n",
                        "  - INFO: 已将 sz.300059 (sz.300059) 的数据缓存至 data\\data_cache\\raw_ohlcv\\raw_sz_300059_2010-10-27_2025-09-30.pkl\n",
                        "  - 正在从 Baostock 下载 sz.300122 (sz.300122) 的日线行情...\n",
                        "  - INFO: 已将 sz.300122 (sz.300122) 的数据缓存至 data\\data_cache\\raw_ohlcv\\raw_sz_300122_2010-10-27_2025-09-30.pkl\n",
                        "  - 正在从 Baostock 下载 sz.300124 (sz.300124) 的日线行情...\n",
                        "  - INFO: 已将 sz.300124 (sz.300124) 的数据缓存至 data\\data_cache\\raw_ohlcv\\raw_sz_300124_2010-10-27_2025-09-30.pkl\n",
                        "  - 正在从 Baostock 下载 sz.300274 (sz.300274) 的日线行情...\n",
                        "  - INFO: 已将 sz.300274 (sz.300274) 的数据缓存至 data\\data_cache\\raw_ohlcv\\raw_sz_300274_2010-10-27_2025-09-30.pkl\n",
                        "  - 正在从 Baostock 下载 sz.300308 (sz.300308) 的日线行情...\n",
                        "  - INFO: 已将 sz.300308 (sz.300308) 的数据缓存至 data\\data_cache\\raw_ohlcv\\raw_sz_300308_2010-10-27_2025-09-30.pkl\n",
                        "  - 正在从 Baostock 下载 sz.300316 (sz.300316) 的日线行情...\n",
                        "  - INFO: 已将 sz.300316 (sz.300316) 的数据缓存至 data\\data_cache\\raw_ohlcv\\raw_sz_300316_2010-10-27_2025-09-30.pkl\n",
                        "  - 正在从 Baostock 下载 sz.300347 (sz.300347) 的日线行情...\n",
                        "  - INFO: 已将 sz.300347 (sz.300347) 的数据缓存至 data\\data_cache\\raw_ohlcv\\raw_sz_300347_2010-10-27_2025-09-30.pkl\n",
                        "  - 正在从 Baostock 下载 sz.300394 (sz.300394) 的日线行情...\n",
                        "  - INFO: 已将 sz.300394 (sz.300394) 的数据缓存至 data\\data_cache\\raw_ohlcv\\raw_sz_300394_2010-10-27_2025-09-30.pkl\n",
                        "  - 正在从 Baostock 下载 sz.300408 (sz.300408) 的日线行情...\n",
                        "  - INFO: 已将 sz.300408 (sz.300408) 的数据缓存至 data\\data_cache\\raw_ohlcv\\raw_sz_300408_2010-10-27_2025-09-30.pkl\n",
                        "  - 正在从 Baostock 下载 sz.300413 (sz.300413) 的日线行情...\n",
                        "  - INFO: 已将 sz.300413 (sz.300413) 的数据缓存至 data\\data_cache\\raw_ohlcv\\raw_sz_300413_2010-10-27_2025-09-30.pkl\n",
                        "  - 正在从 Baostock 下载 sz.300418 (sz.300418) 的日线行情...\n",
                        "  - INFO: 已将 sz.300418 (sz.300418) 的数据缓存至 data\\data_cache\\raw_ohlcv\\raw_sz_300418_2010-10-27_2025-09-30.pkl\n",
                        "  - 正在从 Baostock 下载 sz.300433 (sz.300433) 的日线行情...\n",
                        "  - INFO: 已将 sz.300433 (sz.300433) 的数据缓存至 data\\data_cache\\raw_ohlcv\\raw_sz_300433_2010-10-27_2025-09-30.pkl\n",
                        "  - 正在从 Baostock 下载 sz.300442 (sz.300442) 的日线行情...\n",
                        "  - INFO: 已将 sz.300442 (sz.300442) 的数据缓存至 data\\data_cache\\raw_ohlcv\\raw_sz_300442_2010-10-27_2025-09-30.pkl\n",
                        "  - 正在从 Baostock 下载 sz.300498 (sz.300498) 的日线行情...\n",
                        "  - INFO: 已将 sz.300498 (sz.300498) 的数据缓存至 data\\data_cache\\raw_ohlcv\\raw_sz_300498_2010-10-27_2025-09-30.pkl\n",
                        "  - 正在从 Baostock 下载 sz.300502 (sz.300502) 的日线行情...\n",
                        "  - INFO: 已将 sz.300502 (sz.300502) 的数据缓存至 data\\data_cache\\raw_ohlcv\\raw_sz_300502_2010-10-27_2025-09-30.pkl\n",
                        "  - 正在从 Baostock 下载 sz.300628 (sz.300628) 的日线行情...\n",
                        "  - INFO: 已将 sz.300628 (sz.300628) 的数据缓存至 data\\data_cache\\raw_ohlcv\\raw_sz_300628_2010-10-27_2025-09-30.pkl\n",
                        "  - 正在从 Baostock 下载 sz.300661 (sz.300661) 的日线行情...\n",
                        "  - INFO: 已将 sz.300661 (sz.300661) 的数据缓存至 data\\data_cache\\raw_ohlcv\\raw_sz_300661_2010-10-27_2025-09-30.pkl\n",
                        "  - 正在从 Baostock 下载 sz.300750 (sz.300750) 的日线行情...\n",
                        "  - INFO: 已将 sz.300750 (sz.300750) 的数据缓存至 data\\data_cache\\raw_ohlcv\\raw_sz_300750_2010-10-27_2025-09-30.pkl\n",
                        "  - 正在从 Baostock 下载 sz.300759 (sz.300759) 的日线行情...\n",
                        "  - INFO: 已将 sz.300759 (sz.300759) 的数据缓存至 data\\data_cache\\raw_ohlcv\\raw_sz_300759_2010-10-27_2025-09-30.pkl\n",
                        "  - 正在从 Baostock 下载 sz.300760 (sz.300760) 的日线行情...\n",
                        "  - INFO: 已将 sz.300760 (sz.300760) 的数据缓存至 data\\data_cache\\raw_ohlcv\\raw_sz_300760_2010-10-27_2025-09-30.pkl\n",
                        "  - 正在从 Baostock 下载 sz.300782 (sz.300782) 的日线行情...\n",
                        "  - INFO: 已将 sz.300782 (sz.300782) 的数据缓存至 data\\data_cache\\raw_ohlcv\\raw_sz_300782_2010-10-27_2025-09-30.pkl\n",
                        "  - 正在从 Baostock 下载 sz.300832 (sz.300832) 的日线行情...\n",
                        "  - INFO: 已将 sz.300832 (sz.300832) 的数据缓存至 data\\data_cache\\raw_ohlcv\\raw_sz_300832_2010-10-27_2025-09-30.pkl\n",
                        "  - 正在从 Baostock 下载 sz.300896 (sz.300896) 的日线行情...\n",
                        "  - INFO: 已将 sz.300896 (sz.300896) 的数据缓存至 data\\data_cache\\raw_ohlcv\\raw_sz_300896_2010-10-27_2025-09-30.pkl\n",
                        "  - 正在从 Baostock 下载 sz.300979 (sz.300979) 的日线行情...\n",
                        "  - INFO: 已将 sz.300979 (sz.300979) 的数据缓存至 data\\data_cache\\raw_ohlcv\\raw_sz_300979_2010-10-27_2025-09-30.pkl\n",
                        "  - 正在从 Baostock 下载 sz.300999 (sz.300999) 的日线行情...\n",
                        "  - INFO: 已将 sz.300999 (sz.300999) 的数据缓存至 data\\data_cache\\raw_ohlcv\\raw_sz_300999_2010-10-27_2025-09-30.pkl\n",
                        "  - 正在从 Baostock 下载 sz.301236 (sz.301236) 的日线行情...\n",
                        "  - INFO: 已将 sz.301236 (sz.301236) 的数据缓存至 data\\data_cache\\raw_ohlcv\\raw_sz_301236_2010-10-27_2025-09-30.pkl\n",
                        "  - 正在从 Baostock 下载 sz.301269 (sz.301269) 的日线行情...\n",
                        "  - INFO: 已将 sz.301269 (sz.301269) 的数据缓存至 data\\data_cache\\raw_ohlcv\\raw_sz_301269_2010-10-27_2025-09-30.pkl\n",
                        "  - 正在从 Baostock 下载 sz.302132 (sz.302132) 的日线行情...\n",
                        "  - INFO: 已将 sz.302132 (sz.302132) 的数据缓存至 data\\data_cache\\raw_ohlcv\\raw_sz_302132_2010-10-27_2025-09-30.pkl\n"
                    ]
                },
                {
                    "name": "stderr",
                    "output_type": "stream",
                    "text": [
                        "d:\\Project\\Command\\Python\\Neural\\Wolf_of_Wall_Street\\data_process\\get_data.py:107: FutureWarning: The default fill_method='pad' in DataFrame.pct_change is deprecated and will be removed in a future version. Either fill in any non-leading NA values prior to calling pct_change or specify 'fill_method=None' to not fill NA values.\n",
                        "  returns_df = closes_df.pct_change().fillna(0)\n"
                    ]
                },
                {
                    "name": "stdout",
                    "output_type": "stream",
                    "text": [
                        "--- 市场广度数据已生成并缓存至 data\\data_cache\\market_breadth_2010-10-27_2025-09-30.pkl ---\n",
                        "INFO: 正在下载 4 个外部市场的数据: ['SPY', 'QQQ', 'GLD', 'TLT']\n",
                        "  - 正在为 SPY 获取美股数据...\n",
                        "  - 正在从 Yahoo Finance 下载 SPY 的数据...\n"
                    ]
                },
                {
                    "name": "stderr",
                    "output_type": "stream",
                    "text": [
                        "d:\\Project\\Command\\Python\\Neural\\Wolf_of_Wall_Street\\data_process\\get_data.py:310: FutureWarning: YF.download() has changed argument auto_adjust default to True\n",
                        "  df = yf.download(ticker, start=start_date, end=end_date_inclusive, progress=False)\n",
                        "\n",
                        "1 Failed download:\n",
                        "['SPY']: YFRateLimitError('Too Many Requests. Rate limited. Try after a while.')\n"
                    ]
                },
                {
                    "name": "stdout",
                    "output_type": "stream",
                    "text": [
                        "  - 警告 [YF]: 下载 SPY 数据失败 (尝试 1/3). 将在 0.50 秒后重试. 错误: yfinance returned an empty DataFrame for SPY.\n"
                    ]
                },
                {
                    "name": "stderr",
                    "output_type": "stream",
                    "text": [
                        "d:\\Project\\Command\\Python\\Neural\\Wolf_of_Wall_Street\\data_process\\get_data.py:310: FutureWarning: YF.download() has changed argument auto_adjust default to True\n",
                        "  df = yf.download(ticker, start=start_date, end=end_date_inclusive, progress=False)\n",
                        "\n",
                        "1 Failed download:\n",
                        "['SPY']: YFRateLimitError('Too Many Requests. Rate limited. Try after a while.')\n"
                    ]
                },
                {
                    "name": "stdout",
                    "output_type": "stream",
                    "text": [
                        "  - 警告 [YF]: 下载 SPY 数据失败 (尝试 2/3). 将在 1.00 秒后重试. 错误: yfinance returned an empty DataFrame for SPY.\n"
                    ]
                },
                {
                    "name": "stderr",
                    "output_type": "stream",
                    "text": [
                        "d:\\Project\\Command\\Python\\Neural\\Wolf_of_Wall_Street\\data_process\\get_data.py:310: FutureWarning: YF.download() has changed argument auto_adjust default to True\n",
                        "  df = yf.download(ticker, start=start_date, end=end_date_inclusive, progress=False)\n",
                        "\n",
                        "1 Failed download:\n",
                        "['SPY']: YFRateLimitError('Too Many Requests. Rate limited. Try after a while.')\n"
                    ]
                },
                {
                    "name": "stdout",
                    "output_type": "stream",
                    "text": [
                        "  - 警告 [YF]: 下载 SPY 数据失败 (尝试 3/3). 将在 2.00 秒后重试. 错误: yfinance returned an empty DataFrame for SPY.\n",
                        "  - 错误 [YF]: 下载 SPY 数据在 3 次尝试后仍失败。\n",
                        "  - 正在为 QQQ 获取美股数据...\n",
                        "  - 正在从 Yahoo Finance 下载 QQQ 的数据...\n"
                    ]
                },
                {
                    "name": "stderr",
                    "output_type": "stream",
                    "text": [
                        "d:\\Project\\Command\\Python\\Neural\\Wolf_of_Wall_Street\\data_process\\get_data.py:310: FutureWarning: YF.download() has changed argument auto_adjust default to True\n",
                        "  df = yf.download(ticker, start=start_date, end=end_date_inclusive, progress=False)\n",
                        "\n",
                        "1 Failed download:\n",
                        "['QQQ']: YFRateLimitError('Too Many Requests. Rate limited. Try after a while.')\n"
                    ]
                },
                {
                    "name": "stdout",
                    "output_type": "stream",
                    "text": [
                        "  - 警告 [YF]: 下载 QQQ 数据失败 (尝试 1/3). 将在 0.50 秒后重试. 错误: yfinance returned an empty DataFrame for QQQ.\n"
                    ]
                },
                {
                    "name": "stderr",
                    "output_type": "stream",
                    "text": [
                        "d:\\Project\\Command\\Python\\Neural\\Wolf_of_Wall_Street\\data_process\\get_data.py:310: FutureWarning: YF.download() has changed argument auto_adjust default to True\n",
                        "  df = yf.download(ticker, start=start_date, end=end_date_inclusive, progress=False)\n",
                        "\n",
                        "1 Failed download:\n",
                        "['QQQ']: YFRateLimitError('Too Many Requests. Rate limited. Try after a while.')\n"
                    ]
                },
                {
                    "name": "stdout",
                    "output_type": "stream",
                    "text": [
                        "  - 警告 [YF]: 下载 QQQ 数据失败 (尝试 2/3). 将在 1.00 秒后重试. 错误: yfinance returned an empty DataFrame for QQQ.\n"
                    ]
                },
                {
                    "name": "stderr",
                    "output_type": "stream",
                    "text": [
                        "d:\\Project\\Command\\Python\\Neural\\Wolf_of_Wall_Street\\data_process\\get_data.py:310: FutureWarning: YF.download() has changed argument auto_adjust default to True\n",
                        "  df = yf.download(ticker, start=start_date, end=end_date_inclusive, progress=False)\n",
                        "\n",
                        "1 Failed download:\n",
                        "['QQQ']: YFRateLimitError('Too Many Requests. Rate limited. Try after a while.')\n"
                    ]
                },
                {
                    "name": "stdout",
                    "output_type": "stream",
                    "text": [
                        "  - 警告 [YF]: 下载 QQQ 数据失败 (尝试 3/3). 将在 2.00 秒后重试. 错误: yfinance returned an empty DataFrame for QQQ.\n",
                        "  - 错误 [YF]: 下载 QQQ 数据在 3 次尝试后仍失败。\n",
                        "  - 正在为 GLD 获取美股数据...\n",
                        "  - 正在从 Yahoo Finance 下载 GLD 的数据...\n"
                    ]
                },
                {
                    "name": "stderr",
                    "output_type": "stream",
                    "text": [
                        "d:\\Project\\Command\\Python\\Neural\\Wolf_of_Wall_Street\\data_process\\get_data.py:310: FutureWarning: YF.download() has changed argument auto_adjust default to True\n",
                        "  df = yf.download(ticker, start=start_date, end=end_date_inclusive, progress=False)\n",
                        "\n",
                        "1 Failed download:\n",
                        "['GLD']: YFRateLimitError('Too Many Requests. Rate limited. Try after a while.')\n"
                    ]
                },
                {
                    "name": "stdout",
                    "output_type": "stream",
                    "text": [
                        "  - 警告 [YF]: 下载 GLD 数据失败 (尝试 1/3). 将在 0.50 秒后重试. 错误: yfinance returned an empty DataFrame for GLD.\n"
                    ]
                },
                {
                    "name": "stderr",
                    "output_type": "stream",
                    "text": [
                        "d:\\Project\\Command\\Python\\Neural\\Wolf_of_Wall_Street\\data_process\\get_data.py:310: FutureWarning: YF.download() has changed argument auto_adjust default to True\n",
                        "  df = yf.download(ticker, start=start_date, end=end_date_inclusive, progress=False)\n",
                        "\n",
                        "1 Failed download:\n",
                        "['GLD']: YFRateLimitError('Too Many Requests. Rate limited. Try after a while.')\n"
                    ]
                },
                {
                    "name": "stdout",
                    "output_type": "stream",
                    "text": [
                        "  - 警告 [YF]: 下载 GLD 数据失败 (尝试 2/3). 将在 1.00 秒后重试. 错误: yfinance returned an empty DataFrame for GLD.\n"
                    ]
                },
                {
                    "name": "stderr",
                    "output_type": "stream",
                    "text": [
                        "d:\\Project\\Command\\Python\\Neural\\Wolf_of_Wall_Street\\data_process\\get_data.py:310: FutureWarning: YF.download() has changed argument auto_adjust default to True\n",
                        "  df = yf.download(ticker, start=start_date, end=end_date_inclusive, progress=False)\n",
                        "\n",
                        "1 Failed download:\n",
                        "['GLD']: YFRateLimitError('Too Many Requests. Rate limited. Try after a while.')\n"
                    ]
                },
                {
                    "name": "stdout",
                    "output_type": "stream",
                    "text": [
                        "  - 警告 [YF]: 下载 GLD 数据失败 (尝试 3/3). 将在 2.00 秒后重试. 错误: yfinance returned an empty DataFrame for GLD.\n",
                        "  - 错误 [YF]: 下载 GLD 数据在 3 次尝试后仍失败。\n",
                        "  - 正在为 TLT 获取美股数据...\n",
                        "  - 正在从 Yahoo Finance 下载 TLT 的数据...\n"
                    ]
                },
                {
                    "name": "stderr",
                    "output_type": "stream",
                    "text": [
                        "d:\\Project\\Command\\Python\\Neural\\Wolf_of_Wall_Street\\data_process\\get_data.py:310: FutureWarning: YF.download() has changed argument auto_adjust default to True\n",
                        "  df = yf.download(ticker, start=start_date, end=end_date_inclusive, progress=False)\n",
                        "\n",
                        "1 Failed download:\n",
                        "['TLT']: YFRateLimitError('Too Many Requests. Rate limited. Try after a while.')\n"
                    ]
                },
                {
                    "name": "stdout",
                    "output_type": "stream",
                    "text": [
                        "  - 警告 [YF]: 下载 TLT 数据失败 (尝试 1/3). 将在 0.50 秒后重试. 错误: yfinance returned an empty DataFrame for TLT.\n"
                    ]
                },
                {
                    "name": "stderr",
                    "output_type": "stream",
                    "text": [
                        "d:\\Project\\Command\\Python\\Neural\\Wolf_of_Wall_Street\\data_process\\get_data.py:310: FutureWarning: YF.download() has changed argument auto_adjust default to True\n",
                        "  df = yf.download(ticker, start=start_date, end=end_date_inclusive, progress=False)\n",
                        "\n",
                        "1 Failed download:\n",
                        "['TLT']: YFRateLimitError('Too Many Requests. Rate limited. Try after a while.')\n"
                    ]
                },
                {
                    "name": "stdout",
                    "output_type": "stream",
                    "text": [
                        "  - 警告 [YF]: 下载 TLT 数据失败 (尝试 2/3). 将在 1.00 秒后重试. 错误: yfinance returned an empty DataFrame for TLT.\n"
                    ]
                },
                {
                    "name": "stderr",
                    "output_type": "stream",
                    "text": [
                        "d:\\Project\\Command\\Python\\Neural\\Wolf_of_Wall_Street\\data_process\\get_data.py:310: FutureWarning: YF.download() has changed argument auto_adjust default to True\n",
                        "  df = yf.download(ticker, start=start_date, end=end_date_inclusive, progress=False)\n",
                        "\n",
                        "1 Failed download:\n",
                        "['TLT']: YFRateLimitError('Too Many Requests. Rate limited. Try after a while.')\n"
                    ]
                },
                {
                    "name": "stdout",
                    "output_type": "stream",
                    "text": [
                        "  - 警告 [YF]: 下载 TLT 数据失败 (尝试 3/3). 将在 2.00 秒后重试. 错误: yfinance returned an empty DataFrame for TLT.\n",
                        "  - 错误 [YF]: 下载 TLT 数据在 3 次尝试后仍失败。\n",
                        "--- 正在获取市场情绪数据 (恐慌指数) ---\n",
                        "  - 错误 [akshare]: 获取市场情绪数据失败: module 'akshare' has no attribute 'idx_ivix'\n",
                        "--- 所有全局市场数据准备完毕 ---\n",
                        "\n",
                        "\n",
                        "--- 正在为 TCL科技 (000100.SZ) 生成【训练用】历史特征 ---\n",
                        "  - 数据窗口: 2010-10-27 to 2025-09-30\n",
                        "  - 正在从本地缓存加载 TCL科技 (sz.000100) 的原始日线数据...\n",
                        "  - INFO: 正在为 'TCL科技的行业指数' (159928.SZ) 获取指数数据...\n",
                        "  - 正在从 Baostock 下载 TCL科技的行业指数 (159928.SZ) 的日线行情...\n",
                        "  - WARNING [BS]: 未能获取到 TCL科技的行业指数 (159928.SZ) 在指定日期范围的数据。\n",
                        "    - 警告: 无法直接获取指数 'TCL科技的行业指数' (159928.SZ)。将尝试在本地合成等权重指数...\n",
                        "    - 错误: 在 API 映射表中未找到指数 'TCL科技的行业指数' (159928.SZ) 的成分股查询接口。\n",
                        "  - INFO: 正在为 '基准指数' (sh.000300) 获取指数数据...\n",
                        "  - 正在从 Baostock 下载 基准指数 (sh.000300) 的日线行情...\n",
                        "  - INFO: 已将 基准指数 (sh.000300) 的数据缓存至 data\\data_cache\\raw_ohlcv\\raw_sh_000300_2010-10-27_2025-09-30.pkl\n",
                        "    - SUCCESS: 已直接从 Baostock 获取到 '基准指数' (sh.000300) 的数据。\n",
                        "INFO: 开始特征计算流水线...\n",
                        "  - [Calculating Features] Running: Technical Indicators...\n",
                        "    - Calculated: ema with params {'length': 10}\n",
                        "    - Calculated: ema with params {'length': 30}\n",
                        "    - Calculated: ema with params {'length': 50}\n",
                        "    - Calculated: ema with params {'length': 200}\n",
                        "    - Calculated: sma with params {'length': 20}\n",
                        "    - Calculated: dema with params {'length': 20}\n",
                        "    - Calculated: tema with params {'length': 20}\n",
                        "    - Calculated: adx with params {'length': 14}\n",
                        "    - Calculated: rsi with params {'length': 14}\n",
                        "    - Calculated: stoch with params {'k': 14, 'd': 3, 'smooth_k': 3}\n",
                        "    - Calculated: macd with params {'fast': 12, 'slow': 26, 'signal': 9}\n",
                        "    - Calculated: ppo with params {'fast': 12, 'slow': 26}\n",
                        "    - Calculated: roc with params {'length': 10}\n",
                        "    - Calculated: mom with params {'length': 10}\n",
                        "    - Calculated: bbands with params {'length': 20, 'std': 2}\n",
                        "    - Calculated: atr with params {'length': 14}\n",
                        "    - Calculated: natr with params {'length': 14}\n",
                        "    - Calculated: donchian with params {'lower_length': 20, 'upper_length': 20}\n",
                        "    - Calculated: obv with params {}\n",
                        "    - Calculated: mfi with params {'length': 14}\n",
                        "    - Calculated: vwap with params {}\n",
                        "    - Calculated: psar with params {'acceleration': 0.02, 'maximum': 0.2}\n",
                        "    - Calculated: ichimoku with params {'tenkan': 9, 'kijun': 26, 'senkou': 52}\n",
                        "  - [Calculating Features] Running: Calendar Features...\n",
                        "  - [Calculating Features] Running: Candlestick Patterns...\n",
                        "  - [Calculating Features] Running: Statistical Features...\n",
                        "  - [Calculating Features] Running: Price Structure Features...\n",
                        "  - [Calculating Features] Running: Volume Features...\n",
                        "  - [Calculating Features] Running: Trend Regime Features (Vectorized)...\n",
                        "  - [Calculating Features] Running: Momentum & Volatility Features...\n",
                        "  - [Calculating Features] Running: Fundamental Features...\n",
                        "    - WARNNING: Tushare Pro API not available. Skipping Fundamental Features.\n",
                        "  - [Calculating Features] Running: Relative Strength & Beta Features...\n",
                        "    - WARNNING: Missing 'benchmark_close' or 'industry_close' column. Skipping Relative Strength & Beta Features.\n",
                        "  - [Calculating Features] Running: Market Regime Features...\n",
                        "  - [Calculating Features] Running: Advanced Risk Features...\n",
                        "  - [计算特征] 正在运行: 交叉信号特征 (金叉/死叉)...\n",
                        "    - 已计算: ema_50_200 (金叉/死叉信号)\n",
                        "    - 已计算: macd_signal (金叉/死叉信号)\n",
                        "  - [计算特征] 正在运行: K线量化解构特征...\n",
                        "    - 已计算: K线在布林带中的位置\n",
                        "    - 已计算: 波动率扩张比率\n",
                        "    - 已计算: 跳空缺口大小\n",
                        "  - [计算特征] 信息: 未提供外部市场数据，跳过 跨市场关联特征。\n",
                        "  - [计算特征] 正在运行: 流动性与资金流特征...\n",
                        "    - 已计算: Amihud 非流动性指标\n",
                        "    - 已计算: 60日成交量 Z-Score\n",
                        "  - [Calculating Features] Running: Contextual & Cross-Sectional Features...\n",
                        "    - Calculated: Market Trend Regime (Uptrend/Downtrend)\n",
                        "    - Created Cross-Feature: RSI x Trend Regime\n",
                        "    - Created Cross-Feature: ROC x Volatility Regime\n",
                        "    - Created Cross-Feature: Volume Change x Trend Regime\n",
                        "INFO: 特征计算流水线结束。\n",
                        "INFO: 训练模式，将运行完整的后处理流程 (包括特征选择和标签生成)。\n",
                        "  - [Post-processing] Running: Stationarity Transformer...\n",
                        "  - [Post-processing] Running: Correlation Selector...\n",
                        "    - Removed 50 highly correlated features: ['ema_30', 'ema_50', 'ema_200', 'sma_20', 'dema_20', 'tema_20', 'adxr_14_2', 'stochd_14_3_3', 'macds_12_26_9', 'ppos_12_26_9', 'mom_10', 'bbl_20_2.0_2.0', 'bbm_20_2.0_2.0', 'bbu_20_2.0_2.0', 'dcl_20_20', 'dcm_20_20', 'dcu_20_20', 'vwap_d', 'psarl_0.02_0.2', 'psars_0.02_0.2', 'isa_9', 'isb_26', 'its_9', 'iks_26', 'ics_26', 'year', 'week_of_year', 'return_10', 'return_20', 'volatility_20', 'zscore_20', 'volatility_30', 'zscore_30', 'volatility_45', 'zscore_45', 'volatility_60', 'zscore_60', 'vwap', 'trend_slope', 'momentum_3m', 'volatility_3m', 'sharpe_3m', 'downside_vol_3m', 'sharpe_6m', 'downside_vol_6m', 'sharpe_12m', 'downside_vol_12m', 'max_drawdown_60d', 'candle_pos_in_bbands', 'rsi_x_uptrend']\n",
                        "\n",
                        "  --- [数据后处理] INFO: 为 TCL科技 (000100.SZ) 计算原始收益率标签... ---\n",
                        "    - INFO: 将使用标签列名 'label_return'，预测未来 45 天的收益率。\n",
                        "    - INFO: 正在对 'close' 列执行 pct_change(periods=45).shift(-45)...\n",
                        "    - INFO: 计算完成。结果包含 45 个 NaN 值 (共 3632 行)。\n",
                        "    - INFO: 已成功将计算结果添加到 DataFrame 的 'label_return' 列。\n",
                        "    - INFO: 正在对标签列进行去极值处理 (clip at 1% and 99%)...\n",
                        "  --- 成功为 TCL科技 (000100.SZ) 生成原始收益率标签 ---\n",
                        "INFO: 运行架构验证...\n",
                        "    - WARNNING (Data Gaps): Found 14 large gap(s) in time series after the first data point. Max gap: 152 days 00:00:00.\n",
                        "SUCCESS: 数据结构和时间索引验证通过.\n",
                        "--- SUCCESS: 成功为 TCL科技 (000100.SZ) 生成特征. 维度: (3040, 86) ---\n",
                        "\n",
                        "--- 正在为 兴业矿业 (000426.SZ) 生成【训练用】历史特征 ---\n",
                        "  - 数据窗口: 2010-10-27 to 2025-09-30\n",
                        "  - 正在从 Baostock 下载 兴业矿业 (sz.000426) 的日线行情...\n",
                        "  - INFO: 已将 兴业矿业 (sz.000426) 的数据缓存至 data\\data_cache\\raw_ohlcv\\raw_sz_000426_2010-10-27_2025-09-30.pkl\n",
                        "  - INFO: 正在为 '兴业矿业的行业指数' (159915.SZ) 获取指数数据...\n",
                        "  - 正在从 Baostock 下载 兴业矿业的行业指数 (159915.SZ) 的日线行情...\n",
                        "  - WARNING [BS]: 未能获取到 兴业矿业的行业指数 (159915.SZ) 在指定日期范围的数据。\n",
                        "    - 警告: 无法直接获取指数 '兴业矿业的行业指数' (159915.SZ)。将尝试在本地合成等权重指数...\n",
                        "    - 错误: 在 API 映射表中未找到指数 '兴业矿业的行业指数' (159915.SZ) 的成分股查询接口。\n",
                        "  - INFO: 正在为 '基准指数' (sh.000300) 获取指数数据...\n",
                        "  - 正在从本地缓存加载 基准指数 (sh.000300) 的原始日线数据...\n",
                        "    - SUCCESS: 已直接从 Baostock 获取到 '基准指数' (sh.000300) 的数据。\n",
                        "INFO: 开始特征计算流水线...\n",
                        "  - [Calculating Features] Running: Technical Indicators...\n",
                        "    - Calculated: ema with params {'length': 10}\n",
                        "    - Calculated: ema with params {'length': 30}\n",
                        "    - Calculated: ema with params {'length': 50}\n",
                        "    - Calculated: ema with params {'length': 200}\n",
                        "    - Calculated: sma with params {'length': 20}\n",
                        "    - Calculated: dema with params {'length': 20}\n",
                        "    - Calculated: tema with params {'length': 20}\n",
                        "    - Calculated: adx with params {'length': 14}\n",
                        "    - Calculated: rsi with params {'length': 14}\n",
                        "    - Calculated: stoch with params {'k': 14, 'd': 3, 'smooth_k': 3}\n",
                        "    - Calculated: macd with params {'fast': 12, 'slow': 26, 'signal': 9}\n",
                        "    - Calculated: ppo with params {'fast': 12, 'slow': 26}\n",
                        "    - Calculated: roc with params {'length': 10}\n",
                        "    - Calculated: mom with params {'length': 10}\n",
                        "    - Calculated: bbands with params {'length': 20, 'std': 2}\n",
                        "    - Calculated: atr with params {'length': 14}\n",
                        "    - Calculated: natr with params {'length': 14}\n",
                        "    - Calculated: donchian with params {'lower_length': 20, 'upper_length': 20}\n",
                        "    - Calculated: obv with params {}\n",
                        "    - Calculated: mfi with params {'length': 14}\n",
                        "    - Calculated: vwap with params {}\n",
                        "    - Calculated: psar with params {'acceleration': 0.02, 'maximum': 0.2}\n",
                        "    - Calculated: ichimoku with params {'tenkan': 9, 'kijun': 26, 'senkou': 52}\n",
                        "  - [Calculating Features] Running: Calendar Features...\n",
                        "  - [Calculating Features] Running: Candlestick Patterns...\n",
                        "  - [Calculating Features] Running: Statistical Features...\n",
                        "  - [Calculating Features] Running: Price Structure Features...\n",
                        "  - [Calculating Features] Running: Volume Features...\n",
                        "  - [Calculating Features] Running: Trend Regime Features (Vectorized)...\n",
                        "  - [Calculating Features] Running: Momentum & Volatility Features...\n",
                        "  - [Calculating Features] Running: Fundamental Features...\n",
                        "    - WARNNING: Tushare Pro API not available. Skipping Fundamental Features.\n",
                        "  - [Calculating Features] Running: Relative Strength & Beta Features...\n",
                        "    - WARNNING: Missing 'benchmark_close' or 'industry_close' column. Skipping Relative Strength & Beta Features.\n",
                        "  - [Calculating Features] Running: Market Regime Features...\n",
                        "  - [Calculating Features] Running: Advanced Risk Features...\n",
                        "  - [计算特征] 正在运行: 交叉信号特征 (金叉/死叉)...\n",
                        "    - 已计算: ema_50_200 (金叉/死叉信号)\n",
                        "    - 已计算: macd_signal (金叉/死叉信号)\n",
                        "  - [计算特征] 正在运行: K线量化解构特征...\n",
                        "    - 已计算: K线在布林带中的位置\n",
                        "    - 已计算: 波动率扩张比率\n",
                        "    - 已计算: 跳空缺口大小\n",
                        "  - [计算特征] 信息: 未提供外部市场数据，跳过 跨市场关联特征。\n",
                        "  - [计算特征] 正在运行: 流动性与资金流特征...\n",
                        "    - 已计算: Amihud 非流动性指标\n",
                        "    - 已计算: 60日成交量 Z-Score\n",
                        "  - [Calculating Features] Running: Contextual & Cross-Sectional Features...\n",
                        "    - Calculated: Market Trend Regime (Uptrend/Downtrend)\n",
                        "    - Created Cross-Feature: RSI x Trend Regime\n",
                        "    - Created Cross-Feature: ROC x Volatility Regime\n",
                        "    - Created Cross-Feature: Volume Change x Trend Regime\n",
                        "INFO: 特征计算流水线结束。\n",
                        "INFO: 训练模式，将运行完整的后处理流程 (包括特征选择和标签生成)。\n",
                        "  - [Post-processing] Running: Stationarity Transformer...\n",
                        "  - [Post-processing] Running: Correlation Selector...\n",
                        "    - Removed 40 highly correlated features: ['ema_30', 'ema_50', 'ema_200', 'sma_20', 'dema_20', 'tema_20', 'adxr_14_2', 'stochd_14_3_3', 'macds_12_26_9', 'ppos_12_26_9', 'mom_10', 'bbl_20_2.0_2.0', 'bbm_20_2.0_2.0', 'bbu_20_2.0_2.0', 'dcl_20_20', 'dcm_20_20', 'dcu_20_20', 'vwap_d', 'psarl_0.02_0.2', 'psars_0.02_0.2', 'isa_9', 'isb_26', 'its_9', 'iks_26', 'ics_26', 'year', 'week_of_year', 'return_10', 'zscore_20', 'zscore_30', 'zscore_45', 'zscore_60', 'trend_slope', 'momentum_3m', 'volatility_3m', 'sharpe_3m', 'sharpe_6m', 'sharpe_12m', 'candle_pos_in_bbands', 'rsi_x_uptrend']\n",
                        "\n",
                        "  --- [数据后处理] INFO: 为 兴业矿业 (000426.SZ) 计算原始收益率标签... ---\n",
                        "    - INFO: 将使用标签列名 'label_return'，预测未来 45 天的收益率。\n",
                        "    - INFO: 正在对 'close' 列执行 pct_change(periods=45).shift(-45)...\n",
                        "    - INFO: 计算完成。结果包含 45 个 NaN 值 (共 3632 行)。\n",
                        "    - INFO: 已成功将计算结果添加到 DataFrame 的 'label_return' 列。\n",
                        "    - INFO: 正在对标签列进行去极值处理 (clip at 1% and 99%)...\n",
                        "  --- 成功为 兴业矿业 (000426.SZ) 生成原始收益率标签 ---\n",
                        "INFO: 运行架构验证...\n",
                        "    - WARNNING (Data Gaps): Found 15 large gap(s) in time series after the first data point. Max gap: 160 days 00:00:00.\n",
                        "SUCCESS: 数据结构和时间索引验证通过.\n",
                        "--- SUCCESS: 成功为 兴业矿业 (000426.SZ) 生成特征. 维度: (2932, 96) ---\n",
                        "\n",
                        "--- 正在为 孚日股份 (002083.SZ) 生成【训练用】历史特征 ---\n",
                        "  - 数据窗口: 2010-10-27 to 2025-09-30\n",
                        "  - 正在从 Baostock 下载 孚日股份 (sz.002083) 的日线行情...\n",
                        "  - INFO: 已将 孚日股份 (sz.002083) 的数据缓存至 data\\data_cache\\raw_ohlcv\\raw_sz_002083_2010-10-27_2025-09-30.pkl\n",
                        "  - INFO: 正在为 '孚日股份的行业指数' (159825.SZ) 获取指数数据...\n",
                        "  - 正在从 Baostock 下载 孚日股份的行业指数 (159825.SZ) 的日线行情...\n",
                        "  - WARNING [BS]: 未能获取到 孚日股份的行业指数 (159825.SZ) 在指定日期范围的数据。\n",
                        "    - 警告: 无法直接获取指数 '孚日股份的行业指数' (159825.SZ)。将尝试在本地合成等权重指数...\n",
                        "    - 错误: 在 API 映射表中未找到指数 '孚日股份的行业指数' (159825.SZ) 的成分股查询接口。\n",
                        "  - INFO: 正在为 '基准指数' (sh.000300) 获取指数数据...\n",
                        "  - 正在从本地缓存加载 基准指数 (sh.000300) 的原始日线数据...\n",
                        "    - SUCCESS: 已直接从 Baostock 获取到 '基准指数' (sh.000300) 的数据。\n",
                        "INFO: 开始特征计算流水线...\n",
                        "  - [Calculating Features] Running: Technical Indicators...\n",
                        "    - Calculated: ema with params {'length': 10}\n",
                        "    - Calculated: ema with params {'length': 30}\n",
                        "    - Calculated: ema with params {'length': 50}\n",
                        "    - Calculated: ema with params {'length': 200}\n",
                        "    - Calculated: sma with params {'length': 20}\n",
                        "    - Calculated: dema with params {'length': 20}\n",
                        "    - Calculated: tema with params {'length': 20}\n",
                        "    - Calculated: adx with params {'length': 14}\n",
                        "    - Calculated: rsi with params {'length': 14}\n",
                        "    - Calculated: stoch with params {'k': 14, 'd': 3, 'smooth_k': 3}\n",
                        "    - Calculated: macd with params {'fast': 12, 'slow': 26, 'signal': 9}\n",
                        "    - Calculated: ppo with params {'fast': 12, 'slow': 26}\n",
                        "    - Calculated: roc with params {'length': 10}\n",
                        "    - Calculated: mom with params {'length': 10}\n",
                        "    - Calculated: bbands with params {'length': 20, 'std': 2}\n",
                        "    - Calculated: atr with params {'length': 14}\n",
                        "    - Calculated: natr with params {'length': 14}\n",
                        "    - Calculated: donchian with params {'lower_length': 20, 'upper_length': 20}\n",
                        "    - Calculated: obv with params {}\n",
                        "    - Calculated: mfi with params {'length': 14}\n",
                        "    - Calculated: vwap with params {}\n",
                        "    - Calculated: psar with params {'acceleration': 0.02, 'maximum': 0.2}\n",
                        "    - Calculated: ichimoku with params {'tenkan': 9, 'kijun': 26, 'senkou': 52}\n",
                        "  - [Calculating Features] Running: Calendar Features...\n",
                        "  - [Calculating Features] Running: Candlestick Patterns...\n",
                        "  - [Calculating Features] Running: Statistical Features...\n",
                        "  - [Calculating Features] Running: Price Structure Features...\n",
                        "  - [Calculating Features] Running: Volume Features...\n",
                        "  - [Calculating Features] Running: Trend Regime Features (Vectorized)...\n",
                        "  - [Calculating Features] Running: Momentum & Volatility Features...\n",
                        "  - [Calculating Features] Running: Fundamental Features...\n",
                        "    - WARNNING: Tushare Pro API not available. Skipping Fundamental Features.\n",
                        "  - [Calculating Features] Running: Relative Strength & Beta Features...\n",
                        "    - WARNNING: Missing 'benchmark_close' or 'industry_close' column. Skipping Relative Strength & Beta Features.\n",
                        "  - [Calculating Features] Running: Market Regime Features...\n",
                        "  - [Calculating Features] Running: Advanced Risk Features...\n",
                        "  - [计算特征] 正在运行: 交叉信号特征 (金叉/死叉)...\n",
                        "    - 已计算: ema_50_200 (金叉/死叉信号)\n",
                        "    - 已计算: macd_signal (金叉/死叉信号)\n",
                        "  - [计算特征] 正在运行: K线量化解构特征...\n",
                        "    - 已计算: K线在布林带中的位置\n",
                        "    - 已计算: 波动率扩张比率\n",
                        "    - 已计算: 跳空缺口大小\n",
                        "  - [计算特征] 信息: 未提供外部市场数据，跳过 跨市场关联特征。\n",
                        "  - [计算特征] 正在运行: 流动性与资金流特征...\n",
                        "    - 已计算: Amihud 非流动性指标\n",
                        "    - 已计算: 60日成交量 Z-Score\n",
                        "  - [Calculating Features] Running: Contextual & Cross-Sectional Features...\n",
                        "    - Calculated: Market Trend Regime (Uptrend/Downtrend)\n",
                        "    - Created Cross-Feature: RSI x Trend Regime\n",
                        "    - Created Cross-Feature: ROC x Volatility Regime\n",
                        "    - Created Cross-Feature: Volume Change x Trend Regime\n",
                        "INFO: 特征计算流水线结束。\n",
                        "INFO: 训练模式，将运行完整的后处理流程 (包括特征选择和标签生成)。\n",
                        "  - [Post-processing] Running: Stationarity Transformer...\n",
                        "  - [Post-processing] Running: Correlation Selector...\n",
                        "    - Removed 48 highly correlated features: ['ema_30', 'ema_50', 'sma_20', 'dema_20', 'tema_20', 'adxr_14_2', 'stochd_14_3_3', 'macds_12_26_9', 'ppos_12_26_9', 'mom_10', 'bbl_20_2.0_2.0', 'bbm_20_2.0_2.0', 'bbu_20_2.0_2.0', 'bbp_20_2.0_2.0', 'natr_14', 'dcl_20_20', 'dcm_20_20', 'dcu_20_20', 'vwap_d', 'psarl_0.02_0.2', 'psars_0.02_0.2', 'isa_9', 'isb_26', 'its_9', 'iks_26', 'year', 'week_of_year', 'return_10', 'volatility_20', 'zscore_20', 'volatility_30', 'zscore_30', 'volatility_45', 'zscore_45', 'volatility_60', 'zscore_60', 'trend_slope', 'momentum_3m', 'volatility_3m', 'sharpe_3m', 'downside_vol_3m', 'sharpe_6m', 'downside_vol_6m', 'sharpe_12m', 'downside_vol_12m', 'max_drawdown_60d', 'candle_pos_in_bbands', 'rsi_x_uptrend']\n",
                        "\n",
                        "  --- [数据后处理] INFO: 为 孚日股份 (002083.SZ) 计算原始收益率标签... ---\n",
                        "    - INFO: 将使用标签列名 'label_return'，预测未来 45 天的收益率。\n",
                        "    - INFO: 正在对 'close' 列执行 pct_change(periods=45).shift(-45)...\n",
                        "    - INFO: 计算完成。结果包含 45 个 NaN 值 (共 3632 行)。\n",
                        "    - INFO: 已成功将计算结果添加到 DataFrame 的 'label_return' 列。\n",
                        "    - INFO: 正在对标签列进行去极值处理 (clip at 1% and 99%)...\n",
                        "  --- 成功为 孚日股份 (002083.SZ) 生成原始收益率标签 ---\n",
                        "INFO: 运行架构验证...\n",
                        "    - WARNNING (Data Gaps): Found 4 large gap(s) in time series after the first data point. Max gap: 15 days 00:00:00.\n",
                        "SUCCESS: 数据结构和时间索引验证通过.\n",
                        "--- SUCCESS: 成功为 孚日股份 (002083.SZ) 生成特征. 维度: (3325, 88) ---\n",
                        "\n",
                        "--- 正在为 宜华健康 (000150.SZ) 生成【训练用】历史特征 ---\n",
                        "  - 数据窗口: 2010-10-27 to 2025-09-30\n",
                        "  - 正在从 Baostock 下载 宜华健康 (sz.000150) 的日线行情...\n",
                        "  - INFO: 已将 宜华健康 (sz.000150) 的数据缓存至 data\\data_cache\\raw_ohlcv\\raw_sz_000150_2010-10-27_2025-09-30.pkl\n",
                        "  - INFO: 正在为 '宜华健康的行业指数' (512170.SH) 获取指数数据...\n",
                        "  - 正在从 Baostock 下载 宜华健康的行业指数 (512170.SH) 的日线行情...\n",
                        "  - WARNING [BS]: 未能获取到 宜华健康的行业指数 (512170.SH) 在指定日期范围的数据。\n",
                        "    - 警告: 无法直接获取指数 '宜华健康的行业指数' (512170.SH)。将尝试在本地合成等权重指数...\n",
                        "    - 错误: 在 API 映射表中未找到指数 '宜华健康的行业指数' (512170.SH) 的成分股查询接口。\n",
                        "  - INFO: 正在为 '基准指数' (sh.000300) 获取指数数据...\n",
                        "  - 正在从本地缓存加载 基准指数 (sh.000300) 的原始日线数据...\n",
                        "    - SUCCESS: 已直接从 Baostock 获取到 '基准指数' (sh.000300) 的数据。\n",
                        "INFO: 开始特征计算流水线...\n",
                        "  - [Calculating Features] Running: Technical Indicators...\n",
                        "    - Calculated: ema with params {'length': 10}\n",
                        "    - Calculated: ema with params {'length': 30}\n",
                        "    - Calculated: ema with params {'length': 50}\n",
                        "    - Calculated: ema with params {'length': 200}\n",
                        "    - Calculated: sma with params {'length': 20}\n",
                        "    - Calculated: dema with params {'length': 20}\n",
                        "    - Calculated: tema with params {'length': 20}\n",
                        "    - Calculated: adx with params {'length': 14}\n",
                        "    - Calculated: rsi with params {'length': 14}\n",
                        "    - Calculated: stoch with params {'k': 14, 'd': 3, 'smooth_k': 3}\n",
                        "    - Calculated: macd with params {'fast': 12, 'slow': 26, 'signal': 9}\n",
                        "    - Calculated: ppo with params {'fast': 12, 'slow': 26}\n",
                        "    - Calculated: roc with params {'length': 10}\n",
                        "    - Calculated: mom with params {'length': 10}\n",
                        "    - Calculated: bbands with params {'length': 20, 'std': 2}\n",
                        "    - Calculated: atr with params {'length': 14}\n",
                        "    - Calculated: natr with params {'length': 14}\n",
                        "    - Calculated: donchian with params {'lower_length': 20, 'upper_length': 20}\n",
                        "    - Calculated: obv with params {}\n",
                        "    - Calculated: mfi with params {'length': 14}\n",
                        "    - Calculated: vwap with params {}\n",
                        "    - Calculated: psar with params {'acceleration': 0.02, 'maximum': 0.2}\n",
                        "    - Calculated: ichimoku with params {'tenkan': 9, 'kijun': 26, 'senkou': 52}\n",
                        "  - [Calculating Features] Running: Calendar Features...\n",
                        "  - [Calculating Features] Running: Candlestick Patterns...\n",
                        "  - [Calculating Features] Running: Statistical Features...\n",
                        "  - [Calculating Features] Running: Price Structure Features...\n",
                        "  - [Calculating Features] Running: Volume Features...\n",
                        "  - [Calculating Features] Running: Trend Regime Features (Vectorized)...\n",
                        "  - [Calculating Features] Running: Momentum & Volatility Features...\n",
                        "  - [Calculating Features] Running: Fundamental Features...\n",
                        "    - WARNNING: Tushare Pro API not available. Skipping Fundamental Features.\n",
                        "  - [Calculating Features] Running: Relative Strength & Beta Features...\n",
                        "    - WARNNING: Missing 'benchmark_close' or 'industry_close' column. Skipping Relative Strength & Beta Features.\n",
                        "  - [Calculating Features] Running: Market Regime Features...\n",
                        "  - [Calculating Features] Running: Advanced Risk Features...\n",
                        "  - [计算特征] 正在运行: 交叉信号特征 (金叉/死叉)...\n",
                        "    - 已计算: ema_50_200 (金叉/死叉信号)\n",
                        "    - 已计算: macd_signal (金叉/死叉信号)\n",
                        "  - [计算特征] 正在运行: K线量化解构特征...\n",
                        "    - 已计算: K线在布林带中的位置\n",
                        "    - 已计算: 波动率扩张比率\n",
                        "    - 已计算: 跳空缺口大小\n",
                        "  - [计算特征] 信息: 未提供外部市场数据，跳过 跨市场关联特征。\n",
                        "  - [计算特征] 正在运行: 流动性与资金流特征...\n",
                        "    - 已计算: Amihud 非流动性指标\n",
                        "    - 已计算: 60日成交量 Z-Score\n",
                        "  - [Calculating Features] Running: Contextual & Cross-Sectional Features...\n",
                        "    - Calculated: Market Trend Regime (Uptrend/Downtrend)\n",
                        "    - Created Cross-Feature: RSI x Trend Regime\n",
                        "    - Created Cross-Feature: ROC x Volatility Regime\n",
                        "    - Created Cross-Feature: Volume Change x Trend Regime\n",
                        "INFO: 特征计算流水线结束。\n",
                        "INFO: 训练模式，将运行完整的后处理流程 (包括特征选择和标签生成)。\n",
                        "  - [Post-processing] Running: Stationarity Transformer...\n",
                        "  - [Post-processing] Running: Correlation Selector...\n",
                        "    - Removed 46 highly correlated features: ['ema_30', 'ema_50', 'ema_200', 'sma_20', 'dema_20', 'tema_20', 'adxr_14_2', 'stochd_14_3_3', 'macds_12_26_9', 'ppos_12_26_9', 'bbl_20_2.0_2.0', 'bbm_20_2.0_2.0', 'bbu_20_2.0_2.0', 'dcl_20_20', 'dcm_20_20', 'dcu_20_20', 'vwap_d', 'psarl_0.02_0.2', 'psars_0.02_0.2', 'isa_9', 'isb_26', 'its_9', 'iks_26', 'ics_26', 'year', 'week_of_year', 'return_10', 'return_20', 'zscore_20', 'volatility_30', 'zscore_30', 'volatility_45', 'zscore_45', 'volatility_60', 'zscore_60', 'vwap', 'trend_slope', 'momentum_3m', 'volatility_3m', 'downside_vol_3m', 'downside_vol_6m', 'downside_vol_12m', 'max_drawdown_60d', 'candle_pos_in_bbands', 'rsi_x_uptrend', 'vol_change_x_uptrend']\n",
                        "\n",
                        "  --- [数据后处理] INFO: 为 宜华健康 (000150.SZ) 计算原始收益率标签... ---\n",
                        "    - INFO: 将使用标签列名 'label_return'，预测未来 45 天的收益率。\n",
                        "    - INFO: 正在对 'close' 列执行 pct_change(periods=45).shift(-45)...\n",
                        "    - INFO: 计算完成。结果包含 45 个 NaN 值 (共 3041 行)。\n",
                        "    - INFO: 已成功将计算结果添加到 DataFrame 的 'label_return' 列。\n",
                        "    - INFO: 正在对标签列进行去极值处理 (clip at 1% and 99%)...\n",
                        "  --- 成功为 宜华健康 (000150.SZ) 生成原始收益率标签 ---\n",
                        "INFO: 运行架构验证...\n",
                        "    - WARNNING (Data Gaps): Found 10 large gap(s) in time series after the first data point. Max gap: 195 days 00:00:00.\n",
                        "SUCCESS: 数据结构和时间索引验证通过.\n",
                        "--- SUCCESS: 成功为 宜华健康 (000150.SZ) 生成特征. 维度: (2401, 90) ---\n",
                        "\n",
                        "--- 正在为 新宁物流 (300013.SZ) 生成【训练用】历史特征 ---\n",
                        "  - 数据窗口: 2010-10-27 to 2025-09-30\n",
                        "  - 正在从 Baostock 下载 新宁物流 (sz.300013) 的日线行情...\n",
                        "  - INFO: 已将 新宁物流 (sz.300013) 的数据缓存至 data\\data_cache\\raw_ohlcv\\raw_sz_300013_2010-10-27_2025-09-30.pkl\n",
                        "  - INFO: 正在为 '新宁物流的行业指数' (159928.SZ) 获取指数数据...\n",
                        "  - 正在从 Baostock 下载 新宁物流的行业指数 (159928.SZ) 的日线行情...\n",
                        "  - WARNING [BS]: 未能获取到 新宁物流的行业指数 (159928.SZ) 在指定日期范围的数据。\n",
                        "    - 警告: 无法直接获取指数 '新宁物流的行业指数' (159928.SZ)。将尝试在本地合成等权重指数...\n",
                        "    - 错误: 在 API 映射表中未找到指数 '新宁物流的行业指数' (159928.SZ) 的成分股查询接口。\n",
                        "  - INFO: 正在为 '基准指数' (sh.000300) 获取指数数据...\n",
                        "  - 正在从本地缓存加载 基准指数 (sh.000300) 的原始日线数据...\n",
                        "    - SUCCESS: 已直接从 Baostock 获取到 '基准指数' (sh.000300) 的数据。\n",
                        "INFO: 开始特征计算流水线...\n",
                        "  - [Calculating Features] Running: Technical Indicators...\n",
                        "    - Calculated: ema with params {'length': 10}\n",
                        "    - Calculated: ema with params {'length': 30}\n",
                        "    - Calculated: ema with params {'length': 50}\n",
                        "    - Calculated: ema with params {'length': 200}\n",
                        "    - Calculated: sma with params {'length': 20}\n",
                        "    - Calculated: dema with params {'length': 20}\n",
                        "    - Calculated: tema with params {'length': 20}\n",
                        "    - Calculated: adx with params {'length': 14}\n",
                        "    - Calculated: rsi with params {'length': 14}\n",
                        "    - Calculated: stoch with params {'k': 14, 'd': 3, 'smooth_k': 3}\n",
                        "    - Calculated: macd with params {'fast': 12, 'slow': 26, 'signal': 9}\n",
                        "    - Calculated: ppo with params {'fast': 12, 'slow': 26}\n",
                        "    - Calculated: roc with params {'length': 10}\n",
                        "    - Calculated: mom with params {'length': 10}\n",
                        "    - Calculated: bbands with params {'length': 20, 'std': 2}\n",
                        "    - Calculated: atr with params {'length': 14}\n",
                        "    - Calculated: natr with params {'length': 14}\n",
                        "    - Calculated: donchian with params {'lower_length': 20, 'upper_length': 20}\n",
                        "    - Calculated: obv with params {}\n",
                        "    - Calculated: mfi with params {'length': 14}\n",
                        "    - Calculated: vwap with params {}\n",
                        "    - Calculated: psar with params {'acceleration': 0.02, 'maximum': 0.2}\n",
                        "    - Calculated: ichimoku with params {'tenkan': 9, 'kijun': 26, 'senkou': 52}\n",
                        "  - [Calculating Features] Running: Calendar Features...\n",
                        "  - [Calculating Features] Running: Candlestick Patterns...\n",
                        "  - [Calculating Features] Running: Statistical Features...\n",
                        "  - [Calculating Features] Running: Price Structure Features...\n",
                        "  - [Calculating Features] Running: Volume Features...\n",
                        "  - [Calculating Features] Running: Trend Regime Features (Vectorized)...\n",
                        "  - [Calculating Features] Running: Momentum & Volatility Features...\n",
                        "  - [Calculating Features] Running: Fundamental Features...\n",
                        "    - WARNNING: Tushare Pro API not available. Skipping Fundamental Features.\n",
                        "  - [Calculating Features] Running: Relative Strength & Beta Features...\n",
                        "    - WARNNING: Missing 'benchmark_close' or 'industry_close' column. Skipping Relative Strength & Beta Features.\n",
                        "  - [Calculating Features] Running: Market Regime Features...\n",
                        "  - [Calculating Features] Running: Advanced Risk Features...\n",
                        "  - [计算特征] 正在运行: 交叉信号特征 (金叉/死叉)...\n",
                        "    - 已计算: ema_50_200 (金叉/死叉信号)\n",
                        "    - 已计算: macd_signal (金叉/死叉信号)\n",
                        "  - [计算特征] 正在运行: K线量化解构特征...\n",
                        "    - 已计算: K线在布林带中的位置\n",
                        "    - 已计算: 波动率扩张比率\n",
                        "    - 已计算: 跳空缺口大小\n",
                        "  - [计算特征] 信息: 未提供外部市场数据，跳过 跨市场关联特征。\n",
                        "  - [计算特征] 正在运行: 流动性与资金流特征...\n",
                        "    - 已计算: Amihud 非流动性指标\n",
                        "    - 已计算: 60日成交量 Z-Score\n",
                        "  - [Calculating Features] Running: Contextual & Cross-Sectional Features...\n",
                        "    - Calculated: Market Trend Regime (Uptrend/Downtrend)\n",
                        "    - Created Cross-Feature: RSI x Trend Regime\n",
                        "    - Created Cross-Feature: ROC x Volatility Regime\n",
                        "    - Created Cross-Feature: Volume Change x Trend Regime\n",
                        "INFO: 特征计算流水线结束。\n",
                        "INFO: 训练模式，将运行完整的后处理流程 (包括特征选择和标签生成)。\n",
                        "  - [Post-processing] Running: Stationarity Transformer...\n",
                        "  - [Post-processing] Running: Correlation Selector...\n",
                        "    - Removed 45 highly correlated features: ['ema_30', 'ema_50', 'ema_200', 'sma_20', 'dema_20', 'tema_20', 'adxr_14_2', 'stochd_14_3_3', 'macds_12_26_9', 'ppos_12_26_9', 'bbl_20_2.0_2.0', 'bbm_20_2.0_2.0', 'bbu_20_2.0_2.0', 'dcl_20_20', 'dcm_20_20', 'dcu_20_20', 'vwap_d', 'psarl_0.02_0.2', 'psars_0.02_0.2', 'isa_9', 'isb_26', 'its_9', 'iks_26', 'year', 'week_of_year', 'return_10', 'return_20', 'zscore_20', 'volatility_30', 'zscore_30', 'volatility_45', 'zscore_45', 'volatility_60', 'zscore_60', 'trend_slope', 'momentum_3m', 'volatility_3m', 'downside_vol_3m', 'downside_vol_6m', 'sharpe_12m', 'downside_vol_12m', 'max_drawdown_60d', 'candle_pos_in_bbands', 'rsi_x_uptrend', 'vol_change_x_uptrend']\n",
                        "\n",
                        "  --- [数据后处理] INFO: 为 新宁物流 (300013.SZ) 计算原始收益率标签... ---\n",
                        "    - INFO: 将使用标签列名 'label_return'，预测未来 45 天的收益率。\n",
                        "    - INFO: 正在对 'close' 列执行 pct_change(periods=45).shift(-45)...\n",
                        "    - INFO: 计算完成。结果包含 45 个 NaN 值 (共 3625 行)。\n",
                        "    - INFO: 已成功将计算结果添加到 DataFrame 的 'label_return' 列。\n",
                        "    - INFO: 正在对标签列进行去极值处理 (clip at 1% and 99%)...\n",
                        "  --- 成功为 新宁物流 (300013.SZ) 生成原始收益率标签 ---\n",
                        "INFO: 运行架构验证...\n",
                        "    - WARNNING (Data Gaps): Found 8 large gap(s) in time series after the first data point. Max gap: 173 days 00:00:00.\n",
                        "SUCCESS: 数据结构和时间索引验证通过.\n",
                        "--- SUCCESS: 成功为 新宁物流 (300013.SZ) 生成特征. 维度: (3102, 91) ---\n",
                        "\n",
                        "--- 正在为 佳云科技 (300242.SZ) 生成【训练用】历史特征 ---\n",
                        "  - 数据窗口: 2010-10-27 to 2025-09-30\n",
                        "  - 正在从 Baostock 下载 佳云科技 (sz.300242) 的日线行情...\n",
                        "  - INFO: 已将 佳云科技 (sz.300242) 的数据缓存至 data\\data_cache\\raw_ohlcv\\raw_sz_300242_2010-10-27_2025-09-30.pkl\n",
                        "  - INFO: 正在为 '佳云科技的行业指数' (159939.SZ) 获取指数数据...\n",
                        "  - 正在从 Baostock 下载 佳云科技的行业指数 (159939.SZ) 的日线行情...\n",
                        "  - WARNING [BS]: 未能获取到 佳云科技的行业指数 (159939.SZ) 在指定日期范围的数据。\n",
                        "    - 警告: 无法直接获取指数 '佳云科技的行业指数' (159939.SZ)。将尝试在本地合成等权重指数...\n",
                        "    - 错误: 在 API 映射表中未找到指数 '佳云科技的行业指数' (159939.SZ) 的成分股查询接口。\n",
                        "  - INFO: 正在为 '基准指数' (sh.000300) 获取指数数据...\n",
                        "  - 正在从本地缓存加载 基准指数 (sh.000300) 的原始日线数据...\n",
                        "    - SUCCESS: 已直接从 Baostock 获取到 '基准指数' (sh.000300) 的数据。\n",
                        "INFO: 开始特征计算流水线...\n",
                        "  - [Calculating Features] Running: Technical Indicators...\n",
                        "    - Calculated: ema with params {'length': 10}\n",
                        "    - Calculated: ema with params {'length': 30}\n",
                        "    - Calculated: ema with params {'length': 50}\n",
                        "    - Calculated: ema with params {'length': 200}\n",
                        "    - Calculated: sma with params {'length': 20}\n",
                        "    - Calculated: dema with params {'length': 20}\n",
                        "    - Calculated: tema with params {'length': 20}\n",
                        "    - Calculated: adx with params {'length': 14}\n",
                        "    - Calculated: rsi with params {'length': 14}\n",
                        "    - Calculated: stoch with params {'k': 14, 'd': 3, 'smooth_k': 3}\n",
                        "    - Calculated: macd with params {'fast': 12, 'slow': 26, 'signal': 9}\n",
                        "    - Calculated: ppo with params {'fast': 12, 'slow': 26}\n",
                        "    - Calculated: roc with params {'length': 10}\n",
                        "    - Calculated: mom with params {'length': 10}\n",
                        "    - Calculated: bbands with params {'length': 20, 'std': 2}\n",
                        "    - Calculated: atr with params {'length': 14}\n",
                        "    - Calculated: natr with params {'length': 14}\n",
                        "    - Calculated: donchian with params {'lower_length': 20, 'upper_length': 20}\n",
                        "    - Calculated: obv with params {}\n",
                        "    - Calculated: mfi with params {'length': 14}\n",
                        "    - Calculated: vwap with params {}\n",
                        "    - Calculated: psar with params {'acceleration': 0.02, 'maximum': 0.2}\n",
                        "    - Calculated: ichimoku with params {'tenkan': 9, 'kijun': 26, 'senkou': 52}\n",
                        "  - [Calculating Features] Running: Calendar Features...\n",
                        "  - [Calculating Features] Running: Candlestick Patterns...\n",
                        "  - [Calculating Features] Running: Statistical Features...\n",
                        "  - [Calculating Features] Running: Price Structure Features...\n",
                        "  - [Calculating Features] Running: Volume Features...\n",
                        "  - [Calculating Features] Running: Trend Regime Features (Vectorized)...\n",
                        "  - [Calculating Features] Running: Momentum & Volatility Features...\n",
                        "  - [Calculating Features] Running: Fundamental Features...\n",
                        "    - WARNNING: Tushare Pro API not available. Skipping Fundamental Features.\n",
                        "  - [Calculating Features] Running: Relative Strength & Beta Features...\n",
                        "    - WARNNING: Missing 'benchmark_close' or 'industry_close' column. Skipping Relative Strength & Beta Features.\n",
                        "  - [Calculating Features] Running: Market Regime Features...\n",
                        "  - [Calculating Features] Running: Advanced Risk Features...\n",
                        "  - [计算特征] 正在运行: 交叉信号特征 (金叉/死叉)...\n",
                        "    - 已计算: ema_50_200 (金叉/死叉信号)\n",
                        "    - 已计算: macd_signal (金叉/死叉信号)\n",
                        "  - [计算特征] 正在运行: K线量化解构特征...\n",
                        "    - 已计算: K线在布林带中的位置\n",
                        "    - 已计算: 波动率扩张比率\n",
                        "    - 已计算: 跳空缺口大小\n",
                        "  - [计算特征] 信息: 未提供外部市场数据，跳过 跨市场关联特征。\n",
                        "  - [计算特征] 正在运行: 流动性与资金流特征...\n",
                        "    - 已计算: Amihud 非流动性指标\n",
                        "    - 已计算: 60日成交量 Z-Score\n",
                        "  - [Calculating Features] Running: Contextual & Cross-Sectional Features...\n",
                        "    - Calculated: Market Trend Regime (Uptrend/Downtrend)\n",
                        "    - Created Cross-Feature: RSI x Trend Regime\n",
                        "    - Created Cross-Feature: ROC x Volatility Regime\n",
                        "    - Created Cross-Feature: Volume Change x Trend Regime\n",
                        "INFO: 特征计算流水线结束。\n",
                        "INFO: 训练模式，将运行完整的后处理流程 (包括特征选择和标签生成)。\n",
                        "  - [Post-processing] Running: Stationarity Transformer...\n",
                        "  - [Post-processing] Running: Correlation Selector...\n",
                        "    - Removed 44 highly correlated features: ['ema_30', 'ema_50', 'ema_200', 'sma_20', 'dema_20', 'tema_20', 'adxr_14_2', 'stochd_14_3_3', 'macds_12_26_9', 'ppos_12_26_9', 'bbl_20_2.0_2.0', 'bbm_20_2.0_2.0', 'bbu_20_2.0_2.0', 'atrr_14', 'dcl_20_20', 'dcm_20_20', 'dcu_20_20', 'vwap_d', 'psarl_0.02_0.2', 'psars_0.02_0.2', 'isa_9', 'isb_26', 'its_9', 'iks_26', 'ics_26', 'week_of_year', 'return_10', 'zscore_20', 'volatility_30', 'zscore_30', 'volatility_45', 'zscore_45', 'volatility_60', 'zscore_60', 'trend_slope', 'momentum_3m', 'volatility_3m', 'downside_vol_3m', 'downside_vol_6m', 'sharpe_12m', 'downside_vol_12m', 'max_drawdown_60d', 'candle_pos_in_bbands', 'rsi_x_uptrend']\n",
                        "\n",
                        "  --- [数据后处理] INFO: 为 佳云科技 (300242.SZ) 计算原始收益率标签... ---\n",
                        "    - INFO: 将使用标签列名 'label_return'，预测未来 45 天的收益率。\n",
                        "    - INFO: 正在对 'close' 列执行 pct_change(periods=45).shift(-45)...\n",
                        "    - INFO: 计算完成。结果包含 45 个 NaN 值 (共 3458 行)。\n",
                        "    - INFO: 已成功将计算结果添加到 DataFrame 的 'label_return' 列。\n",
                        "    - INFO: 正在对标签列进行去极值处理 (clip at 1% and 99%)...\n",
                        "  --- 成功为 佳云科技 (300242.SZ) 生成原始收益率标签 ---\n",
                        "INFO: 运行架构验证...\n",
                        "    - WARNNING (Data Gaps): Found 15 large gap(s) in time series after the first data point. Max gap: 113 days 00:00:00.\n",
                        "SUCCESS: 数据结构和时间索引验证通过.\n",
                        "--- SUCCESS: 成功为 佳云科技 (300242.SZ) 生成特征. 维度: (2768, 92) ---\n",
                        "\n",
                        "--- 正在为 精功科技 (002006.SZ) 生成【训练用】历史特征 ---\n",
                        "  - 数据窗口: 2010-10-27 to 2025-09-30\n",
                        "  - 正在从 Baostock 下载 精功科技 (sz.002006) 的日线行情...\n",
                        "  - INFO: 已将 精功科技 (sz.002006) 的数据缓存至 data\\data_cache\\raw_ohlcv\\raw_sz_002006_2010-10-27_2025-09-30.pkl\n",
                        "  - INFO: 正在为 '精功科技的行业指数' (512480.SH) 获取指数数据...\n",
                        "  - 正在从 Baostock 下载 精功科技的行业指数 (512480.SH) 的日线行情...\n",
                        "  - WARNING [BS]: 未能获取到 精功科技的行业指数 (512480.SH) 在指定日期范围的数据。\n",
                        "    - 警告: 无法直接获取指数 '精功科技的行业指数' (512480.SH)。将尝试在本地合成等权重指数...\n",
                        "    - 错误: 在 API 映射表中未找到指数 '精功科技的行业指数' (512480.SH) 的成分股查询接口。\n",
                        "  - INFO: 正在为 '基准指数' (sh.000300) 获取指数数据...\n",
                        "  - 正在从本地缓存加载 基准指数 (sh.000300) 的原始日线数据...\n",
                        "    - SUCCESS: 已直接从 Baostock 获取到 '基准指数' (sh.000300) 的数据。\n",
                        "INFO: 开始特征计算流水线...\n",
                        "  - [Calculating Features] Running: Technical Indicators...\n",
                        "    - Calculated: ema with params {'length': 10}\n",
                        "    - Calculated: ema with params {'length': 30}\n",
                        "    - Calculated: ema with params {'length': 50}\n",
                        "    - Calculated: ema with params {'length': 200}\n",
                        "    - Calculated: sma with params {'length': 20}\n",
                        "    - Calculated: dema with params {'length': 20}\n",
                        "    - Calculated: tema with params {'length': 20}\n",
                        "    - Calculated: adx with params {'length': 14}\n",
                        "    - Calculated: rsi with params {'length': 14}\n",
                        "    - Calculated: stoch with params {'k': 14, 'd': 3, 'smooth_k': 3}\n",
                        "    - Calculated: macd with params {'fast': 12, 'slow': 26, 'signal': 9}\n",
                        "    - Calculated: ppo with params {'fast': 12, 'slow': 26}\n",
                        "    - Calculated: roc with params {'length': 10}\n",
                        "    - Calculated: mom with params {'length': 10}\n",
                        "    - Calculated: bbands with params {'length': 20, 'std': 2}\n",
                        "    - Calculated: atr with params {'length': 14}\n",
                        "    - Calculated: natr with params {'length': 14}\n",
                        "    - Calculated: donchian with params {'lower_length': 20, 'upper_length': 20}\n",
                        "    - Calculated: obv with params {}\n",
                        "    - Calculated: mfi with params {'length': 14}\n",
                        "    - Calculated: vwap with params {}\n",
                        "    - Calculated: psar with params {'acceleration': 0.02, 'maximum': 0.2}\n",
                        "    - Calculated: ichimoku with params {'tenkan': 9, 'kijun': 26, 'senkou': 52}\n",
                        "  - [Calculating Features] Running: Calendar Features...\n",
                        "  - [Calculating Features] Running: Candlestick Patterns...\n",
                        "  - [Calculating Features] Running: Statistical Features...\n",
                        "  - [Calculating Features] Running: Price Structure Features...\n",
                        "  - [Calculating Features] Running: Volume Features...\n",
                        "  - [Calculating Features] Running: Trend Regime Features (Vectorized)...\n",
                        "  - [Calculating Features] Running: Momentum & Volatility Features...\n",
                        "  - [Calculating Features] Running: Fundamental Features...\n",
                        "    - WARNNING: Tushare Pro API not available. Skipping Fundamental Features.\n",
                        "  - [Calculating Features] Running: Relative Strength & Beta Features...\n",
                        "    - WARNNING: Missing 'benchmark_close' or 'industry_close' column. Skipping Relative Strength & Beta Features.\n",
                        "  - [Calculating Features] Running: Market Regime Features...\n",
                        "  - [Calculating Features] Running: Advanced Risk Features...\n",
                        "  - [计算特征] 正在运行: 交叉信号特征 (金叉/死叉)...\n",
                        "    - 已计算: ema_50_200 (金叉/死叉信号)\n",
                        "    - 已计算: macd_signal (金叉/死叉信号)\n",
                        "  - [计算特征] 正在运行: K线量化解构特征...\n",
                        "    - 已计算: K线在布林带中的位置\n",
                        "    - 已计算: 波动率扩张比率\n",
                        "    - 已计算: 跳空缺口大小\n",
                        "  - [计算特征] 信息: 未提供外部市场数据，跳过 跨市场关联特征。\n",
                        "  - [计算特征] 正在运行: 流动性与资金流特征...\n",
                        "    - 已计算: Amihud 非流动性指标\n",
                        "    - 已计算: 60日成交量 Z-Score\n",
                        "  - [Calculating Features] Running: Contextual & Cross-Sectional Features...\n",
                        "    - Calculated: Market Trend Regime (Uptrend/Downtrend)\n",
                        "    - Created Cross-Feature: RSI x Trend Regime\n",
                        "    - Created Cross-Feature: ROC x Volatility Regime\n",
                        "    - Created Cross-Feature: Volume Change x Trend Regime\n",
                        "INFO: 特征计算流水线结束。\n",
                        "INFO: 训练模式，将运行完整的后处理流程 (包括特征选择和标签生成)。\n",
                        "  - [Post-processing] Running: Stationarity Transformer...\n",
                        "  - [Post-processing] Running: Correlation Selector...\n",
                        "    - Removed 44 highly correlated features: ['ema_30', 'ema_50', 'ema_200', 'sma_20', 'dema_20', 'tema_20', 'adxr_14_2', 'stochd_14_3_3', 'macds_12_26_9', 'ppos_12_26_9', 'mom_10', 'bbl_20_2.0_2.0', 'bbm_20_2.0_2.0', 'bbu_20_2.0_2.0', 'dcl_20_20', 'dcm_20_20', 'dcu_20_20', 'vwap_d', 'psarl_0.02_0.2', 'psars_0.02_0.2', 'isa_9', 'isb_26', 'its_9', 'iks_26', 'ics_26', 'year', 'week_of_year', 'return_10', 'return_20', 'zscore_20', 'volatility_30', 'zscore_30', 'volatility_45', 'zscore_45', 'volatility_60', 'zscore_60', 'trend_slope', 'momentum_3m', 'volatility_3m', 'downside_vol_3m', 'downside_vol_6m', 'candle_pos_in_bbands', 'rsi_x_uptrend', 'vol_change_x_uptrend']\n",
                        "\n",
                        "  --- [数据后处理] INFO: 为 精功科技 (002006.SZ) 计算原始收益率标签... ---\n",
                        "    - INFO: 将使用标签列名 'label_return'，预测未来 45 天的收益率。\n",
                        "    - INFO: 正在对 'close' 列执行 pct_change(periods=45).shift(-45)...\n",
                        "    - INFO: 计算完成。结果包含 45 个 NaN 值 (共 3632 行)。\n",
                        "    - INFO: 已成功将计算结果添加到 DataFrame 的 'label_return' 列。\n",
                        "    - INFO: 正在对标签列进行去极值处理 (clip at 1% and 99%)...\n",
                        "  --- 成功为 精功科技 (002006.SZ) 生成原始收益率标签 ---\n",
                        "INFO: 运行架构验证...\n",
                        "    - WARNNING (Data Gaps): Found 10 large gap(s) in time series after the first data point. Max gap: 217 days 00:00:00.\n",
                        "SUCCESS: 数据结构和时间索引验证通过.\n",
                        "--- SUCCESS: 成功为 精功科技 (002006.SZ) 生成特征. 维度: (2935, 92) ---\n",
                        "--- 批量特征生成流程完成 ---\n",
                        "--- 正在保存处理好的数据... ---\n",
                        "\n",
                        "  - 正在保存 TCL科技 (000100.SZ) 的数据...\n",
                        "    - SUCCESS: 数据已成功保存至: data\\processed\\000100.SZ\\d144fbaa29d6\\features.pkl\n",
                        "    - INFO: 元信息已保存至: data\\processed\\000100.SZ\\d144fbaa29d6\\meta.json\n",
                        "\n",
                        "  - 正在保存 兴业矿业 (000426.SZ) 的数据...\n",
                        "    - SUCCESS: 数据已成功保存至: data\\processed\\000426.SZ\\a6810ab9df51\\features.pkl\n",
                        "    - INFO: 元信息已保存至: data\\processed\\000426.SZ\\a6810ab9df51\\meta.json\n",
                        "\n",
                        "  - 正在保存 孚日股份 (002083.SZ) 的数据...\n",
                        "    - SUCCESS: 数据已成功保存至: data\\processed\\002083.SZ\\24b4bbb63402\\features.pkl\n",
                        "    - INFO: 元信息已保存至: data\\processed\\002083.SZ\\24b4bbb63402\\meta.json\n",
                        "\n",
                        "  - 正在保存 宜华健康 (000150.SZ) 的数据...\n",
                        "    - SUCCESS: 数据已成功保存至: data\\processed\\000150.SZ\\50207c74d7b1\\features.pkl\n",
                        "    - INFO: 元信息已保存至: data\\processed\\000150.SZ\\50207c74d7b1\\meta.json\n",
                        "\n",
                        "  - 正在保存 新宁物流 (300013.SZ) 的数据...\n",
                        "    - SUCCESS: 数据已成功保存至: data\\processed\\300013.SZ\\18b617911239\\features.pkl\n",
                        "    - INFO: 元信息已保存至: data\\processed\\300013.SZ\\18b617911239\\meta.json\n",
                        "\n",
                        "  - 正在保存 佳云科技 (300242.SZ) 的数据...\n",
                        "    - SUCCESS: 数据已成功保存至: data\\processed\\300242.SZ\\8fb1c76db9b9\\features.pkl\n",
                        "    - INFO: 元信息已保存至: data\\processed\\300242.SZ\\8fb1c76db9b9\\meta.json\n",
                        "\n",
                        "  - 正在保存 精功科技 (002006.SZ) 的数据...\n",
                        "    - SUCCESS: 数据已成功保存至: data\\processed\\002006.SZ\\e8f5b0b8ff56\\features.pkl\n",
                        "    - INFO: 元信息已保存至: data\\processed\\002006.SZ\\e8f5b0b8ff56\\meta.json\n",
                        "\n",
                        "--- 所有数据保存完毕。 ---\n",
                        "\n",
                        "数据管道协调任务执行完毕。\n",
                        "logout success!\n",
                        "INFO: Baostock API 已成功登出.\n",
                        "--- 阶段 1 成功完成。 ---\n"
                    ]
                }
            ],
            "source": [
                "USE_LATEST_DATE = True\n",
                "if config and modules:\n",
                "    print(f\"--- INFO: 日期模式 -> {'使用最新日期' if USE_LATEST_DATE else '使用配置文件中的固定日期'} ---\")\n",
                "    \n",
                "    # 将开关状态传递给核心引擎函数\n",
                "    run_all_data_pipeline(config, modules, use_today_as_end_date=USE_LATEST_DATE)"
            ]
        },
        {
            "cell_type": "markdown",
            "metadata": {},
            "source": [
                "# **阶段二：模型训练与评估**"
            ]
        },
        {
            "cell_type": "markdown",
            "metadata": {},
            "source": [
                "### 2.1 数据预加载与全局预处理 (L3 缓存)"
            ]
        },
        {
            "cell_type": "code",
            "execution_count": 3,
            "metadata": {},
            "outputs": [
                {
                    "name": "stdout",
                    "output_type": "stream",
                    "text": [
                        "=== 工作流阶段 2.1：为模型预处理数据 (L3 缓存) ===\n",
                        "INFO: 开始执行预处理流程 (分块保存模式)...\n",
                        "\n"
                    ]
                },
                {
                    "data": {
                        "application/vnd.jupyter.widget-view+json": {
                            "model_id": "e63926482f4040a2a9ec219b8817b556",
                            "version_major": 2,
                            "version_minor": 0
                        },
                        "text/plain": [
                            "正在预处理股票:   0%|          | 0/7 [00:00<?, ?it/s]"
                        ]
                    },
                    "metadata": {},
                    "output_type": "display_data"
                },
                {
                    "name": "stdout",
                    "output_type": "stream",
                    "text": [
                        "--- INFO: L3 缓存文件已在磁盘上准备就绪。 ---\n",
                        "--- 阶段 2.1 成功完成。 ---\n"
                    ]
                }
            ],
            "source": [
                "if config and modules:\n",
                "    # 调用核心引擎中的预处理函数\n",
                "    # force_reprocess=True/False 可以方便地控制是否重建缓存\n",
                "    global_data_cache = run_preprocess_l3_cache(config, modules, force_reprocess=False)"
            ]
        },
        {
            "cell_type": "markdown",
            "metadata": {},
            "source": [
                "### 2.2 超参数优化"
            ]
        },
        {
            "cell_type": "code",
            "execution_count": 4,
            "metadata": {},
            "outputs": [],
            "source": [
                "# 同样，可以通过一个简单的开关来控制是否运行\n",
                "RUN_HPO = False\n",
                "\n",
                "if RUN_HPO and config and modules and 'global_data_cache' in locals():\n",
                "    # 调用核心引擎中的 HPO 函数\n",
                "    # HPO 的结果会自动更新到内存中的 config 字典里\n",
                "    run_hpo_train(config, modules, global_data_cache)"
            ]
        },
        {
            "cell_type": "markdown",
            "metadata": {},
            "source": [
                "### 2.3 模型训练"
            ]
        },
        {
            "cell_type": "code",
            "execution_count": null,
            "metadata": {},
            "outputs": [
                {
                    "name": "stdout",
                    "output_type": "stream",
                    "text": [
                        "=== 工作流阶段 2.3：训练所有模型 ===\n"
                    ]
                },
                {
                    "data": {
                        "application/vnd.jupyter.widget-view+json": {
                            "model_id": "dacc14fd5e07478abdbbc6705241d82b",
                            "version_major": 2,
                            "version_minor": 0
                        },
                        "text/plain": [
                            "处理股票模型:   0%|          | 0/7 [00:00<?, ?it/s]"
                        ]
                    },
                    "metadata": {},
                    "output_type": "display_data"
                },
                {
                    "name": "stdout",
                    "output_type": "stream",
                    "text": [
                        "\n",
                        "--- 2.3.1 为 TCL科技 (000100.SZ) 训练基础模型 ---\n",
                        "--- 开始为 TCL科技 (000100.SZ) 进行 LGBM 模型训练 ---\n",
                        "INFO: 未检测到任何历史记录，将从头开始全新训练。\n",
                        "INFO: 开始对 TCL科技 (000100.SZ) 进行跨 62 folds 的前向验证...\n"
                    ]
                },
                {
                    "data": {
                        "application/vnd.jupyter.widget-view+json": {
                            "model_id": "3500908a980641a18551477752023630",
                            "version_major": 2,
                            "version_minor": 0
                        },
                        "text/plain": [
                            "正在 TCL科技 上训练 LGBM:   0%|          | 0/62 [00:00<?, ?it/s]"
                        ]
                    },
                    "metadata": {},
                    "output_type": "display_data"
                },
                {
                    "name": "stdout",
                    "output_type": "stream",
                    "text": [
                        "INFO: 滚动训练成功完成，准备训练最终模型。\n",
                        "INFO: 正在训练最终模型...\n",
                        "SUCCESS: 新版本 (20250930) 模型已保存: lgbm_model_20250930.pkl\n",
                        "INFO: 整个训练流程（包括最终模型）成功完成，已移除进度文件。\n",
                        "--- 开始为 TCL科技 (000100.SZ) 进行 LSTM 模型训练 ---\n",
                        "INFO: 未检测到任何历史记录，将从头开始全新训练。\n",
                        "INFO: PyTorch LSTMBuilder initialized with device: CUDA\n",
                        "INFO: DataLoader will use 8 parallel workers.\n",
                        "INFO: Automatic Mixed Precision (AMP) is ENABLED (float16).\n",
                        "INFO: 开始对 TCL科技 (000100.SZ) 进行跨 62 folds 的前向验证...\n"
                    ]
                },
                {
                    "data": {
                        "application/vnd.jupyter.widget-view+json": {
                            "model_id": "3f1af35edc81459a8e8283acec8e2137",
                            "version_major": 2,
                            "version_minor": 0
                        },
                        "text/plain": [
                            "正在 TCL科技 上训练 LSTM:   0%|          | 0/62 [00:00<?, ?it/s]"
                        ]
                    },
                    "metadata": {},
                    "output_type": "display_data"
                },
                {
                    "data": {
                        "application/vnd.jupyter.widget-view+json": {
                            "model_id": "9966d995e2324615a6a5fd9e722f562f",
                            "version_major": 2,
                            "version_minor": 0
                        },
                        "text/plain": [
                            "    - Epochs (LSTM):   0%|          | 0/75 [00:00<?, ?it/s]"
                        ]
                    },
                    "metadata": {},
                    "output_type": "display_data"
                },
                {
                    "name": "stdout",
                    "output_type": "stream",
                    "text": [
                        "    - Fold finished. Best validation loss: 0.008408 at epoch 50\n"
                    ]
                },
                {
                    "data": {
                        "application/vnd.jupyter.widget-view+json": {
                            "model_id": "731acb0805ee460e8ff9241c10e0195d",
                            "version_major": 2,
                            "version_minor": 0
                        },
                        "text/plain": [
                            "    - Epochs (LSTM):   0%|          | 0/75 [00:00<?, ?it/s]"
                        ]
                    },
                    "metadata": {},
                    "output_type": "display_data"
                },
                {
                    "name": "stdout",
                    "output_type": "stream",
                    "text": [
                        "    - INFO: 早停机制已在第 51 轮触发。\n",
                        "    - Fold finished. Best validation loss: 0.036093 at epoch 1\n"
                    ]
                },
                {
                    "data": {
                        "application/vnd.jupyter.widget-view+json": {
                            "model_id": "f1f1126570af4a29b26875466ed6e66a",
                            "version_major": 2,
                            "version_minor": 0
                        },
                        "text/plain": [
                            "    - Epochs (LSTM):   0%|          | 0/75 [00:00<?, ?it/s]"
                        ]
                    },
                    "metadata": {},
                    "output_type": "display_data"
                },
                {
                    "name": "stdout",
                    "output_type": "stream",
                    "text": [
                        "    - Fold finished. Best validation loss: 0.008925 at epoch 75\n"
                    ]
                },
                {
                    "data": {
                        "application/vnd.jupyter.widget-view+json": {
                            "model_id": "79009c93f8c644de93c4efe04892a46d",
                            "version_major": 2,
                            "version_minor": 0
                        },
                        "text/plain": [
                            "    - Epochs (LSTM):   0%|          | 0/75 [00:00<?, ?it/s]"
                        ]
                    },
                    "metadata": {},
                    "output_type": "display_data"
                },
                {
                    "name": "stdout",
                    "output_type": "stream",
                    "text": [
                        "    - Fold finished. Best validation loss: 0.000950 at epoch 48\n"
                    ]
                },
                {
                    "data": {
                        "application/vnd.jupyter.widget-view+json": {
                            "model_id": "c0f9f0fc510b4fd7933c86e9fe29e610",
                            "version_major": 2,
                            "version_minor": 0
                        },
                        "text/plain": [
                            "    - Epochs (LSTM):   0%|          | 0/75 [00:00<?, ?it/s]"
                        ]
                    },
                    "metadata": {},
                    "output_type": "display_data"
                },
                {
                    "name": "stdout",
                    "output_type": "stream",
                    "text": [
                        "    - Fold finished. Best validation loss: 0.004248 at epoch 55\n"
                    ]
                },
                {
                    "data": {
                        "application/vnd.jupyter.widget-view+json": {
                            "model_id": "4b745581f50248f19b3a4a4787eb610f",
                            "version_major": 2,
                            "version_minor": 0
                        },
                        "text/plain": [
                            "    - Epochs (LSTM):   0%|          | 0/75 [00:00<?, ?it/s]"
                        ]
                    },
                    "metadata": {},
                    "output_type": "display_data"
                },
                {
                    "name": "stdout",
                    "output_type": "stream",
                    "text": [
                        "    - Fold finished. Best validation loss: 0.002650 at epoch 72\n"
                    ]
                },
                {
                    "data": {
                        "application/vnd.jupyter.widget-view+json": {
                            "model_id": "96e8d8b6641f43a483434420b16f2207",
                            "version_major": 2,
                            "version_minor": 0
                        },
                        "text/plain": [
                            "    - Epochs (LSTM):   0%|          | 0/75 [00:00<?, ?it/s]"
                        ]
                    },
                    "metadata": {},
                    "output_type": "display_data"
                },
                {
                    "name": "stdout",
                    "output_type": "stream",
                    "text": [
                        "    - Fold finished. Best validation loss: 0.005748 at epoch 36\n"
                    ]
                },
                {
                    "data": {
                        "application/vnd.jupyter.widget-view+json": {
                            "model_id": "b10f35690371423eb8237ea5ab4d36ee",
                            "version_major": 2,
                            "version_minor": 0
                        },
                        "text/plain": [
                            "    - Epochs (LSTM):   0%|          | 0/75 [00:00<?, ?it/s]"
                        ]
                    },
                    "metadata": {},
                    "output_type": "display_data"
                },
                {
                    "name": "stdout",
                    "output_type": "stream",
                    "text": [
                        "    - INFO: 早停机制已在第 51 轮触发。\n",
                        "    - Fold finished. Best validation loss: 0.007876 at epoch 1\n"
                    ]
                },
                {
                    "data": {
                        "application/vnd.jupyter.widget-view+json": {
                            "model_id": "ffe6caa2150a40bdbf1a580174a09ca8",
                            "version_major": 2,
                            "version_minor": 0
                        },
                        "text/plain": [
                            "    - Epochs (LSTM):   0%|          | 0/75 [00:00<?, ?it/s]"
                        ]
                    },
                    "metadata": {},
                    "output_type": "display_data"
                },
                {
                    "name": "stdout",
                    "output_type": "stream",
                    "text": [
                        "    - Fold finished. Best validation loss: 0.063537 at epoch 70\n"
                    ]
                },
                {
                    "data": {
                        "application/vnd.jupyter.widget-view+json": {
                            "model_id": "93f59ceadca647d79d9be4d65e207fc3",
                            "version_major": 2,
                            "version_minor": 0
                        },
                        "text/plain": [
                            "    - Epochs (LSTM):   0%|          | 0/75 [00:00<?, ?it/s]"
                        ]
                    },
                    "metadata": {},
                    "output_type": "display_data"
                },
                {
                    "name": "stdout",
                    "output_type": "stream",
                    "text": [
                        "    - INFO: 早停机制已在第 64 轮触发。\n",
                        "    - Fold finished. Best validation loss: 0.163582 at epoch 14\n"
                    ]
                },
                {
                    "data": {
                        "application/vnd.jupyter.widget-view+json": {
                            "model_id": "0c075c7bc0f2413084de391ab758c7f0",
                            "version_major": 2,
                            "version_minor": 0
                        },
                        "text/plain": [
                            "    - Epochs (LSTM):   0%|          | 0/75 [00:00<?, ?it/s]"
                        ]
                    },
                    "metadata": {},
                    "output_type": "display_data"
                },
                {
                    "name": "stdout",
                    "output_type": "stream",
                    "text": [
                        "    - INFO: 早停机制已在第 68 轮触发。\n",
                        "    - Fold finished. Best validation loss: 0.017450 at epoch 18\n"
                    ]
                },
                {
                    "data": {
                        "application/vnd.jupyter.widget-view+json": {
                            "model_id": "641fccb69975454dbe7e1254d217478c",
                            "version_major": 2,
                            "version_minor": 0
                        },
                        "text/plain": [
                            "    - Epochs (LSTM):   0%|          | 0/75 [00:00<?, ?it/s]"
                        ]
                    },
                    "metadata": {},
                    "output_type": "display_data"
                },
                {
                    "name": "stdout",
                    "output_type": "stream",
                    "text": [
                        "    - INFO: 早停机制已在第 51 轮触发。\n",
                        "    - Fold finished. Best validation loss: 0.026202 at epoch 1\n"
                    ]
                },
                {
                    "data": {
                        "application/vnd.jupyter.widget-view+json": {
                            "model_id": "315db913885c4e64a3066b0bdc460899",
                            "version_major": 2,
                            "version_minor": 0
                        },
                        "text/plain": [
                            "    - Epochs (LSTM):   0%|          | 0/75 [00:00<?, ?it/s]"
                        ]
                    },
                    "metadata": {},
                    "output_type": "display_data"
                },
                {
                    "name": "stdout",
                    "output_type": "stream",
                    "text": [
                        "    - INFO: 早停机制已在第 51 轮触发。\n",
                        "    - Fold finished. Best validation loss: 0.025439 at epoch 1\n"
                    ]
                },
                {
                    "data": {
                        "application/vnd.jupyter.widget-view+json": {
                            "model_id": "759d6a2c358f4f9bbd7754ddf5f28d2f",
                            "version_major": 2,
                            "version_minor": 0
                        },
                        "text/plain": [
                            "    - Epochs (LSTM):   0%|          | 0/75 [00:00<?, ?it/s]"
                        ]
                    },
                    "metadata": {},
                    "output_type": "display_data"
                },
                {
                    "name": "stdout",
                    "output_type": "stream",
                    "text": [
                        "    - INFO: 早停机制已在第 64 轮触发。\n",
                        "    - Fold finished. Best validation loss: 0.002952 at epoch 14\n"
                    ]
                },
                {
                    "data": {
                        "application/vnd.jupyter.widget-view+json": {
                            "model_id": "cbea0f7f597945fca1af2661659dc530",
                            "version_major": 2,
                            "version_minor": 0
                        },
                        "text/plain": [
                            "    - Epochs (LSTM):   0%|          | 0/75 [00:00<?, ?it/s]"
                        ]
                    },
                    "metadata": {},
                    "output_type": "display_data"
                },
                {
                    "name": "stdout",
                    "output_type": "stream",
                    "text": [
                        "    - INFO: 早停机制已在第 75 轮触发。\n",
                        "    - Fold finished. Best validation loss: 0.008226 at epoch 25\n"
                    ]
                },
                {
                    "data": {
                        "application/vnd.jupyter.widget-view+json": {
                            "model_id": "bff65f4a5fb7478580031ae3a062e6e7",
                            "version_major": 2,
                            "version_minor": 0
                        },
                        "text/plain": [
                            "    - Epochs (LSTM):   0%|          | 0/75 [00:00<?, ?it/s]"
                        ]
                    },
                    "metadata": {},
                    "output_type": "display_data"
                },
                {
                    "name": "stdout",
                    "output_type": "stream",
                    "text": [
                        "    - INFO: 早停机制已在第 70 轮触发。\n",
                        "    - Fold finished. Best validation loss: 0.007466 at epoch 20\n"
                    ]
                },
                {
                    "data": {
                        "application/vnd.jupyter.widget-view+json": {
                            "model_id": "af7721c863c9492f8a9e5b0f44ae8341",
                            "version_major": 2,
                            "version_minor": 0
                        },
                        "text/plain": [
                            "    - Epochs (LSTM):   0%|          | 0/75 [00:00<?, ?it/s]"
                        ]
                    },
                    "metadata": {},
                    "output_type": "display_data"
                },
                {
                    "name": "stdout",
                    "output_type": "stream",
                    "text": [
                        "    - Fold finished. Best validation loss: 0.004951 at epoch 34\n"
                    ]
                },
                {
                    "data": {
                        "application/vnd.jupyter.widget-view+json": {
                            "model_id": "12882d24ed6b4eeeb3f61b1172d0f63b",
                            "version_major": 2,
                            "version_minor": 0
                        },
                        "text/plain": [
                            "    - Epochs (LSTM):   0%|          | 0/75 [00:00<?, ?it/s]"
                        ]
                    },
                    "metadata": {},
                    "output_type": "display_data"
                },
                {
                    "name": "stdout",
                    "output_type": "stream",
                    "text": [
                        "    - Fold finished. Best validation loss: 0.002067 at epoch 39\n"
                    ]
                },
                {
                    "data": {
                        "application/vnd.jupyter.widget-view+json": {
                            "model_id": "b370c274ce1b4410bc4dee38713849d9",
                            "version_major": 2,
                            "version_minor": 0
                        },
                        "text/plain": [
                            "    - Epochs (LSTM):   0%|          | 0/75 [00:00<?, ?it/s]"
                        ]
                    },
                    "metadata": {},
                    "output_type": "display_data"
                },
                {
                    "name": "stdout",
                    "output_type": "stream",
                    "text": [
                        "    - Fold finished. Best validation loss: 0.002858 at epoch 37\n"
                    ]
                },
                {
                    "data": {
                        "application/vnd.jupyter.widget-view+json": {
                            "model_id": "b414baa4932941e9a5957a130cb5539b",
                            "version_major": 2,
                            "version_minor": 0
                        },
                        "text/plain": [
                            "    - Epochs (LSTM):   0%|          | 0/75 [00:00<?, ?it/s]"
                        ]
                    },
                    "metadata": {},
                    "output_type": "display_data"
                },
                {
                    "name": "stdout",
                    "output_type": "stream",
                    "text": [
                        "    - Fold finished. Best validation loss: 0.007248 at epoch 75\n"
                    ]
                },
                {
                    "data": {
                        "application/vnd.jupyter.widget-view+json": {
                            "model_id": "72683e37097a4a4680921a228d905381",
                            "version_major": 2,
                            "version_minor": 0
                        },
                        "text/plain": [
                            "    - Epochs (LSTM):   0%|          | 0/75 [00:00<?, ?it/s]"
                        ]
                    },
                    "metadata": {},
                    "output_type": "display_data"
                },
                {
                    "name": "stdout",
                    "output_type": "stream",
                    "text": [
                        "    - INFO: 早停机制已在第 51 轮触发。\n",
                        "    - Fold finished. Best validation loss: 0.030306 at epoch 1\n"
                    ]
                },
                {
                    "data": {
                        "application/vnd.jupyter.widget-view+json": {
                            "model_id": "35f1797b12ee4f938d52b0b41ad13f16",
                            "version_major": 2,
                            "version_minor": 0
                        },
                        "text/plain": [
                            "    - Epochs (LSTM):   0%|          | 0/75 [00:00<?, ?it/s]"
                        ]
                    },
                    "metadata": {},
                    "output_type": "display_data"
                },
                {
                    "name": "stdout",
                    "output_type": "stream",
                    "text": [
                        "    - INFO: 早停机制已在第 51 轮触发。\n",
                        "    - Fold finished. Best validation loss: 0.003874 at epoch 1\n"
                    ]
                },
                {
                    "data": {
                        "application/vnd.jupyter.widget-view+json": {
                            "model_id": "f0a8d00939c54652a7770fe006e816fa",
                            "version_major": 2,
                            "version_minor": 0
                        },
                        "text/plain": [
                            "    - Epochs (LSTM):   0%|          | 0/75 [00:00<?, ?it/s]"
                        ]
                    },
                    "metadata": {},
                    "output_type": "display_data"
                },
                {
                    "name": "stdout",
                    "output_type": "stream",
                    "text": [
                        "    - Fold finished. Best validation loss: 0.005286 at epoch 66\n"
                    ]
                },
                {
                    "data": {
                        "application/vnd.jupyter.widget-view+json": {
                            "model_id": "8e44798eca7e4f67a21e54f155b528eb",
                            "version_major": 2,
                            "version_minor": 0
                        },
                        "text/plain": [
                            "    - Epochs (LSTM):   0%|          | 0/75 [00:00<?, ?it/s]"
                        ]
                    },
                    "metadata": {},
                    "output_type": "display_data"
                },
                {
                    "name": "stdout",
                    "output_type": "stream",
                    "text": [
                        "    - INFO: 早停机制已在第 70 轮触发。\n",
                        "    - Fold finished. Best validation loss: 0.003425 at epoch 20\n"
                    ]
                },
                {
                    "data": {
                        "application/vnd.jupyter.widget-view+json": {
                            "model_id": "2bed3089593347e487123cf5d5204240",
                            "version_major": 2,
                            "version_minor": 0
                        },
                        "text/plain": [
                            "    - Epochs (LSTM):   0%|          | 0/75 [00:00<?, ?it/s]"
                        ]
                    },
                    "metadata": {},
                    "output_type": "display_data"
                },
                {
                    "name": "stdout",
                    "output_type": "stream",
                    "text": [
                        "    - Fold finished. Best validation loss: 0.007676 at epoch 50\n"
                    ]
                },
                {
                    "data": {
                        "application/vnd.jupyter.widget-view+json": {
                            "model_id": "17fcf2f589c6442ba938d0c71605eb3c",
                            "version_major": 2,
                            "version_minor": 0
                        },
                        "text/plain": [
                            "    - Epochs (LSTM):   0%|          | 0/75 [00:00<?, ?it/s]"
                        ]
                    },
                    "metadata": {},
                    "output_type": "display_data"
                },
                {
                    "name": "stdout",
                    "output_type": "stream",
                    "text": [
                        "    - Fold finished. Best validation loss: 0.003512 at epoch 56\n"
                    ]
                },
                {
                    "data": {
                        "application/vnd.jupyter.widget-view+json": {
                            "model_id": "aa3545ce356c4773bc3e4cece595688b",
                            "version_major": 2,
                            "version_minor": 0
                        },
                        "text/plain": [
                            "    - Epochs (LSTM):   0%|          | 0/75 [00:00<?, ?it/s]"
                        ]
                    },
                    "metadata": {},
                    "output_type": "display_data"
                },
                {
                    "name": "stdout",
                    "output_type": "stream",
                    "text": [
                        "    - INFO: 早停机制已在第 51 轮触发。\n",
                        "    - Fold finished. Best validation loss: 0.083472 at epoch 1\n"
                    ]
                },
                {
                    "data": {
                        "application/vnd.jupyter.widget-view+json": {
                            "model_id": "1fc3f6b45418445693f3b4f62b4c9591",
                            "version_major": 2,
                            "version_minor": 0
                        },
                        "text/plain": [
                            "    - Epochs (LSTM):   0%|          | 0/75 [00:00<?, ?it/s]"
                        ]
                    },
                    "metadata": {},
                    "output_type": "display_data"
                },
                {
                    "name": "stdout",
                    "output_type": "stream",
                    "text": [
                        "    - INFO: 早停机制已在第 62 轮触发。\n",
                        "    - Fold finished. Best validation loss: 0.084328 at epoch 12\n"
                    ]
                },
                {
                    "data": {
                        "application/vnd.jupyter.widget-view+json": {
                            "model_id": "4c06bf6f4c7845ebb4fb21a731f56224",
                            "version_major": 2,
                            "version_minor": 0
                        },
                        "text/plain": [
                            "    - Epochs (LSTM):   0%|          | 0/75 [00:00<?, ?it/s]"
                        ]
                    },
                    "metadata": {},
                    "output_type": "display_data"
                },
                {
                    "name": "stdout",
                    "output_type": "stream",
                    "text": [
                        "    - INFO: 早停机制已在第 51 轮触发。\n",
                        "    - Fold finished. Best validation loss: 0.013974 at epoch 1\n"
                    ]
                },
                {
                    "data": {
                        "application/vnd.jupyter.widget-view+json": {
                            "model_id": "e7ca1bcd5aab40dc9cc564b4da348524",
                            "version_major": 2,
                            "version_minor": 0
                        },
                        "text/plain": [
                            "    - Epochs (LSTM):   0%|          | 0/75 [00:00<?, ?it/s]"
                        ]
                    },
                    "metadata": {},
                    "output_type": "display_data"
                },
                {
                    "name": "stdout",
                    "output_type": "stream",
                    "text": [
                        "    - INFO: 早停机制已在第 60 轮触发。\n",
                        "    - Fold finished. Best validation loss: 0.009446 at epoch 10\n"
                    ]
                },
                {
                    "data": {
                        "application/vnd.jupyter.widget-view+json": {
                            "model_id": "c15751411edf4b299213e5df319ba396",
                            "version_major": 2,
                            "version_minor": 0
                        },
                        "text/plain": [
                            "    - Epochs (LSTM):   0%|          | 0/75 [00:00<?, ?it/s]"
                        ]
                    },
                    "metadata": {},
                    "output_type": "display_data"
                },
                {
                    "name": "stdout",
                    "output_type": "stream",
                    "text": [
                        "    - Fold finished. Best validation loss: 0.005326 at epoch 42\n"
                    ]
                },
                {
                    "data": {
                        "application/vnd.jupyter.widget-view+json": {
                            "model_id": "31b539f19dd54576af18f2f23fcb4054",
                            "version_major": 2,
                            "version_minor": 0
                        },
                        "text/plain": [
                            "    - Epochs (LSTM):   0%|          | 0/75 [00:00<?, ?it/s]"
                        ]
                    },
                    "metadata": {},
                    "output_type": "display_data"
                },
                {
                    "name": "stdout",
                    "output_type": "stream",
                    "text": [
                        "    - INFO: 早停机制已在第 51 轮触发。\n",
                        "    - Fold finished. Best validation loss: 0.112925 at epoch 1\n"
                    ]
                },
                {
                    "data": {
                        "application/vnd.jupyter.widget-view+json": {
                            "model_id": "f4f8654b58a94ac3b5e56cd7cdd36ecc",
                            "version_major": 2,
                            "version_minor": 0
                        },
                        "text/plain": [
                            "    - Epochs (LSTM):   0%|          | 0/75 [00:00<?, ?it/s]"
                        ]
                    },
                    "metadata": {},
                    "output_type": "display_data"
                },
                {
                    "name": "stdout",
                    "output_type": "stream",
                    "text": [
                        "    - Fold finished. Best validation loss: 0.004453 at epoch 75\n"
                    ]
                },
                {
                    "data": {
                        "application/vnd.jupyter.widget-view+json": {
                            "model_id": "e26c2ad1841546a28cb5e5e07f0c4c57",
                            "version_major": 2,
                            "version_minor": 0
                        },
                        "text/plain": [
                            "    - Epochs (LSTM):   0%|          | 0/75 [00:00<?, ?it/s]"
                        ]
                    },
                    "metadata": {},
                    "output_type": "display_data"
                },
                {
                    "name": "stdout",
                    "output_type": "stream",
                    "text": [
                        "    - INFO: 早停机制已在第 51 轮触发。\n",
                        "    - Fold finished. Best validation loss: 0.119469 at epoch 1\n"
                    ]
                },
                {
                    "data": {
                        "application/vnd.jupyter.widget-view+json": {
                            "model_id": "8ab18f2277fa4499bb8ecbcdebebd6e9",
                            "version_major": 2,
                            "version_minor": 0
                        },
                        "text/plain": [
                            "    - Epochs (LSTM):   0%|          | 0/75 [00:00<?, ?it/s]"
                        ]
                    },
                    "metadata": {},
                    "output_type": "display_data"
                },
                {
                    "name": "stdout",
                    "output_type": "stream",
                    "text": [
                        "    - INFO: 早停机制已在第 51 轮触发。\n",
                        "    - Fold finished. Best validation loss: 0.017301 at epoch 1\n"
                    ]
                },
                {
                    "data": {
                        "application/vnd.jupyter.widget-view+json": {
                            "model_id": "325a47c1058b4feb80c401ff7c9016c7",
                            "version_major": 2,
                            "version_minor": 0
                        },
                        "text/plain": [
                            "    - Epochs (LSTM):   0%|          | 0/75 [00:00<?, ?it/s]"
                        ]
                    },
                    "metadata": {},
                    "output_type": "display_data"
                },
                {
                    "name": "stdout",
                    "output_type": "stream",
                    "text": [
                        "    - INFO: 早停机制已在第 58 轮触发。\n",
                        "    - Fold finished. Best validation loss: 0.002164 at epoch 8\n"
                    ]
                },
                {
                    "data": {
                        "application/vnd.jupyter.widget-view+json": {
                            "model_id": "0ee89fce3ce54a8c8057956960ecf10e",
                            "version_major": 2,
                            "version_minor": 0
                        },
                        "text/plain": [
                            "    - Epochs (LSTM):   0%|          | 0/75 [00:00<?, ?it/s]"
                        ]
                    },
                    "metadata": {},
                    "output_type": "display_data"
                },
                {
                    "name": "stdout",
                    "output_type": "stream",
                    "text": [
                        "    - Fold finished. Best validation loss: 0.008194 at epoch 28\n"
                    ]
                },
                {
                    "data": {
                        "application/vnd.jupyter.widget-view+json": {
                            "model_id": "27118e213062463f97dc8d9b3b602e78",
                            "version_major": 2,
                            "version_minor": 0
                        },
                        "text/plain": [
                            "    - Epochs (LSTM):   0%|          | 0/75 [00:00<?, ?it/s]"
                        ]
                    },
                    "metadata": {},
                    "output_type": "display_data"
                },
                {
                    "name": "stdout",
                    "output_type": "stream",
                    "text": [
                        "    - Fold finished. Best validation loss: 0.008475 at epoch 62\n"
                    ]
                },
                {
                    "data": {
                        "application/vnd.jupyter.widget-view+json": {
                            "model_id": "0015d023db594031991ad027d1078a1a",
                            "version_major": 2,
                            "version_minor": 0
                        },
                        "text/plain": [
                            "    - Epochs (LSTM):   0%|          | 0/75 [00:00<?, ?it/s]"
                        ]
                    },
                    "metadata": {},
                    "output_type": "display_data"
                },
                {
                    "name": "stdout",
                    "output_type": "stream",
                    "text": [
                        "    - INFO: 早停机制已在第 65 轮触发。\n",
                        "    - Fold finished. Best validation loss: 0.020874 at epoch 15\n"
                    ]
                },
                {
                    "data": {
                        "application/vnd.jupyter.widget-view+json": {
                            "model_id": "d98fb2f724c645e28dd998ba4c13491b",
                            "version_major": 2,
                            "version_minor": 0
                        },
                        "text/plain": [
                            "    - Epochs (LSTM):   0%|          | 0/75 [00:00<?, ?it/s]"
                        ]
                    },
                    "metadata": {},
                    "output_type": "display_data"
                },
                {
                    "name": "stdout",
                    "output_type": "stream",
                    "text": [
                        "    - INFO: 早停机制已在第 60 轮触发。\n",
                        "    - Fold finished. Best validation loss: 0.010360 at epoch 10\n"
                    ]
                },
                {
                    "data": {
                        "application/vnd.jupyter.widget-view+json": {
                            "model_id": "d558c030f83e407c997e25e9603d757a",
                            "version_major": 2,
                            "version_minor": 0
                        },
                        "text/plain": [
                            "    - Epochs (LSTM):   0%|          | 0/75 [00:00<?, ?it/s]"
                        ]
                    },
                    "metadata": {},
                    "output_type": "display_data"
                },
                {
                    "name": "stdout",
                    "output_type": "stream",
                    "text": [
                        "    - INFO: 早停机制已在第 51 轮触发。\n",
                        "    - Fold finished. Best validation loss: 0.005183 at epoch 1\n"
                    ]
                },
                {
                    "data": {
                        "application/vnd.jupyter.widget-view+json": {
                            "model_id": "1d323803d01e46a0bcad3b557b8e4489",
                            "version_major": 2,
                            "version_minor": 0
                        },
                        "text/plain": [
                            "    - Epochs (LSTM):   0%|          | 0/75 [00:00<?, ?it/s]"
                        ]
                    },
                    "metadata": {},
                    "output_type": "display_data"
                },
                {
                    "name": "stdout",
                    "output_type": "stream",
                    "text": [
                        "    - INFO: 早停机制已在第 67 轮触发。\n",
                        "    - Fold finished. Best validation loss: 0.001353 at epoch 17\n"
                    ]
                },
                {
                    "data": {
                        "application/vnd.jupyter.widget-view+json": {
                            "model_id": "ded569fd803a4266a0e6671f46fbce42",
                            "version_major": 2,
                            "version_minor": 0
                        },
                        "text/plain": [
                            "    - Epochs (LSTM):   0%|          | 0/75 [00:00<?, ?it/s]"
                        ]
                    },
                    "metadata": {},
                    "output_type": "display_data"
                },
                {
                    "name": "stdout",
                    "output_type": "stream",
                    "text": [
                        "    - INFO: 早停机制已在第 51 轮触发。\n",
                        "    - Fold finished. Best validation loss: 0.010628 at epoch 1\n"
                    ]
                },
                {
                    "data": {
                        "application/vnd.jupyter.widget-view+json": {
                            "model_id": "ed0079c9ec074066bcae1f3dbf10c367",
                            "version_major": 2,
                            "version_minor": 0
                        },
                        "text/plain": [
                            "    - Epochs (LSTM):   0%|          | 0/75 [00:00<?, ?it/s]"
                        ]
                    },
                    "metadata": {},
                    "output_type": "display_data"
                },
                {
                    "name": "stdout",
                    "output_type": "stream",
                    "text": [
                        "    - INFO: 早停机制已在第 51 轮触发。\n",
                        "    - Fold finished. Best validation loss: 0.004360 at epoch 1\n"
                    ]
                },
                {
                    "data": {
                        "application/vnd.jupyter.widget-view+json": {
                            "model_id": "57cd00dc50554bdebd7d7edfebd0417d",
                            "version_major": 2,
                            "version_minor": 0
                        },
                        "text/plain": [
                            "    - Epochs (LSTM):   0%|          | 0/75 [00:00<?, ?it/s]"
                        ]
                    },
                    "metadata": {},
                    "output_type": "display_data"
                },
                {
                    "name": "stdout",
                    "output_type": "stream",
                    "text": [
                        "    - Fold finished. Best validation loss: 0.004462 at epoch 74\n"
                    ]
                },
                {
                    "data": {
                        "application/vnd.jupyter.widget-view+json": {
                            "model_id": "cf450ea5b0d64839969b01d34863c68e",
                            "version_major": 2,
                            "version_minor": 0
                        },
                        "text/plain": [
                            "    - Epochs (LSTM):   0%|          | 0/75 [00:00<?, ?it/s]"
                        ]
                    },
                    "metadata": {},
                    "output_type": "display_data"
                },
                {
                    "name": "stdout",
                    "output_type": "stream",
                    "text": [
                        "    - INFO: 早停机制已在第 61 轮触发。\n",
                        "    - Fold finished. Best validation loss: 0.016635 at epoch 11\n"
                    ]
                },
                {
                    "data": {
                        "application/vnd.jupyter.widget-view+json": {
                            "model_id": "81745b79e47645c1a6ce5e792f27403c",
                            "version_major": 2,
                            "version_minor": 0
                        },
                        "text/plain": [
                            "    - Epochs (LSTM):   0%|          | 0/75 [00:00<?, ?it/s]"
                        ]
                    },
                    "metadata": {},
                    "output_type": "display_data"
                },
                {
                    "name": "stdout",
                    "output_type": "stream",
                    "text": [
                        "    - INFO: 早停机制已在第 57 轮触发。\n",
                        "    - Fold finished. Best validation loss: 0.006480 at epoch 7\n"
                    ]
                },
                {
                    "data": {
                        "application/vnd.jupyter.widget-view+json": {
                            "model_id": "fe384238d71048b5b35fbf3c161ad545",
                            "version_major": 2,
                            "version_minor": 0
                        },
                        "text/plain": [
                            "    - Epochs (LSTM):   0%|          | 0/75 [00:00<?, ?it/s]"
                        ]
                    },
                    "metadata": {},
                    "output_type": "display_data"
                },
                {
                    "name": "stdout",
                    "output_type": "stream",
                    "text": [
                        "    - INFO: 早停机制已在第 57 轮触发。\n",
                        "    - Fold finished. Best validation loss: 0.007725 at epoch 7\n"
                    ]
                },
                {
                    "data": {
                        "application/vnd.jupyter.widget-view+json": {
                            "model_id": "44398f59e9b14a7d9d85655abf113b6c",
                            "version_major": 2,
                            "version_minor": 0
                        },
                        "text/plain": [
                            "    - Epochs (LSTM):   0%|          | 0/75 [00:00<?, ?it/s]"
                        ]
                    },
                    "metadata": {},
                    "output_type": "display_data"
                },
                {
                    "name": "stdout",
                    "output_type": "stream",
                    "text": [
                        "    - Fold finished. Best validation loss: 0.005964 at epoch 27\n"
                    ]
                },
                {
                    "data": {
                        "application/vnd.jupyter.widget-view+json": {
                            "model_id": "43308e0e9a724ef98261bb7884d28682",
                            "version_major": 2,
                            "version_minor": 0
                        },
                        "text/plain": [
                            "    - Epochs (LSTM):   0%|          | 0/75 [00:00<?, ?it/s]"
                        ]
                    },
                    "metadata": {},
                    "output_type": "display_data"
                },
                {
                    "name": "stdout",
                    "output_type": "stream",
                    "text": [
                        "    - Fold finished. Best validation loss: 0.002765 at epoch 68\n"
                    ]
                },
                {
                    "data": {
                        "application/vnd.jupyter.widget-view+json": {
                            "model_id": "4f7052ac4ed442afb5bb002471f26392",
                            "version_major": 2,
                            "version_minor": 0
                        },
                        "text/plain": [
                            "    - Epochs (LSTM):   0%|          | 0/75 [00:00<?, ?it/s]"
                        ]
                    },
                    "metadata": {},
                    "output_type": "display_data"
                },
                {
                    "name": "stdout",
                    "output_type": "stream",
                    "text": [
                        "    - Fold finished. Best validation loss: 0.003772 at epoch 44\n"
                    ]
                },
                {
                    "data": {
                        "application/vnd.jupyter.widget-view+json": {
                            "model_id": "78cc464ec5304f82ae6bc08d16da0d5a",
                            "version_major": 2,
                            "version_minor": 0
                        },
                        "text/plain": [
                            "    - Epochs (LSTM):   0%|          | 0/75 [00:00<?, ?it/s]"
                        ]
                    },
                    "metadata": {},
                    "output_type": "display_data"
                },
                {
                    "name": "stdout",
                    "output_type": "stream",
                    "text": [
                        "    - INFO: 早停机制已在第 61 轮触发。\n",
                        "    - Fold finished. Best validation loss: 0.004283 at epoch 11\n"
                    ]
                },
                {
                    "data": {
                        "application/vnd.jupyter.widget-view+json": {
                            "model_id": "8f0ebb7d03ca4772813982baa7e00bc0",
                            "version_major": 2,
                            "version_minor": 0
                        },
                        "text/plain": [
                            "    - Epochs (LSTM):   0%|          | 0/75 [00:00<?, ?it/s]"
                        ]
                    },
                    "metadata": {},
                    "output_type": "display_data"
                },
                {
                    "name": "stdout",
                    "output_type": "stream",
                    "text": [
                        "    - INFO: 早停机制已在第 67 轮触发。\n",
                        "    - Fold finished. Best validation loss: 0.001758 at epoch 17\n"
                    ]
                },
                {
                    "data": {
                        "application/vnd.jupyter.widget-view+json": {
                            "model_id": "802970725cff4bf19512dd521ff8a17d",
                            "version_major": 2,
                            "version_minor": 0
                        },
                        "text/plain": [
                            "    - Epochs (LSTM):   0%|          | 0/75 [00:00<?, ?it/s]"
                        ]
                    },
                    "metadata": {},
                    "output_type": "display_data"
                },
                {
                    "name": "stdout",
                    "output_type": "stream",
                    "text": [
                        "    - INFO: 早停机制已在第 56 轮触发。\n",
                        "    - Fold finished. Best validation loss: 0.004158 at epoch 6\n"
                    ]
                },
                {
                    "data": {
                        "application/vnd.jupyter.widget-view+json": {
                            "model_id": "7f1d6e74f24e4299b9bd2864f793e26d",
                            "version_major": 2,
                            "version_minor": 0
                        },
                        "text/plain": [
                            "    - Epochs (LSTM):   0%|          | 0/75 [00:00<?, ?it/s]"
                        ]
                    },
                    "metadata": {},
                    "output_type": "display_data"
                },
                {
                    "name": "stdout",
                    "output_type": "stream",
                    "text": [
                        "    - Fold finished. Best validation loss: 0.003102 at epoch 74\n"
                    ]
                },
                {
                    "data": {
                        "application/vnd.jupyter.widget-view+json": {
                            "model_id": "1cbea101ea324d74a9e2be51706cf514",
                            "version_major": 2,
                            "version_minor": 0
                        },
                        "text/plain": [
                            "    - Epochs (LSTM):   0%|          | 0/75 [00:00<?, ?it/s]"
                        ]
                    },
                    "metadata": {},
                    "output_type": "display_data"
                },
                {
                    "name": "stdout",
                    "output_type": "stream",
                    "text": [
                        "    - INFO: 早停机制已在第 51 轮触发。\n",
                        "    - Fold finished. Best validation loss: 0.019855 at epoch 1\n"
                    ]
                },
                {
                    "data": {
                        "application/vnd.jupyter.widget-view+json": {
                            "model_id": "484c87aaa47a4ddc814b56809858a94d",
                            "version_major": 2,
                            "version_minor": 0
                        },
                        "text/plain": [
                            "    - Epochs (LSTM):   0%|          | 0/75 [00:00<?, ?it/s]"
                        ]
                    },
                    "metadata": {},
                    "output_type": "display_data"
                },
                {
                    "name": "stdout",
                    "output_type": "stream",
                    "text": [
                        "    - Fold finished. Best validation loss: 0.017922 at epoch 46\n"
                    ]
                },
                {
                    "data": {
                        "application/vnd.jupyter.widget-view+json": {
                            "model_id": "09ff3e6908304d8496ef447b04ab43a4",
                            "version_major": 2,
                            "version_minor": 0
                        },
                        "text/plain": [
                            "    - Epochs (LSTM):   0%|          | 0/75 [00:00<?, ?it/s]"
                        ]
                    },
                    "metadata": {},
                    "output_type": "display_data"
                },
                {
                    "name": "stdout",
                    "output_type": "stream",
                    "text": [
                        "    - Fold finished. Best validation loss: 0.011850 at epoch 26\n"
                    ]
                },
                {
                    "data": {
                        "application/vnd.jupyter.widget-view+json": {
                            "model_id": "459c50224adc4ee58b71ac8913a50f0d",
                            "version_major": 2,
                            "version_minor": 0
                        },
                        "text/plain": [
                            "    - Epochs (LSTM):   0%|          | 0/75 [00:00<?, ?it/s]"
                        ]
                    },
                    "metadata": {},
                    "output_type": "display_data"
                },
                {
                    "name": "stdout",
                    "output_type": "stream",
                    "text": [
                        "    - INFO: 早停机制已在第 59 轮触发。\n",
                        "    - Fold finished. Best validation loss: 0.006681 at epoch 9\n"
                    ]
                },
                {
                    "data": {
                        "application/vnd.jupyter.widget-view+json": {
                            "model_id": "3d74f72317b34f07893e1061d53bff76",
                            "version_major": 2,
                            "version_minor": 0
                        },
                        "text/plain": [
                            "    - Epochs (LSTM):   0%|          | 0/75 [00:00<?, ?it/s]"
                        ]
                    },
                    "metadata": {},
                    "output_type": "display_data"
                },
                {
                    "name": "stdout",
                    "output_type": "stream",
                    "text": [
                        "    - INFO: 早停机制已在第 51 轮触发。\n",
                        "    - Fold finished. Best validation loss: 0.004267 at epoch 1\n"
                    ]
                },
                {
                    "data": {
                        "application/vnd.jupyter.widget-view+json": {
                            "model_id": "8eca2b03c5304a7a876e63e5fad38bd7",
                            "version_major": 2,
                            "version_minor": 0
                        },
                        "text/plain": [
                            "    - Epochs (LSTM):   0%|          | 0/75 [00:00<?, ?it/s]"
                        ]
                    },
                    "metadata": {},
                    "output_type": "display_data"
                },
                {
                    "name": "stdout",
                    "output_type": "stream",
                    "text": [
                        "    - INFO: 早停机制已在第 68 轮触发。\n",
                        "    - Fold finished. Best validation loss: 0.002776 at epoch 18\n"
                    ]
                },
                {
                    "data": {
                        "application/vnd.jupyter.widget-view+json": {
                            "model_id": "8b674b3be8774d33a88b9670be9a79ef",
                            "version_major": 2,
                            "version_minor": 0
                        },
                        "text/plain": [
                            "    - Epochs (LSTM):   0%|          | 0/75 [00:00<?, ?it/s]"
                        ]
                    },
                    "metadata": {},
                    "output_type": "display_data"
                },
                {
                    "name": "stdout",
                    "output_type": "stream",
                    "text": [
                        "    - INFO: 早停机制已在第 51 轮触发。\n",
                        "    - Fold finished. Best validation loss: 0.001782 at epoch 1\n",
                        "INFO: 滚动训练成功完成，准备训练最终模型。\n",
                        "INFO: 正在训练最终模型...\n",
                        "    - INFO: Starting final LSTM model training on all data...\n",
                        "    - INFO: Training final model for a fixed 50 epochs.\n"
                    ]
                },
                {
                    "data": {
                        "application/vnd.jupyter.widget-view+json": {
                            "model_id": "161488cb48d34fe8892af0e678f45a7a",
                            "version_major": 2,
                            "version_minor": 0
                        },
                        "text/plain": [
                            "    - Final Epochs:   0%|          | 0/50 [00:00<?, ?it/s]"
                        ]
                    },
                    "metadata": {},
                    "output_type": "display_data"
                }
            ],
            "source": [
                "if config and modules and 'global_data_cache' in locals():\n",
                "    # 调用核心引擎中的模型训练函数\n",
                "    # 同样可以通过开关控制是否强制重训\n",
                "    all_ic_history = run_all_models_train(\n",
                "        config, \n",
                "        modules,  \n",
                "        force_retrain_base=False, \n",
                "        force_retrain_fuser=True\n",
                "    )"
            ]
        },
        {
            "cell_type": "markdown",
            "metadata": {},
            "source": [
                "### 2.4 结果聚合、评估与可视化"
            ]
        },
        {
            "cell_type": "code",
            "execution_count": null,
            "metadata": {},
            "outputs": [],
            "source": [
                "if config and modules and 'all_ic_history' in locals() and all_ic_history:\n",
                "    # 调用核心引擎中的评估和可视化函数\n",
                "    evaluation_summary, backtest_summary, final_eval_df = run_performance_evaluation(config, modules, all_ic_history)\n",
                "    \n",
                "    # 只有在有结果时才进行可视化\n",
                "    if evaluation_summary is not None or backtest_summary is not None:\n",
                "        run_results_visualization(config, modules, evaluation_summary, backtest_summary, final_eval_df)\n",
                "    else: print('无可视化结果')"
            ]
        }
    ],
    "metadata": {
        "...": "...",
        "kernelspec": {
            "display_name": ".venv",
            "language": "python",
            "name": "python3"
        },
        "language_info": {
            "codemirror_mode": {
                "name": "ipython",
                "version": 3
            },
            "file_extension": ".py",
            "mimetype": "text/x-python",
            "name": "python",
            "nbconvert_exporter": "python",
            "pygments_lexer": "ipython3",
            "version": "3.13.0"
        }
    },
    "nbformat": 4,
    "nbformat_minor": 4
}
