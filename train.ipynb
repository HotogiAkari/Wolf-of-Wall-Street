{
    "cells": [
        {
            "cell_type": "markdown",
            "metadata": {},
            "source": [
                "# 股票预测模型工作流\n",
                "\n",
                "---\n",
                "### 工作流说明\n",
                "1.  **阶段零 (Setup)**: 导入库、加载配置。\n",
                "2.  **阶段一 (Data Pipeline)**: 独立运行。负责处理并保存数据，生成 L2 特征数据缓存。\n",
                "3.  **阶段二 (Model Pipeline)**: 独立运行。包含三个子步骤：\n",
                "    - **2.1 HPO**: 自动调参。\n",
                "    - **2.2 (预处理)**: 智能地加载或生成 L3 预处理数据缓存\n",
                "    - **2.3 (模型训练)**: 使用 L3 缓存进行高效的模型训练。\n",
                "    - **2.4 (评估)**: 对训练结果进行聚合与可视化。"
            ]
        },
        {
            "cell_type": "markdown",
            "metadata": {},
            "source": [
                "## 0. 通用设置与导入"
            ]
        },
        {
            "cell_type": "code",
            "execution_count": 1,
            "metadata": {},
            "outputs": [
                {
                    "name": "stderr",
                    "output_type": "stream",
                    "text": [
                        "C:\\Users\\Akari\\AppData\\Local\\Temp\\ipykernel_16628\\824614192.py:3: TqdmExperimentalWarning: Using `tqdm.autonotebook.tqdm` in notebook mode. Use `tqdm.tqdm` instead to force console mode (e.g. in jupyter console)\n",
                        "  from tqdm.autonotebook import tqdm\n"
                    ]
                },
                {
                    "name": "stdout",
                    "output_type": "stream",
                    "text": [
                        "INFO: 项目模型导入成功.\n",
                        "SUCCESS: 从 'configs/config.yaml' 加载 Config.\n"
                    ]
                }
            ],
            "source": [
                "import os, sys, yaml, torch, joblib, numpy as np, pandas as pd, seaborn as sns, matplotlib.pyplot as plt\n",
                "from pathlib import Path\n",
                "from tqdm.autonotebook import tqdm\n",
                "from sklearn.preprocessing import StandardScaler\n",
                "\n",
                "os.environ['PYOPENCL_CTX'] = '0'\n",
                "plt.style.use('seaborn-v0_8-whitegrid')\n",
                "plt.rcParams['font.sans-serif'] = ['SimHei']\n",
                "plt.rcParams['axes.unicode_minus'] = False\n",
                "\n",
                "try:\n",
                "    from data_process.get_data import initialize_apis, shutdown_apis\n",
                "    from data_process.save_data import run_data_pipeline, get_processed_data_path\n",
                "    from model_builders.build_models import run_training_for_ticker, _walk_forward_split\n",
                "    from model_builders.hpo_utils import run_hpo_for_ticker\n",
                "    from model_builders.model_fuser import ModelFuser\n",
                "    from model_builders.lstm_builder import LSTMBuilder\n",
                "    print(\"INFO: 项目模型导入成功.\")\n",
                "except ImportError as e:\n",
                "    print(f\"WARNNING: 导入失败: {e}. 正在添加项目根目录...\")\n",
                "    project_root = str(Path().resolve()); sys.path.append(project_root) if project_root not in sys.path else None\n",
                "    from data_process.get_data import initialize_apis, shutdown_apis\n",
                "    from data_process.save_data import run_data_pipeline, get_processed_data_path\n",
                "    from model_builders.build_models import run_training_for_ticker, _walk_forward_split\n",
                "    from model_builders.hpo_utils import run_hpo_for_ticker\n",
                "    from model_builders.model_fuser import ModelFuser\n",
                "    from model_builders.lstm_builder import LSTMBuilder\n",
                "    print(\"INFO: 导入成功.\")\n",
                "\n",
                "CONFIG_PATH = 'configs/config.yaml'\n",
                "try:\n",
                "    with open(CONFIG_PATH, 'r', encoding='utf-8') as f: config = yaml.safe_load(f)\n",
                "    print(f\"SUCCESS: 从 '{CONFIG_PATH}' 加载 Config.\")\n",
                "except FileNotFoundError:\n",
                "    print(f\"ERROR: 未找到 Config.\"); config = {}\n",
                "\n",
                "if config:\n",
                "    global_settings, strategy_config, hpo_config, default_model_params, stocks_to_process = (\n",
                "        config.get('global_settings', {}), config.get('strategy_config', {}), \n",
                "        config.get('hpo_config', {}), config.get('default_model_params', {}), \n",
                "        config.get('stocks_to_process', [])\n",
                "    )"
            ]
        },
        {
            "cell_type": "markdown",
            "metadata": {},
            "source": [
                "# **阶段一：数据准备与特征工程**"
            ]
        },
        {
            "cell_type": "code",
            "execution_count": 2,
            "metadata": {},
            "outputs": [
                {
                    "name": "stdout",
                    "output_type": "stream",
                    "text": [
                        "--- 开始步骤 1: 数据准备 ---\n",
                        "\n",
                        "INFO: 尝试登陆 Baostock...\n",
                        "login success!\n",
                        "INFO: Baostock API 登录成功。SDK版本: 00.8.90\n",
                        "INFO: 未在配置中提供有效的 Tushare Token。将跳过宏观数据获取。\n",
                        "开始执行数据管道协调任务...\n",
                        "将使用配置文件: configs/config.yaml\n",
                        "INFO: 特征文件已存在于 data\\processed\\000001.SZ\\None_to_2025-09-30\\features_3426a81a0a66.pkl，跳过 平安银行 的数据处理。\n",
                        "INFO: 特征文件已存在于 data\\processed\\000100.SZ\\None_to_2025-09-30\\features_a496eedfeef4.pkl，跳过 TCL科技 的数据处理。\n",
                        "INFO: 特征文件已存在于 data\\processed\\000426.SZ\\None_to_2025-09-30\\features_7735d66ba2d8.pkl，跳过 兴业矿业 的数据处理。\n",
                        "INFO: 特征文件已存在于 data\\processed\\002083.SZ\\None_to_2025-09-30\\features_31355922e534.pkl，跳过 孚日股份 的数据处理。\n",
                        "INFO: 特征文件已存在于 data\\processed\\000150.SZ\\None_to_2025-09-30\\features_d3643490c4b0.pkl，跳过 宜华健康 的数据处理。\n",
                        "INFO: 特征文件已存在于 data\\processed\\300013.SZ\\None_to_2025-09-30\\features_a496eedfeef4.pkl，跳过 新宁物流 的数据处理。\n",
                        "INFO: 特征文件已存在于 data\\processed\\300242.SZ\\None_to_2025-09-30\\features_4f6e73a5f824.pkl，跳过 佳云科技 的数据处理。\n",
                        "INFO: 特征文件已存在于 data\\processed\\002006.SZ\\None_to_2025-09-30\\features_665dc9104f40.pkl，跳过 精功科技 的数据处理。\n",
                        "INFO: 特征文件已存在于 data\\processed\\300242.SZ\\None_to_2025-09-30\\features_4f6e73a5f824.pkl，跳过 佳云科技 的数据处理。\n",
                        "\n",
                        "需要为以下 1 只股票生成新数据: ['600301.SH']\n",
                        "--- 开始批量特征生成 ---\n",
                        "针对特定股票: 1 生成特征.\n",
                        "\n",
                        "--- Generating features for ST南化 (600301.SH) ---\n",
                        "  - Running in Training Mode: Fetching historical data based on config.\n",
                        "  - Data window: Requesting data from 2010-09-30 to 2025-09-30.\n",
                        "  - [1/7] 正在从本地缓存加载 sh.600301 的原始日线数据...\n",
                        "  - INFO: Received data for ST南化 from 2010-09-30 to 2025-09-30.\n",
                        "INFO: Starting feature calculation pipeline...\n",
                        "  - [Calculating Features] INFO: No technical indicators specified in config. Skipping Technical Indicators.\n",
                        "  - [Calculating Features] Running: Calendar Features...\n",
                        "  - [Calculating Features] INFO: No candlestick patterns specified in config. Skipping Candlestick Patterns.\n",
                        "  - [Calculating Features] Running: Statistical Features...\n",
                        "  - [Calculating Features] Running: Price Structure Features...\n",
                        "  - [Calculating Features] Running: Volume Features...\n",
                        "  - [Calculating Features] Running: Trend Regime Features...\n",
                        "INFO: Feature calculation pipeline finished.\n",
                        "  - [1/7] 正在从本地缓存加载 sh.000984 的原始日线数据...\n",
                        "  - [1/7] 正在从 Baostock 下载 sh.512690 的日线行情...\n",
                        "  - WARNING [BS]: 未能获取到 sh.512690 在指定日期范围的数据。\n",
                        "WARNNING: Could not get industry data for ST南化. Using benchmark as fallback.\n",
                        "  - [4/7] 正在添加相对表现特征...\n",
                        "  - [5/7] 正在对特征进行平稳化...\n",
                        "  - [6/7] 正在创建并降噪预测标签...\n",
                        "  - [7/7] 正在进行初步特征筛选...\n",
                        "    - 移除了 5 个高相关性特征: ['week_of_year', 'industry_close', 'relative_strength_vs_industry', 'correlation_vs_industry', 'industry_close_log_return']\n",
                        "INFO: 运行架构验证...\n",
                        "    - WARNNING (Data Gaps): Found 6 large gap(s) in time series after the first data point. Max gap: 107 days 00:00:00.\n",
                        "ERROR: 数据结构验证失败!\n",
                        "验证失败详情:\n",
                        "False\n",
                        "ERROR: Final data validation failed for ST南化. Aborting.\n",
                        "--- Batch Feature Generation Process Finished ---\n",
                        "未能从数据管道获取任何新数据，跳过保存步骤。\n",
                        "\n",
                        "数据管道协调任务执行完毕。\n",
                        "logout success!\n",
                        "INFO: Baostock API 已成功登出.\n"
                    ]
                }
            ],
            "source": [
                "print(\"--- 开始步骤 1: 数据准备 ---\\n\")\n",
                "try:\n",
                "    if config: initialize_apis(config); run_data_pipeline(config_path=CONFIG_PATH)\n",
                "    else: print(\"ERROR: Config 为空.\")\n",
                "finally:\n",
                "    shutdown_apis()"
            ]
        },
        {
            "cell_type": "markdown",
            "metadata": {},
            "source": [
                "# **阶段二：模型训练与评估**"
            ]
        },
        {
            "cell_type": "markdown",
            "metadata": {},
            "source": [
                "### 2.1 数据预加载与全局预处理 (L3 缓存)"
            ]
        },
        {
            "cell_type": "code",
            "execution_count": 3,
            "metadata": {},
            "outputs": [
                {
                    "name": "stdout",
                    "output_type": "stream",
                    "text": [
                        "--- Starting Stage 2.1: Data Pre-loading and Global Pre-processing ---\n",
                        "\n",
                        "INFO: Found L3 cache. Loading from data\\processed\\_preprocessed_cache.joblib...\n",
                        "SUCCESS: L3 cache loaded into memory.\n",
                        "\n",
                        "--- Stage 2.1 Finished: All data is cached in memory. ---\n"
                    ]
                }
            ],
            "source": [
                "FORCE_REPROCESS = False     # 是否重新处理数据\n",
                "\n",
                "global_data_cache = {}\n",
                "print(\"--- Starting Stage 2.1: Data Pre-loading and Global Pre-processing ---\\n\")\n",
                "\n",
                "L3_CACHE_DIR = Path(global_settings.get('output_dir', 'data/processed'))\n",
                "L3_CACHE_DIR.mkdir(parents=True, exist_ok=True)\n",
                "L3_CACHE_PATH = L3_CACHE_DIR / \"_preprocessed_cache.joblib\"\n",
                "\n",
                "if L3_CACHE_PATH.exists() and not FORCE_REPROCESS:\n",
                "    print(f\"INFO: Found L3 cache. Loading from {L3_CACHE_PATH}...\")\n",
                "    try:\n",
                "        global_data_cache = joblib.load(L3_CACHE_PATH)\n",
                "        print(\"SUCCESS: L3 cache loaded into memory.\")\n",
                "    except Exception as e:\n",
                "        print(f\"WARNNING: Failed to load L3 cache: {e}. Re-processing data.\")\n",
                "        global_data_cache = {}\n",
                "\n",
                "if not global_data_cache:\n",
                "    print(\"INFO: L3 cache not found or is empty. Starting pre-processing...\\n\")\n",
                "    if config and stocks_to_process:\n",
                "        lstm_builder_for_preprocessing = LSTMBuilder(config)\n",
                "        \n",
                "        for stock_info in tqdm(stocks_to_process, desc=\"Pre-processing Stocks\"):\n",
                "            ticker = stock_info.get('ticker'); keyword = stock_info.get('keyword', ticker)\n",
                "            if not ticker: continue\n",
                "            data_path = get_processed_data_path(stock_info, config)\n",
                "            if not data_path.exists():\n",
                "                print(f\"\\nERROR: L2 data for {keyword} not found. Skipping pre-processing.\")\n",
                "                continue\n",
                "            \n",
                "            df = pd.read_pickle(data_path); df.index.name = 'date'\n",
                "            folds = _walk_forward_split(df, strategy_config)\n",
                "            if not folds:\n",
                "                print(f\"\\nWARNNING: No folds generated for {keyword}. Skipping pre-processing.\")\n",
                "                continue\n",
                "\n",
                "            preprocessed_folds_lgbm, preprocessed_folds_lstm = [], []\n",
                "            label_col = global_settings.get('label_column', 'label_alpha')\n",
                "            features_for_model = [c for c in df.columns if c != label_col and not c.startswith('future_')]\n",
                "\n",
                "            for train_df, val_df in folds:\n",
                "                X_train_model, y_train = train_df[features_for_model], train_df[label_col]\n",
                "                X_val_model, y_val = val_df[features_for_model], val_df[label_col]\n",
                "                scaler_lgbm = StandardScaler()\n",
                "                X_train_scaled = pd.DataFrame(scaler_lgbm.fit_transform(X_train_model), index=X_train_model.index, columns=features_for_model)\n",
                "                X_val_scaled = pd.DataFrame(scaler_lgbm.transform(X_val_model), index=X_val_model.index, columns=features_for_model)\n",
                "                preprocessed_folds_lgbm.append({'X_train_scaled': X_train_scaled, 'y_train': y_train, 'X_val_scaled': X_val_scaled, 'y_val': y_val})\n",
                "\n",
                "                # --- 实现层级覆盖逻辑 ---\n",
                "                use_lstm_for_this_stock = stock_info.get('use_lstm') \n",
                "                if use_lstm_for_this_stock is None:\n",
                "                    use_lstm_for_this_stock = global_settings.get('use_lstm_globally', True)\n",
                "                \n",
                "                if 'lstm' in global_settings.get('models_to_train', []) and use_lstm_for_this_stock:\n",
                "                    lstm_seq_len = lstm_builder_for_preprocessing.sequence_length\n",
                "                    if len(train_df) < lstm_seq_len: continue\n",
                "                    train_history_for_val = train_df.iloc[-lstm_seq_len:]\n",
                "                    combined_df_for_lstm_val = pd.concat([train_history_for_val, val_df])\n",
                "                    \n",
                "                    scaler_lstm = StandardScaler()\n",
                "                    train_df_scaled = train_df.copy(); combined_df_for_lstm_val_scaled = combined_df_for_lstm_val.copy()\n",
                "                    train_df_scaled[features_for_model] = scaler_lstm.fit_transform(train_df[features_for_model])\n",
                "                    combined_df_for_lstm_val_scaled[features_for_model] = scaler_lstm.transform(combined_df_for_lstm_val[features_for_model])\n",
                "\n",
                "                    X_train_seq, y_train_seq, _ = lstm_builder_for_preprocessing._create_sequences(train_df_scaled, features_for_model)\n",
                "                    X_val_seq, y_val_seq, dates_val_seq = lstm_builder_for_preprocessing._create_sequences(combined_df_for_lstm_val_scaled, features_for_model)\n",
                "\n",
                "                    lstm_precision = default_model_params.get('lstm_params', {}).get('precision', 32)\n",
                "                    torch_dtype = torch.float16 if lstm_precision == 16 else torch.float32\n",
                "                    preprocessed_folds_lstm.append({'X_train_tensor': torch.from_numpy(X_train_seq).to(dtype=torch_dtype), 'y_train_tensor': torch.from_numpy(y_train_seq).unsqueeze(1).to(dtype=torch_dtype), 'X_val_tensor': torch.from_numpy(X_val_seq).to(dtype=torch_dtype), 'y_val_tensor': torch.from_numpy(y_val_seq).unsqueeze(1).to(dtype=torch_dtype), 'y_val_seq': y_val_seq, 'dates_val_seq': dates_val_seq})\n",
                "            \n",
                "            global_data_cache[ticker] = {'full_df': df, 'lgbm_folds': preprocessed_folds_lgbm, 'lstm_folds': preprocessed_folds_lstm}\n",
                "            print(f\"  - Cached {len(preprocessed_folds_lgbm)} folds for LGBM and {len(preprocessed_folds_lstm)} folds for LSTM for {keyword}.\")\n",
                "        \n",
                "        print(f\"\\nINFO: Pre-processing finished. Saving L3 cache to {L3_CACHE_PATH}...\")\n",
                "        try:\n",
                "            joblib.dump(global_data_cache, L3_CACHE_PATH)\n",
                "            print(\"SUCCESS: L3 cache saved.\")\n",
                "        except Exception as e:\n",
                "            print(f\"ERROR: Failed to save L3 cache: {e}\")\n",
                "\n",
                "print(\"\\n--- Stage 2.1 Finished: All data is cached in memory. ---\")"
            ]
        },
        {
            "cell_type": "markdown",
            "metadata": {},
            "source": [
                "### 2.2 超参数优化"
            ]
        },
        {
            "cell_type": "code",
            "execution_count": null,
            "metadata": {},
            "outputs": [
                {
                    "name": "stderr",
                    "output_type": "stream",
                    "text": [
                        "[I 2025-10-17 08:16:40,345] A new study created in memory with name: no-name-c917cc45-70ef-4b6d-b146-363aad2816e9\n"
                    ]
                },
                {
                    "name": "stdout",
                    "output_type": "stream",
                    "text": [
                        "--- 开始为模型 ['lgbm', 'lstm'] 和股票 ['000100.SZ', '000426.SZ', '000001.SZ'] 进行超参数优化 ---\n",
                        "\n",
                        "\n",
                        "################################################################################\n",
                        "# 开始为模型 [LGBM] 进行 HPO\n",
                        "################################################################################\n",
                        "\n",
                        "INFO: 已为 TCL科技 加载最后 2 个 folds 用于 LGBM HPO。\n",
                        "\n",
                        "--- 开始为 TCL科技 (000100.SZ) 进行 LGBM HPO (共 20 轮) ---\n"
                    ]
                },
                {
                    "data": {
                        "application/vnd.jupyter.widget-view+json": {
                            "model_id": "ee8e64d1b68246d692d94505d2fd4fba",
                            "version_major": 2,
                            "version_minor": 0
                        },
                        "text/plain": [
                            "  0%|          | 0/20 [00:00<?, ?it/s]"
                        ]
                    },
                    "metadata": {},
                    "output_type": "display_data"
                },
                {
                    "name": "stdout",
                    "output_type": "stream",
                    "text": [
                        "    - Quantile 0.05: Finished. Best iter: [1]\n",
                        "    - Quantile 0.5: Finished. Best iter: [1]\n",
                        "    - Quantile 0.95: Finished. Best iter: [1]\n",
                        "    - Quantile 0.05: Finished. Best iter: [25]\n",
                        "    - Quantile 0.5: Finished. Best iter: [25]\n",
                        "    - Quantile 0.95: Finished. Best iter: [1]\n",
                        "[I 2025-10-17 08:17:49,332] Trial 0 finished with value: -10.0 and parameters: {'num_leaves': 43, 'learning_rate': 0.013620602988489987, 'min_child_samples': 68, 'feature_fraction': 0.7799435595421811, 'bagging_fraction': 0.7828079301578874, 'reg_alpha': 0.08609005665567519, 'reg_lambda': 0.08709878235490454}. Best is trial 0 with value: -10.0.\n",
                        "    - Quantile 0.05: Finished. Best iter: [1]\n",
                        "    - Quantile 0.5: Finished. Best iter: [1]\n",
                        "    - Quantile 0.95: Finished. Best iter: [1]\n",
                        "    - Quantile 0.05: Finished. Best iter: [25]\n",
                        "    - Quantile 0.5: Finished. Best iter: [25]\n",
                        "    - Quantile 0.95: Finished. Best iter: [1]\n",
                        "[I 2025-10-17 08:18:56,183] Trial 1 finished with value: -10.0 and parameters: {'num_leaves': 37, 'learning_rate': 0.011522452393890605, 'min_child_samples': 52, 'feature_fraction': 0.8875001488739838, 'bagging_fraction': 0.8192367987799563, 'reg_alpha': 0.5574748099282604, 'reg_lambda': 0.03183851573563435}. Best is trial 0 with value: -10.0.\n",
                        "    - Quantile 0.05: Finished. Best iter: [1]\n",
                        "    - Quantile 0.5: Finished. Best iter: [1]\n",
                        "    - Quantile 0.95: Finished. Best iter: [1]\n",
                        "    - Quantile 0.05: Finished. Best iter: [25]\n",
                        "    - Quantile 0.5: Finished. Best iter: [25]\n",
                        "    - Quantile 0.95: Finished. Best iter: [1]\n",
                        "[I 2025-10-17 08:20:10,725] Trial 2 finished with value: -10.0 and parameters: {'num_leaves': 21, 'learning_rate': 0.0026150731149229113, 'min_child_samples': 21, 'feature_fraction': 0.8538697768746747, 'bagging_fraction': 0.6897766956798957, 'reg_alpha': 0.1566497156552724, 'reg_lambda': 0.7219421446067233}. Best is trial 0 with value: -10.0.\n",
                        "    - Quantile 0.05: Finished. Best iter: [1]\n",
                        "    - Quantile 0.5: Finished. Best iter: [1]\n",
                        "    - Quantile 0.95: Finished. Best iter: [1]\n",
                        "    - Quantile 0.05: Finished. Best iter: [25]\n",
                        "    - Quantile 0.5: Finished. Best iter: [25]\n",
                        "    - Quantile 0.95: Finished. Best iter: [1]\n",
                        "[I 2025-10-17 08:21:15,604] Trial 3 finished with value: -10.0 and parameters: {'num_leaves': 20, 'learning_rate': 0.001178528087861695, 'min_child_samples': 50, 'feature_fraction': 0.6865777736293506, 'bagging_fraction': 0.761938193141464, 'reg_alpha': 3.962619758295257, 'reg_lambda': 0.058501938994796845}. Best is trial 0 with value: -10.0.\n",
                        "    - Quantile 0.05: Finished. Best iter: [1]\n",
                        "    - Quantile 0.5: Finished. Best iter: [1]\n",
                        "    - Quantile 0.95: Finished. Best iter: [1]\n",
                        "    - Quantile 0.05: Finished. Best iter: [25]\n",
                        "    - Quantile 0.5: Finished. Best iter: [25]\n",
                        "    - Quantile 0.95: Finished. Best iter: [1]\n",
                        "[I 2025-10-17 08:22:16,415] Trial 4 finished with value: -10.0 and parameters: {'num_leaves': 56, 'learning_rate': 0.0028431690423538795, 'min_child_samples': 36, 'feature_fraction': 0.6703679744510923, 'bagging_fraction': 0.9554397304848269, 'reg_alpha': 1.0345390519174056, 'reg_lambda': 0.13410998139958064}. Best is trial 0 with value: -10.0.\n",
                        "    - Quantile 0.05: Finished. Best iter: [1]\n",
                        "    - Quantile 0.5: Finished. Best iter: [1]\n",
                        "    - Quantile 0.95: Finished. Best iter: [1]\n",
                        "    - Quantile 0.05: Finished. Best iter: [25]\n",
                        "    - Quantile 0.5: Finished. Best iter: [25]\n",
                        "    - Quantile 0.95: Finished. Best iter: [1]\n",
                        "[I 2025-10-17 08:23:17,041] Trial 5 finished with value: -10.0 and parameters: {'num_leaves': 21, 'learning_rate': 0.005070792316851322, 'min_child_samples': 44, 'feature_fraction': 0.7693369802584568, 'bagging_fraction': 0.7576424753656927, 'reg_alpha': 0.5093786903899794, 'reg_lambda': 0.5315371306876411}. Best is trial 0 with value: -10.0.\n",
                        "    - Quantile 0.05: Finished. Best iter: [1]\n",
                        "    - Quantile 0.5: Finished. Best iter: [1]\n",
                        "    - Quantile 0.95: Finished. Best iter: [1]\n",
                        "    - Quantile 0.05: Finished. Best iter: [25]\n",
                        "    - Quantile 0.5: Finished. Best iter: [25]\n",
                        "    - Quantile 0.95: Finished. Best iter: [1]\n",
                        "[I 2025-10-17 08:24:22,868] Trial 6 finished with value: -10.0 and parameters: {'num_leaves': 58, 'learning_rate': 0.0031588793046921746, 'min_child_samples': 30, 'feature_fraction': 0.6980292644025023, 'bagging_fraction': 0.9957320210983875, 'reg_alpha': 7.42810237530468, 'reg_lambda': 1.3637326569737378}. Best is trial 0 with value: -10.0.\n",
                        "    - Quantile 0.05: Finished. Best iter: [1]\n",
                        "    - Quantile 0.5: Finished. Best iter: [1]\n",
                        "    - Quantile 0.95: Finished. Best iter: [1]\n",
                        "    - Quantile 0.05: Finished. Best iter: [25]\n",
                        "    - Quantile 0.5: Finished. Best iter: [25]\n",
                        "    - Quantile 0.95: Finished. Best iter: [1]\n",
                        "[I 2025-10-17 08:25:23,329] Trial 7 finished with value: -10.0 and parameters: {'num_leaves': 66, 'learning_rate': 0.0014924296679308328, 'min_child_samples': 93, 'feature_fraction': 0.8150005926806946, 'bagging_fraction': 0.6395777712526813, 'reg_alpha': 2.740208737065476, 'reg_lambda': 0.3891887115134475}. Best is trial 0 with value: -10.0.\n",
                        "    - Quantile 0.05: Finished. Best iter: [1]\n",
                        "    - Quantile 0.5: Finished. Best iter: [1]\n",
                        "    - Quantile 0.95: Finished. Best iter: [1]\n",
                        "    - Quantile 0.05: Finished. Best iter: [25]\n",
                        "    - Quantile 0.5: Finished. Best iter: [25]\n",
                        "    - Quantile 0.95: Finished. Best iter: [1]\n",
                        "[I 2025-10-17 08:26:22,615] Trial 8 finished with value: -10.0 and parameters: {'num_leaves': 62, 'learning_rate': 0.004610449777477153, 'min_child_samples': 98, 'feature_fraction': 0.7000471693464414, 'bagging_fraction': 0.696552990975406, 'reg_alpha': 0.019539084539726925, 'reg_lambda': 0.6863281902658702}. Best is trial 0 with value: -10.0.\n",
                        "    - Quantile 0.05: Finished. Best iter: [1]\n",
                        "    - Quantile 0.5: Finished. Best iter: [1]\n",
                        "    - Quantile 0.95: Finished. Best iter: [1]\n",
                        "    - Quantile 0.05: Finished. Best iter: [25]\n",
                        "    - Quantile 0.5: Finished. Best iter: [25]\n",
                        "    - Quantile 0.95: Finished. Best iter: [1]\n",
                        "[I 2025-10-17 08:27:30,489] Trial 9 finished with value: -10.0 and parameters: {'num_leaves': 51, 'learning_rate': 0.008524148589354073, 'min_child_samples': 88, 'feature_fraction': 0.77595798993269, 'bagging_fraction': 0.9375083434979039, 'reg_alpha': 0.015652327376092165, 'reg_lambda': 3.403661756226349}. Best is trial 0 with value: -10.0.\n",
                        "    - Quantile 0.05: Finished. Best iter: [1]\n",
                        "    - Quantile 0.5: Finished. Best iter: [1]\n",
                        "    - Quantile 0.95: Finished. Best iter: [1]\n",
                        "    - Quantile 0.05: Finished. Best iter: [25]\n",
                        "    - Quantile 0.5: Finished. Best iter: [25]\n",
                        "    - Quantile 0.95: Finished. Best iter: [1]\n",
                        "[I 2025-10-17 08:28:40,380] Trial 10 finished with value: -10.0 and parameters: {'num_leaves': 78, 'learning_rate': 0.07500518882507014, 'min_child_samples': 72, 'feature_fraction': 0.9956805273693803, 'bagging_fraction': 0.8718928032352767, 'reg_alpha': 0.07990042058177642, 'reg_lambda': 0.0119990670307208}. Best is trial 0 with value: -10.0.\n",
                        "    - Quantile 0.05: Finished. Best iter: [1]\n",
                        "    - Quantile 0.5: Finished. Best iter: [1]\n",
                        "    - Quantile 0.95: Finished. Best iter: [1]\n",
                        "    - Quantile 0.05: Finished. Best iter: [25]\n",
                        "    - Quantile 0.5: Finished. Best iter: [25]\n",
                        "    - Quantile 0.95: Finished. Best iter: [1]\n",
                        "[I 2025-10-17 08:29:38,135] Trial 11 finished with value: -10.0 and parameters: {'num_leaves': 37, 'learning_rate': 0.028745405977399267, 'min_child_samples': 64, 'feature_fraction': 0.9047691065612353, 'bagging_fraction': 0.8463115775787193, 'reg_alpha': 0.05101163744638525, 'reg_lambda': 0.031246090223807293}. Best is trial 0 with value: -10.0.\n",
                        "    - Quantile 0.05: Finished. Best iter: [1]\n",
                        "    - Quantile 0.5: Finished. Best iter: [1]\n",
                        "    - Quantile 0.95: Finished. Best iter: [1]\n",
                        "    - Quantile 0.05: Finished. Best iter: [25]\n",
                        "    - Quantile 0.5: Finished. Best iter: [25]\n",
                        "    - Quantile 0.95: Finished. Best iter: [1]\n",
                        "[I 2025-10-17 08:30:54,482] Trial 12 finished with value: -10.0 and parameters: {'num_leaves': 38, 'learning_rate': 0.019656770458477992, 'min_child_samples': 75, 'feature_fraction': 0.9179890050128716, 'bagging_fraction': 0.821628033849135, 'reg_alpha': 0.32374330533192597, 'reg_lambda': 0.10120856156576252}. Best is trial 0 with value: -10.0.\n",
                        "    - Quantile 0.05: Finished. Best iter: [1]\n",
                        "    - Quantile 0.5: Finished. Best iter: [1]\n",
                        "    - Quantile 0.95: Finished. Best iter: [1]\n",
                        "    - Quantile 0.05: Finished. Best iter: [25]\n",
                        "    - Quantile 0.5: Finished. Best iter: [25]\n",
                        "    - Quantile 0.95: Finished. Best iter: [1]\n",
                        "[I 2025-10-17 08:32:20,812] Trial 13 finished with value: -10.0 and parameters: {'num_leaves': 41, 'learning_rate': 0.01627998353629824, 'min_child_samples': 54, 'feature_fraction': 0.8536632529390038, 'bagging_fraction': 0.7726315821469305, 'reg_alpha': 1.0281097719193977, 'reg_lambda': 0.014413133765179298}. Best is trial 0 with value: -10.0.\n",
                        "    - Quantile 0.05: Finished. Best iter: [1]\n",
                        "    - Quantile 0.5: Finished. Best iter: [1]\n",
                        "    - Quantile 0.95: Finished. Best iter: [1]\n",
                        "    - Quantile 0.05: Finished. Best iter: [25]\n",
                        "    - Quantile 0.5: Finished. Best iter: [25]\n",
                        "    - Quantile 0.95: Finished. Best iter: [1]\n",
                        "[I 2025-10-17 08:33:33,581] Trial 14 finished with value: -10.0 and parameters: {'num_leaves': 32, 'learning_rate': 0.04779020229511422, 'min_child_samples': 61, 'feature_fraction': 0.606174303786306, 'bagging_fraction': 0.8719101173673264, 'reg_alpha': 0.12893962574586182, 'reg_lambda': 0.039540048136547414}. Best is trial 0 with value: -10.0.\n",
                        "    - Quantile 0.05: Finished. Best iter: [1]\n",
                        "    - Quantile 0.5: Finished. Best iter: [1]\n",
                        "    - Quantile 0.95: Finished. Best iter: [1]\n",
                        "    - Quantile 0.05: Finished. Best iter: [25]\n",
                        "    - Quantile 0.5: Finished. Best iter: [25]\n",
                        "    - Quantile 0.95: Finished. Best iter: [1]\n",
                        "[I 2025-10-17 08:34:37,712] Trial 15 finished with value: -10.0 and parameters: {'num_leaves': 45, 'learning_rate': 0.0104272945691912, 'min_child_samples': 81, 'feature_fraction': 0.9690048564659269, 'bagging_fraction': 0.7161627382487501, 'reg_alpha': 0.03636136989540375, 'reg_lambda': 0.13584080042213112}. Best is trial 0 with value: -10.0.\n",
                        "    - Quantile 0.05: Finished. Best iter: [1]\n",
                        "    - Quantile 0.5: Finished. Best iter: [1]\n",
                        "    - Quantile 0.95: Finished. Best iter: [1]\n",
                        "    - Quantile 0.05: Finished. Best iter: [25]\n",
                        "    - Quantile 0.5: Finished. Best iter: [25]\n",
                        "    - Quantile 0.95: Finished. Best iter: [1]\n",
                        "[I 2025-10-17 08:35:36,523] Trial 16 finished with value: -10.0 and parameters: {'num_leaves': 31, 'learning_rate': 0.009883896979760753, 'min_child_samples': 63, 'feature_fraction': 0.9129675102237833, 'bagging_fraction': 0.6020938221554423, 'reg_alpha': 0.8572179631116112, 'reg_lambda': 0.022892954304910316}. Best is trial 0 with value: -10.0.\n",
                        "    - Quantile 0.05: Finished. Best iter: [1]\n",
                        "    - Quantile 0.5: Finished. Best iter: [1]\n",
                        "    - Quantile 0.95: Finished. Best iter: [1]\n",
                        "    - Quantile 0.05: Finished. Best iter: [25]\n",
                        "    - Quantile 0.5: Finished. Best iter: [25]\n",
                        "    - Quantile 0.95: Finished. Best iter: [1]\n",
                        "[I 2025-10-17 08:36:34,267] Trial 17 finished with value: -10.0 and parameters: {'num_leaves': 48, 'learning_rate': 0.03169686480943354, 'min_child_samples': 43, 'feature_fraction': 0.8184168842625794, 'bagging_fraction': 0.8211415818417965, 'reg_alpha': 0.21029717885214116, 'reg_lambda': 8.237515866103}. Best is trial 0 with value: -10.0.\n",
                        "    - Quantile 0.05: Finished. Best iter: [1]\n",
                        "    - Quantile 0.5: Finished. Best iter: [1]\n",
                        "    - Quantile 0.95: Finished. Best iter: [1]\n",
                        "    - Quantile 0.05: Finished. Best iter: [25]\n",
                        "    - Quantile 0.5: Finished. Best iter: [25]\n",
                        "    - Quantile 0.95: Finished. Best iter: [1]\n",
                        "[I 2025-10-17 08:37:33,345] Trial 18 finished with value: -10.0 and parameters: {'num_leaves': 30, 'learning_rate': 0.01606228580553673, 'min_child_samples': 72, 'feature_fraction': 0.868521001618622, 'bagging_fraction': 0.898954403383263, 'reg_alpha': 0.39844022638322735, 'reg_lambda': 0.2024465157998993}. Best is trial 0 with value: -10.0.\n",
                        "    - Quantile 0.05: Finished. Best iter: [1]\n",
                        "    - Quantile 0.5: Finished. Best iter: [1]\n",
                        "    - Quantile 0.95: Finished. Best iter: [1]\n",
                        "    - Quantile 0.05: Finished. Best iter: [25]\n",
                        "    - Quantile 0.5: Finished. Best iter: [25]\n"
                    ]
                },
                {
                    "name": "stderr",
                    "output_type": "stream",
                    "text": [
                        "[I 2025-10-17 08:38:33,091] A new study created in memory with name: no-name-bc3553ea-a91d-41da-bd41-be5dc778cd96\n"
                    ]
                },
                {
                    "name": "stdout",
                    "output_type": "stream",
                    "text": [
                        "    - Quantile 0.95: Finished. Best iter: [1]\n",
                        "[I 2025-10-17 08:38:33,087] Trial 19 finished with value: -10.0 and parameters: {'num_leaves': 72, 'learning_rate': 0.006139362787596841, 'min_child_samples': 53, 'feature_fraction': 0.7399053550117904, 'bagging_fraction': 0.7937063327404157, 'reg_alpha': 2.025479209582142, 'reg_lambda': 0.05799844802074049}. Best is trial 0 with value: -10.0.\n",
                        "\n",
                        "--- TCL科技 (000100.SZ) 的 HPO 结果 ---\n",
                        "最佳分数 (ICIR): -10.0000\n",
                        "最佳参数组合:\n",
                        "  叶子节点数: 43\n",
                        "  学习率: 0.013620602988489987\n",
                        "  叶节点最小样本数: 68\n",
                        "  特征采样比例: 0.7799435595421811\n",
                        "  数据采样比例: 0.7828079301578874\n",
                        "  L1正则化: 0.08609005665567519\n",
                        "  L2正则化: 0.08709878235490454\n",
                        "\n",
                        "INFO: 已为 兴业矿业 加载最后 2 个 folds 用于 LGBM HPO。\n",
                        "\n",
                        "--- 开始为 兴业矿业 (000426.SZ) 进行 LGBM HPO (共 20 轮) ---\n"
                    ]
                },
                {
                    "data": {
                        "application/vnd.jupyter.widget-view+json": {
                            "model_id": "efc433679ae64e5ea66306d47894f2c0",
                            "version_major": 2,
                            "version_minor": 0
                        },
                        "text/plain": [
                            "  0%|          | 0/20 [00:00<?, ?it/s]"
                        ]
                    },
                    "metadata": {},
                    "output_type": "display_data"
                },
                {
                    "name": "stdout",
                    "output_type": "stream",
                    "text": [
                        "    - Quantile 0.05: Finished. Best iter: [2150]\n",
                        "    - Quantile 0.5: Finished. Best iter: [45771]\n",
                        "    - Quantile 0.95: Finished. Best iter: [48013]\n",
                        "    - Quantile 0.05: Finished. Best iter: [49608]\n",
                        "    - Quantile 0.5: Finished. Best iter: [37552]\n",
                        "    - Quantile 0.95: Finished. Best iter: [37438]\n",
                        "[I 2025-10-17 08:42:56,109] Trial 0 finished with value: 25.826762698337824 and parameters: {'num_leaves': 43, 'learning_rate': 0.013620602988489987, 'min_child_samples': 68, 'feature_fraction': 0.7799435595421811, 'bagging_fraction': 0.7828079301578874, 'reg_alpha': 0.08609005665567519, 'reg_lambda': 0.08709878235490454}. Best is trial 0 with value: 25.826762698337824.\n",
                        "    - Quantile 0.05: Finished. Best iter: [45401]\n",
                        "    - Quantile 0.5: Finished. Best iter: [46368]\n",
                        "    - Quantile 0.95: Finished. Best iter: [48201]\n",
                        "    - Quantile 0.05: Finished. Best iter: [37438]\n",
                        "    - Quantile 0.5: Finished. Best iter: [37171]\n",
                        "    - Quantile 0.95: Finished. Best iter: [23265]\n",
                        "[I 2025-10-17 08:47:29,082] Trial 1 finished with value: 32.479124207747624 and parameters: {'num_leaves': 37, 'learning_rate': 0.011522452393890605, 'min_child_samples': 52, 'feature_fraction': 0.8875001488739838, 'bagging_fraction': 0.8192367987799563, 'reg_alpha': 0.5574748099282604, 'reg_lambda': 0.03183851573563435}. Best is trial 1 with value: 32.479124207747624.\n",
                        "    - Quantile 0.05: Finished. Best iter: [4571]\n",
                        "    - Quantile 0.5: Finished. Best iter: [44636]\n",
                        "    - Quantile 0.95: Finished. Best iter: [45173]\n",
                        "    - Quantile 0.05: Finished. Best iter: [38036]\n",
                        "    - Quantile 0.5: Finished. Best iter: [23352]\n",
                        "    - Quantile 0.95: Finished. Best iter: [23741]\n",
                        "[I 2025-10-17 08:51:22,316] Trial 2 finished with value: 11.7962227911278 and parameters: {'num_leaves': 21, 'learning_rate': 0.0026150731149229113, 'min_child_samples': 21, 'feature_fraction': 0.8538697768746747, 'bagging_fraction': 0.6897766956798957, 'reg_alpha': 0.1566497156552724, 'reg_lambda': 0.7219421446067233}. Best is trial 1 with value: 32.479124207747624.\n",
                        "    - Quantile 0.05: Finished. Best iter: [2080]\n",
                        "    - Quantile 0.5: Finished. Best iter: [35489]\n",
                        "    - Quantile 0.95: Finished. Best iter: [44288]\n",
                        "    - Quantile 0.05: Finished. Best iter: [48649]\n",
                        "    - Quantile 0.5: Finished. Best iter: [32449]\n",
                        "    - Quantile 0.95: Finished. Best iter: [49579]\n",
                        "[I 2025-10-17 08:55:31,427] Trial 3 finished with value: 12.762788987774226 and parameters: {'num_leaves': 20, 'learning_rate': 0.001178528087861695, 'min_child_samples': 50, 'feature_fraction': 0.6865777736293506, 'bagging_fraction': 0.761938193141464, 'reg_alpha': 3.962619758295257, 'reg_lambda': 0.058501938994796845}. Best is trial 1 with value: 32.479124207747624.\n",
                        "    - Quantile 0.05: Finished. Best iter: [2149]\n",
                        "    - Quantile 0.5: Finished. Best iter: [45805]\n",
                        "    - Quantile 0.95: Finished. Best iter: [48176]\n",
                        "    - Quantile 0.05: Finished. Best iter: [32449]\n",
                        "    - Quantile 0.5: Finished. Best iter: [32434]\n",
                        "    - Quantile 0.95: Finished. Best iter: [23697]\n",
                        "[I 2025-10-17 08:59:24,638] Trial 4 finished with value: 29.930972770999876 and parameters: {'num_leaves': 56, 'learning_rate': 0.0028431690423538795, 'min_child_samples': 36, 'feature_fraction': 0.6703679744510923, 'bagging_fraction': 0.9554397304848269, 'reg_alpha': 1.0345390519174056, 'reg_lambda': 0.13410998139958064}. Best is trial 1 with value: 32.479124207747624.\n",
                        "    - Quantile 0.05: Finished. Best iter: [2474]\n",
                        "    - Quantile 0.5: Finished. Best iter: [49923]\n",
                        "    - Quantile 0.95: Finished. Best iter: [45771]\n",
                        "    - Quantile 0.05: Finished. Best iter: [49923]\n",
                        "    - Quantile 0.5: Finished. Best iter: [48677]\n",
                        "    - Quantile 0.95: Finished. Best iter: [38124]\n",
                        "[I 2025-10-17 09:03:47,146] Trial 5 finished with value: 4.176452840853923 and parameters: {'num_leaves': 21, 'learning_rate': 0.005070792316851322, 'min_child_samples': 44, 'feature_fraction': 0.7693369802584568, 'bagging_fraction': 0.7576424753656927, 'reg_alpha': 0.5093786903899794, 'reg_lambda': 0.5315371306876411}. Best is trial 1 with value: 32.479124207747624.\n",
                        "    - Quantile 0.05: Finished. Best iter: [2078]\n",
                        "    - Quantile 0.5: Finished. Best iter: [46368]\n",
                        "    - Quantile 0.95: Finished. Best iter: [47963]\n",
                        "    - Quantile 0.05: Finished. Best iter: [49132]\n",
                        "    - Quantile 0.5: Finished. Best iter: [36790]\n",
                        "    - Quantile 0.95: Finished. Best iter: [36790]\n",
                        "[I 2025-10-17 09:08:02,551] Trial 6 finished with value: 12.71419116084132 and parameters: {'num_leaves': 58, 'learning_rate': 0.0031588793046921746, 'min_child_samples': 30, 'feature_fraction': 0.6980292644025023, 'bagging_fraction': 0.9957320210983875, 'reg_alpha': 7.42810237530468, 'reg_lambda': 1.3637326569737378}. Best is trial 1 with value: 32.479124207747624.\n",
                        "    - Quantile 0.05: Finished. Best iter: [1826]\n",
                        "    - Quantile 0.5: Finished. Best iter: [46365]\n",
                        "    - Quantile 0.95: Finished. Best iter: [46368]\n",
                        "    - Quantile 0.05: Finished. Best iter: [23400]\n",
                        "    - Quantile 0.5: Finished. Best iter: [46450]\n",
                        "    - Quantile 0.95: Finished. Best iter: [46382]\n",
                        "[I 2025-10-17 09:12:12,135] Trial 7 finished with value: 5.76071228909045 and parameters: {'num_leaves': 66, 'learning_rate': 0.0014924296679308328, 'min_child_samples': 93, 'feature_fraction': 0.8150005926806946, 'bagging_fraction': 0.6395777712526813, 'reg_alpha': 2.740208737065476, 'reg_lambda': 0.3891887115134475}. Best is trial 1 with value: 32.479124207747624.\n",
                        "    - Quantile 0.05: Finished. Best iter: [2126]\n",
                        "    - Quantile 0.5: Finished. Best iter: [48040]\n",
                        "    - Quantile 0.95: Finished. Best iter: [18213]\n",
                        "    - Quantile 0.05: Finished. Best iter: [38124]\n",
                        "    - Quantile 0.5: Finished. Best iter: [36790]\n",
                        "    - Quantile 0.95: Finished. Best iter: [48677]\n",
                        "[I 2025-10-17 09:16:09,316] Trial 8 finished with value: 5.40976793948154 and parameters: {'num_leaves': 62, 'learning_rate': 0.004610449777477153, 'min_child_samples': 98, 'feature_fraction': 0.7000471693464414, 'bagging_fraction': 0.696552990975406, 'reg_alpha': 0.019539084539726925, 'reg_lambda': 0.6863281902658702}. Best is trial 1 with value: 32.479124207747624.\n",
                        "    - Quantile 0.05: Finished. Best iter: [2632]\n",
                        "    - Quantile 0.5: Finished. Best iter: [48176]\n",
                        "    - Quantile 0.95: Finished. Best iter: [46390]\n",
                        "    - Quantile 0.05: Finished. Best iter: [48673]\n",
                        "    - Quantile 0.5: Finished. Best iter: [23400]\n",
                        "    - Quantile 0.95: Finished. Best iter: [38037]\n",
                        "[I 2025-10-17 09:20:17,681] Trial 9 finished with value: 23.34884500796754 and parameters: {'num_leaves': 51, 'learning_rate': 0.008524148589354073, 'min_child_samples': 88, 'feature_fraction': 0.77595798993269, 'bagging_fraction': 0.9375083434979039, 'reg_alpha': 0.015652327376092165, 'reg_lambda': 3.403661756226349}. Best is trial 1 with value: 32.479124207747624.\n",
                        "    - Quantile 0.05: Finished. Best iter: [2150]\n",
                        "    - Quantile 0.5: Finished. Best iter: [44971]\n",
                        "    - Quantile 0.95: Finished. Best iter: [46368]\n",
                        "    - Quantile 0.05: Finished. Best iter: [49608]\n",
                        "    - Quantile 0.5: Finished. Best iter: [36790]\n",
                        "    - Quantile 0.95: Finished. Best iter: [23400]\n",
                        "[I 2025-10-17 09:24:23,733] Trial 10 finished with value: 12.650021708367726 and parameters: {'num_leaves': 38, 'learning_rate': 0.07500518882507014, 'min_child_samples': 68, 'feature_fraction': 0.9710770980796286, 'bagging_fraction': 0.8938934236179301, 'reg_alpha': 1.0129346015314344, 'reg_lambda': 0.011228419753027382}. Best is trial 1 with value: 32.479124207747624.\n",
                        "    - Quantile 0.05: Finished. Best iter: [3267]\n",
                        "    - Quantile 0.5: Finished. Best iter: [17906]\n",
                        "    - Quantile 0.95: Finished. Best iter: [44288]\n",
                        "    - Quantile 0.05: Finished. Best iter: [32214]\n",
                        "    - Quantile 0.5: Finished. Best iter: [23400]\n",
                        "    - Quantile 0.95: Finished. Best iter: [38033]\n",
                        "[I 2025-10-17 09:27:55,944] Trial 11 finished with value: 52.21543506232165 and parameters: {'num_leaves': 76, 'learning_rate': 0.025207616688910174, 'min_child_samples': 40, 'feature_fraction': 0.6158090018691308, 'bagging_fraction': 0.8657422020729687, 'reg_alpha': 1.0845682610125305, 'reg_lambda': 0.06852398891400828}. Best is trial 11 with value: 52.21543506232165.\n",
                        "    - Quantile 0.05: Finished. Best iter: [2498]\n",
                        "    - Quantile 0.5: Finished. Best iter: [49923]\n",
                        "    - Quantile 0.95: Finished. Best iter: [49977]\n",
                        "    - Quantile 0.05: Finished. Best iter: [23542]\n",
                        "    - Quantile 0.5: Finished. Best iter: [23352]\n",
                        "    - Quantile 0.95: Finished. Best iter: [23400]\n",
                        "[I 2025-10-17 09:31:28,356] Trial 12 finished with value: 6.737194106992978 and parameters: {'num_leaves': 75, 'learning_rate': 0.0271627771165073, 'min_child_samples': 53, 'feature_fraction': 0.6011244788781899, 'bagging_fraction': 0.8591043891925738, 'reg_alpha': 0.2967697346455858, 'reg_lambda': 0.016837843955987874}. Best is trial 11 with value: 52.21543506232165.\n",
                        "    - Quantile 0.05: Finished. Best iter: [2129]\n",
                        "    - Quantile 0.5: Finished. Best iter: [48561]\n",
                        "    - Quantile 0.95: Finished. Best iter: [48176]\n",
                        "    - Quantile 0.05: Finished. Best iter: [23400]\n",
                        "    - Quantile 0.5: Finished. Best iter: [49608]\n",
                        "    - Quantile 0.95: Finished. Best iter: [38124]\n",
                        "[I 2025-10-17 09:35:35,050] Trial 13 finished with value: 3.6559063855294367 and parameters: {'num_leaves': 35, 'learning_rate': 0.02865165518814112, 'min_child_samples': 65, 'feature_fraction': 0.9184777231466347, 'bagging_fraction': 0.8559397473336577, 'reg_alpha': 1.5360908720003297, 'reg_lambda': 0.04921159174922342}. Best is trial 11 with value: 52.21543506232165.\n",
                        "    - Quantile 0.05: Finished. Best iter: [2080]\n",
                        "    - Quantile 0.5: Finished. Best iter: [46368]\n",
                        "    - Quantile 0.95: Finished. Best iter: [49930]\n",
                        "    - Quantile 0.05: Finished. Best iter: [49251]\n",
                        "    - Quantile 0.5: Finished. Best iter: [48677]\n",
                        "    - Quantile 0.95: Finished. Best iter: [23400]\n",
                        "[I 2025-10-17 09:39:47,095] Trial 14 finished with value: 12.068591607676604 and parameters: {'num_leaves': 76, 'learning_rate': 0.025034853812485984, 'min_child_samples': 80, 'feature_fraction': 0.8843679065244314, 'bagging_fraction': 0.8344953878932692, 'reg_alpha': 0.06392553212854366, 'reg_lambda': 0.030864510230051483}. Best is trial 11 with value: 52.21543506232165.\n",
                        "    - Quantile 0.05: Finished. Best iter: [3743]\n",
                        "    - Quantile 0.5: Finished. Best iter: [45182]\n",
                        "    - Quantile 0.95: Finished. Best iter: [18213]\n",
                        "    - Quantile 0.05: Finished. Best iter: [23633]\n",
                        "    - Quantile 0.5: Finished. Best iter: [48649]\n",
                        "    - Quantile 0.95: Finished. Best iter: [23400]\n",
                        "[I 2025-10-17 09:43:22,300] Trial 15 finished with value: 15.192243933464457 and parameters: {'num_leaves': 30, 'learning_rate': 0.06319058248064076, 'min_child_samples': 42, 'feature_fraction': 0.9958405159531499, 'bagging_fraction': 0.8950703231815565, 'reg_alpha': 0.5058499219645394, 'reg_lambda': 0.16197677288315662}. Best is trial 11 with value: 52.21543506232165.\n",
                        "    - Quantile 0.05: Finished. Best iter: [2454]\n",
                        "    - Quantile 0.5: Finished. Best iter: [49693]\n",
                        "    - Quantile 0.95: Finished. Best iter: [47956]\n",
                        "    - Quantile 0.05: Finished. Best iter: [43299]\n",
                        "    - Quantile 0.5: Finished. Best iter: [23676]\n",
                        "    - Quantile 0.95: Finished. Best iter: [23265]\n",
                        "[I 2025-10-17 09:47:16,494] Trial 16 finished with value: 16.108431863805375 and parameters: {'num_leaves': 47, 'learning_rate': 0.01410839943637495, 'min_child_samples': 54, 'feature_fraction': 0.6037132403088415, 'bagging_fraction': 0.7970195086730143, 'reg_alpha': 0.23308154096779388, 'reg_lambda': 0.024394798342230895}. Best is trial 11 with value: 52.21543506232165.\n",
                        "    - Quantile 0.05: Finished. Best iter: [2148]\n",
                        "    - Quantile 0.5: Finished. Best iter: [48176]\n",
                        "    - Quantile 0.95: Finished. Best iter: [45182]\n",
                        "    - Quantile 0.05: Finished. Best iter: [49608]\n",
                        "    - Quantile 0.5: Finished. Best iter: [23400]\n",
                        "    - Quantile 0.95: Finished. Best iter: [49608]\n",
                        "[I 2025-10-17 09:51:28,791] Trial 17 finished with value: 100.34775916343666 and parameters: {'num_leaves': 69, 'learning_rate': 0.011004362182931817, 'min_child_samples': 23, 'feature_fraction': 0.9278410683450826, 'bagging_fraction': 0.7227728374983753, 'reg_alpha': 9.128703701078841, 'reg_lambda': 8.237515866103}. Best is trial 17 with value: 100.34775916343666.\n",
                        "    - Quantile 0.05: Finished. Best iter: [2284]\n",
                        "    - Quantile 0.5: Finished. Best iter: [46365]\n",
                        "    - Quantile 0.95: Finished. Best iter: [49977]\n",
                        "    - Quantile 0.05: Finished. Best iter: [49923]\n",
                        "    - Quantile 0.5: Finished. Best iter: [49490]\n",
                        "    - Quantile 0.95: Finished. Best iter: [46470]\n",
                        "[I 2025-10-17 09:55:58,337] Trial 18 finished with value: 33.08332355956227 and parameters: {'num_leaves': 69, 'learning_rate': 0.045396167588158585, 'min_child_samples': 23, 'feature_fraction': 0.9221913701398902, 'bagging_fraction': 0.7201764771291103, 'reg_alpha': 8.263177420059428, 'reg_lambda': 8.427761578369289}. Best is trial 17 with value: 100.34775916343666.\n",
                        "    - Quantile 0.05: Finished. Best iter: [3635]\n",
                        "    - Quantile 0.5: Finished. Best iter: [45805]\n",
                        "    - Quantile 0.95: Finished. Best iter: [44355]\n",
                        "    - Quantile 0.05: Finished. Best iter: [38036]\n",
                        "    - Quantile 0.5: Finished. Best iter: [36790]\n"
                    ]
                },
                {
                    "name": "stderr",
                    "output_type": "stream",
                    "text": [
                        "[I 2025-10-17 10:00:09,623] A new study created in memory with name: no-name-7060b6d4-3582-4d10-903f-4ff01f40d93d\n"
                    ]
                },
                {
                    "name": "stdout",
                    "output_type": "stream",
                    "text": [
                        "    - Quantile 0.95: Finished. Best iter: [36790]\n",
                        "[I 2025-10-17 10:00:09,619] Trial 19 finished with value: 7.433670326864316 and parameters: {'num_leaves': 80, 'learning_rate': 0.007096402332282426, 'min_child_samples': 30, 'feature_fraction': 0.7287843155122281, 'bagging_fraction': 0.6137343664191108, 'reg_alpha': 3.0482988136333975, 'reg_lambda': 9.647800133508873}. Best is trial 17 with value: 100.34775916343666.\n",
                        "\n",
                        "--- 兴业矿业 (000426.SZ) 的 HPO 结果 ---\n",
                        "最佳分数 (ICIR): 100.3478\n",
                        "最佳参数组合:\n",
                        "  叶子节点数: 69\n",
                        "  学习率: 0.011004362182931817\n",
                        "  叶节点最小样本数: 23\n",
                        "  特征采样比例: 0.9278410683450826\n",
                        "  数据采样比例: 0.7227728374983753\n",
                        "  L1正则化: 9.128703701078841\n",
                        "  L2正则化: 8.237515866103\n",
                        "\n",
                        "INFO: 已为 平安银行 加载最后 2 个 folds 用于 LGBM HPO。\n",
                        "\n",
                        "--- 开始为 平安银行 (000001.SZ) 进行 LGBM HPO (共 20 轮) ---\n"
                    ]
                },
                {
                    "data": {
                        "application/vnd.jupyter.widget-view+json": {
                            "model_id": "24917810bdb240568b985c107352ab67",
                            "version_major": 2,
                            "version_minor": 0
                        },
                        "text/plain": [
                            "  0%|          | 0/20 [00:00<?, ?it/s]"
                        ]
                    },
                    "metadata": {},
                    "output_type": "display_data"
                },
                {
                    "name": "stdout",
                    "output_type": "stream",
                    "text": [
                        "    - Quantile 0.05: Finished. Best iter: [17092]\n",
                        "    - Quantile 0.5: Finished. Best iter: [13312]\n",
                        "    - Quantile 0.95: Finished. Best iter: [1023]\n",
                        "    - Quantile 0.05: Finished. Best iter: [111]\n",
                        "    - Quantile 0.5: Finished. Best iter: [111]\n",
                        "    - Quantile 0.95: Finished. Best iter: [284]\n",
                        "[I 2025-10-17 10:01:40,967] Trial 0 finished with value: 0.780791834401375 and parameters: {'num_leaves': 43, 'learning_rate': 0.013620602988489987, 'min_child_samples': 68, 'feature_fraction': 0.7799435595421811, 'bagging_fraction': 0.7828079301578874, 'reg_alpha': 0.08609005665567519, 'reg_lambda': 0.08709878235490454}. Best is trial 0 with value: 0.780791834401375.\n",
                        "    - Quantile 0.05: Finished. Best iter: [9569]\n",
                        "    - Quantile 0.5: Finished. Best iter: [21496]\n",
                        "    - Quantile 0.95: Finished. Best iter: [169]\n",
                        "    - Quantile 0.05: Finished. Best iter: [111]\n",
                        "    - Quantile 0.5: Finished. Best iter: [111]\n",
                        "    - Quantile 0.95: Finished. Best iter: [111]\n",
                        "[I 2025-10-17 10:03:13,184] Trial 1 finished with value: 0.7725677720819247 and parameters: {'num_leaves': 37, 'learning_rate': 0.011522452393890605, 'min_child_samples': 52, 'feature_fraction': 0.8875001488739838, 'bagging_fraction': 0.8192367987799563, 'reg_alpha': 0.5574748099282604, 'reg_lambda': 0.03183851573563435}. Best is trial 0 with value: 0.780791834401375.\n",
                        "    - Quantile 0.05: Finished. Best iter: [17092]\n",
                        "    - Quantile 0.5: Finished. Best iter: [13051]\n",
                        "    - Quantile 0.95: Finished. Best iter: [1279]\n",
                        "    - Quantile 0.05: Finished. Best iter: [111]\n",
                        "    - Quantile 0.5: Finished. Best iter: [111]\n",
                        "    - Quantile 0.95: Finished. Best iter: [194]\n",
                        "[I 2025-10-17 10:04:43,550] Trial 2 finished with value: 0.8271320136116156 and parameters: {'num_leaves': 21, 'learning_rate': 0.0026150731149229113, 'min_child_samples': 21, 'feature_fraction': 0.8538697768746747, 'bagging_fraction': 0.6897766956798957, 'reg_alpha': 0.1566497156552724, 'reg_lambda': 0.7219421446067233}. Best is trial 2 with value: 0.8271320136116156.\n",
                        "    - Quantile 0.05: Finished. Best iter: [7116]\n",
                        "    - Quantile 0.5: Finished. Best iter: [1660]\n",
                        "    - Quantile 0.95: Finished. Best iter: [943]\n",
                        "    - Quantile 0.05: Finished. Best iter: [194]\n",
                        "    - Quantile 0.5: Finished. Best iter: [284]\n",
                        "    - Quantile 0.95: Finished. Best iter: [111]\n",
                        "[I 2025-10-17 10:05:54,668] Trial 3 finished with value: 0.7267505511854322 and parameters: {'num_leaves': 20, 'learning_rate': 0.001178528087861695, 'min_child_samples': 50, 'feature_fraction': 0.6865777736293506, 'bagging_fraction': 0.761938193141464, 'reg_alpha': 3.962619758295257, 'reg_lambda': 0.058501938994796845}. Best is trial 2 with value: 0.8271320136116156.\n",
                        "    - Quantile 0.05: Finished. Best iter: [1655]\n",
                        "    - Quantile 0.5: Finished. Best iter: [21496]\n",
                        "    - Quantile 0.95: Finished. Best iter: [1422]\n",
                        "    - Quantile 0.05: Finished. Best iter: [111]\n",
                        "    - Quantile 0.5: Finished. Best iter: [111]\n",
                        "    - Quantile 0.95: Finished. Best iter: [111]\n",
                        "[I 2025-10-17 10:07:19,105] Trial 4 finished with value: 0.7728775360930844 and parameters: {'num_leaves': 56, 'learning_rate': 0.0028431690423538795, 'min_child_samples': 36, 'feature_fraction': 0.6703679744510923, 'bagging_fraction': 0.9554397304848269, 'reg_alpha': 1.0345390519174056, 'reg_lambda': 0.13410998139958064}. Best is trial 2 with value: 0.8271320136116156.\n",
                        "    - Quantile 0.05: Finished. Best iter: [18847]\n",
                        "    - Quantile 0.5: Finished. Best iter: [33139]\n",
                        "    - Quantile 0.95: Finished. Best iter: [943]\n",
                        "    - Quantile 0.05: Finished. Best iter: [194]\n",
                        "    - Quantile 0.5: Finished. Best iter: [111]\n",
                        "    - Quantile 0.95: Finished. Best iter: [284]\n",
                        "[I 2025-10-17 10:09:08,510] Trial 5 finished with value: 0.826170288156883 and parameters: {'num_leaves': 21, 'learning_rate': 0.005070792316851322, 'min_child_samples': 44, 'feature_fraction': 0.7693369802584568, 'bagging_fraction': 0.7576424753656927, 'reg_alpha': 0.5093786903899794, 'reg_lambda': 0.5315371306876411}. Best is trial 2 with value: 0.8271320136116156.\n",
                        "    - Quantile 0.05: Finished. Best iter: [31480]\n",
                        "    - Quantile 0.5: Finished. Best iter: [21682]\n",
                        "    - Quantile 0.95: Finished. Best iter: [814]\n",
                        "    - Quantile 0.05: Finished. Best iter: [284]\n",
                        "    - Quantile 0.5: Finished. Best iter: [111]\n",
                        "    - Quantile 0.95: Finished. Best iter: [111]\n",
                        "[I 2025-10-17 10:10:59,026] Trial 6 finished with value: 0.8215369759364068 and parameters: {'num_leaves': 58, 'learning_rate': 0.0031588793046921746, 'min_child_samples': 30, 'feature_fraction': 0.6980292644025023, 'bagging_fraction': 0.9957320210983875, 'reg_alpha': 7.42810237530468, 'reg_lambda': 1.3637326569737378}. Best is trial 2 with value: 0.8271320136116156.\n",
                        "    - Quantile 0.05: Finished. Best iter: [20501]\n",
                        "    - Quantile 0.5: Finished. Best iter: [48172]\n",
                        "    - Quantile 0.95: Finished. Best iter: [303]\n",
                        "    - Quantile 0.05: Finished. Best iter: [284]\n",
                        "    - Quantile 0.5: Finished. Best iter: [111]\n",
                        "    - Quantile 0.95: Finished. Best iter: [111]\n",
                        "[I 2025-10-17 10:12:56,729] Trial 7 finished with value: 0.8269724657200591 and parameters: {'num_leaves': 66, 'learning_rate': 0.0014924296679308328, 'min_child_samples': 93, 'feature_fraction': 0.8150005926806946, 'bagging_fraction': 0.6395777712526813, 'reg_alpha': 2.740208737065476, 'reg_lambda': 0.3891887115134475}. Best is trial 2 with value: 0.8271320136116156.\n",
                        "    - Quantile 0.05: Finished. Best iter: [25845]\n",
                        "    - Quantile 0.5: Finished. Best iter: [33223]\n",
                        "    - Quantile 0.95: Finished. Best iter: [1439]\n",
                        "    - Quantile 0.05: Finished. Best iter: [194]\n",
                        "    - Quantile 0.5: Finished. Best iter: [111]\n",
                        "    - Quantile 0.95: Finished. Best iter: [111]\n",
                        "[I 2025-10-17 10:14:52,962] Trial 8 finished with value: 0.7722571619652104 and parameters: {'num_leaves': 62, 'learning_rate': 0.004610449777477153, 'min_child_samples': 98, 'feature_fraction': 0.7000471693464414, 'bagging_fraction': 0.696552990975406, 'reg_alpha': 0.019539084539726925, 'reg_lambda': 0.6863281902658702}. Best is trial 2 with value: 0.8271320136116156.\n",
                        "    - Quantile 0.05: Finished. Best iter: [28331]\n",
                        "    - Quantile 0.5: Finished. Best iter: [34029]\n",
                        "    - Quantile 0.95: Finished. Best iter: [1370]\n",
                        "    - Quantile 0.05: Finished. Best iter: [111]\n",
                        "    - Quantile 0.5: Finished. Best iter: [111]\n",
                        "    - Quantile 0.95: Finished. Best iter: [111]\n",
                        "[I 2025-10-17 10:16:48,630] Trial 9 finished with value: 0.8265723045374331 and parameters: {'num_leaves': 51, 'learning_rate': 0.008524148589354073, 'min_child_samples': 88, 'feature_fraction': 0.77595798993269, 'bagging_fraction': 0.9375083434979039, 'reg_alpha': 0.015652327376092165, 'reg_lambda': 3.403661756226349}. Best is trial 2 with value: 0.8271320136116156.\n",
                        "    - Quantile 0.05: Finished. Best iter: [22360]\n",
                        "    - Quantile 0.5: Finished. Best iter: [22157]\n",
                        "    - Quantile 0.95: Finished. Best iter: [1026]\n",
                        "    - Quantile 0.05: Finished. Best iter: [111]\n",
                        "    - Quantile 0.5: Finished. Best iter: [111]\n",
                        "    - Quantile 0.95: Finished. Best iter: [294]\n",
                        "[I 2025-10-17 10:18:28,602] Trial 10 finished with value: 0.8258473306240904 and parameters: {'num_leaves': 78, 'learning_rate': 0.07500518882507014, 'min_child_samples': 20, 'feature_fraction': 0.9980093307991555, 'bagging_fraction': 0.6101714240830763, 'reg_alpha': 0.11379467155778171, 'reg_lambda': 8.271403976573954}. Best is trial 2 with value: 0.8271320136116156.\n",
                        "    - Quantile 0.05: Finished. Best iter: [25845]\n",
                        "    - Quantile 0.5: Finished. Best iter: [48302]\n",
                        "    - Quantile 0.95: Finished. Best iter: [1234]\n",
                        "    - Quantile 0.05: Finished. Best iter: [284]\n",
                        "    - Quantile 0.5: Finished. Best iter: [111]\n",
                        "    - Quantile 0.95: Finished. Best iter: [111]\n",
                        "[I 2025-10-17 10:20:37,552] Trial 11 finished with value: 0.7761299342337303 and parameters: {'num_leaves': 76, 'learning_rate': 0.001284073112379574, 'min_child_samples': 74, 'feature_fraction': 0.8746179886146006, 'bagging_fraction': 0.6416377255611011, 'reg_alpha': 1.7108776814729754, 'reg_lambda': 0.010533056652145172}. Best is trial 2 with value: 0.8271320136116156.\n",
                        "    - Quantile 0.05: Finished. Best iter: [22193]\n",
                        "    - Quantile 0.5: Finished. Best iter: [4883]\n",
                        "    - Quantile 0.95: Finished. Best iter: [1234]\n",
                        "    - Quantile 0.05: Finished. Best iter: [111]\n",
                        "    - Quantile 0.5: Finished. Best iter: [111]\n",
                        "    - Quantile 0.95: Finished. Best iter: [284]\n",
                        "[I 2025-10-17 10:22:08,164] Trial 12 finished with value: 0.7798048681472134 and parameters: {'num_leaves': 69, 'learning_rate': 0.0020145633990468165, 'min_child_samples': 83, 'feature_fraction': 0.8725612097976748, 'bagging_fraction': 0.6841209059105038, 'reg_alpha': 0.15700187496525123, 'reg_lambda': 0.245874403100936}. Best is trial 2 with value: 0.8271320136116156.\n",
                        "    - Quantile 0.05: Finished. Best iter: [30726]\n",
                        "    - Quantile 0.5: Finished. Best iter: [5099]\n",
                        "    - Quantile 0.95: Finished. Best iter: [1256]\n",
                        "    - Quantile 0.05: Finished. Best iter: [111]\n",
                        "    - Quantile 0.5: Finished. Best iter: [194]\n",
                        "    - Quantile 0.95: Finished. Best iter: [111]\n",
                        "[I 2025-10-17 10:23:32,079] Trial 13 finished with value: 0.7856543314072117 and parameters: {'num_leaves': 34, 'learning_rate': 0.025295010791864723, 'min_child_samples': 62, 'feature_fraction': 0.9686963420404345, 'bagging_fraction': 0.694328700022314, 'reg_alpha': 0.05595906675529541, 'reg_lambda': 1.8556120154296916}. Best is trial 2 with value: 0.8271320136116156.\n",
                        "    - Quantile 0.05: Finished. Best iter: [31687]\n",
                        "    - Quantile 0.5: Finished. Best iter: [49987]\n",
                        "    - Quantile 0.95: Finished. Best iter: [311]\n",
                        "    - Quantile 0.05: Finished. Best iter: [111]\n",
                        "    - Quantile 0.5: Finished. Best iter: [284]\n",
                        "    - Quantile 0.95: Finished. Best iter: [284]\n",
                        "[I 2025-10-17 10:25:31,049] Trial 14 finished with value: 0.7210228449936013 and parameters: {'num_leaves': 66, 'learning_rate': 0.0017291913769409877, 'min_child_samples': 20, 'feature_fraction': 0.606174303786306, 'bagging_fraction': 0.8532526974335052, 'reg_alpha': 2.1729221207698637, 'reg_lambda': 0.315360385256028}. Best is trial 2 with value: 0.8271320136116156.\n",
                        "    - Quantile 0.05: Finished. Best iter: [31860]\n",
                        "    - Quantile 0.5: Finished. Best iter: [1635]\n",
                        "    - Quantile 0.95: Finished. Best iter: [1439]\n",
                        "    - Quantile 0.05: Finished. Best iter: [284]\n",
                        "    - Quantile 0.5: Finished. Best iter: [111]\n",
                        "    - Quantile 0.95: Finished. Best iter: [289]\n",
                        "[I 2025-10-17 10:27:01,914] Trial 15 finished with value: 0.8264117213304388 and parameters: {'num_leaves': 44, 'learning_rate': 0.004735192032667822, 'min_child_samples': 99, 'feature_fraction': 0.8327682303131914, 'bagging_fraction': 0.6465704531285015, 'reg_alpha': 0.2971510655174463, 'reg_lambda': 1.0393761704237725}. Best is trial 2 with value: 0.8271320136116156.\n",
                        "    - Quantile 0.05: Finished. Best iter: [33505]\n",
                        "    - Quantile 0.5: Finished. Best iter: [7113]\n",
                        "    - Quantile 0.95: Finished. Best iter: [1403]\n",
                        "    - Quantile 0.05: Finished. Best iter: [111]\n",
                        "    - Quantile 0.5: Finished. Best iter: [284]\n",
                        "    - Quantile 0.95: Finished. Best iter: [284]\n",
                        "[I 2025-10-17 10:28:42,243] Trial 16 finished with value: 0.7261649122348098 and parameters: {'num_leaves': 28, 'learning_rate': 0.0022268537393907084, 'min_child_samples': 78, 'feature_fraction': 0.8157050349974401, 'bagging_fraction': 0.600188398021409, 'reg_alpha': 0.041126014021705765, 'reg_lambda': 4.456380599098705}. Best is trial 2 with value: 0.8271320136116156.\n",
                        "    - Quantile 0.05: Finished. Best iter: [25845]\n",
                        "    - Quantile 0.5: Finished. Best iter: [1566]\n",
                        "    - Quantile 0.95: Finished. Best iter: [1166]\n",
                        "    - Quantile 0.05: Finished. Best iter: [194]\n",
                        "    - Quantile 0.5: Finished. Best iter: [194]\n",
                        "    - Quantile 0.95: Finished. Best iter: [111]\n",
                        "[I 2025-10-17 10:30:07,651] Trial 17 finished with value: 0.7802413185192731 and parameters: {'num_leaves': 73, 'learning_rate': 0.0010292062709597563, 'min_child_samples': 60, 'feature_fraction': 0.9363774555518439, 'bagging_fraction': 0.7198022648373084, 'reg_alpha': 8.836912605348608, 'reg_lambda': 0.23304820331167703}. Best is trial 2 with value: 0.8271320136116156.\n",
                        "    - Quantile 0.05: Finished. Best iter: [5460]\n",
                        "    - Quantile 0.5: Finished. Best iter: [22253]\n",
                        "    - Quantile 0.95: Finished. Best iter: [1244]\n",
                        "    - Quantile 0.05: Finished. Best iter: [111]\n",
                        "    - Quantile 0.5: Finished. Best iter: [284]\n",
                        "    - Quantile 0.95: Finished. Best iter: [391]\n",
                        "[I 2025-10-17 10:31:36,984] Trial 18 finished with value: 0.7219940797862555 and parameters: {'num_leaves': 48, 'learning_rate': 0.022020245586907527, 'min_child_samples': 91, 'feature_fraction': 0.9194253836897188, 'bagging_fraction': 0.8591624952428526, 'reg_alpha': 0.2548104501734423, 'reg_lambda': 0.5545883936542236}. Best is trial 2 with value: 0.8271320136116156.\n",
                        "    - Quantile 0.05: Finished. Best iter: [11972]\n",
                        "    - Quantile 0.5: Finished. Best iter: [46725]\n",
                        "    - Quantile 0.95: Finished. Best iter: [225]\n",
                        "    - Quantile 0.05: Finished. Best iter: [284]\n",
                        "    - Quantile 0.5: Finished. Best iter: [194]\n",
                        "    - Quantile 0.95: Finished. Best iter: [284]\n",
                        "[I 2025-10-17 10:33:26,587] Trial 19 finished with value: 0.7879787739381932 and parameters: {'num_leaves': 29, 'learning_rate': 0.007096402332282426, 'min_child_samples': 39, 'feature_fraction': 0.7408340558067124, 'bagging_fraction': 0.7316658239159366, 'reg_alpha': 0.8442860795775147, 'reg_lambda': 2.5172352033844185}. Best is trial 2 with value: 0.8271320136116156.\n",
                        "\n",
                        "--- 平安银行 (000001.SZ) 的 HPO 结果 ---\n",
                        "最佳分数 (ICIR): 0.8271\n",
                        "最佳参数组合:\n",
                        "  叶子节点数: 21\n",
                        "  学习率: 0.0026150731149229113\n",
                        "  叶节点最小样本数: 21\n",
                        "  特征采样比例: 0.8538697768746747\n",
                        "  数据采样比例: 0.6897766956798957\n",
                        "  L1正则化: 0.1566497156552724\n",
                        "  L2正则化: 0.7219421446067233\n",
                        "\n",
                        "INFO: 正在加载 [LGBM] 的历史最佳 HPO 结果...\n",
                        "  - 新纪录! [LGBM] TCL科技 的最佳分数从 N/A 提升至 -10.0000.\n",
                        "  - 新纪录! [LGBM] 兴业矿业 的最佳分数从 N/A 提升至 100.3478.\n",
                        "SUCCESS: 最新的 [LGBM] HPO 冠军榜已保存至 hpo_logs\\hpo_best_results_lgbm.csv\n",
                        "\n",
                        "================================================================================\n",
                        "--- LGBM HPO 最佳参数冠军榜 ---\n"
                    ]
                },
                {
                    "data": {
                        "text/html": [
                            "<style type=\"text/css\">\n",
                            "#T_115ec_row0_col0 {\n",
                            "  background-color: #3c508b;\n",
                            "  color: #f1f1f1;\n",
                            "}\n",
                            "#T_115ec_row1_col0 {\n",
                            "  background-color: #440154;\n",
                            "  color: #f1f1f1;\n",
                            "}\n",
                            "#T_115ec_row2_col0 {\n",
                            "  background-color: #fde725;\n",
                            "  color: #000000;\n",
                            "}\n",
                            "</style>\n",
                            "<table id=\"T_115ec\">\n",
                            "  <thead>\n",
                            "    <tr>\n",
                            "      <th class=\"blank\" >&nbsp;</th>\n",
                            "      <th class=\"blank level0\" >&nbsp;</th>\n",
                            "      <th id=\"T_115ec_level0_col0\" class=\"col_heading level0 col0\" >最佳分数 (ICIR)</th>\n",
                            "      <th id=\"T_115ec_level0_col1\" class=\"col_heading level0 col1\" >叶子节点数</th>\n",
                            "      <th id=\"T_115ec_level0_col2\" class=\"col_heading level0 col2\" >学习率</th>\n",
                            "      <th id=\"T_115ec_level0_col3\" class=\"col_heading level0 col3\" >叶节点最小样本数</th>\n",
                            "      <th id=\"T_115ec_level0_col4\" class=\"col_heading level0 col4\" >特征采样比例</th>\n",
                            "      <th id=\"T_115ec_level0_col5\" class=\"col_heading level0 col5\" >数据采样比例</th>\n",
                            "      <th id=\"T_115ec_level0_col6\" class=\"col_heading level0 col6\" >L1正则化</th>\n",
                            "      <th id=\"T_115ec_level0_col7\" class=\"col_heading level0 col7\" >L2正则化</th>\n",
                            "    </tr>\n",
                            "    <tr>\n",
                            "      <th class=\"index_name level0\" >ticker</th>\n",
                            "      <th class=\"index_name level1\" >股票名称</th>\n",
                            "      <th class=\"blank col0\" >&nbsp;</th>\n",
                            "      <th class=\"blank col1\" >&nbsp;</th>\n",
                            "      <th class=\"blank col2\" >&nbsp;</th>\n",
                            "      <th class=\"blank col3\" >&nbsp;</th>\n",
                            "      <th class=\"blank col4\" >&nbsp;</th>\n",
                            "      <th class=\"blank col5\" >&nbsp;</th>\n",
                            "      <th class=\"blank col6\" >&nbsp;</th>\n",
                            "      <th class=\"blank col7\" >&nbsp;</th>\n",
                            "    </tr>\n",
                            "  </thead>\n",
                            "  <tbody>\n",
                            "    <tr>\n",
                            "      <th id=\"T_115ec_level0_row0\" class=\"row_heading level0 row0\" >000001.SZ</th>\n",
                            "      <th id=\"T_115ec_level1_row0\" class=\"row_heading level1 row0\" >平安银行</th>\n",
                            "      <td id=\"T_115ec_row0_col0\" class=\"data row0 col0\" >16.8234</td>\n",
                            "      <td id=\"T_115ec_row0_col1\" class=\"data row0 col1\" >46</td>\n",
                            "      <td id=\"T_115ec_row0_col2\" class=\"data row0 col2\" >0.033989</td>\n",
                            "      <td id=\"T_115ec_row0_col3\" class=\"data row0 col3\" >48</td>\n",
                            "      <td id=\"T_115ec_row0_col4\" class=\"data row0 col4\" >0.855710</td>\n",
                            "      <td id=\"T_115ec_row0_col5\" class=\"data row0 col5\" >0.778628</td>\n",
                            "      <td id=\"T_115ec_row0_col6\" class=\"data row0 col6\" >0.393372</td>\n",
                            "      <td id=\"T_115ec_row0_col7\" class=\"data row0 col7\" >0.119044</td>\n",
                            "    </tr>\n",
                            "    <tr>\n",
                            "      <th id=\"T_115ec_level0_row1\" class=\"row_heading level0 row1\" >000100.SZ</th>\n",
                            "      <th id=\"T_115ec_level1_row1\" class=\"row_heading level1 row1\" >TCL科技</th>\n",
                            "      <td id=\"T_115ec_row1_col0\" class=\"data row1 col0\" >-10.0000</td>\n",
                            "      <td id=\"T_115ec_row1_col1\" class=\"data row1 col1\" >43</td>\n",
                            "      <td id=\"T_115ec_row1_col2\" class=\"data row1 col2\" >0.013621</td>\n",
                            "      <td id=\"T_115ec_row1_col3\" class=\"data row1 col3\" >68</td>\n",
                            "      <td id=\"T_115ec_row1_col4\" class=\"data row1 col4\" >0.779944</td>\n",
                            "      <td id=\"T_115ec_row1_col5\" class=\"data row1 col5\" >0.782808</td>\n",
                            "      <td id=\"T_115ec_row1_col6\" class=\"data row1 col6\" >0.086090</td>\n",
                            "      <td id=\"T_115ec_row1_col7\" class=\"data row1 col7\" >0.087099</td>\n",
                            "    </tr>\n",
                            "    <tr>\n",
                            "      <th id=\"T_115ec_level0_row2\" class=\"row_heading level0 row2\" >000426.SZ</th>\n",
                            "      <th id=\"T_115ec_level1_row2\" class=\"row_heading level1 row2\" >兴业矿业</th>\n",
                            "      <td id=\"T_115ec_row2_col0\" class=\"data row2 col0\" >100.3478</td>\n",
                            "      <td id=\"T_115ec_row2_col1\" class=\"data row2 col1\" >69</td>\n",
                            "      <td id=\"T_115ec_row2_col2\" class=\"data row2 col2\" >0.011004</td>\n",
                            "      <td id=\"T_115ec_row2_col3\" class=\"data row2 col3\" >23</td>\n",
                            "      <td id=\"T_115ec_row2_col4\" class=\"data row2 col4\" >0.927841</td>\n",
                            "      <td id=\"T_115ec_row2_col5\" class=\"data row2 col5\" >0.722773</td>\n",
                            "      <td id=\"T_115ec_row2_col6\" class=\"data row2 col6\" >9.128704</td>\n",
                            "      <td id=\"T_115ec_row2_col7\" class=\"data row2 col7\" >8.237516</td>\n",
                            "    </tr>\n",
                            "  </tbody>\n",
                            "</table>\n"
                        ],
                        "text/plain": [
                            "<pandas.io.formats.style.Styler at 0x240e33d2cf0>"
                        ]
                    },
                    "metadata": {},
                    "output_type": "display_data"
                },
                {
                    "name": "stderr",
                    "output_type": "stream",
                    "text": [
                        "[I 2025-10-17 10:33:26,819] A new study created in memory with name: no-name-6867c244-97df-4935-97ab-2d0d925022bf\n"
                    ]
                },
                {
                    "name": "stdout",
                    "output_type": "stream",
                    "text": [
                        "\n",
                        "================================================================================\n",
                        "--- LGBM HPO 综合结果 ---\n",
                        "本轮 HPO 冠军榜平均最高分 (ICIR): 35.7237\n",
                        "将用于后续训练的【LGBM 平均参数】如下:\n",
                        "bagging_fraction: 0.7614029652602948\n",
                        "bagging_freq: 1\n",
                        "device: gpu\n",
                        "early_stopping_rounds: 5000\n",
                        "feature_fraction: 0.8544981426992374\n",
                        "learning_rate: 0.01953810181839127\n",
                        "min_child_samples: 46\n",
                        "n_estimators: 50000\n",
                        "n_jobs: 8\n",
                        "num_leaves: 53\n",
                        "reg_alpha: 3.2027220559530245\n",
                        "reg_lambda: 2.8145529569039343\n",
                        "verbose: -1\n",
                        "verbose_period: 10000\n",
                        "\n",
                        "================================================================================\n",
                        "\n",
                        "################################################################################\n",
                        "# 开始为模型 [LSTM] 进行 HPO\n",
                        "################################################################################\n",
                        "\n",
                        "INFO: 已为 TCL科技 加载最后 2 个 folds 用于 LSTM HPO。\n",
                        "\n",
                        "--- 开始为 TCL科技 (000100.SZ) 进行 LSTM HPO (共 10 轮) ---\n"
                    ]
                },
                {
                    "data": {
                        "application/vnd.jupyter.widget-view+json": {
                            "model_id": "629aba08ccec496dbd408aca29194457",
                            "version_major": 2,
                            "version_minor": 0
                        },
                        "text/plain": [
                            "  0%|          | 0/10 [00:00<?, ?it/s]"
                        ]
                    },
                    "metadata": {},
                    "output_type": "display_data"
                },
                {
                    "name": "stderr",
                    "output_type": "stream",
                    "text": [
                        "[I 2025-10-17 10:33:26,880] A new study created in memory with name: no-name-6a0c7ee1-afee-4570-ba9c-d18e44d3b47d\n"
                    ]
                },
                {
                    "name": "stdout",
                    "output_type": "stream",
                    "text": [
                        "[W 2025-10-17 10:33:26,824] Trial 0 failed with parameters: {} because of the following error: ValueError('The `low` value must be smaller than or equal to the `high` value (low=1e-4, high=1e-2).').\n",
                        "Traceback (most recent call last):\n",
                        "  File \"d:\\Project\\Command\\Python\\Neural\\Wolf_of_Wall_Street\\.venv\\Lib\\site-packages\\optuna\\study\\_optimize.py\", line 201, in _run_trial\n",
                        "    value_or_values = func(trial)\n",
                        "  File \"d:\\Project\\Command\\Python\\Neural\\Wolf_of_Wall_Street\\model_builders\\hpo_utils.py\", line 113, in <lambda>\n",
                        "    lambda trial: objective(trial, preprocessed_folds, config, model_type),\n",
                        "                  ~~~~~~~~~^^^^^^^^^^^^^^^^^^^^^^^^^^^^^^^^^^^^^^^^^^^^^^^\n",
                        "  File \"d:\\Project\\Command\\Python\\Neural\\Wolf_of_Wall_Street\\model_builders\\hpo_utils.py\", line 53, in objective\n",
                        "    params_to_tune[param] = trial.suggest_float(param, low, high, log=log)\n",
                        "                            ~~~~~~~~~~~~~~~~~~~^^^^^^^^^^^^^^^^^^^^^^^^^^^\n",
                        "  File \"d:\\Project\\Command\\Python\\Neural\\Wolf_of_Wall_Street\\.venv\\Lib\\site-packages\\optuna\\trial\\_trial.py\", line 160, in suggest_float\n",
                        "    distribution = FloatDistribution(low, high, log=log, step=step)\n",
                        "  File \"d:\\Project\\Command\\Python\\Neural\\Wolf_of_Wall_Street\\.venv\\Lib\\site-packages\\optuna\\distributions.py\", line 146, in __init__\n",
                        "    raise ValueError(\n",
                        "    ...<2 lines>...\n",
                        "    )\n",
                        "ValueError: The `low` value must be smaller than or equal to the `high` value (low=1e-4, high=1e-2).\n",
                        "[W 2025-10-17 10:33:26,879] Trial 0 failed with value None.\n",
                        "错误: 在为 TCL科技 进行 HPO 时发生异常: The `low` value must be smaller than or equal to the `high` value (low=1e-4, high=1e-2).\n",
                        "\n",
                        "INFO: 已为 兴业矿业 加载最后 2 个 folds 用于 LSTM HPO。\n",
                        "\n",
                        "--- 开始为 兴业矿业 (000426.SZ) 进行 LSTM HPO (共 10 轮) ---\n"
                    ]
                },
                {
                    "data": {
                        "application/vnd.jupyter.widget-view+json": {
                            "model_id": "f14d8cf150b041908f83c1b83d286de0",
                            "version_major": 2,
                            "version_minor": 0
                        },
                        "text/plain": [
                            "  0%|          | 0/10 [00:00<?, ?it/s]"
                        ]
                    },
                    "metadata": {},
                    "output_type": "display_data"
                },
                {
                    "name": "stderr",
                    "output_type": "stream",
                    "text": [
                        "[I 2025-10-17 10:33:26,888] A new study created in memory with name: no-name-9a7656b8-d6e8-4051-b107-64bb50b740ab\n"
                    ]
                },
                {
                    "name": "stdout",
                    "output_type": "stream",
                    "text": [
                        "[W 2025-10-17 10:33:26,885] Trial 0 failed with parameters: {} because of the following error: ValueError('The `low` value must be smaller than or equal to the `high` value (low=1e-4, high=1e-2).').\n",
                        "Traceback (most recent call last):\n",
                        "  File \"d:\\Project\\Command\\Python\\Neural\\Wolf_of_Wall_Street\\.venv\\Lib\\site-packages\\optuna\\study\\_optimize.py\", line 201, in _run_trial\n",
                        "    value_or_values = func(trial)\n",
                        "  File \"d:\\Project\\Command\\Python\\Neural\\Wolf_of_Wall_Street\\model_builders\\hpo_utils.py\", line 113, in <lambda>\n",
                        "    lambda trial: objective(trial, preprocessed_folds, config, model_type),\n",
                        "                  ~~~~~~~~~^^^^^^^^^^^^^^^^^^^^^^^^^^^^^^^^^^^^^^^^^^^^^^^\n",
                        "  File \"d:\\Project\\Command\\Python\\Neural\\Wolf_of_Wall_Street\\model_builders\\hpo_utils.py\", line 53, in objective\n",
                        "    params_to_tune[param] = trial.suggest_float(param, low, high, log=log)\n",
                        "                            ~~~~~~~~~~~~~~~~~~~^^^^^^^^^^^^^^^^^^^^^^^^^^^\n",
                        "  File \"d:\\Project\\Command\\Python\\Neural\\Wolf_of_Wall_Street\\.venv\\Lib\\site-packages\\optuna\\trial\\_trial.py\", line 160, in suggest_float\n",
                        "    distribution = FloatDistribution(low, high, log=log, step=step)\n",
                        "  File \"d:\\Project\\Command\\Python\\Neural\\Wolf_of_Wall_Street\\.venv\\Lib\\site-packages\\optuna\\distributions.py\", line 146, in __init__\n",
                        "    raise ValueError(\n",
                        "    ...<2 lines>...\n",
                        "    )\n",
                        "ValueError: The `low` value must be smaller than or equal to the `high` value (low=1e-4, high=1e-2).\n",
                        "[W 2025-10-17 10:33:26,887] Trial 0 failed with value None.\n",
                        "错误: 在为 兴业矿业 进行 HPO 时发生异常: The `low` value must be smaller than or equal to the `high` value (low=1e-4, high=1e-2).\n",
                        "\n",
                        "INFO: 已为 平安银行 加载最后 2 个 folds 用于 LSTM HPO。\n",
                        "\n",
                        "--- 开始为 平安银行 (000001.SZ) 进行 LSTM HPO (共 10 轮) ---\n"
                    ]
                },
                {
                    "data": {
                        "application/vnd.jupyter.widget-view+json": {
                            "model_id": "c9a8eb5bbb764266abd3bec31c86810f",
                            "version_major": 2,
                            "version_minor": 0
                        },
                        "text/plain": [
                            "  0%|          | 0/10 [00:00<?, ?it/s]"
                        ]
                    },
                    "metadata": {},
                    "output_type": "display_data"
                },
                {
                    "name": "stdout",
                    "output_type": "stream",
                    "text": [
                        "[W 2025-10-17 10:33:26,894] Trial 0 failed with parameters: {} because of the following error: ValueError('The `low` value must be smaller than or equal to the `high` value (low=1e-4, high=1e-2).').\n",
                        "Traceback (most recent call last):\n",
                        "  File \"d:\\Project\\Command\\Python\\Neural\\Wolf_of_Wall_Street\\.venv\\Lib\\site-packages\\optuna\\study\\_optimize.py\", line 201, in _run_trial\n",
                        "    value_or_values = func(trial)\n",
                        "  File \"d:\\Project\\Command\\Python\\Neural\\Wolf_of_Wall_Street\\model_builders\\hpo_utils.py\", line 113, in <lambda>\n",
                        "    lambda trial: objective(trial, preprocessed_folds, config, model_type),\n",
                        "                  ~~~~~~~~~^^^^^^^^^^^^^^^^^^^^^^^^^^^^^^^^^^^^^^^^^^^^^^^\n",
                        "  File \"d:\\Project\\Command\\Python\\Neural\\Wolf_of_Wall_Street\\model_builders\\hpo_utils.py\", line 53, in objective\n",
                        "    params_to_tune[param] = trial.suggest_float(param, low, high, log=log)\n",
                        "                            ~~~~~~~~~~~~~~~~~~~^^^^^^^^^^^^^^^^^^^^^^^^^^^\n",
                        "  File \"d:\\Project\\Command\\Python\\Neural\\Wolf_of_Wall_Street\\.venv\\Lib\\site-packages\\optuna\\trial\\_trial.py\", line 160, in suggest_float\n",
                        "    distribution = FloatDistribution(low, high, log=log, step=step)\n",
                        "  File \"d:\\Project\\Command\\Python\\Neural\\Wolf_of_Wall_Street\\.venv\\Lib\\site-packages\\optuna\\distributions.py\", line 146, in __init__\n",
                        "    raise ValueError(\n",
                        "    ...<2 lines>...\n",
                        "    )\n",
                        "ValueError: The `low` value must be smaller than or equal to the `high` value (low=1e-4, high=1e-2).\n",
                        "[W 2025-10-17 10:33:26,895] Trial 0 failed with value None.\n",
                        "错误: 在为 平安银行 进行 HPO 时发生异常: The `low` value must be smaller than or equal to the `high` value (low=1e-4, high=1e-2).\n"
                    ]
                }
            ],
            "source": [
                "# 2.2 (可选) 超参数优化\n",
                "\n",
                "RUN_HPO = False # 设为 True 以运行优化，False 则跳过\n",
                "\n",
                "if RUN_HPO and config:\n",
                "    # --- 定义要进行 HPO 的模型列表 ---\n",
                "    MODELS_FOR_HPO = ['lgbm', 'lstm']\n",
                "    \n",
                "    hpo_tickers = hpo_config.get('tickers_for_hpo', [])\n",
                "    \n",
                "    if not hpo_tickers:\n",
                "        print(\"INFO: 在配置文件中未指定用于 HPO 的股票，跳过此步骤。\")\n",
                "    elif 'global_data_cache' not in locals() or not global_data_cache:\n",
                "        print(\"ERROR: 全局数据缓存 (global_data_cache) 为空。请先成功运行 2.1 预处理单元格。\")\n",
                "    else:\n",
                "        print(f\"--- 开始为模型 {MODELS_FOR_HPO} 和股票 {hpo_tickers} 进行超参数优化 ---\\n\")\n",
                "        \n",
                "        # 循环遍历要优化的每个模型类型\n",
                "        for model_type_for_hpo in MODELS_FOR_HPO:\n",
                "            print(f\"\\n\" + \"#\"*80)\n",
                "            print(f\"# 开始为模型 [{model_type_for_hpo.upper()}] 进行 HPO\")\n",
                "            print(\"#\"*80)\n",
                "            \n",
                "            hpo_results_list = []\n",
                "            \n",
                "            model_hpo_config = hpo_config.get(f'{model_type_for_hpo}_hpo_config', {})\n",
                "            num_eval_folds = model_hpo_config.get('hpo_num_eval_folds', hpo_config.get('hpo_num_eval_folds', 2))\n",
                "\n",
                "            for ticker in hpo_tickers:\n",
                "                stock_info = next((s for s in stocks_to_process if s['ticker'] == ticker), None)\n",
                "                if not stock_info:\n",
                "                    print(f\"WARNNING: 未在 'stocks_to_process' 中找到 HPO 股票 {ticker} 的配置。跳过。\")\n",
                "                    continue\n",
                "                \n",
                "                keyword = stock_info.get('keyword', ticker)\n",
                "\n",
                "                use_lstm_for_this_stock = stock_info.get('use_lstm')\n",
                "                if use_lstm_for_this_stock is None:\n",
                "                    use_lstm_for_this_stock = global_settings.get('use_lstm_globally', True)\n",
                "                \n",
                "                if model_type_for_hpo == 'lstm' and not use_lstm_for_this_stock:\n",
                "                    print(f\"\\nINFO: {keyword} 已配置为不使用 LSTM，跳过 LSTM 的 HPO。\")\n",
                "                    continue\n",
                "\n",
                "                if ticker not in global_data_cache:\n",
                "                    print(f\"ERROR: 预处理数据缓存中未找到 {keyword} 的数据。跳过。\")\n",
                "                    continue\n",
                "\n",
                "                all_preprocessed_folds = global_data_cache[ticker].get(f'{model_type_for_hpo}_folds', [])\n",
                "                if not all_preprocessed_folds:\n",
                "                    print(f\"WARNNING: 缓存中未找到 {keyword} 的 '{model_type_for_hpo}' 预处理数据。跳过 HPO。\")\n",
                "                    continue\n",
                "                \n",
                "                hpo_folds_data = all_preprocessed_folds[-num_eval_folds:]\n",
                "                \n",
                "                print(f\"\\nINFO: 已为 {keyword} 加载最后 {len(hpo_folds_data)} 个 folds 用于 {model_type_for_hpo.upper()} HPO。\")\n",
                "\n",
                "                hpo_run_config = {\n",
                "                    'global_settings': global_settings, 'strategy_config': strategy_config,\n",
                "                    'default_model_params': default_model_params, 'stocks_to_process': [stock_info],\n",
                "                    'hpo_config': hpo_config\n",
                "                }\n",
                "                \n",
                "                best_params, best_value = run_hpo_for_ticker(\n",
                "                    preprocessed_folds=hpo_folds_data,\n",
                "                    ticker=ticker,\n",
                "                    config=hpo_run_config,\n",
                "                    model_type=model_type_for_hpo\n",
                "                )\n",
                "                \n",
                "                if best_params and best_value is not None:\n",
                "                    hpo_results_list.append({'ticker': ticker, 'keyword': keyword, 'best_score': best_value, **best_params})\n",
                "            \n",
                "            if hpo_results_list:\n",
                "                hpo_log_dir = Path(\"hpo_logs\"); hpo_log_dir.mkdir(exist_ok=True)\n",
                "                hpo_best_results_path = hpo_log_dir / f\"hpo_best_results_{model_type_for_hpo}.csv\"\n",
                "                \n",
                "                current_hpo_df = pd.DataFrame(hpo_results_list).set_index('ticker')\n",
                "\n",
                "                if hpo_best_results_path.exists():\n",
                "                    print(f\"\\nINFO: 正在加载 [{model_type_for_hpo.upper()}] 的历史最佳 HPO 结果...\")\n",
                "                    historical_best_df = pd.read_csv(hpo_best_results_path).set_index('ticker')\n",
                "                    \n",
                "                    for ticker, current_row in current_hpo_df.iterrows():\n",
                "                        if ticker not in historical_best_df.index or current_row['best_score'] > historical_best_df.loc[ticker, 'best_score']:\n",
                "                            keyword = current_row.get('keyword', ticker)\n",
                "                            historical_score = historical_best_df.loc[ticker, 'best_score'] if ticker in historical_best_df.index else 'N/A'\n",
                "                            print(f\"  - 新纪录! [{model_type_for_hpo.upper()}] {keyword} 的最佳分数从 {historical_score if isinstance(historical_score, str) else f'{historical_score:.4f}'} 提升至 {current_row['best_score']:.4f}.\")\n",
                "                            historical_best_df.loc[ticker] = current_row\n",
                "                    final_best_df = historical_best_df\n",
                "                else:\n",
                "                    print(f\"\\nINFO: 未找到 [{model_type_for_hpo.upper()}] 的历史 HPO 结果，将本次结果作为初始最佳记录。\")\n",
                "                    final_best_df = current_hpo_df\n",
                "\n",
                "                final_best_df.to_csv(hpo_best_results_path)\n",
                "                print(f\"SUCCESS: 最新的 [{model_type_for_hpo.upper()}] HPO 冠军榜已保存至 {hpo_best_results_path}\")\n",
                "                \n",
                "                PARAM_MAP_CN = {'best_score': '最佳分数 (ICIR)', 'keyword': '股票名称', 'num_leaves': '叶子节点数', 'learning_rate': '学习率', 'min_child_samples': '叶节点最小样本数', 'feature_fraction': '特征采样比例', 'bagging_fraction': '数据采样比例', 'reg_alpha': 'L1正则化', 'reg_lambda': 'L2正则化', 'units_1': '隐藏层1单元数', 'units_2': '隐藏层2单元数', 'dropout': 'Dropout率'}\n",
                "                display_df = final_best_df.reset_index().rename(columns=PARAM_MAP_CN)\n",
                "                if '股票名称' in display_df.columns: display_df = display_df.set_index(['ticker', '股票名称'])\n",
                "                \n",
                "                print(\"\\n\" + \"=\"*80)\n",
                "                print(f\"--- {model_type_for_hpo.upper()} HPO 最佳参数冠军榜 ---\")\n",
                "                display(display_df.style.format({'最佳分数 (ICIR)': '{:.4f}'}).background_gradient(cmap='viridis', subset=['最佳分数 (ICIR)']))\n",
                "                \n",
                "                param_cols_original = [c for c in hpo_results_list[0].keys() if c not in ['ticker', 'keyword', 'best_score']]\n",
                "                final_hpo_params = final_best_df[param_cols_original].mean().to_dict()\n",
                "                average_best_score = final_best_df['best_score'].mean()\n",
                "                \n",
                "                for p in ['num_leaves', 'min_child_samples', 'units_1', 'units_2']:\n",
                "                    if p in final_hpo_params: final_hpo_params[p] = int(round(final_hpo_params[p]))\n",
                "                \n",
                "                param_key = f\"{model_type_for_hpo}_params\"\n",
                "                config['default_model_params'][param_key].update(final_hpo_params)\n",
                "                default_model_params[param_key] = config['default_model_params'][param_key]\n",
                "                \n",
                "                print(\"\\n\" + \"=\"*80)\n",
                "                print(f\"--- {model_type_for_hpo.upper()} HPO 综合结果 ---\")\n",
                "                print(f\"本轮 HPO 冠军榜平均最高分 (ICIR): {average_best_score:.4f}\")\n",
                "                print(f\"将用于后续训练的【{model_type_for_hpo.upper()} 平均参数】如下:\")\n",
                "                print(yaml.dump(default_model_params[param_key], allow_unicode=True))\n",
                "                print(\"=\"*80)\n",
                "else:\n",
                "    print(\"INFO: 跳过 HPO 步骤。\")"
            ]
        },
        {
            "cell_type": "markdown",
            "metadata": {},
            "source": [
                "### 2.3 模型训练"
            ]
        },
        {
            "cell_type": "code",
            "execution_count": null,
            "metadata": {},
            "outputs": [
                {
                    "name": "stdout",
                    "output_type": "stream",
                    "text": [
                        "--- Starting Stage 2.3: Model Training ---\n",
                        "\n",
                        "INFO: Force re-train for base models is set to: False\n"
                    ]
                },
                {
                    "data": {
                        "application/vnd.jupyter.widget-view+json": {
                            "model_id": "c3d4688c160d4087bfa0e32736d33ace",
                            "version_major": 2,
                            "version_minor": 0
                        },
                        "text/plain": [
                            "Processing Stocks:   0%|          | 0/10 [00:00<?, ?it/s]"
                        ]
                    },
                    "metadata": {},
                    "output_type": "display_data"
                },
                {
                    "name": "stdout",
                    "output_type": "stream",
                    "text": [
                        "\n",
                        "================================================================================\n",
                        "--- Starting LGBM training for 平安银行 (000001.SZ) ---\n",
                        "INFO: Starting Walk-Forward validation for 平安银行 across 104 folds...\n"
                    ]
                },
                {
                    "data": {
                        "application/vnd.jupyter.widget-view+json": {
                            "model_id": "985019175955455b8e00924bd131190a",
                            "version_major": 2,
                            "version_minor": 0
                        },
                        "text/plain": [
                            "Training LGBM on 平安银行:   0%|          | 0/104 [00:00<?, ?it/s]"
                        ]
                    },
                    "metadata": {},
                    "output_type": "display_data"
                },
                {
                    "name": "stdout",
                    "output_type": "stream",
                    "text": [
                        "    - Quantile 0.05: Finished. Best iter: [1]\n",
                        "    - Quantile 0.5: Finished. Best iter: [1]\n",
                        "    - Quantile 0.95: Finished. Best iter: [1]\n"
                    ]
                },
                {
                    "name": "stderr",
                    "output_type": "stream",
                    "text": [
                        "d:\\Project\\Command\\Python\\Neural\\Wolf_of_Wall_Street\\.venv\\Lib\\site-packages\\pandas\\core\\nanops.py:1632: ConstantInputWarning: An input array is constant; the correlation coefficient is not defined.\n",
                        "  return spearmanr(a, b)[0]\n"
                    ]
                },
                {
                    "name": "stdout",
                    "output_type": "stream",
                    "text": [
                        "    - Quantile 0.05: Finished. Best iter: [8398]\n",
                        "    - Quantile 0.5: Finished. Best iter: [8398]\n",
                        "    - Quantile 0.95: Finished. Best iter: [8398]\n",
                        "    - Quantile 0.05: Finished. Best iter: [44]\n",
                        "    - Quantile 0.5: Finished. Best iter: [44]\n",
                        "    - Quantile 0.95: Finished. Best iter: [44]\n",
                        "    - Quantile 0.05: Finished. Best iter: [47]\n",
                        "    - Quantile 0.5: Finished. Best iter: [95]\n",
                        "    - Quantile 0.95: Finished. Best iter: [96]\n",
                        "    - Quantile 0.05: Finished. Best iter: [1]\n",
                        "    - Quantile 0.5: Finished. Best iter: [1]\n",
                        "    - Quantile 0.95: Finished. Best iter: [4]\n",
                        "    - Quantile 0.05: Finished. Best iter: [182]\n",
                        "    - Quantile 0.5: Finished. Best iter: [11631]\n",
                        "    - Quantile 0.95: Finished. Best iter: [49945]\n",
                        "    - Quantile 0.05: Finished. Best iter: [195]\n",
                        "    - Quantile 0.5: Finished. Best iter: [195]\n",
                        "    - Quantile 0.95: Finished. Best iter: [195]\n",
                        "    - Quantile 0.05: Finished. Best iter: [1]\n",
                        "    - Quantile 0.5: Finished. Best iter: [1]\n",
                        "    - Quantile 0.95: Finished. Best iter: [1]\n"
                    ]
                },
                {
                    "name": "stderr",
                    "output_type": "stream",
                    "text": [
                        "d:\\Project\\Command\\Python\\Neural\\Wolf_of_Wall_Street\\.venv\\Lib\\site-packages\\pandas\\core\\nanops.py:1632: ConstantInputWarning: An input array is constant; the correlation coefficient is not defined.\n",
                        "  return spearmanr(a, b)[0]\n"
                    ]
                },
                {
                    "name": "stdout",
                    "output_type": "stream",
                    "text": [
                        "    - Quantile 0.05: Finished. Best iter: [272]\n",
                        "    - Quantile 0.5: Finished. Best iter: [272]\n",
                        "    - Quantile 0.95: Finished. Best iter: [272]\n",
                        "    - Quantile 0.05: Finished. Best iter: [600]\n",
                        "    - Quantile 0.5: Finished. Best iter: [600]\n",
                        "    - Quantile 0.95: Finished. Best iter: [43]\n",
                        "    - Quantile 0.05: Finished. Best iter: [9230]\n",
                        "    - Quantile 0.5: Finished. Best iter: [9692]\n",
                        "    - Quantile 0.95: Finished. Best iter: [137]\n",
                        "    - Quantile 0.05: Finished. Best iter: [2]\n",
                        "    - Quantile 0.5: Finished. Best iter: [14]\n",
                        "    - Quantile 0.95: Finished. Best iter: [14]\n",
                        "    - Quantile 0.05: Finished. Best iter: [1]\n",
                        "    - Quantile 0.5: Finished. Best iter: [1]\n",
                        "    - Quantile 0.95: Finished. Best iter: [1]\n"
                    ]
                },
                {
                    "name": "stderr",
                    "output_type": "stream",
                    "text": [
                        "d:\\Project\\Command\\Python\\Neural\\Wolf_of_Wall_Street\\.venv\\Lib\\site-packages\\pandas\\core\\nanops.py:1632: ConstantInputWarning: An input array is constant; the correlation coefficient is not defined.\n",
                        "  return spearmanr(a, b)[0]\n"
                    ]
                },
                {
                    "name": "stdout",
                    "output_type": "stream",
                    "text": [
                        "    - Quantile 0.05: Finished. Best iter: [10]\n",
                        "    - Quantile 0.5: Finished. Best iter: [10]\n",
                        "    - Quantile 0.95: Finished. Best iter: [10]\n",
                        "    - Quantile 0.05: Finished. Best iter: [55]\n",
                        "    - Quantile 0.5: Finished. Best iter: [55]\n",
                        "    - Quantile 0.95: Finished. Best iter: [28]\n",
                        "    - Quantile 0.05: Finished. Best iter: [1]\n",
                        "    - Quantile 0.5: Finished. Best iter: [1]\n",
                        "    - Quantile 0.95: Finished. Best iter: [1]\n",
                        "    - Quantile 0.05: Finished. Best iter: [1]\n",
                        "    - Quantile 0.5: Finished. Best iter: [1]\n",
                        "    - Quantile 0.95: Finished. Best iter: [1]\n",
                        "    - Quantile 0.05: Finished. Best iter: [4678]\n",
                        "    - Quantile 0.5: Finished. Best iter: [4678]\n",
                        "    - Quantile 0.95: Finished. Best iter: [142]\n",
                        "    - Quantile 0.05: Finished. Best iter: [1]\n",
                        "    - Quantile 0.5: Finished. Best iter: [1]\n",
                        "    - Quantile 0.95: Finished. Best iter: [1]\n"
                    ]
                },
                {
                    "name": "stderr",
                    "output_type": "stream",
                    "text": [
                        "d:\\Project\\Command\\Python\\Neural\\Wolf_of_Wall_Street\\.venv\\Lib\\site-packages\\pandas\\core\\nanops.py:1632: ConstantInputWarning: An input array is constant; the correlation coefficient is not defined.\n",
                        "  return spearmanr(a, b)[0]\n"
                    ]
                },
                {
                    "name": "stdout",
                    "output_type": "stream",
                    "text": [
                        "    - Quantile 0.05: Finished. Best iter: [73]\n",
                        "    - Quantile 0.5: Finished. Best iter: [26845]\n",
                        "    - Quantile 0.95: Finished. Best iter: [34502]\n",
                        "    - Quantile 0.05: Finished. Best iter: [1]\n",
                        "    - Quantile 0.5: Finished. Best iter: [1]\n",
                        "    - Quantile 0.95: Finished. Best iter: [1]\n",
                        "    - Quantile 0.05: Finished. Best iter: [1]\n",
                        "    - Quantile 0.5: Finished. Best iter: [1]\n",
                        "    - Quantile 0.95: Finished. Best iter: [1]\n",
                        "    - Quantile 0.05: Finished. Best iter: [481]\n",
                        "    - Quantile 0.5: Finished. Best iter: [481]\n",
                        "    - Quantile 0.95: Finished. Best iter: [33]\n",
                        "    - Quantile 0.05: Finished. Best iter: [7]\n",
                        "    - Quantile 0.5: Finished. Best iter: [10579]\n",
                        "    - Quantile 0.95: Finished. Best iter: [29644]\n",
                        "    - Quantile 0.05: Finished. Best iter: [1]\n",
                        "    - Quantile 0.5: Finished. Best iter: [1]\n",
                        "    - Quantile 0.95: Finished. Best iter: [1]\n",
                        "    - Quantile 0.05: Finished. Best iter: [1]\n",
                        "    - Quantile 0.5: Finished. Best iter: [1]\n",
                        "    - Quantile 0.95: Finished. Best iter: [1]\n",
                        "    - Quantile 0.05: Finished. Best iter: [1]\n",
                        "    - Quantile 0.5: Finished. Best iter: [21]\n",
                        "    - Quantile 0.95: Finished. Best iter: [21]\n",
                        "    - Quantile 0.05: Finished. Best iter: [1]\n",
                        "    - Quantile 0.5: Finished. Best iter: [1]\n",
                        "    - Quantile 0.95: Finished. Best iter: [1]\n",
                        "    - Quantile 0.05: Finished. Best iter: [4]\n",
                        "    - Quantile 0.5: Finished. Best iter: [4]\n",
                        "    - Quantile 0.95: Finished. Best iter: [51]\n",
                        "    - Quantile 0.05: Finished. Best iter: [48]\n",
                        "    - Quantile 0.5: Finished. Best iter: [48]\n",
                        "    - Quantile 0.95: Finished. Best iter: [48]\n",
                        "    - Quantile 0.05: Finished. Best iter: [1]\n",
                        "    - Quantile 0.5: Finished. Best iter: [1]\n",
                        "    - Quantile 0.95: Finished. Best iter: [1]\n"
                    ]
                },
                {
                    "name": "stderr",
                    "output_type": "stream",
                    "text": [
                        "d:\\Project\\Command\\Python\\Neural\\Wolf_of_Wall_Street\\.venv\\Lib\\site-packages\\pandas\\core\\nanops.py:1632: ConstantInputWarning: An input array is constant; the correlation coefficient is not defined.\n",
                        "  return spearmanr(a, b)[0]\n"
                    ]
                },
                {
                    "name": "stdout",
                    "output_type": "stream",
                    "text": [
                        "    - Quantile 0.05: Finished. Best iter: [1]\n",
                        "    - Quantile 0.5: Finished. Best iter: [1]\n",
                        "    - Quantile 0.95: Finished. Best iter: [1]\n"
                    ]
                },
                {
                    "name": "stderr",
                    "output_type": "stream",
                    "text": [
                        "d:\\Project\\Command\\Python\\Neural\\Wolf_of_Wall_Street\\.venv\\Lib\\site-packages\\pandas\\core\\nanops.py:1632: ConstantInputWarning: An input array is constant; the correlation coefficient is not defined.\n",
                        "  return spearmanr(a, b)[0]\n"
                    ]
                },
                {
                    "name": "stdout",
                    "output_type": "stream",
                    "text": [
                        "    - Quantile 0.05: Finished. Best iter: [4]\n",
                        "    - Quantile 0.5: Finished. Best iter: [7]\n",
                        "    - Quantile 0.95: Finished. Best iter: [7]\n",
                        "    - Quantile 0.05: Finished. Best iter: [12]\n",
                        "    - Quantile 0.5: Finished. Best iter: [12]\n",
                        "    - Quantile 0.95: Finished. Best iter: [12]\n",
                        "    - Quantile 0.05: Finished. Best iter: [31]\n",
                        "    - Quantile 0.5: Finished. Best iter: [12]\n",
                        "    - Quantile 0.95: Finished. Best iter: [31]\n",
                        "    - Quantile 0.05: Finished. Best iter: [37489]\n",
                        "    - Quantile 0.5: Finished. Best iter: [37489]\n",
                        "    - Quantile 0.95: Finished. Best iter: [20920]\n",
                        "    - Quantile 0.05: Finished. Best iter: [1]\n",
                        "    - Quantile 0.5: Finished. Best iter: [1]\n",
                        "    - Quantile 0.95: Finished. Best iter: [1]\n"
                    ]
                },
                {
                    "name": "stderr",
                    "output_type": "stream",
                    "text": [
                        "d:\\Project\\Command\\Python\\Neural\\Wolf_of_Wall_Street\\.venv\\Lib\\site-packages\\pandas\\core\\nanops.py:1632: ConstantInputWarning: An input array is constant; the correlation coefficient is not defined.\n",
                        "  return spearmanr(a, b)[0]\n"
                    ]
                },
                {
                    "name": "stdout",
                    "output_type": "stream",
                    "text": [
                        "    - Quantile 0.05: Finished. Best iter: [5]\n",
                        "    - Quantile 0.5: Finished. Best iter: [5]\n",
                        "    - Quantile 0.95: Finished. Best iter: [5]\n",
                        "    - Quantile 0.05: Finished. Best iter: [1]\n",
                        "    - Quantile 0.5: Finished. Best iter: [1]\n",
                        "    - Quantile 0.95: Finished. Best iter: [1]\n"
                    ]
                },
                {
                    "name": "stderr",
                    "output_type": "stream",
                    "text": [
                        "d:\\Project\\Command\\Python\\Neural\\Wolf_of_Wall_Street\\.venv\\Lib\\site-packages\\pandas\\core\\nanops.py:1632: ConstantInputWarning: An input array is constant; the correlation coefficient is not defined.\n",
                        "  return spearmanr(a, b)[0]\n"
                    ]
                },
                {
                    "name": "stdout",
                    "output_type": "stream",
                    "text": [
                        "    - Quantile 0.05: Finished. Best iter: [1]\n",
                        "    - Quantile 0.5: Finished. Best iter: [1]\n",
                        "    - Quantile 0.95: Finished. Best iter: [1]\n",
                        "    - Quantile 0.05: Finished. Best iter: [215]\n",
                        "    - Quantile 0.5: Finished. Best iter: [4444]\n",
                        "    - Quantile 0.95: Finished. Best iter: [2842]\n",
                        "    - Quantile 0.05: Finished. Best iter: [1]\n",
                        "    - Quantile 0.5: Finished. Best iter: [1]\n",
                        "    - Quantile 0.95: Finished. Best iter: [1]\n"
                    ]
                },
                {
                    "name": "stderr",
                    "output_type": "stream",
                    "text": [
                        "d:\\Project\\Command\\Python\\Neural\\Wolf_of_Wall_Street\\.venv\\Lib\\site-packages\\pandas\\core\\nanops.py:1632: ConstantInputWarning: An input array is constant; the correlation coefficient is not defined.\n",
                        "  return spearmanr(a, b)[0]\n"
                    ]
                },
                {
                    "name": "stdout",
                    "output_type": "stream",
                    "text": [
                        "    - Quantile 0.05: Finished. Best iter: [77]\n",
                        "    - Quantile 0.5: Finished. Best iter: [77]\n",
                        "    - Quantile 0.95: Finished. Best iter: [77]\n",
                        "    - Quantile 0.05: Finished. Best iter: [2477]\n",
                        "    - Quantile 0.5: Finished. Best iter: [2517]\n",
                        "    - Quantile 0.95: Finished. Best iter: [36]\n",
                        "    - Quantile 0.05: Finished. Best iter: [20501]\n",
                        "    - Quantile 0.5: Finished. Best iter: [8813]\n",
                        "    - Quantile 0.95: Finished. Best iter: [18476]\n",
                        "    - Quantile 0.05: Finished. Best iter: [2088]\n",
                        "    - Quantile 0.5: Finished. Best iter: [2088]\n",
                        "    - Quantile 0.95: Finished. Best iter: [4]\n",
                        "    - Quantile 0.05: Finished. Best iter: [1]\n",
                        "    - Quantile 0.5: Finished. Best iter: [3]\n",
                        "    - Quantile 0.95: Finished. Best iter: [3]\n",
                        "    - Quantile 0.05: Finished. Best iter: [75]\n",
                        "    - Quantile 0.5: Finished. Best iter: [75]\n",
                        "    - Quantile 0.95: Finished. Best iter: [75]\n",
                        "    - Quantile 0.05: Finished. Best iter: [411]\n",
                        "    - Quantile 0.5: Finished. Best iter: [390]\n",
                        "    - Quantile 0.95: Finished. Best iter: [322]\n",
                        "    - Quantile 0.05: Finished. Best iter: [241]\n",
                        "    - Quantile 0.5: Finished. Best iter: [287]\n",
                        "    - Quantile 0.95: Finished. Best iter: [1]\n",
                        "    - Quantile 0.05: Finished. Best iter: [1]\n",
                        "    - Quantile 0.5: Finished. Best iter: [1]\n",
                        "    - Quantile 0.95: Finished. Best iter: [1]\n",
                        "    - Quantile 0.05: Finished. Best iter: [6]\n",
                        "    - Quantile 0.5: Finished. Best iter: [6]\n",
                        "    - Quantile 0.95: Finished. Best iter: [6]\n",
                        "    - Quantile 0.05: Finished. Best iter: [49921]\n",
                        "    - Quantile 0.5: Finished. Best iter: [49921]\n",
                        "    - Quantile 0.95: Finished. Best iter: [1]\n",
                        "    - Quantile 0.05: Finished. Best iter: [1]\n",
                        "    - Quantile 0.5: Finished. Best iter: [1]\n",
                        "    - Quantile 0.95: Finished. Best iter: [1]\n"
                    ]
                },
                {
                    "name": "stderr",
                    "output_type": "stream",
                    "text": [
                        "d:\\Project\\Command\\Python\\Neural\\Wolf_of_Wall_Street\\.venv\\Lib\\site-packages\\pandas\\core\\nanops.py:1632: ConstantInputWarning: An input array is constant; the correlation coefficient is not defined.\n",
                        "  return spearmanr(a, b)[0]\n"
                    ]
                },
                {
                    "name": "stdout",
                    "output_type": "stream",
                    "text": [
                        "    - Quantile 0.05: Finished. Best iter: [2]\n",
                        "    - Quantile 0.5: Finished. Best iter: [37]\n",
                        "    - Quantile 0.95: Finished. Best iter: [69]\n",
                        "    - Quantile 0.05: Finished. Best iter: [38]\n",
                        "    - Quantile 0.5: Finished. Best iter: [104]\n",
                        "    - Quantile 0.95: Finished. Best iter: [104]\n",
                        "    - Quantile 0.05: Finished. Best iter: [1]\n",
                        "    - Quantile 0.5: Finished. Best iter: [1]\n",
                        "    - Quantile 0.95: Finished. Best iter: [1]\n",
                        "    - Quantile 0.05: Finished. Best iter: [1]\n",
                        "    - Quantile 0.5: Finished. Best iter: [1]\n",
                        "    - Quantile 0.95: Finished. Best iter: [1]\n",
                        "    - Quantile 0.05: Finished. Best iter: [21433]\n",
                        "    - Quantile 0.5: Finished. Best iter: [21433]\n",
                        "    - Quantile 0.95: Finished. Best iter: [21433]\n",
                        "    - Quantile 0.05: Finished. Best iter: [41933]\n",
                        "    - Quantile 0.5: Finished. Best iter: [41933]\n",
                        "    - Quantile 0.95: Finished. Best iter: [41758]\n",
                        "    - Quantile 0.05: Finished. Best iter: [174]\n",
                        "    - Quantile 0.5: Finished. Best iter: [17]\n",
                        "    - Quantile 0.95: Finished. Best iter: [4]\n",
                        "    - Quantile 0.05: Finished. Best iter: [1]\n",
                        "    - Quantile 0.5: Finished. Best iter: [1]\n",
                        "    - Quantile 0.95: Finished. Best iter: [1]\n",
                        "    - Quantile 0.05: Finished. Best iter: [1]\n",
                        "    - Quantile 0.5: Finished. Best iter: [1]\n",
                        "    - Quantile 0.95: Finished. Best iter: [1]\n",
                        "    - Quantile 0.05: Finished. Best iter: [1]\n",
                        "    - Quantile 0.5: Finished. Best iter: [1]\n",
                        "    - Quantile 0.95: Finished. Best iter: [1]\n",
                        "    - Quantile 0.05: Finished. Best iter: [30]\n",
                        "    - Quantile 0.5: Finished. Best iter: [30]\n",
                        "    - Quantile 0.95: Finished. Best iter: [30]\n",
                        "    - Quantile 0.05: Finished. Best iter: [69]\n",
                        "    - Quantile 0.5: Finished. Best iter: [187]\n",
                        "    - Quantile 0.95: Finished. Best iter: [1]\n",
                        "    - Quantile 0.05: Finished. Best iter: [49979]\n",
                        "    - Quantile 0.5: Finished. Best iter: [49516]\n",
                        "    - Quantile 0.95: Finished. Best iter: [25008]\n",
                        "    - Quantile 0.05: Finished. Best iter: [266]\n",
                        "    - Quantile 0.5: Finished. Best iter: [49940]\n",
                        "    - Quantile 0.95: Finished. Best iter: [2]\n",
                        "    - Quantile 0.05: Finished. Best iter: [1]\n",
                        "    - Quantile 0.5: Finished. Best iter: [1]\n",
                        "    - Quantile 0.95: Finished. Best iter: [1]\n"
                    ]
                },
                {
                    "name": "stderr",
                    "output_type": "stream",
                    "text": [
                        "d:\\Project\\Command\\Python\\Neural\\Wolf_of_Wall_Street\\.venv\\Lib\\site-packages\\pandas\\core\\nanops.py:1632: ConstantInputWarning: An input array is constant; the correlation coefficient is not defined.\n",
                        "  return spearmanr(a, b)[0]\n"
                    ]
                },
                {
                    "name": "stdout",
                    "output_type": "stream",
                    "text": [
                        "    - Quantile 0.05: Finished. Best iter: [1]\n",
                        "    - Quantile 0.5: Finished. Best iter: [1]\n",
                        "    - Quantile 0.95: Finished. Best iter: [1]\n",
                        "    - Quantile 0.05: Finished. Best iter: [132]\n",
                        "    - Quantile 0.5: Finished. Best iter: [132]\n",
                        "    - Quantile 0.95: Finished. Best iter: [160]\n",
                        "    - Quantile 0.05: Finished. Best iter: [147]\n",
                        "    - Quantile 0.5: Finished. Best iter: [13574]\n",
                        "    - Quantile 0.95: Finished. Best iter: [18743]\n",
                        "    - Quantile 0.05: Finished. Best iter: [34]\n",
                        "    - Quantile 0.5: Finished. Best iter: [34]\n",
                        "    - Quantile 0.95: Finished. Best iter: [1]\n",
                        "    - Quantile 0.05: Finished. Best iter: [36]\n",
                        "    - Quantile 0.5: Finished. Best iter: [36]\n",
                        "    - Quantile 0.95: Finished. Best iter: [36]\n",
                        "    - Quantile 0.05: Finished. Best iter: [87]\n",
                        "    - Quantile 0.5: Finished. Best iter: [119]\n",
                        "    - Quantile 0.95: Finished. Best iter: [3204]\n",
                        "    - Quantile 0.05: Finished. Best iter: [52]\n",
                        "    - Quantile 0.5: Finished. Best iter: [13]\n",
                        "    - Quantile 0.95: Finished. Best iter: [1]\n",
                        "    - Quantile 0.05: Finished. Best iter: [2063]\n",
                        "    - Quantile 0.5: Finished. Best iter: [1968]\n",
                        "    - Quantile 0.95: Finished. Best iter: [22]\n",
                        "    - Quantile 0.05: Finished. Best iter: [67]\n",
                        "    - Quantile 0.5: Finished. Best iter: [8]\n",
                        "    - Quantile 0.95: Finished. Best iter: [2]\n",
                        "    - Quantile 0.05: Finished. Best iter: [2]\n",
                        "    - Quantile 0.5: Finished. Best iter: [2]\n",
                        "    - Quantile 0.95: Finished. Best iter: [2]\n",
                        "    - Quantile 0.05: Finished. Best iter: [371]\n",
                        "    - Quantile 0.5: Finished. Best iter: [736]\n",
                        "    - Quantile 0.95: Finished. Best iter: [733]\n",
                        "    - Quantile 0.05: Finished. Best iter: [790]\n",
                        "    - Quantile 0.5: Finished. Best iter: [19721]\n",
                        "    - Quantile 0.95: Finished. Best iter: [48155]\n",
                        "    - Quantile 0.05: Finished. Best iter: [6]\n",
                        "    - Quantile 0.5: Finished. Best iter: [6]\n",
                        "    - Quantile 0.95: Finished. Best iter: [6]\n",
                        "    - Quantile 0.05: Finished. Best iter: [11125]\n",
                        "    - Quantile 0.5: Finished. Best iter: [11125]\n",
                        "    - Quantile 0.95: Finished. Best iter: [281]\n",
                        "    - Quantile 0.05: Finished. Best iter: [377]\n",
                        "    - Quantile 0.5: Finished. Best iter: [377]\n",
                        "    - Quantile 0.95: Finished. Best iter: [371]\n",
                        "    - Quantile 0.05: Finished. Best iter: [1376]\n",
                        "    - Quantile 0.5: Finished. Best iter: [763]\n",
                        "    - Quantile 0.95: Finished. Best iter: [4]\n",
                        "    - Quantile 0.05: Finished. Best iter: [10687]\n",
                        "    - Quantile 0.5: Finished. Best iter: [161]\n",
                        "    - Quantile 0.95: Finished. Best iter: [256]\n",
                        "    - Quantile 0.05: Finished. Best iter: [1]\n",
                        "    - Quantile 0.5: Finished. Best iter: [1]\n",
                        "    - Quantile 0.95: Finished. Best iter: [1]\n"
                    ]
                },
                {
                    "name": "stderr",
                    "output_type": "stream",
                    "text": [
                        "d:\\Project\\Command\\Python\\Neural\\Wolf_of_Wall_Street\\.venv\\Lib\\site-packages\\pandas\\core\\nanops.py:1632: ConstantInputWarning: An input array is constant; the correlation coefficient is not defined.\n",
                        "  return spearmanr(a, b)[0]\n"
                    ]
                },
                {
                    "name": "stdout",
                    "output_type": "stream",
                    "text": [
                        "    - Quantile 0.05: Finished. Best iter: [2]\n",
                        "    - Quantile 0.5: Finished. Best iter: [2]\n",
                        "    - Quantile 0.95: Finished. Best iter: [2]\n",
                        "    - Quantile 0.05: Finished. Best iter: [1]\n",
                        "    - Quantile 0.5: Finished. Best iter: [1]\n",
                        "    - Quantile 0.95: Finished. Best iter: [1]\n",
                        "    - Quantile 0.05: Finished. Best iter: [1]\n",
                        "    - Quantile 0.5: Finished. Best iter: [1]\n",
                        "    - Quantile 0.95: Finished. Best iter: [1]\n"
                    ]
                },
                {
                    "name": "stderr",
                    "output_type": "stream",
                    "text": [
                        "d:\\Project\\Command\\Python\\Neural\\Wolf_of_Wall_Street\\.venv\\Lib\\site-packages\\pandas\\core\\nanops.py:1632: ConstantInputWarning: An input array is constant; the correlation coefficient is not defined.\n",
                        "  return spearmanr(a, b)[0]\n"
                    ]
                },
                {
                    "name": "stdout",
                    "output_type": "stream",
                    "text": [
                        "    - Quantile 0.05: Finished. Best iter: [1]\n",
                        "    - Quantile 0.5: Finished. Best iter: [1]\n",
                        "    - Quantile 0.95: Finished. Best iter: [1]\n",
                        "    - Quantile 0.05: Finished. Best iter: [1]\n",
                        "    - Quantile 0.5: Finished. Best iter: [29]\n",
                        "    - Quantile 0.95: Finished. Best iter: [71]\n",
                        "    - Quantile 0.05: Finished. Best iter: [19]\n",
                        "    - Quantile 0.5: Finished. Best iter: [291]\n",
                        "    - Quantile 0.95: Finished. Best iter: [217]\n",
                        "    - Quantile 0.05: Finished. Best iter: [1]\n",
                        "    - Quantile 0.5: Finished. Best iter: [1]\n",
                        "    - Quantile 0.95: Finished. Best iter: [1]\n"
                    ]
                },
                {
                    "name": "stderr",
                    "output_type": "stream",
                    "text": [
                        "d:\\Project\\Command\\Python\\Neural\\Wolf_of_Wall_Street\\.venv\\Lib\\site-packages\\pandas\\core\\nanops.py:1632: ConstantInputWarning: An input array is constant; the correlation coefficient is not defined.\n",
                        "  return spearmanr(a, b)[0]\n"
                    ]
                },
                {
                    "name": "stdout",
                    "output_type": "stream",
                    "text": [
                        "    - Quantile 0.05: Finished. Best iter: [535]\n",
                        "    - Quantile 0.5: Finished. Best iter: [197]\n",
                        "    - Quantile 0.95: Finished. Best iter: [1]\n",
                        "    - Quantile 0.05: Finished. Best iter: [1]\n",
                        "    - Quantile 0.5: Finished. Best iter: [1]\n",
                        "    - Quantile 0.95: Finished. Best iter: [1]\n",
                        "    - Quantile 0.05: Finished. Best iter: [22911]\n",
                        "    - Quantile 0.5: Finished. Best iter: [46112]\n",
                        "    - Quantile 0.95: Finished. Best iter: [46089]\n",
                        "    - Quantile 0.05: Finished. Best iter: [59]\n",
                        "    - Quantile 0.5: Finished. Best iter: [59]\n",
                        "    - Quantile 0.95: Finished. Best iter: [4]\n",
                        "    - Quantile 0.05: Finished. Best iter: [153]\n",
                        "    - Quantile 0.5: Finished. Best iter: [180]\n",
                        "    - Quantile 0.95: Finished. Best iter: [1]\n",
                        "    - Quantile 0.05: Finished. Best iter: [171]\n",
                        "    - Quantile 0.5: Finished. Best iter: [171]\n",
                        "    - Quantile 0.95: Finished. Best iter: [33]\n",
                        "    - Quantile 0.05: Finished. Best iter: [8028]\n",
                        "    - Quantile 0.5: Finished. Best iter: [31745]\n",
                        "    - Quantile 0.95: Finished. Best iter: [22]\n",
                        "    - Quantile 0.05: Finished. Best iter: [4]\n",
                        "    - Quantile 0.5: Finished. Best iter: [4]\n",
                        "    - Quantile 0.95: Finished. Best iter: [4]\n",
                        "    - Quantile 0.05: Finished. Best iter: [1536]\n",
                        "    - Quantile 0.5: Finished. Best iter: [1655]\n",
                        "    - Quantile 0.95: Finished. Best iter: [260]\n",
                        "    - Quantile 0.05: Finished. Best iter: [755]\n",
                        "    - Quantile 0.5: Finished. Best iter: [794]\n",
                        "    - Quantile 0.95: Finished. Best iter: [780]\n",
                        "SUCCESS: Out-of-Fold predictions saved to models\\000001.SZ\\lgbm_oof_preds.csv\n",
                        "INFO: Training final model for 平安银行 (000001.SZ) on all data...\n",
                        "\n",
                        "================================================================================\n",
                        "--- Starting LSTM training for 平安银行 (000001.SZ) ---\n",
                        "INFO: PyTorch LSTMBuilder will use device: CUDA\n",
                        "INFO: Starting Walk-Forward validation for 平安银行 across 104 folds...\n"
                    ]
                },
                {
                    "data": {
                        "application/vnd.jupyter.widget-view+json": {
                            "model_id": "b3e73c8a0d0c432c8c629e89ce3e85dc",
                            "version_major": 2,
                            "version_minor": 0
                        },
                        "text/plain": [
                            "Training LSTM on 平安银行:   0%|          | 0/104 [00:00<?, ?it/s]"
                        ]
                    },
                    "metadata": {},
                    "output_type": "display_data"
                },
                {
                    "name": "stdout",
                    "output_type": "stream",
                    "text": [
                        "INFO: DataLoader will use 8 parallel workers.\n",
                        "INFO: Automatic Mixed Precision (AMP) is DISABLED (float32).\n"
                    ]
                },
                {
                    "data": {
                        "application/vnd.jupyter.widget-view+json": {
                            "model_id": "c42468bad1fc4be6bf2ac7130813b48f",
                            "version_major": 2,
                            "version_minor": 0
                        },
                        "text/plain": [
                            "    - Epochs:   0%|          | 0/50 [00:00<?, ?it/s]"
                        ]
                    },
                    "metadata": {},
                    "output_type": "display_data"
                },
                {
                    "name": "stdout",
                    "output_type": "stream",
                    "text": [
                        "    - Fold finished. Best validation loss: 0.064337 at epoch 2\n",
                        "INFO: DataLoader will use 8 parallel workers.\n",
                        "INFO: Automatic Mixed Precision (AMP) is DISABLED (float32).\n"
                    ]
                },
                {
                    "data": {
                        "application/vnd.jupyter.widget-view+json": {
                            "model_id": "c1ba820146d543abbe6838a33e33031e",
                            "version_major": 2,
                            "version_minor": 0
                        },
                        "text/plain": [
                            "    - Epochs:   0%|          | 0/50 [00:00<?, ?it/s]"
                        ]
                    },
                    "metadata": {},
                    "output_type": "display_data"
                },
                {
                    "name": "stdout",
                    "output_type": "stream",
                    "text": [
                        "    - Fold finished. Best validation loss: 0.030891 at epoch 31\n",
                        "INFO: DataLoader will use 8 parallel workers.\n",
                        "INFO: Automatic Mixed Precision (AMP) is DISABLED (float32).\n"
                    ]
                },
                {
                    "data": {
                        "application/vnd.jupyter.widget-view+json": {
                            "model_id": "564b2a0b1efc4cfea4232e6e58dc5060",
                            "version_major": 2,
                            "version_minor": 0
                        },
                        "text/plain": [
                            "    - Epochs:   0%|          | 0/50 [00:00<?, ?it/s]"
                        ]
                    },
                    "metadata": {},
                    "output_type": "display_data"
                },
                {
                    "name": "stdout",
                    "output_type": "stream",
                    "text": [
                        "    - Fold finished. Best validation loss: 0.010016 at epoch 13\n",
                        "INFO: DataLoader will use 8 parallel workers.\n",
                        "INFO: Automatic Mixed Precision (AMP) is DISABLED (float32).\n"
                    ]
                },
                {
                    "data": {
                        "application/vnd.jupyter.widget-view+json": {
                            "model_id": "4e5e8c56470f4e7599f7efc519f7f95e",
                            "version_major": 2,
                            "version_minor": 0
                        },
                        "text/plain": [
                            "    - Epochs:   0%|          | 0/50 [00:00<?, ?it/s]"
                        ]
                    },
                    "metadata": {},
                    "output_type": "display_data"
                },
                {
                    "name": "stdout",
                    "output_type": "stream",
                    "text": [
                        "    - Fold finished. Best validation loss: 0.013768 at epoch 3\n",
                        "INFO: DataLoader will use 8 parallel workers.\n",
                        "INFO: Automatic Mixed Precision (AMP) is DISABLED (float32).\n"
                    ]
                },
                {
                    "data": {
                        "application/vnd.jupyter.widget-view+json": {
                            "model_id": "2a5cbd44d2084924b9861d03875df7d9",
                            "version_major": 2,
                            "version_minor": 0
                        },
                        "text/plain": [
                            "    - Epochs:   0%|          | 0/50 [00:00<?, ?it/s]"
                        ]
                    },
                    "metadata": {},
                    "output_type": "display_data"
                },
                {
                    "name": "stdout",
                    "output_type": "stream",
                    "text": [
                        "    - Fold finished. Best validation loss: 0.031633 at epoch 20\n",
                        "INFO: DataLoader will use 8 parallel workers.\n",
                        "INFO: Automatic Mixed Precision (AMP) is DISABLED (float32).\n"
                    ]
                },
                {
                    "data": {
                        "application/vnd.jupyter.widget-view+json": {
                            "model_id": "6d6217d62c9a4a0bb38d38d25e4023f1",
                            "version_major": 2,
                            "version_minor": 0
                        },
                        "text/plain": [
                            "    - Epochs:   0%|          | 0/50 [00:00<?, ?it/s]"
                        ]
                    },
                    "metadata": {},
                    "output_type": "display_data"
                },
                {
                    "name": "stdout",
                    "output_type": "stream",
                    "text": [
                        "    - Fold finished. Best validation loss: 0.008676 at epoch 10\n",
                        "INFO: DataLoader will use 8 parallel workers.\n",
                        "INFO: Automatic Mixed Precision (AMP) is DISABLED (float32).\n"
                    ]
                },
                {
                    "data": {
                        "application/vnd.jupyter.widget-view+json": {
                            "model_id": "c8c963ab5d8f4b34a2dfb7f019f43496",
                            "version_major": 2,
                            "version_minor": 0
                        },
                        "text/plain": [
                            "    - Epochs:   0%|          | 0/50 [00:00<?, ?it/s]"
                        ]
                    },
                    "metadata": {},
                    "output_type": "display_data"
                },
                {
                    "name": "stdout",
                    "output_type": "stream",
                    "text": [
                        "    - Fold finished. Best validation loss: 0.017818 at epoch 8\n",
                        "INFO: DataLoader will use 8 parallel workers.\n",
                        "INFO: Automatic Mixed Precision (AMP) is DISABLED (float32).\n"
                    ]
                },
                {
                    "data": {
                        "application/vnd.jupyter.widget-view+json": {
                            "model_id": "14692e0e72ad407f82171679e302c203",
                            "version_major": 2,
                            "version_minor": 0
                        },
                        "text/plain": [
                            "    - Epochs:   0%|          | 0/50 [00:00<?, ?it/s]"
                        ]
                    },
                    "metadata": {},
                    "output_type": "display_data"
                },
                {
                    "name": "stdout",
                    "output_type": "stream",
                    "text": [
                        "    - Fold finished. Best validation loss: 0.003327 at epoch 17\n",
                        "INFO: DataLoader will use 8 parallel workers.\n",
                        "INFO: Automatic Mixed Precision (AMP) is DISABLED (float32).\n"
                    ]
                },
                {
                    "data": {
                        "application/vnd.jupyter.widget-view+json": {
                            "model_id": "64b1ab3ee62a485f8c2bba8aa06160f1",
                            "version_major": 2,
                            "version_minor": 0
                        },
                        "text/plain": [
                            "    - Epochs:   0%|          | 0/50 [00:00<?, ?it/s]"
                        ]
                    },
                    "metadata": {},
                    "output_type": "display_data"
                },
                {
                    "name": "stdout",
                    "output_type": "stream",
                    "text": [
                        "    - Fold finished. Best validation loss: 0.000755 at epoch 5\n",
                        "INFO: DataLoader will use 8 parallel workers.\n",
                        "INFO: Automatic Mixed Precision (AMP) is DISABLED (float32).\n"
                    ]
                },
                {
                    "data": {
                        "application/vnd.jupyter.widget-view+json": {
                            "model_id": "b3a74040bec8491b89493e4fa5794b3c",
                            "version_major": 2,
                            "version_minor": 0
                        },
                        "text/plain": [
                            "    - Epochs:   0%|          | 0/50 [00:00<?, ?it/s]"
                        ]
                    },
                    "metadata": {},
                    "output_type": "display_data"
                },
                {
                    "name": "stdout",
                    "output_type": "stream",
                    "text": [
                        "    - Fold finished. Best validation loss: 0.001361 at epoch 4\n",
                        "INFO: DataLoader will use 8 parallel workers.\n",
                        "INFO: Automatic Mixed Precision (AMP) is DISABLED (float32).\n"
                    ]
                },
                {
                    "data": {
                        "application/vnd.jupyter.widget-view+json": {
                            "model_id": "ef367f1b44794d7c9b94c15f2ee2c009",
                            "version_major": 2,
                            "version_minor": 0
                        },
                        "text/plain": [
                            "    - Epochs:   0%|          | 0/50 [00:00<?, ?it/s]"
                        ]
                    },
                    "metadata": {},
                    "output_type": "display_data"
                },
                {
                    "name": "stdout",
                    "output_type": "stream",
                    "text": [
                        "    - Fold finished. Best validation loss: 0.002466 at epoch 36\n",
                        "INFO: DataLoader will use 8 parallel workers.\n",
                        "INFO: Automatic Mixed Precision (AMP) is DISABLED (float32).\n"
                    ]
                },
                {
                    "data": {
                        "application/vnd.jupyter.widget-view+json": {
                            "model_id": "dd3aefb2733345d480f0ddec27f905b9",
                            "version_major": 2,
                            "version_minor": 0
                        },
                        "text/plain": [
                            "    - Epochs:   0%|          | 0/50 [00:00<?, ?it/s]"
                        ]
                    },
                    "metadata": {},
                    "output_type": "display_data"
                },
                {
                    "name": "stdout",
                    "output_type": "stream",
                    "text": [
                        "    - Fold finished. Best validation loss: 0.000452 at epoch 3\n",
                        "INFO: DataLoader will use 8 parallel workers.\n",
                        "INFO: Automatic Mixed Precision (AMP) is DISABLED (float32).\n"
                    ]
                },
                {
                    "data": {
                        "application/vnd.jupyter.widget-view+json": {
                            "model_id": "8d3f6d6a7eb44b79b2c2a9ca8dea99ec",
                            "version_major": 2,
                            "version_minor": 0
                        },
                        "text/plain": [
                            "    - Epochs:   0%|          | 0/50 [00:00<?, ?it/s]"
                        ]
                    },
                    "metadata": {},
                    "output_type": "display_data"
                },
                {
                    "name": "stdout",
                    "output_type": "stream",
                    "text": [
                        "    - Fold finished. Best validation loss: 0.000432 at epoch 4\n",
                        "INFO: DataLoader will use 8 parallel workers.\n",
                        "INFO: Automatic Mixed Precision (AMP) is DISABLED (float32).\n"
                    ]
                },
                {
                    "data": {
                        "application/vnd.jupyter.widget-view+json": {
                            "model_id": "537e54ddcb1646b08bf26cb65e56e482",
                            "version_major": 2,
                            "version_minor": 0
                        },
                        "text/plain": [
                            "    - Epochs:   0%|          | 0/50 [00:00<?, ?it/s]"
                        ]
                    },
                    "metadata": {},
                    "output_type": "display_data"
                },
                {
                    "name": "stdout",
                    "output_type": "stream",
                    "text": [
                        "    - Fold finished. Best validation loss: 0.000781 at epoch 9\n",
                        "INFO: DataLoader will use 8 parallel workers.\n",
                        "INFO: Automatic Mixed Precision (AMP) is DISABLED (float32).\n"
                    ]
                },
                {
                    "data": {
                        "application/vnd.jupyter.widget-view+json": {
                            "model_id": "b1de49f128f540259743d7735470f611",
                            "version_major": 2,
                            "version_minor": 0
                        },
                        "text/plain": [
                            "    - Epochs:   0%|          | 0/50 [00:00<?, ?it/s]"
                        ]
                    },
                    "metadata": {},
                    "output_type": "display_data"
                },
                {
                    "name": "stdout",
                    "output_type": "stream",
                    "text": [
                        "    - Fold finished. Best validation loss: 0.000435 at epoch 2\n",
                        "INFO: DataLoader will use 8 parallel workers.\n",
                        "INFO: Automatic Mixed Precision (AMP) is DISABLED (float32).\n"
                    ]
                },
                {
                    "data": {
                        "application/vnd.jupyter.widget-view+json": {
                            "model_id": "bf3743cef05249c88243528d334e2195",
                            "version_major": 2,
                            "version_minor": 0
                        },
                        "text/plain": [
                            "    - Epochs:   0%|          | 0/50 [00:00<?, ?it/s]"
                        ]
                    },
                    "metadata": {},
                    "output_type": "display_data"
                },
                {
                    "name": "stdout",
                    "output_type": "stream",
                    "text": [
                        "    - Fold finished. Best validation loss: 0.033693 at epoch 2\n",
                        "INFO: DataLoader will use 8 parallel workers.\n",
                        "INFO: Automatic Mixed Precision (AMP) is DISABLED (float32).\n"
                    ]
                },
                {
                    "data": {
                        "application/vnd.jupyter.widget-view+json": {
                            "model_id": "d659ad2462f4453da1b928ed67982472",
                            "version_major": 2,
                            "version_minor": 0
                        },
                        "text/plain": [
                            "    - Epochs:   0%|          | 0/50 [00:00<?, ?it/s]"
                        ]
                    },
                    "metadata": {},
                    "output_type": "display_data"
                },
                {
                    "name": "stdout",
                    "output_type": "stream",
                    "text": [
                        "    - Fold finished. Best validation loss: 0.007630 at epoch 45\n",
                        "INFO: DataLoader will use 8 parallel workers.\n",
                        "INFO: Automatic Mixed Precision (AMP) is DISABLED (float32).\n"
                    ]
                },
                {
                    "data": {
                        "application/vnd.jupyter.widget-view+json": {
                            "model_id": "d7df38c91095462b870b9b387ab5409b",
                            "version_major": 2,
                            "version_minor": 0
                        },
                        "text/plain": [
                            "    - Epochs:   0%|          | 0/50 [00:00<?, ?it/s]"
                        ]
                    },
                    "metadata": {},
                    "output_type": "display_data"
                },
                {
                    "name": "stdout",
                    "output_type": "stream",
                    "text": [
                        "    - Fold finished. Best validation loss: 0.003126 at epoch 2\n",
                        "INFO: DataLoader will use 8 parallel workers.\n",
                        "INFO: Automatic Mixed Precision (AMP) is DISABLED (float32).\n"
                    ]
                },
                {
                    "data": {
                        "application/vnd.jupyter.widget-view+json": {
                            "model_id": "846527e902f644df917c876b82f5004e",
                            "version_major": 2,
                            "version_minor": 0
                        },
                        "text/plain": [
                            "    - Epochs:   0%|          | 0/50 [00:00<?, ?it/s]"
                        ]
                    },
                    "metadata": {},
                    "output_type": "display_data"
                },
                {
                    "name": "stdout",
                    "output_type": "stream",
                    "text": [
                        "    - Fold finished. Best validation loss: 0.102583 at epoch 1\n",
                        "INFO: DataLoader will use 8 parallel workers.\n",
                        "INFO: Automatic Mixed Precision (AMP) is DISABLED (float32).\n"
                    ]
                },
                {
                    "data": {
                        "application/vnd.jupyter.widget-view+json": {
                            "model_id": "e361eae7bbc5481bbcf8b9a718f6528b",
                            "version_major": 2,
                            "version_minor": 0
                        },
                        "text/plain": [
                            "    - Epochs:   0%|          | 0/50 [00:00<?, ?it/s]"
                        ]
                    },
                    "metadata": {},
                    "output_type": "display_data"
                },
                {
                    "name": "stdout",
                    "output_type": "stream",
                    "text": [
                        "    - Fold finished. Best validation loss: 0.003700 at epoch 7\n",
                        "INFO: DataLoader will use 8 parallel workers.\n",
                        "INFO: Automatic Mixed Precision (AMP) is DISABLED (float32).\n"
                    ]
                },
                {
                    "data": {
                        "application/vnd.jupyter.widget-view+json": {
                            "model_id": "f6080faa1ae94392b50d55c7aac92b37",
                            "version_major": 2,
                            "version_minor": 0
                        },
                        "text/plain": [
                            "    - Epochs:   0%|          | 0/50 [00:00<?, ?it/s]"
                        ]
                    },
                    "metadata": {},
                    "output_type": "display_data"
                },
                {
                    "name": "stdout",
                    "output_type": "stream",
                    "text": [
                        "    - Fold finished. Best validation loss: 0.011806 at epoch 1\n",
                        "INFO: DataLoader will use 8 parallel workers.\n",
                        "INFO: Automatic Mixed Precision (AMP) is DISABLED (float32).\n"
                    ]
                },
                {
                    "data": {
                        "application/vnd.jupyter.widget-view+json": {
                            "model_id": "a3f85586a2f74e779a2d1687707042a7",
                            "version_major": 2,
                            "version_minor": 0
                        },
                        "text/plain": [
                            "    - Epochs:   0%|          | 0/50 [00:00<?, ?it/s]"
                        ]
                    },
                    "metadata": {},
                    "output_type": "display_data"
                },
                {
                    "name": "stdout",
                    "output_type": "stream",
                    "text": [
                        "    - Fold finished. Best validation loss: 0.006299 at epoch 19\n",
                        "INFO: DataLoader will use 8 parallel workers.\n",
                        "INFO: Automatic Mixed Precision (AMP) is DISABLED (float32).\n"
                    ]
                },
                {
                    "data": {
                        "application/vnd.jupyter.widget-view+json": {
                            "model_id": "0663c64ce8fa464db574c83d1f7de615",
                            "version_major": 2,
                            "version_minor": 0
                        },
                        "text/plain": [
                            "    - Epochs:   0%|          | 0/50 [00:00<?, ?it/s]"
                        ]
                    },
                    "metadata": {},
                    "output_type": "display_data"
                },
                {
                    "name": "stdout",
                    "output_type": "stream",
                    "text": [
                        "    - Fold finished. Best validation loss: 0.024914 at epoch 1\n",
                        "INFO: DataLoader will use 8 parallel workers.\n",
                        "INFO: Automatic Mixed Precision (AMP) is DISABLED (float32).\n"
                    ]
                },
                {
                    "data": {
                        "application/vnd.jupyter.widget-view+json": {
                            "model_id": "11e6809e41064619b1ba750498f2ee3c",
                            "version_major": 2,
                            "version_minor": 0
                        },
                        "text/plain": [
                            "    - Epochs:   0%|          | 0/50 [00:00<?, ?it/s]"
                        ]
                    },
                    "metadata": {},
                    "output_type": "display_data"
                },
                {
                    "name": "stdout",
                    "output_type": "stream",
                    "text": [
                        "    - Fold finished. Best validation loss: 0.012407 at epoch 5\n",
                        "INFO: DataLoader will use 8 parallel workers.\n",
                        "INFO: Automatic Mixed Precision (AMP) is DISABLED (float32).\n"
                    ]
                },
                {
                    "data": {
                        "application/vnd.jupyter.widget-view+json": {
                            "model_id": "fbb63c21c14a4ed5b6b1307e281ad610",
                            "version_major": 2,
                            "version_minor": 0
                        },
                        "text/plain": [
                            "    - Epochs:   0%|          | 0/50 [00:00<?, ?it/s]"
                        ]
                    },
                    "metadata": {},
                    "output_type": "display_data"
                },
                {
                    "name": "stdout",
                    "output_type": "stream",
                    "text": [
                        "    - Fold finished. Best validation loss: 0.004872 at epoch 1\n",
                        "INFO: DataLoader will use 8 parallel workers.\n",
                        "INFO: Automatic Mixed Precision (AMP) is DISABLED (float32).\n"
                    ]
                },
                {
                    "data": {
                        "application/vnd.jupyter.widget-view+json": {
                            "model_id": "dc026159a24a4a46b12c7009dd7cc0db",
                            "version_major": 2,
                            "version_minor": 0
                        },
                        "text/plain": [
                            "    - Epochs:   0%|          | 0/50 [00:00<?, ?it/s]"
                        ]
                    },
                    "metadata": {},
                    "output_type": "display_data"
                },
                {
                    "name": "stdout",
                    "output_type": "stream",
                    "text": [
                        "    - Fold finished. Best validation loss: 0.006544 at epoch 49\n",
                        "INFO: DataLoader will use 8 parallel workers.\n",
                        "INFO: Automatic Mixed Precision (AMP) is DISABLED (float32).\n"
                    ]
                },
                {
                    "data": {
                        "application/vnd.jupyter.widget-view+json": {
                            "model_id": "f1a90226236b4e22958af0697ed9e0b0",
                            "version_major": 2,
                            "version_minor": 0
                        },
                        "text/plain": [
                            "    - Epochs:   0%|          | 0/50 [00:00<?, ?it/s]"
                        ]
                    },
                    "metadata": {},
                    "output_type": "display_data"
                },
                {
                    "name": "stdout",
                    "output_type": "stream",
                    "text": [
                        "    - Fold finished. Best validation loss: 0.000963 at epoch 26\n",
                        "INFO: DataLoader will use 8 parallel workers.\n",
                        "INFO: Automatic Mixed Precision (AMP) is DISABLED (float32).\n"
                    ]
                },
                {
                    "data": {
                        "application/vnd.jupyter.widget-view+json": {
                            "model_id": "20ee4ca116bd4c29ad2b600827f553cb",
                            "version_major": 2,
                            "version_minor": 0
                        },
                        "text/plain": [
                            "    - Epochs:   0%|          | 0/50 [00:00<?, ?it/s]"
                        ]
                    },
                    "metadata": {},
                    "output_type": "display_data"
                },
                {
                    "name": "stdout",
                    "output_type": "stream",
                    "text": [
                        "    - Fold finished. Best validation loss: 0.001332 at epoch 1\n",
                        "INFO: DataLoader will use 8 parallel workers.\n",
                        "INFO: Automatic Mixed Precision (AMP) is DISABLED (float32).\n"
                    ]
                },
                {
                    "data": {
                        "application/vnd.jupyter.widget-view+json": {
                            "model_id": "df5311e62177423d805e6baa3a3958eb",
                            "version_major": 2,
                            "version_minor": 0
                        },
                        "text/plain": [
                            "    - Epochs:   0%|          | 0/50 [00:00<?, ?it/s]"
                        ]
                    },
                    "metadata": {},
                    "output_type": "display_data"
                },
                {
                    "name": "stdout",
                    "output_type": "stream",
                    "text": [
                        "    - Fold finished. Best validation loss: 0.000776 at epoch 6\n",
                        "INFO: DataLoader will use 8 parallel workers.\n",
                        "INFO: Automatic Mixed Precision (AMP) is DISABLED (float32).\n"
                    ]
                },
                {
                    "data": {
                        "application/vnd.jupyter.widget-view+json": {
                            "model_id": "a72980863dbb4702be65fcd22880ed94",
                            "version_major": 2,
                            "version_minor": 0
                        },
                        "text/plain": [
                            "    - Epochs:   0%|          | 0/50 [00:00<?, ?it/s]"
                        ]
                    },
                    "metadata": {},
                    "output_type": "display_data"
                },
                {
                    "name": "stdout",
                    "output_type": "stream",
                    "text": [
                        "    - Fold finished. Best validation loss: 0.000440 at epoch 2\n",
                        "INFO: DataLoader will use 8 parallel workers.\n",
                        "INFO: Automatic Mixed Precision (AMP) is DISABLED (float32).\n"
                    ]
                },
                {
                    "data": {
                        "application/vnd.jupyter.widget-view+json": {
                            "model_id": "ade44227ac3d4ed0893805f8dd8e4636",
                            "version_major": 2,
                            "version_minor": 0
                        },
                        "text/plain": [
                            "    - Epochs:   0%|          | 0/50 [00:00<?, ?it/s]"
                        ]
                    },
                    "metadata": {},
                    "output_type": "display_data"
                },
                {
                    "name": "stdout",
                    "output_type": "stream",
                    "text": [
                        "    - Fold finished. Best validation loss: 0.001328 at epoch 9\n",
                        "INFO: DataLoader will use 8 parallel workers.\n",
                        "INFO: Automatic Mixed Precision (AMP) is DISABLED (float32).\n"
                    ]
                },
                {
                    "data": {
                        "application/vnd.jupyter.widget-view+json": {
                            "model_id": "f83b99b5ffec419c94c89f9402d3e59a",
                            "version_major": 2,
                            "version_minor": 0
                        },
                        "text/plain": [
                            "    - Epochs:   0%|          | 0/50 [00:00<?, ?it/s]"
                        ]
                    },
                    "metadata": {},
                    "output_type": "display_data"
                },
                {
                    "name": "stdout",
                    "output_type": "stream",
                    "text": [
                        "    - Fold finished. Best validation loss: 0.000926 at epoch 2\n",
                        "INFO: DataLoader will use 8 parallel workers.\n",
                        "INFO: Automatic Mixed Precision (AMP) is DISABLED (float32).\n"
                    ]
                },
                {
                    "data": {
                        "application/vnd.jupyter.widget-view+json": {
                            "model_id": "e4395953c145413cba69093b44222873",
                            "version_major": 2,
                            "version_minor": 0
                        },
                        "text/plain": [
                            "    - Epochs:   0%|          | 0/50 [00:00<?, ?it/s]"
                        ]
                    },
                    "metadata": {},
                    "output_type": "display_data"
                },
                {
                    "name": "stdout",
                    "output_type": "stream",
                    "text": [
                        "    - Fold finished. Best validation loss: 0.001079 at epoch 7\n",
                        "INFO: DataLoader will use 8 parallel workers.\n",
                        "INFO: Automatic Mixed Precision (AMP) is DISABLED (float32).\n"
                    ]
                },
                {
                    "data": {
                        "application/vnd.jupyter.widget-view+json": {
                            "model_id": "75626767af3b49379ee7cbd85aed783b",
                            "version_major": 2,
                            "version_minor": 0
                        },
                        "text/plain": [
                            "    - Epochs:   0%|          | 0/50 [00:00<?, ?it/s]"
                        ]
                    },
                    "metadata": {},
                    "output_type": "display_data"
                },
                {
                    "name": "stdout",
                    "output_type": "stream",
                    "text": [
                        "    - Fold finished. Best validation loss: 0.002107 at epoch 4\n",
                        "INFO: DataLoader will use 8 parallel workers.\n",
                        "INFO: Automatic Mixed Precision (AMP) is DISABLED (float32).\n"
                    ]
                },
                {
                    "data": {
                        "application/vnd.jupyter.widget-view+json": {
                            "model_id": "fcb7280bfbfa4871b3494e87f802d436",
                            "version_major": 2,
                            "version_minor": 0
                        },
                        "text/plain": [
                            "    - Epochs:   0%|          | 0/50 [00:00<?, ?it/s]"
                        ]
                    },
                    "metadata": {},
                    "output_type": "display_data"
                },
                {
                    "name": "stdout",
                    "output_type": "stream",
                    "text": [
                        "    - Fold finished. Best validation loss: 0.001389 at epoch 5\n",
                        "INFO: DataLoader will use 8 parallel workers.\n",
                        "INFO: Automatic Mixed Precision (AMP) is DISABLED (float32).\n"
                    ]
                },
                {
                    "data": {
                        "application/vnd.jupyter.widget-view+json": {
                            "model_id": "abc42cf76bf34faaa4a86e67bd4f937b",
                            "version_major": 2,
                            "version_minor": 0
                        },
                        "text/plain": [
                            "    - Epochs:   0%|          | 0/50 [00:00<?, ?it/s]"
                        ]
                    },
                    "metadata": {},
                    "output_type": "display_data"
                },
                {
                    "name": "stdout",
                    "output_type": "stream",
                    "text": [
                        "    - Fold finished. Best validation loss: 0.001207 at epoch 1\n",
                        "INFO: DataLoader will use 8 parallel workers.\n",
                        "INFO: Automatic Mixed Precision (AMP) is DISABLED (float32).\n"
                    ]
                },
                {
                    "data": {
                        "application/vnd.jupyter.widget-view+json": {
                            "model_id": "c223747c461444748b2e0f1c93cb44cd",
                            "version_major": 2,
                            "version_minor": 0
                        },
                        "text/plain": [
                            "    - Epochs:   0%|          | 0/50 [00:00<?, ?it/s]"
                        ]
                    },
                    "metadata": {},
                    "output_type": "display_data"
                },
                {
                    "name": "stdout",
                    "output_type": "stream",
                    "text": [
                        "    - Fold finished. Best validation loss: 0.000192 at epoch 29\n",
                        "INFO: DataLoader will use 8 parallel workers.\n",
                        "INFO: Automatic Mixed Precision (AMP) is DISABLED (float32).\n"
                    ]
                },
                {
                    "data": {
                        "application/vnd.jupyter.widget-view+json": {
                            "model_id": "3f36859856cd4102ad1af4751b838a8a",
                            "version_major": 2,
                            "version_minor": 0
                        },
                        "text/plain": [
                            "    - Epochs:   0%|          | 0/50 [00:00<?, ?it/s]"
                        ]
                    },
                    "metadata": {},
                    "output_type": "display_data"
                },
                {
                    "name": "stdout",
                    "output_type": "stream",
                    "text": [
                        "    - Fold finished. Best validation loss: 0.007578 at epoch 5\n",
                        "INFO: DataLoader will use 8 parallel workers.\n",
                        "INFO: Automatic Mixed Precision (AMP) is DISABLED (float32).\n"
                    ]
                },
                {
                    "data": {
                        "application/vnd.jupyter.widget-view+json": {
                            "model_id": "0359dcd52b4241c1bd9bfaf423822b2e",
                            "version_major": 2,
                            "version_minor": 0
                        },
                        "text/plain": [
                            "    - Epochs:   0%|          | 0/50 [00:00<?, ?it/s]"
                        ]
                    },
                    "metadata": {},
                    "output_type": "display_data"
                },
                {
                    "name": "stdout",
                    "output_type": "stream",
                    "text": [
                        "    - Fold finished. Best validation loss: 0.002128 at epoch 31\n",
                        "INFO: DataLoader will use 8 parallel workers.\n",
                        "INFO: Automatic Mixed Precision (AMP) is DISABLED (float32).\n"
                    ]
                },
                {
                    "data": {
                        "application/vnd.jupyter.widget-view+json": {
                            "model_id": "58976f35457b46fd85ed4ea96c534d1c",
                            "version_major": 2,
                            "version_minor": 0
                        },
                        "text/plain": [
                            "    - Epochs:   0%|          | 0/50 [00:00<?, ?it/s]"
                        ]
                    },
                    "metadata": {},
                    "output_type": "display_data"
                },
                {
                    "name": "stdout",
                    "output_type": "stream",
                    "text": [
                        "    - Fold finished. Best validation loss: 0.010680 at epoch 3\n",
                        "INFO: DataLoader will use 8 parallel workers.\n",
                        "INFO: Automatic Mixed Precision (AMP) is DISABLED (float32).\n"
                    ]
                },
                {
                    "data": {
                        "application/vnd.jupyter.widget-view+json": {
                            "model_id": "ea7ec3ada45946f599a5d9c061933dec",
                            "version_major": 2,
                            "version_minor": 0
                        },
                        "text/plain": [
                            "    - Epochs:   0%|          | 0/50 [00:00<?, ?it/s]"
                        ]
                    },
                    "metadata": {},
                    "output_type": "display_data"
                },
                {
                    "name": "stdout",
                    "output_type": "stream",
                    "text": [
                        "    - Fold finished. Best validation loss: 0.001607 at epoch 42\n",
                        "INFO: DataLoader will use 8 parallel workers.\n",
                        "INFO: Automatic Mixed Precision (AMP) is DISABLED (float32).\n"
                    ]
                },
                {
                    "data": {
                        "application/vnd.jupyter.widget-view+json": {
                            "model_id": "f3ce171d73744e4bb79a94c6299d7552",
                            "version_major": 2,
                            "version_minor": 0
                        },
                        "text/plain": [
                            "    - Epochs:   0%|          | 0/50 [00:00<?, ?it/s]"
                        ]
                    },
                    "metadata": {},
                    "output_type": "display_data"
                },
                {
                    "name": "stdout",
                    "output_type": "stream",
                    "text": [
                        "    - Fold finished. Best validation loss: 0.011011 at epoch 2\n",
                        "INFO: DataLoader will use 8 parallel workers.\n",
                        "INFO: Automatic Mixed Precision (AMP) is DISABLED (float32).\n"
                    ]
                },
                {
                    "data": {
                        "application/vnd.jupyter.widget-view+json": {
                            "model_id": "6a82ac0416194ae7bbe6527da5f885d7",
                            "version_major": 2,
                            "version_minor": 0
                        },
                        "text/plain": [
                            "    - Epochs:   0%|          | 0/50 [00:00<?, ?it/s]"
                        ]
                    },
                    "metadata": {},
                    "output_type": "display_data"
                },
                {
                    "name": "stdout",
                    "output_type": "stream",
                    "text": [
                        "    - Fold finished. Best validation loss: 0.025621 at epoch 2\n",
                        "INFO: DataLoader will use 8 parallel workers.\n",
                        "INFO: Automatic Mixed Precision (AMP) is DISABLED (float32).\n"
                    ]
                },
                {
                    "data": {
                        "application/vnd.jupyter.widget-view+json": {
                            "model_id": "6123bccc33e94f3bbec62aea88b0a1a1",
                            "version_major": 2,
                            "version_minor": 0
                        },
                        "text/plain": [
                            "    - Epochs:   0%|          | 0/50 [00:00<?, ?it/s]"
                        ]
                    },
                    "metadata": {},
                    "output_type": "display_data"
                },
                {
                    "name": "stdout",
                    "output_type": "stream",
                    "text": [
                        "    - Fold finished. Best validation loss: 0.001190 at epoch 1\n",
                        "INFO: DataLoader will use 8 parallel workers.\n",
                        "INFO: Automatic Mixed Precision (AMP) is DISABLED (float32).\n"
                    ]
                },
                {
                    "data": {
                        "application/vnd.jupyter.widget-view+json": {
                            "model_id": "a4f0206a624040f0a67ec9279578dfab",
                            "version_major": 2,
                            "version_minor": 0
                        },
                        "text/plain": [
                            "    - Epochs:   0%|          | 0/50 [00:00<?, ?it/s]"
                        ]
                    },
                    "metadata": {},
                    "output_type": "display_data"
                },
                {
                    "name": "stdout",
                    "output_type": "stream",
                    "text": [
                        "    - Fold finished. Best validation loss: 0.007603 at epoch 1\n",
                        "INFO: DataLoader will use 8 parallel workers.\n",
                        "INFO: Automatic Mixed Precision (AMP) is DISABLED (float32).\n"
                    ]
                },
                {
                    "data": {
                        "application/vnd.jupyter.widget-view+json": {
                            "model_id": "499bdbf490ae472f8dcf64941846ec13",
                            "version_major": 2,
                            "version_minor": 0
                        },
                        "text/plain": [
                            "    - Epochs:   0%|          | 0/50 [00:00<?, ?it/s]"
                        ]
                    },
                    "metadata": {},
                    "output_type": "display_data"
                },
                {
                    "name": "stdout",
                    "output_type": "stream",
                    "text": [
                        "    - Fold finished. Best validation loss: 0.010028 at epoch 1\n",
                        "INFO: DataLoader will use 8 parallel workers.\n",
                        "INFO: Automatic Mixed Precision (AMP) is DISABLED (float32).\n"
                    ]
                },
                {
                    "data": {
                        "application/vnd.jupyter.widget-view+json": {
                            "model_id": "d6357f8df4cf449c8c2aac0bd641ed28",
                            "version_major": 2,
                            "version_minor": 0
                        },
                        "text/plain": [
                            "    - Epochs:   0%|          | 0/50 [00:00<?, ?it/s]"
                        ]
                    },
                    "metadata": {},
                    "output_type": "display_data"
                },
                {
                    "name": "stdout",
                    "output_type": "stream",
                    "text": [
                        "    - Fold finished. Best validation loss: 0.004027 at epoch 38\n",
                        "INFO: DataLoader will use 8 parallel workers.\n",
                        "INFO: Automatic Mixed Precision (AMP) is DISABLED (float32).\n"
                    ]
                },
                {
                    "data": {
                        "application/vnd.jupyter.widget-view+json": {
                            "model_id": "dd49c140617943cd8a52201a2ccb944b",
                            "version_major": 2,
                            "version_minor": 0
                        },
                        "text/plain": [
                            "    - Epochs:   0%|          | 0/50 [00:00<?, ?it/s]"
                        ]
                    },
                    "metadata": {},
                    "output_type": "display_data"
                },
                {
                    "name": "stdout",
                    "output_type": "stream",
                    "text": [
                        "    - Fold finished. Best validation loss: 0.003418 at epoch 29\n",
                        "INFO: DataLoader will use 8 parallel workers.\n",
                        "INFO: Automatic Mixed Precision (AMP) is DISABLED (float32).\n"
                    ]
                },
                {
                    "data": {
                        "application/vnd.jupyter.widget-view+json": {
                            "model_id": "cb952fabf43749218ae44250e6228da0",
                            "version_major": 2,
                            "version_minor": 0
                        },
                        "text/plain": [
                            "    - Epochs:   0%|          | 0/50 [00:00<?, ?it/s]"
                        ]
                    },
                    "metadata": {},
                    "output_type": "display_data"
                },
                {
                    "name": "stdout",
                    "output_type": "stream",
                    "text": [
                        "    - Fold finished. Best validation loss: 0.002476 at epoch 1\n",
                        "INFO: DataLoader will use 8 parallel workers.\n",
                        "INFO: Automatic Mixed Precision (AMP) is DISABLED (float32).\n"
                    ]
                },
                {
                    "data": {
                        "application/vnd.jupyter.widget-view+json": {
                            "model_id": "bd75d9720f764622b2606dfe8b9087bb",
                            "version_major": 2,
                            "version_minor": 0
                        },
                        "text/plain": [
                            "    - Epochs:   0%|          | 0/50 [00:00<?, ?it/s]"
                        ]
                    },
                    "metadata": {},
                    "output_type": "display_data"
                },
                {
                    "name": "stdout",
                    "output_type": "stream",
                    "text": [
                        "    - Fold finished. Best validation loss: 0.002557 at epoch 48\n",
                        "INFO: DataLoader will use 8 parallel workers.\n",
                        "INFO: Automatic Mixed Precision (AMP) is DISABLED (float32).\n"
                    ]
                },
                {
                    "data": {
                        "application/vnd.jupyter.widget-view+json": {
                            "model_id": "f13feecd65da439a8e628237d29723db",
                            "version_major": 2,
                            "version_minor": 0
                        },
                        "text/plain": [
                            "    - Epochs:   0%|          | 0/50 [00:00<?, ?it/s]"
                        ]
                    },
                    "metadata": {},
                    "output_type": "display_data"
                },
                {
                    "name": "stdout",
                    "output_type": "stream",
                    "text": [
                        "    - Fold finished. Best validation loss: 0.036622 at epoch 1\n",
                        "INFO: DataLoader will use 8 parallel workers.\n",
                        "INFO: Automatic Mixed Precision (AMP) is DISABLED (float32).\n"
                    ]
                },
                {
                    "data": {
                        "application/vnd.jupyter.widget-view+json": {
                            "model_id": "d28b17d22cb74d55a3ec60b50028a977",
                            "version_major": 2,
                            "version_minor": 0
                        },
                        "text/plain": [
                            "    - Epochs:   0%|          | 0/50 [00:00<?, ?it/s]"
                        ]
                    },
                    "metadata": {},
                    "output_type": "display_data"
                },
                {
                    "name": "stdout",
                    "output_type": "stream",
                    "text": [
                        "    - Fold finished. Best validation loss: 0.008800 at epoch 1\n",
                        "INFO: DataLoader will use 8 parallel workers.\n",
                        "INFO: Automatic Mixed Precision (AMP) is DISABLED (float32).\n"
                    ]
                },
                {
                    "data": {
                        "application/vnd.jupyter.widget-view+json": {
                            "model_id": "afdd163a47a44999adb882683b42517b",
                            "version_major": 2,
                            "version_minor": 0
                        },
                        "text/plain": [
                            "    - Epochs:   0%|          | 0/50 [00:00<?, ?it/s]"
                        ]
                    },
                    "metadata": {},
                    "output_type": "display_data"
                },
                {
                    "name": "stdout",
                    "output_type": "stream",
                    "text": [
                        "    - Fold finished. Best validation loss: 0.003718 at epoch 23\n",
                        "INFO: DataLoader will use 8 parallel workers.\n",
                        "INFO: Automatic Mixed Precision (AMP) is DISABLED (float32).\n"
                    ]
                },
                {
                    "data": {
                        "application/vnd.jupyter.widget-view+json": {
                            "model_id": "f6981222e8fe4efe9eb2a159a8339f51",
                            "version_major": 2,
                            "version_minor": 0
                        },
                        "text/plain": [
                            "    - Epochs:   0%|          | 0/50 [00:00<?, ?it/s]"
                        ]
                    },
                    "metadata": {},
                    "output_type": "display_data"
                },
                {
                    "name": "stdout",
                    "output_type": "stream",
                    "text": [
                        "    - Fold finished. Best validation loss: 0.005678 at epoch 30\n",
                        "INFO: DataLoader will use 8 parallel workers.\n",
                        "INFO: Automatic Mixed Precision (AMP) is DISABLED (float32).\n"
                    ]
                },
                {
                    "data": {
                        "application/vnd.jupyter.widget-view+json": {
                            "model_id": "d8083577fb2e406c864cd655749e82da",
                            "version_major": 2,
                            "version_minor": 0
                        },
                        "text/plain": [
                            "    - Epochs:   0%|          | 0/50 [00:00<?, ?it/s]"
                        ]
                    },
                    "metadata": {},
                    "output_type": "display_data"
                },
                {
                    "name": "stdout",
                    "output_type": "stream",
                    "text": [
                        "    - Fold finished. Best validation loss: 0.001027 at epoch 1\n",
                        "INFO: DataLoader will use 8 parallel workers.\n",
                        "INFO: Automatic Mixed Precision (AMP) is DISABLED (float32).\n"
                    ]
                },
                {
                    "data": {
                        "application/vnd.jupyter.widget-view+json": {
                            "model_id": "cbc317510637463abfad02221f708edd",
                            "version_major": 2,
                            "version_minor": 0
                        },
                        "text/plain": [
                            "    - Epochs:   0%|          | 0/50 [00:00<?, ?it/s]"
                        ]
                    },
                    "metadata": {},
                    "output_type": "display_data"
                },
                {
                    "name": "stdout",
                    "output_type": "stream",
                    "text": [
                        "    - Fold finished. Best validation loss: 0.002083 at epoch 8\n",
                        "INFO: DataLoader will use 8 parallel workers.\n",
                        "INFO: Automatic Mixed Precision (AMP) is DISABLED (float32).\n"
                    ]
                },
                {
                    "data": {
                        "application/vnd.jupyter.widget-view+json": {
                            "model_id": "cc3f0518afe648cba18029752017fb43",
                            "version_major": 2,
                            "version_minor": 0
                        },
                        "text/plain": [
                            "    - Epochs:   0%|          | 0/50 [00:00<?, ?it/s]"
                        ]
                    },
                    "metadata": {},
                    "output_type": "display_data"
                },
                {
                    "name": "stdout",
                    "output_type": "stream",
                    "text": [
                        "    - Fold finished. Best validation loss: 0.005581 at epoch 1\n",
                        "INFO: DataLoader will use 8 parallel workers.\n",
                        "INFO: Automatic Mixed Precision (AMP) is DISABLED (float32).\n"
                    ]
                },
                {
                    "data": {
                        "application/vnd.jupyter.widget-view+json": {
                            "model_id": "40580bada0f6457cba22f97c7ad5cdb2",
                            "version_major": 2,
                            "version_minor": 0
                        },
                        "text/plain": [
                            "    - Epochs:   0%|          | 0/50 [00:00<?, ?it/s]"
                        ]
                    },
                    "metadata": {},
                    "output_type": "display_data"
                },
                {
                    "name": "stdout",
                    "output_type": "stream",
                    "text": [
                        "    - Fold finished. Best validation loss: 0.005844 at epoch 4\n",
                        "INFO: DataLoader will use 8 parallel workers.\n",
                        "INFO: Automatic Mixed Precision (AMP) is DISABLED (float32).\n"
                    ]
                },
                {
                    "data": {
                        "application/vnd.jupyter.widget-view+json": {
                            "model_id": "e771d8e12f264ca59a066d7604983452",
                            "version_major": 2,
                            "version_minor": 0
                        },
                        "text/plain": [
                            "    - Epochs:   0%|          | 0/50 [00:00<?, ?it/s]"
                        ]
                    },
                    "metadata": {},
                    "output_type": "display_data"
                },
                {
                    "name": "stdout",
                    "output_type": "stream",
                    "text": [
                        "    - Fold finished. Best validation loss: 0.009084 at epoch 12\n",
                        "INFO: DataLoader will use 8 parallel workers.\n",
                        "INFO: Automatic Mixed Precision (AMP) is DISABLED (float32).\n"
                    ]
                },
                {
                    "data": {
                        "application/vnd.jupyter.widget-view+json": {
                            "model_id": "0a02e4ae61544c40a261d1c2201e4942",
                            "version_major": 2,
                            "version_minor": 0
                        },
                        "text/plain": [
                            "    - Epochs:   0%|          | 0/50 [00:00<?, ?it/s]"
                        ]
                    },
                    "metadata": {},
                    "output_type": "display_data"
                },
                {
                    "name": "stdout",
                    "output_type": "stream",
                    "text": [
                        "    - Fold finished. Best validation loss: 0.005056 at epoch 8\n",
                        "INFO: DataLoader will use 8 parallel workers.\n",
                        "INFO: Automatic Mixed Precision (AMP) is DISABLED (float32).\n"
                    ]
                },
                {
                    "data": {
                        "application/vnd.jupyter.widget-view+json": {
                            "model_id": "c0be8545c0ca4319abdfe0b44f95c3d3",
                            "version_major": 2,
                            "version_minor": 0
                        },
                        "text/plain": [
                            "    - Epochs:   0%|          | 0/50 [00:00<?, ?it/s]"
                        ]
                    },
                    "metadata": {},
                    "output_type": "display_data"
                },
                {
                    "name": "stdout",
                    "output_type": "stream",
                    "text": [
                        "    - Fold finished. Best validation loss: 0.001798 at epoch 7\n",
                        "INFO: DataLoader will use 8 parallel workers.\n",
                        "INFO: Automatic Mixed Precision (AMP) is DISABLED (float32).\n"
                    ]
                },
                {
                    "data": {
                        "application/vnd.jupyter.widget-view+json": {
                            "model_id": "1de418d8805f4ed8b0f3f3b5ac45f057",
                            "version_major": 2,
                            "version_minor": 0
                        },
                        "text/plain": [
                            "    - Epochs:   0%|          | 0/50 [00:00<?, ?it/s]"
                        ]
                    },
                    "metadata": {},
                    "output_type": "display_data"
                },
                {
                    "name": "stdout",
                    "output_type": "stream",
                    "text": [
                        "    - Fold finished. Best validation loss: 0.006512 at epoch 5\n",
                        "INFO: DataLoader will use 8 parallel workers.\n",
                        "INFO: Automatic Mixed Precision (AMP) is DISABLED (float32).\n"
                    ]
                },
                {
                    "data": {
                        "application/vnd.jupyter.widget-view+json": {
                            "model_id": "0f8a561aab6a4852bc14bceaf0cf8fbf",
                            "version_major": 2,
                            "version_minor": 0
                        },
                        "text/plain": [
                            "    - Epochs:   0%|          | 0/50 [00:00<?, ?it/s]"
                        ]
                    },
                    "metadata": {},
                    "output_type": "display_data"
                },
                {
                    "name": "stdout",
                    "output_type": "stream",
                    "text": [
                        "    - Fold finished. Best validation loss: 0.004264 at epoch 1\n",
                        "INFO: DataLoader will use 8 parallel workers.\n",
                        "INFO: Automatic Mixed Precision (AMP) is DISABLED (float32).\n"
                    ]
                },
                {
                    "data": {
                        "application/vnd.jupyter.widget-view+json": {
                            "model_id": "e9e539888ad24ad58e6cbfba395fd95b",
                            "version_major": 2,
                            "version_minor": 0
                        },
                        "text/plain": [
                            "    - Epochs:   0%|          | 0/50 [00:00<?, ?it/s]"
                        ]
                    },
                    "metadata": {},
                    "output_type": "display_data"
                },
                {
                    "name": "stdout",
                    "output_type": "stream",
                    "text": [
                        "    - Fold finished. Best validation loss: 0.023710 at epoch 2\n",
                        "INFO: DataLoader will use 8 parallel workers.\n",
                        "INFO: Automatic Mixed Precision (AMP) is DISABLED (float32).\n"
                    ]
                },
                {
                    "data": {
                        "application/vnd.jupyter.widget-view+json": {
                            "model_id": "96e5269c392143d09e69b98f7b1801f4",
                            "version_major": 2,
                            "version_minor": 0
                        },
                        "text/plain": [
                            "    - Epochs:   0%|          | 0/50 [00:00<?, ?it/s]"
                        ]
                    },
                    "metadata": {},
                    "output_type": "display_data"
                },
                {
                    "name": "stdout",
                    "output_type": "stream",
                    "text": [
                        "    - Fold finished. Best validation loss: 0.002796 at epoch 17\n",
                        "INFO: DataLoader will use 8 parallel workers.\n",
                        "INFO: Automatic Mixed Precision (AMP) is DISABLED (float32).\n"
                    ]
                },
                {
                    "data": {
                        "application/vnd.jupyter.widget-view+json": {
                            "model_id": "0fa9b0374f3249bb893f30bc86c92e8c",
                            "version_major": 2,
                            "version_minor": 0
                        },
                        "text/plain": [
                            "    - Epochs:   0%|          | 0/50 [00:00<?, ?it/s]"
                        ]
                    },
                    "metadata": {},
                    "output_type": "display_data"
                },
                {
                    "name": "stdout",
                    "output_type": "stream",
                    "text": [
                        "    - Fold finished. Best validation loss: 0.011729 at epoch 45\n",
                        "INFO: DataLoader will use 8 parallel workers.\n",
                        "INFO: Automatic Mixed Precision (AMP) is DISABLED (float32).\n"
                    ]
                },
                {
                    "data": {
                        "application/vnd.jupyter.widget-view+json": {
                            "model_id": "85df01b5ef7f4932a8fed84629129eb9",
                            "version_major": 2,
                            "version_minor": 0
                        },
                        "text/plain": [
                            "    - Epochs:   0%|          | 0/50 [00:00<?, ?it/s]"
                        ]
                    },
                    "metadata": {},
                    "output_type": "display_data"
                },
                {
                    "name": "stdout",
                    "output_type": "stream",
                    "text": [
                        "    - Fold finished. Best validation loss: 0.005381 at epoch 22\n",
                        "INFO: DataLoader will use 8 parallel workers.\n",
                        "INFO: Automatic Mixed Precision (AMP) is DISABLED (float32).\n"
                    ]
                },
                {
                    "data": {
                        "application/vnd.jupyter.widget-view+json": {
                            "model_id": "9c4b09d4fd2f46aa83dd15370d378a79",
                            "version_major": 2,
                            "version_minor": 0
                        },
                        "text/plain": [
                            "    - Epochs:   0%|          | 0/50 [00:00<?, ?it/s]"
                        ]
                    },
                    "metadata": {},
                    "output_type": "display_data"
                },
                {
                    "name": "stdout",
                    "output_type": "stream",
                    "text": [
                        "    - Fold finished. Best validation loss: 0.002484 at epoch 39\n",
                        "INFO: DataLoader will use 8 parallel workers.\n",
                        "INFO: Automatic Mixed Precision (AMP) is DISABLED (float32).\n"
                    ]
                },
                {
                    "data": {
                        "application/vnd.jupyter.widget-view+json": {
                            "model_id": "f76569063c1546e8a8e874af61abdda5",
                            "version_major": 2,
                            "version_minor": 0
                        },
                        "text/plain": [
                            "    - Epochs:   0%|          | 0/50 [00:00<?, ?it/s]"
                        ]
                    },
                    "metadata": {},
                    "output_type": "display_data"
                },
                {
                    "name": "stdout",
                    "output_type": "stream",
                    "text": [
                        "    - Fold finished. Best validation loss: 0.002761 at epoch 5\n",
                        "INFO: DataLoader will use 8 parallel workers.\n",
                        "INFO: Automatic Mixed Precision (AMP) is DISABLED (float32).\n"
                    ]
                },
                {
                    "data": {
                        "application/vnd.jupyter.widget-view+json": {
                            "model_id": "02ff764044ab49a19dcf0514192cb115",
                            "version_major": 2,
                            "version_minor": 0
                        },
                        "text/plain": [
                            "    - Epochs:   0%|          | 0/50 [00:00<?, ?it/s]"
                        ]
                    },
                    "metadata": {},
                    "output_type": "display_data"
                },
                {
                    "name": "stdout",
                    "output_type": "stream",
                    "text": [
                        "    - Fold finished. Best validation loss: 0.008294 at epoch 49\n",
                        "INFO: DataLoader will use 8 parallel workers.\n",
                        "INFO: Automatic Mixed Precision (AMP) is DISABLED (float32).\n"
                    ]
                },
                {
                    "data": {
                        "application/vnd.jupyter.widget-view+json": {
                            "model_id": "60b0cd6c7a544f34aff831bc1ab3291a",
                            "version_major": 2,
                            "version_minor": 0
                        },
                        "text/plain": [
                            "    - Epochs:   0%|          | 0/50 [00:00<?, ?it/s]"
                        ]
                    },
                    "metadata": {},
                    "output_type": "display_data"
                },
                {
                    "name": "stdout",
                    "output_type": "stream",
                    "text": [
                        "    - Fold finished. Best validation loss: 0.005930 at epoch 17\n",
                        "INFO: DataLoader will use 8 parallel workers.\n",
                        "INFO: Automatic Mixed Precision (AMP) is DISABLED (float32).\n"
                    ]
                },
                {
                    "data": {
                        "application/vnd.jupyter.widget-view+json": {
                            "model_id": "9e218d08bd32475389a915d95b8f8a6a",
                            "version_major": 2,
                            "version_minor": 0
                        },
                        "text/plain": [
                            "    - Epochs:   0%|          | 0/50 [00:00<?, ?it/s]"
                        ]
                    },
                    "metadata": {},
                    "output_type": "display_data"
                },
                {
                    "name": "stdout",
                    "output_type": "stream",
                    "text": [
                        "    - Fold finished. Best validation loss: 0.006144 at epoch 2\n",
                        "INFO: DataLoader will use 8 parallel workers.\n",
                        "INFO: Automatic Mixed Precision (AMP) is DISABLED (float32).\n"
                    ]
                },
                {
                    "data": {
                        "application/vnd.jupyter.widget-view+json": {
                            "model_id": "3e8cb2ae69ca4426b4591039d7a2f1f1",
                            "version_major": 2,
                            "version_minor": 0
                        },
                        "text/plain": [
                            "    - Epochs:   0%|          | 0/50 [00:00<?, ?it/s]"
                        ]
                    },
                    "metadata": {},
                    "output_type": "display_data"
                },
                {
                    "name": "stdout",
                    "output_type": "stream",
                    "text": [
                        "    - Fold finished. Best validation loss: 0.004259 at epoch 2\n",
                        "INFO: DataLoader will use 8 parallel workers.\n",
                        "INFO: Automatic Mixed Precision (AMP) is DISABLED (float32).\n"
                    ]
                },
                {
                    "data": {
                        "application/vnd.jupyter.widget-view+json": {
                            "model_id": "5a2519f6a32642379f1e8bf992bc2ed4",
                            "version_major": 2,
                            "version_minor": 0
                        },
                        "text/plain": [
                            "    - Epochs:   0%|          | 0/50 [00:00<?, ?it/s]"
                        ]
                    },
                    "metadata": {},
                    "output_type": "display_data"
                },
                {
                    "name": "stdout",
                    "output_type": "stream",
                    "text": [
                        "    - Fold finished. Best validation loss: 0.006115 at epoch 1\n",
                        "INFO: DataLoader will use 8 parallel workers.\n",
                        "INFO: Automatic Mixed Precision (AMP) is DISABLED (float32).\n"
                    ]
                },
                {
                    "data": {
                        "application/vnd.jupyter.widget-view+json": {
                            "model_id": "4a41c9b31e2242e598e7bcd967bcb4f0",
                            "version_major": 2,
                            "version_minor": 0
                        },
                        "text/plain": [
                            "    - Epochs:   0%|          | 0/50 [00:00<?, ?it/s]"
                        ]
                    },
                    "metadata": {},
                    "output_type": "display_data"
                },
                {
                    "name": "stdout",
                    "output_type": "stream",
                    "text": [
                        "    - Fold finished. Best validation loss: 0.000950 at epoch 6\n",
                        "INFO: DataLoader will use 8 parallel workers.\n",
                        "INFO: Automatic Mixed Precision (AMP) is DISABLED (float32).\n"
                    ]
                },
                {
                    "data": {
                        "application/vnd.jupyter.widget-view+json": {
                            "model_id": "953e629ae8ef43c5b047aa6f6e9fbd80",
                            "version_major": 2,
                            "version_minor": 0
                        },
                        "text/plain": [
                            "    - Epochs:   0%|          | 0/50 [00:00<?, ?it/s]"
                        ]
                    },
                    "metadata": {},
                    "output_type": "display_data"
                },
                {
                    "name": "stdout",
                    "output_type": "stream",
                    "text": [
                        "    - Fold finished. Best validation loss: 0.004352 at epoch 3\n",
                        "INFO: DataLoader will use 8 parallel workers.\n",
                        "INFO: Automatic Mixed Precision (AMP) is DISABLED (float32).\n"
                    ]
                },
                {
                    "data": {
                        "application/vnd.jupyter.widget-view+json": {
                            "model_id": "f16f6de7e03448fc852cdec9f9d9061c",
                            "version_major": 2,
                            "version_minor": 0
                        },
                        "text/plain": [
                            "    - Epochs:   0%|          | 0/50 [00:00<?, ?it/s]"
                        ]
                    },
                    "metadata": {},
                    "output_type": "display_data"
                },
                {
                    "name": "stdout",
                    "output_type": "stream",
                    "text": [
                        "    - Fold finished. Best validation loss: 0.004941 at epoch 1\n",
                        "INFO: DataLoader will use 8 parallel workers.\n",
                        "INFO: Automatic Mixed Precision (AMP) is DISABLED (float32).\n"
                    ]
                },
                {
                    "data": {
                        "application/vnd.jupyter.widget-view+json": {
                            "model_id": "c60f2cfb473f46c29aad9f0933cbf941",
                            "version_major": 2,
                            "version_minor": 0
                        },
                        "text/plain": [
                            "    - Epochs:   0%|          | 0/50 [00:00<?, ?it/s]"
                        ]
                    },
                    "metadata": {},
                    "output_type": "display_data"
                },
                {
                    "name": "stdout",
                    "output_type": "stream",
                    "text": [
                        "    - Fold finished. Best validation loss: 0.003328 at epoch 1\n",
                        "INFO: DataLoader will use 8 parallel workers.\n",
                        "INFO: Automatic Mixed Precision (AMP) is DISABLED (float32).\n"
                    ]
                },
                {
                    "data": {
                        "application/vnd.jupyter.widget-view+json": {
                            "model_id": "e4fda02053254e609ab4da6f76308989",
                            "version_major": 2,
                            "version_minor": 0
                        },
                        "text/plain": [
                            "    - Epochs:   0%|          | 0/50 [00:00<?, ?it/s]"
                        ]
                    },
                    "metadata": {},
                    "output_type": "display_data"
                },
                {
                    "name": "stdout",
                    "output_type": "stream",
                    "text": [
                        "    - Fold finished. Best validation loss: 0.011527 at epoch 4\n",
                        "INFO: DataLoader will use 8 parallel workers.\n",
                        "INFO: Automatic Mixed Precision (AMP) is DISABLED (float32).\n"
                    ]
                },
                {
                    "data": {
                        "application/vnd.jupyter.widget-view+json": {
                            "model_id": "6c50a136c7304a8cb443c6d55fb1ba41",
                            "version_major": 2,
                            "version_minor": 0
                        },
                        "text/plain": [
                            "    - Epochs:   0%|          | 0/50 [00:00<?, ?it/s]"
                        ]
                    },
                    "metadata": {},
                    "output_type": "display_data"
                },
                {
                    "name": "stdout",
                    "output_type": "stream",
                    "text": [
                        "    - Fold finished. Best validation loss: 0.003163 at epoch 29\n",
                        "INFO: DataLoader will use 8 parallel workers.\n",
                        "INFO: Automatic Mixed Precision (AMP) is DISABLED (float32).\n"
                    ]
                },
                {
                    "data": {
                        "application/vnd.jupyter.widget-view+json": {
                            "model_id": "6e905135759b4561a0c6bd68b00efbe0",
                            "version_major": 2,
                            "version_minor": 0
                        },
                        "text/plain": [
                            "    - Epochs:   0%|          | 0/50 [00:00<?, ?it/s]"
                        ]
                    },
                    "metadata": {},
                    "output_type": "display_data"
                },
                {
                    "name": "stdout",
                    "output_type": "stream",
                    "text": [
                        "    - Fold finished. Best validation loss: 0.007273 at epoch 29\n",
                        "INFO: DataLoader will use 8 parallel workers.\n",
                        "INFO: Automatic Mixed Precision (AMP) is DISABLED (float32).\n"
                    ]
                },
                {
                    "data": {
                        "application/vnd.jupyter.widget-view+json": {
                            "model_id": "e1e27e769f454c8da1e2c24567ef0f2d",
                            "version_major": 2,
                            "version_minor": 0
                        },
                        "text/plain": [
                            "    - Epochs:   0%|          | 0/50 [00:00<?, ?it/s]"
                        ]
                    },
                    "metadata": {},
                    "output_type": "display_data"
                },
                {
                    "name": "stdout",
                    "output_type": "stream",
                    "text": [
                        "    - Fold finished. Best validation loss: 0.010580 at epoch 21\n",
                        "INFO: DataLoader will use 8 parallel workers.\n",
                        "INFO: Automatic Mixed Precision (AMP) is DISABLED (float32).\n"
                    ]
                },
                {
                    "data": {
                        "application/vnd.jupyter.widget-view+json": {
                            "model_id": "5bf2c385d1664d309ac648da7a6bfc57",
                            "version_major": 2,
                            "version_minor": 0
                        },
                        "text/plain": [
                            "    - Epochs:   0%|          | 0/50 [00:00<?, ?it/s]"
                        ]
                    },
                    "metadata": {},
                    "output_type": "display_data"
                },
                {
                    "name": "stdout",
                    "output_type": "stream",
                    "text": [
                        "    - Fold finished. Best validation loss: 0.005146 at epoch 1\n",
                        "INFO: DataLoader will use 8 parallel workers.\n",
                        "INFO: Automatic Mixed Precision (AMP) is DISABLED (float32).\n"
                    ]
                },
                {
                    "data": {
                        "application/vnd.jupyter.widget-view+json": {
                            "model_id": "6a9d0c8d8b6b40988ea109bf945470f9",
                            "version_major": 2,
                            "version_minor": 0
                        },
                        "text/plain": [
                            "    - Epochs:   0%|          | 0/50 [00:00<?, ?it/s]"
                        ]
                    },
                    "metadata": {},
                    "output_type": "display_data"
                },
                {
                    "name": "stdout",
                    "output_type": "stream",
                    "text": [
                        "    - Fold finished. Best validation loss: 0.007071 at epoch 1\n",
                        "INFO: DataLoader will use 8 parallel workers.\n",
                        "INFO: Automatic Mixed Precision (AMP) is DISABLED (float32).\n"
                    ]
                },
                {
                    "data": {
                        "application/vnd.jupyter.widget-view+json": {
                            "model_id": "082c3b9d700e4d7889d753061b00dcca",
                            "version_major": 2,
                            "version_minor": 0
                        },
                        "text/plain": [
                            "    - Epochs:   0%|          | 0/50 [00:00<?, ?it/s]"
                        ]
                    },
                    "metadata": {},
                    "output_type": "display_data"
                },
                {
                    "name": "stdout",
                    "output_type": "stream",
                    "text": [
                        "    - Fold finished. Best validation loss: 0.000789 at epoch 20\n",
                        "INFO: DataLoader will use 8 parallel workers.\n",
                        "INFO: Automatic Mixed Precision (AMP) is DISABLED (float32).\n"
                    ]
                },
                {
                    "data": {
                        "application/vnd.jupyter.widget-view+json": {
                            "model_id": "76a4498460cd47beab0a6f1d419264f4",
                            "version_major": 2,
                            "version_minor": 0
                        },
                        "text/plain": [
                            "    - Epochs:   0%|          | 0/50 [00:00<?, ?it/s]"
                        ]
                    },
                    "metadata": {},
                    "output_type": "display_data"
                },
                {
                    "name": "stdout",
                    "output_type": "stream",
                    "text": [
                        "    - Fold finished. Best validation loss: 0.000521 at epoch 13\n",
                        "INFO: DataLoader will use 8 parallel workers.\n",
                        "INFO: Automatic Mixed Precision (AMP) is DISABLED (float32).\n"
                    ]
                },
                {
                    "data": {
                        "application/vnd.jupyter.widget-view+json": {
                            "model_id": "0940599c29ed49f2a68206c1f6c6bd71",
                            "version_major": 2,
                            "version_minor": 0
                        },
                        "text/plain": [
                            "    - Epochs:   0%|          | 0/50 [00:00<?, ?it/s]"
                        ]
                    },
                    "metadata": {},
                    "output_type": "display_data"
                },
                {
                    "name": "stdout",
                    "output_type": "stream",
                    "text": [
                        "    - Fold finished. Best validation loss: 0.001146 at epoch 3\n",
                        "INFO: DataLoader will use 8 parallel workers.\n",
                        "INFO: Automatic Mixed Precision (AMP) is DISABLED (float32).\n"
                    ]
                },
                {
                    "data": {
                        "application/vnd.jupyter.widget-view+json": {
                            "model_id": "e341add45d0f4d77971f95d49dfa0bda",
                            "version_major": 2,
                            "version_minor": 0
                        },
                        "text/plain": [
                            "    - Epochs:   0%|          | 0/50 [00:00<?, ?it/s]"
                        ]
                    },
                    "metadata": {},
                    "output_type": "display_data"
                },
                {
                    "name": "stdout",
                    "output_type": "stream",
                    "text": [
                        "    - Fold finished. Best validation loss: 0.010804 at epoch 1\n",
                        "INFO: DataLoader will use 8 parallel workers.\n",
                        "INFO: Automatic Mixed Precision (AMP) is DISABLED (float32).\n"
                    ]
                },
                {
                    "data": {
                        "application/vnd.jupyter.widget-view+json": {
                            "model_id": "3e66116392e94dedb7379f0a59aaaa3e",
                            "version_major": 2,
                            "version_minor": 0
                        },
                        "text/plain": [
                            "    - Epochs:   0%|          | 0/50 [00:00<?, ?it/s]"
                        ]
                    },
                    "metadata": {},
                    "output_type": "display_data"
                },
                {
                    "name": "stdout",
                    "output_type": "stream",
                    "text": [
                        "    - Fold finished. Best validation loss: 0.003592 at epoch 43\n",
                        "INFO: DataLoader will use 8 parallel workers.\n",
                        "INFO: Automatic Mixed Precision (AMP) is DISABLED (float32).\n"
                    ]
                },
                {
                    "data": {
                        "application/vnd.jupyter.widget-view+json": {
                            "model_id": "4fe167beb19b4cfba0bf9aa0f65e3e5d",
                            "version_major": 2,
                            "version_minor": 0
                        },
                        "text/plain": [
                            "    - Epochs:   0%|          | 0/50 [00:00<?, ?it/s]"
                        ]
                    },
                    "metadata": {},
                    "output_type": "display_data"
                },
                {
                    "name": "stdout",
                    "output_type": "stream",
                    "text": [
                        "    - Fold finished. Best validation loss: 0.005932 at epoch 30\n",
                        "INFO: DataLoader will use 8 parallel workers.\n",
                        "INFO: Automatic Mixed Precision (AMP) is DISABLED (float32).\n"
                    ]
                },
                {
                    "data": {
                        "application/vnd.jupyter.widget-view+json": {
                            "model_id": "3424d18996404632b30f7c08f735b252",
                            "version_major": 2,
                            "version_minor": 0
                        },
                        "text/plain": [
                            "    - Epochs:   0%|          | 0/50 [00:00<?, ?it/s]"
                        ]
                    },
                    "metadata": {},
                    "output_type": "display_data"
                },
                {
                    "name": "stdout",
                    "output_type": "stream",
                    "text": [
                        "    - Fold finished. Best validation loss: 0.002038 at epoch 7\n",
                        "INFO: DataLoader will use 8 parallel workers.\n",
                        "INFO: Automatic Mixed Precision (AMP) is DISABLED (float32).\n"
                    ]
                },
                {
                    "data": {
                        "application/vnd.jupyter.widget-view+json": {
                            "model_id": "f0ccd056da2d4ad98b2f3fbb5aa6906c",
                            "version_major": 2,
                            "version_minor": 0
                        },
                        "text/plain": [
                            "    - Epochs:   0%|          | 0/50 [00:00<?, ?it/s]"
                        ]
                    },
                    "metadata": {},
                    "output_type": "display_data"
                },
                {
                    "name": "stdout",
                    "output_type": "stream",
                    "text": [
                        "    - Fold finished. Best validation loss: 0.002818 at epoch 50\n",
                        "INFO: DataLoader will use 8 parallel workers.\n",
                        "INFO: Automatic Mixed Precision (AMP) is DISABLED (float32).\n"
                    ]
                },
                {
                    "data": {
                        "application/vnd.jupyter.widget-view+json": {
                            "model_id": "f3e4f5d34be047f7a9770a321f9e8015",
                            "version_major": 2,
                            "version_minor": 0
                        },
                        "text/plain": [
                            "    - Epochs:   0%|          | 0/50 [00:00<?, ?it/s]"
                        ]
                    },
                    "metadata": {},
                    "output_type": "display_data"
                },
                {
                    "name": "stdout",
                    "output_type": "stream",
                    "text": [
                        "    - Fold finished. Best validation loss: 0.000849 at epoch 15\n",
                        "INFO: DataLoader will use 8 parallel workers.\n",
                        "INFO: Automatic Mixed Precision (AMP) is DISABLED (float32).\n"
                    ]
                },
                {
                    "data": {
                        "application/vnd.jupyter.widget-view+json": {
                            "model_id": "4f445d5ff91a4ec08616079c88416f28",
                            "version_major": 2,
                            "version_minor": 0
                        },
                        "text/plain": [
                            "    - Epochs:   0%|          | 0/50 [00:00<?, ?it/s]"
                        ]
                    },
                    "metadata": {},
                    "output_type": "display_data"
                },
                {
                    "name": "stdout",
                    "output_type": "stream",
                    "text": [
                        "    - Fold finished. Best validation loss: 0.001003 at epoch 9\n",
                        "INFO: DataLoader will use 8 parallel workers.\n",
                        "INFO: Automatic Mixed Precision (AMP) is DISABLED (float32).\n"
                    ]
                },
                {
                    "data": {
                        "application/vnd.jupyter.widget-view+json": {
                            "model_id": "85bcee61b6f440a085ebfc370faa1663",
                            "version_major": 2,
                            "version_minor": 0
                        },
                        "text/plain": [
                            "    - Epochs:   0%|          | 0/50 [00:00<?, ?it/s]"
                        ]
                    },
                    "metadata": {},
                    "output_type": "display_data"
                },
                {
                    "name": "stdout",
                    "output_type": "stream",
                    "text": [
                        "    - Fold finished. Best validation loss: 0.000408 at epoch 2\n",
                        "INFO: DataLoader will use 8 parallel workers.\n",
                        "INFO: Automatic Mixed Precision (AMP) is DISABLED (float32).\n"
                    ]
                },
                {
                    "data": {
                        "application/vnd.jupyter.widget-view+json": {
                            "model_id": "c01e328b24dd4b7db80c677cf215da46",
                            "version_major": 2,
                            "version_minor": 0
                        },
                        "text/plain": [
                            "    - Epochs:   0%|          | 0/50 [00:00<?, ?it/s]"
                        ]
                    },
                    "metadata": {},
                    "output_type": "display_data"
                },
                {
                    "name": "stdout",
                    "output_type": "stream",
                    "text": [
                        "    - Fold finished. Best validation loss: 0.013472 at epoch 43\n",
                        "INFO: DataLoader will use 8 parallel workers.\n",
                        "INFO: Automatic Mixed Precision (AMP) is DISABLED (float32).\n"
                    ]
                },
                {
                    "data": {
                        "application/vnd.jupyter.widget-view+json": {
                            "model_id": "c765b5e362834ffe8d71aa0402b6a280",
                            "version_major": 2,
                            "version_minor": 0
                        },
                        "text/plain": [
                            "    - Epochs:   0%|          | 0/50 [00:00<?, ?it/s]"
                        ]
                    },
                    "metadata": {},
                    "output_type": "display_data"
                },
                {
                    "name": "stdout",
                    "output_type": "stream",
                    "text": [
                        "    - Fold finished. Best validation loss: 0.001586 at epoch 17\n",
                        "INFO: DataLoader will use 8 parallel workers.\n",
                        "INFO: Automatic Mixed Precision (AMP) is DISABLED (float32).\n"
                    ]
                },
                {
                    "data": {
                        "application/vnd.jupyter.widget-view+json": {
                            "model_id": "05eb8abfc5374841a7a48a08143b5356",
                            "version_major": 2,
                            "version_minor": 0
                        },
                        "text/plain": [
                            "    - Epochs:   0%|          | 0/50 [00:00<?, ?it/s]"
                        ]
                    },
                    "metadata": {},
                    "output_type": "display_data"
                },
                {
                    "name": "stdout",
                    "output_type": "stream",
                    "text": [
                        "    - Fold finished. Best validation loss: 0.000598 at epoch 1\n",
                        "INFO: DataLoader will use 8 parallel workers.\n",
                        "INFO: Automatic Mixed Precision (AMP) is DISABLED (float32).\n"
                    ]
                },
                {
                    "data": {
                        "application/vnd.jupyter.widget-view+json": {
                            "model_id": "0cf6b2b357244f36871f8ffdd3e85e76",
                            "version_major": 2,
                            "version_minor": 0
                        },
                        "text/plain": [
                            "    - Epochs:   0%|          | 0/50 [00:00<?, ?it/s]"
                        ]
                    },
                    "metadata": {},
                    "output_type": "display_data"
                },
                {
                    "name": "stdout",
                    "output_type": "stream",
                    "text": [
                        "    - Fold finished. Best validation loss: 0.001893 at epoch 3\n",
                        "INFO: DataLoader will use 8 parallel workers.\n",
                        "INFO: Automatic Mixed Precision (AMP) is DISABLED (float32).\n"
                    ]
                },
                {
                    "data": {
                        "application/vnd.jupyter.widget-view+json": {
                            "model_id": "2b037c0aea0e4dafa6ba887c6f7674c3",
                            "version_major": 2,
                            "version_minor": 0
                        },
                        "text/plain": [
                            "    - Epochs:   0%|          | 0/50 [00:00<?, ?it/s]"
                        ]
                    },
                    "metadata": {},
                    "output_type": "display_data"
                },
                {
                    "name": "stdout",
                    "output_type": "stream",
                    "text": [
                        "    - Fold finished. Best validation loss: 0.001834 at epoch 1\n",
                        "INFO: DataLoader will use 8 parallel workers.\n",
                        "INFO: Automatic Mixed Precision (AMP) is DISABLED (float32).\n"
                    ]
                },
                {
                    "data": {
                        "application/vnd.jupyter.widget-view+json": {
                            "model_id": "5261da283ea94d76845325a2011b21b5",
                            "version_major": 2,
                            "version_minor": 0
                        },
                        "text/plain": [
                            "    - Epochs:   0%|          | 0/50 [00:00<?, ?it/s]"
                        ]
                    },
                    "metadata": {},
                    "output_type": "display_data"
                },
                {
                    "name": "stdout",
                    "output_type": "stream",
                    "text": [
                        "    - Fold finished. Best validation loss: 0.000954 at epoch 3\n",
                        "INFO: DataLoader will use 8 parallel workers.\n",
                        "INFO: Automatic Mixed Precision (AMP) is DISABLED (float32).\n"
                    ]
                },
                {
                    "data": {
                        "application/vnd.jupyter.widget-view+json": {
                            "model_id": "b654538e28a64e94a9036697c7d5459e",
                            "version_major": 2,
                            "version_minor": 0
                        },
                        "text/plain": [
                            "    - Epochs:   0%|          | 0/50 [00:00<?, ?it/s]"
                        ]
                    },
                    "metadata": {},
                    "output_type": "display_data"
                },
                {
                    "name": "stdout",
                    "output_type": "stream",
                    "text": [
                        "    - Fold finished. Best validation loss: 0.011799 at epoch 1\n",
                        "INFO: DataLoader will use 8 parallel workers.\n",
                        "INFO: Automatic Mixed Precision (AMP) is DISABLED (float32).\n"
                    ]
                },
                {
                    "data": {
                        "application/vnd.jupyter.widget-view+json": {
                            "model_id": "8ea5b5728ea942c9bea11342e4e3d1d8",
                            "version_major": 2,
                            "version_minor": 0
                        },
                        "text/plain": [
                            "    - Epochs:   0%|          | 0/50 [00:00<?, ?it/s]"
                        ]
                    },
                    "metadata": {},
                    "output_type": "display_data"
                },
                {
                    "name": "stdout",
                    "output_type": "stream",
                    "text": [
                        "    - Fold finished. Best validation loss: 0.000602 at epoch 8\n",
                        "INFO: DataLoader will use 8 parallel workers.\n",
                        "INFO: Automatic Mixed Precision (AMP) is DISABLED (float32).\n"
                    ]
                },
                {
                    "data": {
                        "application/vnd.jupyter.widget-view+json": {
                            "model_id": "2061037afbf44d9aa399b10d164e5342",
                            "version_major": 2,
                            "version_minor": 0
                        },
                        "text/plain": [
                            "    - Epochs:   0%|          | 0/50 [00:00<?, ?it/s]"
                        ]
                    },
                    "metadata": {},
                    "output_type": "display_data"
                },
                {
                    "name": "stdout",
                    "output_type": "stream",
                    "text": [
                        "    - Fold finished. Best validation loss: 0.000456 at epoch 7\n",
                        "SUCCESS: Out-of-Fold predictions saved to models\\000001.SZ\\lstm_oof_preds.csv\n",
                        "INFO: Training final model for 平安银行 (000001.SZ) on all data...\n"
                    ]
                },
                {
                    "data": {
                        "application/vnd.jupyter.widget-view+json": {
                            "model_id": "6e7db4a58020424d834a92f8edeecd77",
                            "version_major": 2,
                            "version_minor": 0
                        },
                        "text/plain": [
                            "    - Final Model Epochs:   0%|          | 0/50 [00:00<?, ?it/s]"
                        ]
                    },
                    "metadata": {},
                    "output_type": "display_data"
                },
                {
                    "name": "stdout",
                    "output_type": "stream",
                    "text": [
                        "    - Final model training finished after 50 epochs.\n",
                        "\n",
                        "================================================================================\n",
                        "--- Starting LGBM training for TCL科技 (000100.SZ) ---\n",
                        "INFO: Starting Walk-Forward validation for TCL科技 across 98 folds...\n"
                    ]
                },
                {
                    "data": {
                        "application/vnd.jupyter.widget-view+json": {
                            "model_id": "3f34cf7332b946deb0f2e4c78c6fd8e2",
                            "version_major": 2,
                            "version_minor": 0
                        },
                        "text/plain": [
                            "Training LGBM on TCL科技:   0%|          | 0/98 [00:00<?, ?it/s]"
                        ]
                    },
                    "metadata": {},
                    "output_type": "display_data"
                },
                {
                    "name": "stdout",
                    "output_type": "stream",
                    "text": [
                        "    - Quantile 0.05: Finished. Best iter: [149]\n",
                        "    - Quantile 0.5: Finished. Best iter: [681]\n",
                        "    - Quantile 0.95: Finished. Best iter: [681]\n",
                        "    - Quantile 0.05: Finished. Best iter: [36]\n",
                        "    - Quantile 0.5: Finished. Best iter: [36]\n",
                        "    - Quantile 0.95: Finished. Best iter: [36]\n",
                        "    - Quantile 0.05: Finished. Best iter: [1]\n",
                        "    - Quantile 0.5: Finished. Best iter: [5]\n",
                        "    - Quantile 0.95: Finished. Best iter: [5]\n",
                        "    - Quantile 0.05: Finished. Best iter: [17014]\n",
                        "    - Quantile 0.5: Finished. Best iter: [17014]\n",
                        "    - Quantile 0.95: Finished. Best iter: [17014]\n",
                        "    - Quantile 0.05: Finished. Best iter: [1]\n",
                        "    - Quantile 0.5: Finished. Best iter: [1]\n",
                        "    - Quantile 0.95: Finished. Best iter: [1]\n"
                    ]
                },
                {
                    "name": "stderr",
                    "output_type": "stream",
                    "text": [
                        "d:\\Project\\Command\\Python\\Neural\\Wolf_of_Wall_Street\\.venv\\Lib\\site-packages\\pandas\\core\\nanops.py:1632: ConstantInputWarning: An input array is constant; the correlation coefficient is not defined.\n",
                        "  return spearmanr(a, b)[0]\n"
                    ]
                },
                {
                    "name": "stdout",
                    "output_type": "stream",
                    "text": [
                        "    - Quantile 0.05: Finished. Best iter: [49423]\n",
                        "    - Quantile 0.5: Finished. Best iter: [49423]\n",
                        "    - Quantile 0.95: Finished. Best iter: [247]\n",
                        "    - Quantile 0.05: Finished. Best iter: [26]\n",
                        "    - Quantile 0.5: Finished. Best iter: [26]\n",
                        "    - Quantile 0.95: Finished. Best iter: [26]\n",
                        "    - Quantile 0.05: Finished. Best iter: [2]\n",
                        "    - Quantile 0.5: Finished. Best iter: [27]\n",
                        "    - Quantile 0.95: Finished. Best iter: [27]\n",
                        "    - Quantile 0.05: Finished. Best iter: [1]\n",
                        "    - Quantile 0.5: Finished. Best iter: [1]\n",
                        "    - Quantile 0.95: Finished. Best iter: [1]\n",
                        "    - Quantile 0.05: Finished. Best iter: [3449]\n",
                        "    - Quantile 0.5: Finished. Best iter: [30818]\n",
                        "    - Quantile 0.95: Finished. Best iter: [30657]\n",
                        "    - Quantile 0.05: Finished. Best iter: [28]\n",
                        "    - Quantile 0.5: Finished. Best iter: [49588]\n",
                        "    - Quantile 0.95: Finished. Best iter: [49588]\n",
                        "    - Quantile 0.05: Finished. Best iter: [67]\n",
                        "    - Quantile 0.5: Finished. Best iter: [67]\n",
                        "    - Quantile 0.95: Finished. Best iter: [17]\n",
                        "    - Quantile 0.05: Finished. Best iter: [48454]\n",
                        "    - Quantile 0.5: Finished. Best iter: [48454]\n",
                        "    - Quantile 0.95: Finished. Best iter: [2101]\n",
                        "    - Quantile 0.05: Finished. Best iter: [35]\n",
                        "    - Quantile 0.5: Finished. Best iter: [35]\n",
                        "    - Quantile 0.95: Finished. Best iter: [5]\n",
                        "    - Quantile 0.05: Finished. Best iter: [36]\n",
                        "    - Quantile 0.5: Finished. Best iter: [36]\n",
                        "    - Quantile 0.95: Finished. Best iter: [36]\n",
                        "    - Quantile 0.05: Finished. Best iter: [1]\n",
                        "    - Quantile 0.5: Finished. Best iter: [1]\n",
                        "    - Quantile 0.95: Finished. Best iter: [1]\n",
                        "    - Quantile 0.05: Finished. Best iter: [1]\n",
                        "    - Quantile 0.5: Finished. Best iter: [1]\n",
                        "    - Quantile 0.95: Finished. Best iter: [1]\n"
                    ]
                },
                {
                    "name": "stderr",
                    "output_type": "stream",
                    "text": [
                        "d:\\Project\\Command\\Python\\Neural\\Wolf_of_Wall_Street\\.venv\\Lib\\site-packages\\pandas\\core\\nanops.py:1632: ConstantInputWarning: An input array is constant; the correlation coefficient is not defined.\n",
                        "  return spearmanr(a, b)[0]\n"
                    ]
                },
                {
                    "name": "stdout",
                    "output_type": "stream",
                    "text": [
                        "    - Quantile 0.05: Finished. Best iter: [1]\n",
                        "    - Quantile 0.5: Finished. Best iter: [2]\n",
                        "    - Quantile 0.95: Finished. Best iter: [3]\n",
                        "    - Quantile 0.05: Finished. Best iter: [49966]\n",
                        "    - Quantile 0.5: Finished. Best iter: [49802]\n",
                        "    - Quantile 0.95: Finished. Best iter: [49802]\n",
                        "    - Quantile 0.05: Finished. Best iter: [1]\n",
                        "    - Quantile 0.5: Finished. Best iter: [8]\n",
                        "    - Quantile 0.95: Finished. Best iter: [13]\n"
                    ]
                },
                {
                    "name": "stderr",
                    "output_type": "stream",
                    "text": [
                        "d:\\Project\\Command\\Python\\Neural\\Wolf_of_Wall_Street\\.venv\\Lib\\site-packages\\pandas\\core\\nanops.py:1632: ConstantInputWarning: An input array is constant; the correlation coefficient is not defined.\n",
                        "  return spearmanr(a, b)[0]\n"
                    ]
                },
                {
                    "name": "stdout",
                    "output_type": "stream",
                    "text": [
                        "    - Quantile 0.05: Finished. Best iter: [1]\n",
                        "    - Quantile 0.5: Finished. Best iter: [1]\n",
                        "    - Quantile 0.95: Finished. Best iter: [1]\n",
                        "    - Quantile 0.05: Finished. Best iter: [64]\n",
                        "    - Quantile 0.5: Finished. Best iter: [64]\n",
                        "    - Quantile 0.95: Finished. Best iter: [64]\n",
                        "    - Quantile 0.05: Finished. Best iter: [236]\n",
                        "    - Quantile 0.5: Finished. Best iter: [236]\n",
                        "    - Quantile 0.95: Finished. Best iter: [19539]\n",
                        "    - Quantile 0.05: Finished. Best iter: [192]\n",
                        "    - Quantile 0.5: Finished. Best iter: [6382]\n",
                        "    - Quantile 0.95: Finished. Best iter: [2]\n",
                        "    - Quantile 0.05: Finished. Best iter: [187]\n",
                        "    - Quantile 0.5: Finished. Best iter: [179]\n",
                        "    - Quantile 0.95: Finished. Best iter: [2]\n",
                        "    - Quantile 0.05: Finished. Best iter: [1]\n",
                        "    - Quantile 0.5: Finished. Best iter: [5]\n",
                        "    - Quantile 0.95: Finished. Best iter: [5]\n",
                        "    - Quantile 0.05: Finished. Best iter: [1]\n",
                        "    - Quantile 0.5: Finished. Best iter: [1]\n",
                        "    - Quantile 0.95: Finished. Best iter: [1]\n"
                    ]
                },
                {
                    "name": "stderr",
                    "output_type": "stream",
                    "text": [
                        "d:\\Project\\Command\\Python\\Neural\\Wolf_of_Wall_Street\\.venv\\Lib\\site-packages\\pandas\\core\\nanops.py:1632: ConstantInputWarning: An input array is constant; the correlation coefficient is not defined.\n",
                        "  return spearmanr(a, b)[0]\n"
                    ]
                },
                {
                    "name": "stdout",
                    "output_type": "stream",
                    "text": [
                        "    - Quantile 0.05: Finished. Best iter: [331]\n",
                        "    - Quantile 0.5: Finished. Best iter: [331]\n",
                        "    - Quantile 0.95: Finished. Best iter: [277]\n",
                        "    - Quantile 0.05: Finished. Best iter: [34]\n",
                        "    - Quantile 0.5: Finished. Best iter: [34]\n",
                        "    - Quantile 0.95: Finished. Best iter: [1]\n",
                        "    - Quantile 0.05: Finished. Best iter: [1]\n",
                        "    - Quantile 0.5: Finished. Best iter: [1]\n",
                        "    - Quantile 0.95: Finished. Best iter: [1]\n"
                    ]
                },
                {
                    "name": "stderr",
                    "output_type": "stream",
                    "text": [
                        "d:\\Project\\Command\\Python\\Neural\\Wolf_of_Wall_Street\\.venv\\Lib\\site-packages\\pandas\\core\\nanops.py:1632: ConstantInputWarning: An input array is constant; the correlation coefficient is not defined.\n",
                        "  return spearmanr(a, b)[0]\n"
                    ]
                },
                {
                    "name": "stdout",
                    "output_type": "stream",
                    "text": [
                        "    - Quantile 0.05: Finished. Best iter: [2324]\n",
                        "    - Quantile 0.5: Finished. Best iter: [35835]\n",
                        "    - Quantile 0.95: Finished. Best iter: [49982]\n",
                        "    - Quantile 0.05: Finished. Best iter: [1]\n",
                        "    - Quantile 0.5: Finished. Best iter: [1]\n",
                        "    - Quantile 0.95: Finished. Best iter: [1]\n",
                        "    - Quantile 0.05: Finished. Best iter: [4868]\n",
                        "    - Quantile 0.5: Finished. Best iter: [3965]\n",
                        "    - Quantile 0.95: Finished. Best iter: [3965]\n",
                        "    - Quantile 0.05: Finished. Best iter: [1]\n",
                        "    - Quantile 0.5: Finished. Best iter: [1]\n",
                        "    - Quantile 0.95: Finished. Best iter: [1]\n",
                        "    - Quantile 0.05: Finished. Best iter: [1]\n",
                        "    - Quantile 0.5: Finished. Best iter: [1]\n",
                        "    - Quantile 0.95: Finished. Best iter: [1]\n",
                        "    - Quantile 0.05: Finished. Best iter: [1]\n",
                        "    - Quantile 0.5: Finished. Best iter: [1]\n",
                        "    - Quantile 0.95: Finished. Best iter: [1]\n"
                    ]
                },
                {
                    "name": "stderr",
                    "output_type": "stream",
                    "text": [
                        "d:\\Project\\Command\\Python\\Neural\\Wolf_of_Wall_Street\\.venv\\Lib\\site-packages\\pandas\\core\\nanops.py:1632: ConstantInputWarning: An input array is constant; the correlation coefficient is not defined.\n",
                        "  return spearmanr(a, b)[0]\n"
                    ]
                },
                {
                    "name": "stdout",
                    "output_type": "stream",
                    "text": [
                        "    - Quantile 0.05: Finished. Best iter: [192]\n",
                        "    - Quantile 0.5: Finished. Best iter: [192]\n",
                        "    - Quantile 0.95: Finished. Best iter: [192]\n",
                        "    - Quantile 0.05: Finished. Best iter: [42366]\n",
                        "    - Quantile 0.5: Finished. Best iter: [22009]\n",
                        "    - Quantile 0.95: Finished. Best iter: [42366]\n",
                        "    - Quantile 0.05: Finished. Best iter: [633]\n",
                        "    - Quantile 0.5: Finished. Best iter: [668]\n",
                        "    - Quantile 0.95: Finished. Best iter: [3]\n",
                        "    - Quantile 0.05: Finished. Best iter: [17528]\n",
                        "    - Quantile 0.5: Finished. Best iter: [17336]\n",
                        "    - Quantile 0.95: Finished. Best iter: [17336]\n",
                        "    - Quantile 0.05: Finished. Best iter: [241]\n",
                        "    - Quantile 0.5: Finished. Best iter: [241]\n",
                        "    - Quantile 0.95: Finished. Best iter: [1]\n",
                        "    - Quantile 0.05: Finished. Best iter: [18585]\n",
                        "    - Quantile 0.5: Finished. Best iter: [74]\n",
                        "    - Quantile 0.95: Finished. Best iter: [14]\n",
                        "    - Quantile 0.05: Finished. Best iter: [49982]\n",
                        "    - Quantile 0.5: Finished. Best iter: [49982]\n",
                        "    - Quantile 0.95: Finished. Best iter: [684]\n",
                        "    - Quantile 0.05: Finished. Best iter: [1]\n",
                        "    - Quantile 0.5: Finished. Best iter: [1]\n",
                        "    - Quantile 0.95: Finished. Best iter: [1]\n"
                    ]
                },
                {
                    "name": "stderr",
                    "output_type": "stream",
                    "text": [
                        "d:\\Project\\Command\\Python\\Neural\\Wolf_of_Wall_Street\\.venv\\Lib\\site-packages\\pandas\\core\\nanops.py:1632: ConstantInputWarning: An input array is constant; the correlation coefficient is not defined.\n",
                        "  return spearmanr(a, b)[0]\n"
                    ]
                },
                {
                    "name": "stdout",
                    "output_type": "stream",
                    "text": [
                        "    - Quantile 0.05: Finished. Best iter: [6]\n",
                        "    - Quantile 0.5: Finished. Best iter: [6]\n",
                        "    - Quantile 0.95: Finished. Best iter: [6]\n",
                        "    - Quantile 0.05: Finished. Best iter: [18]\n",
                        "    - Quantile 0.5: Finished. Best iter: [2872]\n",
                        "    - Quantile 0.95: Finished. Best iter: [7372]\n",
                        "    - Quantile 0.05: Finished. Best iter: [15]\n",
                        "    - Quantile 0.5: Finished. Best iter: [15]\n",
                        "    - Quantile 0.95: Finished. Best iter: [15]\n",
                        "    - Quantile 0.05: Finished. Best iter: [34]\n",
                        "    - Quantile 0.5: Finished. Best iter: [34]\n",
                        "    - Quantile 0.95: Finished. Best iter: [2]\n",
                        "    - Quantile 0.05: Finished. Best iter: [19]\n",
                        "    - Quantile 0.5: Finished. Best iter: [19]\n",
                        "    - Quantile 0.95: Finished. Best iter: [1]\n",
                        "    - Quantile 0.05: Finished. Best iter: [1]\n",
                        "    - Quantile 0.5: Finished. Best iter: [1]\n",
                        "    - Quantile 0.95: Finished. Best iter: [1]\n",
                        "    - Quantile 0.05: Finished. Best iter: [327]\n",
                        "    - Quantile 0.5: Finished. Best iter: [157]\n",
                        "    - Quantile 0.95: Finished. Best iter: [10]\n",
                        "    - Quantile 0.05: Finished. Best iter: [1]\n",
                        "    - Quantile 0.5: Finished. Best iter: [1]\n",
                        "    - Quantile 0.95: Finished. Best iter: [1]\n",
                        "    - Quantile 0.05: Finished. Best iter: [97]\n",
                        "    - Quantile 0.5: Finished. Best iter: [149]\n",
                        "    - Quantile 0.95: Finished. Best iter: [149]\n",
                        "    - Quantile 0.05: Finished. Best iter: [2]\n",
                        "    - Quantile 0.5: Finished. Best iter: [2]\n",
                        "    - Quantile 0.95: Finished. Best iter: [2]\n",
                        "    - Quantile 0.05: Finished. Best iter: [1]\n",
                        "    - Quantile 0.5: Finished. Best iter: [1]\n",
                        "    - Quantile 0.95: Finished. Best iter: [1]\n"
                    ]
                },
                {
                    "name": "stderr",
                    "output_type": "stream",
                    "text": [
                        "d:\\Project\\Command\\Python\\Neural\\Wolf_of_Wall_Street\\.venv\\Lib\\site-packages\\pandas\\core\\nanops.py:1632: ConstantInputWarning: An input array is constant; the correlation coefficient is not defined.\n",
                        "  return spearmanr(a, b)[0]\n"
                    ]
                },
                {
                    "name": "stdout",
                    "output_type": "stream",
                    "text": [
                        "    - Quantile 0.05: Finished. Best iter: [142]\n",
                        "    - Quantile 0.5: Finished. Best iter: [142]\n",
                        "    - Quantile 0.95: Finished. Best iter: [142]\n",
                        "    - Quantile 0.05: Finished. Best iter: [19]\n",
                        "    - Quantile 0.5: Finished. Best iter: [19]\n",
                        "    - Quantile 0.95: Finished. Best iter: [19]\n",
                        "    - Quantile 0.05: Finished. Best iter: [17]\n",
                        "    - Quantile 0.5: Finished. Best iter: [17]\n",
                        "    - Quantile 0.95: Finished. Best iter: [1]\n",
                        "    - Quantile 0.05: Finished. Best iter: [6233]\n",
                        "    - Quantile 0.5: Finished. Best iter: [27786]\n",
                        "    - Quantile 0.95: Finished. Best iter: [13902]\n",
                        "    - Quantile 0.05: Finished. Best iter: [1]\n",
                        "    - Quantile 0.5: Finished. Best iter: [1]\n",
                        "    - Quantile 0.95: Finished. Best iter: [1]\n",
                        "    - Quantile 0.05: Finished. Best iter: [3]\n",
                        "    - Quantile 0.5: Finished. Best iter: [49887]\n",
                        "    - Quantile 0.95: Finished. Best iter: [49977]\n",
                        "    - Quantile 0.05: Finished. Best iter: [21]\n",
                        "    - Quantile 0.5: Finished. Best iter: [21]\n",
                        "    - Quantile 0.95: Finished. Best iter: [21]\n",
                        "    - Quantile 0.05: Finished. Best iter: [61]\n",
                        "    - Quantile 0.5: Finished. Best iter: [61]\n",
                        "    - Quantile 0.95: Finished. Best iter: [61]\n",
                        "    - Quantile 0.05: Finished. Best iter: [55]\n",
                        "    - Quantile 0.5: Finished. Best iter: [61]\n",
                        "    - Quantile 0.95: Finished. Best iter: [61]\n",
                        "    - Quantile 0.05: Finished. Best iter: [12883]\n",
                        "    - Quantile 0.5: Finished. Best iter: [49025]\n",
                        "    - Quantile 0.95: Finished. Best iter: [1]\n",
                        "    - Quantile 0.05: Finished. Best iter: [12765]\n",
                        "    - Quantile 0.5: Finished. Best iter: [12765]\n",
                        "    - Quantile 0.95: Finished. Best iter: [12145]\n",
                        "    - Quantile 0.05: Finished. Best iter: [1]\n",
                        "    - Quantile 0.5: Finished. Best iter: [1]\n",
                        "    - Quantile 0.95: Finished. Best iter: [1]\n"
                    ]
                },
                {
                    "name": "stderr",
                    "output_type": "stream",
                    "text": [
                        "d:\\Project\\Command\\Python\\Neural\\Wolf_of_Wall_Street\\.venv\\Lib\\site-packages\\pandas\\core\\nanops.py:1632: ConstantInputWarning: An input array is constant; the correlation coefficient is not defined.\n",
                        "  return spearmanr(a, b)[0]\n"
                    ]
                },
                {
                    "name": "stdout",
                    "output_type": "stream",
                    "text": [
                        "    - Quantile 0.05: Finished. Best iter: [1]\n",
                        "    - Quantile 0.5: Finished. Best iter: [1]\n",
                        "    - Quantile 0.95: Finished. Best iter: [1]\n"
                    ]
                },
                {
                    "name": "stderr",
                    "output_type": "stream",
                    "text": [
                        "d:\\Project\\Command\\Python\\Neural\\Wolf_of_Wall_Street\\.venv\\Lib\\site-packages\\pandas\\core\\nanops.py:1632: ConstantInputWarning: An input array is constant; the correlation coefficient is not defined.\n",
                        "  return spearmanr(a, b)[0]\n"
                    ]
                },
                {
                    "name": "stdout",
                    "output_type": "stream",
                    "text": [
                        "    - Quantile 0.05: Finished. Best iter: [1]\n",
                        "    - Quantile 0.5: Finished. Best iter: [1]\n",
                        "    - Quantile 0.95: Finished. Best iter: [1]\n",
                        "    - Quantile 0.05: Finished. Best iter: [48813]\n",
                        "    - Quantile 0.5: Finished. Best iter: [48813]\n",
                        "    - Quantile 0.95: Finished. Best iter: [48813]\n",
                        "    - Quantile 0.05: Finished. Best iter: [64]\n",
                        "    - Quantile 0.5: Finished. Best iter: [64]\n",
                        "    - Quantile 0.95: Finished. Best iter: [64]\n",
                        "    - Quantile 0.05: Finished. Best iter: [253]\n",
                        "    - Quantile 0.5: Finished. Best iter: [2987]\n",
                        "    - Quantile 0.95: Finished. Best iter: [42309]\n",
                        "    - Quantile 0.05: Finished. Best iter: [58]\n",
                        "    - Quantile 0.5: Finished. Best iter: [60]\n",
                        "    - Quantile 0.95: Finished. Best iter: [1]\n",
                        "    - Quantile 0.05: Finished. Best iter: [58]\n",
                        "    - Quantile 0.5: Finished. Best iter: [58]\n",
                        "    - Quantile 0.95: Finished. Best iter: [58]\n",
                        "    - Quantile 0.05: Finished. Best iter: [1]\n",
                        "    - Quantile 0.5: Finished. Best iter: [739]\n",
                        "    - Quantile 0.95: Finished. Best iter: [658]\n",
                        "    - Quantile 0.05: Finished. Best iter: [1]\n",
                        "    - Quantile 0.5: Finished. Best iter: [1]\n",
                        "    - Quantile 0.95: Finished. Best iter: [1]\n"
                    ]
                },
                {
                    "name": "stderr",
                    "output_type": "stream",
                    "text": [
                        "d:\\Project\\Command\\Python\\Neural\\Wolf_of_Wall_Street\\.venv\\Lib\\site-packages\\pandas\\core\\nanops.py:1632: ConstantInputWarning: An input array is constant; the correlation coefficient is not defined.\n",
                        "  return spearmanr(a, b)[0]\n"
                    ]
                },
                {
                    "name": "stdout",
                    "output_type": "stream",
                    "text": [
                        "    - Quantile 0.05: Finished. Best iter: [5]\n",
                        "    - Quantile 0.5: Finished. Best iter: [766]\n",
                        "    - Quantile 0.95: Finished. Best iter: [1287]\n",
                        "    - Quantile 0.05: Finished. Best iter: [15]\n",
                        "    - Quantile 0.5: Finished. Best iter: [15]\n",
                        "    - Quantile 0.95: Finished. Best iter: [6]\n",
                        "    - Quantile 0.05: Finished. Best iter: [262]\n",
                        "    - Quantile 0.5: Finished. Best iter: [252]\n",
                        "    - Quantile 0.95: Finished. Best iter: [32]\n",
                        "    - Quantile 0.05: Finished. Best iter: [43]\n",
                        "    - Quantile 0.5: Finished. Best iter: [43]\n",
                        "    - Quantile 0.95: Finished. Best iter: [1]\n",
                        "    - Quantile 0.05: Finished. Best iter: [17482]\n",
                        "    - Quantile 0.5: Finished. Best iter: [152]\n",
                        "    - Quantile 0.95: Finished. Best iter: [98]\n",
                        "    - Quantile 0.05: Finished. Best iter: [23622]\n",
                        "    - Quantile 0.5: Finished. Best iter: [10074]\n",
                        "    - Quantile 0.95: Finished. Best iter: [311]\n",
                        "    - Quantile 0.05: Finished. Best iter: [3]\n",
                        "    - Quantile 0.5: Finished. Best iter: [1570]\n",
                        "    - Quantile 0.95: Finished. Best iter: [96]\n",
                        "    - Quantile 0.05: Finished. Best iter: [1135]\n",
                        "    - Quantile 0.5: Finished. Best iter: [4967]\n",
                        "    - Quantile 0.95: Finished. Best iter: [4967]\n",
                        "    - Quantile 0.05: Finished. Best iter: [1]\n",
                        "    - Quantile 0.5: Finished. Best iter: [27]\n",
                        "    - Quantile 0.95: Finished. Best iter: [139]\n",
                        "    - Quantile 0.05: Finished. Best iter: [55]\n",
                        "    - Quantile 0.5: Finished. Best iter: [55]\n",
                        "    - Quantile 0.95: Finished. Best iter: [55]\n",
                        "    - Quantile 0.05: Finished. Best iter: [264]\n",
                        "    - Quantile 0.5: Finished. Best iter: [76]\n",
                        "    - Quantile 0.95: Finished. Best iter: [65]\n",
                        "    - Quantile 0.05: Finished. Best iter: [344]\n",
                        "    - Quantile 0.5: Finished. Best iter: [346]\n",
                        "    - Quantile 0.95: Finished. Best iter: [346]\n",
                        "    - Quantile 0.05: Finished. Best iter: [2475]\n",
                        "    - Quantile 0.5: Finished. Best iter: [2396]\n",
                        "    - Quantile 0.95: Finished. Best iter: [1]\n",
                        "    - Quantile 0.05: Finished. Best iter: [2]\n",
                        "    - Quantile 0.5: Finished. Best iter: [171]\n",
                        "    - Quantile 0.95: Finished. Best iter: [230]\n",
                        "    - Quantile 0.05: Finished. Best iter: [493]\n",
                        "    - Quantile 0.5: Finished. Best iter: [186]\n",
                        "    - Quantile 0.95: Finished. Best iter: [308]\n",
                        "    - Quantile 0.05: Finished. Best iter: [8]\n",
                        "    - Quantile 0.5: Finished. Best iter: [8]\n",
                        "    - Quantile 0.95: Finished. Best iter: [8]\n",
                        "    - Quantile 0.05: Finished. Best iter: [1]\n",
                        "    - Quantile 0.5: Finished. Best iter: [1]\n",
                        "    - Quantile 0.95: Finished. Best iter: [1]\n"
                    ]
                },
                {
                    "name": "stderr",
                    "output_type": "stream",
                    "text": [
                        "d:\\Project\\Command\\Python\\Neural\\Wolf_of_Wall_Street\\.venv\\Lib\\site-packages\\pandas\\core\\nanops.py:1632: ConstantInputWarning: An input array is constant; the correlation coefficient is not defined.\n",
                        "  return spearmanr(a, b)[0]\n"
                    ]
                },
                {
                    "name": "stdout",
                    "output_type": "stream",
                    "text": [
                        "    - Quantile 0.05: Finished. Best iter: [2]\n",
                        "    - Quantile 0.5: Finished. Best iter: [2]\n",
                        "    - Quantile 0.95: Finished. Best iter: [2]\n",
                        "    - Quantile 0.05: Finished. Best iter: [12144]\n",
                        "    - Quantile 0.5: Finished. Best iter: [11674]\n",
                        "    - Quantile 0.95: Finished. Best iter: [619]\n",
                        "    - Quantile 0.05: Finished. Best iter: [13]\n",
                        "    - Quantile 0.5: Finished. Best iter: [13]\n",
                        "    - Quantile 0.95: Finished. Best iter: [6]\n",
                        "    - Quantile 0.05: Finished. Best iter: [1]\n",
                        "    - Quantile 0.5: Finished. Best iter: [1]\n",
                        "    - Quantile 0.95: Finished. Best iter: [1]\n",
                        "    - Quantile 0.05: Finished. Best iter: [40]\n",
                        "    - Quantile 0.5: Finished. Best iter: [40]\n",
                        "    - Quantile 0.95: Finished. Best iter: [1]\n",
                        "SUCCESS: Out-of-Fold predictions saved to models\\000100.SZ\\lgbm_oof_preds.csv\n",
                        "INFO: Training final model for TCL科技 (000100.SZ) on all data...\n",
                        "\n",
                        "================================================================================\n",
                        "--- Starting LSTM training for TCL科技 (000100.SZ) ---\n",
                        "INFO: PyTorch LSTMBuilder will use device: CUDA\n",
                        "INFO: Starting Walk-Forward validation for TCL科技 across 98 folds...\n"
                    ]
                },
                {
                    "data": {
                        "application/vnd.jupyter.widget-view+json": {
                            "model_id": "0cf54ce804184420aaf49c0fe47a2411",
                            "version_major": 2,
                            "version_minor": 0
                        },
                        "text/plain": [
                            "Training LSTM on TCL科技:   0%|          | 0/98 [00:00<?, ?it/s]"
                        ]
                    },
                    "metadata": {},
                    "output_type": "display_data"
                },
                {
                    "name": "stdout",
                    "output_type": "stream",
                    "text": [
                        "INFO: DataLoader will use 8 parallel workers.\n",
                        "INFO: Automatic Mixed Precision (AMP) is DISABLED (float32).\n"
                    ]
                },
                {
                    "data": {
                        "application/vnd.jupyter.widget-view+json": {
                            "model_id": "d002d70095544e718950306f287e3b3f",
                            "version_major": 2,
                            "version_minor": 0
                        },
                        "text/plain": [
                            "    - Epochs:   0%|          | 0/50 [00:00<?, ?it/s]"
                        ]
                    },
                    "metadata": {},
                    "output_type": "display_data"
                },
                {
                    "name": "stdout",
                    "output_type": "stream",
                    "text": [
                        "    - Fold finished. Best validation loss: 0.000814 at epoch 36\n",
                        "INFO: DataLoader will use 8 parallel workers.\n",
                        "INFO: Automatic Mixed Precision (AMP) is DISABLED (float32).\n"
                    ]
                },
                {
                    "data": {
                        "application/vnd.jupyter.widget-view+json": {
                            "model_id": "1ae9aed2e880428d8f7c7406f06e7b8b",
                            "version_major": 2,
                            "version_minor": 0
                        },
                        "text/plain": [
                            "    - Epochs:   0%|          | 0/50 [00:00<?, ?it/s]"
                        ]
                    },
                    "metadata": {},
                    "output_type": "display_data"
                },
                {
                    "name": "stdout",
                    "output_type": "stream",
                    "text": [
                        "    - Fold finished. Best validation loss: 0.001650 at epoch 9\n",
                        "INFO: DataLoader will use 8 parallel workers.\n",
                        "INFO: Automatic Mixed Precision (AMP) is DISABLED (float32).\n"
                    ]
                },
                {
                    "data": {
                        "application/vnd.jupyter.widget-view+json": {
                            "model_id": "2406f69faab9478c9a78f6c9572444ad",
                            "version_major": 2,
                            "version_minor": 0
                        },
                        "text/plain": [
                            "    - Epochs:   0%|          | 0/50 [00:00<?, ?it/s]"
                        ]
                    },
                    "metadata": {},
                    "output_type": "display_data"
                },
                {
                    "name": "stdout",
                    "output_type": "stream",
                    "text": [
                        "    - Fold finished. Best validation loss: 0.002200 at epoch 2\n",
                        "INFO: DataLoader will use 8 parallel workers.\n",
                        "INFO: Automatic Mixed Precision (AMP) is DISABLED (float32).\n"
                    ]
                },
                {
                    "data": {
                        "application/vnd.jupyter.widget-view+json": {
                            "model_id": "b8992366a99e4115b6db18b8145769bd",
                            "version_major": 2,
                            "version_minor": 0
                        },
                        "text/plain": [
                            "    - Epochs:   0%|          | 0/50 [00:00<?, ?it/s]"
                        ]
                    },
                    "metadata": {},
                    "output_type": "display_data"
                },
                {
                    "name": "stdout",
                    "output_type": "stream",
                    "text": [
                        "    - Fold finished. Best validation loss: 0.004121 at epoch 7\n",
                        "INFO: DataLoader will use 8 parallel workers.\n",
                        "INFO: Automatic Mixed Precision (AMP) is DISABLED (float32).\n"
                    ]
                },
                {
                    "data": {
                        "application/vnd.jupyter.widget-view+json": {
                            "model_id": "1564eaf9f28a4c698a8e7eb5f369b624",
                            "version_major": 2,
                            "version_minor": 0
                        },
                        "text/plain": [
                            "    - Epochs:   0%|          | 0/50 [00:00<?, ?it/s]"
                        ]
                    },
                    "metadata": {},
                    "output_type": "display_data"
                },
                {
                    "name": "stdout",
                    "output_type": "stream",
                    "text": [
                        "    - Fold finished. Best validation loss: 0.020813 at epoch 1\n",
                        "INFO: DataLoader will use 8 parallel workers.\n",
                        "INFO: Automatic Mixed Precision (AMP) is DISABLED (float32).\n"
                    ]
                },
                {
                    "data": {
                        "application/vnd.jupyter.widget-view+json": {
                            "model_id": "aca6b55061604b679c411e028f6ae7cb",
                            "version_major": 2,
                            "version_minor": 0
                        },
                        "text/plain": [
                            "    - Epochs:   0%|          | 0/50 [00:00<?, ?it/s]"
                        ]
                    },
                    "metadata": {},
                    "output_type": "display_data"
                },
                {
                    "name": "stdout",
                    "output_type": "stream",
                    "text": [
                        "    - Fold finished. Best validation loss: 0.007439 at epoch 32\n",
                        "INFO: DataLoader will use 8 parallel workers.\n",
                        "INFO: Automatic Mixed Precision (AMP) is DISABLED (float32).\n"
                    ]
                },
                {
                    "data": {
                        "application/vnd.jupyter.widget-view+json": {
                            "model_id": "d49ae48e286943f0b7a6c148825418a8",
                            "version_major": 2,
                            "version_minor": 0
                        },
                        "text/plain": [
                            "    - Epochs:   0%|          | 0/50 [00:00<?, ?it/s]"
                        ]
                    },
                    "metadata": {},
                    "output_type": "display_data"
                },
                {
                    "name": "stdout",
                    "output_type": "stream",
                    "text": [
                        "    - Fold finished. Best validation loss: 0.003246 at epoch 1\n",
                        "INFO: DataLoader will use 8 parallel workers.\n",
                        "INFO: Automatic Mixed Precision (AMP) is DISABLED (float32).\n"
                    ]
                },
                {
                    "data": {
                        "application/vnd.jupyter.widget-view+json": {
                            "model_id": "256b89e1df9f48f79fcbde27bc79dd7a",
                            "version_major": 2,
                            "version_minor": 0
                        },
                        "text/plain": [
                            "    - Epochs:   0%|          | 0/50 [00:00<?, ?it/s]"
                        ]
                    },
                    "metadata": {},
                    "output_type": "display_data"
                },
                {
                    "name": "stdout",
                    "output_type": "stream",
                    "text": [
                        "    - Fold finished. Best validation loss: 0.000780 at epoch 2\n",
                        "INFO: DataLoader will use 8 parallel workers.\n",
                        "INFO: Automatic Mixed Precision (AMP) is DISABLED (float32).\n"
                    ]
                },
                {
                    "data": {
                        "application/vnd.jupyter.widget-view+json": {
                            "model_id": "7360edc44561428da6440cb68a4fc9e2",
                            "version_major": 2,
                            "version_minor": 0
                        },
                        "text/plain": [
                            "    - Epochs:   0%|          | 0/50 [00:00<?, ?it/s]"
                        ]
                    },
                    "metadata": {},
                    "output_type": "display_data"
                },
                {
                    "name": "stdout",
                    "output_type": "stream",
                    "text": [
                        "    - Fold finished. Best validation loss: 0.001043 at epoch 1\n",
                        "INFO: DataLoader will use 8 parallel workers.\n",
                        "INFO: Automatic Mixed Precision (AMP) is DISABLED (float32).\n"
                    ]
                },
                {
                    "data": {
                        "application/vnd.jupyter.widget-view+json": {
                            "model_id": "f66a8619b9b54353aa5bacc0a79cf979",
                            "version_major": 2,
                            "version_minor": 0
                        },
                        "text/plain": [
                            "    - Epochs:   0%|          | 0/50 [00:00<?, ?it/s]"
                        ]
                    },
                    "metadata": {},
                    "output_type": "display_data"
                },
                {
                    "name": "stdout",
                    "output_type": "stream",
                    "text": [
                        "    - Fold finished. Best validation loss: 0.009300 at epoch 2\n",
                        "INFO: DataLoader will use 8 parallel workers.\n",
                        "INFO: Automatic Mixed Precision (AMP) is DISABLED (float32).\n"
                    ]
                },
                {
                    "data": {
                        "application/vnd.jupyter.widget-view+json": {
                            "model_id": "f46c90e785b4409bb43c8cefe22d23b2",
                            "version_major": 2,
                            "version_minor": 0
                        },
                        "text/plain": [
                            "    - Epochs:   0%|          | 0/50 [00:00<?, ?it/s]"
                        ]
                    },
                    "metadata": {},
                    "output_type": "display_data"
                },
                {
                    "name": "stdout",
                    "output_type": "stream",
                    "text": [
                        "    - Fold finished. Best validation loss: 0.002710 at epoch 49\n",
                        "INFO: DataLoader will use 8 parallel workers.\n",
                        "INFO: Automatic Mixed Precision (AMP) is DISABLED (float32).\n"
                    ]
                },
                {
                    "data": {
                        "application/vnd.jupyter.widget-view+json": {
                            "model_id": "980cc8ae198d47fa9d2e8df0eb792214",
                            "version_major": 2,
                            "version_minor": 0
                        },
                        "text/plain": [
                            "    - Epochs:   0%|          | 0/50 [00:00<?, ?it/s]"
                        ]
                    },
                    "metadata": {},
                    "output_type": "display_data"
                },
                {
                    "name": "stdout",
                    "output_type": "stream",
                    "text": [
                        "    - Fold finished. Best validation loss: 0.003409 at epoch 1\n",
                        "INFO: DataLoader will use 8 parallel workers.\n",
                        "INFO: Automatic Mixed Precision (AMP) is DISABLED (float32).\n"
                    ]
                },
                {
                    "data": {
                        "application/vnd.jupyter.widget-view+json": {
                            "model_id": "947bb9d46a754868b997ae0a10d7166e",
                            "version_major": 2,
                            "version_minor": 0
                        },
                        "text/plain": [
                            "    - Epochs:   0%|          | 0/50 [00:00<?, ?it/s]"
                        ]
                    },
                    "metadata": {},
                    "output_type": "display_data"
                },
                {
                    "name": "stdout",
                    "output_type": "stream",
                    "text": [
                        "    - Fold finished. Best validation loss: 0.000656 at epoch 3\n",
                        "INFO: DataLoader will use 8 parallel workers.\n",
                        "INFO: Automatic Mixed Precision (AMP) is DISABLED (float32).\n"
                    ]
                },
                {
                    "data": {
                        "application/vnd.jupyter.widget-view+json": {
                            "model_id": "17262fbd1f7841988b44a9f2aaf8e480",
                            "version_major": 2,
                            "version_minor": 0
                        },
                        "text/plain": [
                            "    - Epochs:   0%|          | 0/50 [00:00<?, ?it/s]"
                        ]
                    },
                    "metadata": {},
                    "output_type": "display_data"
                },
                {
                    "name": "stdout",
                    "output_type": "stream",
                    "text": [
                        "    - Fold finished. Best validation loss: 0.000396 at epoch 5\n",
                        "INFO: DataLoader will use 8 parallel workers.\n",
                        "INFO: Automatic Mixed Precision (AMP) is DISABLED (float32).\n"
                    ]
                },
                {
                    "data": {
                        "application/vnd.jupyter.widget-view+json": {
                            "model_id": "7e294595ee8d4e6abc90c3687cc33ba5",
                            "version_major": 2,
                            "version_minor": 0
                        },
                        "text/plain": [
                            "    - Epochs:   0%|          | 0/50 [00:00<?, ?it/s]"
                        ]
                    },
                    "metadata": {},
                    "output_type": "display_data"
                },
                {
                    "name": "stdout",
                    "output_type": "stream",
                    "text": [
                        "    - Fold finished. Best validation loss: 0.009458 at epoch 1\n",
                        "INFO: DataLoader will use 8 parallel workers.\n",
                        "INFO: Automatic Mixed Precision (AMP) is DISABLED (float32).\n"
                    ]
                },
                {
                    "data": {
                        "application/vnd.jupyter.widget-view+json": {
                            "model_id": "a488d047e6b44051b8b04e5d7053ca04",
                            "version_major": 2,
                            "version_minor": 0
                        },
                        "text/plain": [
                            "    - Epochs:   0%|          | 0/50 [00:00<?, ?it/s]"
                        ]
                    },
                    "metadata": {},
                    "output_type": "display_data"
                },
                {
                    "name": "stdout",
                    "output_type": "stream",
                    "text": [
                        "    - Fold finished. Best validation loss: 0.016519 at epoch 4\n",
                        "INFO: DataLoader will use 8 parallel workers.\n",
                        "INFO: Automatic Mixed Precision (AMP) is DISABLED (float32).\n"
                    ]
                },
                {
                    "data": {
                        "application/vnd.jupyter.widget-view+json": {
                            "model_id": "192d3ebf57d34d1fa6de28082308ba8c",
                            "version_major": 2,
                            "version_minor": 0
                        },
                        "text/plain": [
                            "    - Epochs:   0%|          | 0/50 [00:00<?, ?it/s]"
                        ]
                    },
                    "metadata": {},
                    "output_type": "display_data"
                },
                {
                    "name": "stdout",
                    "output_type": "stream",
                    "text": [
                        "    - Fold finished. Best validation loss: 0.003642 at epoch 44\n",
                        "INFO: DataLoader will use 8 parallel workers.\n",
                        "INFO: Automatic Mixed Precision (AMP) is DISABLED (float32).\n"
                    ]
                },
                {
                    "data": {
                        "application/vnd.jupyter.widget-view+json": {
                            "model_id": "c94ee51175cf48f7853fa019f0f256a0",
                            "version_major": 2,
                            "version_minor": 0
                        },
                        "text/plain": [
                            "    - Epochs:   0%|          | 0/50 [00:00<?, ?it/s]"
                        ]
                    },
                    "metadata": {},
                    "output_type": "display_data"
                },
                {
                    "name": "stdout",
                    "output_type": "stream",
                    "text": [
                        "    - Fold finished. Best validation loss: 0.040588 at epoch 2\n",
                        "INFO: DataLoader will use 8 parallel workers.\n",
                        "INFO: Automatic Mixed Precision (AMP) is DISABLED (float32).\n"
                    ]
                },
                {
                    "data": {
                        "application/vnd.jupyter.widget-view+json": {
                            "model_id": "07e00eac453c4ec59f75ddd32805b0a4",
                            "version_major": 2,
                            "version_minor": 0
                        },
                        "text/plain": [
                            "    - Epochs:   0%|          | 0/50 [00:00<?, ?it/s]"
                        ]
                    },
                    "metadata": {},
                    "output_type": "display_data"
                },
                {
                    "name": "stdout",
                    "output_type": "stream",
                    "text": [
                        "    - Fold finished. Best validation loss: 0.008061 at epoch 8\n",
                        "INFO: DataLoader will use 8 parallel workers.\n",
                        "INFO: Automatic Mixed Precision (AMP) is DISABLED (float32).\n"
                    ]
                },
                {
                    "data": {
                        "application/vnd.jupyter.widget-view+json": {
                            "model_id": "28104c85b97a4ff69ccce43553c802f0",
                            "version_major": 2,
                            "version_minor": 0
                        },
                        "text/plain": [
                            "    - Epochs:   0%|          | 0/50 [00:00<?, ?it/s]"
                        ]
                    },
                    "metadata": {},
                    "output_type": "display_data"
                },
                {
                    "name": "stdout",
                    "output_type": "stream",
                    "text": [
                        "    - Fold finished. Best validation loss: 0.006792 at epoch 1\n",
                        "INFO: DataLoader will use 8 parallel workers.\n",
                        "INFO: Automatic Mixed Precision (AMP) is DISABLED (float32).\n"
                    ]
                },
                {
                    "data": {
                        "application/vnd.jupyter.widget-view+json": {
                            "model_id": "562d7a0516974d0baf49dd1b214313da",
                            "version_major": 2,
                            "version_minor": 0
                        },
                        "text/plain": [
                            "    - Epochs:   0%|          | 0/50 [00:00<?, ?it/s]"
                        ]
                    },
                    "metadata": {},
                    "output_type": "display_data"
                },
                {
                    "name": "stdout",
                    "output_type": "stream",
                    "text": [
                        "    - Fold finished. Best validation loss: 0.115560 at epoch 1\n",
                        "INFO: DataLoader will use 8 parallel workers.\n",
                        "INFO: Automatic Mixed Precision (AMP) is DISABLED (float32).\n"
                    ]
                },
                {
                    "data": {
                        "application/vnd.jupyter.widget-view+json": {
                            "model_id": "a20591d2bed94a25bfeaa19cc1f908db",
                            "version_major": 2,
                            "version_minor": 0
                        },
                        "text/plain": [
                            "    - Epochs:   0%|          | 0/50 [00:00<?, ?it/s]"
                        ]
                    },
                    "metadata": {},
                    "output_type": "display_data"
                },
                {
                    "name": "stdout",
                    "output_type": "stream",
                    "text": [
                        "    - Fold finished. Best validation loss: 0.018242 at epoch 7\n",
                        "INFO: DataLoader will use 8 parallel workers.\n",
                        "INFO: Automatic Mixed Precision (AMP) is DISABLED (float32).\n"
                    ]
                },
                {
                    "data": {
                        "application/vnd.jupyter.widget-view+json": {
                            "model_id": "8695055a04984e6cb385c49fd3c476d1",
                            "version_major": 2,
                            "version_minor": 0
                        },
                        "text/plain": [
                            "    - Epochs:   0%|          | 0/50 [00:00<?, ?it/s]"
                        ]
                    },
                    "metadata": {},
                    "output_type": "display_data"
                },
                {
                    "name": "stdout",
                    "output_type": "stream",
                    "text": [
                        "    - Fold finished. Best validation loss: 0.004020 at epoch 10\n",
                        "INFO: DataLoader will use 8 parallel workers.\n",
                        "INFO: Automatic Mixed Precision (AMP) is DISABLED (float32).\n"
                    ]
                },
                {
                    "data": {
                        "application/vnd.jupyter.widget-view+json": {
                            "model_id": "da406982e9a34438abd4f7024bfbe0b0",
                            "version_major": 2,
                            "version_minor": 0
                        },
                        "text/plain": [
                            "    - Epochs:   0%|          | 0/50 [00:00<?, ?it/s]"
                        ]
                    },
                    "metadata": {},
                    "output_type": "display_data"
                },
                {
                    "name": "stdout",
                    "output_type": "stream",
                    "text": [
                        "    - Fold finished. Best validation loss: 0.003187 at epoch 4\n",
                        "INFO: DataLoader will use 8 parallel workers.\n",
                        "INFO: Automatic Mixed Precision (AMP) is DISABLED (float32).\n"
                    ]
                },
                {
                    "data": {
                        "application/vnd.jupyter.widget-view+json": {
                            "model_id": "ce14bbe60ef7422597c2ab021de8f66b",
                            "version_major": 2,
                            "version_minor": 0
                        },
                        "text/plain": [
                            "    - Epochs:   0%|          | 0/50 [00:00<?, ?it/s]"
                        ]
                    },
                    "metadata": {},
                    "output_type": "display_data"
                },
                {
                    "name": "stdout",
                    "output_type": "stream",
                    "text": [
                        "    - Fold finished. Best validation loss: 0.004460 at epoch 1\n",
                        "INFO: DataLoader will use 8 parallel workers.\n",
                        "INFO: Automatic Mixed Precision (AMP) is DISABLED (float32).\n"
                    ]
                },
                {
                    "data": {
                        "application/vnd.jupyter.widget-view+json": {
                            "model_id": "544fc18370d74162a466142e8949592e",
                            "version_major": 2,
                            "version_minor": 0
                        },
                        "text/plain": [
                            "    - Epochs:   0%|          | 0/50 [00:00<?, ?it/s]"
                        ]
                    },
                    "metadata": {},
                    "output_type": "display_data"
                },
                {
                    "name": "stdout",
                    "output_type": "stream",
                    "text": [
                        "    - Fold finished. Best validation loss: 0.006554 at epoch 2\n",
                        "INFO: DataLoader will use 8 parallel workers.\n",
                        "INFO: Automatic Mixed Precision (AMP) is DISABLED (float32).\n"
                    ]
                },
                {
                    "data": {
                        "application/vnd.jupyter.widget-view+json": {
                            "model_id": "7f8a6185201947dbadcdf1fb1543844d",
                            "version_major": 2,
                            "version_minor": 0
                        },
                        "text/plain": [
                            "    - Epochs:   0%|          | 0/50 [00:00<?, ?it/s]"
                        ]
                    },
                    "metadata": {},
                    "output_type": "display_data"
                },
                {
                    "name": "stdout",
                    "output_type": "stream",
                    "text": [
                        "    - Fold finished. Best validation loss: 0.008436 at epoch 2\n",
                        "INFO: DataLoader will use 8 parallel workers.\n",
                        "INFO: Automatic Mixed Precision (AMP) is DISABLED (float32).\n"
                    ]
                },
                {
                    "data": {
                        "application/vnd.jupyter.widget-view+json": {
                            "model_id": "d4d0303e1d7e42d2927e2831b3dee82d",
                            "version_major": 2,
                            "version_minor": 0
                        },
                        "text/plain": [
                            "    - Epochs:   0%|          | 0/50 [00:00<?, ?it/s]"
                        ]
                    },
                    "metadata": {},
                    "output_type": "display_data"
                },
                {
                    "name": "stdout",
                    "output_type": "stream",
                    "text": [
                        "    - Fold finished. Best validation loss: 0.018162 at epoch 1\n",
                        "INFO: DataLoader will use 8 parallel workers.\n",
                        "INFO: Automatic Mixed Precision (AMP) is DISABLED (float32).\n"
                    ]
                },
                {
                    "data": {
                        "application/vnd.jupyter.widget-view+json": {
                            "model_id": "9b66d240a4ef4181b5b53de9d09bce44",
                            "version_major": 2,
                            "version_minor": 0
                        },
                        "text/plain": [
                            "    - Epochs:   0%|          | 0/50 [00:00<?, ?it/s]"
                        ]
                    },
                    "metadata": {},
                    "output_type": "display_data"
                },
                {
                    "name": "stdout",
                    "output_type": "stream",
                    "text": [
                        "    - Fold finished. Best validation loss: 0.001715 at epoch 13\n",
                        "INFO: DataLoader will use 8 parallel workers.\n",
                        "INFO: Automatic Mixed Precision (AMP) is DISABLED (float32).\n"
                    ]
                },
                {
                    "data": {
                        "application/vnd.jupyter.widget-view+json": {
                            "model_id": "7d00e9e284124b21b6c701fcb9264405",
                            "version_major": 2,
                            "version_minor": 0
                        },
                        "text/plain": [
                            "    - Epochs:   0%|          | 0/50 [00:00<?, ?it/s]"
                        ]
                    },
                    "metadata": {},
                    "output_type": "display_data"
                },
                {
                    "name": "stdout",
                    "output_type": "stream",
                    "text": [
                        "    - Fold finished. Best validation loss: 0.000728 at epoch 7\n",
                        "INFO: DataLoader will use 8 parallel workers.\n",
                        "INFO: Automatic Mixed Precision (AMP) is DISABLED (float32).\n"
                    ]
                },
                {
                    "data": {
                        "application/vnd.jupyter.widget-view+json": {
                            "model_id": "25e4535f2dea48269f34140c3572a480",
                            "version_major": 2,
                            "version_minor": 0
                        },
                        "text/plain": [
                            "    - Epochs:   0%|          | 0/50 [00:00<?, ?it/s]"
                        ]
                    },
                    "metadata": {},
                    "output_type": "display_data"
                },
                {
                    "name": "stdout",
                    "output_type": "stream",
                    "text": [
                        "    - Fold finished. Best validation loss: 0.001461 at epoch 1\n",
                        "INFO: DataLoader will use 8 parallel workers.\n",
                        "INFO: Automatic Mixed Precision (AMP) is DISABLED (float32).\n"
                    ]
                },
                {
                    "data": {
                        "application/vnd.jupyter.widget-view+json": {
                            "model_id": "5798630fc62b41f9a852538a6fdf4170",
                            "version_major": 2,
                            "version_minor": 0
                        },
                        "text/plain": [
                            "    - Epochs:   0%|          | 0/50 [00:00<?, ?it/s]"
                        ]
                    },
                    "metadata": {},
                    "output_type": "display_data"
                },
                {
                    "name": "stdout",
                    "output_type": "stream",
                    "text": [
                        "    - Fold finished. Best validation loss: 0.001376 at epoch 12\n",
                        "INFO: DataLoader will use 8 parallel workers.\n",
                        "INFO: Automatic Mixed Precision (AMP) is DISABLED (float32).\n"
                    ]
                },
                {
                    "data": {
                        "application/vnd.jupyter.widget-view+json": {
                            "model_id": "32498b6d5aed4c0fb47959a91a83ac71",
                            "version_major": 2,
                            "version_minor": 0
                        },
                        "text/plain": [
                            "    - Epochs:   0%|          | 0/50 [00:00<?, ?it/s]"
                        ]
                    },
                    "metadata": {},
                    "output_type": "display_data"
                },
                {
                    "name": "stdout",
                    "output_type": "stream",
                    "text": [
                        "    - Fold finished. Best validation loss: 0.000204 at epoch 2\n",
                        "INFO: DataLoader will use 8 parallel workers.\n",
                        "INFO: Automatic Mixed Precision (AMP) is DISABLED (float32).\n"
                    ]
                },
                {
                    "data": {
                        "application/vnd.jupyter.widget-view+json": {
                            "model_id": "33f2af9522aa4c8291ec020c95ddba1f",
                            "version_major": 2,
                            "version_minor": 0
                        },
                        "text/plain": [
                            "    - Epochs:   0%|          | 0/50 [00:00<?, ?it/s]"
                        ]
                    },
                    "metadata": {},
                    "output_type": "display_data"
                },
                {
                    "name": "stdout",
                    "output_type": "stream",
                    "text": [
                        "    - Fold finished. Best validation loss: 0.004026 at epoch 1\n",
                        "INFO: DataLoader will use 8 parallel workers.\n",
                        "INFO: Automatic Mixed Precision (AMP) is DISABLED (float32).\n"
                    ]
                },
                {
                    "data": {
                        "application/vnd.jupyter.widget-view+json": {
                            "model_id": "0f5eefcdc38d48a5837953c387c2bc57",
                            "version_major": 2,
                            "version_minor": 0
                        },
                        "text/plain": [
                            "    - Epochs:   0%|          | 0/50 [00:00<?, ?it/s]"
                        ]
                    },
                    "metadata": {},
                    "output_type": "display_data"
                },
                {
                    "name": "stdout",
                    "output_type": "stream",
                    "text": [
                        "    - Fold finished. Best validation loss: 0.015689 at epoch 46\n",
                        "INFO: DataLoader will use 8 parallel workers.\n",
                        "INFO: Automatic Mixed Precision (AMP) is DISABLED (float32).\n"
                    ]
                },
                {
                    "data": {
                        "application/vnd.jupyter.widget-view+json": {
                            "model_id": "a48c41cc84364627a5f5e506f68adde5",
                            "version_major": 2,
                            "version_minor": 0
                        },
                        "text/plain": [
                            "    - Epochs:   0%|          | 0/50 [00:00<?, ?it/s]"
                        ]
                    },
                    "metadata": {},
                    "output_type": "display_data"
                },
                {
                    "name": "stdout",
                    "output_type": "stream",
                    "text": [
                        "    - Fold finished. Best validation loss: 0.014517 at epoch 11\n",
                        "INFO: DataLoader will use 8 parallel workers.\n",
                        "INFO: Automatic Mixed Precision (AMP) is DISABLED (float32).\n"
                    ]
                },
                {
                    "data": {
                        "application/vnd.jupyter.widget-view+json": {
                            "model_id": "b396c9b763114f3e8d22be37e0b5025d",
                            "version_major": 2,
                            "version_minor": 0
                        },
                        "text/plain": [
                            "    - Epochs:   0%|          | 0/50 [00:00<?, ?it/s]"
                        ]
                    },
                    "metadata": {},
                    "output_type": "display_data"
                },
                {
                    "name": "stdout",
                    "output_type": "stream",
                    "text": [
                        "    - Fold finished. Best validation loss: 0.003324 at epoch 48\n",
                        "INFO: DataLoader will use 8 parallel workers.\n",
                        "INFO: Automatic Mixed Precision (AMP) is DISABLED (float32).\n"
                    ]
                },
                {
                    "data": {
                        "application/vnd.jupyter.widget-view+json": {
                            "model_id": "7d4632856c004aab883172f0f7651cd9",
                            "version_major": 2,
                            "version_minor": 0
                        },
                        "text/plain": [
                            "    - Epochs:   0%|          | 0/50 [00:00<?, ?it/s]"
                        ]
                    },
                    "metadata": {},
                    "output_type": "display_data"
                },
                {
                    "name": "stdout",
                    "output_type": "stream",
                    "text": [
                        "    - Fold finished. Best validation loss: 0.002379 at epoch 5\n",
                        "INFO: DataLoader will use 8 parallel workers.\n",
                        "INFO: Automatic Mixed Precision (AMP) is DISABLED (float32).\n"
                    ]
                },
                {
                    "data": {
                        "application/vnd.jupyter.widget-view+json": {
                            "model_id": "473fe1f3ac5d489196d26027b294f051",
                            "version_major": 2,
                            "version_minor": 0
                        },
                        "text/plain": [
                            "    - Epochs:   0%|          | 0/50 [00:00<?, ?it/s]"
                        ]
                    },
                    "metadata": {},
                    "output_type": "display_data"
                },
                {
                    "name": "stdout",
                    "output_type": "stream",
                    "text": [
                        "    - Fold finished. Best validation loss: 0.001619 at epoch 15\n",
                        "INFO: DataLoader will use 8 parallel workers.\n",
                        "INFO: Automatic Mixed Precision (AMP) is DISABLED (float32).\n"
                    ]
                },
                {
                    "data": {
                        "application/vnd.jupyter.widget-view+json": {
                            "model_id": "39b3a670db13485a82bc91065eff94a2",
                            "version_major": 2,
                            "version_minor": 0
                        },
                        "text/plain": [
                            "    - Epochs:   0%|          | 0/50 [00:00<?, ?it/s]"
                        ]
                    },
                    "metadata": {},
                    "output_type": "display_data"
                },
                {
                    "name": "stdout",
                    "output_type": "stream",
                    "text": [
                        "    - Fold finished. Best validation loss: 0.003003 at epoch 1\n",
                        "INFO: DataLoader will use 8 parallel workers.\n",
                        "INFO: Automatic Mixed Precision (AMP) is DISABLED (float32).\n"
                    ]
                },
                {
                    "data": {
                        "application/vnd.jupyter.widget-view+json": {
                            "model_id": "56e8c8694a5f484b96fff7e9c56cfd4c",
                            "version_major": 2,
                            "version_minor": 0
                        },
                        "text/plain": [
                            "    - Epochs:   0%|          | 0/50 [00:00<?, ?it/s]"
                        ]
                    },
                    "metadata": {},
                    "output_type": "display_data"
                },
                {
                    "name": "stdout",
                    "output_type": "stream",
                    "text": [
                        "    - Fold finished. Best validation loss: 0.001193 at epoch 6\n",
                        "INFO: DataLoader will use 8 parallel workers.\n",
                        "INFO: Automatic Mixed Precision (AMP) is DISABLED (float32).\n"
                    ]
                },
                {
                    "data": {
                        "application/vnd.jupyter.widget-view+json": {
                            "model_id": "7a18dd44f31749f197653cbc4f5ccb8a",
                            "version_major": 2,
                            "version_minor": 0
                        },
                        "text/plain": [
                            "    - Epochs:   0%|          | 0/50 [00:00<?, ?it/s]"
                        ]
                    },
                    "metadata": {},
                    "output_type": "display_data"
                },
                {
                    "name": "stdout",
                    "output_type": "stream",
                    "text": [
                        "    - Fold finished. Best validation loss: 0.007299 at epoch 6\n",
                        "INFO: DataLoader will use 8 parallel workers.\n",
                        "INFO: Automatic Mixed Precision (AMP) is DISABLED (float32).\n"
                    ]
                },
                {
                    "data": {
                        "application/vnd.jupyter.widget-view+json": {
                            "model_id": "e867bf46b3e24d64b886aa6ee442ba08",
                            "version_major": 2,
                            "version_minor": 0
                        },
                        "text/plain": [
                            "    - Epochs:   0%|          | 0/50 [00:00<?, ?it/s]"
                        ]
                    },
                    "metadata": {},
                    "output_type": "display_data"
                },
                {
                    "name": "stdout",
                    "output_type": "stream",
                    "text": [
                        "    - Fold finished. Best validation loss: 0.000916 at epoch 36\n",
                        "INFO: DataLoader will use 8 parallel workers.\n",
                        "INFO: Automatic Mixed Precision (AMP) is DISABLED (float32).\n"
                    ]
                },
                {
                    "data": {
                        "application/vnd.jupyter.widget-view+json": {
                            "model_id": "97a0821c75ff4e18aa34f7ca1aa0a51a",
                            "version_major": 2,
                            "version_minor": 0
                        },
                        "text/plain": [
                            "    - Epochs:   0%|          | 0/50 [00:00<?, ?it/s]"
                        ]
                    },
                    "metadata": {},
                    "output_type": "display_data"
                },
                {
                    "name": "stdout",
                    "output_type": "stream",
                    "text": [
                        "    - Fold finished. Best validation loss: 0.004156 at epoch 1\n",
                        "INFO: DataLoader will use 8 parallel workers.\n",
                        "INFO: Automatic Mixed Precision (AMP) is DISABLED (float32).\n"
                    ]
                },
                {
                    "data": {
                        "application/vnd.jupyter.widget-view+json": {
                            "model_id": "df3943e70ffd4ee3b42495763de46391",
                            "version_major": 2,
                            "version_minor": 0
                        },
                        "text/plain": [
                            "    - Epochs:   0%|          | 0/50 [00:00<?, ?it/s]"
                        ]
                    },
                    "metadata": {},
                    "output_type": "display_data"
                },
                {
                    "name": "stdout",
                    "output_type": "stream",
                    "text": [
                        "    - Fold finished. Best validation loss: 0.086855 at epoch 2\n",
                        "INFO: DataLoader will use 8 parallel workers.\n",
                        "INFO: Automatic Mixed Precision (AMP) is DISABLED (float32).\n"
                    ]
                },
                {
                    "data": {
                        "application/vnd.jupyter.widget-view+json": {
                            "model_id": "a18b54762de24257935cf846c64e6fe2",
                            "version_major": 2,
                            "version_minor": 0
                        },
                        "text/plain": [
                            "    - Epochs:   0%|          | 0/50 [00:00<?, ?it/s]"
                        ]
                    },
                    "metadata": {},
                    "output_type": "display_data"
                },
                {
                    "name": "stdout",
                    "output_type": "stream",
                    "text": [
                        "    - Fold finished. Best validation loss: 0.019028 at epoch 20\n",
                        "INFO: DataLoader will use 8 parallel workers.\n",
                        "INFO: Automatic Mixed Precision (AMP) is DISABLED (float32).\n"
                    ]
                },
                {
                    "data": {
                        "application/vnd.jupyter.widget-view+json": {
                            "model_id": "437c98f1a24b419fb1a22fd78b4e75af",
                            "version_major": 2,
                            "version_minor": 0
                        },
                        "text/plain": [
                            "    - Epochs:   0%|          | 0/50 [00:00<?, ?it/s]"
                        ]
                    },
                    "metadata": {},
                    "output_type": "display_data"
                },
                {
                    "name": "stdout",
                    "output_type": "stream",
                    "text": [
                        "    - Fold finished. Best validation loss: 0.063371 at epoch 1\n",
                        "INFO: DataLoader will use 8 parallel workers.\n",
                        "INFO: Automatic Mixed Precision (AMP) is DISABLED (float32).\n"
                    ]
                },
                {
                    "data": {
                        "application/vnd.jupyter.widget-view+json": {
                            "model_id": "1bba676898ec45f18a2beacd80f36a34",
                            "version_major": 2,
                            "version_minor": 0
                        },
                        "text/plain": [
                            "    - Epochs:   0%|          | 0/50 [00:00<?, ?it/s]"
                        ]
                    },
                    "metadata": {},
                    "output_type": "display_data"
                },
                {
                    "name": "stdout",
                    "output_type": "stream",
                    "text": [
                        "    - Fold finished. Best validation loss: 0.004254 at epoch 1\n",
                        "INFO: DataLoader will use 8 parallel workers.\n",
                        "INFO: Automatic Mixed Precision (AMP) is DISABLED (float32).\n"
                    ]
                },
                {
                    "data": {
                        "application/vnd.jupyter.widget-view+json": {
                            "model_id": "497d19b69f2d4c4db14fe90e8163a7cc",
                            "version_major": 2,
                            "version_minor": 0
                        },
                        "text/plain": [
                            "    - Epochs:   0%|          | 0/50 [00:00<?, ?it/s]"
                        ]
                    },
                    "metadata": {},
                    "output_type": "display_data"
                },
                {
                    "name": "stdout",
                    "output_type": "stream",
                    "text": [
                        "    - Fold finished. Best validation loss: 0.002515 at epoch 2\n",
                        "INFO: DataLoader will use 8 parallel workers.\n",
                        "INFO: Automatic Mixed Precision (AMP) is DISABLED (float32).\n"
                    ]
                },
                {
                    "data": {
                        "application/vnd.jupyter.widget-view+json": {
                            "model_id": "db94c56e286d4b46af6bb00afe262a0a",
                            "version_major": 2,
                            "version_minor": 0
                        },
                        "text/plain": [
                            "    - Epochs:   0%|          | 0/50 [00:00<?, ?it/s]"
                        ]
                    },
                    "metadata": {},
                    "output_type": "display_data"
                },
                {
                    "name": "stdout",
                    "output_type": "stream",
                    "text": [
                        "    - Fold finished. Best validation loss: 0.008816 at epoch 2\n",
                        "INFO: DataLoader will use 8 parallel workers.\n",
                        "INFO: Automatic Mixed Precision (AMP) is DISABLED (float32).\n"
                    ]
                },
                {
                    "data": {
                        "application/vnd.jupyter.widget-view+json": {
                            "model_id": "7858a52862f540439c181ba932e8adaa",
                            "version_major": 2,
                            "version_minor": 0
                        },
                        "text/plain": [
                            "    - Epochs:   0%|          | 0/50 [00:00<?, ?it/s]"
                        ]
                    },
                    "metadata": {},
                    "output_type": "display_data"
                },
                {
                    "name": "stdout",
                    "output_type": "stream",
                    "text": [
                        "    - Fold finished. Best validation loss: 0.005242 at epoch 9\n",
                        "INFO: DataLoader will use 8 parallel workers.\n",
                        "INFO: Automatic Mixed Precision (AMP) is DISABLED (float32).\n"
                    ]
                },
                {
                    "data": {
                        "application/vnd.jupyter.widget-view+json": {
                            "model_id": "eddc6b9b002344ecac539da62b941052",
                            "version_major": 2,
                            "version_minor": 0
                        },
                        "text/plain": [
                            "    - Epochs:   0%|          | 0/50 [00:00<?, ?it/s]"
                        ]
                    },
                    "metadata": {},
                    "output_type": "display_data"
                },
                {
                    "name": "stdout",
                    "output_type": "stream",
                    "text": [
                        "    - Fold finished. Best validation loss: 0.056274 at epoch 33\n",
                        "INFO: DataLoader will use 8 parallel workers.\n",
                        "INFO: Automatic Mixed Precision (AMP) is DISABLED (float32).\n"
                    ]
                },
                {
                    "data": {
                        "application/vnd.jupyter.widget-view+json": {
                            "model_id": "dba6f664314545d68067f2049d9c3ed4",
                            "version_major": 2,
                            "version_minor": 0
                        },
                        "text/plain": [
                            "    - Epochs:   0%|          | 0/50 [00:00<?, ?it/s]"
                        ]
                    },
                    "metadata": {},
                    "output_type": "display_data"
                },
                {
                    "name": "stdout",
                    "output_type": "stream",
                    "text": [
                        "    - Fold finished. Best validation loss: 0.060647 at epoch 2\n",
                        "INFO: DataLoader will use 8 parallel workers.\n",
                        "INFO: Automatic Mixed Precision (AMP) is DISABLED (float32).\n"
                    ]
                },
                {
                    "data": {
                        "application/vnd.jupyter.widget-view+json": {
                            "model_id": "35a3ac8d8c9f408d89d5e3bc520c3a3a",
                            "version_major": 2,
                            "version_minor": 0
                        },
                        "text/plain": [
                            "    - Epochs:   0%|          | 0/50 [00:00<?, ?it/s]"
                        ]
                    },
                    "metadata": {},
                    "output_type": "display_data"
                },
                {
                    "name": "stdout",
                    "output_type": "stream",
                    "text": [
                        "    - Fold finished. Best validation loss: 0.060085 at epoch 14\n",
                        "INFO: DataLoader will use 8 parallel workers.\n",
                        "INFO: Automatic Mixed Precision (AMP) is DISABLED (float32).\n"
                    ]
                },
                {
                    "data": {
                        "application/vnd.jupyter.widget-view+json": {
                            "model_id": "c6f16444d4814d62b3a907a86b83acf0",
                            "version_major": 2,
                            "version_minor": 0
                        },
                        "text/plain": [
                            "    - Epochs:   0%|          | 0/50 [00:00<?, ?it/s]"
                        ]
                    },
                    "metadata": {},
                    "output_type": "display_data"
                },
                {
                    "name": "stdout",
                    "output_type": "stream",
                    "text": [
                        "    - Fold finished. Best validation loss: 0.043920 at epoch 18\n",
                        "INFO: DataLoader will use 8 parallel workers.\n",
                        "INFO: Automatic Mixed Precision (AMP) is DISABLED (float32).\n"
                    ]
                },
                {
                    "data": {
                        "application/vnd.jupyter.widget-view+json": {
                            "model_id": "c52be34a3882444aaaa77f69f75c2760",
                            "version_major": 2,
                            "version_minor": 0
                        },
                        "text/plain": [
                            "    - Epochs:   0%|          | 0/50 [00:00<?, ?it/s]"
                        ]
                    },
                    "metadata": {},
                    "output_type": "display_data"
                },
                {
                    "name": "stdout",
                    "output_type": "stream",
                    "text": [
                        "    - Fold finished. Best validation loss: 0.004957 at epoch 37\n",
                        "INFO: DataLoader will use 8 parallel workers.\n",
                        "INFO: Automatic Mixed Precision (AMP) is DISABLED (float32).\n"
                    ]
                },
                {
                    "data": {
                        "application/vnd.jupyter.widget-view+json": {
                            "model_id": "3e7fc9b3c59d4d9fbdf473934b62e919",
                            "version_major": 2,
                            "version_minor": 0
                        },
                        "text/plain": [
                            "    - Epochs:   0%|          | 0/50 [00:00<?, ?it/s]"
                        ]
                    },
                    "metadata": {},
                    "output_type": "display_data"
                },
                {
                    "name": "stdout",
                    "output_type": "stream",
                    "text": [
                        "    - Fold finished. Best validation loss: 0.003406 at epoch 1\n",
                        "INFO: DataLoader will use 8 parallel workers.\n",
                        "INFO: Automatic Mixed Precision (AMP) is DISABLED (float32).\n"
                    ]
                },
                {
                    "data": {
                        "application/vnd.jupyter.widget-view+json": {
                            "model_id": "374ba81efa204977ba7444a439be2fe5",
                            "version_major": 2,
                            "version_minor": 0
                        },
                        "text/plain": [
                            "    - Epochs:   0%|          | 0/50 [00:00<?, ?it/s]"
                        ]
                    },
                    "metadata": {},
                    "output_type": "display_data"
                },
                {
                    "name": "stdout",
                    "output_type": "stream",
                    "text": [
                        "    - Fold finished. Best validation loss: 0.005553 at epoch 31\n",
                        "INFO: DataLoader will use 8 parallel workers.\n",
                        "INFO: Automatic Mixed Precision (AMP) is DISABLED (float32).\n"
                    ]
                },
                {
                    "data": {
                        "application/vnd.jupyter.widget-view+json": {
                            "model_id": "89417252bd464d8d90024e1daed961be",
                            "version_major": 2,
                            "version_minor": 0
                        },
                        "text/plain": [
                            "    - Epochs:   0%|          | 0/50 [00:00<?, ?it/s]"
                        ]
                    },
                    "metadata": {},
                    "output_type": "display_data"
                },
                {
                    "name": "stdout",
                    "output_type": "stream",
                    "text": [
                        "    - Fold finished. Best validation loss: 0.003868 at epoch 9\n",
                        "INFO: DataLoader will use 8 parallel workers.\n",
                        "INFO: Automatic Mixed Precision (AMP) is DISABLED (float32).\n"
                    ]
                },
                {
                    "data": {
                        "application/vnd.jupyter.widget-view+json": {
                            "model_id": "46d9b822c7754d04a37c78584fd746d0",
                            "version_major": 2,
                            "version_minor": 0
                        },
                        "text/plain": [
                            "    - Epochs:   0%|          | 0/50 [00:00<?, ?it/s]"
                        ]
                    },
                    "metadata": {},
                    "output_type": "display_data"
                },
                {
                    "name": "stdout",
                    "output_type": "stream",
                    "text": [
                        "    - Fold finished. Best validation loss: 0.010263 at epoch 3\n",
                        "INFO: DataLoader will use 8 parallel workers.\n",
                        "INFO: Automatic Mixed Precision (AMP) is DISABLED (float32).\n"
                    ]
                },
                {
                    "data": {
                        "application/vnd.jupyter.widget-view+json": {
                            "model_id": "9f2bdd6242e244e4af7f3abff859b1f5",
                            "version_major": 2,
                            "version_minor": 0
                        },
                        "text/plain": [
                            "    - Epochs:   0%|          | 0/50 [00:00<?, ?it/s]"
                        ]
                    },
                    "metadata": {},
                    "output_type": "display_data"
                },
                {
                    "name": "stdout",
                    "output_type": "stream",
                    "text": [
                        "    - Fold finished. Best validation loss: 0.008289 at epoch 26\n",
                        "INFO: DataLoader will use 8 parallel workers.\n",
                        "INFO: Automatic Mixed Precision (AMP) is DISABLED (float32).\n"
                    ]
                },
                {
                    "data": {
                        "application/vnd.jupyter.widget-view+json": {
                            "model_id": "3163fe17baed4a13a33831c43c51e519",
                            "version_major": 2,
                            "version_minor": 0
                        },
                        "text/plain": [
                            "    - Epochs:   0%|          | 0/50 [00:00<?, ?it/s]"
                        ]
                    },
                    "metadata": {},
                    "output_type": "display_data"
                },
                {
                    "name": "stdout",
                    "output_type": "stream",
                    "text": [
                        "    - Fold finished. Best validation loss: 0.005909 at epoch 1\n",
                        "INFO: DataLoader will use 8 parallel workers.\n",
                        "INFO: Automatic Mixed Precision (AMP) is DISABLED (float32).\n"
                    ]
                },
                {
                    "data": {
                        "application/vnd.jupyter.widget-view+json": {
                            "model_id": "a54ef3a7184947ca9257de91dbc56162",
                            "version_major": 2,
                            "version_minor": 0
                        },
                        "text/plain": [
                            "    - Epochs:   0%|          | 0/50 [00:00<?, ?it/s]"
                        ]
                    },
                    "metadata": {},
                    "output_type": "display_data"
                },
                {
                    "name": "stdout",
                    "output_type": "stream",
                    "text": [
                        "    - Fold finished. Best validation loss: 0.015912 at epoch 7\n",
                        "INFO: DataLoader will use 8 parallel workers.\n",
                        "INFO: Automatic Mixed Precision (AMP) is DISABLED (float32).\n"
                    ]
                },
                {
                    "data": {
                        "application/vnd.jupyter.widget-view+json": {
                            "model_id": "86b561a2ac5a40ebbbb2c18dfe038717",
                            "version_major": 2,
                            "version_minor": 0
                        },
                        "text/plain": [
                            "    - Epochs:   0%|          | 0/50 [00:00<?, ?it/s]"
                        ]
                    },
                    "metadata": {},
                    "output_type": "display_data"
                },
                {
                    "name": "stdout",
                    "output_type": "stream",
                    "text": [
                        "    - Fold finished. Best validation loss: 0.021993 at epoch 48\n",
                        "INFO: DataLoader will use 8 parallel workers.\n",
                        "INFO: Automatic Mixed Precision (AMP) is DISABLED (float32).\n"
                    ]
                },
                {
                    "data": {
                        "application/vnd.jupyter.widget-view+json": {
                            "model_id": "492c6b3c559b4f0987d123c3009b7280",
                            "version_major": 2,
                            "version_minor": 0
                        },
                        "text/plain": [
                            "    - Epochs:   0%|          | 0/50 [00:00<?, ?it/s]"
                        ]
                    },
                    "metadata": {},
                    "output_type": "display_data"
                },
                {
                    "name": "stdout",
                    "output_type": "stream",
                    "text": [
                        "    - Fold finished. Best validation loss: 0.003360 at epoch 7\n",
                        "INFO: DataLoader will use 8 parallel workers.\n",
                        "INFO: Automatic Mixed Precision (AMP) is DISABLED (float32).\n"
                    ]
                },
                {
                    "data": {
                        "application/vnd.jupyter.widget-view+json": {
                            "model_id": "2d582efa5ba44165b0e76b8d3c93357c",
                            "version_major": 2,
                            "version_minor": 0
                        },
                        "text/plain": [
                            "    - Epochs:   0%|          | 0/50 [00:00<?, ?it/s]"
                        ]
                    },
                    "metadata": {},
                    "output_type": "display_data"
                },
                {
                    "name": "stdout",
                    "output_type": "stream",
                    "text": [
                        "    - Fold finished. Best validation loss: 0.004980 at epoch 4\n",
                        "INFO: DataLoader will use 8 parallel workers.\n",
                        "INFO: Automatic Mixed Precision (AMP) is DISABLED (float32).\n"
                    ]
                },
                {
                    "data": {
                        "application/vnd.jupyter.widget-view+json": {
                            "model_id": "5d18a31c0abc464f8b521cb3e559fd59",
                            "version_major": 2,
                            "version_minor": 0
                        },
                        "text/plain": [
                            "    - Epochs:   0%|          | 0/50 [00:00<?, ?it/s]"
                        ]
                    },
                    "metadata": {},
                    "output_type": "display_data"
                },
                {
                    "name": "stdout",
                    "output_type": "stream",
                    "text": [
                        "    - Fold finished. Best validation loss: 0.002090 at epoch 6\n",
                        "INFO: DataLoader will use 8 parallel workers.\n",
                        "INFO: Automatic Mixed Precision (AMP) is DISABLED (float32).\n"
                    ]
                },
                {
                    "data": {
                        "application/vnd.jupyter.widget-view+json": {
                            "model_id": "7637549e0e354629bb6381b2fcbbb96e",
                            "version_major": 2,
                            "version_minor": 0
                        },
                        "text/plain": [
                            "    - Epochs:   0%|          | 0/50 [00:00<?, ?it/s]"
                        ]
                    },
                    "metadata": {},
                    "output_type": "display_data"
                },
                {
                    "name": "stdout",
                    "output_type": "stream",
                    "text": [
                        "    - Fold finished. Best validation loss: 0.000862 at epoch 3\n",
                        "INFO: DataLoader will use 8 parallel workers.\n",
                        "INFO: Automatic Mixed Precision (AMP) is DISABLED (float32).\n"
                    ]
                },
                {
                    "data": {
                        "application/vnd.jupyter.widget-view+json": {
                            "model_id": "2f6e911041e341aba177b96e98eea30a",
                            "version_major": 2,
                            "version_minor": 0
                        },
                        "text/plain": [
                            "    - Epochs:   0%|          | 0/50 [00:00<?, ?it/s]"
                        ]
                    },
                    "metadata": {},
                    "output_type": "display_data"
                },
                {
                    "name": "stdout",
                    "output_type": "stream",
                    "text": [
                        "    - Fold finished. Best validation loss: 0.011456 at epoch 1\n",
                        "INFO: DataLoader will use 8 parallel workers.\n",
                        "INFO: Automatic Mixed Precision (AMP) is DISABLED (float32).\n"
                    ]
                },
                {
                    "data": {
                        "application/vnd.jupyter.widget-view+json": {
                            "model_id": "c40495b03b294fdb898d41fc2854f625",
                            "version_major": 2,
                            "version_minor": 0
                        },
                        "text/plain": [
                            "    - Epochs:   0%|          | 0/50 [00:00<?, ?it/s]"
                        ]
                    },
                    "metadata": {},
                    "output_type": "display_data"
                },
                {
                    "name": "stdout",
                    "output_type": "stream",
                    "text": [
                        "    - Fold finished. Best validation loss: 0.008726 at epoch 5\n",
                        "INFO: DataLoader will use 8 parallel workers.\n",
                        "INFO: Automatic Mixed Precision (AMP) is DISABLED (float32).\n"
                    ]
                },
                {
                    "data": {
                        "application/vnd.jupyter.widget-view+json": {
                            "model_id": "2e3957191f7048fc9f3b99a7d8a2dbd2",
                            "version_major": 2,
                            "version_minor": 0
                        },
                        "text/plain": [
                            "    - Epochs:   0%|          | 0/50 [00:00<?, ?it/s]"
                        ]
                    },
                    "metadata": {},
                    "output_type": "display_data"
                },
                {
                    "name": "stdout",
                    "output_type": "stream",
                    "text": [
                        "    - Fold finished. Best validation loss: 0.009894 at epoch 1\n",
                        "INFO: DataLoader will use 8 parallel workers.\n",
                        "INFO: Automatic Mixed Precision (AMP) is DISABLED (float32).\n"
                    ]
                },
                {
                    "data": {
                        "application/vnd.jupyter.widget-view+json": {
                            "model_id": "2243a8d4c69348748bd7e71946333bcb",
                            "version_major": 2,
                            "version_minor": 0
                        },
                        "text/plain": [
                            "    - Epochs:   0%|          | 0/50 [00:00<?, ?it/s]"
                        ]
                    },
                    "metadata": {},
                    "output_type": "display_data"
                },
                {
                    "name": "stdout",
                    "output_type": "stream",
                    "text": [
                        "    - Fold finished. Best validation loss: 0.009708 at epoch 4\n",
                        "INFO: DataLoader will use 8 parallel workers.\n",
                        "INFO: Automatic Mixed Precision (AMP) is DISABLED (float32).\n"
                    ]
                },
                {
                    "data": {
                        "application/vnd.jupyter.widget-view+json": {
                            "model_id": "4a9dd2fbec5c4feb83fa03e4436254b2",
                            "version_major": 2,
                            "version_minor": 0
                        },
                        "text/plain": [
                            "    - Epochs:   0%|          | 0/50 [00:00<?, ?it/s]"
                        ]
                    },
                    "metadata": {},
                    "output_type": "display_data"
                },
                {
                    "name": "stdout",
                    "output_type": "stream",
                    "text": [
                        "    - Fold finished. Best validation loss: 0.001207 at epoch 11\n",
                        "INFO: DataLoader will use 8 parallel workers.\n",
                        "INFO: Automatic Mixed Precision (AMP) is DISABLED (float32).\n"
                    ]
                },
                {
                    "data": {
                        "application/vnd.jupyter.widget-view+json": {
                            "model_id": "1472f25095934629a6daaf95a6d1db20",
                            "version_major": 2,
                            "version_minor": 0
                        },
                        "text/plain": [
                            "    - Epochs:   0%|          | 0/50 [00:00<?, ?it/s]"
                        ]
                    },
                    "metadata": {},
                    "output_type": "display_data"
                },
                {
                    "name": "stdout",
                    "output_type": "stream",
                    "text": [
                        "    - Fold finished. Best validation loss: 0.008918 at epoch 9\n",
                        "INFO: DataLoader will use 8 parallel workers.\n",
                        "INFO: Automatic Mixed Precision (AMP) is DISABLED (float32).\n"
                    ]
                },
                {
                    "data": {
                        "application/vnd.jupyter.widget-view+json": {
                            "model_id": "16d85c25bf1d4ebb9aa8f9750a5cbaff",
                            "version_major": 2,
                            "version_minor": 0
                        },
                        "text/plain": [
                            "    - Epochs:   0%|          | 0/50 [00:00<?, ?it/s]"
                        ]
                    },
                    "metadata": {},
                    "output_type": "display_data"
                },
                {
                    "name": "stdout",
                    "output_type": "stream",
                    "text": [
                        "    - Fold finished. Best validation loss: 0.010657 at epoch 3\n",
                        "INFO: DataLoader will use 8 parallel workers.\n",
                        "INFO: Automatic Mixed Precision (AMP) is DISABLED (float32).\n"
                    ]
                },
                {
                    "data": {
                        "application/vnd.jupyter.widget-view+json": {
                            "model_id": "f86ace32931f49e691d2e0e7e4853839",
                            "version_major": 2,
                            "version_minor": 0
                        },
                        "text/plain": [
                            "    - Epochs:   0%|          | 0/50 [00:00<?, ?it/s]"
                        ]
                    },
                    "metadata": {},
                    "output_type": "display_data"
                },
                {
                    "name": "stdout",
                    "output_type": "stream",
                    "text": [
                        "    - Fold finished. Best validation loss: 0.023413 at epoch 1\n",
                        "INFO: DataLoader will use 8 parallel workers.\n",
                        "INFO: Automatic Mixed Precision (AMP) is DISABLED (float32).\n"
                    ]
                },
                {
                    "data": {
                        "application/vnd.jupyter.widget-view+json": {
                            "model_id": "31323fc0f8c149cf9f597114cae15eee",
                            "version_major": 2,
                            "version_minor": 0
                        },
                        "text/plain": [
                            "    - Epochs:   0%|          | 0/50 [00:00<?, ?it/s]"
                        ]
                    },
                    "metadata": {},
                    "output_type": "display_data"
                },
                {
                    "name": "stdout",
                    "output_type": "stream",
                    "text": [
                        "    - Fold finished. Best validation loss: 0.000780 at epoch 10\n",
                        "INFO: DataLoader will use 8 parallel workers.\n",
                        "INFO: Automatic Mixed Precision (AMP) is DISABLED (float32).\n"
                    ]
                },
                {
                    "data": {
                        "application/vnd.jupyter.widget-view+json": {
                            "model_id": "dc0301377aab4bb4aa3300aff8e7cd23",
                            "version_major": 2,
                            "version_minor": 0
                        },
                        "text/plain": [
                            "    - Epochs:   0%|          | 0/50 [00:00<?, ?it/s]"
                        ]
                    },
                    "metadata": {},
                    "output_type": "display_data"
                },
                {
                    "name": "stdout",
                    "output_type": "stream",
                    "text": [
                        "    - Fold finished. Best validation loss: 0.003672 at epoch 7\n",
                        "INFO: DataLoader will use 8 parallel workers.\n",
                        "INFO: Automatic Mixed Precision (AMP) is DISABLED (float32).\n"
                    ]
                },
                {
                    "data": {
                        "application/vnd.jupyter.widget-view+json": {
                            "model_id": "25e571c4aef34d32b9497d6bcd85191d",
                            "version_major": 2,
                            "version_minor": 0
                        },
                        "text/plain": [
                            "    - Epochs:   0%|          | 0/50 [00:00<?, ?it/s]"
                        ]
                    },
                    "metadata": {},
                    "output_type": "display_data"
                },
                {
                    "name": "stdout",
                    "output_type": "stream",
                    "text": [
                        "    - Fold finished. Best validation loss: 0.000545 at epoch 37\n",
                        "INFO: DataLoader will use 8 parallel workers.\n",
                        "INFO: Automatic Mixed Precision (AMP) is DISABLED (float32).\n"
                    ]
                },
                {
                    "data": {
                        "application/vnd.jupyter.widget-view+json": {
                            "model_id": "b0c756bfa4bd4216b159e81bf8ad5b6d",
                            "version_major": 2,
                            "version_minor": 0
                        },
                        "text/plain": [
                            "    - Epochs:   0%|          | 0/50 [00:00<?, ?it/s]"
                        ]
                    },
                    "metadata": {},
                    "output_type": "display_data"
                },
                {
                    "name": "stdout",
                    "output_type": "stream",
                    "text": [
                        "    - Fold finished. Best validation loss: 0.006374 at epoch 1\n",
                        "INFO: DataLoader will use 8 parallel workers.\n",
                        "INFO: Automatic Mixed Precision (AMP) is DISABLED (float32).\n"
                    ]
                },
                {
                    "data": {
                        "application/vnd.jupyter.widget-view+json": {
                            "model_id": "206fc18eccb940b682d8f11b501158ae",
                            "version_major": 2,
                            "version_minor": 0
                        },
                        "text/plain": [
                            "    - Epochs:   0%|          | 0/50 [00:00<?, ?it/s]"
                        ]
                    },
                    "metadata": {},
                    "output_type": "display_data"
                },
                {
                    "name": "stdout",
                    "output_type": "stream",
                    "text": [
                        "    - Fold finished. Best validation loss: 0.004848 at epoch 45\n",
                        "INFO: DataLoader will use 8 parallel workers.\n",
                        "INFO: Automatic Mixed Precision (AMP) is DISABLED (float32).\n"
                    ]
                },
                {
                    "data": {
                        "application/vnd.jupyter.widget-view+json": {
                            "model_id": "a89920a19094492a82677edd81b2c1f0",
                            "version_major": 2,
                            "version_minor": 0
                        },
                        "text/plain": [
                            "    - Epochs:   0%|          | 0/50 [00:00<?, ?it/s]"
                        ]
                    },
                    "metadata": {},
                    "output_type": "display_data"
                },
                {
                    "name": "stdout",
                    "output_type": "stream",
                    "text": [
                        "    - Fold finished. Best validation loss: 0.000833 at epoch 10\n",
                        "INFO: DataLoader will use 8 parallel workers.\n",
                        "INFO: Automatic Mixed Precision (AMP) is DISABLED (float32).\n"
                    ]
                },
                {
                    "data": {
                        "application/vnd.jupyter.widget-view+json": {
                            "model_id": "d3bbde90f0f344b5bb86b261f0ada367",
                            "version_major": 2,
                            "version_minor": 0
                        },
                        "text/plain": [
                            "    - Epochs:   0%|          | 0/50 [00:00<?, ?it/s]"
                        ]
                    },
                    "metadata": {},
                    "output_type": "display_data"
                }
            ],
            "source": [
                "# 2.3 模型训练\n",
                "\n",
                "FORCE_RETRAIN = False # 是否重新训练模型\n",
                "all_ic_history = []\n",
                "\n",
                "print(\"--- Starting Stage 2.3: Model Training ---\\n\")\n",
                "print(f\"INFO: Force re-train for base models is set to: {FORCE_RETRAIN}\")\n",
                "\n",
                "if config and stocks_to_process:\n",
                "    models_to_train = global_settings.get('models_to_train', ['lgbm', 'lstm'])\n",
                "    stock_iterator = tqdm(stocks_to_process, desc=\"Processing Stocks\")\n",
                "\n",
                "    for stock_info in stock_iterator:\n",
                "        ticker = stock_info.get('ticker')\n",
                "        if not ticker or ticker not in global_data_cache:\n",
                "            continue\n",
                "        \n",
                "        keyword = stock_info.get('keyword', ticker)\n",
                "        stock_iterator.set_description(f\"Processing {keyword}\")\n",
                "        \n",
                "        cached_stock_data = global_data_cache[ticker]\n",
                "        full_df = cached_stock_data['full_df']\n",
                "        \n",
                "        for model_type in models_to_train:\n",
                "            use_lstm_for_this_stock = stock_info.get('use_lstm')\n",
                "            if use_lstm_for_this_stock is None:\n",
                "                use_lstm_for_this_stock = global_settings.get('use_lstm_globally', True)\n",
                "            if model_type == 'lstm' and not use_lstm_for_this_stock:\n",
                "                print(f\"\\nINFO: {keyword} is configured to not use LSTM, skipping.\")\n",
                "                continue\n",
                "\n",
                "            model_dir = Path(global_settings.get('model_dir', 'models')) / ticker\n",
                "            ic_history_path = model_dir / f\"{model_type}_ic_history.csv\"\n",
                "            # 我们也检查模型文件本身\n",
                "            file_suffixes = {'lgbm': '.pkl', 'lstm': '.pt'}\n",
                "            model_files = list(model_dir.glob(f\"{model_type}_model_*{file_suffixes[model_type]}\"))\n",
                "\n",
                "            if ic_history_path.exists() and model_files and not FORCE_RETRAIN:\n",
                "                print(f\"\\nINFO: Found existing model and IC history for {keyword} [{model_type.upper()}]. Skipping training.\")\n",
                "                try:\n",
                "                    ic_history = pd.read_csv(ic_history_path, index_col='date', parse_dates=True)\n",
                "                    all_ic_history.append(ic_history)\n",
                "                except Exception as e:\n",
                "                    print(f\"  - WARNNING: Failed to load existing IC history: {e}\")\n",
                "                continue\n",
                "\n",
                "            folds_key = f\"{model_type}_folds\"\n",
                "            preprocessed_folds = cached_stock_data.get(folds_key)\n",
                "            if not preprocessed_folds:\n",
                "                print(f\"\\nWARNNING: No pre-processed folds for '{model_type}' on {keyword}. Skipping.\")\n",
                "                continue\n",
                "\n",
                "            # --- 核心修正：确保 run_config 的构建 100% 正确 ---\n",
                "            run_config = {\n",
                "                'global_settings': global_settings, \n",
                "                'strategy_config': strategy_config,\n",
                "                'default_model_params': default_model_params, \n",
                "                'stocks_to_process': [stock_info],\n",
                "                'full_df_for_final_model': full_df\n",
                "            }\n",
                "\n",
                "            ic_history = run_training_for_ticker(\n",
                "                preprocessed_folds=preprocessed_folds,\n",
                "                ticker=ticker,\n",
                "                model_type=model_type,\n",
                "                config=run_config, \n",
                "                force_retrain=FORCE_RETRAIN,\n",
                "                keyword=keyword\n",
                "            )\n",
                "            \n",
                "            if ic_history is not None and not ic_history.empty:\n",
                "                all_ic_history.append(ic_history)\n",
                "else:\n",
                "    print(\"ERROR: Config or stocks_to_process is empty.\")"
            ]
        },
        {
            "cell_type": "markdown",
            "metadata": {},
            "source": [
                "### 2.3.5 融合模型训练"
            ]
        },
        {
            "cell_type": "code",
            "execution_count": null,
            "metadata": {},
            "outputs": [],
            "source": [
                "FORCE_FUSER_RETRAIN = True\n",
                "\n",
                "if config and stocks_to_process:\n",
                "    fuser_iterator = tqdm(stocks_to_process, desc=\"Training Fusers\")\n",
                "    for stock_info in fuser_iterator:\n",
                "        ticker = stock_info.get('ticker')\n",
                "        keyword = stock_info.get('keyword', ticker)\n",
                "        fuser_iterator.set_description(f\"Training Fuser for {keyword}\")\n",
                "        if not ticker: continue\n",
                "\n",
                "        run_config = {\n",
                "            'global_settings': global_settings, \n",
                "            'strategy_config': strategy_config,\n",
                "            'default_model_params': default_model_params,\n",
                "            'stocks_to_process': [stock_info]\n",
                "        }\n",
                "        fuser = ModelFuser(ticker, run_config)\n",
                "        \n",
                "        # 如果不强制重训，并且 fuser_meta.json 文件已存在，则跳过\n",
                "        if not FORCE_FUSER_RETRAIN and fuser.meta_path.exists():\n",
                "            print(f\"INFO: Fusion model meta for {keyword} already exists. Skipping training.\")\n",
                "            continue\n",
                "\n",
                "        print(f\"\\n--- 正在为 {keyword} ({ticker}) 训练融合元模型... ---\")\n",
                "        fuser.train()"
            ]
        },
        {
            "cell_type": "markdown",
            "metadata": {},
            "source": [
                "### 2.4 结果聚合、评估与可视化"
            ]
        },
        {
            "cell_type": "code",
            "execution_count": null,
            "metadata": {},
            "outputs": [],
            "source": [
                "print(\"\\\\n--- Stage 2.4: Aggregating, Fusing, and Visualizing Results ---\\n\")\n",
                "\n",
                "if all_ic_history:\n",
                "    # 1. 准备基础数据，并确保对于每个 (ticker, model_type) 组合，日期是唯一的\n",
                "    full_ic_df = pd.concat(all_ic_history).drop_duplicates(subset=['ticker', 'model_type', 'date'], keep='last')\n",
                "    full_ic_df['ticker_name'] = full_ic_df['ticker'].map({s['ticker']: s.get('keyword', s['ticker']) for s in stocks_to_process})\n",
                "    \n",
                "    # 2. 模拟融合模型的表现\n",
                "    fusion_ic_list = []\n",
                "    for ticker, group_df in full_ic_df.groupby('ticker'):\n",
                "        try:\n",
                "            pivot_df = group_df.pivot(index='date', columns='model_type', values='rank_ic')\n",
                "            if 'lgbm' not in pivot_df.columns or 'lstm' not in pivot_df.columns: continue\n",
                "            \n",
                "            pivot_df.dropna(inplace=True)\n",
                "            if len(pivot_df) < 2: continue # 至少需要2个重叠点才能有意义\n",
                "            \n",
                "            span = strategy_config.get('fusion_ic_span', 120)\n",
                "            rolling_ic_lgbm = abs(pivot_df['lgbm']).ewm(span=span, adjust=False).mean()\n",
                "            rolling_ic_lstm = abs(pivot_df['lstm']).ewm(span=span, adjust=False).mean()\n",
                "            total_rolling_ic = rolling_ic_lgbm + rolling_ic_lstm\n",
                "            w_lgbm = (rolling_ic_lgbm / total_rolling_ic).fillna(0.5)\n",
                "            w_lstm = 1 - w_lgbm\n",
                "            \n",
                "            pivot_df['fusion'] = (pivot_df['lgbm'] * w_lgbm) + (pivot_df['lstm'] * w_lstm)\n",
                "            \n",
                "            fusion_ic_stock_df = pivot_df[['fusion']].rename(columns={'fusion': 'rank_ic'}).reset_index()\n",
                "            fusion_ic_stock_df['ticker'] = ticker\n",
                "            fusion_ic_stock_df['model_type'] = 'FUSION'\n",
                "            fusion_ic_stock_df['ticker_name'] = group_df['ticker_name'].iloc[0]\n",
                "            fusion_ic_list.append(fusion_ic_stock_df)\n",
                "        except Exception as e:\n",
                "            print(f\"WARNNING: 为 {ticker} 计算融合模型 IC 时出错: {e}\")\n",
                "\n",
                "    # 3. 合并所有数据\n",
                "    final_eval_df = pd.concat([full_ic_df] + fusion_ic_list, ignore_index=True) if fusion_ic_list else full_ic_df\n",
                "    \n",
                "    # --- 4. 聚合与 ICIR 计算 ---\n",
                "    def safe_std(x):\n",
                "        return x.std(ddof=0) if len(x) > 1 else 0.0\n",
                "\n",
                "    evaluation_summary = final_eval_df.groupby(['ticker_name', 'model_type'])['rank_ic'].agg(\n",
                "        mean='mean',\n",
                "        std=safe_std\n",
                "    ).reset_index()\n",
                "\n",
                "    # 只有在 std > 0 时才计算 icir，否则为 0 或由均值决定\n",
                "    evaluation_summary['icir'] = np.where(\n",
                "        evaluation_summary['std'] > 1e-8, \n",
                "        evaluation_summary['mean'] / evaluation_summary['std'], \n",
                "        evaluation_summary['mean'] * 100 # 如果 std=0, 说明表现极度稳定, 给一个由均值决定的高分\n",
                "    )\n",
                "    \n",
                "    # --- 5. 可视化 ---\n",
                "    print(\"\\n--- ICIR 对比图 (缩放至合理范围) ---\")\n",
                "    \n",
                "    # 【1. 定义更专业的颜色】\n",
                "    # 使用一套更现代、区分度更高的颜色\n",
                "    custom_palette = {\n",
                "        \"lgbm\": \"#49b6ff\",\n",
                "        \"lstm\": \"#ffa915\",\n",
                "        \"FUSION\": \"#2ecc71\"\n",
                "    }\n",
                "\n",
                "    # 【2. 创建画布并绘制核心图表】\n",
                "    # 增大 figsize 的宽度，让每个股票的柱子有更多空间\n",
                "    fig, ax = plt.subplots(figsize=(20, 10))\n",
                "    sns.barplot(\n",
                "        data=evaluation_summary, \n",
                "        x='ticker_name', \n",
                "        y='icir', \n",
                "        hue='model_type',\n",
                "        palette=custom_palette, # 使用自定义颜色\n",
                "        ax=ax\n",
                "    )\n",
                "\n",
                "    # 【3. 为每个柱子添加精确的数值标签】\n",
                "    for p in ax.patches:\n",
                "        height = p.get_height()\n",
                "        if np.isnan(height): continue # 跳过 NaN 值\n",
                "        \n",
                "        # 根据柱子的高度，决定标签的位置（在柱顶上方或柱底下方）\n",
                "        y_offset = 0.03 * (2 - (-2)) # 动态计算偏移量，为 Y 轴范围的 3%\n",
                "        y_pos = height + y_offset if height >= 0 else height - y_offset\n",
                "        va = 'bottom' if height >= 0 else 'top'\n",
                "        \n",
                "        ax.text(\n",
                "            p.get_x() + p.get_width() / 2., # X 轴位置：柱子中心\n",
                "            y_pos,                          # Y 轴位置：在柱顶/底的上方/下方\n",
                "            f'{height:.2f}',                # 标签文本：格式化为两位小数\n",
                "            ha='center',                    # 水平居中\n",
                "            va=va,                          # 垂直对齐\n",
                "            fontsize=10,\n",
                "            color='dimgray',\n",
                "            fontweight='semibold'\n",
                "        )\n",
                "\n",
                "    # 【4. 优化图表美学细节】\n",
                "    REASONABLE_ICIR_RANGE = [-2.0, 2.0]\n",
                "    ax.set_ylim(REASONABLE_ICIR_RANGE)\n",
                "    ax.set_title(f'模型信息比率 (ICIR) 对比 - 缩放视图 (Y轴范围: {REASONABLE_ICIR_RANGE})', fontsize=20, fontweight='bold', pad=20)\n",
                "    ax.set_xlabel('股票', fontsize=14, fontweight='bold')\n",
                "    ax.set_ylabel('ICIR (信息比率)', fontsize=14, fontweight='bold')\n",
                "    \n",
                "    # 优化网格线\n",
                "    ax.grid(axis='y', linestyle='--', alpha=0.7)\n",
                "    ax.grid(axis='x', linestyle='', alpha=0) # 关闭垂直网格线\n",
                "    \n",
                "    # 优化坐标轴标签\n",
                "    ax.tick_params(axis='x', rotation=45, labelsize=12)\n",
                "    ax.tick_params(axis='y', labelsize=12)\n",
                "    \n",
                "    # 移除顶部和右侧的边框\n",
                "    sns.despine(ax=ax)\n",
                "    \n",
                "    # 优化图例\n",
                "    ax.legend(title='模型类型', fontsize=12, title_fontsize=13, loc='upper left')\n",
                "    \n",
                "    # 添加 ICIR=0.5 的参考线\n",
                "    ax.axhline(0.5, color='red', linestyle='--', label='ICIR=0.5 (良好)')\n",
                "    \n",
                "    # 重新绘制图例以包含参考线\n",
                "    handles, labels = ax.get_legend_handles_labels()\n",
                "    ax.legend(handles=handles, labels=labels, title='模型类型', fontsize=12, title_fontsize=13, loc='upper left')\n",
                "\n",
                "    plt.tight_layout()\n",
                "    plt.show()\n",
                "\n",
                "    \n",
                "    # 绘制累积 IC 曲线图，使用 final_eval_df\n",
                "    plot_df = final_eval_df.copy()\n",
                "    plot_df['date'] = pd.to_datetime(plot_df['date'])\n",
                "    plot_df.sort_values('date', inplace=True)\n",
                "    # 确保 groupby 的列存在\n",
                "    if 'ticker_name' in plot_df.columns and 'model_type' in plot_df.columns:\n",
                "        plot_df['cumulative_ic'] = plot_df.groupby(['ticker_name', 'model_type'])['rank_ic'].cumsum()\n",
                "        \n",
                "        plt.figure(figsize=(16, 9))\n",
                "        sns.lineplot(data=plot_df, x='date', y='cumulative_ic', hue='ticker_name', style='model_type', marker='o', markersize=4, linestyle='--')\n",
                "        plt.title('模型累积 Rank IC 曲线 (含融合模型)', fontsize=16)\n",
                "        plt.xlabel('日期', fontsize=12); plt.ylabel('累积 Rank IC', fontsize=12)\n",
                "        plt.legend(title='股票/模型'); plt.tight_layout(); plt.show()\n",
                "\n",
                "else:\n",
                "    print(\"\\nWARNNING: 训练期间未生成 IC 历史。跳过汇总和评估。\")"
            ]
        }
    ],
    "metadata": {
        "...": "...",
        "kernelspec": {
            "display_name": ".venv",
            "language": "python",
            "name": "python3"
        },
        "language_info": {
            "codemirror_mode": {
                "name": "ipython",
                "version": 3
            },
            "file_extension": ".py",
            "mimetype": "text/x-python",
            "name": "python",
            "nbconvert_exporter": "python",
            "pygments_lexer": "ipython3",
            "version": "3.13.0"
        }
    },
    "nbformat": 4,
    "nbformat_minor": 4
}
