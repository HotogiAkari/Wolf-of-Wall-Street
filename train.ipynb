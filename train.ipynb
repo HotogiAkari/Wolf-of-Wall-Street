{
    "cells": [
        {
            "cell_type": "markdown",
            "metadata": {},
            "source": [
                "# 股票预测模型工作流\n",
                "\n",
                "---\n",
                "### 工作流说明\n",
                "1.  **阶段零 (Setup)**: 导入库、加载配置。\n",
                "2.  **阶段一 (Data Pipeline)**: 独立运行。负责处理并保存数据，生成 L2 特征数据缓存。\n",
                "3.  **阶段二 (Model Pipeline)**: 独立运行。包含三个子步骤：\n",
                "    - **2.1 HPO**: 自动调参。\n",
                "    - **2.2 (预处理)**: 智能地加载或生成 L3 预处理数据缓存\n",
                "    - **2.3 (模型训练)**: 使用 L3 缓存进行高效的模型训练。\n",
                "    - **2.4 (评估)**: 对训练结果进行聚合与可视化。"
            ]
        },
        {
            "cell_type": "markdown",
            "metadata": {},
            "source": [
                "## 0. 通用设置与导入"
            ]
        },
        {
            "cell_type": "code",
            "execution_count": 1,
            "metadata": {},
            "outputs": [
                {
                    "name": "stderr",
                    "output_type": "stream",
                    "text": [
                        "d:\\Project\\Command\\Python\\Neural\\Wolf_of_Wall_Street\\main_train.py:13: TqdmExperimentalWarning: Using `tqdm.autonotebook.tqdm` in notebook mode. Use `tqdm.tqdm` instead to force console mode (e.g. in jupyter console)\n",
                        "  from tqdm.autonotebook import tqdm\n"
                    ]
                },
                {
                    "name": "stdout",
                    "output_type": "stream",
                    "text": [
                        "--- 正在初始化环境：加载配置与模块... ---\n",
                        "INFO: 底层并行计算库线程数已设置为: 4\n",
                        "INFO: 项目模块导入成功。\n",
                        "SUCCESS: 配置已从 'configs/config.yaml' 加载。\n"
                    ]
                }
            ],
            "source": [
                "import sys\n",
                "from pathlib import Path\n",
                "import matplotlib.pyplot as plt\n",
                "import seaborn as sns\n",
                "\n",
                "# 设置 Matplotlib 样式 (可以在 main_train 外部设置)\n",
                "plt.style.use('seaborn-v0_8-whitegrid')\n",
                "plt.rcParams['font.sans-serif'] = ['SimHei']\n",
                "plt.rcParams['axes.unicode_minus'] = False\n",
                "\n",
                "# --- 动态导入 main_train ---\n",
                "project_root = str(Path().resolve())\n",
                "if project_root not in sys.path:\n",
                "    sys.path.append(project_root)\n",
                "\n",
                "# 从我们统一的核心引擎中导入所有需要的函数和模块\n",
                "from main_train import (\n",
                "    run_load_config_and_modules,\n",
                "    run_all_data_pipeline,\n",
                "    run_preprocess_l3_cache,\n",
                "    run_hpo_train,\n",
                "    run_all_models_train,\n",
                "    run_performance_evaluation,\n",
                "    run_results_visualization\n",
                ")\n",
                "\n",
                "# --- 加载全局配置和模块 ---\n",
                "# 在 Notebook 的生命周期中，我们只加载一次\n",
                "config, modules = run_load_config_and_modules()\n",
                "\n",
                "if not (config and modules):\n",
                "    raise RuntimeError(\"环境初始化失败，请检查配置文件路径和模块导入。\")"
            ]
        },
        {
            "cell_type": "markdown",
            "metadata": {},
            "source": [
                "# **阶段一：数据准备与特征工程**"
            ]
        },
        {
            "cell_type": "code",
            "execution_count": 2,
            "metadata": {},
            "outputs": [
                {
                    "name": "stdout",
                    "output_type": "stream",
                    "text": [
                        "--- INFO: 日期模式 -> 使用最新日期 ---\n",
                        "=== 阶段一：数据准备与特征工程 ===\n",
                        "INFO: 已启用动态日期模式，将使用今天的日期 '2025-10-26' 作为 end_date。\n",
                        "      计算得出的 start_date 为: 2010-10-26\n",
                        "INFO: 正在尝试登录 Baostock...\n",
                        "login success!\n",
                        "INFO: Baostock API 登录成功。\n",
                        "INFO: 未在配置中提供有效的 Tushare Token，将跳过 Tushare 相关数据。\n",
                        "开始执行数据管道协调任务...\n",
                        "INFO: 正在根据 'end_date' 和 'data_lookback_years' 动态计算 'start_date'...\n",
                        "      计算得出的 start_date 为: 2010-10-26，已更新到本次运行的全局配置中。\n",
                        "ERROR: 数据处理阶段发生严重错误: name 'json' is not defined\n",
                        "logout success!\n",
                        "INFO: Baostock API 已成功登出.\n"
                    ]
                },
                {
                    "ename": "NameError",
                    "evalue": "name 'json' is not defined",
                    "output_type": "error",
                    "traceback": [
                        "\u001b[31m---------------------------------------------------------------------------\u001b[39m",
                        "\u001b[31mNameError\u001b[39m                                 Traceback (most recent call last)",
                        "\u001b[36mCell\u001b[39m\u001b[36m \u001b[39m\u001b[32mIn[2]\u001b[39m\u001b[32m, line 6\u001b[39m\n\u001b[32m      3\u001b[39m \u001b[38;5;28mprint\u001b[39m(\u001b[33mf\u001b[39m\u001b[33m\"\u001b[39m\u001b[33m--- INFO: 日期模式 -> \u001b[39m\u001b[38;5;132;01m{\u001b[39;00m\u001b[33m'\u001b[39m\u001b[33m使用最新日期\u001b[39m\u001b[33m'\u001b[39m\u001b[38;5;250m \u001b[39m\u001b[38;5;28;01mif\u001b[39;00m\u001b[38;5;250m \u001b[39mUSE_LATEST_DATE\u001b[38;5;250m \u001b[39m\u001b[38;5;28;01melse\u001b[39;00m\u001b[38;5;250m \u001b[39m\u001b[33m'\u001b[39m\u001b[33m使用配置文件中的固定日期\u001b[39m\u001b[33m'\u001b[39m\u001b[38;5;132;01m}\u001b[39;00m\u001b[33m ---\u001b[39m\u001b[33m\"\u001b[39m)\n\u001b[32m      5\u001b[39m \u001b[38;5;66;03m# 将开关状态传递给核心引擎函数\u001b[39;00m\n\u001b[32m----> \u001b[39m\u001b[32m6\u001b[39m \u001b[43mrun_all_data_pipeline\u001b[49m\u001b[43m(\u001b[49m\u001b[43mconfig\u001b[49m\u001b[43m,\u001b[49m\u001b[43m \u001b[49m\u001b[43mmodules\u001b[49m\u001b[43m,\u001b[49m\u001b[43m \u001b[49m\u001b[43muse_today_as_end_date\u001b[49m\u001b[43m=\u001b[49m\u001b[43mUSE_LATEST_DATE\u001b[49m\u001b[43m)\u001b[49m\n",
                        "\u001b[36mFile \u001b[39m\u001b[32md:\\Project\\Command\\Python\\Neural\\Wolf_of_Wall_Street\\main_train.py:635\u001b[39m, in \u001b[36mrun_all_data_pipeline\u001b[39m\u001b[34m(config, modules, use_today_as_end_date)\u001b[39m\n\u001b[32m    633\u001b[39m \u001b[38;5;28;01mtry\u001b[39;00m:\n\u001b[32m    634\u001b[39m     modules[\u001b[33m'\u001b[39m\u001b[33minitialize_apis\u001b[39m\u001b[33m'\u001b[39m](config)\n\u001b[32m--> \u001b[39m\u001b[32m635\u001b[39m     \u001b[43mmodules\u001b[49m\u001b[43m[\u001b[49m\u001b[33;43m'\u001b[39;49m\u001b[33;43mrun_data_pipeline\u001b[39;49m\u001b[33;43m'\u001b[39;49m\u001b[43m]\u001b[49m\u001b[43m(\u001b[49m\u001b[43mconfig\u001b[49m\u001b[43m)\u001b[49m \u001b[38;5;66;03m# run_data_pipeline 现在接收一个已准备好日期的 config\u001b[39;00m\n\u001b[32m    636\u001b[39m \u001b[38;5;28;01mexcept\u001b[39;00m \u001b[38;5;167;01mException\u001b[39;00m \u001b[38;5;28;01mas\u001b[39;00m e:\n\u001b[32m    637\u001b[39m     \u001b[38;5;28mprint\u001b[39m(\u001b[33mf\u001b[39m\u001b[33m\"\u001b[39m\u001b[33mERROR: 数据处理阶段发生严重错误: \u001b[39m\u001b[38;5;132;01m{\u001b[39;00me\u001b[38;5;132;01m}\u001b[39;00m\u001b[33m\"\u001b[39m)\n",
                        "\u001b[36mFile \u001b[39m\u001b[32md:\\Project\\Command\\Python\\Neural\\Wolf_of_Wall_Street\\data_process\\save_data.py:153\u001b[39m, in \u001b[36mrun_data_pipeline\u001b[39m\u001b[34m(config)\u001b[39m\n\u001b[32m    150\u001b[39m tickers_to_generate = []\n\u001b[32m    151\u001b[39m \u001b[38;5;28;01mfor\u001b[39;00m stock_info \u001b[38;5;129;01min\u001b[39;00m stocks_to_process:\n\u001b[32m    152\u001b[39m     \u001b[38;5;66;03m# 使用官方路径函数检查文件是否存在\u001b[39;00m\n\u001b[32m--> \u001b[39m\u001b[32m153\u001b[39m     target_file_path = \u001b[43mget_processed_data_path\u001b[49m\u001b[43m(\u001b[49m\u001b[43mstock_info\u001b[49m\u001b[43m,\u001b[49m\u001b[43m \u001b[49m\u001b[43mconfig\u001b[49m\u001b[43m)\u001b[49m\n\u001b[32m    154\u001b[39m     \u001b[38;5;28;01mif\u001b[39;00m target_file_path.exists():\n\u001b[32m    155\u001b[39m         keyword = stock_info.get(\u001b[33m'\u001b[39m\u001b[33mkeyword\u001b[39m\u001b[33m'\u001b[39m, stock_info.get(\u001b[33m'\u001b[39m\u001b[33mticker\u001b[39m\u001b[33m'\u001b[39m))\n",
                        "\u001b[36mFile \u001b[39m\u001b[32md:\\Project\\Command\\Python\\Neural\\Wolf_of_Wall_Street\\data_process\\save_data.py:47\u001b[39m, in \u001b[36mget_processed_data_path\u001b[39m\u001b[34m(stock_info, config)\u001b[39m\n\u001b[32m     44\u001b[39m strategy_config = config.get(\u001b[33m'\u001b[39m\u001b[33mstrategy_config\u001b[39m\u001b[33m'\u001b[39m, {})\n\u001b[32m     46\u001b[39m \u001b[38;5;66;03m# 1. 计算配置哈希\u001b[39;00m\n\u001b[32m---> \u001b[39m\u001b[32m47\u001b[39m config_hash = \u001b[43mget_config_hash_for_ticker\u001b[49m\u001b[43m(\u001b[49m\u001b[43mglobal_settings\u001b[49m\u001b[43m,\u001b[49m\u001b[43m \u001b[49m\u001b[43mstrategy_config\u001b[49m\u001b[43m,\u001b[49m\u001b[43m \u001b[49m\u001b[43mstock_info\u001b[49m\u001b[43m)\u001b[49m\n\u001b[32m     49\u001b[39m \u001b[38;5;66;03m# 2. 构建路径时不使用 start_date\u001b[39;00m\n\u001b[32m     50\u001b[39m output_dir_base = global_settings.get(\u001b[33m'\u001b[39m\u001b[33moutput_dir\u001b[39m\u001b[33m'\u001b[39m, \u001b[33m'\u001b[39m\u001b[33mdata/processed\u001b[39m\u001b[33m'\u001b[39m)\n",
                        "\u001b[36mFile \u001b[39m\u001b[32md:\\Project\\Command\\Python\\Neural\\Wolf_of_Wall_Street\\data_process\\save_data.py:35\u001b[39m, in \u001b[36mget_config_hash_for_ticker\u001b[39m\u001b[34m(global_settings, strategy_config, stock_specific_config)\u001b[39m\n\u001b[32m     32\u001b[39m \u001b[38;5;28;01mfor\u001b[39;00m item \u001b[38;5;129;01min\u001b[39;00m items_to_pop:\n\u001b[32m     33\u001b[39m     relevant_config.pop(item, \u001b[38;5;28;01mNone\u001b[39;00m)\n\u001b[32m---> \u001b[39m\u001b[32m35\u001b[39m config_string = \u001b[43mjson\u001b[49m.dumps(relevant_config, sort_keys=\u001b[38;5;28;01mTrue\u001b[39;00m)\n\u001b[32m     36\u001b[39m \u001b[38;5;28;01mreturn\u001b[39;00m hashlib.sha256(config_string.encode(\u001b[33m'\u001b[39m\u001b[33mutf-8\u001b[39m\u001b[33m'\u001b[39m)).hexdigest()[:\u001b[32m12\u001b[39m]\n",
                        "\u001b[31mNameError\u001b[39m: name 'json' is not defined"
                    ]
                }
            ],
            "source": [
                "USE_LATEST_DATE = True\n",
                "if config and modules:\n",
                "    print(f\"--- INFO: 日期模式 -> {'使用最新日期' if USE_LATEST_DATE else '使用配置文件中的固定日期'} ---\")\n",
                "    \n",
                "    # 将开关状态传递给核心引擎函数\n",
                "    run_all_data_pipeline(config, modules, use_today_as_end_date=USE_LATEST_DATE)"
            ]
        },
        {
            "cell_type": "markdown",
            "metadata": {},
            "source": [
                "# **阶段二：模型训练与评估**"
            ]
        },
        {
            "cell_type": "markdown",
            "metadata": {},
            "source": [
                "### 2.1 数据预加载与全局预处理 (L3 缓存)"
            ]
        },
        {
            "cell_type": "code",
            "execution_count": null,
            "metadata": {},
            "outputs": [],
            "source": [
                "if config and modules:\n",
                "    # 调用核心引擎中的预处理函数\n",
                "    # force_reprocess=True/False 可以方便地控制是否重建缓存\n",
                "    global_data_cache = run_preprocess_l3_cache(config, modules, force_reprocess=False)"
            ]
        },
        {
            "cell_type": "markdown",
            "metadata": {},
            "source": [
                "### 2.2 超参数优化"
            ]
        },
        {
            "cell_type": "code",
            "execution_count": null,
            "metadata": {},
            "outputs": [],
            "source": [
                "# 同样，可以通过一个简单的开关来控制是否运行\n",
                "RUN_HPO = False\n",
                "\n",
                "if RUN_HPO and config and modules and 'global_data_cache' in locals():\n",
                "    # 调用核心引擎中的 HPO 函数\n",
                "    # HPO 的结果会自动更新到内存中的 config 字典里\n",
                "    run_hpo_train(config, modules, global_data_cache)"
            ]
        },
        {
            "cell_type": "markdown",
            "metadata": {},
            "source": [
                "### 2.3 模型训练"
            ]
        },
        {
            "cell_type": "code",
            "execution_count": null,
            "metadata": {},
            "outputs": [],
            "source": [
                "if config and modules and 'global_data_cache' in locals():\n",
                "    # 调用核心引擎中的模型训练函数\n",
                "    # 同样可以通过开关控制是否强制重训\n",
                "    all_ic_history = run_all_models_train(\n",
                "        config, \n",
                "        modules, \n",
                "        global_data_cache, \n",
                "        force_retrain_base=True, \n",
                "        force_retrain_fuser=True\n",
                "    )"
            ]
        },
        {
            "cell_type": "markdown",
            "metadata": {},
            "source": [
                "### 2.4 结果聚合、评估与可视化"
            ]
        },
        {
            "cell_type": "code",
            "execution_count": null,
            "metadata": {},
            "outputs": [],
            "source": [
                "if config and modules and 'all_ic_history' in locals() and all_ic_history:\n",
                "    # 调用核心引擎中的评估和可视化函数\n",
                "    evaluation_summary, backtest_summary, final_eval_df = run_performance_evaluation(config, modules, all_ic_history)\n",
                "    \n",
                "    # 只有在有结果时才进行可视化\n",
                "    if evaluation_summary is not None or backtest_summary is not None:\n",
                "        run_results_visualization(config, modules, evaluation_summary, backtest_summary, final_eval_df)\n",
                "    else: print('无可视化结果')"
            ]
        }
    ],
    "metadata": {
        "...": "...",
        "kernelspec": {
            "display_name": ".venv",
            "language": "python",
            "name": "python3"
        },
        "language_info": {
            "codemirror_mode": {
                "name": "ipython",
                "version": 3
            },
            "file_extension": ".py",
            "mimetype": "text/x-python",
            "name": "python",
            "nbconvert_exporter": "python",
            "pygments_lexer": "ipython3",
            "version": "3.13.0"
        }
    },
    "nbformat": 4,
    "nbformat_minor": 4
}
