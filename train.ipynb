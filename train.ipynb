{
    "cells": [
        {
            "cell_type": "markdown",
            "metadata": {},
            "source": [
                "# 股票预测模型工作流\n",
                "\n",
                "---\n",
                "### 工作流说明\n",
                "1.  **阶段零 (Setup)**: 导入库、加载配置。\n",
                "2.  **阶段一 (Data Pipeline)**: 独立运行。负责处理并保存数据，生成 L2 特征数据缓存。\n",
                "3.  **阶段二 (Model Pipeline)**: 独立运行。包含三个子步骤：\n",
                "    - **2.1 HPO**: 自动调参。\n",
                "    - **2.2 (预处理)**: 智能地加载或生成 L3 预处理数据缓存\n",
                "    - **2.3 (模型训练)**: 使用 L3 缓存进行高效的模型训练。\n",
                "    - **2.4 (评估)**: 对训练结果进行聚合与可视化。"
            ]
        },
        {
            "cell_type": "markdown",
            "metadata": {},
            "source": [
                "## 0. 通用设置与导入"
            ]
        },
        {
            "cell_type": "code",
            "execution_count": null,
            "metadata": {},
            "outputs": [],
            "source": [
                "import os, sys, yaml, torch, joblib, pandas as pd, seaborn as sns, matplotlib.pyplot as plt\n",
                "from pathlib import Path\n",
                "from tqdm.autonotebook import tqdm\n",
                "from sklearn.preprocessing import StandardScaler\n",
                "\n",
                "os.environ['PYOPENCL_CTX'] = '0'\n",
                "plt.style.use('seaborn-v0_8-whitegrid')\n",
                "plt.rcParams['font.sans-serif'] = ['SimHei']\n",
                "plt.rcParams['axes.unicode_minus'] = False\n",
                "\n",
                "try:\n",
                "    from data_process.get_data import initialize_apis, shutdown_apis\n",
                "    from data_process.save_data import run_data_pipeline, get_processed_data_path\n",
                "    from model_builders.build_models import run_training_for_ticker, _walk_forward_split\n",
                "    from model_builders.hpo_utils import run_hpo_for_ticker\n",
                "    from model_builders.model_fuser import ModelFuser\n",
                "    from model_builders.lstm_builder import LSTMBuilder\n",
                "    print(\"INFO: 项目模型导入成功.\")\n",
                "except ImportError as e:\n",
                "    print(f\"WARNNING: 导入失败: {e}. 正在添加项目根目录...\")\n",
                "    project_root = str(Path().resolve()); sys.path.append(project_root) if project_root not in sys.path else None\n",
                "    from data_process.get_data import initialize_apis, shutdown_apis\n",
                "    from data_process.save_data import run_data_pipeline, get_processed_data_path\n",
                "    from model_builders.build_models import run_training_for_ticker, _walk_forward_split\n",
                "    from model_builders.hpo_utils import run_hpo_for_ticker\n",
                "    from model_builders.model_fuser import ModelFuser\n",
                "    from model_builders.lstm_builder import LSTMBuilder\n",
                "    print(\"INFO: 导入成功.\")\n",
                "\n",
                "CONFIG_PATH = 'configs/config.yaml'\n",
                "try:\n",
                "    with open(CONFIG_PATH, 'r', encoding='utf-8') as f: config = yaml.safe_load(f)\n",
                "    print(f\"SUCCESS: 从 '{CONFIG_PATH}' 加载 Config.\")\n",
                "except FileNotFoundError:\n",
                "    print(f\"ERROR: 未找到 Config.\"); config = {}\n",
                "\n",
                "if config:\n",
                "    global_settings, strategy_config, hpo_config, default_model_params, stocks_to_process = (\n",
                "        config.get('global_settings', {}), config.get('strategy_config', {}), \n",
                "        config.get('hpo_config', {}), config.get('default_model_params', {}), \n",
                "        config.get('stocks_to_process', [])\n",
                "    )"
            ]
        },
        {
            "cell_type": "markdown",
            "metadata": {},
            "source": [
                "# **阶段一：数据准备与特征工程**"
            ]
        },
        {
            "cell_type": "code",
            "execution_count": null,
            "metadata": {},
            "outputs": [],
            "source": [
                "print(\"--- 开始步骤 1: 数据准备 ---\\n\")\n",
                "try:\n",
                "    if config: initialize_apis(config); run_data_pipeline(config_path=CONFIG_PATH)\n",
                "    else: print(\"ERROR: Config 为空.\")\n",
                "finally:\n",
                "    shutdown_apis()"
            ]
        },
        {
            "cell_type": "markdown",
            "metadata": {},
            "source": [
                "# **阶段二：模型训练与评估**"
            ]
        },
        {
            "cell_type": "markdown",
            "metadata": {},
            "source": [
                "### 2.1 数据预加载与全局预处理 (L3 缓存)"
            ]
        },
        {
            "cell_type": "code",
            "execution_count": null,
            "metadata": {},
            "outputs": [],
            "source": [
                "global_data_cache = {}\n",
                "print(\"--- Starting Stage 2.1: Data Pre-loading and Global Pre-processing ---\\n\")\n",
                "\n",
                "L3_CACHE_DIR = Path(global_settings.get('output_dir', 'data/processed'))\n",
                "L3_CACHE_DIR.mkdir(parents=True, exist_ok=True)\n",
                "L3_CACHE_PATH = L3_CACHE_DIR / \"_preprocessed_cache.joblib\"\n",
                "FORCE_REPROCESS = False\n",
                "\n",
                "if L3_CACHE_PATH.exists() and not FORCE_REPROCESS:\n",
                "    print(f\"INFO: Found L3 cache. Loading from {L3_CACHE_PATH}...\")\n",
                "    try:\n",
                "        global_data_cache = joblib.load(L3_CACHE_PATH)\n",
                "        print(\"SUCCESS: L3 cache loaded into memory.\")\n",
                "    except Exception as e:\n",
                "        print(f\"WARNNING: Failed to load L3 cache: {e}. Re-processing data.\")\n",
                "        global_data_cache = {}\n",
                "\n",
                "if not global_data_cache:\n",
                "    print(\"INFO: L3 cache not found or is empty. Starting pre-processing...\\n\")\n",
                "    if config and stocks_to_process:\n",
                "        lstm_builder_for_preprocessing = LSTMBuilder(config)\n",
                "        \n",
                "        for stock_info in tqdm(stocks_to_process, desc=\"Pre-processing Stocks\"):\n",
                "            ticker = stock_info.get('ticker'); keyword = stock_info.get('keyword', ticker)\n",
                "            if not ticker: continue\n",
                "            data_path = get_processed_data_path(stock_info, config)\n",
                "            if not data_path.exists():\n",
                "                print(f\"\\nERROR: L2 data for {keyword} not found. Skipping pre-processing.\")\n",
                "                continue\n",
                "            \n",
                "            df = pd.read_pickle(data_path); df.index.name = 'date'\n",
                "            folds = _walk_forward_split(df, strategy_config)\n",
                "            if not folds:\n",
                "                print(f\"\\nWARNNING: No folds generated for {keyword}. Skipping pre-processing.\")\n",
                "                continue\n",
                "\n",
                "            preprocessed_folds_lgbm, preprocessed_folds_lstm = [], []\n",
                "            label_col = global_settings.get('label_column', 'label_alpha')\n",
                "            features_for_model = [c for c in df.columns if c != label_col and not c.startswith('future_')]\n",
                "\n",
                "            for train_df, val_df in folds:\n",
                "                X_train_model, y_train = train_df[features_for_model], train_df[label_col]\n",
                "                X_val_model, y_val = val_df[features_for_model], val_df[label_col]\n",
                "                scaler_lgbm = StandardScaler()\n",
                "                X_train_scaled = pd.DataFrame(scaler_lgbm.fit_transform(X_train_model), index=X_train_model.index, columns=features_for_model)\n",
                "                X_val_scaled = pd.DataFrame(scaler_lgbm.transform(X_val_model), index=X_val_model.index, columns=features_for_model)\n",
                "                preprocessed_folds_lgbm.append({'X_train_scaled': X_train_scaled, 'y_train': y_train, 'X_val_scaled': X_val_scaled, 'y_val': y_val})\n",
                "\n",
                "                # --- 实现层级覆盖逻辑 ---\n",
                "                use_lstm_for_this_stock = stock_info.get('use_lstm') \n",
                "                if use_lstm_for_this_stock is None:\n",
                "                    use_lstm_for_this_stock = global_settings.get('use_lstm_globally', True)\n",
                "                \n",
                "                if 'lstm' in global_settings.get('models_to_train', []) and use_lstm_for_this_stock:\n",
                "                    lstm_seq_len = lstm_builder_for_preprocessing.sequence_length\n",
                "                    if len(train_df) < lstm_seq_len: continue\n",
                "                    train_history_for_val = train_df.iloc[-lstm_seq_len:]\n",
                "                    combined_df_for_lstm_val = pd.concat([train_history_for_val, val_df])\n",
                "                    \n",
                "                    scaler_lstm = StandardScaler()\n",
                "                    train_df_scaled = train_df.copy(); combined_df_for_lstm_val_scaled = combined_df_for_lstm_val.copy()\n",
                "                    train_df_scaled[features_for_model] = scaler_lstm.fit_transform(train_df[features_for_model])\n",
                "                    combined_df_for_lstm_val_scaled[features_for_model] = scaler_lstm.transform(combined_df_for_lstm_val[features_for_model])\n",
                "\n",
                "                    X_train_seq, y_train_seq, _ = lstm_builder_for_preprocessing._create_sequences(train_df_scaled, features_for_model)\n",
                "                    X_val_seq, y_val_seq, dates_val_seq = lstm_builder_for_preprocessing._create_sequences(combined_df_for_lstm_val_scaled, features_for_model)\n",
                "\n",
                "                    lstm_precision = default_model_params.get('lstm_params', {}).get('precision', 32)\n",
                "                    torch_dtype = torch.float16 if lstm_precision == 16 else torch.float32\n",
                "                    preprocessed_folds_lstm.append({'X_train_tensor': torch.from_numpy(X_train_seq).to(dtype=torch_dtype), 'y_train_tensor': torch.from_numpy(y_train_seq).unsqueeze(1).to(dtype=torch_dtype), 'X_val_tensor': torch.from_numpy(X_val_seq).to(dtype=torch_dtype), 'y_val_tensor': torch.from_numpy(y_val_seq).unsqueeze(1).to(dtype=torch_dtype), 'y_val_seq': y_val_seq, 'dates_val_seq': dates_val_seq})\n",
                "            \n",
                "            global_data_cache[ticker] = {'full_df': df, 'lgbm_folds': preprocessed_folds_lgbm, 'lstm_folds': preprocessed_folds_lstm}\n",
                "            print(f\"  - Cached {len(preprocessed_folds_lgbm)} folds for LGBM and {len(preprocessed_folds_lstm)} folds for LSTM for {keyword}.\")\n",
                "        \n",
                "        print(f\"\\nINFO: Pre-processing finished. Saving L3 cache to {L3_CACHE_PATH}...\")\n",
                "        try:\n",
                "            joblib.dump(global_data_cache, L3_CACHE_PATH)\n",
                "            print(\"SUCCESS: L3 cache saved.\")\n",
                "        except Exception as e:\n",
                "            print(f\"ERROR: Failed to save L3 cache: {e}\")\n",
                "\n",
                "print(\"\\n--- Stage 2.1 Finished: All data is cached in memory. ---\")"
            ]
        },
        {
            "cell_type": "markdown",
            "metadata": {},
            "source": [
                "### 2.2 超参数优化"
            ]
        },
        {
            "cell_type": "code",
            "execution_count": null,
            "metadata": {},
            "outputs": [],
            "source": [
                "# train.ipynb -> \"2.2 (可选) 超参数优化\" (最终完整版)\n",
                "\n",
                "RUN_HPO = False # 设为 True 以运行优化，False 则跳过\n",
                "\n",
                "if RUN_HPO and config:\n",
                "    # --- 定义要进行 HPO 的模型列表 ---\n",
                "    MODELS_FOR_HPO = ['lgbm', 'lstm']\n",
                "    \n",
                "    hpo_tickers = hpo_config.get('tickers_for_hpo', [])\n",
                "    \n",
                "    if not hpo_tickers:\n",
                "        print(\"INFO: 在配置文件中未指定用于 HPO 的股票，跳过此步骤。\")\n",
                "    elif 'global_data_cache' not in locals() or not global_data_cache:\n",
                "        print(\"ERROR: 全局数据缓存 (global_data_cache) 为空。请先成功运行 2.1 预处理单元格。\")\n",
                "    else:\n",
                "        print(f\"--- 开始为模型 {MODELS_FOR_HPO} 和股票 {hpo_tickers} 进行超参数优化 ---\\n\")\n",
                "        \n",
                "        # 循环遍历要优化的每个模型类型\n",
                "        for model_type_for_hpo in MODELS_FOR_HPO:\n",
                "            print(f\"\\n\" + \"#\"*80)\n",
                "            print(f\"# 开始为模型 [{model_type_for_hpo.upper()}] 进行 HPO\")\n",
                "            print(\"#\"*80)\n",
                "            \n",
                "            hpo_results_list = []\n",
                "            \n",
                "            model_hpo_config = hpo_config.get(f'{model_type_for_hpo}_hpo_config', {})\n",
                "            num_eval_folds = model_hpo_config.get('hpo_num_eval_folds', hpo_config.get('hpo_num_eval_folds', 2))\n",
                "\n",
                "            for ticker in hpo_tickers:\n",
                "                stock_info = next((s for s in stocks_to_process if s['ticker'] == ticker), None)\n",
                "                if not stock_info:\n",
                "                    print(f\"WARNNING: 未在 'stocks_to_process' 中找到 HPO 股票 {ticker} 的配置。跳过。\")\n",
                "                    continue\n",
                "                \n",
                "                keyword = stock_info.get('keyword', ticker)\n",
                "\n",
                "                use_lstm_for_this_stock = stock_info.get('use_lstm')\n",
                "                if use_lstm_for_this_stock is None:\n",
                "                    use_lstm_for_this_stock = global_settings.get('use_lstm_globally', True)\n",
                "                \n",
                "                if model_type_for_hpo == 'lstm' and not use_lstm_for_this_stock:\n",
                "                    print(f\"\\nINFO: {keyword} 已配置为不使用 LSTM，跳过 LSTM 的 HPO。\")\n",
                "                    continue\n",
                "\n",
                "                if ticker not in global_data_cache:\n",
                "                    print(f\"ERROR: 预处理数据缓存中未找到 {keyword} 的数据。跳过。\")\n",
                "                    continue\n",
                "\n",
                "                all_preprocessed_folds = global_data_cache[ticker].get(f'{model_type_for_hpo}_folds', [])\n",
                "                if not all_preprocessed_folds:\n",
                "                    print(f\"WARNNING: 缓存中未找到 {keyword} 的 '{model_type_for_hpo}' 预处理数据。跳过 HPO。\")\n",
                "                    continue\n",
                "                \n",
                "                hpo_folds_data = all_preprocessed_folds[-num_eval_folds:]\n",
                "                \n",
                "                print(f\"\\nINFO: 已为 {keyword} 加载最后 {len(hpo_folds_data)} 个 folds 用于 {model_type_for_hpo.upper()} HPO。\")\n",
                "\n",
                "                hpo_run_config = {\n",
                "                    'global_settings': global_settings, 'strategy_config': strategy_config,\n",
                "                    'default_model_params': default_model_params, 'stocks_to_process': [stock_info],\n",
                "                    'hpo_config': hpo_config\n",
                "                }\n",
                "                \n",
                "                best_params, best_value = run_hpo_for_ticker(\n",
                "                    preprocessed_folds=hpo_folds_data,\n",
                "                    ticker=ticker,\n",
                "                    config=hpo_run_config,\n",
                "                    model_type=model_type_for_hpo\n",
                "                )\n",
                "                \n",
                "                if best_params and best_value is not None:\n",
                "                    hpo_results_list.append({'ticker': ticker, 'keyword': keyword, 'best_score': best_value, **best_params})\n",
                "            \n",
                "            if hpo_results_list:\n",
                "                hpo_log_dir = Path(\"hpo_logs\"); hpo_log_dir.mkdir(exist_ok=True)\n",
                "                hpo_best_results_path = hpo_log_dir / f\"hpo_best_results_{model_type_for_hpo}.csv\"\n",
                "                \n",
                "                current_hpo_df = pd.DataFrame(hpo_results_list).set_index('ticker')\n",
                "\n",
                "                if hpo_best_results_path.exists():\n",
                "                    print(f\"\\nINFO: 正在加载 [{model_type_for_hpo.upper()}] 的历史最佳 HPO 结果...\")\n",
                "                    historical_best_df = pd.read_csv(hpo_best_results_path).set_index('ticker')\n",
                "                    \n",
                "                    for ticker, current_row in current_hpo_df.iterrows():\n",
                "                        if ticker not in historical_best_df.index or current_row['best_score'] > historical_best_df.loc[ticker, 'best_score']:\n",
                "                            keyword = current_row.get('keyword', ticker)\n",
                "                            historical_score = historical_best_df.loc[ticker, 'best_score'] if ticker in historical_best_df.index else 'N/A'\n",
                "                            print(f\"  - 新纪录! [{model_type_for_hpo.upper()}] {keyword} 的最佳分数从 {historical_score if isinstance(historical_score, str) else f'{historical_score:.4f}'} 提升至 {current_row['best_score']:.4f}.\")\n",
                "                            historical_best_df.loc[ticker] = current_row\n",
                "                    final_best_df = historical_best_df\n",
                "                else:\n",
                "                    print(f\"\\nINFO: 未找到 [{model_type_for_hpo.upper()}] 的历史 HPO 结果，将本次结果作为初始最佳记录。\")\n",
                "                    final_best_df = current_hpo_df\n",
                "\n",
                "                final_best_df.to_csv(hpo_best_results_path)\n",
                "                print(f\"SUCCESS: 最新的 [{model_type_for_hpo.upper()}] HPO 冠军榜已保存至 {hpo_best_results_path}\")\n",
                "                \n",
                "                PARAM_MAP_CN = {'best_score': '最佳分数 (ICIR)', 'keyword': '股票名称', 'num_leaves': '叶子节点数', 'learning_rate': '学习率', 'min_child_samples': '叶节点最小样本数', 'feature_fraction': '特征采样比例', 'bagging_fraction': '数据采样比例', 'reg_alpha': 'L1正则化', 'reg_lambda': 'L2正则化', 'units_1': '隐藏层1单元数', 'units_2': '隐藏层2单元数', 'dropout': 'Dropout率'}\n",
                "                display_df = final_best_df.reset_index().rename(columns=PARAM_MAP_CN)\n",
                "                if '股票名称' in display_df.columns: display_df = display_df.set_index(['ticker', '股票名称'])\n",
                "                \n",
                "                print(\"\\n\" + \"=\"*80)\n",
                "                print(f\"--- {model_type_for_hpo.upper()} HPO 最佳参数冠军榜 ---\")\n",
                "                display(display_df.style.format({'最佳分数 (ICIR)': '{:.4f}'}).background_gradient(cmap='viridis', subset=['最佳分数 (ICIR)']))\n",
                "                \n",
                "                param_cols_original = [c for c in hpo_results_list[0].keys() if c not in ['ticker', 'keyword', 'best_score']]\n",
                "                final_hpo_params = final_best_df[param_cols_original].mean().to_dict()\n",
                "                average_best_score = final_best_df['best_score'].mean()\n",
                "                \n",
                "                for p in ['num_leaves', 'min_child_samples', 'units_1', 'units_2']:\n",
                "                    if p in final_hpo_params: final_hpo_params[p] = int(round(final_hpo_params[p]))\n",
                "                \n",
                "                param_key = f\"{model_type_for_hpo}_params\"\n",
                "                config['default_model_params'][param_key].update(final_hpo_params)\n",
                "                default_model_params[param_key] = config['default_model_params'][param_key]\n",
                "                \n",
                "                print(\"\\n\" + \"=\"*80)\n",
                "                print(f\"--- {model_type_for_hpo.upper()} HPO 综合结果 ---\")\n",
                "                print(f\"本轮 HPO 冠军榜平均最高分 (ICIR): {average_best_score:.4f}\")\n",
                "                print(f\"将用于后续训练的【{model_type_for_hpo.upper()} 平均参数】如下:\")\n",
                "                print(yaml.dump(default_model_params[param_key], allow_unicode=True))\n",
                "                print(\"=\"*80)\n",
                "else:\n",
                "    print(\"INFO: 跳过 HPO 步骤。\")"
            ]
        },
        {
            "cell_type": "markdown",
            "metadata": {},
            "source": [
                "### 2.3 模型训练"
            ]
        },
        {
            "cell_type": "code",
            "execution_count": null,
            "metadata": {},
            "outputs": [
                {
                    "name": "stdout",
                    "output_type": "stream",
                    "text": [
                        "    - Fold finished. Best validation loss: 0.024735 at epoch 2\n",
                        "INFO: DataLoader will use 8 parallel workers.\n"
                    ]
                },
                {
                    "data": {
                        "application/vnd.jupyter.widget-view+json": {
                            "model_id": "2ad77a6cd5f44a1ea935d8b9c1b5177f",
                            "version_major": 2,
                            "version_minor": 0
                        },
                        "text/plain": [
                            "    - Epochs:   0%|          | 0/20 [00:00<?, ?it/s]"
                        ]
                    },
                    "metadata": {},
                    "output_type": "display_data"
                },
                {
                    "name": "stdout",
                    "output_type": "stream",
                    "text": [
                        "    - Fold finished. Best validation loss: 0.023664 at epoch 1\n",
                        "INFO: DataLoader will use 8 parallel workers.\n"
                    ]
                },
                {
                    "data": {
                        "application/vnd.jupyter.widget-view+json": {
                            "model_id": "be7ebfe2bc384c74971527c2ffd3a19d",
                            "version_major": 2,
                            "version_minor": 0
                        },
                        "text/plain": [
                            "    - Epochs:   0%|          | 0/20 [00:00<?, ?it/s]"
                        ]
                    },
                    "metadata": {},
                    "output_type": "display_data"
                },
                {
                    "name": "stdout",
                    "output_type": "stream",
                    "text": [
                        "    - Fold finished. Best validation loss: 0.010999 at epoch 3\n",
                        "INFO: DataLoader will use 8 parallel workers.\n"
                    ]
                },
                {
                    "data": {
                        "application/vnd.jupyter.widget-view+json": {
                            "model_id": "169c42385e3548c49ac1ff22808dd971",
                            "version_major": 2,
                            "version_minor": 0
                        },
                        "text/plain": [
                            "    - Epochs:   0%|          | 0/20 [00:00<?, ?it/s]"
                        ]
                    },
                    "metadata": {},
                    "output_type": "display_data"
                },
                {
                    "name": "stdout",
                    "output_type": "stream",
                    "text": [
                        "    - Fold finished. Best validation loss: 0.030942 at epoch 3\n",
                        "INFO: DataLoader will use 8 parallel workers.\n"
                    ]
                },
                {
                    "data": {
                        "application/vnd.jupyter.widget-view+json": {
                            "model_id": "7072005a10a540c99d8f7564e48b4e69",
                            "version_major": 2,
                            "version_minor": 0
                        },
                        "text/plain": [
                            "    - Epochs:   0%|          | 0/20 [00:00<?, ?it/s]"
                        ]
                    },
                    "metadata": {},
                    "output_type": "display_data"
                },
                {
                    "name": "stdout",
                    "output_type": "stream",
                    "text": [
                        "    - Fold finished. Best validation loss: 0.009501 at epoch 2\n",
                        "INFO: DataLoader will use 8 parallel workers.\n"
                    ]
                },
                {
                    "data": {
                        "application/vnd.jupyter.widget-view+json": {
                            "model_id": "f9851b5f0e014ee7a850326b3717b242",
                            "version_major": 2,
                            "version_minor": 0
                        },
                        "text/plain": [
                            "    - Epochs:   0%|          | 0/20 [00:00<?, ?it/s]"
                        ]
                    },
                    "metadata": {},
                    "output_type": "display_data"
                },
                {
                    "name": "stdout",
                    "output_type": "stream",
                    "text": [
                        "    - Fold finished. Best validation loss: 0.005636 at epoch 4\n",
                        "INFO: DataLoader will use 8 parallel workers.\n"
                    ]
                },
                {
                    "data": {
                        "application/vnd.jupyter.widget-view+json": {
                            "model_id": "c063dc897ac04688995a2f7abbf5de6a",
                            "version_major": 2,
                            "version_minor": 0
                        },
                        "text/plain": [
                            "    - Epochs:   0%|          | 0/20 [00:00<?, ?it/s]"
                        ]
                    },
                    "metadata": {},
                    "output_type": "display_data"
                },
                {
                    "name": "stdout",
                    "output_type": "stream",
                    "text": [
                        "    - Fold finished. Best validation loss: 0.011738 at epoch 1\n",
                        "INFO: DataLoader will use 8 parallel workers.\n"
                    ]
                },
                {
                    "data": {
                        "application/vnd.jupyter.widget-view+json": {
                            "model_id": "71106a4a585a406cb569f2941f532922",
                            "version_major": 2,
                            "version_minor": 0
                        },
                        "text/plain": [
                            "    - Epochs:   0%|          | 0/20 [00:00<?, ?it/s]"
                        ]
                    },
                    "metadata": {},
                    "output_type": "display_data"
                },
                {
                    "name": "stdout",
                    "output_type": "stream",
                    "text": [
                        "    - Fold finished. Best validation loss: 0.010196 at epoch 1\n",
                        "INFO: DataLoader will use 8 parallel workers.\n"
                    ]
                },
                {
                    "data": {
                        "application/vnd.jupyter.widget-view+json": {
                            "model_id": "6b893c1b70194573bf374d50ab455c7c",
                            "version_major": 2,
                            "version_minor": 0
                        },
                        "text/plain": [
                            "    - Epochs:   0%|          | 0/20 [00:00<?, ?it/s]"
                        ]
                    },
                    "metadata": {},
                    "output_type": "display_data"
                },
                {
                    "name": "stdout",
                    "output_type": "stream",
                    "text": [
                        "    - Fold finished. Best validation loss: 0.041601 at epoch 4\n",
                        "INFO: DataLoader will use 8 parallel workers.\n"
                    ]
                },
                {
                    "data": {
                        "application/vnd.jupyter.widget-view+json": {
                            "model_id": "4d71f9ef45c64c0aa3fba932588c0d95",
                            "version_major": 2,
                            "version_minor": 0
                        },
                        "text/plain": [
                            "    - Epochs:   0%|          | 0/20 [00:00<?, ?it/s]"
                        ]
                    },
                    "metadata": {},
                    "output_type": "display_data"
                },
                {
                    "name": "stdout",
                    "output_type": "stream",
                    "text": [
                        "    - Fold finished. Best validation loss: 0.007838 at epoch 8\n",
                        "INFO: DataLoader will use 8 parallel workers.\n"
                    ]
                },
                {
                    "data": {
                        "application/vnd.jupyter.widget-view+json": {
                            "model_id": "e96bfeca4ce244aa96e85649b3c03f30",
                            "version_major": 2,
                            "version_minor": 0
                        },
                        "text/plain": [
                            "    - Epochs:   0%|          | 0/20 [00:00<?, ?it/s]"
                        ]
                    },
                    "metadata": {},
                    "output_type": "display_data"
                },
                {
                    "name": "stdout",
                    "output_type": "stream",
                    "text": [
                        "    - Fold finished. Best validation loss: 0.006213 at epoch 5\n",
                        "INFO: DataLoader will use 8 parallel workers.\n"
                    ]
                },
                {
                    "data": {
                        "application/vnd.jupyter.widget-view+json": {
                            "model_id": "767318360a844219bb76721bcb794cfa",
                            "version_major": 2,
                            "version_minor": 0
                        },
                        "text/plain": [
                            "    - Epochs:   0%|          | 0/20 [00:00<?, ?it/s]"
                        ]
                    },
                    "metadata": {},
                    "output_type": "display_data"
                },
                {
                    "name": "stdout",
                    "output_type": "stream",
                    "text": [
                        "    - Fold finished. Best validation loss: 0.016654 at epoch 1\n",
                        "INFO: DataLoader will use 8 parallel workers.\n"
                    ]
                },
                {
                    "data": {
                        "application/vnd.jupyter.widget-view+json": {
                            "model_id": "9c0e446fe05a43109050fa42829bc00a",
                            "version_major": 2,
                            "version_minor": 0
                        },
                        "text/plain": [
                            "    - Epochs:   0%|          | 0/20 [00:00<?, ?it/s]"
                        ]
                    },
                    "metadata": {},
                    "output_type": "display_data"
                },
                {
                    "name": "stdout",
                    "output_type": "stream",
                    "text": [
                        "    - Fold finished. Best validation loss: 0.033639 at epoch 8\n",
                        "INFO: DataLoader will use 8 parallel workers.\n"
                    ]
                },
                {
                    "data": {
                        "application/vnd.jupyter.widget-view+json": {
                            "model_id": "da1cd4bde5e548f98d3bb7c6d2976f54",
                            "version_major": 2,
                            "version_minor": 0
                        },
                        "text/plain": [
                            "    - Epochs:   0%|          | 0/20 [00:00<?, ?it/s]"
                        ]
                    },
                    "metadata": {},
                    "output_type": "display_data"
                },
                {
                    "name": "stdout",
                    "output_type": "stream",
                    "text": [
                        "    - Fold finished. Best validation loss: 0.010840 at epoch 1\n",
                        "INFO: DataLoader will use 8 parallel workers.\n"
                    ]
                },
                {
                    "data": {
                        "application/vnd.jupyter.widget-view+json": {
                            "model_id": "2f14063601c442cd8ab2c35401a9957a",
                            "version_major": 2,
                            "version_minor": 0
                        },
                        "text/plain": [
                            "    - Epochs:   0%|          | 0/20 [00:00<?, ?it/s]"
                        ]
                    },
                    "metadata": {},
                    "output_type": "display_data"
                },
                {
                    "name": "stdout",
                    "output_type": "stream",
                    "text": [
                        "    - Fold finished. Best validation loss: 0.004850 at epoch 1\n",
                        "INFO: DataLoader will use 8 parallel workers.\n"
                    ]
                },
                {
                    "data": {
                        "application/vnd.jupyter.widget-view+json": {
                            "model_id": "73474eb91b1d46bead7df671791ff88d",
                            "version_major": 2,
                            "version_minor": 0
                        },
                        "text/plain": [
                            "    - Epochs:   0%|          | 0/20 [00:00<?, ?it/s]"
                        ]
                    },
                    "metadata": {},
                    "output_type": "display_data"
                },
                {
                    "name": "stdout",
                    "output_type": "stream",
                    "text": [
                        "    - Fold finished. Best validation loss: 0.016057 at epoch 2\n",
                        "INFO: DataLoader will use 8 parallel workers.\n"
                    ]
                },
                {
                    "data": {
                        "application/vnd.jupyter.widget-view+json": {
                            "model_id": "1ed27308a90246bf8ddcc87b73d7b22b",
                            "version_major": 2,
                            "version_minor": 0
                        },
                        "text/plain": [
                            "    - Epochs:   0%|          | 0/20 [00:00<?, ?it/s]"
                        ]
                    },
                    "metadata": {},
                    "output_type": "display_data"
                },
                {
                    "name": "stdout",
                    "output_type": "stream",
                    "text": [
                        "    - Fold finished. Best validation loss: 0.010760 at epoch 1\n",
                        "INFO: DataLoader will use 8 parallel workers.\n"
                    ]
                },
                {
                    "data": {
                        "application/vnd.jupyter.widget-view+json": {
                            "model_id": "2902399246474397901e75f2af231165",
                            "version_major": 2,
                            "version_minor": 0
                        },
                        "text/plain": [
                            "    - Epochs:   0%|          | 0/20 [00:00<?, ?it/s]"
                        ]
                    },
                    "metadata": {},
                    "output_type": "display_data"
                },
                {
                    "name": "stdout",
                    "output_type": "stream",
                    "text": [
                        "    - Fold finished. Best validation loss: 0.003172 at epoch 5\n",
                        "INFO: DataLoader will use 8 parallel workers.\n"
                    ]
                },
                {
                    "data": {
                        "application/vnd.jupyter.widget-view+json": {
                            "model_id": "4be04fc4e38844609bc3d750fe286f77",
                            "version_major": 2,
                            "version_minor": 0
                        },
                        "text/plain": [
                            "    - Epochs:   0%|          | 0/20 [00:00<?, ?it/s]"
                        ]
                    },
                    "metadata": {},
                    "output_type": "display_data"
                },
                {
                    "name": "stdout",
                    "output_type": "stream",
                    "text": [
                        "    - Fold finished. Best validation loss: 0.055376 at epoch 1\n",
                        "INFO: DataLoader will use 8 parallel workers.\n"
                    ]
                },
                {
                    "data": {
                        "application/vnd.jupyter.widget-view+json": {
                            "model_id": "300fdf7169f34f4898e1bd3f6c96b947",
                            "version_major": 2,
                            "version_minor": 0
                        },
                        "text/plain": [
                            "    - Epochs:   0%|          | 0/20 [00:00<?, ?it/s]"
                        ]
                    },
                    "metadata": {},
                    "output_type": "display_data"
                },
                {
                    "name": "stdout",
                    "output_type": "stream",
                    "text": [
                        "    - Fold finished. Best validation loss: 0.077726 at epoch 6\n",
                        "INFO: DataLoader will use 8 parallel workers.\n"
                    ]
                },
                {
                    "data": {
                        "application/vnd.jupyter.widget-view+json": {
                            "model_id": "aae72eb4be5d47e2bdbc5bb7661e8966",
                            "version_major": 2,
                            "version_minor": 0
                        },
                        "text/plain": [
                            "    - Epochs:   0%|          | 0/20 [00:00<?, ?it/s]"
                        ]
                    },
                    "metadata": {},
                    "output_type": "display_data"
                },
                {
                    "name": "stdout",
                    "output_type": "stream",
                    "text": [
                        "    - Fold finished. Best validation loss: 0.085846 at epoch 1\n",
                        "INFO: DataLoader will use 8 parallel workers.\n"
                    ]
                },
                {
                    "data": {
                        "application/vnd.jupyter.widget-view+json": {
                            "model_id": "a9510f005f0d4bf98e7020b7185b8c03",
                            "version_major": 2,
                            "version_minor": 0
                        },
                        "text/plain": [
                            "    - Epochs:   0%|          | 0/20 [00:00<?, ?it/s]"
                        ]
                    },
                    "metadata": {},
                    "output_type": "display_data"
                },
                {
                    "name": "stdout",
                    "output_type": "stream",
                    "text": [
                        "    - Fold finished. Best validation loss: 0.013059 at epoch 2\n",
                        "INFO: DataLoader will use 8 parallel workers.\n"
                    ]
                },
                {
                    "data": {
                        "application/vnd.jupyter.widget-view+json": {
                            "model_id": "c95f03fbee6c4e35b5b62f38cbb8c61e",
                            "version_major": 2,
                            "version_minor": 0
                        },
                        "text/plain": [
                            "    - Epochs:   0%|          | 0/20 [00:00<?, ?it/s]"
                        ]
                    },
                    "metadata": {},
                    "output_type": "display_data"
                },
                {
                    "name": "stdout",
                    "output_type": "stream",
                    "text": [
                        "    - Fold finished. Best validation loss: 0.019252 at epoch 4\n",
                        "INFO: DataLoader will use 8 parallel workers.\n"
                    ]
                },
                {
                    "data": {
                        "application/vnd.jupyter.widget-view+json": {
                            "model_id": "4f032d6f5d994570ac395f6f82a0d0fe",
                            "version_major": 2,
                            "version_minor": 0
                        },
                        "text/plain": [
                            "    - Epochs:   0%|          | 0/20 [00:00<?, ?it/s]"
                        ]
                    },
                    "metadata": {},
                    "output_type": "display_data"
                },
                {
                    "name": "stdout",
                    "output_type": "stream",
                    "text": [
                        "    - Fold finished. Best validation loss: 0.045698 at epoch 1\n",
                        "INFO: DataLoader will use 8 parallel workers.\n"
                    ]
                },
                {
                    "data": {
                        "application/vnd.jupyter.widget-view+json": {
                            "model_id": "4ed4741300ab429ea8a291a2cee6a912",
                            "version_major": 2,
                            "version_minor": 0
                        },
                        "text/plain": [
                            "    - Epochs:   0%|          | 0/20 [00:00<?, ?it/s]"
                        ]
                    },
                    "metadata": {},
                    "output_type": "display_data"
                },
                {
                    "name": "stdout",
                    "output_type": "stream",
                    "text": [
                        "    - Fold finished. Best validation loss: 0.018858 at epoch 1\n",
                        "INFO: DataLoader will use 8 parallel workers.\n"
                    ]
                },
                {
                    "data": {
                        "application/vnd.jupyter.widget-view+json": {
                            "model_id": "96105cd68ee84f1fbf392e42e3b522cd",
                            "version_major": 2,
                            "version_minor": 0
                        },
                        "text/plain": [
                            "    - Epochs:   0%|          | 0/20 [00:00<?, ?it/s]"
                        ]
                    },
                    "metadata": {},
                    "output_type": "display_data"
                },
                {
                    "name": "stdout",
                    "output_type": "stream",
                    "text": [
                        "    - Fold finished. Best validation loss: 0.024158 at epoch 1\n",
                        "INFO: DataLoader will use 8 parallel workers.\n"
                    ]
                },
                {
                    "data": {
                        "application/vnd.jupyter.widget-view+json": {
                            "model_id": "de0dfcdc6660496593c4824079045242",
                            "version_major": 2,
                            "version_minor": 0
                        },
                        "text/plain": [
                            "    - Epochs:   0%|          | 0/20 [00:00<?, ?it/s]"
                        ]
                    },
                    "metadata": {},
                    "output_type": "display_data"
                },
                {
                    "name": "stdout",
                    "output_type": "stream",
                    "text": [
                        "    - Fold finished. Best validation loss: 0.009034 at epoch 8\n",
                        "INFO: DataLoader will use 8 parallel workers.\n"
                    ]
                },
                {
                    "data": {
                        "application/vnd.jupyter.widget-view+json": {
                            "model_id": "4895b7c0e3e64667bb463c2364af5a24",
                            "version_major": 2,
                            "version_minor": 0
                        },
                        "text/plain": [
                            "    - Epochs:   0%|          | 0/20 [00:00<?, ?it/s]"
                        ]
                    },
                    "metadata": {},
                    "output_type": "display_data"
                },
                {
                    "name": "stdout",
                    "output_type": "stream",
                    "text": [
                        "    - Fold finished. Best validation loss: 0.024899 at epoch 2\n",
                        "INFO: DataLoader will use 8 parallel workers.\n"
                    ]
                },
                {
                    "data": {
                        "application/vnd.jupyter.widget-view+json": {
                            "model_id": "590e736a79b04c01a127ac77140ebfc2",
                            "version_major": 2,
                            "version_minor": 0
                        },
                        "text/plain": [
                            "    - Epochs:   0%|          | 0/20 [00:00<?, ?it/s]"
                        ]
                    },
                    "metadata": {},
                    "output_type": "display_data"
                },
                {
                    "name": "stdout",
                    "output_type": "stream",
                    "text": [
                        "    - Fold finished. Best validation loss: 0.006403 at epoch 6\n",
                        "INFO: DataLoader will use 8 parallel workers.\n"
                    ]
                },
                {
                    "data": {
                        "application/vnd.jupyter.widget-view+json": {
                            "model_id": "4a69b52b3a1e443b98724f1c45f5de39",
                            "version_major": 2,
                            "version_minor": 0
                        },
                        "text/plain": [
                            "    - Epochs:   0%|          | 0/20 [00:00<?, ?it/s]"
                        ]
                    },
                    "metadata": {},
                    "output_type": "display_data"
                },
                {
                    "name": "stdout",
                    "output_type": "stream",
                    "text": [
                        "    - Fold finished. Best validation loss: 0.000944 at epoch 11\n",
                        "INFO: DataLoader will use 8 parallel workers.\n"
                    ]
                },
                {
                    "data": {
                        "application/vnd.jupyter.widget-view+json": {
                            "model_id": "d2fdd360373646789ceeb7bf7a048530",
                            "version_major": 2,
                            "version_minor": 0
                        },
                        "text/plain": [
                            "    - Epochs:   0%|          | 0/20 [00:00<?, ?it/s]"
                        ]
                    },
                    "metadata": {},
                    "output_type": "display_data"
                },
                {
                    "name": "stdout",
                    "output_type": "stream",
                    "text": [
                        "    - Fold finished. Best validation loss: 0.042430 at epoch 1\n",
                        "INFO: DataLoader will use 8 parallel workers.\n"
                    ]
                },
                {
                    "data": {
                        "application/vnd.jupyter.widget-view+json": {
                            "model_id": "9e4f00125f3d4916a6f04c482a006317",
                            "version_major": 2,
                            "version_minor": 0
                        },
                        "text/plain": [
                            "    - Epochs:   0%|          | 0/20 [00:00<?, ?it/s]"
                        ]
                    },
                    "metadata": {},
                    "output_type": "display_data"
                },
                {
                    "name": "stdout",
                    "output_type": "stream",
                    "text": [
                        "    - Fold finished. Best validation loss: 0.179017 at epoch 7\n",
                        "INFO: DataLoader will use 8 parallel workers.\n"
                    ]
                },
                {
                    "data": {
                        "application/vnd.jupyter.widget-view+json": {
                            "model_id": "c4b77999de0f43ef88cac2eb54c0cfb2",
                            "version_major": 2,
                            "version_minor": 0
                        },
                        "text/plain": [
                            "    - Epochs:   0%|          | 0/20 [00:00<?, ?it/s]"
                        ]
                    },
                    "metadata": {},
                    "output_type": "display_data"
                },
                {
                    "name": "stdout",
                    "output_type": "stream",
                    "text": [
                        "    - Fold finished. Best validation loss: 0.016424 at epoch 2\n",
                        "INFO: DataLoader will use 8 parallel workers.\n"
                    ]
                },
                {
                    "data": {
                        "application/vnd.jupyter.widget-view+json": {
                            "model_id": "7e834fb6b56d4b71aba123436d1f47e0",
                            "version_major": 2,
                            "version_minor": 0
                        },
                        "text/plain": [
                            "    - Epochs:   0%|          | 0/20 [00:00<?, ?it/s]"
                        ]
                    },
                    "metadata": {},
                    "output_type": "display_data"
                },
                {
                    "name": "stdout",
                    "output_type": "stream",
                    "text": [
                        "    - Fold finished. Best validation loss: 0.003900 at epoch 1\n",
                        "SUCCESS: Out-of-Fold predictions saved to models\\000681.SZ\\lstm_oof_preds.csv\n",
                        "INFO: Training final model for 视觉中国 (000681.SZ) on all data...\n"
                    ]
                },
                {
                    "data": {
                        "application/vnd.jupyter.widget-view+json": {
                            "model_id": "25152f61afe04a2eb58f07a284d8ccce",
                            "version_major": 2,
                            "version_minor": 0
                        },
                        "text/plain": [
                            "    - Final Model Epochs:   0%|          | 0/10 [00:00<?, ?it/s]"
                        ]
                    },
                    "metadata": {},
                    "output_type": "display_data"
                },
                {
                    "name": "stdout",
                    "output_type": "stream",
                    "text": [
                        "\n",
                        "================================================================================\n",
                        "--- Starting LGBM training for 长白山 (603099.SH) ---\n",
                        "INFO: Starting Walk-Forward validation for 长白山 across 39 folds...\n"
                    ]
                },
                {
                    "data": {
                        "application/vnd.jupyter.widget-view+json": {
                            "model_id": "f022c12fcce04998a8fdd24a878a54f5",
                            "version_major": 2,
                            "version_minor": 0
                        },
                        "text/plain": [
                            "Training LGBM on 长白山:   0%|          | 0/39 [00:00<?, ?it/s]"
                        ]
                    },
                    "metadata": {},
                    "output_type": "display_data"
                },
                {
                    "name": "stdout",
                    "output_type": "stream",
                    "text": [
                        "    - Quantile 0.05: Finished. Best iter: [89]\n",
                        "    - Quantile 0.5: Finished. Best iter: [606]\n",
                        "    - Quantile 0.95: Finished. Best iter: [606]\n",
                        "    - Quantile 0.05: Finished. Best iter: [46]\n",
                        "    - Quantile 0.5: Finished. Best iter: [46]\n",
                        "    - Quantile 0.95: Finished. Best iter: [39]\n",
                        "    - Quantile 0.05: Finished. Best iter: [1]\n",
                        "    - Quantile 0.5: Finished. Best iter: [1]\n",
                        "    - Quantile 0.95: Finished. Best iter: [1]\n",
                        "    - Quantile 0.05: Finished. Best iter: [33]\n",
                        "    - Quantile 0.5: Finished. Best iter: [31]\n",
                        "    - Quantile 0.95: Finished. Best iter: [3]\n",
                        "    - Quantile 0.05: Finished. Best iter: [45]\n",
                        "    - Quantile 0.5: Finished. Best iter: [45]\n",
                        "    - Quantile 0.95: Finished. Best iter: [42]\n",
                        "    - Quantile 0.05: Finished. Best iter: [1]\n",
                        "    - Quantile 0.5: Finished. Best iter: [1]\n",
                        "    - Quantile 0.95: Finished. Best iter: [1]\n",
                        "    - Quantile 0.05: Finished. Best iter: [1]\n",
                        "    - Quantile 0.5: Finished. Best iter: [1]\n",
                        "    - Quantile 0.95: Finished. Best iter: [1]\n",
                        "    - Quantile 0.05: Finished. Best iter: [1]\n",
                        "    - Quantile 0.5: Finished. Best iter: [1]\n",
                        "    - Quantile 0.95: Finished. Best iter: [1]\n"
                    ]
                },
                {
                    "name": "stderr",
                    "output_type": "stream",
                    "text": [
                        "d:\\Project\\Command\\Python\\Neural\\Wolf_of_Wall_Street\\.venv\\Lib\\site-packages\\pandas\\core\\nanops.py:1632: ConstantInputWarning: An input array is constant; the correlation coefficient is not defined.\n",
                        "  return spearmanr(a, b)[0]\n"
                    ]
                },
                {
                    "name": "stdout",
                    "output_type": "stream",
                    "text": [
                        "    - Quantile 0.05: Finished. Best iter: [80]\n",
                        "    - Quantile 0.5: Finished. Best iter: [80]\n",
                        "    - Quantile 0.95: Finished. Best iter: [85]\n",
                        "    - Quantile 0.05: Finished. Best iter: [1]\n",
                        "    - Quantile 0.5: Finished. Best iter: [12]\n",
                        "    - Quantile 0.95: Finished. Best iter: [12]\n",
                        "    - Quantile 0.05: Finished. Best iter: [1]\n",
                        "    - Quantile 0.5: Finished. Best iter: [1]\n",
                        "    - Quantile 0.95: Finished. Best iter: [1]\n"
                    ]
                },
                {
                    "name": "stderr",
                    "output_type": "stream",
                    "text": [
                        "d:\\Project\\Command\\Python\\Neural\\Wolf_of_Wall_Street\\.venv\\Lib\\site-packages\\pandas\\core\\nanops.py:1632: ConstantInputWarning: An input array is constant; the correlation coefficient is not defined.\n",
                        "  return spearmanr(a, b)[0]\n"
                    ]
                },
                {
                    "name": "stdout",
                    "output_type": "stream",
                    "text": [
                        "    - Quantile 0.05: Finished. Best iter: [1]\n",
                        "    - Quantile 0.5: Finished. Best iter: [1]\n",
                        "    - Quantile 0.95: Finished. Best iter: [1]\n",
                        "    - Quantile 0.05: Finished. Best iter: [46]\n",
                        "    - Quantile 0.5: Finished. Best iter: [622]\n",
                        "    - Quantile 0.95: Finished. Best iter: [894]\n",
                        "    - Quantile 0.05: Finished. Best iter: [15]\n",
                        "    - Quantile 0.5: Finished. Best iter: [45]\n",
                        "    - Quantile 0.95: Finished. Best iter: [45]\n",
                        "    - Quantile 0.05: Finished. Best iter: [2]\n",
                        "    - Quantile 0.5: Finished. Best iter: [2]\n",
                        "    - Quantile 0.95: Finished. Best iter: [2]\n",
                        "    - Quantile 0.05: Finished. Best iter: [1]\n",
                        "    - Quantile 0.5: Finished. Best iter: [9]\n",
                        "    - Quantile 0.95: Finished. Best iter: [9]\n",
                        "    - Quantile 0.05: Finished. Best iter: [1]\n",
                        "    - Quantile 0.5: Finished. Best iter: [22]\n",
                        "    - Quantile 0.95: Finished. Best iter: [22]\n",
                        "    - Quantile 0.05: Finished. Best iter: [1]\n",
                        "    - Quantile 0.5: Finished. Best iter: [1]\n",
                        "    - Quantile 0.95: Finished. Best iter: [1]\n"
                    ]
                },
                {
                    "name": "stderr",
                    "output_type": "stream",
                    "text": [
                        "d:\\Project\\Command\\Python\\Neural\\Wolf_of_Wall_Street\\.venv\\Lib\\site-packages\\pandas\\core\\nanops.py:1632: ConstantInputWarning: An input array is constant; the correlation coefficient is not defined.\n",
                        "  return spearmanr(a, b)[0]\n"
                    ]
                },
                {
                    "name": "stdout",
                    "output_type": "stream",
                    "text": [
                        "    - Quantile 0.05: Finished. Best iter: [40]\n",
                        "    - Quantile 0.5: Finished. Best iter: [91]\n",
                        "    - Quantile 0.95: Finished. Best iter: [164]\n",
                        "    - Quantile 0.05: Finished. Best iter: [1]\n",
                        "    - Quantile 0.5: Finished. Best iter: [1]\n",
                        "    - Quantile 0.95: Finished. Best iter: [1]\n"
                    ]
                },
                {
                    "name": "stderr",
                    "output_type": "stream",
                    "text": [
                        "d:\\Project\\Command\\Python\\Neural\\Wolf_of_Wall_Street\\.venv\\Lib\\site-packages\\pandas\\core\\nanops.py:1632: ConstantInputWarning: An input array is constant; the correlation coefficient is not defined.\n",
                        "  return spearmanr(a, b)[0]\n"
                    ]
                },
                {
                    "name": "stdout",
                    "output_type": "stream",
                    "text": [
                        "    - Quantile 0.05: Finished. Best iter: [1]\n",
                        "    - Quantile 0.5: Finished. Best iter: [1]\n",
                        "    - Quantile 0.95: Finished. Best iter: [1]\n"
                    ]
                },
                {
                    "name": "stderr",
                    "output_type": "stream",
                    "text": [
                        "d:\\Project\\Command\\Python\\Neural\\Wolf_of_Wall_Street\\.venv\\Lib\\site-packages\\pandas\\core\\nanops.py:1632: ConstantInputWarning: An input array is constant; the correlation coefficient is not defined.\n",
                        "  return spearmanr(a, b)[0]\n"
                    ]
                },
                {
                    "name": "stdout",
                    "output_type": "stream",
                    "text": [
                        "    - Quantile 0.05: Finished. Best iter: [1]\n",
                        "    - Quantile 0.5: Finished. Best iter: [3]\n",
                        "    - Quantile 0.95: Finished. Best iter: [3]\n",
                        "    - Quantile 0.05: Finished. Best iter: [3]\n",
                        "    - Quantile 0.5: Finished. Best iter: [858]\n",
                        "    - Quantile 0.95: Finished. Best iter: [2940]\n",
                        "    - Quantile 0.05: Finished. Best iter: [82]\n",
                        "    - Quantile 0.5: Finished. Best iter: [82]\n",
                        "    - Quantile 0.95: Finished. Best iter: [61]\n",
                        "    - Quantile 0.05: Finished. Best iter: [1]\n",
                        "    - Quantile 0.5: Finished. Best iter: [1]\n",
                        "    - Quantile 0.95: Finished. Best iter: [1]\n",
                        "    - Quantile 0.05: Finished. Best iter: [102]\n",
                        "    - Quantile 0.5: Finished. Best iter: [97]\n",
                        "    - Quantile 0.95: Finished. Best iter: [102]\n",
                        "    - Quantile 0.05: Finished. Best iter: [44]\n",
                        "    - Quantile 0.5: Finished. Best iter: [50]\n",
                        "    - Quantile 0.95: Finished. Best iter: [173]\n",
                        "    - Quantile 0.05: Finished. Best iter: [15]\n",
                        "    - Quantile 0.5: Finished. Best iter: [18307]\n",
                        "    - Quantile 0.95: Finished. Best iter: [513]\n",
                        "    - Quantile 0.05: Finished. Best iter: [25]\n",
                        "    - Quantile 0.5: Finished. Best iter: [25]\n",
                        "    - Quantile 0.95: Finished. Best iter: [1]\n",
                        "    - Quantile 0.05: Finished. Best iter: [1]\n",
                        "    - Quantile 0.5: Finished. Best iter: [1]\n",
                        "    - Quantile 0.95: Finished. Best iter: [1]\n",
                        "    - Quantile 0.05: Finished. Best iter: [16736]\n",
                        "    - Quantile 0.5: Finished. Best iter: [19883]\n",
                        "    - Quantile 0.95: Finished. Best iter: [2]\n",
                        "    - Quantile 0.05: Finished. Best iter: [1]\n",
                        "    - Quantile 0.5: Finished. Best iter: [39]\n",
                        "    - Quantile 0.95: Finished. Best iter: [39]\n",
                        "    - Quantile 0.05: Finished. Best iter: [41]\n",
                        "    - Quantile 0.5: Finished. Best iter: [41]\n",
                        "    - Quantile 0.95: Finished. Best iter: [41]\n",
                        "    - Quantile 0.05: Finished. Best iter: [143]\n",
                        "    - Quantile 0.5: Finished. Best iter: [121]\n",
                        "    - Quantile 0.95: Finished. Best iter: [1]\n",
                        "    - Quantile 0.05: Finished. Best iter: [3]\n",
                        "    - Quantile 0.5: Finished. Best iter: [3]\n",
                        "    - Quantile 0.95: Finished. Best iter: [1]\n",
                        "    - Quantile 0.05: Finished. Best iter: [1]\n",
                        "    - Quantile 0.5: Finished. Best iter: [1]\n",
                        "    - Quantile 0.95: Finished. Best iter: [1]\n",
                        "    - Quantile 0.05: Finished. Best iter: [18686]\n",
                        "    - Quantile 0.5: Finished. Best iter: [19853]\n",
                        "    - Quantile 0.95: Finished. Best iter: [1]\n",
                        "    - Quantile 0.05: Finished. Best iter: [2]\n",
                        "    - Quantile 0.5: Finished. Best iter: [2]\n",
                        "    - Quantile 0.95: Finished. Best iter: [2]\n",
                        "    - Quantile 0.05: Finished. Best iter: [1]\n",
                        "    - Quantile 0.5: Finished. Best iter: [1]\n",
                        "    - Quantile 0.95: Finished. Best iter: [1]\n",
                        "SUCCESS: Out-of-Fold predictions saved to models\\603099.SH\\lgbm_oof_preds.csv\n",
                        "INFO: Training final model for 长白山 (603099.SH) on all data...\n",
                        "\n",
                        "================================================================================\n",
                        "--- Starting LSTM training for 长白山 (603099.SH) ---\n",
                        "INFO: PyTorch LSTMBuilder will use device: CUDA\n",
                        "INFO: Starting Walk-Forward validation for 长白山 across 39 folds...\n"
                    ]
                },
                {
                    "data": {
                        "application/vnd.jupyter.widget-view+json": {
                            "model_id": "47aace7819ca4a2a8a8fd0ae97733c89",
                            "version_major": 2,
                            "version_minor": 0
                        },
                        "text/plain": [
                            "Training LSTM on 长白山:   0%|          | 0/39 [00:00<?, ?it/s]"
                        ]
                    },
                    "metadata": {},
                    "output_type": "display_data"
                },
                {
                    "name": "stdout",
                    "output_type": "stream",
                    "text": [
                        "INFO: DataLoader will use 8 parallel workers.\n"
                    ]
                },
                {
                    "data": {
                        "application/vnd.jupyter.widget-view+json": {
                            "model_id": "4124bf843e9043a0adb3cc40f582792c",
                            "version_major": 2,
                            "version_minor": 0
                        },
                        "text/plain": [
                            "    - Epochs:   0%|          | 0/20 [00:00<?, ?it/s]"
                        ]
                    },
                    "metadata": {},
                    "output_type": "display_data"
                },
                {
                    "name": "stdout",
                    "output_type": "stream",
                    "text": [
                        "    - Fold finished. Best validation loss: 0.021348 at epoch 9\n",
                        "INFO: DataLoader will use 8 parallel workers.\n"
                    ]
                },
                {
                    "data": {
                        "application/vnd.jupyter.widget-view+json": {
                            "model_id": "edca0adfd804429e910dfbe3eadfe887",
                            "version_major": 2,
                            "version_minor": 0
                        },
                        "text/plain": [
                            "    - Epochs:   0%|          | 0/20 [00:00<?, ?it/s]"
                        ]
                    },
                    "metadata": {},
                    "output_type": "display_data"
                },
                {
                    "name": "stdout",
                    "output_type": "stream",
                    "text": [
                        "    - Fold finished. Best validation loss: 0.020500 at epoch 10\n",
                        "INFO: DataLoader will use 8 parallel workers.\n"
                    ]
                },
                {
                    "data": {
                        "application/vnd.jupyter.widget-view+json": {
                            "model_id": "eb6bdc2270a14d5dace2f3876a0838e5",
                            "version_major": 2,
                            "version_minor": 0
                        },
                        "text/plain": [
                            "    - Epochs:   0%|          | 0/20 [00:00<?, ?it/s]"
                        ]
                    },
                    "metadata": {},
                    "output_type": "display_data"
                },
                {
                    "name": "stdout",
                    "output_type": "stream",
                    "text": [
                        "    - Fold finished. Best validation loss: 0.002001 at epoch 5\n",
                        "INFO: DataLoader will use 8 parallel workers.\n"
                    ]
                },
                {
                    "data": {
                        "application/vnd.jupyter.widget-view+json": {
                            "model_id": "720dce84fe044300ba8627036533c364",
                            "version_major": 2,
                            "version_minor": 0
                        },
                        "text/plain": [
                            "    - Epochs:   0%|          | 0/20 [00:00<?, ?it/s]"
                        ]
                    },
                    "metadata": {},
                    "output_type": "display_data"
                },
                {
                    "name": "stdout",
                    "output_type": "stream",
                    "text": [
                        "    - Fold finished. Best validation loss: 0.009964 at epoch 3\n",
                        "INFO: DataLoader will use 8 parallel workers.\n"
                    ]
                },
                {
                    "data": {
                        "application/vnd.jupyter.widget-view+json": {
                            "model_id": "20d63eedf1f246c18162ae3e172808e2",
                            "version_major": 2,
                            "version_minor": 0
                        },
                        "text/plain": [
                            "    - Epochs:   0%|          | 0/20 [00:00<?, ?it/s]"
                        ]
                    },
                    "metadata": {},
                    "output_type": "display_data"
                },
                {
                    "name": "stdout",
                    "output_type": "stream",
                    "text": [
                        "    - Fold finished. Best validation loss: 0.002109 at epoch 2\n",
                        "INFO: DataLoader will use 8 parallel workers.\n"
                    ]
                },
                {
                    "data": {
                        "application/vnd.jupyter.widget-view+json": {
                            "model_id": "4fbdbabc7c97446a86b2731acdf577cc",
                            "version_major": 2,
                            "version_minor": 0
                        },
                        "text/plain": [
                            "    - Epochs:   0%|          | 0/20 [00:00<?, ?it/s]"
                        ]
                    },
                    "metadata": {},
                    "output_type": "display_data"
                },
                {
                    "name": "stdout",
                    "output_type": "stream",
                    "text": [
                        "    - Fold finished. Best validation loss: 0.030866 at epoch 3\n",
                        "INFO: DataLoader will use 8 parallel workers.\n"
                    ]
                },
                {
                    "data": {
                        "application/vnd.jupyter.widget-view+json": {
                            "model_id": "3d53d2410cfd4f0c8bd19250eac1639d",
                            "version_major": 2,
                            "version_minor": 0
                        },
                        "text/plain": [
                            "    - Epochs:   0%|          | 0/20 [00:00<?, ?it/s]"
                        ]
                    },
                    "metadata": {},
                    "output_type": "display_data"
                },
                {
                    "name": "stdout",
                    "output_type": "stream",
                    "text": [
                        "    - Fold finished. Best validation loss: 0.002754 at epoch 1\n",
                        "INFO: DataLoader will use 8 parallel workers.\n"
                    ]
                },
                {
                    "data": {
                        "application/vnd.jupyter.widget-view+json": {
                            "model_id": "f1dc699caf2a4e41bc57810ff14d904d",
                            "version_major": 2,
                            "version_minor": 0
                        },
                        "text/plain": [
                            "    - Epochs:   0%|          | 0/20 [00:00<?, ?it/s]"
                        ]
                    },
                    "metadata": {},
                    "output_type": "display_data"
                },
                {
                    "name": "stdout",
                    "output_type": "stream",
                    "text": [
                        "    - Fold finished. Best validation loss: 0.010841 at epoch 3\n",
                        "INFO: DataLoader will use 8 parallel workers.\n"
                    ]
                },
                {
                    "data": {
                        "application/vnd.jupyter.widget-view+json": {
                            "model_id": "ece5aadc8b5e43cb8f811b8c04b34f92",
                            "version_major": 2,
                            "version_minor": 0
                        },
                        "text/plain": [
                            "    - Epochs:   0%|          | 0/20 [00:00<?, ?it/s]"
                        ]
                    },
                    "metadata": {},
                    "output_type": "display_data"
                },
                {
                    "name": "stdout",
                    "output_type": "stream",
                    "text": [
                        "    - Fold finished. Best validation loss: 0.003073 at epoch 5\n",
                        "INFO: DataLoader will use 8 parallel workers.\n"
                    ]
                },
                {
                    "data": {
                        "application/vnd.jupyter.widget-view+json": {
                            "model_id": "600555335cce4526a47a49f7bf0d87fb",
                            "version_major": 2,
                            "version_minor": 0
                        },
                        "text/plain": [
                            "    - Epochs:   0%|          | 0/20 [00:00<?, ?it/s]"
                        ]
                    },
                    "metadata": {},
                    "output_type": "display_data"
                },
                {
                    "name": "stdout",
                    "output_type": "stream",
                    "text": [
                        "    - Fold finished. Best validation loss: 0.013616 at epoch 5\n",
                        "INFO: DataLoader will use 8 parallel workers.\n"
                    ]
                },
                {
                    "data": {
                        "application/vnd.jupyter.widget-view+json": {
                            "model_id": "3995d9767b2c4be2b39748d77a05f42c",
                            "version_major": 2,
                            "version_minor": 0
                        },
                        "text/plain": [
                            "    - Epochs:   0%|          | 0/20 [00:00<?, ?it/s]"
                        ]
                    },
                    "metadata": {},
                    "output_type": "display_data"
                },
                {
                    "name": "stdout",
                    "output_type": "stream",
                    "text": [
                        "    - Fold finished. Best validation loss: 0.038715 at epoch 3\n",
                        "INFO: DataLoader will use 8 parallel workers.\n"
                    ]
                },
                {
                    "data": {
                        "application/vnd.jupyter.widget-view+json": {
                            "model_id": "b3f71b8992f342d3b83e5ae7c35b122a",
                            "version_major": 2,
                            "version_minor": 0
                        },
                        "text/plain": [
                            "    - Epochs:   0%|          | 0/20 [00:00<?, ?it/s]"
                        ]
                    },
                    "metadata": {},
                    "output_type": "display_data"
                },
                {
                    "name": "stdout",
                    "output_type": "stream",
                    "text": [
                        "    - Fold finished. Best validation loss: 0.006047 at epoch 20\n",
                        "INFO: DataLoader will use 8 parallel workers.\n"
                    ]
                },
                {
                    "data": {
                        "application/vnd.jupyter.widget-view+json": {
                            "model_id": "1503b2a740e14cc69dc437d620b75524",
                            "version_major": 2,
                            "version_minor": 0
                        },
                        "text/plain": [
                            "    - Epochs:   0%|          | 0/20 [00:00<?, ?it/s]"
                        ]
                    },
                    "metadata": {},
                    "output_type": "display_data"
                },
                {
                    "name": "stdout",
                    "output_type": "stream",
                    "text": [
                        "    - Fold finished. Best validation loss: 0.022341 at epoch 1\n",
                        "INFO: DataLoader will use 8 parallel workers.\n"
                    ]
                },
                {
                    "data": {
                        "application/vnd.jupyter.widget-view+json": {
                            "model_id": "6f52148b32324a468dd01fbc8bb8672b",
                            "version_major": 2,
                            "version_minor": 0
                        },
                        "text/plain": [
                            "    - Epochs:   0%|          | 0/20 [00:00<?, ?it/s]"
                        ]
                    },
                    "metadata": {},
                    "output_type": "display_data"
                },
                {
                    "name": "stdout",
                    "output_type": "stream",
                    "text": [
                        "    - Fold finished. Best validation loss: 0.010340 at epoch 12\n",
                        "INFO: DataLoader will use 8 parallel workers.\n"
                    ]
                },
                {
                    "data": {
                        "application/vnd.jupyter.widget-view+json": {
                            "model_id": "78adefc237f04de6bd8d871124c9fdbb",
                            "version_major": 2,
                            "version_minor": 0
                        },
                        "text/plain": [
                            "    - Epochs:   0%|          | 0/20 [00:00<?, ?it/s]"
                        ]
                    },
                    "metadata": {},
                    "output_type": "display_data"
                },
                {
                    "name": "stdout",
                    "output_type": "stream",
                    "text": [
                        "    - Fold finished. Best validation loss: 0.001712 at epoch 4\n",
                        "INFO: DataLoader will use 8 parallel workers.\n"
                    ]
                },
                {
                    "data": {
                        "application/vnd.jupyter.widget-view+json": {
                            "model_id": "71b5fa7e949c40419040effdad5e86df",
                            "version_major": 2,
                            "version_minor": 0
                        },
                        "text/plain": [
                            "    - Epochs:   0%|          | 0/20 [00:00<?, ?it/s]"
                        ]
                    },
                    "metadata": {},
                    "output_type": "display_data"
                },
                {
                    "name": "stdout",
                    "output_type": "stream",
                    "text": [
                        "    - Fold finished. Best validation loss: 0.007600 at epoch 3\n",
                        "INFO: DataLoader will use 8 parallel workers.\n"
                    ]
                },
                {
                    "data": {
                        "application/vnd.jupyter.widget-view+json": {
                            "model_id": "8dfa30a71d1c4bd7ac353218c456a2db",
                            "version_major": 2,
                            "version_minor": 0
                        },
                        "text/plain": [
                            "    - Epochs:   0%|          | 0/20 [00:00<?, ?it/s]"
                        ]
                    },
                    "metadata": {},
                    "output_type": "display_data"
                },
                {
                    "name": "stdout",
                    "output_type": "stream",
                    "text": [
                        "    - Fold finished. Best validation loss: 0.007114 at epoch 1\n",
                        "INFO: DataLoader will use 8 parallel workers.\n"
                    ]
                },
                {
                    "data": {
                        "application/vnd.jupyter.widget-view+json": {
                            "model_id": "08c82d68017a40a3bee1314eb3684667",
                            "version_major": 2,
                            "version_minor": 0
                        },
                        "text/plain": [
                            "    - Epochs:   0%|          | 0/20 [00:00<?, ?it/s]"
                        ]
                    },
                    "metadata": {},
                    "output_type": "display_data"
                },
                {
                    "name": "stdout",
                    "output_type": "stream",
                    "text": [
                        "    - Fold finished. Best validation loss: 0.003508 at epoch 13\n",
                        "INFO: DataLoader will use 8 parallel workers.\n"
                    ]
                },
                {
                    "data": {
                        "application/vnd.jupyter.widget-view+json": {
                            "model_id": "acc88237886b457da898c10d8471c7c1",
                            "version_major": 2,
                            "version_minor": 0
                        },
                        "text/plain": [
                            "    - Epochs:   0%|          | 0/20 [00:00<?, ?it/s]"
                        ]
                    },
                    "metadata": {},
                    "output_type": "display_data"
                },
                {
                    "name": "stdout",
                    "output_type": "stream",
                    "text": [
                        "    - Fold finished. Best validation loss: 0.004229 at epoch 5\n",
                        "INFO: DataLoader will use 8 parallel workers.\n"
                    ]
                },
                {
                    "data": {
                        "application/vnd.jupyter.widget-view+json": {
                            "model_id": "ef579a226d5c436c8c1afcd78900cf70",
                            "version_major": 2,
                            "version_minor": 0
                        },
                        "text/plain": [
                            "    - Epochs:   0%|          | 0/20 [00:00<?, ?it/s]"
                        ]
                    },
                    "metadata": {},
                    "output_type": "display_data"
                },
                {
                    "name": "stdout",
                    "output_type": "stream",
                    "text": [
                        "    - Fold finished. Best validation loss: 0.010308 at epoch 2\n",
                        "INFO: DataLoader will use 8 parallel workers.\n"
                    ]
                },
                {
                    "data": {
                        "application/vnd.jupyter.widget-view+json": {
                            "model_id": "4aa792092f8f46aeb32db48cae6a062c",
                            "version_major": 2,
                            "version_minor": 0
                        },
                        "text/plain": [
                            "    - Epochs:   0%|          | 0/20 [00:00<?, ?it/s]"
                        ]
                    },
                    "metadata": {},
                    "output_type": "display_data"
                },
                {
                    "name": "stdout",
                    "output_type": "stream",
                    "text": [
                        "    - Fold finished. Best validation loss: 0.004616 at epoch 4\n",
                        "INFO: DataLoader will use 8 parallel workers.\n"
                    ]
                },
                {
                    "data": {
                        "application/vnd.jupyter.widget-view+json": {
                            "model_id": "cbf74e982d9d47239d49d6444ee80e26",
                            "version_major": 2,
                            "version_minor": 0
                        },
                        "text/plain": [
                            "    - Epochs:   0%|          | 0/20 [00:00<?, ?it/s]"
                        ]
                    },
                    "metadata": {},
                    "output_type": "display_data"
                },
                {
                    "name": "stdout",
                    "output_type": "stream",
                    "text": [
                        "    - Fold finished. Best validation loss: 0.001961 at epoch 19\n",
                        "INFO: DataLoader will use 8 parallel workers.\n"
                    ]
                },
                {
                    "data": {
                        "application/vnd.jupyter.widget-view+json": {
                            "model_id": "97724f0c081d46569bc1da241475e8cc",
                            "version_major": 2,
                            "version_minor": 0
                        },
                        "text/plain": [
                            "    - Epochs:   0%|          | 0/20 [00:00<?, ?it/s]"
                        ]
                    },
                    "metadata": {},
                    "output_type": "display_data"
                },
                {
                    "name": "stdout",
                    "output_type": "stream",
                    "text": [
                        "    - Fold finished. Best validation loss: 0.008794 at epoch 14\n",
                        "INFO: DataLoader will use 8 parallel workers.\n"
                    ]
                },
                {
                    "data": {
                        "application/vnd.jupyter.widget-view+json": {
                            "model_id": "8cfa2c5d35804c32aa9920d7cfb952ac",
                            "version_major": 2,
                            "version_minor": 0
                        },
                        "text/plain": [
                            "    - Epochs:   0%|          | 0/20 [00:00<?, ?it/s]"
                        ]
                    },
                    "metadata": {},
                    "output_type": "display_data"
                },
                {
                    "name": "stdout",
                    "output_type": "stream",
                    "text": [
                        "    - Fold finished. Best validation loss: 0.024023 at epoch 3\n",
                        "INFO: DataLoader will use 8 parallel workers.\n"
                    ]
                },
                {
                    "data": {
                        "application/vnd.jupyter.widget-view+json": {
                            "model_id": "9da75af1db9f4cfea7605c0d6d6c916b",
                            "version_major": 2,
                            "version_minor": 0
                        },
                        "text/plain": [
                            "    - Epochs:   0%|          | 0/20 [00:00<?, ?it/s]"
                        ]
                    },
                    "metadata": {},
                    "output_type": "display_data"
                },
                {
                    "name": "stdout",
                    "output_type": "stream",
                    "text": [
                        "    - Fold finished. Best validation loss: 0.005701 at epoch 10\n",
                        "INFO: DataLoader will use 8 parallel workers.\n"
                    ]
                },
                {
                    "data": {
                        "application/vnd.jupyter.widget-view+json": {
                            "model_id": "a6ae5ad600a64876ac63b27c6d859af3",
                            "version_major": 2,
                            "version_minor": 0
                        },
                        "text/plain": [
                            "    - Epochs:   0%|          | 0/20 [00:00<?, ?it/s]"
                        ]
                    },
                    "metadata": {},
                    "output_type": "display_data"
                },
                {
                    "name": "stdout",
                    "output_type": "stream",
                    "text": [
                        "    - Fold finished. Best validation loss: 0.010117 at epoch 7\n",
                        "INFO: DataLoader will use 8 parallel workers.\n"
                    ]
                },
                {
                    "data": {
                        "application/vnd.jupyter.widget-view+json": {
                            "model_id": "547dae40676c479bbe8fe9197d0f8880",
                            "version_major": 2,
                            "version_minor": 0
                        },
                        "text/plain": [
                            "    - Epochs:   0%|          | 0/20 [00:00<?, ?it/s]"
                        ]
                    },
                    "metadata": {},
                    "output_type": "display_data"
                },
                {
                    "name": "stdout",
                    "output_type": "stream",
                    "text": [
                        "    - Fold finished. Best validation loss: 0.005326 at epoch 1\n",
                        "INFO: DataLoader will use 8 parallel workers.\n"
                    ]
                },
                {
                    "data": {
                        "application/vnd.jupyter.widget-view+json": {
                            "model_id": "bdfea18be5414230b8a12fb27b15385d",
                            "version_major": 2,
                            "version_minor": 0
                        },
                        "text/plain": [
                            "    - Epochs:   0%|          | 0/20 [00:00<?, ?it/s]"
                        ]
                    },
                    "metadata": {},
                    "output_type": "display_data"
                },
                {
                    "name": "stdout",
                    "output_type": "stream",
                    "text": [
                        "    - Fold finished. Best validation loss: 0.014928 at epoch 17\n",
                        "INFO: DataLoader will use 8 parallel workers.\n"
                    ]
                },
                {
                    "data": {
                        "application/vnd.jupyter.widget-view+json": {
                            "model_id": "5eaa4e38d45548ca9a72d5d4d04324e4",
                            "version_major": 2,
                            "version_minor": 0
                        },
                        "text/plain": [
                            "    - Epochs:   0%|          | 0/20 [00:00<?, ?it/s]"
                        ]
                    },
                    "metadata": {},
                    "output_type": "display_data"
                },
                {
                    "name": "stdout",
                    "output_type": "stream",
                    "text": [
                        "    - Fold finished. Best validation loss: 0.013667 at epoch 13\n",
                        "INFO: DataLoader will use 8 parallel workers.\n"
                    ]
                },
                {
                    "data": {
                        "application/vnd.jupyter.widget-view+json": {
                            "model_id": "36a3d21c3ae4470fa5a895b6d8e52ea4",
                            "version_major": 2,
                            "version_minor": 0
                        },
                        "text/plain": [
                            "    - Epochs:   0%|          | 0/20 [00:00<?, ?it/s]"
                        ]
                    },
                    "metadata": {},
                    "output_type": "display_data"
                },
                {
                    "name": "stdout",
                    "output_type": "stream",
                    "text": [
                        "    - Fold finished. Best validation loss: 0.007000 at epoch 4\n",
                        "INFO: DataLoader will use 8 parallel workers.\n"
                    ]
                },
                {
                    "data": {
                        "application/vnd.jupyter.widget-view+json": {
                            "model_id": "eed4b2a18fa84c658b8ab6f1625c1596",
                            "version_major": 2,
                            "version_minor": 0
                        },
                        "text/plain": [
                            "    - Epochs:   0%|          | 0/20 [00:00<?, ?it/s]"
                        ]
                    },
                    "metadata": {},
                    "output_type": "display_data"
                },
                {
                    "name": "stdout",
                    "output_type": "stream",
                    "text": [
                        "    - Fold finished. Best validation loss: 0.012925 at epoch 19\n",
                        "INFO: DataLoader will use 8 parallel workers.\n"
                    ]
                },
                {
                    "data": {
                        "application/vnd.jupyter.widget-view+json": {
                            "model_id": "271c447f09bd41a4a24b0828354815d4",
                            "version_major": 2,
                            "version_minor": 0
                        },
                        "text/plain": [
                            "    - Epochs:   0%|          | 0/20 [00:00<?, ?it/s]"
                        ]
                    },
                    "metadata": {},
                    "output_type": "display_data"
                },
                {
                    "name": "stdout",
                    "output_type": "stream",
                    "text": [
                        "    - Fold finished. Best validation loss: 0.003900 at epoch 4\n",
                        "INFO: DataLoader will use 8 parallel workers.\n"
                    ]
                },
                {
                    "data": {
                        "application/vnd.jupyter.widget-view+json": {
                            "model_id": "0a6dc887f3494b408d89867ef113b655",
                            "version_major": 2,
                            "version_minor": 0
                        },
                        "text/plain": [
                            "    - Epochs:   0%|          | 0/20 [00:00<?, ?it/s]"
                        ]
                    },
                    "metadata": {},
                    "output_type": "display_data"
                },
                {
                    "name": "stdout",
                    "output_type": "stream",
                    "text": [
                        "    - Fold finished. Best validation loss: 0.190753 at epoch 4\n",
                        "INFO: DataLoader will use 8 parallel workers.\n"
                    ]
                },
                {
                    "data": {
                        "application/vnd.jupyter.widget-view+json": {
                            "model_id": "49af001e2bc145e39c8cdbe941c69b60",
                            "version_major": 2,
                            "version_minor": 0
                        },
                        "text/plain": [
                            "    - Epochs:   0%|          | 0/20 [00:00<?, ?it/s]"
                        ]
                    },
                    "metadata": {},
                    "output_type": "display_data"
                },
                {
                    "name": "stdout",
                    "output_type": "stream",
                    "text": [
                        "    - Fold finished. Best validation loss: 0.025087 at epoch 1\n",
                        "INFO: DataLoader will use 8 parallel workers.\n"
                    ]
                },
                {
                    "data": {
                        "application/vnd.jupyter.widget-view+json": {
                            "model_id": "1aad22343c194365b085344153719b59",
                            "version_major": 2,
                            "version_minor": 0
                        },
                        "text/plain": [
                            "    - Epochs:   0%|          | 0/20 [00:00<?, ?it/s]"
                        ]
                    },
                    "metadata": {},
                    "output_type": "display_data"
                },
                {
                    "name": "stdout",
                    "output_type": "stream",
                    "text": [
                        "    - Fold finished. Best validation loss: 0.003907 at epoch 2\n",
                        "INFO: DataLoader will use 8 parallel workers.\n"
                    ]
                },
                {
                    "data": {
                        "application/vnd.jupyter.widget-view+json": {
                            "model_id": "d428dfccf4de4e0580e18d1925b8801a",
                            "version_major": 2,
                            "version_minor": 0
                        },
                        "text/plain": [
                            "    - Epochs:   0%|          | 0/20 [00:00<?, ?it/s]"
                        ]
                    },
                    "metadata": {},
                    "output_type": "display_data"
                },
                {
                    "name": "stdout",
                    "output_type": "stream",
                    "text": [
                        "    - Fold finished. Best validation loss: 0.106689 at epoch 11\n",
                        "INFO: DataLoader will use 8 parallel workers.\n"
                    ]
                },
                {
                    "data": {
                        "application/vnd.jupyter.widget-view+json": {
                            "model_id": "d561f0bd9a6d46f2b710fb607df8c386",
                            "version_major": 2,
                            "version_minor": 0
                        },
                        "text/plain": [
                            "    - Epochs:   0%|          | 0/20 [00:00<?, ?it/s]"
                        ]
                    },
                    "metadata": {},
                    "output_type": "display_data"
                },
                {
                    "name": "stdout",
                    "output_type": "stream",
                    "text": [
                        "    - Fold finished. Best validation loss: 0.072094 at epoch 1\n",
                        "INFO: DataLoader will use 8 parallel workers.\n"
                    ]
                },
                {
                    "data": {
                        "application/vnd.jupyter.widget-view+json": {
                            "model_id": "2366bb3fe32b499d85f9f5993debf7bf",
                            "version_major": 2,
                            "version_minor": 0
                        },
                        "text/plain": [
                            "    - Epochs:   0%|          | 0/20 [00:00<?, ?it/s]"
                        ]
                    },
                    "metadata": {},
                    "output_type": "display_data"
                },
                {
                    "name": "stdout",
                    "output_type": "stream",
                    "text": [
                        "    - Fold finished. Best validation loss: 0.005377 at epoch 11\n",
                        "INFO: DataLoader will use 8 parallel workers.\n"
                    ]
                },
                {
                    "data": {
                        "application/vnd.jupyter.widget-view+json": {
                            "model_id": "78e6fcd84ef943b79d68bd4bb5640577",
                            "version_major": 2,
                            "version_minor": 0
                        },
                        "text/plain": [
                            "    - Epochs:   0%|          | 0/20 [00:00<?, ?it/s]"
                        ]
                    },
                    "metadata": {},
                    "output_type": "display_data"
                },
                {
                    "name": "stdout",
                    "output_type": "stream",
                    "text": [
                        "    - Fold finished. Best validation loss: 0.004298 at epoch 2\n",
                        "SUCCESS: Out-of-Fold predictions saved to models\\603099.SH\\lstm_oof_preds.csv\n",
                        "INFO: Training final model for 长白山 (603099.SH) on all data...\n"
                    ]
                },
                {
                    "data": {
                        "application/vnd.jupyter.widget-view+json": {
                            "model_id": "25bb3bcf35474137922a86196180cae9",
                            "version_major": 2,
                            "version_minor": 0
                        },
                        "text/plain": [
                            "    - Final Model Epochs:   0%|          | 0/10 [00:00<?, ?it/s]"
                        ]
                    },
                    "metadata": {},
                    "output_type": "display_data"
                },
                {
                    "name": "stdout",
                    "output_type": "stream",
                    "text": [
                        "\n",
                        "================================================================================\n",
                        "--- Starting LGBM training for TCL科技 (000100.SZ) ---\n",
                        "INFO: Starting Walk-Forward validation for TCL科技 across 48 folds...\n"
                    ]
                },
                {
                    "data": {
                        "application/vnd.jupyter.widget-view+json": {
                            "model_id": "4edbe30e876a41fa997f85fdb5be658b",
                            "version_major": 2,
                            "version_minor": 0
                        },
                        "text/plain": [
                            "Training LGBM on TCL科技:   0%|          | 0/48 [00:00<?, ?it/s]"
                        ]
                    },
                    "metadata": {},
                    "output_type": "display_data"
                },
                {
                    "name": "stdout",
                    "output_type": "stream",
                    "text": [
                        "    - Quantile 0.05: Finished. Best iter: [1]\n",
                        "    - Quantile 0.5: Finished. Best iter: [1]\n",
                        "    - Quantile 0.95: Finished. Best iter: [1]\n",
                        "    - Quantile 0.05: Finished. Best iter: [2]\n",
                        "    - Quantile 0.5: Finished. Best iter: [12470]\n",
                        "    - Quantile 0.95: Finished. Best iter: [12470]\n",
                        "    - Quantile 0.05: Finished. Best iter: [1]\n",
                        "    - Quantile 0.5: Finished. Best iter: [1]\n",
                        "    - Quantile 0.95: Finished. Best iter: [1]\n",
                        "    - Quantile 0.05: Finished. Best iter: [1]\n",
                        "    - Quantile 0.5: Finished. Best iter: [1]\n",
                        "    - Quantile 0.95: Finished. Best iter: [1]\n",
                        "    - Quantile 0.05: Finished. Best iter: [114]\n",
                        "    - Quantile 0.5: Finished. Best iter: [1635]\n",
                        "    - Quantile 0.95: Finished. Best iter: [11184]\n",
                        "    - Quantile 0.05: Finished. Best iter: [17]\n",
                        "    - Quantile 0.5: Finished. Best iter: [17]\n",
                        "    - Quantile 0.95: Finished. Best iter: [17]\n",
                        "    - Quantile 0.05: Finished. Best iter: [16]\n",
                        "    - Quantile 0.5: Finished. Best iter: [16]\n",
                        "    - Quantile 0.95: Finished. Best iter: [16]\n",
                        "    - Quantile 0.05: Finished. Best iter: [1]\n",
                        "    - Quantile 0.5: Finished. Best iter: [1]\n",
                        "    - Quantile 0.95: Finished. Best iter: [1]\n",
                        "    - Quantile 0.05: Finished. Best iter: [1]\n",
                        "    - Quantile 0.5: Finished. Best iter: [46]\n",
                        "    - Quantile 0.95: Finished. Best iter: [46]\n",
                        "    - Quantile 0.05: Finished. Best iter: [1]\n",
                        "    - Quantile 0.5: Finished. Best iter: [1]\n",
                        "    - Quantile 0.95: Finished. Best iter: [1]\n"
                    ]
                },
                {
                    "name": "stderr",
                    "output_type": "stream",
                    "text": [
                        "d:\\Project\\Command\\Python\\Neural\\Wolf_of_Wall_Street\\.venv\\Lib\\site-packages\\pandas\\core\\nanops.py:1632: ConstantInputWarning: An input array is constant; the correlation coefficient is not defined.\n",
                        "  return spearmanr(a, b)[0]\n"
                    ]
                },
                {
                    "name": "stdout",
                    "output_type": "stream",
                    "text": [
                        "    - Quantile 0.05: Finished. Best iter: [15]\n",
                        "    - Quantile 0.5: Finished. Best iter: [15]\n",
                        "    - Quantile 0.95: Finished. Best iter: [15]\n",
                        "    - Quantile 0.05: Finished. Best iter: [179]\n",
                        "    - Quantile 0.5: Finished. Best iter: [179]\n",
                        "    - Quantile 0.95: Finished. Best iter: [1]\n",
                        "    - Quantile 0.05: Finished. Best iter: [2]\n",
                        "    - Quantile 0.5: Finished. Best iter: [2]\n",
                        "    - Quantile 0.95: Finished. Best iter: [2]\n",
                        "    - Quantile 0.05: Finished. Best iter: [13841]\n",
                        "    - Quantile 0.5: Finished. Best iter: [11678]\n",
                        "    - Quantile 0.95: Finished. Best iter: [2]\n",
                        "    - Quantile 0.05: Finished. Best iter: [110]\n",
                        "    - Quantile 0.5: Finished. Best iter: [2]\n",
                        "    - Quantile 0.95: Finished. Best iter: [460]\n",
                        "    - Quantile 0.05: Finished. Best iter: [1027]\n",
                        "    - Quantile 0.5: Finished. Best iter: [1054]\n",
                        "    - Quantile 0.95: Finished. Best iter: [511]\n",
                        "    - Quantile 0.05: Finished. Best iter: [1]\n",
                        "    - Quantile 0.5: Finished. Best iter: [1]\n",
                        "    - Quantile 0.95: Finished. Best iter: [1]\n",
                        "    - Quantile 0.05: Finished. Best iter: [64]\n",
                        "    - Quantile 0.5: Finished. Best iter: [66]\n",
                        "    - Quantile 0.95: Finished. Best iter: [70]\n",
                        "    - Quantile 0.05: Finished. Best iter: [1780]\n",
                        "    - Quantile 0.5: Finished. Best iter: [1910]\n",
                        "    - Quantile 0.95: Finished. Best iter: [382]\n",
                        "    - Quantile 0.05: Finished. Best iter: [87]\n",
                        "    - Quantile 0.5: Finished. Best iter: [177]\n",
                        "    - Quantile 0.95: Finished. Best iter: [3]\n",
                        "    - Quantile 0.05: Finished. Best iter: [48]\n",
                        "    - Quantile 0.5: Finished. Best iter: [48]\n",
                        "    - Quantile 0.95: Finished. Best iter: [48]\n",
                        "    - Quantile 0.05: Finished. Best iter: [55]\n",
                        "    - Quantile 0.5: Finished. Best iter: [55]\n",
                        "    - Quantile 0.95: Finished. Best iter: [55]\n",
                        "    - Quantile 0.05: Finished. Best iter: [8]\n",
                        "    - Quantile 0.5: Finished. Best iter: [8]\n",
                        "    - Quantile 0.95: Finished. Best iter: [2]\n",
                        "    - Quantile 0.05: Finished. Best iter: [1]\n",
                        "    - Quantile 0.5: Finished. Best iter: [1]\n",
                        "    - Quantile 0.95: Finished. Best iter: [1]\n",
                        "    - Quantile 0.05: Finished. Best iter: [75]\n",
                        "    - Quantile 0.5: Finished. Best iter: [159]\n",
                        "    - Quantile 0.95: Finished. Best iter: [7077]\n",
                        "    - Quantile 0.05: Finished. Best iter: [1]\n",
                        "    - Quantile 0.5: Finished. Best iter: [1]\n",
                        "    - Quantile 0.95: Finished. Best iter: [1]\n",
                        "    - Quantile 0.05: Finished. Best iter: [241]\n",
                        "    - Quantile 0.5: Finished. Best iter: [241]\n",
                        "    - Quantile 0.95: Finished. Best iter: [1]\n",
                        "    - Quantile 0.05: Finished. Best iter: [8]\n",
                        "    - Quantile 0.5: Finished. Best iter: [8]\n",
                        "    - Quantile 0.95: Finished. Best iter: [1]\n",
                        "    - Quantile 0.05: Finished. Best iter: [23]\n",
                        "    - Quantile 0.5: Finished. Best iter: [1141]\n",
                        "    - Quantile 0.95: Finished. Best iter: [1292]\n",
                        "    - Quantile 0.05: Finished. Best iter: [2]\n",
                        "    - Quantile 0.5: Finished. Best iter: [1]\n",
                        "    - Quantile 0.95: Finished. Best iter: [1]\n",
                        "    - Quantile 0.05: Finished. Best iter: [1]\n",
                        "    - Quantile 0.5: Finished. Best iter: [1]\n",
                        "    - Quantile 0.95: Finished. Best iter: [1]\n",
                        "    - Quantile 0.05: Finished. Best iter: [3942]\n",
                        "    - Quantile 0.5: Finished. Best iter: [15420]\n",
                        "    - Quantile 0.95: Finished. Best iter: [2]\n",
                        "    - Quantile 0.05: Finished. Best iter: [1]\n",
                        "    - Quantile 0.5: Finished. Best iter: [1]\n",
                        "    - Quantile 0.95: Finished. Best iter: [1]\n",
                        "    - Quantile 0.05: Finished. Best iter: [1]\n",
                        "    - Quantile 0.5: Finished. Best iter: [1]\n",
                        "    - Quantile 0.95: Finished. Best iter: [1]\n",
                        "    - Quantile 0.05: Finished. Best iter: [27]\n",
                        "    - Quantile 0.5: Finished. Best iter: [27]\n",
                        "    - Quantile 0.95: Finished. Best iter: [27]\n",
                        "    - Quantile 0.05: Finished. Best iter: [56]\n",
                        "    - Quantile 0.5: Finished. Best iter: [40]\n",
                        "    - Quantile 0.95: Finished. Best iter: [1]\n",
                        "    - Quantile 0.05: Finished. Best iter: [2]\n",
                        "    - Quantile 0.5: Finished. Best iter: [2]\n",
                        "    - Quantile 0.95: Finished. Best iter: [2]\n",
                        "    - Quantile 0.05: Finished. Best iter: [2]\n",
                        "    - Quantile 0.5: Finished. Best iter: [48]\n",
                        "    - Quantile 0.95: Finished. Best iter: [48]\n",
                        "    - Quantile 0.05: Finished. Best iter: [112]\n",
                        "    - Quantile 0.5: Finished. Best iter: [174]\n",
                        "    - Quantile 0.95: Finished. Best iter: [89]\n",
                        "    - Quantile 0.05: Finished. Best iter: [12688]\n",
                        "    - Quantile 0.5: Finished. Best iter: [17072]\n",
                        "    - Quantile 0.95: Finished. Best iter: [48]\n",
                        "    - Quantile 0.05: Finished. Best iter: [3]\n",
                        "    - Quantile 0.5: Finished. Best iter: [1181]\n",
                        "    - Quantile 0.95: Finished. Best iter: [137]\n",
                        "    - Quantile 0.05: Finished. Best iter: [2]\n",
                        "    - Quantile 0.5: Finished. Best iter: [22]\n",
                        "    - Quantile 0.95: Finished. Best iter: [22]\n",
                        "    - Quantile 0.05: Finished. Best iter: [147]\n",
                        "    - Quantile 0.5: Finished. Best iter: [98]\n",
                        "    - Quantile 0.95: Finished. Best iter: [14]\n",
                        "    - Quantile 0.05: Finished. Best iter: [16]\n",
                        "    - Quantile 0.5: Finished. Best iter: [65]\n",
                        "    - Quantile 0.95: Finished. Best iter: [64]\n",
                        "    - Quantile 0.05: Finished. Best iter: [125]\n",
                        "    - Quantile 0.5: Finished. Best iter: [36]\n",
                        "    - Quantile 0.95: Finished. Best iter: [36]\n",
                        "    - Quantile 0.05: Finished. Best iter: [2]\n",
                        "    - Quantile 0.5: Finished. Best iter: [2]\n",
                        "    - Quantile 0.95: Finished. Best iter: [2]\n",
                        "    - Quantile 0.05: Finished. Best iter: [988]\n",
                        "    - Quantile 0.5: Finished. Best iter: [1021]\n",
                        "    - Quantile 0.95: Finished. Best iter: [17]\n",
                        "    - Quantile 0.05: Finished. Best iter: [1]\n",
                        "    - Quantile 0.5: Finished. Best iter: [1]\n",
                        "    - Quantile 0.95: Finished. Best iter: [1]\n",
                        "SUCCESS: Out-of-Fold predictions saved to models\\000100.SZ\\lgbm_oof_preds.csv\n",
                        "INFO: Training final model for TCL科技 (000100.SZ) on all data...\n",
                        "\n",
                        "================================================================================\n",
                        "--- Starting LSTM training for TCL科技 (000100.SZ) ---\n",
                        "INFO: PyTorch LSTMBuilder will use device: CUDA\n",
                        "INFO: Starting Walk-Forward validation for TCL科技 across 48 folds...\n"
                    ]
                },
                {
                    "data": {
                        "application/vnd.jupyter.widget-view+json": {
                            "model_id": "26f63e47c3ab40edb52b83f49f4956ad",
                            "version_major": 2,
                            "version_minor": 0
                        },
                        "text/plain": [
                            "Training LSTM on TCL科技:   0%|          | 0/48 [00:00<?, ?it/s]"
                        ]
                    },
                    "metadata": {},
                    "output_type": "display_data"
                },
                {
                    "name": "stdout",
                    "output_type": "stream",
                    "text": [
                        "INFO: DataLoader will use 8 parallel workers.\n"
                    ]
                },
                {
                    "data": {
                        "application/vnd.jupyter.widget-view+json": {
                            "model_id": "714e73be898c453ebf3dfb2e438517c6",
                            "version_major": 2,
                            "version_minor": 0
                        },
                        "text/plain": [
                            "    - Epochs:   0%|          | 0/20 [00:00<?, ?it/s]"
                        ]
                    },
                    "metadata": {},
                    "output_type": "display_data"
                },
                {
                    "name": "stdout",
                    "output_type": "stream",
                    "text": [
                        "    - Fold finished. Best validation loss: 0.004201 at epoch 1\n",
                        "INFO: DataLoader will use 8 parallel workers.\n"
                    ]
                },
                {
                    "data": {
                        "application/vnd.jupyter.widget-view+json": {
                            "model_id": "974080861f80400d91591cafa7cdb785",
                            "version_major": 2,
                            "version_minor": 0
                        },
                        "text/plain": [
                            "    - Epochs:   0%|          | 0/20 [00:00<?, ?it/s]"
                        ]
                    },
                    "metadata": {},
                    "output_type": "display_data"
                },
                {
                    "name": "stdout",
                    "output_type": "stream",
                    "text": [
                        "    - Fold finished. Best validation loss: 0.010204 at epoch 11\n",
                        "INFO: DataLoader will use 8 parallel workers.\n"
                    ]
                },
                {
                    "data": {
                        "application/vnd.jupyter.widget-view+json": {
                            "model_id": "f1d0a5a6ce0344edb67303c6ea58879d",
                            "version_major": 2,
                            "version_minor": 0
                        },
                        "text/plain": [
                            "    - Epochs:   0%|          | 0/20 [00:00<?, ?it/s]"
                        ]
                    },
                    "metadata": {},
                    "output_type": "display_data"
                },
                {
                    "name": "stdout",
                    "output_type": "stream",
                    "text": [
                        "    - Fold finished. Best validation loss: 0.022066 at epoch 1\n",
                        "INFO: DataLoader will use 8 parallel workers.\n"
                    ]
                },
                {
                    "data": {
                        "application/vnd.jupyter.widget-view+json": {
                            "model_id": "e30c5a706c294644b1a6c26e7e8e9fcb",
                            "version_major": 2,
                            "version_minor": 0
                        },
                        "text/plain": [
                            "    - Epochs:   0%|          | 0/20 [00:00<?, ?it/s]"
                        ]
                    },
                    "metadata": {},
                    "output_type": "display_data"
                },
                {
                    "name": "stdout",
                    "output_type": "stream",
                    "text": [
                        "    - Fold finished. Best validation loss: 0.002420 at epoch 3\n",
                        "INFO: DataLoader will use 8 parallel workers.\n"
                    ]
                },
                {
                    "data": {
                        "application/vnd.jupyter.widget-view+json": {
                            "model_id": "44de4084c0724470b033baae83cbcb47",
                            "version_major": 2,
                            "version_minor": 0
                        },
                        "text/plain": [
                            "    - Epochs:   0%|          | 0/20 [00:00<?, ?it/s]"
                        ]
                    },
                    "metadata": {},
                    "output_type": "display_data"
                },
                {
                    "name": "stdout",
                    "output_type": "stream",
                    "text": [
                        "    - Fold finished. Best validation loss: 0.005130 at epoch 1\n",
                        "INFO: DataLoader will use 8 parallel workers.\n"
                    ]
                },
                {
                    "data": {
                        "application/vnd.jupyter.widget-view+json": {
                            "model_id": "b848dcfbc6754df38bc9e05c890f1e01",
                            "version_major": 2,
                            "version_minor": 0
                        },
                        "text/plain": [
                            "    - Epochs:   0%|          | 0/20 [00:00<?, ?it/s]"
                        ]
                    },
                    "metadata": {},
                    "output_type": "display_data"
                },
                {
                    "name": "stdout",
                    "output_type": "stream",
                    "text": [
                        "    - Fold finished. Best validation loss: 0.002259 at epoch 3\n",
                        "INFO: DataLoader will use 8 parallel workers.\n"
                    ]
                },
                {
                    "data": {
                        "application/vnd.jupyter.widget-view+json": {
                            "model_id": "86d7d3b3ad3447cea89437c33c9719e4",
                            "version_major": 2,
                            "version_minor": 0
                        },
                        "text/plain": [
                            "    - Epochs:   0%|          | 0/20 [00:00<?, ?it/s]"
                        ]
                    },
                    "metadata": {},
                    "output_type": "display_data"
                },
                {
                    "name": "stdout",
                    "output_type": "stream",
                    "text": [
                        "    - Fold finished. Best validation loss: 0.009108 at epoch 2\n",
                        "INFO: DataLoader will use 8 parallel workers.\n"
                    ]
                },
                {
                    "data": {
                        "application/vnd.jupyter.widget-view+json": {
                            "model_id": "1488567b5d3843a1bd32a4439937473e",
                            "version_major": 2,
                            "version_minor": 0
                        },
                        "text/plain": [
                            "    - Epochs:   0%|          | 0/20 [00:00<?, ?it/s]"
                        ]
                    },
                    "metadata": {},
                    "output_type": "display_data"
                },
                {
                    "name": "stdout",
                    "output_type": "stream",
                    "text": [
                        "    - Fold finished. Best validation loss: 0.037829 at epoch 2\n",
                        "INFO: DataLoader will use 8 parallel workers.\n"
                    ]
                },
                {
                    "data": {
                        "application/vnd.jupyter.widget-view+json": {
                            "model_id": "81a11d73e62c4c69a03d0910881f4b50",
                            "version_major": 2,
                            "version_minor": 0
                        },
                        "text/plain": [
                            "    - Epochs:   0%|          | 0/20 [00:00<?, ?it/s]"
                        ]
                    },
                    "metadata": {},
                    "output_type": "display_data"
                },
                {
                    "name": "stdout",
                    "output_type": "stream",
                    "text": [
                        "    - Fold finished. Best validation loss: 0.056211 at epoch 1\n",
                        "INFO: DataLoader will use 8 parallel workers.\n"
                    ]
                },
                {
                    "data": {
                        "application/vnd.jupyter.widget-view+json": {
                            "model_id": "aa7ffeb6b99142998761bf38df61df90",
                            "version_major": 2,
                            "version_minor": 0
                        },
                        "text/plain": [
                            "    - Epochs:   0%|          | 0/20 [00:00<?, ?it/s]"
                        ]
                    },
                    "metadata": {},
                    "output_type": "display_data"
                },
                {
                    "name": "stdout",
                    "output_type": "stream",
                    "text": [
                        "    - Fold finished. Best validation loss: 0.073180 at epoch 16\n",
                        "INFO: DataLoader will use 8 parallel workers.\n"
                    ]
                },
                {
                    "data": {
                        "application/vnd.jupyter.widget-view+json": {
                            "model_id": "15192ef837304e2b9e3dc0e7a89249fc",
                            "version_major": 2,
                            "version_minor": 0
                        },
                        "text/plain": [
                            "    - Epochs:   0%|          | 0/20 [00:00<?, ?it/s]"
                        ]
                    },
                    "metadata": {},
                    "output_type": "display_data"
                },
                {
                    "name": "stdout",
                    "output_type": "stream",
                    "text": [
                        "    - Fold finished. Best validation loss: 0.016959 at epoch 1\n",
                        "INFO: DataLoader will use 8 parallel workers.\n"
                    ]
                },
                {
                    "data": {
                        "application/vnd.jupyter.widget-view+json": {
                            "model_id": "47619acfe0c44878974ac5aa2d38169a",
                            "version_major": 2,
                            "version_minor": 0
                        },
                        "text/plain": [
                            "    - Epochs:   0%|          | 0/20 [00:00<?, ?it/s]"
                        ]
                    },
                    "metadata": {},
                    "output_type": "display_data"
                },
                {
                    "name": "stdout",
                    "output_type": "stream",
                    "text": [
                        "    - Fold finished. Best validation loss: 0.007041 at epoch 1\n",
                        "INFO: DataLoader will use 8 parallel workers.\n"
                    ]
                },
                {
                    "data": {
                        "application/vnd.jupyter.widget-view+json": {
                            "model_id": "6b372a4fd3e04cf0b239e55ade166d30",
                            "version_major": 2,
                            "version_minor": 0
                        },
                        "text/plain": [
                            "    - Epochs:   0%|          | 0/20 [00:00<?, ?it/s]"
                        ]
                    },
                    "metadata": {},
                    "output_type": "display_data"
                },
                {
                    "name": "stdout",
                    "output_type": "stream",
                    "text": [
                        "    - Fold finished. Best validation loss: 0.007022 at epoch 1\n",
                        "INFO: DataLoader will use 8 parallel workers.\n"
                    ]
                },
                {
                    "data": {
                        "application/vnd.jupyter.widget-view+json": {
                            "model_id": "f9792b06a46f40a59edc2b5fb198c0bf",
                            "version_major": 2,
                            "version_minor": 0
                        },
                        "text/plain": [
                            "    - Epochs:   0%|          | 0/20 [00:00<?, ?it/s]"
                        ]
                    },
                    "metadata": {},
                    "output_type": "display_data"
                },
                {
                    "name": "stdout",
                    "output_type": "stream",
                    "text": [
                        "    - Fold finished. Best validation loss: 0.002892 at epoch 1\n",
                        "INFO: DataLoader will use 8 parallel workers.\n"
                    ]
                },
                {
                    "data": {
                        "application/vnd.jupyter.widget-view+json": {
                            "model_id": "ab88fb6319ee416eb77f70b5fbd64739",
                            "version_major": 2,
                            "version_minor": 0
                        },
                        "text/plain": [
                            "    - Epochs:   0%|          | 0/20 [00:00<?, ?it/s]"
                        ]
                    },
                    "metadata": {},
                    "output_type": "display_data"
                },
                {
                    "name": "stdout",
                    "output_type": "stream",
                    "text": [
                        "    - Fold finished. Best validation loss: 0.001664 at epoch 1\n",
                        "INFO: DataLoader will use 8 parallel workers.\n"
                    ]
                },
                {
                    "data": {
                        "application/vnd.jupyter.widget-view+json": {
                            "model_id": "5c1f5e3f142b4619943742df2a558150",
                            "version_major": 2,
                            "version_minor": 0
                        },
                        "text/plain": [
                            "    - Epochs:   0%|          | 0/20 [00:00<?, ?it/s]"
                        ]
                    },
                    "metadata": {},
                    "output_type": "display_data"
                },
                {
                    "name": "stdout",
                    "output_type": "stream",
                    "text": [
                        "    - Fold finished. Best validation loss: 0.000961 at epoch 5\n",
                        "INFO: DataLoader will use 8 parallel workers.\n"
                    ]
                },
                {
                    "data": {
                        "application/vnd.jupyter.widget-view+json": {
                            "model_id": "53eb6c9eb8534083a8403170dd57520f",
                            "version_major": 2,
                            "version_minor": 0
                        },
                        "text/plain": [
                            "    - Epochs:   0%|          | 0/20 [00:00<?, ?it/s]"
                        ]
                    },
                    "metadata": {},
                    "output_type": "display_data"
                },
                {
                    "name": "stdout",
                    "output_type": "stream",
                    "text": [
                        "    - Fold finished. Best validation loss: 0.024840 at epoch 1\n",
                        "INFO: DataLoader will use 8 parallel workers.\n"
                    ]
                },
                {
                    "data": {
                        "application/vnd.jupyter.widget-view+json": {
                            "model_id": "7ae18c809e4f4456a811962f935ae9c4",
                            "version_major": 2,
                            "version_minor": 0
                        },
                        "text/plain": [
                            "    - Epochs:   0%|          | 0/20 [00:00<?, ?it/s]"
                        ]
                    },
                    "metadata": {},
                    "output_type": "display_data"
                },
                {
                    "name": "stdout",
                    "output_type": "stream",
                    "text": [
                        "    - Fold finished. Best validation loss: 0.004194 at epoch 1\n",
                        "INFO: DataLoader will use 8 parallel workers.\n"
                    ]
                },
                {
                    "data": {
                        "application/vnd.jupyter.widget-view+json": {
                            "model_id": "ae57f5c8bf484a8d8057cfd5436fdaeb",
                            "version_major": 2,
                            "version_minor": 0
                        },
                        "text/plain": [
                            "    - Epochs:   0%|          | 0/20 [00:00<?, ?it/s]"
                        ]
                    },
                    "metadata": {},
                    "output_type": "display_data"
                },
                {
                    "name": "stdout",
                    "output_type": "stream",
                    "text": [
                        "    - Fold finished. Best validation loss: 0.006006 at epoch 12\n",
                        "INFO: DataLoader will use 8 parallel workers.\n"
                    ]
                },
                {
                    "data": {
                        "application/vnd.jupyter.widget-view+json": {
                            "model_id": "605799d2f8de4def9f95d1d744536c16",
                            "version_major": 2,
                            "version_minor": 0
                        },
                        "text/plain": [
                            "    - Epochs:   0%|          | 0/20 [00:00<?, ?it/s]"
                        ]
                    },
                    "metadata": {},
                    "output_type": "display_data"
                },
                {
                    "name": "stdout",
                    "output_type": "stream",
                    "text": [
                        "    - Fold finished. Best validation loss: 0.002555 at epoch 1\n",
                        "INFO: DataLoader will use 8 parallel workers.\n"
                    ]
                },
                {
                    "data": {
                        "application/vnd.jupyter.widget-view+json": {
                            "model_id": "3fdfd67112914c74b21e67c556523488",
                            "version_major": 2,
                            "version_minor": 0
                        },
                        "text/plain": [
                            "    - Epochs:   0%|          | 0/20 [00:00<?, ?it/s]"
                        ]
                    },
                    "metadata": {},
                    "output_type": "display_data"
                },
                {
                    "name": "stdout",
                    "output_type": "stream",
                    "text": [
                        "    - Fold finished. Best validation loss: 0.002458 at epoch 19\n",
                        "INFO: DataLoader will use 8 parallel workers.\n"
                    ]
                },
                {
                    "data": {
                        "application/vnd.jupyter.widget-view+json": {
                            "model_id": "cd1a2082ed6b41138f3fd1c4f8f91faf",
                            "version_major": 2,
                            "version_minor": 0
                        },
                        "text/plain": [
                            "    - Epochs:   0%|          | 0/20 [00:00<?, ?it/s]"
                        ]
                    },
                    "metadata": {},
                    "output_type": "display_data"
                },
                {
                    "name": "stdout",
                    "output_type": "stream",
                    "text": [
                        "    - Fold finished. Best validation loss: 0.066713 at epoch 1\n",
                        "INFO: DataLoader will use 8 parallel workers.\n"
                    ]
                },
                {
                    "data": {
                        "application/vnd.jupyter.widget-view+json": {
                            "model_id": "f83c300c60224a46903767b7afa43e86",
                            "version_major": 2,
                            "version_minor": 0
                        },
                        "text/plain": [
                            "    - Epochs:   0%|          | 0/20 [00:00<?, ?it/s]"
                        ]
                    },
                    "metadata": {},
                    "output_type": "display_data"
                },
                {
                    "name": "stdout",
                    "output_type": "stream",
                    "text": [
                        "    - Fold finished. Best validation loss: 0.021276 at epoch 1\n",
                        "INFO: DataLoader will use 8 parallel workers.\n"
                    ]
                },
                {
                    "data": {
                        "application/vnd.jupyter.widget-view+json": {
                            "model_id": "772d16b2d299471c95b139f4a0af099e",
                            "version_major": 2,
                            "version_minor": 0
                        },
                        "text/plain": [
                            "    - Epochs:   0%|          | 0/20 [00:00<?, ?it/s]"
                        ]
                    },
                    "metadata": {},
                    "output_type": "display_data"
                },
                {
                    "name": "stdout",
                    "output_type": "stream",
                    "text": [
                        "    - Fold finished. Best validation loss: 0.004103 at epoch 1\n",
                        "INFO: DataLoader will use 8 parallel workers.\n"
                    ]
                },
                {
                    "data": {
                        "application/vnd.jupyter.widget-view+json": {
                            "model_id": "79891510f45749c69d4a999625bcf3d5",
                            "version_major": 2,
                            "version_minor": 0
                        },
                        "text/plain": [
                            "    - Epochs:   0%|          | 0/20 [00:00<?, ?it/s]"
                        ]
                    },
                    "metadata": {},
                    "output_type": "display_data"
                },
                {
                    "name": "stdout",
                    "output_type": "stream",
                    "text": [
                        "    - Fold finished. Best validation loss: 0.013933 at epoch 13\n",
                        "INFO: DataLoader will use 8 parallel workers.\n"
                    ]
                },
                {
                    "data": {
                        "application/vnd.jupyter.widget-view+json": {
                            "model_id": "330686f74f374b1faa4ed26329810c78",
                            "version_major": 2,
                            "version_minor": 0
                        },
                        "text/plain": [
                            "    - Epochs:   0%|          | 0/20 [00:00<?, ?it/s]"
                        ]
                    },
                    "metadata": {},
                    "output_type": "display_data"
                },
                {
                    "name": "stdout",
                    "output_type": "stream",
                    "text": [
                        "    - Fold finished. Best validation loss: 0.065954 at epoch 2\n",
                        "INFO: DataLoader will use 8 parallel workers.\n"
                    ]
                },
                {
                    "data": {
                        "application/vnd.jupyter.widget-view+json": {
                            "model_id": "816ab0eaeb4247c0bdc06a4a4b1c2319",
                            "version_major": 2,
                            "version_minor": 0
                        },
                        "text/plain": [
                            "    - Epochs:   0%|          | 0/20 [00:00<?, ?it/s]"
                        ]
                    },
                    "metadata": {},
                    "output_type": "display_data"
                },
                {
                    "name": "stdout",
                    "output_type": "stream",
                    "text": [
                        "    - Fold finished. Best validation loss: 0.048510 at epoch 6\n",
                        "INFO: DataLoader will use 8 parallel workers.\n"
                    ]
                },
                {
                    "data": {
                        "application/vnd.jupyter.widget-view+json": {
                            "model_id": "07c98390e85d450d803113141f14d93b",
                            "version_major": 2,
                            "version_minor": 0
                        },
                        "text/plain": [
                            "    - Epochs:   0%|          | 0/20 [00:00<?, ?it/s]"
                        ]
                    },
                    "metadata": {},
                    "output_type": "display_data"
                },
                {
                    "name": "stdout",
                    "output_type": "stream",
                    "text": [
                        "    - Fold finished. Best validation loss: 0.014571 at epoch 1\n",
                        "INFO: DataLoader will use 8 parallel workers.\n"
                    ]
                },
                {
                    "data": {
                        "application/vnd.jupyter.widget-view+json": {
                            "model_id": "0d14ef3ea4064fa09aa5921db94ee16e",
                            "version_major": 2,
                            "version_minor": 0
                        },
                        "text/plain": [
                            "    - Epochs:   0%|          | 0/20 [00:00<?, ?it/s]"
                        ]
                    },
                    "metadata": {},
                    "output_type": "display_data"
                },
                {
                    "name": "stdout",
                    "output_type": "stream",
                    "text": [
                        "    - Fold finished. Best validation loss: 0.010291 at epoch 1\n",
                        "INFO: DataLoader will use 8 parallel workers.\n"
                    ]
                },
                {
                    "data": {
                        "application/vnd.jupyter.widget-view+json": {
                            "model_id": "51c7af5f721741dbbd48f91abdb93d42",
                            "version_major": 2,
                            "version_minor": 0
                        },
                        "text/plain": [
                            "    - Epochs:   0%|          | 0/20 [00:00<?, ?it/s]"
                        ]
                    },
                    "metadata": {},
                    "output_type": "display_data"
                },
                {
                    "name": "stdout",
                    "output_type": "stream",
                    "text": [
                        "    - Fold finished. Best validation loss: 0.035162 at epoch 1\n",
                        "INFO: DataLoader will use 8 parallel workers.\n"
                    ]
                },
                {
                    "data": {
                        "application/vnd.jupyter.widget-view+json": {
                            "model_id": "23944cee52ae48d5900bc6b2fe7e7997",
                            "version_major": 2,
                            "version_minor": 0
                        },
                        "text/plain": [
                            "    - Epochs:   0%|          | 0/20 [00:00<?, ?it/s]"
                        ]
                    },
                    "metadata": {},
                    "output_type": "display_data"
                },
                {
                    "name": "stdout",
                    "output_type": "stream",
                    "text": [
                        "    - Fold finished. Best validation loss: 0.030537 at epoch 1\n",
                        "INFO: DataLoader will use 8 parallel workers.\n"
                    ]
                },
                {
                    "data": {
                        "application/vnd.jupyter.widget-view+json": {
                            "model_id": "f0800e746c004875a94204759322591e",
                            "version_major": 2,
                            "version_minor": 0
                        },
                        "text/plain": [
                            "    - Epochs:   0%|          | 0/20 [00:00<?, ?it/s]"
                        ]
                    },
                    "metadata": {},
                    "output_type": "display_data"
                },
                {
                    "name": "stdout",
                    "output_type": "stream",
                    "text": [
                        "    - Fold finished. Best validation loss: 0.004113 at epoch 6\n",
                        "INFO: DataLoader will use 8 parallel workers.\n"
                    ]
                },
                {
                    "data": {
                        "application/vnd.jupyter.widget-view+json": {
                            "model_id": "ba8c3a2ea7094e69b307534094149052",
                            "version_major": 2,
                            "version_minor": 0
                        },
                        "text/plain": [
                            "    - Epochs:   0%|          | 0/20 [00:00<?, ?it/s]"
                        ]
                    },
                    "metadata": {},
                    "output_type": "display_data"
                },
                {
                    "name": "stdout",
                    "output_type": "stream",
                    "text": [
                        "    - Fold finished. Best validation loss: 0.005143 at epoch 4\n",
                        "INFO: DataLoader will use 8 parallel workers.\n"
                    ]
                },
                {
                    "data": {
                        "application/vnd.jupyter.widget-view+json": {
                            "model_id": "48710419e8e74f6483d2ee4a8b57279c",
                            "version_major": 2,
                            "version_minor": 0
                        },
                        "text/plain": [
                            "    - Epochs:   0%|          | 0/20 [00:00<?, ?it/s]"
                        ]
                    },
                    "metadata": {},
                    "output_type": "display_data"
                },
                {
                    "name": "stdout",
                    "output_type": "stream",
                    "text": [
                        "    - Fold finished. Best validation loss: 0.006299 at epoch 7\n",
                        "INFO: DataLoader will use 8 parallel workers.\n"
                    ]
                },
                {
                    "data": {
                        "application/vnd.jupyter.widget-view+json": {
                            "model_id": "de297b683b3d454eb210ac35f5b39d0b",
                            "version_major": 2,
                            "version_minor": 0
                        },
                        "text/plain": [
                            "    - Epochs:   0%|          | 0/20 [00:00<?, ?it/s]"
                        ]
                    },
                    "metadata": {},
                    "output_type": "display_data"
                },
                {
                    "name": "stdout",
                    "output_type": "stream",
                    "text": [
                        "    - Fold finished. Best validation loss: 0.008352 at epoch 6\n",
                        "INFO: DataLoader will use 8 parallel workers.\n"
                    ]
                },
                {
                    "data": {
                        "application/vnd.jupyter.widget-view+json": {
                            "model_id": "c8a0d806e92443d38033abecd6e86919",
                            "version_major": 2,
                            "version_minor": 0
                        },
                        "text/plain": [
                            "    - Epochs:   0%|          | 0/20 [00:00<?, ?it/s]"
                        ]
                    },
                    "metadata": {},
                    "output_type": "display_data"
                },
                {
                    "name": "stdout",
                    "output_type": "stream",
                    "text": [
                        "    - Fold finished. Best validation loss: 0.006316 at epoch 1\n",
                        "INFO: DataLoader will use 8 parallel workers.\n"
                    ]
                },
                {
                    "data": {
                        "application/vnd.jupyter.widget-view+json": {
                            "model_id": "c4383e7ce97042b4bad8d05c1d391333",
                            "version_major": 2,
                            "version_minor": 0
                        },
                        "text/plain": [
                            "    - Epochs:   0%|          | 0/20 [00:00<?, ?it/s]"
                        ]
                    },
                    "metadata": {},
                    "output_type": "display_data"
                },
                {
                    "name": "stdout",
                    "output_type": "stream",
                    "text": [
                        "    - Fold finished. Best validation loss: 0.016338 at epoch 1\n",
                        "INFO: DataLoader will use 8 parallel workers.\n"
                    ]
                },
                {
                    "data": {
                        "application/vnd.jupyter.widget-view+json": {
                            "model_id": "dc39fc5d23b14c81a86e72a587218dc2",
                            "version_major": 2,
                            "version_minor": 0
                        },
                        "text/plain": [
                            "    - Epochs:   0%|          | 0/20 [00:00<?, ?it/s]"
                        ]
                    },
                    "metadata": {},
                    "output_type": "display_data"
                },
                {
                    "name": "stdout",
                    "output_type": "stream",
                    "text": [
                        "    - Fold finished. Best validation loss: 0.003394 at epoch 19\n",
                        "INFO: DataLoader will use 8 parallel workers.\n"
                    ]
                },
                {
                    "data": {
                        "application/vnd.jupyter.widget-view+json": {
                            "model_id": "bf4a200d671e4f76913c69dd7d2b1b1e",
                            "version_major": 2,
                            "version_minor": 0
                        },
                        "text/plain": [
                            "    - Epochs:   0%|          | 0/20 [00:00<?, ?it/s]"
                        ]
                    },
                    "metadata": {},
                    "output_type": "display_data"
                },
                {
                    "name": "stdout",
                    "output_type": "stream",
                    "text": [
                        "    - Fold finished. Best validation loss: 0.005735 at epoch 1\n",
                        "INFO: DataLoader will use 8 parallel workers.\n"
                    ]
                },
                {
                    "data": {
                        "application/vnd.jupyter.widget-view+json": {
                            "model_id": "1972f1c2d8c44744bcfb9d2080e01b3d",
                            "version_major": 2,
                            "version_minor": 0
                        },
                        "text/plain": [
                            "    - Epochs:   0%|          | 0/20 [00:00<?, ?it/s]"
                        ]
                    },
                    "metadata": {},
                    "output_type": "display_data"
                },
                {
                    "name": "stdout",
                    "output_type": "stream",
                    "text": [
                        "    - Fold finished. Best validation loss: 0.010862 at epoch 1\n",
                        "INFO: DataLoader will use 8 parallel workers.\n"
                    ]
                },
                {
                    "data": {
                        "application/vnd.jupyter.widget-view+json": {
                            "model_id": "12b3f91f26184de9958f50b954e79abe",
                            "version_major": 2,
                            "version_minor": 0
                        },
                        "text/plain": [
                            "    - Epochs:   0%|          | 0/20 [00:00<?, ?it/s]"
                        ]
                    },
                    "metadata": {},
                    "output_type": "display_data"
                },
                {
                    "name": "stdout",
                    "output_type": "stream",
                    "text": [
                        "    - Fold finished. Best validation loss: 0.004013 at epoch 1\n",
                        "INFO: DataLoader will use 8 parallel workers.\n"
                    ]
                },
                {
                    "data": {
                        "application/vnd.jupyter.widget-view+json": {
                            "model_id": "7d47368d68fa4579b93a8de08102d553",
                            "version_major": 2,
                            "version_minor": 0
                        },
                        "text/plain": [
                            "    - Epochs:   0%|          | 0/20 [00:00<?, ?it/s]"
                        ]
                    },
                    "metadata": {},
                    "output_type": "display_data"
                },
                {
                    "name": "stdout",
                    "output_type": "stream",
                    "text": [
                        "    - Fold finished. Best validation loss: 0.003299 at epoch 1\n",
                        "INFO: DataLoader will use 8 parallel workers.\n"
                    ]
                },
                {
                    "data": {
                        "application/vnd.jupyter.widget-view+json": {
                            "model_id": "a48be5f187ce4cdb8239fa45a355246e",
                            "version_major": 2,
                            "version_minor": 0
                        },
                        "text/plain": [
                            "    - Epochs:   0%|          | 0/20 [00:00<?, ?it/s]"
                        ]
                    },
                    "metadata": {},
                    "output_type": "display_data"
                },
                {
                    "name": "stdout",
                    "output_type": "stream",
                    "text": [
                        "    - Fold finished. Best validation loss: 0.006314 at epoch 7\n",
                        "INFO: DataLoader will use 8 parallel workers.\n"
                    ]
                },
                {
                    "data": {
                        "application/vnd.jupyter.widget-view+json": {
                            "model_id": "cfef5f4365bb4c3f9298cd72580a2c16",
                            "version_major": 2,
                            "version_minor": 0
                        },
                        "text/plain": [
                            "    - Epochs:   0%|          | 0/20 [00:00<?, ?it/s]"
                        ]
                    },
                    "metadata": {},
                    "output_type": "display_data"
                },
                {
                    "name": "stdout",
                    "output_type": "stream",
                    "text": [
                        "    - Fold finished. Best validation loss: 0.007296 at epoch 1\n",
                        "INFO: DataLoader will use 8 parallel workers.\n"
                    ]
                },
                {
                    "data": {
                        "application/vnd.jupyter.widget-view+json": {
                            "model_id": "ae8ba3f5851943a797d37b6bde973580",
                            "version_major": 2,
                            "version_minor": 0
                        },
                        "text/plain": [
                            "    - Epochs:   0%|          | 0/20 [00:00<?, ?it/s]"
                        ]
                    },
                    "metadata": {},
                    "output_type": "display_data"
                },
                {
                    "name": "stdout",
                    "output_type": "stream",
                    "text": [
                        "    - Fold finished. Best validation loss: 0.025478 at epoch 2\n",
                        "INFO: DataLoader will use 8 parallel workers.\n"
                    ]
                },
                {
                    "data": {
                        "application/vnd.jupyter.widget-view+json": {
                            "model_id": "391b401f6be9473c8737f32a9c3f4f1a",
                            "version_major": 2,
                            "version_minor": 0
                        },
                        "text/plain": [
                            "    - Epochs:   0%|          | 0/20 [00:00<?, ?it/s]"
                        ]
                    },
                    "metadata": {},
                    "output_type": "display_data"
                },
                {
                    "name": "stdout",
                    "output_type": "stream",
                    "text": [
                        "    - Fold finished. Best validation loss: 0.002083 at epoch 5\n",
                        "INFO: DataLoader will use 8 parallel workers.\n"
                    ]
                },
                {
                    "data": {
                        "application/vnd.jupyter.widget-view+json": {
                            "model_id": "adb3a2b46b594bd6908ad07f9f806528",
                            "version_major": 2,
                            "version_minor": 0
                        },
                        "text/plain": [
                            "    - Epochs:   0%|          | 0/20 [00:00<?, ?it/s]"
                        ]
                    },
                    "metadata": {},
                    "output_type": "display_data"
                },
                {
                    "name": "stdout",
                    "output_type": "stream",
                    "text": [
                        "    - Fold finished. Best validation loss: 0.004513 at epoch 3\n",
                        "INFO: DataLoader will use 8 parallel workers.\n"
                    ]
                },
                {
                    "data": {
                        "application/vnd.jupyter.widget-view+json": {
                            "model_id": "83b4dd1c543f43e3b0e35b9c06f860e4",
                            "version_major": 2,
                            "version_minor": 0
                        },
                        "text/plain": [
                            "    - Epochs:   0%|          | 0/20 [00:00<?, ?it/s]"
                        ]
                    },
                    "metadata": {},
                    "output_type": "display_data"
                },
                {
                    "name": "stdout",
                    "output_type": "stream",
                    "text": [
                        "    - Fold finished. Best validation loss: 0.001631 at epoch 1\n",
                        "SUCCESS: Out-of-Fold predictions saved to models\\000100.SZ\\lstm_oof_preds.csv\n",
                        "INFO: Training final model for TCL科技 (000100.SZ) on all data...\n"
                    ]
                },
                {
                    "data": {
                        "application/vnd.jupyter.widget-view+json": {
                            "model_id": "cd93af2870024cde9fcd018ad883f0ed",
                            "version_major": 2,
                            "version_minor": 0
                        },
                        "text/plain": [
                            "    - Final Model Epochs:   0%|          | 0/10 [00:00<?, ?it/s]"
                        ]
                    },
                    "metadata": {},
                    "output_type": "display_data"
                },
                {
                    "name": "stdout",
                    "output_type": "stream",
                    "text": [
                        "\n",
                        "================================================================================\n",
                        "--- Starting LGBM training for 兴业矿业 (000426.SZ) ---\n",
                        "INFO: Starting Walk-Forward validation for 兴业矿业 across 46 folds...\n"
                    ]
                },
                {
                    "data": {
                        "application/vnd.jupyter.widget-view+json": {
                            "model_id": "a8d7f106572f4b8987cb63ca4fe01d68",
                            "version_major": 2,
                            "version_minor": 0
                        },
                        "text/plain": [
                            "Training LGBM on 兴业矿业:   0%|          | 0/46 [00:00<?, ?it/s]"
                        ]
                    },
                    "metadata": {},
                    "output_type": "display_data"
                },
                {
                    "name": "stdout",
                    "output_type": "stream",
                    "text": [
                        "    - Quantile 0.05: Finished. Best iter: [2]\n",
                        "    - Quantile 0.5: Finished. Best iter: [32]\n",
                        "    - Quantile 0.95: Finished. Best iter: [42]\n",
                        "    - Quantile 0.05: Finished. Best iter: [1]\n",
                        "    - Quantile 0.5: Finished. Best iter: [1]\n",
                        "    - Quantile 0.95: Finished. Best iter: [1]\n",
                        "    - Quantile 0.05: Finished. Best iter: [18869]\n",
                        "    - Quantile 0.5: Finished. Best iter: [19648]\n",
                        "    - Quantile 0.95: Finished. Best iter: [19705]\n",
                        "    - Quantile 0.05: Finished. Best iter: [43]\n",
                        "    - Quantile 0.5: Finished. Best iter: [18]\n",
                        "    - Quantile 0.95: Finished. Best iter: [5]\n",
                        "    - Quantile 0.05: Finished. Best iter: [116]\n",
                        "    - Quantile 0.5: Finished. Best iter: [153]\n",
                        "    - Quantile 0.95: Finished. Best iter: [153]\n",
                        "    - Quantile 0.05: Finished. Best iter: [18]\n",
                        "    - Quantile 0.5: Finished. Best iter: [45]\n",
                        "    - Quantile 0.95: Finished. Best iter: [45]\n",
                        "    - Quantile 0.05: Finished. Best iter: [21]\n",
                        "    - Quantile 0.5: Finished. Best iter: [117]\n",
                        "    - Quantile 0.95: Finished. Best iter: [132]\n",
                        "    - Quantile 0.05: Finished. Best iter: [1]\n",
                        "    - Quantile 0.5: Finished. Best iter: [1]\n",
                        "    - Quantile 0.95: Finished. Best iter: [1]\n",
                        "    - Quantile 0.05: Finished. Best iter: [17730]\n",
                        "    - Quantile 0.5: Finished. Best iter: [5]\n",
                        "    - Quantile 0.95: Finished. Best iter: [1]\n",
                        "    - Quantile 0.05: Finished. Best iter: [18]\n",
                        "    - Quantile 0.5: Finished. Best iter: [1]\n",
                        "    - Quantile 0.95: Finished. Best iter: [1]\n",
                        "    - Quantile 0.05: Finished. Best iter: [1]\n",
                        "    - Quantile 0.5: Finished. Best iter: [1]\n",
                        "    - Quantile 0.95: Finished. Best iter: [1]\n",
                        "    - Quantile 0.05: Finished. Best iter: [19921]\n",
                        "    - Quantile 0.5: Finished. Best iter: [19921]\n",
                        "    - Quantile 0.95: Finished. Best iter: [1]\n",
                        "    - Quantile 0.05: Finished. Best iter: [36]\n",
                        "    - Quantile 0.5: Finished. Best iter: [32]\n",
                        "    - Quantile 0.95: Finished. Best iter: [25]\n",
                        "    - Quantile 0.05: Finished. Best iter: [119]\n",
                        "    - Quantile 0.5: Finished. Best iter: [357]\n",
                        "    - Quantile 0.95: Finished. Best iter: [421]\n",
                        "    - Quantile 0.05: Finished. Best iter: [1]\n",
                        "    - Quantile 0.5: Finished. Best iter: [1]\n",
                        "    - Quantile 0.95: Finished. Best iter: [1]\n",
                        "    - Quantile 0.05: Finished. Best iter: [1]\n",
                        "    - Quantile 0.5: Finished. Best iter: [1]\n",
                        "    - Quantile 0.95: Finished. Best iter: [1]\n",
                        "    - Quantile 0.05: Finished. Best iter: [14740]\n",
                        "    - Quantile 0.5: Finished. Best iter: [4798]\n",
                        "    - Quantile 0.95: Finished. Best iter: [2]\n",
                        "    - Quantile 0.05: Finished. Best iter: [1]\n",
                        "    - Quantile 0.5: Finished. Best iter: [1]\n",
                        "    - Quantile 0.95: Finished. Best iter: [1]\n",
                        "    - Quantile 0.05: Finished. Best iter: [1]\n",
                        "    - Quantile 0.5: Finished. Best iter: [1]\n",
                        "    - Quantile 0.95: Finished. Best iter: [1]\n",
                        "    - Quantile 0.05: Finished. Best iter: [1]\n",
                        "    - Quantile 0.5: Finished. Best iter: [1]\n",
                        "    - Quantile 0.95: Finished. Best iter: [1]\n",
                        "    - Quantile 0.05: Finished. Best iter: [1]\n",
                        "    - Quantile 0.5: Finished. Best iter: [1]\n",
                        "    - Quantile 0.95: Finished. Best iter: [1]\n"
                    ]
                },
                {
                    "name": "stderr",
                    "output_type": "stream",
                    "text": [
                        "d:\\Project\\Command\\Python\\Neural\\Wolf_of_Wall_Street\\.venv\\Lib\\site-packages\\pandas\\core\\nanops.py:1632: ConstantInputWarning: An input array is constant; the correlation coefficient is not defined.\n",
                        "  return spearmanr(a, b)[0]\n"
                    ]
                },
                {
                    "name": "stdout",
                    "output_type": "stream",
                    "text": [
                        "    - Quantile 0.05: Finished. Best iter: [2]\n",
                        "    - Quantile 0.5: Finished. Best iter: [9]\n",
                        "    - Quantile 0.95: Finished. Best iter: [28]\n",
                        "    - Quantile 0.05: Finished. Best iter: [15]\n",
                        "    - Quantile 0.5: Finished. Best iter: [18]\n",
                        "    - Quantile 0.95: Finished. Best iter: [18]\n",
                        "    - Quantile 0.05: Finished. Best iter: [35]\n",
                        "    - Quantile 0.5: Finished. Best iter: [35]\n",
                        "    - Quantile 0.95: Finished. Best iter: [33]\n",
                        "    - Quantile 0.05: Finished. Best iter: [13]\n",
                        "    - Quantile 0.5: Finished. Best iter: [13]\n",
                        "    - Quantile 0.95: Finished. Best iter: [12]\n",
                        "    - Quantile 0.05: Finished. Best iter: [303]\n",
                        "    - Quantile 0.5: Finished. Best iter: [1]\n",
                        "    - Quantile 0.95: Finished. Best iter: [1]\n",
                        "    - Quantile 0.05: Finished. Best iter: [12883]\n",
                        "    - Quantile 0.5: Finished. Best iter: [469]\n",
                        "    - Quantile 0.95: Finished. Best iter: [1]\n",
                        "    - Quantile 0.05: Finished. Best iter: [37]\n",
                        "    - Quantile 0.5: Finished. Best iter: [33]\n",
                        "    - Quantile 0.95: Finished. Best iter: [3]\n",
                        "    - Quantile 0.05: Finished. Best iter: [336]\n",
                        "    - Quantile 0.5: Finished. Best iter: [1160]\n",
                        "    - Quantile 0.95: Finished. Best iter: [1]\n",
                        "    - Quantile 0.05: Finished. Best iter: [8]\n",
                        "    - Quantile 0.5: Finished. Best iter: [7]\n",
                        "    - Quantile 0.95: Finished. Best iter: [19]\n",
                        "    - Quantile 0.05: Finished. Best iter: [233]\n",
                        "    - Quantile 0.5: Finished. Best iter: [225]\n",
                        "    - Quantile 0.95: Finished. Best iter: [1]\n",
                        "    - Quantile 0.05: Finished. Best iter: [1]\n",
                        "    - Quantile 0.5: Finished. Best iter: [269]\n",
                        "    - Quantile 0.95: Finished. Best iter: [934]\n",
                        "    - Quantile 0.05: Finished. Best iter: [2486]\n",
                        "    - Quantile 0.5: Finished. Best iter: [11981]\n",
                        "    - Quantile 0.95: Finished. Best iter: [4]\n",
                        "    - Quantile 0.05: Finished. Best iter: [14]\n",
                        "    - Quantile 0.5: Finished. Best iter: [14]\n",
                        "    - Quantile 0.95: Finished. Best iter: [14]\n",
                        "    - Quantile 0.05: Finished. Best iter: [29]\n",
                        "    - Quantile 0.5: Finished. Best iter: [29]\n",
                        "    - Quantile 0.95: Finished. Best iter: [29]\n",
                        "    - Quantile 0.05: Finished. Best iter: [1]\n",
                        "    - Quantile 0.5: Finished. Best iter: [1]\n",
                        "    - Quantile 0.95: Finished. Best iter: [1]\n"
                    ]
                },
                {
                    "name": "stderr",
                    "output_type": "stream",
                    "text": [
                        "d:\\Project\\Command\\Python\\Neural\\Wolf_of_Wall_Street\\.venv\\Lib\\site-packages\\pandas\\core\\nanops.py:1632: ConstantInputWarning: An input array is constant; the correlation coefficient is not defined.\n",
                        "  return spearmanr(a, b)[0]\n"
                    ]
                },
                {
                    "name": "stdout",
                    "output_type": "stream",
                    "text": [
                        "    - Quantile 0.05: Finished. Best iter: [4]\n",
                        "    - Quantile 0.5: Finished. Best iter: [4]\n",
                        "    - Quantile 0.95: Finished. Best iter: [1]\n",
                        "    - Quantile 0.05: Finished. Best iter: [1]\n",
                        "    - Quantile 0.5: Finished. Best iter: [1]\n",
                        "    - Quantile 0.95: Finished. Best iter: [1]\n",
                        "    - Quantile 0.05: Finished. Best iter: [116]\n",
                        "    - Quantile 0.5: Finished. Best iter: [75]\n",
                        "    - Quantile 0.95: Finished. Best iter: [31]\n",
                        "    - Quantile 0.05: Finished. Best iter: [30]\n",
                        "    - Quantile 0.5: Finished. Best iter: [30]\n",
                        "    - Quantile 0.95: Finished. Best iter: [3]\n",
                        "    - Quantile 0.05: Finished. Best iter: [1]\n",
                        "    - Quantile 0.5: Finished. Best iter: [1]\n",
                        "    - Quantile 0.95: Finished. Best iter: [1]\n",
                        "    - Quantile 0.05: Finished. Best iter: [1]\n",
                        "    - Quantile 0.5: Finished. Best iter: [1]\n",
                        "    - Quantile 0.95: Finished. Best iter: [1]\n"
                    ]
                },
                {
                    "name": "stderr",
                    "output_type": "stream",
                    "text": [
                        "d:\\Project\\Command\\Python\\Neural\\Wolf_of_Wall_Street\\.venv\\Lib\\site-packages\\pandas\\core\\nanops.py:1632: ConstantInputWarning: An input array is constant; the correlation coefficient is not defined.\n",
                        "  return spearmanr(a, b)[0]\n"
                    ]
                },
                {
                    "name": "stdout",
                    "output_type": "stream",
                    "text": [
                        "    - Quantile 0.05: Finished. Best iter: [4]\n",
                        "    - Quantile 0.5: Finished. Best iter: [4]\n",
                        "    - Quantile 0.95: Finished. Best iter: [2]\n",
                        "    - Quantile 0.05: Finished. Best iter: [272]\n",
                        "    - Quantile 0.5: Finished. Best iter: [229]\n",
                        "    - Quantile 0.95: Finished. Best iter: [3]\n",
                        "    - Quantile 0.05: Finished. Best iter: [5]\n",
                        "    - Quantile 0.5: Finished. Best iter: [12276]\n",
                        "    - Quantile 0.95: Finished. Best iter: [866]\n",
                        "    - Quantile 0.05: Finished. Best iter: [6]\n",
                        "    - Quantile 0.5: Finished. Best iter: [6]\n",
                        "    - Quantile 0.95: Finished. Best iter: [6]\n",
                        "SUCCESS: Out-of-Fold predictions saved to models\\000426.SZ\\lgbm_oof_preds.csv\n",
                        "INFO: Training final model for 兴业矿业 (000426.SZ) on all data...\n",
                        "\n",
                        "================================================================================\n",
                        "--- Starting LSTM training for 兴业矿业 (000426.SZ) ---\n",
                        "INFO: PyTorch LSTMBuilder will use device: CUDA\n",
                        "INFO: Starting Walk-Forward validation for 兴业矿业 across 46 folds...\n"
                    ]
                },
                {
                    "data": {
                        "application/vnd.jupyter.widget-view+json": {
                            "model_id": "0f1cf4519c344378aca2417c4ad96c72",
                            "version_major": 2,
                            "version_minor": 0
                        },
                        "text/plain": [
                            "Training LSTM on 兴业矿业:   0%|          | 0/46 [00:00<?, ?it/s]"
                        ]
                    },
                    "metadata": {},
                    "output_type": "display_data"
                },
                {
                    "name": "stdout",
                    "output_type": "stream",
                    "text": [
                        "INFO: DataLoader will use 8 parallel workers.\n"
                    ]
                },
                {
                    "data": {
                        "application/vnd.jupyter.widget-view+json": {
                            "model_id": "8f3df463917e4b2fbe77680e458a3bce",
                            "version_major": 2,
                            "version_minor": 0
                        },
                        "text/plain": [
                            "    - Epochs:   0%|          | 0/20 [00:00<?, ?it/s]"
                        ]
                    },
                    "metadata": {},
                    "output_type": "display_data"
                },
                {
                    "name": "stdout",
                    "output_type": "stream",
                    "text": [
                        "    - Fold finished. Best validation loss: 0.007266 at epoch 20\n",
                        "INFO: DataLoader will use 8 parallel workers.\n"
                    ]
                },
                {
                    "data": {
                        "application/vnd.jupyter.widget-view+json": {
                            "model_id": "62717ac99c154233bd68c6de454351a6",
                            "version_major": 2,
                            "version_minor": 0
                        },
                        "text/plain": [
                            "    - Epochs:   0%|          | 0/20 [00:00<?, ?it/s]"
                        ]
                    },
                    "metadata": {},
                    "output_type": "display_data"
                },
                {
                    "name": "stdout",
                    "output_type": "stream",
                    "text": [
                        "    - Fold finished. Best validation loss: 0.007395 at epoch 1\n",
                        "INFO: DataLoader will use 8 parallel workers.\n"
                    ]
                },
                {
                    "data": {
                        "application/vnd.jupyter.widget-view+json": {
                            "model_id": "a55a5f8533664276a41703e98dd79c54",
                            "version_major": 2,
                            "version_minor": 0
                        },
                        "text/plain": [
                            "    - Epochs:   0%|          | 0/20 [00:00<?, ?it/s]"
                        ]
                    },
                    "metadata": {},
                    "output_type": "display_data"
                },
                {
                    "name": "stdout",
                    "output_type": "stream",
                    "text": [
                        "    - Fold finished. Best validation loss: 0.009265 at epoch 9\n",
                        "INFO: DataLoader will use 8 parallel workers.\n"
                    ]
                },
                {
                    "data": {
                        "application/vnd.jupyter.widget-view+json": {
                            "model_id": "f7eb5d5dfd6145ef8ffa9c49dadf7236",
                            "version_major": 2,
                            "version_minor": 0
                        },
                        "text/plain": [
                            "    - Epochs:   0%|          | 0/20 [00:00<?, ?it/s]"
                        ]
                    },
                    "metadata": {},
                    "output_type": "display_data"
                },
                {
                    "name": "stdout",
                    "output_type": "stream",
                    "text": [
                        "    - Fold finished. Best validation loss: 0.001968 at epoch 2\n",
                        "INFO: DataLoader will use 8 parallel workers.\n"
                    ]
                },
                {
                    "data": {
                        "application/vnd.jupyter.widget-view+json": {
                            "model_id": "53351c69330c4615a1c6a1a82101fffd",
                            "version_major": 2,
                            "version_minor": 0
                        },
                        "text/plain": [
                            "    - Epochs:   0%|          | 0/20 [00:00<?, ?it/s]"
                        ]
                    },
                    "metadata": {},
                    "output_type": "display_data"
                },
                {
                    "name": "stdout",
                    "output_type": "stream",
                    "text": [
                        "    - Fold finished. Best validation loss: 0.004691 at epoch 2\n",
                        "INFO: DataLoader will use 8 parallel workers.\n"
                    ]
                },
                {
                    "data": {
                        "application/vnd.jupyter.widget-view+json": {
                            "model_id": "1361dd30824b4eb39ec244cc37a93879",
                            "version_major": 2,
                            "version_minor": 0
                        },
                        "text/plain": [
                            "    - Epochs:   0%|          | 0/20 [00:00<?, ?it/s]"
                        ]
                    },
                    "metadata": {},
                    "output_type": "display_data"
                },
                {
                    "name": "stdout",
                    "output_type": "stream",
                    "text": [
                        "    - Fold finished. Best validation loss: 0.042581 at epoch 1\n",
                        "INFO: DataLoader will use 8 parallel workers.\n"
                    ]
                },
                {
                    "data": {
                        "application/vnd.jupyter.widget-view+json": {
                            "model_id": "de54205122c243febb07e1860c685bd7",
                            "version_major": 2,
                            "version_minor": 0
                        },
                        "text/plain": [
                            "    - Epochs:   0%|          | 0/20 [00:00<?, ?it/s]"
                        ]
                    },
                    "metadata": {},
                    "output_type": "display_data"
                },
                {
                    "name": "stdout",
                    "output_type": "stream",
                    "text": [
                        "    - Fold finished. Best validation loss: 0.007987 at epoch 11\n",
                        "INFO: DataLoader will use 8 parallel workers.\n"
                    ]
                },
                {
                    "data": {
                        "application/vnd.jupyter.widget-view+json": {
                            "model_id": "1227b06fc32f46c4b9c2ac1152dc9270",
                            "version_major": 2,
                            "version_minor": 0
                        },
                        "text/plain": [
                            "    - Epochs:   0%|          | 0/20 [00:00<?, ?it/s]"
                        ]
                    },
                    "metadata": {},
                    "output_type": "display_data"
                },
                {
                    "name": "stdout",
                    "output_type": "stream",
                    "text": [
                        "    - Fold finished. Best validation loss: 0.007299 at epoch 1\n",
                        "INFO: DataLoader will use 8 parallel workers.\n"
                    ]
                },
                {
                    "data": {
                        "application/vnd.jupyter.widget-view+json": {
                            "model_id": "997b1db8ba1b4187bca2d3d1681d83e8",
                            "version_major": 2,
                            "version_minor": 0
                        },
                        "text/plain": [
                            "    - Epochs:   0%|          | 0/20 [00:00<?, ?it/s]"
                        ]
                    },
                    "metadata": {},
                    "output_type": "display_data"
                },
                {
                    "name": "stdout",
                    "output_type": "stream",
                    "text": [
                        "    - Fold finished. Best validation loss: 0.067910 at epoch 2\n",
                        "INFO: DataLoader will use 8 parallel workers.\n"
                    ]
                },
                {
                    "data": {
                        "application/vnd.jupyter.widget-view+json": {
                            "model_id": "67f8a126cdd94b2ebcebe6d4d33df875",
                            "version_major": 2,
                            "version_minor": 0
                        },
                        "text/plain": [
                            "    - Epochs:   0%|          | 0/20 [00:00<?, ?it/s]"
                        ]
                    },
                    "metadata": {},
                    "output_type": "display_data"
                },
                {
                    "name": "stdout",
                    "output_type": "stream",
                    "text": [
                        "    - Fold finished. Best validation loss: 0.024214 at epoch 3\n",
                        "INFO: DataLoader will use 8 parallel workers.\n"
                    ]
                },
                {
                    "data": {
                        "application/vnd.jupyter.widget-view+json": {
                            "model_id": "69cc1a3110f24ddc9d0bd42ee1de0f8b",
                            "version_major": 2,
                            "version_minor": 0
                        },
                        "text/plain": [
                            "    - Epochs:   0%|          | 0/20 [00:00<?, ?it/s]"
                        ]
                    },
                    "metadata": {},
                    "output_type": "display_data"
                },
                {
                    "name": "stdout",
                    "output_type": "stream",
                    "text": [
                        "    - Fold finished. Best validation loss: 0.050440 at epoch 13\n",
                        "INFO: DataLoader will use 8 parallel workers.\n"
                    ]
                },
                {
                    "data": {
                        "application/vnd.jupyter.widget-view+json": {
                            "model_id": "be01fec9197d41a09bb845d3643ac19b",
                            "version_major": 2,
                            "version_minor": 0
                        },
                        "text/plain": [
                            "    - Epochs:   0%|          | 0/20 [00:00<?, ?it/s]"
                        ]
                    },
                    "metadata": {},
                    "output_type": "display_data"
                },
                {
                    "name": "stdout",
                    "output_type": "stream",
                    "text": [
                        "    - Fold finished. Best validation loss: 0.011663 at epoch 1\n",
                        "INFO: DataLoader will use 8 parallel workers.\n"
                    ]
                },
                {
                    "data": {
                        "application/vnd.jupyter.widget-view+json": {
                            "model_id": "d054300bb02c4bb1acb79d3fe1c28e6f",
                            "version_major": 2,
                            "version_minor": 0
                        },
                        "text/plain": [
                            "    - Epochs:   0%|          | 0/20 [00:00<?, ?it/s]"
                        ]
                    },
                    "metadata": {},
                    "output_type": "display_data"
                },
                {
                    "name": "stdout",
                    "output_type": "stream",
                    "text": [
                        "    - Fold finished. Best validation loss: 0.002512 at epoch 1\n",
                        "INFO: DataLoader will use 8 parallel workers.\n"
                    ]
                },
                {
                    "data": {
                        "application/vnd.jupyter.widget-view+json": {
                            "model_id": "fcf3d97f99a34c83a1ad096c9574607c",
                            "version_major": 2,
                            "version_minor": 0
                        },
                        "text/plain": [
                            "    - Epochs:   0%|          | 0/20 [00:00<?, ?it/s]"
                        ]
                    },
                    "metadata": {},
                    "output_type": "display_data"
                },
                {
                    "name": "stdout",
                    "output_type": "stream",
                    "text": [
                        "    - Fold finished. Best validation loss: 0.003752 at epoch 12\n",
                        "INFO: DataLoader will use 8 parallel workers.\n"
                    ]
                },
                {
                    "data": {
                        "application/vnd.jupyter.widget-view+json": {
                            "model_id": "0c15301cb4854916af1aa66866617a59",
                            "version_major": 2,
                            "version_minor": 0
                        },
                        "text/plain": [
                            "    - Epochs:   0%|          | 0/20 [00:00<?, ?it/s]"
                        ]
                    },
                    "metadata": {},
                    "output_type": "display_data"
                },
                {
                    "name": "stdout",
                    "output_type": "stream",
                    "text": [
                        "    - Fold finished. Best validation loss: 0.052626 at epoch 1\n",
                        "INFO: DataLoader will use 8 parallel workers.\n"
                    ]
                },
                {
                    "data": {
                        "application/vnd.jupyter.widget-view+json": {
                            "model_id": "ef3104373674414aaa1caeb41614d147",
                            "version_major": 2,
                            "version_minor": 0
                        },
                        "text/plain": [
                            "    - Epochs:   0%|          | 0/20 [00:00<?, ?it/s]"
                        ]
                    },
                    "metadata": {},
                    "output_type": "display_data"
                },
                {
                    "name": "stdout",
                    "output_type": "stream",
                    "text": [
                        "    - Fold finished. Best validation loss: 0.004375 at epoch 3\n",
                        "INFO: DataLoader will use 8 parallel workers.\n"
                    ]
                },
                {
                    "data": {
                        "application/vnd.jupyter.widget-view+json": {
                            "model_id": "e1fb51a6bf86410b9677b2b480f71b7d",
                            "version_major": 2,
                            "version_minor": 0
                        },
                        "text/plain": [
                            "    - Epochs:   0%|          | 0/20 [00:00<?, ?it/s]"
                        ]
                    },
                    "metadata": {},
                    "output_type": "display_data"
                },
                {
                    "name": "stdout",
                    "output_type": "stream",
                    "text": [
                        "    - Fold finished. Best validation loss: 0.009791 at epoch 5\n",
                        "INFO: DataLoader will use 8 parallel workers.\n"
                    ]
                },
                {
                    "data": {
                        "application/vnd.jupyter.widget-view+json": {
                            "model_id": "57ba449000494b1b9c6bdbd8288527e3",
                            "version_major": 2,
                            "version_minor": 0
                        },
                        "text/plain": [
                            "    - Epochs:   0%|          | 0/20 [00:00<?, ?it/s]"
                        ]
                    },
                    "metadata": {},
                    "output_type": "display_data"
                },
                {
                    "name": "stdout",
                    "output_type": "stream",
                    "text": [
                        "    - Fold finished. Best validation loss: 0.035071 at epoch 3\n",
                        "INFO: DataLoader will use 8 parallel workers.\n"
                    ]
                },
                {
                    "data": {
                        "application/vnd.jupyter.widget-view+json": {
                            "model_id": "6045f21debdf41d6bc60a277711e1299",
                            "version_major": 2,
                            "version_minor": 0
                        },
                        "text/plain": [
                            "    - Epochs:   0%|          | 0/20 [00:00<?, ?it/s]"
                        ]
                    },
                    "metadata": {},
                    "output_type": "display_data"
                },
                {
                    "name": "stdout",
                    "output_type": "stream",
                    "text": [
                        "    - Fold finished. Best validation loss: 0.009762 at epoch 1\n",
                        "INFO: DataLoader will use 8 parallel workers.\n"
                    ]
                },
                {
                    "data": {
                        "application/vnd.jupyter.widget-view+json": {
                            "model_id": "4b31ba70cb71441cbe391b61d0e3e1b2",
                            "version_major": 2,
                            "version_minor": 0
                        },
                        "text/plain": [
                            "    - Epochs:   0%|          | 0/20 [00:00<?, ?it/s]"
                        ]
                    },
                    "metadata": {},
                    "output_type": "display_data"
                },
                {
                    "name": "stdout",
                    "output_type": "stream",
                    "text": [
                        "    - Fold finished. Best validation loss: 0.030059 at epoch 1\n",
                        "INFO: DataLoader will use 8 parallel workers.\n"
                    ]
                },
                {
                    "data": {
                        "application/vnd.jupyter.widget-view+json": {
                            "model_id": "e710dc20f617449996b5d29c2383652d",
                            "version_major": 2,
                            "version_minor": 0
                        },
                        "text/plain": [
                            "    - Epochs:   0%|          | 0/20 [00:00<?, ?it/s]"
                        ]
                    },
                    "metadata": {},
                    "output_type": "display_data"
                },
                {
                    "name": "stdout",
                    "output_type": "stream",
                    "text": [
                        "    - Fold finished. Best validation loss: 0.039423 at epoch 1\n",
                        "INFO: DataLoader will use 8 parallel workers.\n"
                    ]
                },
                {
                    "data": {
                        "application/vnd.jupyter.widget-view+json": {
                            "model_id": "f1d2a13faa694f17b1837a235c23dc40",
                            "version_major": 2,
                            "version_minor": 0
                        },
                        "text/plain": [
                            "    - Epochs:   0%|          | 0/20 [00:00<?, ?it/s]"
                        ]
                    },
                    "metadata": {},
                    "output_type": "display_data"
                },
                {
                    "name": "stdout",
                    "output_type": "stream",
                    "text": [
                        "    - Fold finished. Best validation loss: 0.007504 at epoch 1\n",
                        "INFO: DataLoader will use 8 parallel workers.\n"
                    ]
                },
                {
                    "data": {
                        "application/vnd.jupyter.widget-view+json": {
                            "model_id": "1fc5f9ed99ec4c67a328663d8fbd8f92",
                            "version_major": 2,
                            "version_minor": 0
                        },
                        "text/plain": [
                            "    - Epochs:   0%|          | 0/20 [00:00<?, ?it/s]"
                        ]
                    },
                    "metadata": {},
                    "output_type": "display_data"
                },
                {
                    "name": "stdout",
                    "output_type": "stream",
                    "text": [
                        "    - Fold finished. Best validation loss: 0.035608 at epoch 1\n",
                        "INFO: DataLoader will use 8 parallel workers.\n"
                    ]
                },
                {
                    "data": {
                        "application/vnd.jupyter.widget-view+json": {
                            "model_id": "4f2c1b309c9041e091a649a9052f3cb5",
                            "version_major": 2,
                            "version_minor": 0
                        },
                        "text/plain": [
                            "    - Epochs:   0%|          | 0/20 [00:00<?, ?it/s]"
                        ]
                    },
                    "metadata": {},
                    "output_type": "display_data"
                },
                {
                    "name": "stdout",
                    "output_type": "stream",
                    "text": [
                        "    - Fold finished. Best validation loss: 0.009768 at epoch 3\n",
                        "INFO: DataLoader will use 8 parallel workers.\n"
                    ]
                },
                {
                    "data": {
                        "application/vnd.jupyter.widget-view+json": {
                            "model_id": "166fef37cd964f28bc21ba779f9b8049",
                            "version_major": 2,
                            "version_minor": 0
                        },
                        "text/plain": [
                            "    - Epochs:   0%|          | 0/20 [00:00<?, ?it/s]"
                        ]
                    },
                    "metadata": {},
                    "output_type": "display_data"
                },
                {
                    "name": "stdout",
                    "output_type": "stream",
                    "text": [
                        "    - Fold finished. Best validation loss: 0.015899 at epoch 1\n",
                        "INFO: DataLoader will use 8 parallel workers.\n"
                    ]
                },
                {
                    "data": {
                        "application/vnd.jupyter.widget-view+json": {
                            "model_id": "003ac8283a31449385ae7e7705dad581",
                            "version_major": 2,
                            "version_minor": 0
                        },
                        "text/plain": [
                            "    - Epochs:   0%|          | 0/20 [00:00<?, ?it/s]"
                        ]
                    },
                    "metadata": {},
                    "output_type": "display_data"
                },
                {
                    "name": "stdout",
                    "output_type": "stream",
                    "text": [
                        "    - Fold finished. Best validation loss: 0.059009 at epoch 12\n",
                        "INFO: DataLoader will use 8 parallel workers.\n"
                    ]
                },
                {
                    "data": {
                        "application/vnd.jupyter.widget-view+json": {
                            "model_id": "b22dc22b772344b29d851976b8806fbe",
                            "version_major": 2,
                            "version_minor": 0
                        },
                        "text/plain": [
                            "    - Epochs:   0%|          | 0/20 [00:00<?, ?it/s]"
                        ]
                    },
                    "metadata": {},
                    "output_type": "display_data"
                },
                {
                    "name": "stdout",
                    "output_type": "stream",
                    "text": [
                        "    - Fold finished. Best validation loss: 0.004349 at epoch 2\n",
                        "INFO: DataLoader will use 8 parallel workers.\n"
                    ]
                },
                {
                    "data": {
                        "application/vnd.jupyter.widget-view+json": {
                            "model_id": "81b9dd7a78fb4c12a1a768c5471dae64",
                            "version_major": 2,
                            "version_minor": 0
                        },
                        "text/plain": [
                            "    - Epochs:   0%|          | 0/20 [00:00<?, ?it/s]"
                        ]
                    },
                    "metadata": {},
                    "output_type": "display_data"
                },
                {
                    "name": "stdout",
                    "output_type": "stream",
                    "text": [
                        "    - Fold finished. Best validation loss: 0.004040 at epoch 1\n",
                        "INFO: DataLoader will use 8 parallel workers.\n"
                    ]
                },
                {
                    "data": {
                        "application/vnd.jupyter.widget-view+json": {
                            "model_id": "8bf31245073843f681c644d99a5b1d18",
                            "version_major": 2,
                            "version_minor": 0
                        },
                        "text/plain": [
                            "    - Epochs:   0%|          | 0/20 [00:00<?, ?it/s]"
                        ]
                    },
                    "metadata": {},
                    "output_type": "display_data"
                },
                {
                    "name": "stdout",
                    "output_type": "stream",
                    "text": [
                        "    - Fold finished. Best validation loss: 0.014097 at epoch 4\n",
                        "INFO: DataLoader will use 8 parallel workers.\n"
                    ]
                },
                {
                    "data": {
                        "application/vnd.jupyter.widget-view+json": {
                            "model_id": "2980a89c3cab41fc9ec148f70cf01f49",
                            "version_major": 2,
                            "version_minor": 0
                        },
                        "text/plain": [
                            "    - Epochs:   0%|          | 0/20 [00:00<?, ?it/s]"
                        ]
                    },
                    "metadata": {},
                    "output_type": "display_data"
                },
                {
                    "name": "stdout",
                    "output_type": "stream",
                    "text": [
                        "    - Fold finished. Best validation loss: 0.019651 at epoch 2\n",
                        "INFO: DataLoader will use 8 parallel workers.\n"
                    ]
                },
                {
                    "data": {
                        "application/vnd.jupyter.widget-view+json": {
                            "model_id": "073bd43314a44af5972ad65447fd5b94",
                            "version_major": 2,
                            "version_minor": 0
                        },
                        "text/plain": [
                            "    - Epochs:   0%|          | 0/20 [00:00<?, ?it/s]"
                        ]
                    },
                    "metadata": {},
                    "output_type": "display_data"
                },
                {
                    "name": "stdout",
                    "output_type": "stream",
                    "text": [
                        "    - Fold finished. Best validation loss: 0.002654 at epoch 4\n",
                        "INFO: DataLoader will use 8 parallel workers.\n"
                    ]
                },
                {
                    "data": {
                        "application/vnd.jupyter.widget-view+json": {
                            "model_id": "3e913ff5c7194f6398a77d64c2cf4d54",
                            "version_major": 2,
                            "version_minor": 0
                        },
                        "text/plain": [
                            "    - Epochs:   0%|          | 0/20 [00:00<?, ?it/s]"
                        ]
                    },
                    "metadata": {},
                    "output_type": "display_data"
                },
                {
                    "name": "stdout",
                    "output_type": "stream",
                    "text": [
                        "    - Fold finished. Best validation loss: 0.005202 at epoch 2\n",
                        "INFO: DataLoader will use 8 parallel workers.\n"
                    ]
                },
                {
                    "data": {
                        "application/vnd.jupyter.widget-view+json": {
                            "model_id": "dda0aed8b1ee473ebcfaa2f28c91a4f0",
                            "version_major": 2,
                            "version_minor": 0
                        },
                        "text/plain": [
                            "    - Epochs:   0%|          | 0/20 [00:00<?, ?it/s]"
                        ]
                    },
                    "metadata": {},
                    "output_type": "display_data"
                },
                {
                    "name": "stdout",
                    "output_type": "stream",
                    "text": [
                        "    - Fold finished. Best validation loss: 0.010805 at epoch 9\n",
                        "INFO: DataLoader will use 8 parallel workers.\n"
                    ]
                },
                {
                    "data": {
                        "application/vnd.jupyter.widget-view+json": {
                            "model_id": "17bf418c18714466b680adcc1ffb075a",
                            "version_major": 2,
                            "version_minor": 0
                        },
                        "text/plain": [
                            "    - Epochs:   0%|          | 0/20 [00:00<?, ?it/s]"
                        ]
                    },
                    "metadata": {},
                    "output_type": "display_data"
                },
                {
                    "name": "stdout",
                    "output_type": "stream",
                    "text": [
                        "    - Fold finished. Best validation loss: 0.006174 at epoch 2\n",
                        "INFO: DataLoader will use 8 parallel workers.\n"
                    ]
                },
                {
                    "data": {
                        "application/vnd.jupyter.widget-view+json": {
                            "model_id": "20f51e269e914a96b350d90f9a13d484",
                            "version_major": 2,
                            "version_minor": 0
                        },
                        "text/plain": [
                            "    - Epochs:   0%|          | 0/20 [00:00<?, ?it/s]"
                        ]
                    },
                    "metadata": {},
                    "output_type": "display_data"
                },
                {
                    "name": "stdout",
                    "output_type": "stream",
                    "text": [
                        "    - Fold finished. Best validation loss: 0.025361 at epoch 1\n",
                        "INFO: DataLoader will use 8 parallel workers.\n"
                    ]
                },
                {
                    "data": {
                        "application/vnd.jupyter.widget-view+json": {
                            "model_id": "94b9509151f34530b8ebf626b74e2555",
                            "version_major": 2,
                            "version_minor": 0
                        },
                        "text/plain": [
                            "    - Epochs:   0%|          | 0/20 [00:00<?, ?it/s]"
                        ]
                    },
                    "metadata": {},
                    "output_type": "display_data"
                },
                {
                    "name": "stdout",
                    "output_type": "stream",
                    "text": [
                        "    - Fold finished. Best validation loss: 0.010201 at epoch 2\n",
                        "INFO: DataLoader will use 8 parallel workers.\n"
                    ]
                },
                {
                    "data": {
                        "application/vnd.jupyter.widget-view+json": {
                            "model_id": "395c2444003b44dcac24fd374f3e1797",
                            "version_major": 2,
                            "version_minor": 0
                        },
                        "text/plain": [
                            "    - Epochs:   0%|          | 0/20 [00:00<?, ?it/s]"
                        ]
                    },
                    "metadata": {},
                    "output_type": "display_data"
                },
                {
                    "name": "stdout",
                    "output_type": "stream",
                    "text": [
                        "    - Fold finished. Best validation loss: 0.005143 at epoch 3\n",
                        "INFO: DataLoader will use 8 parallel workers.\n"
                    ]
                },
                {
                    "data": {
                        "application/vnd.jupyter.widget-view+json": {
                            "model_id": "d2f3036e0c0943e082528febe2a2f750",
                            "version_major": 2,
                            "version_minor": 0
                        },
                        "text/plain": [
                            "    - Epochs:   0%|          | 0/20 [00:00<?, ?it/s]"
                        ]
                    },
                    "metadata": {},
                    "output_type": "display_data"
                },
                {
                    "name": "stdout",
                    "output_type": "stream",
                    "text": [
                        "    - Fold finished. Best validation loss: 0.005368 at epoch 1\n",
                        "INFO: DataLoader will use 8 parallel workers.\n"
                    ]
                },
                {
                    "data": {
                        "application/vnd.jupyter.widget-view+json": {
                            "model_id": "79ad5bbcf0e74110a05f51908cb53f5d",
                            "version_major": 2,
                            "version_minor": 0
                        },
                        "text/plain": [
                            "    - Epochs:   0%|          | 0/20 [00:00<?, ?it/s]"
                        ]
                    },
                    "metadata": {},
                    "output_type": "display_data"
                },
                {
                    "name": "stdout",
                    "output_type": "stream",
                    "text": [
                        "    - Fold finished. Best validation loss: 0.003748 at epoch 15\n",
                        "INFO: DataLoader will use 8 parallel workers.\n"
                    ]
                },
                {
                    "data": {
                        "application/vnd.jupyter.widget-view+json": {
                            "model_id": "01f65bed7aa6478d8ca984d606745747",
                            "version_major": 2,
                            "version_minor": 0
                        },
                        "text/plain": [
                            "    - Epochs:   0%|          | 0/20 [00:00<?, ?it/s]"
                        ]
                    },
                    "metadata": {},
                    "output_type": "display_data"
                },
                {
                    "name": "stdout",
                    "output_type": "stream",
                    "text": [
                        "    - Fold finished. Best validation loss: 0.002562 at epoch 1\n",
                        "INFO: DataLoader will use 8 parallel workers.\n"
                    ]
                },
                {
                    "data": {
                        "application/vnd.jupyter.widget-view+json": {
                            "model_id": "85dedc7aada24eaabf755a4ce0d8e64b",
                            "version_major": 2,
                            "version_minor": 0
                        },
                        "text/plain": [
                            "    - Epochs:   0%|          | 0/20 [00:00<?, ?it/s]"
                        ]
                    },
                    "metadata": {},
                    "output_type": "display_data"
                },
                {
                    "name": "stdout",
                    "output_type": "stream",
                    "text": [
                        "    - Fold finished. Best validation loss: 0.133182 at epoch 2\n",
                        "INFO: DataLoader will use 8 parallel workers.\n"
                    ]
                },
                {
                    "data": {
                        "application/vnd.jupyter.widget-view+json": {
                            "model_id": "10ac29d53cd548b58a5e272432a0f15d",
                            "version_major": 2,
                            "version_minor": 0
                        },
                        "text/plain": [
                            "    - Epochs:   0%|          | 0/20 [00:00<?, ?it/s]"
                        ]
                    },
                    "metadata": {},
                    "output_type": "display_data"
                },
                {
                    "name": "stdout",
                    "output_type": "stream",
                    "text": [
                        "    - Fold finished. Best validation loss: 0.007717 at epoch 7\n",
                        "INFO: DataLoader will use 8 parallel workers.\n"
                    ]
                },
                {
                    "data": {
                        "application/vnd.jupyter.widget-view+json": {
                            "model_id": "d443611242104ff98960951632cbda65",
                            "version_major": 2,
                            "version_minor": 0
                        },
                        "text/plain": [
                            "    - Epochs:   0%|          | 0/20 [00:00<?, ?it/s]"
                        ]
                    },
                    "metadata": {},
                    "output_type": "display_data"
                },
                {
                    "name": "stdout",
                    "output_type": "stream",
                    "text": [
                        "    - Fold finished. Best validation loss: 0.044153 at epoch 1\n",
                        "INFO: DataLoader will use 8 parallel workers.\n"
                    ]
                },
                {
                    "data": {
                        "application/vnd.jupyter.widget-view+json": {
                            "model_id": "112bc92c210944e782558bf7bccf1a57",
                            "version_major": 2,
                            "version_minor": 0
                        },
                        "text/plain": [
                            "    - Epochs:   0%|          | 0/20 [00:00<?, ?it/s]"
                        ]
                    },
                    "metadata": {},
                    "output_type": "display_data"
                },
                {
                    "name": "stdout",
                    "output_type": "stream",
                    "text": [
                        "    - Fold finished. Best validation loss: 0.002310 at epoch 2\n",
                        "INFO: DataLoader will use 8 parallel workers.\n"
                    ]
                },
                {
                    "data": {
                        "application/vnd.jupyter.widget-view+json": {
                            "model_id": "7bfd5f8d083d4ec4bc24ff042364675c",
                            "version_major": 2,
                            "version_minor": 0
                        },
                        "text/plain": [
                            "    - Epochs:   0%|          | 0/20 [00:00<?, ?it/s]"
                        ]
                    },
                    "metadata": {},
                    "output_type": "display_data"
                },
                {
                    "name": "stdout",
                    "output_type": "stream",
                    "text": [
                        "    - Fold finished. Best validation loss: 0.010183 at epoch 3\n",
                        "INFO: DataLoader will use 8 parallel workers.\n"
                    ]
                },
                {
                    "data": {
                        "application/vnd.jupyter.widget-view+json": {
                            "model_id": "22df03c885714e2bb5672e02fcbfcfdc",
                            "version_major": 2,
                            "version_minor": 0
                        },
                        "text/plain": [
                            "    - Epochs:   0%|          | 0/20 [00:00<?, ?it/s]"
                        ]
                    },
                    "metadata": {},
                    "output_type": "display_data"
                },
                {
                    "name": "stdout",
                    "output_type": "stream",
                    "text": [
                        "    - Fold finished. Best validation loss: 0.049950 at epoch 1\n",
                        "SUCCESS: Out-of-Fold predictions saved to models\\000426.SZ\\lstm_oof_preds.csv\n",
                        "INFO: Training final model for 兴业矿业 (000426.SZ) on all data...\n"
                    ]
                },
                {
                    "data": {
                        "application/vnd.jupyter.widget-view+json": {
                            "model_id": "7d7b2430f44d4306b040e99961b637d0",
                            "version_major": 2,
                            "version_minor": 0
                        },
                        "text/plain": [
                            "    - Final Model Epochs:   0%|          | 0/10 [00:00<?, ?it/s]"
                        ]
                    },
                    "metadata": {},
                    "output_type": "display_data"
                },
                {
                    "name": "stdout",
                    "output_type": "stream",
                    "text": [
                        "\n",
                        "================================================================================\n",
                        "--- Starting LGBM training for 孚日股份 (002083.SZ) ---\n",
                        "INFO: Starting Walk-Forward validation for 孚日股份 across 52 folds...\n"
                    ]
                },
                {
                    "data": {
                        "application/vnd.jupyter.widget-view+json": {
                            "model_id": "5c1d522821c34eaaa0809d84e3319403",
                            "version_major": 2,
                            "version_minor": 0
                        },
                        "text/plain": [
                            "Training LGBM on 孚日股份:   0%|          | 0/52 [00:00<?, ?it/s]"
                        ]
                    },
                    "metadata": {},
                    "output_type": "display_data"
                },
                {
                    "name": "stdout",
                    "output_type": "stream",
                    "text": [
                        "    - Quantile 0.05: Finished. Best iter: [49]\n",
                        "    - Quantile 0.5: Finished. Best iter: [19876]\n",
                        "    - Quantile 0.95: Finished. Best iter: [18601]\n",
                        "    - Quantile 0.05: Finished. Best iter: [1]\n",
                        "    - Quantile 0.5: Finished. Best iter: [1]\n",
                        "    - Quantile 0.95: Finished. Best iter: [1]\n",
                        "    - Quantile 0.05: Finished. Best iter: [621]\n",
                        "    - Quantile 0.5: Finished. Best iter: [19163]\n",
                        "    - Quantile 0.95: Finished. Best iter: [19163]\n",
                        "    - Quantile 0.05: Finished. Best iter: [79]\n",
                        "    - Quantile 0.5: Finished. Best iter: [79]\n",
                        "    - Quantile 0.95: Finished. Best iter: [79]\n",
                        "    - Quantile 0.05: Finished. Best iter: [87]\n",
                        "    - Quantile 0.5: Finished. Best iter: [87]\n",
                        "    - Quantile 0.95: Finished. Best iter: [87]\n",
                        "    - Quantile 0.05: Finished. Best iter: [1]\n",
                        "    - Quantile 0.5: Finished. Best iter: [1]\n",
                        "    - Quantile 0.95: Finished. Best iter: [13]\n",
                        "    - Quantile 0.05: Finished. Best iter: [1]\n",
                        "    - Quantile 0.5: Finished. Best iter: [234]\n",
                        "    - Quantile 0.95: Finished. Best iter: [238]\n",
                        "    - Quantile 0.05: Finished. Best iter: [18]\n",
                        "    - Quantile 0.5: Finished. Best iter: [16]\n",
                        "    - Quantile 0.95: Finished. Best iter: [16]\n",
                        "    - Quantile 0.05: Finished. Best iter: [1]\n",
                        "    - Quantile 0.5: Finished. Best iter: [1]\n",
                        "    - Quantile 0.95: Finished. Best iter: [1]\n",
                        "    - Quantile 0.05: Finished. Best iter: [1]\n",
                        "    - Quantile 0.5: Finished. Best iter: [1]\n",
                        "    - Quantile 0.95: Finished. Best iter: [1]\n"
                    ]
                },
                {
                    "name": "stderr",
                    "output_type": "stream",
                    "text": [
                        "d:\\Project\\Command\\Python\\Neural\\Wolf_of_Wall_Street\\.venv\\Lib\\site-packages\\pandas\\core\\nanops.py:1632: ConstantInputWarning: An input array is constant; the correlation coefficient is not defined.\n",
                        "  return spearmanr(a, b)[0]\n"
                    ]
                },
                {
                    "name": "stdout",
                    "output_type": "stream",
                    "text": [
                        "    - Quantile 0.05: Finished. Best iter: [2]\n",
                        "    - Quantile 0.5: Finished. Best iter: [19381]\n",
                        "    - Quantile 0.95: Finished. Best iter: [899]\n",
                        "    - Quantile 0.05: Finished. Best iter: [12]\n",
                        "    - Quantile 0.5: Finished. Best iter: [12]\n",
                        "    - Quantile 0.95: Finished. Best iter: [1]\n",
                        "    - Quantile 0.05: Finished. Best iter: [3]\n",
                        "    - Quantile 0.5: Finished. Best iter: [3]\n",
                        "    - Quantile 0.95: Finished. Best iter: [1]\n",
                        "    - Quantile 0.05: Finished. Best iter: [79]\n",
                        "    - Quantile 0.5: Finished. Best iter: [79]\n",
                        "    - Quantile 0.95: Finished. Best iter: [56]\n",
                        "    - Quantile 0.05: Finished. Best iter: [157]\n",
                        "    - Quantile 0.5: Finished. Best iter: [157]\n",
                        "    - Quantile 0.95: Finished. Best iter: [37]\n",
                        "    - Quantile 0.05: Finished. Best iter: [2]\n",
                        "    - Quantile 0.5: Finished. Best iter: [2]\n",
                        "    - Quantile 0.95: Finished. Best iter: [2]\n",
                        "    - Quantile 0.05: Finished. Best iter: [19]\n",
                        "    - Quantile 0.5: Finished. Best iter: [11]\n",
                        "    - Quantile 0.95: Finished. Best iter: [9]\n",
                        "    - Quantile 0.05: Finished. Best iter: [66]\n",
                        "    - Quantile 0.5: Finished. Best iter: [44]\n",
                        "    - Quantile 0.95: Finished. Best iter: [2]\n",
                        "    - Quantile 0.05: Finished. Best iter: [1]\n",
                        "    - Quantile 0.5: Finished. Best iter: [1]\n",
                        "    - Quantile 0.95: Finished. Best iter: [1]\n",
                        "    - Quantile 0.05: Finished. Best iter: [7]\n",
                        "    - Quantile 0.5: Finished. Best iter: [7]\n",
                        "    - Quantile 0.95: Finished. Best iter: [1]\n",
                        "    - Quantile 0.05: Finished. Best iter: [505]\n",
                        "    - Quantile 0.5: Finished. Best iter: [505]\n",
                        "    - Quantile 0.95: Finished. Best iter: [100]\n",
                        "    - Quantile 0.05: Finished. Best iter: [15]\n",
                        "    - Quantile 0.5: Finished. Best iter: [15]\n",
                        "    - Quantile 0.95: Finished. Best iter: [15]\n",
                        "    - Quantile 0.05: Finished. Best iter: [97]\n",
                        "    - Quantile 0.5: Finished. Best iter: [150]\n",
                        "    - Quantile 0.95: Finished. Best iter: [185]\n",
                        "    - Quantile 0.05: Finished. Best iter: [7396]\n",
                        "    - Quantile 0.5: Finished. Best iter: [4701]\n",
                        "    - Quantile 0.95: Finished. Best iter: [59]\n",
                        "    - Quantile 0.05: Finished. Best iter: [1]\n",
                        "    - Quantile 0.5: Finished. Best iter: [1]\n",
                        "    - Quantile 0.95: Finished. Best iter: [1]\n",
                        "    - Quantile 0.05: Finished. Best iter: [4181]\n",
                        "    - Quantile 0.5: Finished. Best iter: [4211]\n",
                        "    - Quantile 0.95: Finished. Best iter: [4181]\n",
                        "    - Quantile 0.05: Finished. Best iter: [74]\n",
                        "    - Quantile 0.5: Finished. Best iter: [74]\n",
                        "    - Quantile 0.95: Finished. Best iter: [4]\n",
                        "    - Quantile 0.05: Finished. Best iter: [4]\n",
                        "    - Quantile 0.5: Finished. Best iter: [28]\n",
                        "    - Quantile 0.95: Finished. Best iter: [30]\n",
                        "    - Quantile 0.05: Finished. Best iter: [1]\n",
                        "    - Quantile 0.5: Finished. Best iter: [39]\n",
                        "    - Quantile 0.95: Finished. Best iter: [39]\n",
                        "    - Quantile 0.05: Finished. Best iter: [1]\n",
                        "    - Quantile 0.5: Finished. Best iter: [1]\n",
                        "    - Quantile 0.95: Finished. Best iter: [1]\n",
                        "    - Quantile 0.05: Finished. Best iter: [358]\n",
                        "    - Quantile 0.5: Finished. Best iter: [420]\n",
                        "    - Quantile 0.95: Finished. Best iter: [734]\n",
                        "    - Quantile 0.05: Finished. Best iter: [24]\n",
                        "    - Quantile 0.5: Finished. Best iter: [29]\n",
                        "    - Quantile 0.95: Finished. Best iter: [30]\n",
                        "    - Quantile 0.05: Finished. Best iter: [6]\n",
                        "    - Quantile 0.5: Finished. Best iter: [6]\n",
                        "    - Quantile 0.95: Finished. Best iter: [6]\n",
                        "    - Quantile 0.05: Finished. Best iter: [55]\n",
                        "    - Quantile 0.5: Finished. Best iter: [96]\n",
                        "    - Quantile 0.95: Finished. Best iter: [96]\n",
                        "    - Quantile 0.05: Finished. Best iter: [1]\n",
                        "    - Quantile 0.5: Finished. Best iter: [1]\n",
                        "    - Quantile 0.95: Finished. Best iter: [1]\n"
                    ]
                },
                {
                    "name": "stderr",
                    "output_type": "stream",
                    "text": [
                        "d:\\Project\\Command\\Python\\Neural\\Wolf_of_Wall_Street\\.venv\\Lib\\site-packages\\pandas\\core\\nanops.py:1632: ConstantInputWarning: An input array is constant; the correlation coefficient is not defined.\n",
                        "  return spearmanr(a, b)[0]\n"
                    ]
                },
                {
                    "name": "stdout",
                    "output_type": "stream",
                    "text": [
                        "    - Quantile 0.05: Finished. Best iter: [47]\n",
                        "    - Quantile 0.5: Finished. Best iter: [47]\n",
                        "    - Quantile 0.95: Finished. Best iter: [47]\n",
                        "    - Quantile 0.05: Finished. Best iter: [1]\n",
                        "    - Quantile 0.5: Finished. Best iter: [38]\n",
                        "    - Quantile 0.95: Finished. Best iter: [71]\n",
                        "    - Quantile 0.05: Finished. Best iter: [48]\n",
                        "    - Quantile 0.5: Finished. Best iter: [48]\n",
                        "    - Quantile 0.95: Finished. Best iter: [18]\n",
                        "    - Quantile 0.05: Finished. Best iter: [17358]\n",
                        "    - Quantile 0.5: Finished. Best iter: [19921]\n",
                        "    - Quantile 0.95: Finished. Best iter: [358]\n",
                        "    - Quantile 0.05: Finished. Best iter: [19631]\n",
                        "    - Quantile 0.5: Finished. Best iter: [18347]\n",
                        "    - Quantile 0.95: Finished. Best iter: [230]\n",
                        "    - Quantile 0.05: Finished. Best iter: [9570]\n",
                        "    - Quantile 0.5: Finished. Best iter: [15264]\n",
                        "    - Quantile 0.95: Finished. Best iter: [17556]\n",
                        "    - Quantile 0.05: Finished. Best iter: [1]\n",
                        "    - Quantile 0.5: Finished. Best iter: [15]\n",
                        "    - Quantile 0.95: Finished. Best iter: [15]\n",
                        "    - Quantile 0.05: Finished. Best iter: [1]\n",
                        "    - Quantile 0.5: Finished. Best iter: [1]\n",
                        "    - Quantile 0.95: Finished. Best iter: [1]\n",
                        "    - Quantile 0.05: Finished. Best iter: [1]\n",
                        "    - Quantile 0.5: Finished. Best iter: [1]\n",
                        "    - Quantile 0.95: Finished. Best iter: [7]\n",
                        "    - Quantile 0.05: Finished. Best iter: [2]\n",
                        "    - Quantile 0.5: Finished. Best iter: [568]\n",
                        "    - Quantile 0.95: Finished. Best iter: [429]\n",
                        "    - Quantile 0.05: Finished. Best iter: [1]\n",
                        "    - Quantile 0.5: Finished. Best iter: [1]\n",
                        "    - Quantile 0.95: Finished. Best iter: [1]\n",
                        "    - Quantile 0.05: Finished. Best iter: [11913]\n",
                        "    - Quantile 0.5: Finished. Best iter: [3380]\n",
                        "    - Quantile 0.95: Finished. Best iter: [3320]\n",
                        "    - Quantile 0.05: Finished. Best iter: [660]\n",
                        "    - Quantile 0.5: Finished. Best iter: [3943]\n",
                        "    - Quantile 0.95: Finished. Best iter: [188]\n",
                        "    - Quantile 0.05: Finished. Best iter: [40]\n",
                        "    - Quantile 0.5: Finished. Best iter: [39]\n",
                        "    - Quantile 0.95: Finished. Best iter: [32]\n",
                        "    - Quantile 0.05: Finished. Best iter: [20]\n",
                        "    - Quantile 0.5: Finished. Best iter: [20]\n",
                        "    - Quantile 0.95: Finished. Best iter: [4]\n",
                        "    - Quantile 0.05: Finished. Best iter: [18]\n",
                        "    - Quantile 0.5: Finished. Best iter: [82]\n",
                        "    - Quantile 0.95: Finished. Best iter: [82]\n",
                        "    - Quantile 0.05: Finished. Best iter: [16]\n",
                        "    - Quantile 0.5: Finished. Best iter: [52]\n",
                        "    - Quantile 0.95: Finished. Best iter: [52]\n",
                        "SUCCESS: Out-of-Fold predictions saved to models\\002083.SZ\\lgbm_oof_preds.csv\n",
                        "INFO: Training final model for 孚日股份 (002083.SZ) on all data...\n",
                        "\n",
                        "================================================================================\n",
                        "--- Starting LSTM training for 孚日股份 (002083.SZ) ---\n",
                        "INFO: PyTorch LSTMBuilder will use device: CUDA\n",
                        "INFO: Starting Walk-Forward validation for 孚日股份 across 52 folds...\n"
                    ]
                },
                {
                    "data": {
                        "application/vnd.jupyter.widget-view+json": {
                            "model_id": "9d2e74d4346146c2943b01fb7a05757c",
                            "version_major": 2,
                            "version_minor": 0
                        },
                        "text/plain": [
                            "Training LSTM on 孚日股份:   0%|          | 0/52 [00:00<?, ?it/s]"
                        ]
                    },
                    "metadata": {},
                    "output_type": "display_data"
                },
                {
                    "name": "stdout",
                    "output_type": "stream",
                    "text": [
                        "INFO: DataLoader will use 8 parallel workers.\n"
                    ]
                },
                {
                    "data": {
                        "application/vnd.jupyter.widget-view+json": {
                            "model_id": "d2aa740248734add8fcad5269acb13a4",
                            "version_major": 2,
                            "version_minor": 0
                        },
                        "text/plain": [
                            "    - Epochs:   0%|          | 0/20 [00:00<?, ?it/s]"
                        ]
                    },
                    "metadata": {},
                    "output_type": "display_data"
                },
                {
                    "name": "stdout",
                    "output_type": "stream",
                    "text": [
                        "    - Fold finished. Best validation loss: 0.010742 at epoch 1\n",
                        "INFO: DataLoader will use 8 parallel workers.\n"
                    ]
                },
                {
                    "data": {
                        "application/vnd.jupyter.widget-view+json": {
                            "model_id": "527f091ad8144e978d6ae234aca29227",
                            "version_major": 2,
                            "version_minor": 0
                        },
                        "text/plain": [
                            "    - Epochs:   0%|          | 0/20 [00:00<?, ?it/s]"
                        ]
                    },
                    "metadata": {},
                    "output_type": "display_data"
                },
                {
                    "name": "stdout",
                    "output_type": "stream",
                    "text": [
                        "    - Fold finished. Best validation loss: 0.003163 at epoch 3\n",
                        "INFO: DataLoader will use 8 parallel workers.\n"
                    ]
                },
                {
                    "data": {
                        "application/vnd.jupyter.widget-view+json": {
                            "model_id": "edf0fa611c174b239d3fa0fb07896fc0",
                            "version_major": 2,
                            "version_minor": 0
                        },
                        "text/plain": [
                            "    - Epochs:   0%|          | 0/20 [00:00<?, ?it/s]"
                        ]
                    },
                    "metadata": {},
                    "output_type": "display_data"
                },
                {
                    "name": "stdout",
                    "output_type": "stream",
                    "text": [
                        "    - Fold finished. Best validation loss: 0.001776 at epoch 6\n",
                        "INFO: DataLoader will use 8 parallel workers.\n"
                    ]
                },
                {
                    "data": {
                        "application/vnd.jupyter.widget-view+json": {
                            "model_id": "f0d458a65dcc4d08b30119c12c771521",
                            "version_major": 2,
                            "version_minor": 0
                        },
                        "text/plain": [
                            "    - Epochs:   0%|          | 0/20 [00:00<?, ?it/s]"
                        ]
                    },
                    "metadata": {},
                    "output_type": "display_data"
                },
                {
                    "name": "stdout",
                    "output_type": "stream",
                    "text": [
                        "    - Fold finished. Best validation loss: 0.001838 at epoch 1\n",
                        "INFO: DataLoader will use 8 parallel workers.\n"
                    ]
                },
                {
                    "data": {
                        "application/vnd.jupyter.widget-view+json": {
                            "model_id": "54e38a1e34ef4220bdecbc768b8af70f",
                            "version_major": 2,
                            "version_minor": 0
                        },
                        "text/plain": [
                            "    - Epochs:   0%|          | 0/20 [00:00<?, ?it/s]"
                        ]
                    },
                    "metadata": {},
                    "output_type": "display_data"
                },
                {
                    "name": "stdout",
                    "output_type": "stream",
                    "text": [
                        "    - Fold finished. Best validation loss: 0.003994 at epoch 6\n",
                        "INFO: DataLoader will use 8 parallel workers.\n"
                    ]
                },
                {
                    "data": {
                        "application/vnd.jupyter.widget-view+json": {
                            "model_id": "f397fef0b35a474ea6289d27b292bdb7",
                            "version_major": 2,
                            "version_minor": 0
                        },
                        "text/plain": [
                            "    - Epochs:   0%|          | 0/20 [00:00<?, ?it/s]"
                        ]
                    },
                    "metadata": {},
                    "output_type": "display_data"
                },
                {
                    "name": "stdout",
                    "output_type": "stream",
                    "text": [
                        "    - Fold finished. Best validation loss: 0.009694 at epoch 1\n",
                        "INFO: DataLoader will use 8 parallel workers.\n"
                    ]
                },
                {
                    "data": {
                        "application/vnd.jupyter.widget-view+json": {
                            "model_id": "9775a715486b493f9886e01573425d37",
                            "version_major": 2,
                            "version_minor": 0
                        },
                        "text/plain": [
                            "    - Epochs:   0%|          | 0/20 [00:00<?, ?it/s]"
                        ]
                    },
                    "metadata": {},
                    "output_type": "display_data"
                },
                {
                    "name": "stdout",
                    "output_type": "stream",
                    "text": [
                        "    - Fold finished. Best validation loss: 0.004078 at epoch 2\n",
                        "INFO: DataLoader will use 8 parallel workers.\n"
                    ]
                },
                {
                    "data": {
                        "application/vnd.jupyter.widget-view+json": {
                            "model_id": "82a21b71a03246c2a78cfc5db75f3c52",
                            "version_major": 2,
                            "version_minor": 0
                        },
                        "text/plain": [
                            "    - Epochs:   0%|          | 0/20 [00:00<?, ?it/s]"
                        ]
                    },
                    "metadata": {},
                    "output_type": "display_data"
                },
                {
                    "name": "stdout",
                    "output_type": "stream",
                    "text": [
                        "    - Fold finished. Best validation loss: 0.016222 at epoch 10\n",
                        "INFO: DataLoader will use 8 parallel workers.\n"
                    ]
                },
                {
                    "data": {
                        "application/vnd.jupyter.widget-view+json": {
                            "model_id": "05dfeff8518b4952928d2268a2198594",
                            "version_major": 2,
                            "version_minor": 0
                        },
                        "text/plain": [
                            "    - Epochs:   0%|          | 0/20 [00:00<?, ?it/s]"
                        ]
                    },
                    "metadata": {},
                    "output_type": "display_data"
                },
                {
                    "name": "stdout",
                    "output_type": "stream",
                    "text": [
                        "    - Fold finished. Best validation loss: 0.002893 at epoch 1\n",
                        "INFO: DataLoader will use 8 parallel workers.\n"
                    ]
                },
                {
                    "data": {
                        "application/vnd.jupyter.widget-view+json": {
                            "model_id": "c76bb4f7889d412f8d1dd7749d0c6b2e",
                            "version_major": 2,
                            "version_minor": 0
                        },
                        "text/plain": [
                            "    - Epochs:   0%|          | 0/20 [00:00<?, ?it/s]"
                        ]
                    },
                    "metadata": {},
                    "output_type": "display_data"
                },
                {
                    "name": "stdout",
                    "output_type": "stream",
                    "text": [
                        "    - Fold finished. Best validation loss: 0.043236 at epoch 1\n",
                        "INFO: DataLoader will use 8 parallel workers.\n"
                    ]
                },
                {
                    "data": {
                        "application/vnd.jupyter.widget-view+json": {
                            "model_id": "2cd9a6860b644148ace6fd6cad44246e",
                            "version_major": 2,
                            "version_minor": 0
                        },
                        "text/plain": [
                            "    - Epochs:   0%|          | 0/20 [00:00<?, ?it/s]"
                        ]
                    },
                    "metadata": {},
                    "output_type": "display_data"
                },
                {
                    "name": "stdout",
                    "output_type": "stream",
                    "text": [
                        "    - Fold finished. Best validation loss: 0.051032 at epoch 10\n",
                        "INFO: DataLoader will use 8 parallel workers.\n"
                    ]
                },
                {
                    "data": {
                        "application/vnd.jupyter.widget-view+json": {
                            "model_id": "ca9660adca6e4371ab1b900609f7bce5",
                            "version_major": 2,
                            "version_minor": 0
                        },
                        "text/plain": [
                            "    - Epochs:   0%|          | 0/20 [00:00<?, ?it/s]"
                        ]
                    },
                    "metadata": {},
                    "output_type": "display_data"
                },
                {
                    "name": "stdout",
                    "output_type": "stream",
                    "text": [
                        "    - Fold finished. Best validation loss: 0.021770 at epoch 7\n",
                        "INFO: DataLoader will use 8 parallel workers.\n"
                    ]
                },
                {
                    "data": {
                        "application/vnd.jupyter.widget-view+json": {
                            "model_id": "bcf59c1d83474a78b61f4f31069fe0f7",
                            "version_major": 2,
                            "version_minor": 0
                        },
                        "text/plain": [
                            "    - Epochs:   0%|          | 0/20 [00:00<?, ?it/s]"
                        ]
                    },
                    "metadata": {},
                    "output_type": "display_data"
                },
                {
                    "name": "stdout",
                    "output_type": "stream",
                    "text": [
                        "    - Fold finished. Best validation loss: 0.036929 at epoch 10\n",
                        "INFO: DataLoader will use 8 parallel workers.\n"
                    ]
                },
                {
                    "data": {
                        "application/vnd.jupyter.widget-view+json": {
                            "model_id": "4a460a07c0024992a5e685bf25dc603c",
                            "version_major": 2,
                            "version_minor": 0
                        },
                        "text/plain": [
                            "    - Epochs:   0%|          | 0/20 [00:00<?, ?it/s]"
                        ]
                    },
                    "metadata": {},
                    "output_type": "display_data"
                },
                {
                    "name": "stdout",
                    "output_type": "stream",
                    "text": [
                        "    - Fold finished. Best validation loss: 0.005699 at epoch 12\n",
                        "INFO: DataLoader will use 8 parallel workers.\n"
                    ]
                },
                {
                    "data": {
                        "application/vnd.jupyter.widget-view+json": {
                            "model_id": "f8ba940123e44cc9b35a0a47b4328b76",
                            "version_major": 2,
                            "version_minor": 0
                        },
                        "text/plain": [
                            "    - Epochs:   0%|          | 0/20 [00:00<?, ?it/s]"
                        ]
                    },
                    "metadata": {},
                    "output_type": "display_data"
                },
                {
                    "name": "stdout",
                    "output_type": "stream",
                    "text": [
                        "    - Fold finished. Best validation loss: 0.003581 at epoch 1\n",
                        "INFO: DataLoader will use 8 parallel workers.\n"
                    ]
                },
                {
                    "data": {
                        "application/vnd.jupyter.widget-view+json": {
                            "model_id": "c4ba19f3cbb54bafb8debdf4683d9dde",
                            "version_major": 2,
                            "version_minor": 0
                        },
                        "text/plain": [
                            "    - Epochs:   0%|          | 0/20 [00:00<?, ?it/s]"
                        ]
                    },
                    "metadata": {},
                    "output_type": "display_data"
                },
                {
                    "name": "stdout",
                    "output_type": "stream",
                    "text": [
                        "    - Fold finished. Best validation loss: 0.000878 at epoch 2\n",
                        "INFO: DataLoader will use 8 parallel workers.\n"
                    ]
                },
                {
                    "data": {
                        "application/vnd.jupyter.widget-view+json": {
                            "model_id": "e764b999b43e4c91b8bdc4a75d5769d3",
                            "version_major": 2,
                            "version_minor": 0
                        },
                        "text/plain": [
                            "    - Epochs:   0%|          | 0/20 [00:00<?, ?it/s]"
                        ]
                    },
                    "metadata": {},
                    "output_type": "display_data"
                },
                {
                    "name": "stdout",
                    "output_type": "stream",
                    "text": [
                        "    - Fold finished. Best validation loss: 0.003791 at epoch 3\n",
                        "INFO: DataLoader will use 8 parallel workers.\n"
                    ]
                },
                {
                    "data": {
                        "application/vnd.jupyter.widget-view+json": {
                            "model_id": "fde2e881c9744bd4a8f88b91b691b4ad",
                            "version_major": 2,
                            "version_minor": 0
                        },
                        "text/plain": [
                            "    - Epochs:   0%|          | 0/20 [00:00<?, ?it/s]"
                        ]
                    },
                    "metadata": {},
                    "output_type": "display_data"
                },
                {
                    "name": "stdout",
                    "output_type": "stream",
                    "text": [
                        "    - Fold finished. Best validation loss: 0.001734 at epoch 1\n",
                        "INFO: DataLoader will use 8 parallel workers.\n"
                    ]
                },
                {
                    "data": {
                        "application/vnd.jupyter.widget-view+json": {
                            "model_id": "b40773fce9ab4bc9bd6c50881ca23f13",
                            "version_major": 2,
                            "version_minor": 0
                        },
                        "text/plain": [
                            "    - Epochs:   0%|          | 0/20 [00:00<?, ?it/s]"
                        ]
                    },
                    "metadata": {},
                    "output_type": "display_data"
                },
                {
                    "name": "stdout",
                    "output_type": "stream",
                    "text": [
                        "    - Fold finished. Best validation loss: 0.003018 at epoch 2\n",
                        "INFO: DataLoader will use 8 parallel workers.\n"
                    ]
                },
                {
                    "data": {
                        "application/vnd.jupyter.widget-view+json": {
                            "model_id": "62359dea19a04fed8e5a03b010f7d39a",
                            "version_major": 2,
                            "version_minor": 0
                        },
                        "text/plain": [
                            "    - Epochs:   0%|          | 0/20 [00:00<?, ?it/s]"
                        ]
                    },
                    "metadata": {},
                    "output_type": "display_data"
                },
                {
                    "name": "stdout",
                    "output_type": "stream",
                    "text": [
                        "    - Fold finished. Best validation loss: 0.000854 at epoch 14\n",
                        "INFO: DataLoader will use 8 parallel workers.\n"
                    ]
                },
                {
                    "data": {
                        "application/vnd.jupyter.widget-view+json": {
                            "model_id": "13c6ea69ab1e4addb658c5562bca0233",
                            "version_major": 2,
                            "version_minor": 0
                        },
                        "text/plain": [
                            "    - Epochs:   0%|          | 0/20 [00:00<?, ?it/s]"
                        ]
                    },
                    "metadata": {},
                    "output_type": "display_data"
                },
                {
                    "name": "stdout",
                    "output_type": "stream",
                    "text": [
                        "    - Fold finished. Best validation loss: 0.001302 at epoch 2\n",
                        "INFO: DataLoader will use 8 parallel workers.\n"
                    ]
                },
                {
                    "data": {
                        "application/vnd.jupyter.widget-view+json": {
                            "model_id": "d3da884647634a3abefbfd19b62dea27",
                            "version_major": 2,
                            "version_minor": 0
                        },
                        "text/plain": [
                            "    - Epochs:   0%|          | 0/20 [00:00<?, ?it/s]"
                        ]
                    },
                    "metadata": {},
                    "output_type": "display_data"
                },
                {
                    "name": "stdout",
                    "output_type": "stream",
                    "text": [
                        "    - Fold finished. Best validation loss: 0.008489 at epoch 1\n",
                        "INFO: DataLoader will use 8 parallel workers.\n"
                    ]
                },
                {
                    "data": {
                        "application/vnd.jupyter.widget-view+json": {
                            "model_id": "ebc57f721cf545f28582de744f776535",
                            "version_major": 2,
                            "version_minor": 0
                        },
                        "text/plain": [
                            "    - Epochs:   0%|          | 0/20 [00:00<?, ?it/s]"
                        ]
                    },
                    "metadata": {},
                    "output_type": "display_data"
                },
                {
                    "name": "stdout",
                    "output_type": "stream",
                    "text": [
                        "    - Fold finished. Best validation loss: 0.002110 at epoch 5\n",
                        "INFO: DataLoader will use 8 parallel workers.\n"
                    ]
                },
                {
                    "data": {
                        "application/vnd.jupyter.widget-view+json": {
                            "model_id": "6f21974101ab412a8505f2504a65e323",
                            "version_major": 2,
                            "version_minor": 0
                        },
                        "text/plain": [
                            "    - Epochs:   0%|          | 0/20 [00:00<?, ?it/s]"
                        ]
                    },
                    "metadata": {},
                    "output_type": "display_data"
                },
                {
                    "name": "stdout",
                    "output_type": "stream",
                    "text": [
                        "    - Fold finished. Best validation loss: 0.001549 at epoch 2\n",
                        "INFO: DataLoader will use 8 parallel workers.\n"
                    ]
                },
                {
                    "data": {
                        "application/vnd.jupyter.widget-view+json": {
                            "model_id": "829b7872b0c34f149d0061271845ca68",
                            "version_major": 2,
                            "version_minor": 0
                        },
                        "text/plain": [
                            "    - Epochs:   0%|          | 0/20 [00:00<?, ?it/s]"
                        ]
                    },
                    "metadata": {},
                    "output_type": "display_data"
                },
                {
                    "name": "stdout",
                    "output_type": "stream",
                    "text": [
                        "    - Fold finished. Best validation loss: 0.000897 at epoch 2\n",
                        "INFO: DataLoader will use 8 parallel workers.\n"
                    ]
                },
                {
                    "data": {
                        "application/vnd.jupyter.widget-view+json": {
                            "model_id": "f9b583700f6a4c86a52799f03abf6703",
                            "version_major": 2,
                            "version_minor": 0
                        },
                        "text/plain": [
                            "    - Epochs:   0%|          | 0/20 [00:00<?, ?it/s]"
                        ]
                    },
                    "metadata": {},
                    "output_type": "display_data"
                },
                {
                    "name": "stdout",
                    "output_type": "stream",
                    "text": [
                        "    - Fold finished. Best validation loss: 0.012177 at epoch 2\n",
                        "INFO: DataLoader will use 8 parallel workers.\n"
                    ]
                },
                {
                    "data": {
                        "application/vnd.jupyter.widget-view+json": {
                            "model_id": "b73151c72bca4efdab81eccd63f33422",
                            "version_major": 2,
                            "version_minor": 0
                        },
                        "text/plain": [
                            "    - Epochs:   0%|          | 0/20 [00:00<?, ?it/s]"
                        ]
                    },
                    "metadata": {},
                    "output_type": "display_data"
                },
                {
                    "name": "stdout",
                    "output_type": "stream",
                    "text": [
                        "    - Fold finished. Best validation loss: 0.009443 at epoch 1\n",
                        "INFO: DataLoader will use 8 parallel workers.\n"
                    ]
                },
                {
                    "data": {
                        "application/vnd.jupyter.widget-view+json": {
                            "model_id": "8547e2833172456e952061321e6f7723",
                            "version_major": 2,
                            "version_minor": 0
                        },
                        "text/plain": [
                            "    - Epochs:   0%|          | 0/20 [00:00<?, ?it/s]"
                        ]
                    },
                    "metadata": {},
                    "output_type": "display_data"
                },
                {
                    "name": "stdout",
                    "output_type": "stream",
                    "text": [
                        "    - Fold finished. Best validation loss: 0.000628 at epoch 4\n",
                        "INFO: DataLoader will use 8 parallel workers.\n"
                    ]
                },
                {
                    "data": {
                        "application/vnd.jupyter.widget-view+json": {
                            "model_id": "fb813c6591b643c5956c892ab53dbeb0",
                            "version_major": 2,
                            "version_minor": 0
                        },
                        "text/plain": [
                            "    - Epochs:   0%|          | 0/20 [00:00<?, ?it/s]"
                        ]
                    },
                    "metadata": {},
                    "output_type": "display_data"
                },
                {
                    "name": "stdout",
                    "output_type": "stream",
                    "text": [
                        "    - Fold finished. Best validation loss: 0.002844 at epoch 2\n",
                        "INFO: DataLoader will use 8 parallel workers.\n"
                    ]
                },
                {
                    "data": {
                        "application/vnd.jupyter.widget-view+json": {
                            "model_id": "5710c01efd4041d59e88186ce7489a25",
                            "version_major": 2,
                            "version_minor": 0
                        },
                        "text/plain": [
                            "    - Epochs:   0%|          | 0/20 [00:00<?, ?it/s]"
                        ]
                    },
                    "metadata": {},
                    "output_type": "display_data"
                },
                {
                    "name": "stdout",
                    "output_type": "stream",
                    "text": [
                        "    - Fold finished. Best validation loss: 0.010532 at epoch 1\n",
                        "INFO: DataLoader will use 8 parallel workers.\n"
                    ]
                },
                {
                    "data": {
                        "application/vnd.jupyter.widget-view+json": {
                            "model_id": "316a92e40db5424288efc153d48f7875",
                            "version_major": 2,
                            "version_minor": 0
                        },
                        "text/plain": [
                            "    - Epochs:   0%|          | 0/20 [00:00<?, ?it/s]"
                        ]
                    },
                    "metadata": {},
                    "output_type": "display_data"
                },
                {
                    "name": "stdout",
                    "output_type": "stream",
                    "text": [
                        "    - Fold finished. Best validation loss: 0.041705 at epoch 1\n",
                        "INFO: DataLoader will use 8 parallel workers.\n"
                    ]
                },
                {
                    "data": {
                        "application/vnd.jupyter.widget-view+json": {
                            "model_id": "b7f209777cd447e2ad396b42f4135df6",
                            "version_major": 2,
                            "version_minor": 0
                        },
                        "text/plain": [
                            "    - Epochs:   0%|          | 0/20 [00:00<?, ?it/s]"
                        ]
                    },
                    "metadata": {},
                    "output_type": "display_data"
                },
                {
                    "name": "stdout",
                    "output_type": "stream",
                    "text": [
                        "    - Fold finished. Best validation loss: 0.015895 at epoch 1\n",
                        "INFO: DataLoader will use 8 parallel workers.\n"
                    ]
                },
                {
                    "data": {
                        "application/vnd.jupyter.widget-view+json": {
                            "model_id": "bba1b70bf94b4141ba6f5492e04bf2c2",
                            "version_major": 2,
                            "version_minor": 0
                        },
                        "text/plain": [
                            "    - Epochs:   0%|          | 0/20 [00:00<?, ?it/s]"
                        ]
                    },
                    "metadata": {},
                    "output_type": "display_data"
                },
                {
                    "name": "stdout",
                    "output_type": "stream",
                    "text": [
                        "    - Fold finished. Best validation loss: 0.003337 at epoch 12\n",
                        "INFO: DataLoader will use 8 parallel workers.\n"
                    ]
                },
                {
                    "data": {
                        "application/vnd.jupyter.widget-view+json": {
                            "model_id": "243cadec426e4da5a66c516ffb5b6889",
                            "version_major": 2,
                            "version_minor": 0
                        },
                        "text/plain": [
                            "    - Epochs:   0%|          | 0/20 [00:00<?, ?it/s]"
                        ]
                    },
                    "metadata": {},
                    "output_type": "display_data"
                },
                {
                    "name": "stdout",
                    "output_type": "stream",
                    "text": [
                        "    - Fold finished. Best validation loss: 0.004297 at epoch 5\n",
                        "INFO: DataLoader will use 8 parallel workers.\n"
                    ]
                },
                {
                    "data": {
                        "application/vnd.jupyter.widget-view+json": {
                            "model_id": "e4d99467303f46f8a9af5e44fbcc170e",
                            "version_major": 2,
                            "version_minor": 0
                        },
                        "text/plain": [
                            "    - Epochs:   0%|          | 0/20 [00:00<?, ?it/s]"
                        ]
                    },
                    "metadata": {},
                    "output_type": "display_data"
                },
                {
                    "name": "stdout",
                    "output_type": "stream",
                    "text": [
                        "    - Fold finished. Best validation loss: 0.001237 at epoch 2\n",
                        "INFO: DataLoader will use 8 parallel workers.\n"
                    ]
                },
                {
                    "data": {
                        "application/vnd.jupyter.widget-view+json": {
                            "model_id": "73db859aacf5417d89f718f37232ce70",
                            "version_major": 2,
                            "version_minor": 0
                        },
                        "text/plain": [
                            "    - Epochs:   0%|          | 0/20 [00:00<?, ?it/s]"
                        ]
                    },
                    "metadata": {},
                    "output_type": "display_data"
                },
                {
                    "name": "stdout",
                    "output_type": "stream",
                    "text": [
                        "    - Fold finished. Best validation loss: 0.003911 at epoch 1\n",
                        "INFO: DataLoader will use 8 parallel workers.\n"
                    ]
                },
                {
                    "data": {
                        "application/vnd.jupyter.widget-view+json": {
                            "model_id": "db50670811b44c3c85713a4a651a4738",
                            "version_major": 2,
                            "version_minor": 0
                        },
                        "text/plain": [
                            "    - Epochs:   0%|          | 0/20 [00:00<?, ?it/s]"
                        ]
                    },
                    "metadata": {},
                    "output_type": "display_data"
                },
                {
                    "name": "stdout",
                    "output_type": "stream",
                    "text": [
                        "    - Fold finished. Best validation loss: 0.003378 at epoch 1\n",
                        "INFO: DataLoader will use 8 parallel workers.\n"
                    ]
                },
                {
                    "data": {
                        "application/vnd.jupyter.widget-view+json": {
                            "model_id": "7995ea4eca3c4c9c9e9f77c626c8d066",
                            "version_major": 2,
                            "version_minor": 0
                        },
                        "text/plain": [
                            "    - Epochs:   0%|          | 0/20 [00:00<?, ?it/s]"
                        ]
                    },
                    "metadata": {},
                    "output_type": "display_data"
                },
                {
                    "name": "stdout",
                    "output_type": "stream",
                    "text": [
                        "    - Fold finished. Best validation loss: 0.012534 at epoch 1\n",
                        "INFO: DataLoader will use 8 parallel workers.\n"
                    ]
                },
                {
                    "data": {
                        "application/vnd.jupyter.widget-view+json": {
                            "model_id": "c2ac81e4746b407e8a408cd99fea9e3f",
                            "version_major": 2,
                            "version_minor": 0
                        },
                        "text/plain": [
                            "    - Epochs:   0%|          | 0/20 [00:00<?, ?it/s]"
                        ]
                    },
                    "metadata": {},
                    "output_type": "display_data"
                },
                {
                    "name": "stdout",
                    "output_type": "stream",
                    "text": [
                        "    - Fold finished. Best validation loss: 0.004244 at epoch 4\n",
                        "INFO: DataLoader will use 8 parallel workers.\n"
                    ]
                },
                {
                    "data": {
                        "application/vnd.jupyter.widget-view+json": {
                            "model_id": "7e8c072f47064a17ac992a0884b726a8",
                            "version_major": 2,
                            "version_minor": 0
                        },
                        "text/plain": [
                            "    - Epochs:   0%|          | 0/20 [00:00<?, ?it/s]"
                        ]
                    },
                    "metadata": {},
                    "output_type": "display_data"
                },
                {
                    "name": "stdout",
                    "output_type": "stream",
                    "text": [
                        "    - Fold finished. Best validation loss: 0.013853 at epoch 2\n",
                        "INFO: DataLoader will use 8 parallel workers.\n"
                    ]
                },
                {
                    "data": {
                        "application/vnd.jupyter.widget-view+json": {
                            "model_id": "4c8c169f370e4aec983f7982aea682ba",
                            "version_major": 2,
                            "version_minor": 0
                        },
                        "text/plain": [
                            "    - Epochs:   0%|          | 0/20 [00:00<?, ?it/s]"
                        ]
                    },
                    "metadata": {},
                    "output_type": "display_data"
                },
                {
                    "name": "stdout",
                    "output_type": "stream",
                    "text": [
                        "    - Fold finished. Best validation loss: 0.004937 at epoch 5\n",
                        "INFO: DataLoader will use 8 parallel workers.\n"
                    ]
                },
                {
                    "data": {
                        "application/vnd.jupyter.widget-view+json": {
                            "model_id": "d215a39d739047cb87438bb30d383ec6",
                            "version_major": 2,
                            "version_minor": 0
                        },
                        "text/plain": [
                            "    - Epochs:   0%|          | 0/20 [00:00<?, ?it/s]"
                        ]
                    },
                    "metadata": {},
                    "output_type": "display_data"
                },
                {
                    "name": "stdout",
                    "output_type": "stream",
                    "text": [
                        "    - Fold finished. Best validation loss: 0.004682 at epoch 1\n",
                        "INFO: DataLoader will use 8 parallel workers.\n"
                    ]
                },
                {
                    "data": {
                        "application/vnd.jupyter.widget-view+json": {
                            "model_id": "7a74ab0f1bbd4794bedfc80aecdb27dc",
                            "version_major": 2,
                            "version_minor": 0
                        },
                        "text/plain": [
                            "    - Epochs:   0%|          | 0/20 [00:00<?, ?it/s]"
                        ]
                    },
                    "metadata": {},
                    "output_type": "display_data"
                },
                {
                    "name": "stdout",
                    "output_type": "stream",
                    "text": [
                        "    - Fold finished. Best validation loss: 0.006217 at epoch 1\n",
                        "INFO: DataLoader will use 8 parallel workers.\n"
                    ]
                },
                {
                    "data": {
                        "application/vnd.jupyter.widget-view+json": {
                            "model_id": "b255a65d9ee74e9aa0c54a96122ab5e1",
                            "version_major": 2,
                            "version_minor": 0
                        },
                        "text/plain": [
                            "    - Epochs:   0%|          | 0/20 [00:00<?, ?it/s]"
                        ]
                    },
                    "metadata": {},
                    "output_type": "display_data"
                },
                {
                    "name": "stdout",
                    "output_type": "stream",
                    "text": [
                        "    - Fold finished. Best validation loss: 0.002864 at epoch 1\n",
                        "INFO: DataLoader will use 8 parallel workers.\n"
                    ]
                },
                {
                    "data": {
                        "application/vnd.jupyter.widget-view+json": {
                            "model_id": "e1ef5eb8ad684332bd24b02410169507",
                            "version_major": 2,
                            "version_minor": 0
                        },
                        "text/plain": [
                            "    - Epochs:   0%|          | 0/20 [00:00<?, ?it/s]"
                        ]
                    },
                    "metadata": {},
                    "output_type": "display_data"
                },
                {
                    "name": "stdout",
                    "output_type": "stream",
                    "text": [
                        "    - Fold finished. Best validation loss: 0.002220 at epoch 3\n",
                        "INFO: DataLoader will use 8 parallel workers.\n"
                    ]
                },
                {
                    "data": {
                        "application/vnd.jupyter.widget-view+json": {
                            "model_id": "c8858af796614371abe492e34b628e99",
                            "version_major": 2,
                            "version_minor": 0
                        },
                        "text/plain": [
                            "    - Epochs:   0%|          | 0/20 [00:00<?, ?it/s]"
                        ]
                    },
                    "metadata": {},
                    "output_type": "display_data"
                },
                {
                    "name": "stdout",
                    "output_type": "stream",
                    "text": [
                        "    - Fold finished. Best validation loss: 0.026863 at epoch 2\n",
                        "INFO: DataLoader will use 8 parallel workers.\n"
                    ]
                },
                {
                    "data": {
                        "application/vnd.jupyter.widget-view+json": {
                            "model_id": "4c3644ff59954e04ab12d87a66b5166f",
                            "version_major": 2,
                            "version_minor": 0
                        },
                        "text/plain": [
                            "    - Epochs:   0%|          | 0/20 [00:00<?, ?it/s]"
                        ]
                    },
                    "metadata": {},
                    "output_type": "display_data"
                },
                {
                    "name": "stdout",
                    "output_type": "stream",
                    "text": [
                        "    - Fold finished. Best validation loss: 0.006244 at epoch 2\n",
                        "INFO: DataLoader will use 8 parallel workers.\n"
                    ]
                },
                {
                    "data": {
                        "application/vnd.jupyter.widget-view+json": {
                            "model_id": "61aa5e5abbc64d34a34ede7e168c5579",
                            "version_major": 2,
                            "version_minor": 0
                        },
                        "text/plain": [
                            "    - Epochs:   0%|          | 0/20 [00:00<?, ?it/s]"
                        ]
                    },
                    "metadata": {},
                    "output_type": "display_data"
                },
                {
                    "name": "stdout",
                    "output_type": "stream",
                    "text": [
                        "    - Fold finished. Best validation loss: 0.001419 at epoch 12\n",
                        "INFO: DataLoader will use 8 parallel workers.\n"
                    ]
                },
                {
                    "data": {
                        "application/vnd.jupyter.widget-view+json": {
                            "model_id": "b9dc01a8ce7c43d1a839b1c7037a12d5",
                            "version_major": 2,
                            "version_minor": 0
                        },
                        "text/plain": [
                            "    - Epochs:   0%|          | 0/20 [00:00<?, ?it/s]"
                        ]
                    },
                    "metadata": {},
                    "output_type": "display_data"
                },
                {
                    "name": "stdout",
                    "output_type": "stream",
                    "text": [
                        "    - Fold finished. Best validation loss: 0.013634 at epoch 1\n",
                        "INFO: DataLoader will use 8 parallel workers.\n"
                    ]
                },
                {
                    "data": {
                        "application/vnd.jupyter.widget-view+json": {
                            "model_id": "74a118780cde47599d6e178e9e23dd4a",
                            "version_major": 2,
                            "version_minor": 0
                        },
                        "text/plain": [
                            "    - Epochs:   0%|          | 0/20 [00:00<?, ?it/s]"
                        ]
                    },
                    "metadata": {},
                    "output_type": "display_data"
                },
                {
                    "name": "stdout",
                    "output_type": "stream",
                    "text": [
                        "    - Fold finished. Best validation loss: 0.000785 at epoch 1\n",
                        "INFO: DataLoader will use 8 parallel workers.\n"
                    ]
                },
                {
                    "data": {
                        "application/vnd.jupyter.widget-view+json": {
                            "model_id": "1f6166dd56e142d2a9150442db0fdc41",
                            "version_major": 2,
                            "version_minor": 0
                        },
                        "text/plain": [
                            "    - Epochs:   0%|          | 0/20 [00:00<?, ?it/s]"
                        ]
                    },
                    "metadata": {},
                    "output_type": "display_data"
                },
                {
                    "name": "stdout",
                    "output_type": "stream",
                    "text": [
                        "    - Fold finished. Best validation loss: 0.003336 at epoch 8\n",
                        "INFO: DataLoader will use 8 parallel workers.\n"
                    ]
                },
                {
                    "data": {
                        "application/vnd.jupyter.widget-view+json": {
                            "model_id": "35715b7b2d47426fb91b1536145f7eed",
                            "version_major": 2,
                            "version_minor": 0
                        },
                        "text/plain": [
                            "    - Epochs:   0%|          | 0/20 [00:00<?, ?it/s]"
                        ]
                    },
                    "metadata": {},
                    "output_type": "display_data"
                },
                {
                    "name": "stdout",
                    "output_type": "stream",
                    "text": [
                        "    - Fold finished. Best validation loss: 0.001003 at epoch 1\n",
                        "SUCCESS: Out-of-Fold predictions saved to models\\002083.SZ\\lstm_oof_preds.csv\n",
                        "INFO: Training final model for 孚日股份 (002083.SZ) on all data...\n"
                    ]
                },
                {
                    "data": {
                        "application/vnd.jupyter.widget-view+json": {
                            "model_id": "6d398863176a4388b9ff8ac7fab00ee3",
                            "version_major": 2,
                            "version_minor": 0
                        },
                        "text/plain": [
                            "    - Final Model Epochs:   0%|          | 0/10 [00:00<?, ?it/s]"
                        ]
                    },
                    "metadata": {},
                    "output_type": "display_data"
                },
                {
                    "name": "stdout",
                    "output_type": "stream",
                    "text": [
                        "\n",
                        "================================================================================\n",
                        "--- Starting LGBM training for 宜华健康 (000150.SZ) ---\n",
                        "INFO: Starting Walk-Forward validation for 宜华健康 across 37 folds...\n"
                    ]
                },
                {
                    "data": {
                        "application/vnd.jupyter.widget-view+json": {
                            "model_id": "2674ad3e7e0348f19a6364840983427b",
                            "version_major": 2,
                            "version_minor": 0
                        },
                        "text/plain": [
                            "Training LGBM on 宜华健康:   0%|          | 0/37 [00:00<?, ?it/s]"
                        ]
                    },
                    "metadata": {},
                    "output_type": "display_data"
                },
                {
                    "name": "stdout",
                    "output_type": "stream",
                    "text": [
                        "    - Quantile 0.05: Finished. Best iter: [1]\n",
                        "    - Quantile 0.5: Finished. Best iter: [1]\n",
                        "    - Quantile 0.95: Finished. Best iter: [1]\n",
                        "    - Quantile 0.05: Finished. Best iter: [153]\n",
                        "    - Quantile 0.5: Finished. Best iter: [12196]\n",
                        "    - Quantile 0.95: Finished. Best iter: [1]\n",
                        "    - Quantile 0.05: Finished. Best iter: [22]\n",
                        "    - Quantile 0.5: Finished. Best iter: [39]\n",
                        "    - Quantile 0.95: Finished. Best iter: [39]\n",
                        "    - Quantile 0.05: Finished. Best iter: [4]\n",
                        "    - Quantile 0.5: Finished. Best iter: [1]\n",
                        "    - Quantile 0.95: Finished. Best iter: [1]\n",
                        "    - Quantile 0.05: Finished. Best iter: [22]\n",
                        "    - Quantile 0.5: Finished. Best iter: [22]\n",
                        "    - Quantile 0.95: Finished. Best iter: [8]\n",
                        "    - Quantile 0.05: Finished. Best iter: [4]\n",
                        "    - Quantile 0.5: Finished. Best iter: [4]\n",
                        "    - Quantile 0.95: Finished. Best iter: [1]\n",
                        "    - Quantile 0.05: Finished. Best iter: [19500]\n",
                        "    - Quantile 0.5: Finished. Best iter: [19500]\n",
                        "    - Quantile 0.95: Finished. Best iter: [19500]\n",
                        "    - Quantile 0.05: Finished. Best iter: [1]\n",
                        "    - Quantile 0.5: Finished. Best iter: [40]\n",
                        "    - Quantile 0.95: Finished. Best iter: [40]\n",
                        "    - Quantile 0.05: Finished. Best iter: [1]\n",
                        "    - Quantile 0.5: Finished. Best iter: [1]\n",
                        "    - Quantile 0.95: Finished. Best iter: [1]\n"
                    ]
                },
                {
                    "name": "stderr",
                    "output_type": "stream",
                    "text": [
                        "d:\\Project\\Command\\Python\\Neural\\Wolf_of_Wall_Street\\.venv\\Lib\\site-packages\\pandas\\core\\nanops.py:1632: ConstantInputWarning: An input array is constant; the correlation coefficient is not defined.\n",
                        "  return spearmanr(a, b)[0]\n"
                    ]
                },
                {
                    "name": "stdout",
                    "output_type": "stream",
                    "text": [
                        "    - Quantile 0.05: Finished. Best iter: [9]\n",
                        "    - Quantile 0.5: Finished. Best iter: [9]\n",
                        "    - Quantile 0.95: Finished. Best iter: [1]\n",
                        "    - Quantile 0.05: Finished. Best iter: [35]\n",
                        "    - Quantile 0.5: Finished. Best iter: [30]\n",
                        "    - Quantile 0.95: Finished. Best iter: [17]\n",
                        "    - Quantile 0.05: Finished. Best iter: [24]\n",
                        "    - Quantile 0.5: Finished. Best iter: [24]\n",
                        "    - Quantile 0.95: Finished. Best iter: [1]\n",
                        "    - Quantile 0.05: Finished. Best iter: [94]\n",
                        "    - Quantile 0.5: Finished. Best iter: [94]\n",
                        "    - Quantile 0.95: Finished. Best iter: [94]\n",
                        "    - Quantile 0.05: Finished. Best iter: [255]\n",
                        "    - Quantile 0.5: Finished. Best iter: [255]\n",
                        "    - Quantile 0.95: Finished. Best iter: [255]\n",
                        "    - Quantile 0.05: Finished. Best iter: [8]\n",
                        "    - Quantile 0.5: Finished. Best iter: [8]\n",
                        "    - Quantile 0.95: Finished. Best iter: [1]\n",
                        "    - Quantile 0.05: Finished. Best iter: [21]\n",
                        "    - Quantile 0.5: Finished. Best iter: [16]\n",
                        "    - Quantile 0.95: Finished. Best iter: [1]\n",
                        "    - Quantile 0.05: Finished. Best iter: [386]\n",
                        "    - Quantile 0.5: Finished. Best iter: [18666]\n",
                        "    - Quantile 0.95: Finished. Best iter: [1]\n",
                        "    - Quantile 0.05: Finished. Best iter: [147]\n",
                        "    - Quantile 0.5: Finished. Best iter: [147]\n",
                        "    - Quantile 0.95: Finished. Best iter: [1]\n",
                        "    - Quantile 0.05: Finished. Best iter: [9884]\n",
                        "    - Quantile 0.5: Finished. Best iter: [10507]\n",
                        "    - Quantile 0.95: Finished. Best iter: [981]\n",
                        "    - Quantile 0.05: Finished. Best iter: [14]\n",
                        "    - Quantile 0.5: Finished. Best iter: [19]\n",
                        "    - Quantile 0.95: Finished. Best iter: [38]\n",
                        "    - Quantile 0.05: Finished. Best iter: [1]\n",
                        "    - Quantile 0.5: Finished. Best iter: [1]\n",
                        "    - Quantile 0.95: Finished. Best iter: [1]\n",
                        "    - Quantile 0.05: Finished. Best iter: [1]\n",
                        "    - Quantile 0.5: Finished. Best iter: [1]\n",
                        "    - Quantile 0.95: Finished. Best iter: [1]\n"
                    ]
                },
                {
                    "name": "stderr",
                    "output_type": "stream",
                    "text": [
                        "d:\\Project\\Command\\Python\\Neural\\Wolf_of_Wall_Street\\.venv\\Lib\\site-packages\\pandas\\core\\nanops.py:1632: ConstantInputWarning: An input array is constant; the correlation coefficient is not defined.\n",
                        "  return spearmanr(a, b)[0]\n"
                    ]
                },
                {
                    "name": "stdout",
                    "output_type": "stream",
                    "text": [
                        "    - Quantile 0.05: Finished. Best iter: [18685]\n",
                        "    - Quantile 0.5: Finished. Best iter: [19989]\n",
                        "    - Quantile 0.95: Finished. Best iter: [178]\n",
                        "    - Quantile 0.05: Finished. Best iter: [1]\n",
                        "    - Quantile 0.5: Finished. Best iter: [1]\n",
                        "    - Quantile 0.95: Finished. Best iter: [1]\n"
                    ]
                },
                {
                    "name": "stderr",
                    "output_type": "stream",
                    "text": [
                        "d:\\Project\\Command\\Python\\Neural\\Wolf_of_Wall_Street\\.venv\\Lib\\site-packages\\pandas\\core\\nanops.py:1632: ConstantInputWarning: An input array is constant; the correlation coefficient is not defined.\n",
                        "  return spearmanr(a, b)[0]\n"
                    ]
                },
                {
                    "name": "stdout",
                    "output_type": "stream",
                    "text": [
                        "    - Quantile 0.05: Finished. Best iter: [225]\n",
                        "    - Quantile 0.5: Finished. Best iter: [192]\n",
                        "    - Quantile 0.95: Finished. Best iter: [192]\n",
                        "    - Quantile 0.05: Finished. Best iter: [2326]\n",
                        "    - Quantile 0.5: Finished. Best iter: [4232]\n",
                        "    - Quantile 0.95: Finished. Best iter: [2719]\n",
                        "    - Quantile 0.05: Finished. Best iter: [14]\n",
                        "    - Quantile 0.5: Finished. Best iter: [14]\n",
                        "    - Quantile 0.95: Finished. Best iter: [1]\n",
                        "    - Quantile 0.05: Finished. Best iter: [211]\n",
                        "    - Quantile 0.5: Finished. Best iter: [223]\n",
                        "    - Quantile 0.95: Finished. Best iter: [211]\n",
                        "    - Quantile 0.05: Finished. Best iter: [4231]\n",
                        "    - Quantile 0.5: Finished. Best iter: [63]\n",
                        "    - Quantile 0.95: Finished. Best iter: [2]\n",
                        "    - Quantile 0.05: Finished. Best iter: [1]\n",
                        "    - Quantile 0.5: Finished. Best iter: [1]\n",
                        "    - Quantile 0.95: Finished. Best iter: [1]\n",
                        "    - Quantile 0.05: Finished. Best iter: [1]\n",
                        "    - Quantile 0.5: Finished. Best iter: [1]\n",
                        "    - Quantile 0.95: Finished. Best iter: [1]\n",
                        "    - Quantile 0.05: Finished. Best iter: [1]\n",
                        "    - Quantile 0.5: Finished. Best iter: [1]\n",
                        "    - Quantile 0.95: Finished. Best iter: [1]\n"
                    ]
                },
                {
                    "name": "stderr",
                    "output_type": "stream",
                    "text": [
                        "d:\\Project\\Command\\Python\\Neural\\Wolf_of_Wall_Street\\.venv\\Lib\\site-packages\\pandas\\core\\nanops.py:1632: ConstantInputWarning: An input array is constant; the correlation coefficient is not defined.\n",
                        "  return spearmanr(a, b)[0]\n"
                    ]
                },
                {
                    "name": "stdout",
                    "output_type": "stream",
                    "text": [
                        "    - Quantile 0.05: Finished. Best iter: [2]\n",
                        "    - Quantile 0.5: Finished. Best iter: [6]\n",
                        "    - Quantile 0.95: Finished. Best iter: [6]\n",
                        "    - Quantile 0.05: Finished. Best iter: [1]\n",
                        "    - Quantile 0.5: Finished. Best iter: [1]\n",
                        "    - Quantile 0.95: Finished. Best iter: [1]\n",
                        "    - Quantile 0.05: Finished. Best iter: [1]\n",
                        "    - Quantile 0.5: Finished. Best iter: [1]\n",
                        "    - Quantile 0.95: Finished. Best iter: [1]\n"
                    ]
                },
                {
                    "name": "stderr",
                    "output_type": "stream",
                    "text": [
                        "d:\\Project\\Command\\Python\\Neural\\Wolf_of_Wall_Street\\.venv\\Lib\\site-packages\\pandas\\core\\nanops.py:1632: ConstantInputWarning: An input array is constant; the correlation coefficient is not defined.\n",
                        "  return spearmanr(a, b)[0]\n"
                    ]
                },
                {
                    "name": "stdout",
                    "output_type": "stream",
                    "text": [
                        "    - Quantile 0.05: Finished. Best iter: [140]\n",
                        "    - Quantile 0.5: Finished. Best iter: [157]\n",
                        "    - Quantile 0.95: Finished. Best iter: [178]\n",
                        "    - Quantile 0.05: Finished. Best iter: [1]\n",
                        "    - Quantile 0.5: Finished. Best iter: [1]\n",
                        "    - Quantile 0.95: Finished. Best iter: [1]\n",
                        "SUCCESS: Out-of-Fold predictions saved to models\\000150.SZ\\lgbm_oof_preds.csv\n",
                        "INFO: Training final model for 宜华健康 (000150.SZ) on all data...\n"
                    ]
                },
                {
                    "name": "stderr",
                    "output_type": "stream",
                    "text": [
                        "d:\\Project\\Command\\Python\\Neural\\Wolf_of_Wall_Street\\.venv\\Lib\\site-packages\\pandas\\core\\nanops.py:1632: ConstantInputWarning: An input array is constant; the correlation coefficient is not defined.\n",
                        "  return spearmanr(a, b)[0]\n"
                    ]
                },
                {
                    "name": "stdout",
                    "output_type": "stream",
                    "text": [
                        "\n",
                        "================================================================================\n",
                        "--- Starting LSTM training for 宜华健康 (000150.SZ) ---\n",
                        "INFO: PyTorch LSTMBuilder will use device: CUDA\n",
                        "INFO: Starting Walk-Forward validation for 宜华健康 across 37 folds...\n"
                    ]
                },
                {
                    "data": {
                        "application/vnd.jupyter.widget-view+json": {
                            "model_id": "ad35491828f047bc9c9a0b737301688a",
                            "version_major": 2,
                            "version_minor": 0
                        },
                        "text/plain": [
                            "Training LSTM on 宜华健康:   0%|          | 0/37 [00:00<?, ?it/s]"
                        ]
                    },
                    "metadata": {},
                    "output_type": "display_data"
                },
                {
                    "name": "stdout",
                    "output_type": "stream",
                    "text": [
                        "INFO: DataLoader will use 8 parallel workers.\n"
                    ]
                },
                {
                    "data": {
                        "application/vnd.jupyter.widget-view+json": {
                            "model_id": "7aebccbf89ab40cdbbb338ee5220a5e4",
                            "version_major": 2,
                            "version_minor": 0
                        },
                        "text/plain": [
                            "    - Epochs:   0%|          | 0/20 [00:00<?, ?it/s]"
                        ]
                    },
                    "metadata": {},
                    "output_type": "display_data"
                },
                {
                    "name": "stdout",
                    "output_type": "stream",
                    "text": [
                        "    - Fold finished. Best validation loss: 0.014989 at epoch 10\n",
                        "INFO: DataLoader will use 8 parallel workers.\n"
                    ]
                },
                {
                    "data": {
                        "application/vnd.jupyter.widget-view+json": {
                            "model_id": "4b6ea2eb43b144129ce5914864402c32",
                            "version_major": 2,
                            "version_minor": 0
                        },
                        "text/plain": [
                            "    - Epochs:   0%|          | 0/20 [00:00<?, ?it/s]"
                        ]
                    },
                    "metadata": {},
                    "output_type": "display_data"
                },
                {
                    "name": "stdout",
                    "output_type": "stream",
                    "text": [
                        "    - Fold finished. Best validation loss: 0.021903 at epoch 3\n",
                        "INFO: DataLoader will use 8 parallel workers.\n"
                    ]
                },
                {
                    "data": {
                        "application/vnd.jupyter.widget-view+json": {
                            "model_id": "e22dac6d7e5e4e7490d5624e3188f4b5",
                            "version_major": 2,
                            "version_minor": 0
                        },
                        "text/plain": [
                            "    - Epochs:   0%|          | 0/20 [00:00<?, ?it/s]"
                        ]
                    },
                    "metadata": {},
                    "output_type": "display_data"
                },
                {
                    "name": "stdout",
                    "output_type": "stream",
                    "text": [
                        "    - Fold finished. Best validation loss: 0.003393 at epoch 4\n",
                        "INFO: DataLoader will use 8 parallel workers.\n"
                    ]
                },
                {
                    "data": {
                        "application/vnd.jupyter.widget-view+json": {
                            "model_id": "e42581048d854160bca9113f60012153",
                            "version_major": 2,
                            "version_minor": 0
                        },
                        "text/plain": [
                            "    - Epochs:   0%|          | 0/20 [00:00<?, ?it/s]"
                        ]
                    },
                    "metadata": {},
                    "output_type": "display_data"
                },
                {
                    "name": "stdout",
                    "output_type": "stream",
                    "text": [
                        "    - Fold finished. Best validation loss: 0.002313 at epoch 9\n",
                        "INFO: DataLoader will use 8 parallel workers.\n"
                    ]
                },
                {
                    "data": {
                        "application/vnd.jupyter.widget-view+json": {
                            "model_id": "0297f2d9390148db84bc52dee2f13c44",
                            "version_major": 2,
                            "version_minor": 0
                        },
                        "text/plain": [
                            "    - Epochs:   0%|          | 0/20 [00:00<?, ?it/s]"
                        ]
                    },
                    "metadata": {},
                    "output_type": "display_data"
                },
                {
                    "name": "stdout",
                    "output_type": "stream",
                    "text": [
                        "    - Fold finished. Best validation loss: 0.002585 at epoch 3\n",
                        "INFO: DataLoader will use 8 parallel workers.\n"
                    ]
                },
                {
                    "data": {
                        "application/vnd.jupyter.widget-view+json": {
                            "model_id": "cbe1a743cfc04bafb45c23361ac162e8",
                            "version_major": 2,
                            "version_minor": 0
                        },
                        "text/plain": [
                            "    - Epochs:   0%|          | 0/20 [00:00<?, ?it/s]"
                        ]
                    },
                    "metadata": {},
                    "output_type": "display_data"
                },
                {
                    "name": "stdout",
                    "output_type": "stream",
                    "text": [
                        "    - Fold finished. Best validation loss: 0.080634 at epoch 3\n",
                        "INFO: DataLoader will use 8 parallel workers.\n"
                    ]
                },
                {
                    "data": {
                        "application/vnd.jupyter.widget-view+json": {
                            "model_id": "d2a96b2e57df4457a32cd3c2b3dc30e3",
                            "version_major": 2,
                            "version_minor": 0
                        },
                        "text/plain": [
                            "    - Epochs:   0%|          | 0/20 [00:00<?, ?it/s]"
                        ]
                    },
                    "metadata": {},
                    "output_type": "display_data"
                },
                {
                    "name": "stdout",
                    "output_type": "stream",
                    "text": [
                        "    - Fold finished. Best validation loss: 0.071273 at epoch 8\n",
                        "INFO: DataLoader will use 8 parallel workers.\n"
                    ]
                },
                {
                    "data": {
                        "application/vnd.jupyter.widget-view+json": {
                            "model_id": "e95b13fabc67424eb862d95a431105f0",
                            "version_major": 2,
                            "version_minor": 0
                        },
                        "text/plain": [
                            "    - Epochs:   0%|          | 0/20 [00:00<?, ?it/s]"
                        ]
                    },
                    "metadata": {},
                    "output_type": "display_data"
                },
                {
                    "name": "stdout",
                    "output_type": "stream",
                    "text": [
                        "    - Fold finished. Best validation loss: 0.064711 at epoch 2\n",
                        "INFO: DataLoader will use 8 parallel workers.\n"
                    ]
                },
                {
                    "data": {
                        "application/vnd.jupyter.widget-view+json": {
                            "model_id": "2ad7fecf40af42f782baa34e3fcbbd1d",
                            "version_major": 2,
                            "version_minor": 0
                        },
                        "text/plain": [
                            "    - Epochs:   0%|          | 0/20 [00:00<?, ?it/s]"
                        ]
                    },
                    "metadata": {},
                    "output_type": "display_data"
                },
                {
                    "name": "stdout",
                    "output_type": "stream",
                    "text": [
                        "    - Fold finished. Best validation loss: 0.158554 at epoch 1\n",
                        "INFO: DataLoader will use 8 parallel workers.\n"
                    ]
                },
                {
                    "data": {
                        "application/vnd.jupyter.widget-view+json": {
                            "model_id": "62a62d314f024a73b8ee6414eb1d60db",
                            "version_major": 2,
                            "version_minor": 0
                        },
                        "text/plain": [
                            "    - Epochs:   0%|          | 0/20 [00:00<?, ?it/s]"
                        ]
                    },
                    "metadata": {},
                    "output_type": "display_data"
                },
                {
                    "name": "stdout",
                    "output_type": "stream",
                    "text": [
                        "    - Fold finished. Best validation loss: 0.026117 at epoch 6\n",
                        "INFO: DataLoader will use 8 parallel workers.\n"
                    ]
                },
                {
                    "data": {
                        "application/vnd.jupyter.widget-view+json": {
                            "model_id": "ecbe65fda2334a64b5332f8280426202",
                            "version_major": 2,
                            "version_minor": 0
                        },
                        "text/plain": [
                            "    - Epochs:   0%|          | 0/20 [00:00<?, ?it/s]"
                        ]
                    },
                    "metadata": {},
                    "output_type": "display_data"
                },
                {
                    "name": "stdout",
                    "output_type": "stream",
                    "text": [
                        "    - Fold finished. Best validation loss: 0.009811 at epoch 3\n",
                        "INFO: DataLoader will use 8 parallel workers.\n"
                    ]
                },
                {
                    "data": {
                        "application/vnd.jupyter.widget-view+json": {
                            "model_id": "7ef71aa000894d78a7477bbf8339fb51",
                            "version_major": 2,
                            "version_minor": 0
                        },
                        "text/plain": [
                            "    - Epochs:   0%|          | 0/20 [00:00<?, ?it/s]"
                        ]
                    },
                    "metadata": {},
                    "output_type": "display_data"
                },
                {
                    "name": "stdout",
                    "output_type": "stream",
                    "text": [
                        "    - Fold finished. Best validation loss: 0.009209 at epoch 2\n",
                        "INFO: DataLoader will use 8 parallel workers.\n"
                    ]
                },
                {
                    "data": {
                        "application/vnd.jupyter.widget-view+json": {
                            "model_id": "716e95efbf0744fba550e5b2e1b5dadb",
                            "version_major": 2,
                            "version_minor": 0
                        },
                        "text/plain": [
                            "    - Epochs:   0%|          | 0/20 [00:00<?, ?it/s]"
                        ]
                    },
                    "metadata": {},
                    "output_type": "display_data"
                },
                {
                    "name": "stdout",
                    "output_type": "stream",
                    "text": [
                        "    - Fold finished. Best validation loss: 0.002312 at epoch 2\n",
                        "INFO: DataLoader will use 8 parallel workers.\n"
                    ]
                },
                {
                    "data": {
                        "application/vnd.jupyter.widget-view+json": {
                            "model_id": "48d8dfdbfe17414487ef84bcfe3e90dd",
                            "version_major": 2,
                            "version_minor": 0
                        },
                        "text/plain": [
                            "    - Epochs:   0%|          | 0/20 [00:00<?, ?it/s]"
                        ]
                    },
                    "metadata": {},
                    "output_type": "display_data"
                },
                {
                    "name": "stdout",
                    "output_type": "stream",
                    "text": [
                        "    - Fold finished. Best validation loss: 0.003871 at epoch 2\n",
                        "INFO: DataLoader will use 8 parallel workers.\n"
                    ]
                },
                {
                    "data": {
                        "application/vnd.jupyter.widget-view+json": {
                            "model_id": "ae9e9cd2bf034c5baf0135316ab57909",
                            "version_major": 2,
                            "version_minor": 0
                        },
                        "text/plain": [
                            "    - Epochs:   0%|          | 0/20 [00:00<?, ?it/s]"
                        ]
                    },
                    "metadata": {},
                    "output_type": "display_data"
                },
                {
                    "name": "stdout",
                    "output_type": "stream",
                    "text": [
                        "    - Fold finished. Best validation loss: 0.006644 at epoch 1\n",
                        "INFO: DataLoader will use 8 parallel workers.\n"
                    ]
                },
                {
                    "data": {
                        "application/vnd.jupyter.widget-view+json": {
                            "model_id": "1f66195cb7ef41bb8acfeab8c168f607",
                            "version_major": 2,
                            "version_minor": 0
                        },
                        "text/plain": [
                            "    - Epochs:   0%|          | 0/20 [00:00<?, ?it/s]"
                        ]
                    },
                    "metadata": {},
                    "output_type": "display_data"
                },
                {
                    "name": "stdout",
                    "output_type": "stream",
                    "text": [
                        "    - Fold finished. Best validation loss: 0.002248 at epoch 1\n",
                        "INFO: DataLoader will use 8 parallel workers.\n"
                    ]
                },
                {
                    "data": {
                        "application/vnd.jupyter.widget-view+json": {
                            "model_id": "8423ffe845e4414fbc22e356717cffef",
                            "version_major": 2,
                            "version_minor": 0
                        },
                        "text/plain": [
                            "    - Epochs:   0%|          | 0/20 [00:00<?, ?it/s]"
                        ]
                    },
                    "metadata": {},
                    "output_type": "display_data"
                },
                {
                    "name": "stdout",
                    "output_type": "stream",
                    "text": [
                        "    - Fold finished. Best validation loss: 0.003633 at epoch 8\n",
                        "INFO: DataLoader will use 8 parallel workers.\n"
                    ]
                },
                {
                    "data": {
                        "application/vnd.jupyter.widget-view+json": {
                            "model_id": "be52934cadd54676beec05f0d755feb5",
                            "version_major": 2,
                            "version_minor": 0
                        },
                        "text/plain": [
                            "    - Epochs:   0%|          | 0/20 [00:00<?, ?it/s]"
                        ]
                    },
                    "metadata": {},
                    "output_type": "display_data"
                },
                {
                    "name": "stdout",
                    "output_type": "stream",
                    "text": [
                        "    - Fold finished. Best validation loss: 0.002973 at epoch 1\n",
                        "INFO: DataLoader will use 8 parallel workers.\n"
                    ]
                },
                {
                    "data": {
                        "application/vnd.jupyter.widget-view+json": {
                            "model_id": "54d4f1503ab741a384feda35d678e2d1",
                            "version_major": 2,
                            "version_minor": 0
                        },
                        "text/plain": [
                            "    - Epochs:   0%|          | 0/20 [00:00<?, ?it/s]"
                        ]
                    },
                    "metadata": {},
                    "output_type": "display_data"
                },
                {
                    "name": "stdout",
                    "output_type": "stream",
                    "text": [
                        "    - Fold finished. Best validation loss: 0.007642 at epoch 1\n",
                        "INFO: DataLoader will use 8 parallel workers.\n"
                    ]
                },
                {
                    "data": {
                        "application/vnd.jupyter.widget-view+json": {
                            "model_id": "b6c415fb35d947be894e91090e12a15b",
                            "version_major": 2,
                            "version_minor": 0
                        },
                        "text/plain": [
                            "    - Epochs:   0%|          | 0/20 [00:00<?, ?it/s]"
                        ]
                    },
                    "metadata": {},
                    "output_type": "display_data"
                },
                {
                    "name": "stdout",
                    "output_type": "stream",
                    "text": [
                        "    - Fold finished. Best validation loss: 0.024279 at epoch 1\n",
                        "INFO: DataLoader will use 8 parallel workers.\n"
                    ]
                },
                {
                    "data": {
                        "application/vnd.jupyter.widget-view+json": {
                            "model_id": "d4da984de7e440c98742ebff35f6ea17",
                            "version_major": 2,
                            "version_minor": 0
                        },
                        "text/plain": [
                            "    - Epochs:   0%|          | 0/20 [00:00<?, ?it/s]"
                        ]
                    },
                    "metadata": {},
                    "output_type": "display_data"
                },
                {
                    "name": "stdout",
                    "output_type": "stream",
                    "text": [
                        "    - Fold finished. Best validation loss: 0.042317 at epoch 1\n",
                        "INFO: DataLoader will use 8 parallel workers.\n"
                    ]
                },
                {
                    "data": {
                        "application/vnd.jupyter.widget-view+json": {
                            "model_id": "52ceb4b638fa4780ba042a27366b2340",
                            "version_major": 2,
                            "version_minor": 0
                        },
                        "text/plain": [
                            "    - Epochs:   0%|          | 0/20 [00:00<?, ?it/s]"
                        ]
                    },
                    "metadata": {},
                    "output_type": "display_data"
                },
                {
                    "name": "stdout",
                    "output_type": "stream",
                    "text": [
                        "    - Fold finished. Best validation loss: 0.068773 at epoch 4\n",
                        "INFO: DataLoader will use 8 parallel workers.\n"
                    ]
                },
                {
                    "data": {
                        "application/vnd.jupyter.widget-view+json": {
                            "model_id": "1d9b68e5c9f04d898f0313064393089b",
                            "version_major": 2,
                            "version_minor": 0
                        },
                        "text/plain": [
                            "    - Epochs:   0%|          | 0/20 [00:00<?, ?it/s]"
                        ]
                    },
                    "metadata": {},
                    "output_type": "display_data"
                },
                {
                    "name": "stdout",
                    "output_type": "stream",
                    "text": [
                        "    - Fold finished. Best validation loss: 0.043155 at epoch 2\n",
                        "INFO: DataLoader will use 8 parallel workers.\n"
                    ]
                },
                {
                    "data": {
                        "application/vnd.jupyter.widget-view+json": {
                            "model_id": "33a597d39cc14a958909c5da8a547c83",
                            "version_major": 2,
                            "version_minor": 0
                        },
                        "text/plain": [
                            "    - Epochs:   0%|          | 0/20 [00:00<?, ?it/s]"
                        ]
                    },
                    "metadata": {},
                    "output_type": "display_data"
                },
                {
                    "name": "stdout",
                    "output_type": "stream",
                    "text": [
                        "    - Fold finished. Best validation loss: 0.009827 at epoch 1\n",
                        "INFO: DataLoader will use 8 parallel workers.\n"
                    ]
                },
                {
                    "data": {
                        "application/vnd.jupyter.widget-view+json": {
                            "model_id": "5bb5bdd46c1d4e238ea6ccf1121db527",
                            "version_major": 2,
                            "version_minor": 0
                        },
                        "text/plain": [
                            "    - Epochs:   0%|          | 0/20 [00:00<?, ?it/s]"
                        ]
                    },
                    "metadata": {},
                    "output_type": "display_data"
                },
                {
                    "name": "stdout",
                    "output_type": "stream",
                    "text": [
                        "    - Fold finished. Best validation loss: 0.013225 at epoch 2\n",
                        "INFO: DataLoader will use 8 parallel workers.\n"
                    ]
                },
                {
                    "data": {
                        "application/vnd.jupyter.widget-view+json": {
                            "model_id": "deb0633966e2493d97e7923755a6c529",
                            "version_major": 2,
                            "version_minor": 0
                        },
                        "text/plain": [
                            "    - Epochs:   0%|          | 0/20 [00:00<?, ?it/s]"
                        ]
                    },
                    "metadata": {},
                    "output_type": "display_data"
                },
                {
                    "name": "stdout",
                    "output_type": "stream",
                    "text": [
                        "    - Fold finished. Best validation loss: 0.031417 at epoch 2\n",
                        "INFO: DataLoader will use 8 parallel workers.\n"
                    ]
                },
                {
                    "data": {
                        "application/vnd.jupyter.widget-view+json": {
                            "model_id": "28c3cc1eb11e4aabbe0cf15cd74fe24d",
                            "version_major": 2,
                            "version_minor": 0
                        },
                        "text/plain": [
                            "    - Epochs:   0%|          | 0/20 [00:00<?, ?it/s]"
                        ]
                    },
                    "metadata": {},
                    "output_type": "display_data"
                },
                {
                    "name": "stdout",
                    "output_type": "stream",
                    "text": [
                        "    - Fold finished. Best validation loss: 0.004142 at epoch 1\n",
                        "INFO: DataLoader will use 8 parallel workers.\n"
                    ]
                },
                {
                    "data": {
                        "application/vnd.jupyter.widget-view+json": {
                            "model_id": "f711565a893845a9a8eed474ccdf7ef2",
                            "version_major": 2,
                            "version_minor": 0
                        },
                        "text/plain": [
                            "    - Epochs:   0%|          | 0/20 [00:00<?, ?it/s]"
                        ]
                    },
                    "metadata": {},
                    "output_type": "display_data"
                },
                {
                    "name": "stdout",
                    "output_type": "stream",
                    "text": [
                        "    - Fold finished. Best validation loss: 0.011542 at epoch 1\n",
                        "INFO: DataLoader will use 8 parallel workers.\n"
                    ]
                },
                {
                    "data": {
                        "application/vnd.jupyter.widget-view+json": {
                            "model_id": "7731514b470e40e3a4b15f6d8a3b9b42",
                            "version_major": 2,
                            "version_minor": 0
                        },
                        "text/plain": [
                            "    - Epochs:   0%|          | 0/20 [00:00<?, ?it/s]"
                        ]
                    },
                    "metadata": {},
                    "output_type": "display_data"
                },
                {
                    "name": "stdout",
                    "output_type": "stream",
                    "text": [
                        "    - Fold finished. Best validation loss: 0.022418 at epoch 7\n",
                        "INFO: DataLoader will use 8 parallel workers.\n"
                    ]
                },
                {
                    "data": {
                        "application/vnd.jupyter.widget-view+json": {
                            "model_id": "d6dd80c1008740f9acf8f750efba4f7e",
                            "version_major": 2,
                            "version_minor": 0
                        },
                        "text/plain": [
                            "    - Epochs:   0%|          | 0/20 [00:00<?, ?it/s]"
                        ]
                    },
                    "metadata": {},
                    "output_type": "display_data"
                },
                {
                    "name": "stdout",
                    "output_type": "stream",
                    "text": [
                        "    - Fold finished. Best validation loss: 0.294246 at epoch 1\n",
                        "INFO: DataLoader will use 8 parallel workers.\n"
                    ]
                },
                {
                    "data": {
                        "application/vnd.jupyter.widget-view+json": {
                            "model_id": "b8ec0eda67a14e9f920f61d98d41a6ab",
                            "version_major": 2,
                            "version_minor": 0
                        },
                        "text/plain": [
                            "    - Epochs:   0%|          | 0/20 [00:00<?, ?it/s]"
                        ]
                    },
                    "metadata": {},
                    "output_type": "display_data"
                },
                {
                    "name": "stdout",
                    "output_type": "stream",
                    "text": [
                        "    - Fold finished. Best validation loss: 0.002748 at epoch 11\n",
                        "INFO: DataLoader will use 8 parallel workers.\n"
                    ]
                },
                {
                    "data": {
                        "application/vnd.jupyter.widget-view+json": {
                            "model_id": "25292770fc524b908c73c95517145a65",
                            "version_major": 2,
                            "version_minor": 0
                        },
                        "text/plain": [
                            "    - Epochs:   0%|          | 0/20 [00:00<?, ?it/s]"
                        ]
                    },
                    "metadata": {},
                    "output_type": "display_data"
                },
                {
                    "name": "stdout",
                    "output_type": "stream",
                    "text": [
                        "    - Fold finished. Best validation loss: 0.028065 at epoch 1\n",
                        "INFO: DataLoader will use 8 parallel workers.\n"
                    ]
                },
                {
                    "data": {
                        "application/vnd.jupyter.widget-view+json": {
                            "model_id": "5de8240f5d054df4873ae35040a514b5",
                            "version_major": 2,
                            "version_minor": 0
                        },
                        "text/plain": [
                            "    - Epochs:   0%|          | 0/20 [00:00<?, ?it/s]"
                        ]
                    },
                    "metadata": {},
                    "output_type": "display_data"
                },
                {
                    "name": "stdout",
                    "output_type": "stream",
                    "text": [
                        "    - Fold finished. Best validation loss: 0.006435 at epoch 4\n",
                        "INFO: DataLoader will use 8 parallel workers.\n"
                    ]
                },
                {
                    "data": {
                        "application/vnd.jupyter.widget-view+json": {
                            "model_id": "ac1ff6c5899d4beea727002159ac2c8a",
                            "version_major": 2,
                            "version_minor": 0
                        },
                        "text/plain": [
                            "    - Epochs:   0%|          | 0/20 [00:00<?, ?it/s]"
                        ]
                    },
                    "metadata": {},
                    "output_type": "display_data"
                },
                {
                    "name": "stdout",
                    "output_type": "stream",
                    "text": [
                        "    - Fold finished. Best validation loss: 0.142725 at epoch 1\n",
                        "INFO: DataLoader will use 8 parallel workers.\n"
                    ]
                },
                {
                    "data": {
                        "application/vnd.jupyter.widget-view+json": {
                            "model_id": "da0d1054082c4410a13fe69a2057783b",
                            "version_major": 2,
                            "version_minor": 0
                        },
                        "text/plain": [
                            "    - Epochs:   0%|          | 0/20 [00:00<?, ?it/s]"
                        ]
                    },
                    "metadata": {},
                    "output_type": "display_data"
                },
                {
                    "name": "stdout",
                    "output_type": "stream",
                    "text": [
                        "    - Fold finished. Best validation loss: 0.023465 at epoch 1\n",
                        "INFO: DataLoader will use 8 parallel workers.\n"
                    ]
                },
                {
                    "data": {
                        "application/vnd.jupyter.widget-view+json": {
                            "model_id": "bb6752330a214ef580afc7eb41424ab1",
                            "version_major": 2,
                            "version_minor": 0
                        },
                        "text/plain": [
                            "    - Epochs:   0%|          | 0/20 [00:00<?, ?it/s]"
                        ]
                    },
                    "metadata": {},
                    "output_type": "display_data"
                },
                {
                    "name": "stdout",
                    "output_type": "stream",
                    "text": [
                        "    - Fold finished. Best validation loss: 0.022063 at epoch 2\n",
                        "INFO: DataLoader will use 8 parallel workers.\n"
                    ]
                },
                {
                    "data": {
                        "application/vnd.jupyter.widget-view+json": {
                            "model_id": "908cbc2bbf0a4c0788e55cab8393c38c",
                            "version_major": 2,
                            "version_minor": 0
                        },
                        "text/plain": [
                            "    - Epochs:   0%|          | 0/20 [00:00<?, ?it/s]"
                        ]
                    },
                    "metadata": {},
                    "output_type": "display_data"
                },
                {
                    "name": "stdout",
                    "output_type": "stream",
                    "text": [
                        "    - Fold finished. Best validation loss: 0.009661 at epoch 5\n",
                        "SUCCESS: Out-of-Fold predictions saved to models\\000150.SZ\\lstm_oof_preds.csv\n",
                        "INFO: Training final model for 宜华健康 (000150.SZ) on all data...\n"
                    ]
                },
                {
                    "data": {
                        "application/vnd.jupyter.widget-view+json": {
                            "model_id": "3ab65bf931274eb29449d9682a465d02",
                            "version_major": 2,
                            "version_minor": 0
                        },
                        "text/plain": [
                            "    - Final Model Epochs:   0%|          | 0/10 [00:00<?, ?it/s]"
                        ]
                    },
                    "metadata": {},
                    "output_type": "display_data"
                },
                {
                    "name": "stdout",
                    "output_type": "stream",
                    "text": [
                        "\n",
                        "================================================================================\n",
                        "--- Starting LGBM training for 新宁物流 (300013.SZ) ---\n",
                        "INFO: Starting Walk-Forward validation for 新宁物流 across 48 folds...\n"
                    ]
                },
                {
                    "data": {
                        "application/vnd.jupyter.widget-view+json": {
                            "model_id": "b567db6e4dec416980b38c8702a8fb0f",
                            "version_major": 2,
                            "version_minor": 0
                        },
                        "text/plain": [
                            "Training LGBM on 新宁物流:   0%|          | 0/48 [00:00<?, ?it/s]"
                        ]
                    },
                    "metadata": {},
                    "output_type": "display_data"
                },
                {
                    "name": "stdout",
                    "output_type": "stream",
                    "text": [
                        "    - Quantile 0.05: Finished. Best iter: [2]\n",
                        "    - Quantile 0.5: Finished. Best iter: [708]\n",
                        "    - Quantile 0.95: Finished. Best iter: [107]\n",
                        "    - Quantile 0.05: Finished. Best iter: [36]\n",
                        "    - Quantile 0.5: Finished. Best iter: [17]\n",
                        "    - Quantile 0.95: Finished. Best iter: [1]\n",
                        "    - Quantile 0.05: Finished. Best iter: [1279]\n",
                        "    - Quantile 0.5: Finished. Best iter: [19764]\n",
                        "    - Quantile 0.95: Finished. Best iter: [19764]\n",
                        "    - Quantile 0.05: Finished. Best iter: [49]\n",
                        "    - Quantile 0.5: Finished. Best iter: [26]\n",
                        "    - Quantile 0.95: Finished. Best iter: [1]\n",
                        "    - Quantile 0.05: Finished. Best iter: [40]\n",
                        "    - Quantile 0.5: Finished. Best iter: [40]\n",
                        "    - Quantile 0.95: Finished. Best iter: [1]\n",
                        "    - Quantile 0.05: Finished. Best iter: [16]\n",
                        "    - Quantile 0.5: Finished. Best iter: [16]\n",
                        "    - Quantile 0.95: Finished. Best iter: [3]\n",
                        "    - Quantile 0.05: Finished. Best iter: [26]\n",
                        "    - Quantile 0.5: Finished. Best iter: [65]\n",
                        "    - Quantile 0.95: Finished. Best iter: [65]\n",
                        "    - Quantile 0.05: Finished. Best iter: [26]\n",
                        "    - Quantile 0.5: Finished. Best iter: [21]\n",
                        "    - Quantile 0.95: Finished. Best iter: [26]\n",
                        "    - Quantile 0.05: Finished. Best iter: [1]\n",
                        "    - Quantile 0.5: Finished. Best iter: [4]\n",
                        "    - Quantile 0.95: Finished. Best iter: [4]\n",
                        "    - Quantile 0.05: Finished. Best iter: [1508]\n",
                        "    - Quantile 0.5: Finished. Best iter: [18538]\n",
                        "    - Quantile 0.95: Finished. Best iter: [17524]\n",
                        "    - Quantile 0.05: Finished. Best iter: [6229]\n",
                        "    - Quantile 0.5: Finished. Best iter: [3264]\n",
                        "    - Quantile 0.95: Finished. Best iter: [65]\n",
                        "    - Quantile 0.05: Finished. Best iter: [1]\n",
                        "    - Quantile 0.5: Finished. Best iter: [1]\n",
                        "    - Quantile 0.95: Finished. Best iter: [1]\n"
                    ]
                },
                {
                    "name": "stderr",
                    "output_type": "stream",
                    "text": [
                        "d:\\Project\\Command\\Python\\Neural\\Wolf_of_Wall_Street\\.venv\\Lib\\site-packages\\pandas\\core\\nanops.py:1632: ConstantInputWarning: An input array is constant; the correlation coefficient is not defined.\n",
                        "  return spearmanr(a, b)[0]\n"
                    ]
                },
                {
                    "name": "stdout",
                    "output_type": "stream",
                    "text": [
                        "    - Quantile 0.05: Finished. Best iter: [419]\n",
                        "    - Quantile 0.5: Finished. Best iter: [94]\n",
                        "    - Quantile 0.95: Finished. Best iter: [1]\n",
                        "    - Quantile 0.05: Finished. Best iter: [245]\n",
                        "    - Quantile 0.5: Finished. Best iter: [332]\n",
                        "    - Quantile 0.95: Finished. Best iter: [22]\n",
                        "    - Quantile 0.05: Finished. Best iter: [1]\n",
                        "    - Quantile 0.5: Finished. Best iter: [1]\n",
                        "    - Quantile 0.95: Finished. Best iter: [1]\n",
                        "    - Quantile 0.05: Finished. Best iter: [1]\n",
                        "    - Quantile 0.5: Finished. Best iter: [1]\n",
                        "    - Quantile 0.95: Finished. Best iter: [1]\n"
                    ]
                },
                {
                    "name": "stderr",
                    "output_type": "stream",
                    "text": [
                        "d:\\Project\\Command\\Python\\Neural\\Wolf_of_Wall_Street\\.venv\\Lib\\site-packages\\pandas\\core\\nanops.py:1632: ConstantInputWarning: An input array is constant; the correlation coefficient is not defined.\n",
                        "  return spearmanr(a, b)[0]\n"
                    ]
                },
                {
                    "name": "stdout",
                    "output_type": "stream",
                    "text": [
                        "    - Quantile 0.05: Finished. Best iter: [10]\n",
                        "    - Quantile 0.5: Finished. Best iter: [10]\n",
                        "    - Quantile 0.95: Finished. Best iter: [1]\n",
                        "    - Quantile 0.05: Finished. Best iter: [1]\n",
                        "    - Quantile 0.5: Finished. Best iter: [1]\n",
                        "    - Quantile 0.95: Finished. Best iter: [1]\n",
                        "    - Quantile 0.05: Finished. Best iter: [73]\n",
                        "    - Quantile 0.5: Finished. Best iter: [73]\n",
                        "    - Quantile 0.95: Finished. Best iter: [163]\n",
                        "    - Quantile 0.05: Finished. Best iter: [1]\n",
                        "    - Quantile 0.5: Finished. Best iter: [1]\n",
                        "    - Quantile 0.95: Finished. Best iter: [1]\n",
                        "    - Quantile 0.05: Finished. Best iter: [1]\n",
                        "    - Quantile 0.5: Finished. Best iter: [1]\n",
                        "    - Quantile 0.95: Finished. Best iter: [1]\n",
                        "    - Quantile 0.05: Finished. Best iter: [3]\n",
                        "    - Quantile 0.5: Finished. Best iter: [3]\n",
                        "    - Quantile 0.95: Finished. Best iter: [3]\n",
                        "    - Quantile 0.05: Finished. Best iter: [2]\n",
                        "    - Quantile 0.5: Finished. Best iter: [718]\n",
                        "    - Quantile 0.95: Finished. Best iter: [720]\n",
                        "    - Quantile 0.05: Finished. Best iter: [1]\n",
                        "    - Quantile 0.5: Finished. Best iter: [1]\n",
                        "    - Quantile 0.95: Finished. Best iter: [1]\n",
                        "    - Quantile 0.05: Finished. Best iter: [39]\n",
                        "    - Quantile 0.5: Finished. Best iter: [39]\n",
                        "    - Quantile 0.95: Finished. Best iter: [39]\n",
                        "    - Quantile 0.05: Finished. Best iter: [84]\n",
                        "    - Quantile 0.5: Finished. Best iter: [84]\n",
                        "    - Quantile 0.95: Finished. Best iter: [84]\n",
                        "    - Quantile 0.05: Finished. Best iter: [1]\n",
                        "    - Quantile 0.5: Finished. Best iter: [1]\n",
                        "    - Quantile 0.95: Finished. Best iter: [1]\n",
                        "    - Quantile 0.05: Finished. Best iter: [2]\n",
                        "    - Quantile 0.5: Finished. Best iter: [2]\n",
                        "    - Quantile 0.95: Finished. Best iter: [2]\n",
                        "    - Quantile 0.05: Finished. Best iter: [1]\n",
                        "    - Quantile 0.5: Finished. Best iter: [19352]\n",
                        "    - Quantile 0.95: Finished. Best iter: [850]\n",
                        "    - Quantile 0.05: Finished. Best iter: [90]\n",
                        "    - Quantile 0.5: Finished. Best iter: [90]\n",
                        "    - Quantile 0.95: Finished. Best iter: [162]\n",
                        "    - Quantile 0.05: Finished. Best iter: [19294]\n",
                        "    - Quantile 0.5: Finished. Best iter: [19950]\n",
                        "    - Quantile 0.95: Finished. Best iter: [120]\n",
                        "    - Quantile 0.05: Finished. Best iter: [11087]\n",
                        "    - Quantile 0.5: Finished. Best iter: [19934]\n",
                        "    - Quantile 0.95: Finished. Best iter: [134]\n",
                        "    - Quantile 0.05: Finished. Best iter: [77]\n",
                        "    - Quantile 0.5: Finished. Best iter: [77]\n",
                        "    - Quantile 0.95: Finished. Best iter: [1]\n",
                        "    - Quantile 0.05: Finished. Best iter: [1]\n",
                        "    - Quantile 0.5: Finished. Best iter: [1]\n",
                        "    - Quantile 0.95: Finished. Best iter: [1]\n",
                        "    - Quantile 0.05: Finished. Best iter: [18]\n",
                        "    - Quantile 0.5: Finished. Best iter: [11084]\n",
                        "    - Quantile 0.95: Finished. Best iter: [10729]\n",
                        "    - Quantile 0.05: Finished. Best iter: [1]\n",
                        "    - Quantile 0.5: Finished. Best iter: [2]\n",
                        "    - Quantile 0.95: Finished. Best iter: [4]\n",
                        "    - Quantile 0.05: Finished. Best iter: [26]\n",
                        "    - Quantile 0.5: Finished. Best iter: [47]\n",
                        "    - Quantile 0.95: Finished. Best iter: [47]\n",
                        "    - Quantile 0.05: Finished. Best iter: [202]\n",
                        "    - Quantile 0.5: Finished. Best iter: [8792]\n",
                        "    - Quantile 0.95: Finished. Best iter: [1]\n",
                        "    - Quantile 0.05: Finished. Best iter: [1]\n",
                        "    - Quantile 0.5: Finished. Best iter: [1]\n",
                        "    - Quantile 0.95: Finished. Best iter: [1]\n",
                        "    - Quantile 0.05: Finished. Best iter: [3]\n",
                        "    - Quantile 0.5: Finished. Best iter: [7]\n",
                        "    - Quantile 0.95: Finished. Best iter: [8]\n",
                        "    - Quantile 0.05: Finished. Best iter: [29]\n",
                        "    - Quantile 0.5: Finished. Best iter: [29]\n",
                        "    - Quantile 0.95: Finished. Best iter: [1]\n",
                        "    - Quantile 0.05: Finished. Best iter: [256]\n",
                        "    - Quantile 0.5: Finished. Best iter: [99]\n",
                        "    - Quantile 0.95: Finished. Best iter: [1]\n",
                        "    - Quantile 0.05: Finished. Best iter: [1]\n",
                        "    - Quantile 0.5: Finished. Best iter: [1]\n",
                        "    - Quantile 0.95: Finished. Best iter: [1]\n",
                        "    - Quantile 0.05: Finished. Best iter: [1]\n",
                        "    - Quantile 0.5: Finished. Best iter: [1]\n",
                        "    - Quantile 0.95: Finished. Best iter: [1]\n",
                        "    - Quantile 0.05: Finished. Best iter: [1]\n",
                        "    - Quantile 0.5: Finished. Best iter: [1]\n",
                        "    - Quantile 0.95: Finished. Best iter: [1]\n",
                        "    - Quantile 0.05: Finished. Best iter: [1]\n",
                        "    - Quantile 0.5: Finished. Best iter: [1417]\n",
                        "    - Quantile 0.95: Finished. Best iter: [1448]\n",
                        "    - Quantile 0.05: Finished. Best iter: [2]\n",
                        "    - Quantile 0.5: Finished. Best iter: [9]\n",
                        "    - Quantile 0.95: Finished. Best iter: [22]\n",
                        "    - Quantile 0.05: Finished. Best iter: [2]\n",
                        "    - Quantile 0.5: Finished. Best iter: [7]\n",
                        "    - Quantile 0.95: Finished. Best iter: [7]\n",
                        "SUCCESS: Out-of-Fold predictions saved to models\\300013.SZ\\lgbm_oof_preds.csv\n",
                        "INFO: Training final model for 新宁物流 (300013.SZ) on all data...\n",
                        "\n",
                        "================================================================================\n",
                        "--- Starting LSTM training for 新宁物流 (300013.SZ) ---\n",
                        "INFO: PyTorch LSTMBuilder will use device: CUDA\n",
                        "INFO: Starting Walk-Forward validation for 新宁物流 across 48 folds...\n"
                    ]
                },
                {
                    "data": {
                        "application/vnd.jupyter.widget-view+json": {
                            "model_id": "0b881f05a81844cca9d5f1a818add4ac",
                            "version_major": 2,
                            "version_minor": 0
                        },
                        "text/plain": [
                            "Training LSTM on 新宁物流:   0%|          | 0/48 [00:00<?, ?it/s]"
                        ]
                    },
                    "metadata": {},
                    "output_type": "display_data"
                },
                {
                    "name": "stdout",
                    "output_type": "stream",
                    "text": [
                        "INFO: DataLoader will use 8 parallel workers.\n"
                    ]
                },
                {
                    "data": {
                        "application/vnd.jupyter.widget-view+json": {
                            "model_id": "dfc36db4cc144b12b789cb68e7d7b726",
                            "version_major": 2,
                            "version_minor": 0
                        },
                        "text/plain": [
                            "    - Epochs:   0%|          | 0/20 [00:00<?, ?it/s]"
                        ]
                    },
                    "metadata": {},
                    "output_type": "display_data"
                },
                {
                    "name": "stdout",
                    "output_type": "stream",
                    "text": [
                        "    - Fold finished. Best validation loss: 0.036446 at epoch 3\n",
                        "INFO: DataLoader will use 8 parallel workers.\n"
                    ]
                },
                {
                    "data": {
                        "application/vnd.jupyter.widget-view+json": {
                            "model_id": "28439dc9c30e4e84865eedc7e116b825",
                            "version_major": 2,
                            "version_minor": 0
                        },
                        "text/plain": [
                            "    - Epochs:   0%|          | 0/20 [00:00<?, ?it/s]"
                        ]
                    },
                    "metadata": {},
                    "output_type": "display_data"
                },
                {
                    "name": "stdout",
                    "output_type": "stream",
                    "text": [
                        "    - Fold finished. Best validation loss: 0.041529 at epoch 12\n",
                        "INFO: DataLoader will use 8 parallel workers.\n"
                    ]
                },
                {
                    "data": {
                        "application/vnd.jupyter.widget-view+json": {
                            "model_id": "2c9446f8765a44768104f84fdd054f3f",
                            "version_major": 2,
                            "version_minor": 0
                        },
                        "text/plain": [
                            "    - Epochs:   0%|          | 0/20 [00:00<?, ?it/s]"
                        ]
                    },
                    "metadata": {},
                    "output_type": "display_data"
                },
                {
                    "name": "stdout",
                    "output_type": "stream",
                    "text": [
                        "    - Fold finished. Best validation loss: 0.147189 at epoch 1\n",
                        "INFO: DataLoader will use 8 parallel workers.\n"
                    ]
                },
                {
                    "data": {
                        "application/vnd.jupyter.widget-view+json": {
                            "model_id": "23483b6ac45846fdac224a7beac6ee87",
                            "version_major": 2,
                            "version_minor": 0
                        },
                        "text/plain": [
                            "    - Epochs:   0%|          | 0/20 [00:00<?, ?it/s]"
                        ]
                    },
                    "metadata": {},
                    "output_type": "display_data"
                },
                {
                    "name": "stdout",
                    "output_type": "stream",
                    "text": [
                        "    - Fold finished. Best validation loss: 0.010163 at epoch 3\n",
                        "INFO: DataLoader will use 8 parallel workers.\n"
                    ]
                },
                {
                    "data": {
                        "application/vnd.jupyter.widget-view+json": {
                            "model_id": "cae7501a7f8f4590bd529ad1079401b2",
                            "version_major": 2,
                            "version_minor": 0
                        },
                        "text/plain": [
                            "    - Epochs:   0%|          | 0/20 [00:00<?, ?it/s]"
                        ]
                    },
                    "metadata": {},
                    "output_type": "display_data"
                },
                {
                    "name": "stdout",
                    "output_type": "stream",
                    "text": [
                        "    - Fold finished. Best validation loss: 0.013367 at epoch 9\n",
                        "INFO: DataLoader will use 8 parallel workers.\n"
                    ]
                },
                {
                    "data": {
                        "application/vnd.jupyter.widget-view+json": {
                            "model_id": "f2b2135d7d044cb2875de303c3cb3c26",
                            "version_major": 2,
                            "version_minor": 0
                        },
                        "text/plain": [
                            "    - Epochs:   0%|          | 0/20 [00:00<?, ?it/s]"
                        ]
                    },
                    "metadata": {},
                    "output_type": "display_data"
                },
                {
                    "name": "stdout",
                    "output_type": "stream",
                    "text": [
                        "    - Fold finished. Best validation loss: 0.005361 at epoch 3\n",
                        "INFO: DataLoader will use 8 parallel workers.\n"
                    ]
                },
                {
                    "data": {
                        "application/vnd.jupyter.widget-view+json": {
                            "model_id": "4c5fbf49482041aeb4d45cfe70953c2b",
                            "version_major": 2,
                            "version_minor": 0
                        },
                        "text/plain": [
                            "    - Epochs:   0%|          | 0/20 [00:00<?, ?it/s]"
                        ]
                    },
                    "metadata": {},
                    "output_type": "display_data"
                },
                {
                    "name": "stdout",
                    "output_type": "stream",
                    "text": [
                        "    - Fold finished. Best validation loss: 0.002409 at epoch 4\n",
                        "INFO: DataLoader will use 8 parallel workers.\n"
                    ]
                },
                {
                    "data": {
                        "application/vnd.jupyter.widget-view+json": {
                            "model_id": "c2e97e812b3b4f149d1c344dbb6c461d",
                            "version_major": 2,
                            "version_minor": 0
                        },
                        "text/plain": [
                            "    - Epochs:   0%|          | 0/20 [00:00<?, ?it/s]"
                        ]
                    },
                    "metadata": {},
                    "output_type": "display_data"
                },
                {
                    "name": "stdout",
                    "output_type": "stream",
                    "text": [
                        "    - Fold finished. Best validation loss: 0.399021 at epoch 1\n",
                        "INFO: DataLoader will use 8 parallel workers.\n"
                    ]
                },
                {
                    "data": {
                        "application/vnd.jupyter.widget-view+json": {
                            "model_id": "5bca2e9f58034d429b5307139e5bb4fe",
                            "version_major": 2,
                            "version_minor": 0
                        },
                        "text/plain": [
                            "    - Epochs:   0%|          | 0/20 [00:00<?, ?it/s]"
                        ]
                    },
                    "metadata": {},
                    "output_type": "display_data"
                },
                {
                    "name": "stdout",
                    "output_type": "stream",
                    "text": [
                        "    - Fold finished. Best validation loss: 0.086220 at epoch 1\n",
                        "INFO: DataLoader will use 8 parallel workers.\n"
                    ]
                },
                {
                    "data": {
                        "application/vnd.jupyter.widget-view+json": {
                            "model_id": "5b80ee28d46d400cb655d015a9367985",
                            "version_major": 2,
                            "version_minor": 0
                        },
                        "text/plain": [
                            "    - Epochs:   0%|          | 0/20 [00:00<?, ?it/s]"
                        ]
                    },
                    "metadata": {},
                    "output_type": "display_data"
                },
                {
                    "name": "stdout",
                    "output_type": "stream",
                    "text": [
                        "    - Fold finished. Best validation loss: 0.161133 at epoch 18\n",
                        "INFO: DataLoader will use 8 parallel workers.\n"
                    ]
                },
                {
                    "data": {
                        "application/vnd.jupyter.widget-view+json": {
                            "model_id": "af88e8005467468dbef946210877e053",
                            "version_major": 2,
                            "version_minor": 0
                        },
                        "text/plain": [
                            "    - Epochs:   0%|          | 0/20 [00:00<?, ?it/s]"
                        ]
                    },
                    "metadata": {},
                    "output_type": "display_data"
                },
                {
                    "name": "stdout",
                    "output_type": "stream",
                    "text": [
                        "    - Fold finished. Best validation loss: 0.041102 at epoch 1\n",
                        "INFO: DataLoader will use 8 parallel workers.\n"
                    ]
                },
                {
                    "data": {
                        "application/vnd.jupyter.widget-view+json": {
                            "model_id": "dd4e149b9c424e7bb03d9169ec72680c",
                            "version_major": 2,
                            "version_minor": 0
                        },
                        "text/plain": [
                            "    - Epochs:   0%|          | 0/20 [00:00<?, ?it/s]"
                        ]
                    },
                    "metadata": {},
                    "output_type": "display_data"
                },
                {
                    "name": "stdout",
                    "output_type": "stream",
                    "text": [
                        "    - Fold finished. Best validation loss: 0.015557 at epoch 1\n",
                        "INFO: DataLoader will use 8 parallel workers.\n"
                    ]
                },
                {
                    "data": {
                        "application/vnd.jupyter.widget-view+json": {
                            "model_id": "e5404b04e5b64b799c56aeb45dc18df1",
                            "version_major": 2,
                            "version_minor": 0
                        },
                        "text/plain": [
                            "    - Epochs:   0%|          | 0/20 [00:00<?, ?it/s]"
                        ]
                    },
                    "metadata": {},
                    "output_type": "display_data"
                },
                {
                    "name": "stdout",
                    "output_type": "stream",
                    "text": [
                        "    - Fold finished. Best validation loss: 0.037244 at epoch 1\n",
                        "INFO: DataLoader will use 8 parallel workers.\n"
                    ]
                },
                {
                    "data": {
                        "application/vnd.jupyter.widget-view+json": {
                            "model_id": "26ed26ba34724a46826344323c9c574c",
                            "version_major": 2,
                            "version_minor": 0
                        },
                        "text/plain": [
                            "    - Epochs:   0%|          | 0/20 [00:00<?, ?it/s]"
                        ]
                    },
                    "metadata": {},
                    "output_type": "display_data"
                },
                {
                    "name": "stdout",
                    "output_type": "stream",
                    "text": [
                        "    - Fold finished. Best validation loss: 0.006314 at epoch 6\n",
                        "INFO: DataLoader will use 8 parallel workers.\n"
                    ]
                },
                {
                    "data": {
                        "application/vnd.jupyter.widget-view+json": {
                            "model_id": "14d74cf345054d2d939e4119cfb0d1f2",
                            "version_major": 2,
                            "version_minor": 0
                        },
                        "text/plain": [
                            "    - Epochs:   0%|          | 0/20 [00:00<?, ?it/s]"
                        ]
                    },
                    "metadata": {},
                    "output_type": "display_data"
                },
                {
                    "name": "stdout",
                    "output_type": "stream",
                    "text": [
                        "    - Fold finished. Best validation loss: 0.007741 at epoch 2\n",
                        "INFO: DataLoader will use 8 parallel workers.\n"
                    ]
                },
                {
                    "data": {
                        "application/vnd.jupyter.widget-view+json": {
                            "model_id": "976ce270d6cf4315ab1835b60c70609d",
                            "version_major": 2,
                            "version_minor": 0
                        },
                        "text/plain": [
                            "    - Epochs:   0%|          | 0/20 [00:00<?, ?it/s]"
                        ]
                    },
                    "metadata": {},
                    "output_type": "display_data"
                },
                {
                    "name": "stdout",
                    "output_type": "stream",
                    "text": [
                        "    - Fold finished. Best validation loss: 0.008825 at epoch 1\n",
                        "INFO: DataLoader will use 8 parallel workers.\n"
                    ]
                },
                {
                    "data": {
                        "application/vnd.jupyter.widget-view+json": {
                            "model_id": "6b789ef14fb243bd8f75f27453c1b216",
                            "version_major": 2,
                            "version_minor": 0
                        },
                        "text/plain": [
                            "    - Epochs:   0%|          | 0/20 [00:00<?, ?it/s]"
                        ]
                    },
                    "metadata": {},
                    "output_type": "display_data"
                },
                {
                    "name": "stdout",
                    "output_type": "stream",
                    "text": [
                        "    - Fold finished. Best validation loss: 0.006302 at epoch 4\n",
                        "INFO: DataLoader will use 8 parallel workers.\n"
                    ]
                },
                {
                    "data": {
                        "application/vnd.jupyter.widget-view+json": {
                            "model_id": "d16aa3b7f45d47858ca5091bd299912f",
                            "version_major": 2,
                            "version_minor": 0
                        },
                        "text/plain": [
                            "    - Epochs:   0%|          | 0/20 [00:00<?, ?it/s]"
                        ]
                    },
                    "metadata": {},
                    "output_type": "display_data"
                },
                {
                    "name": "stdout",
                    "output_type": "stream",
                    "text": [
                        "    - Fold finished. Best validation loss: 0.007270 at epoch 1\n",
                        "INFO: DataLoader will use 8 parallel workers.\n"
                    ]
                },
                {
                    "data": {
                        "application/vnd.jupyter.widget-view+json": {
                            "model_id": "1066b8b75246460f9f104147def5c22e",
                            "version_major": 2,
                            "version_minor": 0
                        },
                        "text/plain": [
                            "    - Epochs:   0%|          | 0/20 [00:00<?, ?it/s]"
                        ]
                    },
                    "metadata": {},
                    "output_type": "display_data"
                },
                {
                    "name": "stdout",
                    "output_type": "stream",
                    "text": [
                        "    - Fold finished. Best validation loss: 0.035610 at epoch 2\n",
                        "INFO: DataLoader will use 8 parallel workers.\n"
                    ]
                },
                {
                    "data": {
                        "application/vnd.jupyter.widget-view+json": {
                            "model_id": "6bd62678dda24466b3a624e625bcc9e9",
                            "version_major": 2,
                            "version_minor": 0
                        },
                        "text/plain": [
                            "    - Epochs:   0%|          | 0/20 [00:00<?, ?it/s]"
                        ]
                    },
                    "metadata": {},
                    "output_type": "display_data"
                },
                {
                    "name": "stdout",
                    "output_type": "stream",
                    "text": [
                        "    - Fold finished. Best validation loss: 0.047375 at epoch 1\n",
                        "INFO: DataLoader will use 8 parallel workers.\n"
                    ]
                },
                {
                    "data": {
                        "application/vnd.jupyter.widget-view+json": {
                            "model_id": "a96d98e2120c45f2b134077d42481996",
                            "version_major": 2,
                            "version_minor": 0
                        },
                        "text/plain": [
                            "    - Epochs:   0%|          | 0/20 [00:00<?, ?it/s]"
                        ]
                    },
                    "metadata": {},
                    "output_type": "display_data"
                },
                {
                    "name": "stdout",
                    "output_type": "stream",
                    "text": [
                        "    - Fold finished. Best validation loss: 0.045029 at epoch 1\n",
                        "INFO: DataLoader will use 8 parallel workers.\n"
                    ]
                },
                {
                    "data": {
                        "application/vnd.jupyter.widget-view+json": {
                            "model_id": "43d7e5183258401c8bb597dd9e785139",
                            "version_major": 2,
                            "version_minor": 0
                        },
                        "text/plain": [
                            "    - Epochs:   0%|          | 0/20 [00:00<?, ?it/s]"
                        ]
                    },
                    "metadata": {},
                    "output_type": "display_data"
                },
                {
                    "name": "stdout",
                    "output_type": "stream",
                    "text": [
                        "    - Fold finished. Best validation loss: 0.012039 at epoch 6\n",
                        "INFO: DataLoader will use 8 parallel workers.\n"
                    ]
                },
                {
                    "data": {
                        "application/vnd.jupyter.widget-view+json": {
                            "model_id": "64de412504b54861af322887cd0e55bd",
                            "version_major": 2,
                            "version_minor": 0
                        },
                        "text/plain": [
                            "    - Epochs:   0%|          | 0/20 [00:00<?, ?it/s]"
                        ]
                    },
                    "metadata": {},
                    "output_type": "display_data"
                },
                {
                    "name": "stdout",
                    "output_type": "stream",
                    "text": [
                        "    - Fold finished. Best validation loss: 0.059854 at epoch 2\n",
                        "INFO: DataLoader will use 8 parallel workers.\n"
                    ]
                },
                {
                    "data": {
                        "application/vnd.jupyter.widget-view+json": {
                            "model_id": "be80ba8cd89545ec8c9174477489ade5",
                            "version_major": 2,
                            "version_minor": 0
                        },
                        "text/plain": [
                            "    - Epochs:   0%|          | 0/20 [00:00<?, ?it/s]"
                        ]
                    },
                    "metadata": {},
                    "output_type": "display_data"
                },
                {
                    "name": "stdout",
                    "output_type": "stream",
                    "text": [
                        "    - Fold finished. Best validation loss: 0.009830 at epoch 12\n",
                        "INFO: DataLoader will use 8 parallel workers.\n"
                    ]
                },
                {
                    "data": {
                        "application/vnd.jupyter.widget-view+json": {
                            "model_id": "abcde3d81d7c4a608964054bb261d0f7",
                            "version_major": 2,
                            "version_minor": 0
                        },
                        "text/plain": [
                            "    - Epochs:   0%|          | 0/20 [00:00<?, ?it/s]"
                        ]
                    },
                    "metadata": {},
                    "output_type": "display_data"
                },
                {
                    "name": "stdout",
                    "output_type": "stream",
                    "text": [
                        "    - Fold finished. Best validation loss: 0.004163 at epoch 10\n",
                        "INFO: DataLoader will use 8 parallel workers.\n"
                    ]
                },
                {
                    "data": {
                        "application/vnd.jupyter.widget-view+json": {
                            "model_id": "e6c19ac0efef4a6ca86303e4b7b110ab",
                            "version_major": 2,
                            "version_minor": 0
                        },
                        "text/plain": [
                            "    - Epochs:   0%|          | 0/20 [00:00<?, ?it/s]"
                        ]
                    },
                    "metadata": {},
                    "output_type": "display_data"
                },
                {
                    "name": "stdout",
                    "output_type": "stream",
                    "text": [
                        "    - Fold finished. Best validation loss: 0.014526 at epoch 2\n",
                        "INFO: DataLoader will use 8 parallel workers.\n"
                    ]
                },
                {
                    "data": {
                        "application/vnd.jupyter.widget-view+json": {
                            "model_id": "de5b3d4b0f9d41dc8ee8f20ba1e263d4",
                            "version_major": 2,
                            "version_minor": 0
                        },
                        "text/plain": [
                            "    - Epochs:   0%|          | 0/20 [00:00<?, ?it/s]"
                        ]
                    },
                    "metadata": {},
                    "output_type": "display_data"
                },
                {
                    "name": "stdout",
                    "output_type": "stream",
                    "text": [
                        "    - Fold finished. Best validation loss: 0.041786 at epoch 1\n",
                        "INFO: DataLoader will use 8 parallel workers.\n"
                    ]
                },
                {
                    "data": {
                        "application/vnd.jupyter.widget-view+json": {
                            "model_id": "e25ed19b44da4b1387b82ec468e61f9c",
                            "version_major": 2,
                            "version_minor": 0
                        },
                        "text/plain": [
                            "    - Epochs:   0%|          | 0/20 [00:00<?, ?it/s]"
                        ]
                    },
                    "metadata": {},
                    "output_type": "display_data"
                },
                {
                    "name": "stdout",
                    "output_type": "stream",
                    "text": [
                        "    - Fold finished. Best validation loss: 0.096089 at epoch 2\n",
                        "INFO: DataLoader will use 8 parallel workers.\n"
                    ]
                },
                {
                    "data": {
                        "application/vnd.jupyter.widget-view+json": {
                            "model_id": "b515bb784f3c40f2987fa4ce776d8715",
                            "version_major": 2,
                            "version_minor": 0
                        },
                        "text/plain": [
                            "    - Epochs:   0%|          | 0/20 [00:00<?, ?it/s]"
                        ]
                    },
                    "metadata": {},
                    "output_type": "display_data"
                },
                {
                    "name": "stdout",
                    "output_type": "stream",
                    "text": [
                        "    - Fold finished. Best validation loss: 0.013873 at epoch 8\n",
                        "INFO: DataLoader will use 8 parallel workers.\n"
                    ]
                },
                {
                    "data": {
                        "application/vnd.jupyter.widget-view+json": {
                            "model_id": "b026e21f96ff4e2897c8424519ef3b84",
                            "version_major": 2,
                            "version_minor": 0
                        },
                        "text/plain": [
                            "    - Epochs:   0%|          | 0/20 [00:00<?, ?it/s]"
                        ]
                    },
                    "metadata": {},
                    "output_type": "display_data"
                }
            ],
            "source": [
                "FORCE_RETRAIN = False \n",
                "all_ic_history = []\n",
                "\n",
                "print(\"--- Starting Stage 2.3: Model Training ---\\n\")\n",
                "print(f\"INFO: Force re-train for base models is set to: {FORCE_RETRAIN}\")\n",
                "\n",
                "if config and stocks_to_process:\n",
                "    models_to_train = global_settings.get('models_to_train', ['lgbm', 'lstm'])\n",
                "    stock_iterator = tqdm(stocks_to_process, desc=\"Processing Stocks\")\n",
                "\n",
                "    for stock_info in stock_iterator:\n",
                "        ticker = stock_info.get('ticker')\n",
                "        if not ticker or ticker not in global_data_cache:\n",
                "            continue\n",
                "        \n",
                "        keyword = stock_info.get('keyword', ticker)\n",
                "        stock_iterator.set_description(f\"Processing {keyword}\")\n",
                "        \n",
                "        cached_stock_data = global_data_cache[ticker]\n",
                "        full_df = cached_stock_data['full_df']\n",
                "        \n",
                "        for model_type in models_to_train:\n",
                "            use_lstm_for_this_stock = stock_info.get('use_lstm')\n",
                "            if use_lstm_for_this_stock is None:\n",
                "                use_lstm_for_this_stock = global_settings.get('use_lstm_globally', True)\n",
                "            \n",
                "            if model_type == 'lstm' and not use_lstm_for_this_stock:\n",
                "                print(f\"\\nINFO: {keyword} is configured to not use LSTM, skipping LSTM main training.\")\n",
                "                continue\n",
                "\n",
                "            model_dir = Path(global_settings.get('model_dir', 'models')) / ticker\n",
                "            ic_history_path = model_dir / f\"{model_type}_ic_history.csv\"\n",
                "            if ic_history_path.exists() and not FORCE_RETRAIN:\n",
                "                print(f\"\\nINFO: Found existing IC history for {keyword} [{model_type.upper()}]. Skipping training.\")\n",
                "                try:\n",
                "                    ic_history = pd.read_csv(ic_history_path, index_col='date', parse_dates=True)\n",
                "                    all_ic_history.append(ic_history)\n",
                "                except Exception as e:\n",
                "                    print(f\"  - WARNNING: Failed to load existing IC history: {e}\")\n",
                "                continue\n",
                "\n",
                "            folds_key = f\"{model_type}_folds\"\n",
                "            preprocessed_folds = cached_stock_data.get(folds_key)\n",
                "            \n",
                "            if not preprocessed_folds:\n",
                "                print(f\"\\nWARNNING: No pre-processed folds for '{model_type}' on {keyword}. Skipping.\")\n",
                "                continue\n",
                "\n",
                "            run_config = {\n",
                "                'global_settings': global_settings, 'strategy_config': strategy_config,\n",
                "                'default_model_params': default_model_params, 'stocks_to_process': [stock_info],\n",
                "                'full_df_for_final_model': full_df\n",
                "            }\n",
                "\n",
                "            ic_history = run_training_for_ticker(\n",
                "                preprocessed_folds=preprocessed_folds,\n",
                "                ticker=ticker,\n",
                "                model_type=model_type,\n",
                "                config=run_config, \n",
                "                force_retrain=FORCE_RETRAIN,\n",
                "                keyword=keyword\n",
                "            )\n",
                "            \n",
                "            if ic_history is not None and not ic_history.empty:\n",
                "                all_ic_history.append(ic_history)\n",
                "else:\n",
                "    print(\"ERROR: Config or stocks_to_process is empty.\")"
            ]
        },
        {
            "cell_type": "markdown",
            "metadata": {},
            "source": [
                "### 2.3.5 融合模型训练"
            ]
        },
        {
            "cell_type": "code",
            "execution_count": null,
            "metadata": {},
            "outputs": [],
            "source": [
                "FORCE_FUSER_RETRAIN = True\n",
                "\n",
                "if config and stocks_to_process:\n",
                "    fuser_iterator = tqdm(stocks_to_process, desc=\"Training Fusers\")\n",
                "    for stock_info in fuser_iterator:\n",
                "        ticker = stock_info.get('ticker')\n",
                "        keyword = stock_info.get('keyword', ticker)\n",
                "        fuser_iterator.set_description(f\"Training Fuser for {keyword}\")\n",
                "        if not ticker: continue\n",
                "\n",
                "        run_config = {\n",
                "            'global_settings': global_settings, \n",
                "            'strategy_config': strategy_config,\n",
                "            'default_model_params': default_model_params,\n",
                "            'stocks_to_process': [stock_info]\n",
                "        }\n",
                "        fuser = ModelFuser(ticker, run_config)\n",
                "        \n",
                "        # 如果不强制重训，并且 fuser_meta.json 文件已存在，则跳过\n",
                "        if not FORCE_FUSER_RETRAIN and fuser.meta_path.exists():\n",
                "            print(f\"INFO: Fusion model meta for {keyword} already exists. Skipping training.\")\n",
                "            continue\n",
                "\n",
                "        print(f\"\\n--- 正在为 {keyword} ({ticker}) 训练融合元模型... ---\")\n",
                "        fuser.train()"
            ]
        },
        {
            "cell_type": "markdown",
            "metadata": {},
            "source": [
                "### 2.4 结果聚合、评估与可视化"
            ]
        },
        {
            "cell_type": "code",
            "execution_count": null,
            "metadata": {},
            "outputs": [],
            "source": [
                "print(\"\\n--- 开始步骤 2.4: 结果聚合、评估与可视化 ---\")\n",
                "if all_ic_history:\n",
                "    full_ic_df = pd.concat(all_ic_history)\n",
                "    full_ic_df['ticker_name'] = full_ic_df['ticker'].map({s['ticker']: s.get('keyword', s['ticker']) for s in stocks_to_process})\n",
                "    \n",
                "    # 聚合评估结果\n",
                "    evaluation_summary = full_ic_df.groupby(['ticker_name', 'model_type'])['rank_ic'].agg(['mean', 'std']).reset_index()\n",
                "    evaluation_summary['icir'] = evaluation_summary['mean'] / evaluation_summary['std']\n",
                "    \n",
                "    # --- 1. 打印和显示评估表格 ---\n",
                "    print(\"\\n--- 模型性能评估总结 ---\")\n",
                "    display(evaluation_summary.style.format({\n",
                "        'mean': '{:.4f}', 'std': '{:.4f}', 'icir': '{:.4f}'\n",
                "    }).background_gradient(cmap='viridis', subset=['icir']))\n",
                "\n",
                "    # --- 2. 绘制 ICIR 对比图 ---\n",
                "    plt.figure(figsize=(12, 6))\n",
                "    sns.barplot(data=evaluation_summary, x='ticker_name', y='icir', hue='model_type')\n",
                "    plt.title('模型信息比率 (ICIR) 对比', fontsize=16)\n",
                "    plt.xlabel('股票', fontsize=12)\n",
                "    plt.ylabel('ICIR (信息比率)', fontsize=12)\n",
                "    plt.axhline(0, color='grey', linestyle='--')\n",
                "    plt.axhline(0.5, color='red', linestyle='--', label='ICIR=0.5 (良好)')\n",
                "    plt.xticks(rotation=45)\n",
                "    plt.legend()\n",
                "    plt.tight_layout()\n",
                "    plt.show()\n",
                "\n",
                "    # --- 3. 绘制累积 IC 曲线图 ---\n",
                "    plot_df = full_ic_df.copy()\n",
                "    plot_df['date'] = pd.to_datetime(plot_df['date'])\n",
                "    plot_df.sort_values('date', inplace=True)\n",
                "    plot_df['cumulative_ic'] = plot_df.groupby(['ticker_name', 'model_type'])['rank_ic'].cumsum()\n",
                "    \n",
                "    plt.figure(figsize=(14, 8))\n",
                "    sns.lineplot(data=plot_df, x='date', y='cumulative_ic', hue='ticker_name', style='model_type', marker='o', markersize=4, linestyle='--')\n",
                "    plt.title('模型累积 Rank IC 曲线', fontsize=16)\n",
                "    plt.xlabel('日期', fontsize=12)\n",
                "    plt.ylabel('累积 Rank IC', fontsize=12)\n",
                "    plt.legend(title='股票/模型')\n",
                "    plt.tight_layout()\n",
                "    plt.show()\n",
                "\n",
                "else:\n",
                "    print(\"\\nWARNNING: 训练期间未生成 IC 历史。跳过汇总和评估.\")"
            ]
        }
    ],
    "metadata": {
        "...": "...",
        "kernelspec": {
            "display_name": ".venv",
            "language": "python",
            "name": "python3"
        },
        "language_info": {
            "codemirror_mode": {
                "name": "ipython",
                "version": 3
            },
            "file_extension": ".py",
            "mimetype": "text/x-python",
            "name": "python",
            "nbconvert_exporter": "python",
            "pygments_lexer": "ipython3",
            "version": "3.13.0"
        }
    },
    "nbformat": 4,
    "nbformat_minor": 4
}
