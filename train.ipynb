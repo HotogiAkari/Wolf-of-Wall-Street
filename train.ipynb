{
    "cells": [
        {
            "cell_type": "markdown",
            "metadata": {},
            "source": [
                "# 股票预测模型工作流\n",
                "\n",
                "---\n",
                "### 工作流说明\n",
                "1.  **阶段零 (Setup)**: 导入库、加载配置。\n",
                "2.  **阶段一 (Data Pipeline)**: 独立运行。负责处理并保存数据，生成 L2 特征数据缓存。\n",
                "3.  **阶段二 (Model Pipeline)**: 独立运行。包含三个子步骤：\n",
                "    - **2.1 HPO**: 自动调参。\n",
                "    - **2.2 (预处理)**: 智能地加载或生成 L3 预处理数据缓存\n",
                "    - **2.3 (模型训练)**: 使用 L3 缓存进行高效的模型训练。\n",
                "    - **2.4 (评估)**: 对训练结果进行聚合与可视化。"
            ]
        },
        {
            "cell_type": "markdown",
            "metadata": {},
            "source": [
                "## 0. 通用设置与导入"
            ]
        },
        {
            "cell_type": "code",
            "execution_count": 1,
            "metadata": {},
            "outputs": [
                {
                    "name": "stderr",
                    "output_type": "stream",
                    "text": [
                        "C:\\Users\\Akari\\AppData\\Local\\Temp\\ipykernel_47076\\1534436633.py:3: TqdmExperimentalWarning: Using `tqdm.autonotebook.tqdm` in notebook mode. Use `tqdm.tqdm` instead to force console mode (e.g. in jupyter console)\n",
                        "  from tqdm.autonotebook import tqdm\n"
                    ]
                },
                {
                    "name": "stdout",
                    "output_type": "stream",
                    "text": [
                        "INFO: 项目模型导入成功.\n",
                        "SUCCESS: 从 'configs/config.yaml' 加载 Config.\n"
                    ]
                }
            ],
            "source": [
                "import os, sys, yaml, torch, joblib, pandas as pd, seaborn as sns, matplotlib.pyplot as plt\n",
                "from pathlib import Path\n",
                "from tqdm.autonotebook import tqdm\n",
                "from sklearn.preprocessing import StandardScaler\n",
                "\n",
                "os.environ['PYOPENCL_CTX'] = '0'\n",
                "plt.style.use('seaborn-v0_8-whitegrid')\n",
                "plt.rcParams['font.sans-serif'] = ['SimHei']\n",
                "plt.rcParams['axes.unicode_minus'] = False\n",
                "\n",
                "try:\n",
                "    from data_process.get_data import initialize_apis, shutdown_apis\n",
                "    from data_process.save_data import run_data_pipeline, get_processed_data_path\n",
                "    from model_builders.build_models import run_training_for_ticker, _walk_forward_split\n",
                "    from model_builders.hpo_utils import run_hpo_for_ticker\n",
                "    from model_builders.model_fuser import ModelFuser\n",
                "    from model_builders.lstm_builder import LSTMBuilder\n",
                "    print(\"INFO: 项目模型导入成功.\")\n",
                "except ImportError as e:\n",
                "    print(f\"WARNNING: 导入失败: {e}. 正在添加项目根目录...\")\n",
                "    project_root = str(Path().resolve()); sys.path.append(project_root) if project_root not in sys.path else None\n",
                "    from data_process.get_data import initialize_apis, shutdown_apis\n",
                "    from data_process.save_data import run_data_pipeline, get_processed_data_path\n",
                "    from model_builders.build_models import run_training_for_ticker, _walk_forward_split\n",
                "    from model_builders.hpo_utils import run_hpo_for_ticker\n",
                "    from model_builders.model_fuser import ModelFuser\n",
                "    from model_builders.lstm_builder import LSTMBuilder\n",
                "    print(\"INFO: 导入成功.\")\n",
                "\n",
                "CONFIG_PATH = 'configs/config.yaml'\n",
                "try:\n",
                "    with open(CONFIG_PATH, 'r', encoding='utf-8') as f: config = yaml.safe_load(f)\n",
                "    print(f\"SUCCESS: 从 '{CONFIG_PATH}' 加载 Config.\")\n",
                "except FileNotFoundError:\n",
                "    print(f\"ERROR: 未找到 Config.\"); config = {}\n",
                "\n",
                "if config:\n",
                "    global_settings, strategy_config, hpo_config, default_model_params, stocks_to_process = (\n",
                "        config.get('global_settings', {}), config.get('strategy_config', {}), \n",
                "        config.get('hpo_config', {}), config.get('default_model_params', {}), \n",
                "        config.get('stocks_to_process', [])\n",
                "    )"
            ]
        },
        {
            "cell_type": "markdown",
            "metadata": {},
            "source": [
                "# **阶段一：数据准备与特征工程**"
            ]
        },
        {
            "cell_type": "code",
            "execution_count": 2,
            "metadata": {},
            "outputs": [
                {
                    "name": "stdout",
                    "output_type": "stream",
                    "text": [
                        "--- 开始步骤 1: 数据准备 ---\n",
                        "\n",
                        "INFO: 尝试登陆 Baostock...\n",
                        "login success!\n",
                        "INFO: Baostock API 登录成功。SDK版本: 00.8.90\n",
                        "INFO: 未在配置中提供有效的 Tushare Token。将跳过宏观数据获取。\n",
                        "开始执行数据管道协调任务...\n",
                        "将使用配置文件: configs/config.yaml\n",
                        "\n",
                        "需要为以下 7 只股票生成新数据: ['600519.SH', '000001.SZ', '688256.SH', '601606.SH', '000681.SZ', '603099.SH', '000100.SZ']\n",
                        "--- 开始批量特征生成 ---\n",
                        "针对特定股票: 7 生成特征.\n",
                        "\n",
                        "--- Generating features for 贵州茅台 (600519.SH) ---\n",
                        "  - Running in Training Mode: Fetching historical data based on config.\n",
                        "  - Data window: Requesting data from 2010-09-30 to 2025-09-30.\n",
                        "  - [1/7] 正在从本地缓存加载 sh.600519 的原始日线数据...\n",
                        "  - INFO: Received data for 贵州茅台 from 2010-09-30 to 2025-09-30.\n",
                        "INFO: Starting feature calculation pipeline...\n",
                        "  - [Calculating Features] INFO: No technical indicators specified in config. Skipping Technical Indicators.\n",
                        "  - [Calculating Features] Running: Calendar Features...\n",
                        "  - [Calculating Features] INFO: No candlestick patterns specified in config. Skipping Candlestick Patterns.\n",
                        "  - [Calculating Features] Running: Statistical Features...\n",
                        "  - [Calculating Features] Running: Price Structure Features...\n",
                        "  - [Calculating Features] Running: Volume Features...\n",
                        "  - [Calculating Features] Running: Trend Regime Features...\n",
                        "INFO: Feature calculation pipeline finished.\n",
                        "  - [1/7] 正在从本地缓存加载 sh.000984 的原始日线数据...\n",
                        "  - [1/7] 正在从 Baostock 下载 sz.159928 的日线行情...\n",
                        "  - WARNING [BS]: 未能获取到 sz.159928 在指定日期范围的数据。\n",
                        "WARNNING: Could not get industry data for 贵州茅台. Using benchmark as fallback.\n",
                        "  - [4/7] 正在添加相对表现特征...\n",
                        "  - [5/7] 正在对特征进行平稳化...\n",
                        "  - [6/7] 正在创建并降噪预测标签...\n",
                        "  - [7/7] 正在进行初步特征筛选...\n",
                        "    - 移除了 5 个高相关性特征: ['week_of_year', 'industry_close', 'relative_strength_vs_industry', 'correlation_vs_industry', 'industry_close_log_return']\n",
                        "INFO: 运行架构验证...\n",
                        "    - WARNNING (Data Gaps): Found 3 large gap(s) in time series after the first data point. Max gap: 11 days 00:00:00.\n",
                        "SUCCESS: 数据结构和时间索引验证通过.\n",
                        "--- SUCCESS: Features generated for 贵州茅台. Shape: (3370, 43) ---\n",
                        "\n",
                        "--- Generating features for 平安银行 (000001.SZ) ---\n",
                        "  - Running in Training Mode: Fetching historical data based on config.\n",
                        "  - Data window: Requesting data from 2010-09-30 to 2025-09-30.\n",
                        "  - [1/7] 正在从本地缓存加载 sz.000001 的原始日线数据...\n",
                        "  - INFO: Received data for 平安银行 from 2010-09-30 to 2025-09-30.\n",
                        "INFO: Starting feature calculation pipeline...\n",
                        "  - [Calculating Features] INFO: No technical indicators specified in config. Skipping Technical Indicators.\n",
                        "  - [Calculating Features] Running: Calendar Features...\n",
                        "  - [Calculating Features] INFO: No candlestick patterns specified in config. Skipping Candlestick Patterns.\n",
                        "  - [Calculating Features] Running: Statistical Features...\n",
                        "  - [Calculating Features] Running: Price Structure Features...\n",
                        "  - [Calculating Features] Running: Volume Features...\n",
                        "  - [Calculating Features] Running: Trend Regime Features...\n",
                        "INFO: Feature calculation pipeline finished.\n",
                        "  - [1/7] 正在从本地缓存加载 sh.000984 的原始日线数据...\n",
                        "  - [1/7] 正在从 Baostock 下载 sh.512800 的日线行情...\n",
                        "  - WARNING [BS]: 未能获取到 sh.512800 在指定日期范围的数据。\n",
                        "WARNNING: Could not get industry data for 平安银行. Using benchmark as fallback.\n",
                        "  - [4/7] 正在添加相对表现特征...\n",
                        "  - [5/7] 正在对特征进行平稳化...\n",
                        "  - [6/7] 正在创建并降噪预测标签...\n",
                        "  - [7/7] 正在进行初步特征筛选...\n",
                        "    - 移除了 6 个高相关性特征: ['week_of_year', 'vwap', 'industry_close', 'relative_strength_vs_industry', 'correlation_vs_industry', 'industry_close_log_return']\n",
                        "INFO: 运行架构验证...\n",
                        "    - WARNNING (Data Gaps): Found 5 large gap(s) in time series after the first data point. Max gap: 38 days 00:00:00.\n",
                        "SUCCESS: 数据结构和时间索引验证通过.\n",
                        "--- SUCCESS: Features generated for 平安银行. Shape: (3338, 42) ---\n",
                        "\n",
                        "--- Generating features for 寒武纪-U (688256.SH) ---\n",
                        "  - Running in Training Mode: Fetching historical data based on config.\n",
                        "  - Data window: Requesting data from 2010-09-30 to 2025-09-30.\n",
                        "  - [1/7] 正在从本地缓存加载 sh.688256 的原始日线数据...\n",
                        "  - INFO: Received data for 寒武纪-U from 2020-07-20 to 2025-09-30.\n",
                        "INFO: Starting feature calculation pipeline...\n",
                        "  - [Calculating Features] INFO: No technical indicators specified in config. Skipping Technical Indicators.\n",
                        "  - [Calculating Features] Running: Calendar Features...\n",
                        "  - [Calculating Features] INFO: No candlestick patterns specified in config. Skipping Candlestick Patterns.\n",
                        "  - [Calculating Features] Running: Statistical Features...\n",
                        "  - [Calculating Features] Running: Price Structure Features...\n",
                        "  - [Calculating Features] Running: Volume Features...\n",
                        "  - [Calculating Features] Running: Trend Regime Features...\n",
                        "INFO: Feature calculation pipeline finished.\n",
                        "  - [1/7] 正在从本地缓存加载 sh.000984 的原始日线数据...\n",
                        "  - [1/7] 正在从 Baostock 下载 sz.159995 的日线行情...\n",
                        "  - WARNING [BS]: 未能获取到 sz.159995 在指定日期范围的数据。\n",
                        "WARNNING: Could not get industry data for 寒武纪-U. Using benchmark as fallback.\n",
                        "  - [4/7] 正在添加相对表现特征...\n",
                        "  - [5/7] 正在对特征进行平稳化...\n",
                        "  - [6/7] 正在创建并降噪预测标签...\n",
                        "  - [7/7] 正在进行初步特征筛选...\n",
                        "    - 移除了 5 个高相关性特征: ['week_of_year', 'industry_close', 'relative_strength_vs_industry', 'correlation_vs_industry', 'industry_close_log_return']\n",
                        "INFO: 运行架构验证...\n",
                        "    - WARNNING (Data Gaps): Found 2 large gap(s) in time series after the first data point. Max gap: 11 days 00:00:00.\n",
                        "ERROR: 数据结构验证失败!\n",
                        "验证失败详情:\n",
                        "False\n",
                        "ERROR: Final data validation failed for 寒武纪-U. Aborting.\n",
                        "\n",
                        "--- Generating features for 长城军工 (601606.SH) ---\n",
                        "  - Running in Training Mode: Fetching historical data based on config.\n",
                        "  - Data window: Requesting data from 2010-09-30 to 2025-09-30.\n",
                        "  - [1/7] 正在从本地缓存加载 sh.601606 的原始日线数据...\n",
                        "  - INFO: Received data for 长城军工 from 2018-08-06 to 2025-09-30.\n",
                        "INFO: Starting feature calculation pipeline...\n",
                        "  - [Calculating Features] INFO: No technical indicators specified in config. Skipping Technical Indicators.\n",
                        "  - [Calculating Features] Running: Calendar Features...\n",
                        "  - [Calculating Features] INFO: No candlestick patterns specified in config. Skipping Candlestick Patterns.\n",
                        "  - [Calculating Features] Running: Statistical Features...\n",
                        "  - [Calculating Features] Running: Price Structure Features...\n",
                        "  - [Calculating Features] Running: Volume Features...\n",
                        "  - [Calculating Features] Running: Trend Regime Features...\n",
                        "INFO: Feature calculation pipeline finished.\n",
                        "  - [1/7] 正在从本地缓存加载 sh.000984 的原始日线数据...\n",
                        "  - [1/7] 正在从 Baostock 下载 sh.512660 的日线行情...\n",
                        "  - WARNING [BS]: 未能获取到 sh.512660 在指定日期范围的数据。\n",
                        "WARNNING: Could not get industry data for 长城军工. Using benchmark as fallback.\n",
                        "  - [4/7] 正在添加相对表现特征...\n",
                        "  - [5/7] 正在对特征进行平稳化...\n",
                        "  - [6/7] 正在创建并降噪预测标签...\n",
                        "  - [7/7] 正在进行初步特征筛选...\n",
                        "    - 移除了 5 个高相关性特征: ['week_of_year', 'industry_close', 'relative_strength_vs_industry', 'correlation_vs_industry', 'industry_close_log_return']\n",
                        "INFO: 运行架构验证...\n",
                        "    - WARNNING (Data Gaps): Found 3 large gap(s) in time series after the first data point. Max gap: 11 days 00:00:00.\n",
                        "SUCCESS: 数据结构和时间索引验证通过.\n",
                        "--- SUCCESS: Features generated for 长城军工. Shape: (1653, 43) ---\n",
                        "\n",
                        "--- Generating features for 视觉中国 (000681.SZ) ---\n",
                        "  - Running in Training Mode: Fetching historical data based on config.\n",
                        "  - Data window: Requesting data from 2010-09-30 to 2025-09-30.\n",
                        "  - [1/7] 正在从本地缓存加载 sz.000681 的原始日线数据...\n",
                        "  - INFO: Received data for 视觉中国 from 2010-09-30 to 2025-09-30.\n",
                        "INFO: Starting feature calculation pipeline...\n",
                        "  - [Calculating Features] INFO: No technical indicators specified in config. Skipping Technical Indicators.\n",
                        "  - [Calculating Features] Running: Calendar Features...\n",
                        "  - [Calculating Features] INFO: No candlestick patterns specified in config. Skipping Candlestick Patterns.\n",
                        "  - [Calculating Features] Running: Statistical Features...\n",
                        "  - [Calculating Features] Running: Price Structure Features...\n",
                        "  - [Calculating Features] Running: Volume Features...\n",
                        "  - [Calculating Features] Running: Trend Regime Features...\n",
                        "INFO: Feature calculation pipeline finished.\n",
                        "  - [1/7] 正在从本地缓存加载 sh.000984 的原始日线数据...\n",
                        "  - [1/7] 正在从 Baostock 下载 sz.159965 的日线行情...\n",
                        "  - WARNING [BS]: 未能获取到 sz.159965 在指定日期范围的数据。\n",
                        "WARNNING: Could not get industry data for 视觉中国. Using benchmark as fallback.\n",
                        "  - [4/7] 正在添加相对表现特征...\n",
                        "  - [5/7] 正在对特征进行平稳化...\n",
                        "  - [6/7] 正在创建并降噪预测标签...\n",
                        "  - [7/7] 正在进行初步特征筛选...\n",
                        "    - 移除了 5 个高相关性特征: ['week_of_year', 'industry_close', 'relative_strength_vs_industry', 'correlation_vs_industry', 'industry_close_log_return']\n",
                        "INFO: 运行架构验证...\n",
                        "    - WARNNING (Data Gaps): Found 7 large gap(s) in time series after the first data point. Max gap: 29 days 00:00:00.\n",
                        "SUCCESS: 数据结构和时间索引验证通过.\n",
                        "--- SUCCESS: Features generated for 视觉中国. Shape: (2862, 43) ---\n",
                        "\n",
                        "--- Generating features for 长白山 (603099.SH) ---\n",
                        "  - Running in Training Mode: Fetching historical data based on config.\n",
                        "  - Data window: Requesting data from 2010-09-30 to 2025-09-30.\n",
                        "  - [1/7] 正在从本地缓存加载 sh.603099 的原始日线数据...\n",
                        "  - INFO: Received data for 长白山 from 2014-08-22 to 2025-09-30.\n",
                        "INFO: Starting feature calculation pipeline...\n",
                        "  - [Calculating Features] INFO: No technical indicators specified in config. Skipping Technical Indicators.\n",
                        "  - [Calculating Features] Running: Calendar Features...\n",
                        "  - [Calculating Features] INFO: No candlestick patterns specified in config. Skipping Candlestick Patterns.\n",
                        "  - [Calculating Features] Running: Statistical Features...\n",
                        "  - [Calculating Features] Running: Price Structure Features...\n",
                        "  - [Calculating Features] Running: Volume Features...\n",
                        "  - [Calculating Features] Running: Trend Regime Features...\n",
                        "INFO: Feature calculation pipeline finished.\n",
                        "  - [1/7] 正在从本地缓存加载 sh.000984 的原始日线数据...\n",
                        "  - [1/7] 正在从 Baostock 下载 sh.512500 的日线行情...\n",
                        "  - WARNING [BS]: 未能获取到 sh.512500 在指定日期范围的数据。\n",
                        "WARNNING: Could not get industry data for 长白山. Using benchmark as fallback.\n",
                        "  - [4/7] 正在添加相对表现特征...\n",
                        "  - [5/7] 正在对特征进行平稳化...\n",
                        "  - [6/7] 正在创建并降噪预测标签...\n",
                        "  - [7/7] 正在进行初步特征筛选...\n",
                        "    - 移除了 5 个高相关性特征: ['week_of_year', 'industry_close', 'relative_strength_vs_industry', 'correlation_vs_industry', 'industry_close_log_return']\n",
                        "INFO: 运行架构验证...\n",
                        "    - WARNNING (Data Gaps): Found 3 large gap(s) in time series after the first data point. Max gap: 11 days 00:00:00.\n",
                        "SUCCESS: 数据结构和时间索引验证通过.\n",
                        "--- SUCCESS: Features generated for 长白山. Shape: (2617, 43) ---\n",
                        "\n",
                        "--- Generating features for TCL科技 (000100.SZ) ---\n",
                        "  - Running in Training Mode: Fetching historical data based on config.\n",
                        "  - Data window: Requesting data from 2010-09-30 to 2025-09-30.\n",
                        "  - [1/7] 正在从本地缓存加载 sz.000100 的原始日线数据...\n",
                        "  - INFO: Received data for TCL科技 from 2010-09-30 to 2025-09-30.\n",
                        "INFO: Starting feature calculation pipeline...\n",
                        "  - [Calculating Features] INFO: No technical indicators specified in config. Skipping Technical Indicators.\n",
                        "  - [Calculating Features] Running: Calendar Features...\n",
                        "  - [Calculating Features] INFO: No candlestick patterns specified in config. Skipping Candlestick Patterns.\n",
                        "  - [Calculating Features] Running: Statistical Features...\n",
                        "  - [Calculating Features] Running: Price Structure Features...\n",
                        "  - [Calculating Features] Running: Volume Features...\n",
                        "  - [Calculating Features] Running: Trend Regime Features...\n",
                        "INFO: Feature calculation pipeline finished.\n",
                        "  - [1/7] 正在从本地缓存加载 sh.000984 的原始日线数据...\n",
                        "  - [1/7] 正在从 Baostock 下载 sz.159928 的日线行情...\n",
                        "  - WARNING [BS]: 未能获取到 sz.159928 在指定日期范围的数据。\n",
                        "WARNNING: Could not get industry data for TCL科技. Using benchmark as fallback.\n",
                        "  - [4/7] 正在添加相对表现特征...\n",
                        "  - [5/7] 正在对特征进行平稳化...\n",
                        "  - [6/7] 正在创建并降噪预测标签...\n",
                        "  - [7/7] 正在进行初步特征筛选...\n",
                        "    - 移除了 6 个高相关性特征: ['week_of_year', 'vwap', 'industry_close', 'relative_strength_vs_industry', 'correlation_vs_industry', 'industry_close_log_return']\n",
                        "INFO: 运行架构验证...\n",
                        "    - WARNNING (Data Gaps): Found 10 large gap(s) in time series after the first data point. Max gap: 145 days 00:00:00.\n",
                        "SUCCESS: 数据结构和时间索引验证通过.\n",
                        "--- SUCCESS: Features generated for TCL科技. Shape: (3141, 42) ---\n",
                        "--- Batch Feature Generation Process Finished ---\n",
                        "保存处理好的数据...\n",
                        "\n",
                        "  - 正在保存 600519.SH 的数据...\n",
                        "    - SUCCESS: 数据已成功保存至: data\\processed\\600519.SH\\None_to_2025-09-30\\features_5867ad8766d5.pkl\n",
                        "\n",
                        "  - 正在保存 000001.SZ 的数据...\n",
                        "    - SUCCESS: 数据已成功保存至: data\\processed\\000001.SZ\\None_to_2025-09-30\\features_1ba8b04683b8.pkl\n",
                        "\n",
                        "  - 正在保存 601606.SH 的数据...\n",
                        "    - SUCCESS: 数据已成功保存至: data\\processed\\601606.SH\\None_to_2025-09-30\\features_880856d3ad9a.pkl\n",
                        "\n",
                        "  - 正在保存 000681.SZ 的数据...\n",
                        "    - SUCCESS: 数据已成功保存至: data\\processed\\000681.SZ\\None_to_2025-09-30\\features_77cd65ed35fb.pkl\n",
                        "\n",
                        "  - 正在保存 603099.SH 的数据...\n",
                        "    - SUCCESS: 数据已成功保存至: data\\processed\\603099.SH\\None_to_2025-09-30\\features_9846c606a4c6.pkl\n",
                        "\n",
                        "  - 正在保存 000100.SZ 的数据...\n",
                        "    - SUCCESS: 数据已成功保存至: data\\processed\\000100.SZ\\None_to_2025-09-30\\features_5867ad8766d5.pkl\n",
                        "--- 所有数据保存完毕。 ---\n",
                        "\n",
                        "数据管道协调任务执行完毕。\n",
                        "logout success!\n",
                        "INFO: Baostock API 已成功登出.\n"
                    ]
                }
            ],
            "source": [
                "print(\"--- 开始步骤 1: 数据准备 ---\\n\")\n",
                "try:\n",
                "    if config: initialize_apis(config); run_data_pipeline(config_path=CONFIG_PATH)\n",
                "    else: print(\"ERROR: Config 为空.\")\n",
                "finally:\n",
                "    shutdown_apis()"
            ]
        },
        {
            "cell_type": "markdown",
            "metadata": {},
            "source": [
                "# **阶段二：模型训练与评估**"
            ]
        },
        {
            "cell_type": "markdown",
            "metadata": {},
            "source": [
                "### 2.1 数据预加载与全局预处理 (L3 缓存)"
            ]
        },
        {
            "cell_type": "code",
            "execution_count": null,
            "metadata": {},
            "outputs": [
                {
                    "name": "stdout",
                    "output_type": "stream",
                    "text": [
                        "--- Starting Stage 2.2: Data Pre-loading and Global Pre-processing ---\\n\n",
                        "INFO: L3 cache not found or is being force-reprocessed. Starting pre-processing...\\n\n",
                        "INFO: L3 cache not found or is empty. Starting pre-processing...\\n\n",
                        "INFO: PyTorch LSTMBuilder will use device: CUDA\n"
                    ]
                },
                {
                    "data": {
                        "application/vnd.jupyter.widget-view+json": {
                            "model_id": "f179e416b047492697ffedd63fbde3ff",
                            "version_major": 2,
                            "version_minor": 0
                        },
                        "text/plain": [
                            "Pre-processing Stocks:   0%|          | 0/7 [00:00<?, ?it/s]"
                        ]
                    },
                    "metadata": {},
                    "output_type": "display_data"
                },
                {
                    "name": "stdout",
                    "output_type": "stream",
                    "text": [
                        "  - 对于 贵州茅台，已识别出 37 个用于模型输入的有效特征.\n",
                        "  - Cached 52 folds for LGBM and 52 folds for LSTM for 贵州茅台.\n",
                        "  - 对于 平安银行，已识别出 36 个用于模型输入的有效特征.\n",
                        "  - Cached 51 folds for LGBM and 51 folds for LSTM for 平安银行.\n",
                        "\\nERROR: L2 data for 寒武纪-U not found.\n",
                        "  - 对于 长城军工，已识别出 37 个用于模型输入的有效特征.\n",
                        "  - Cached 23 folds for LGBM and 23 folds for LSTM for 长城军工.\n",
                        "  - 对于 视觉中国，已识别出 37 个用于模型输入的有效特征.\n",
                        "  - Cached 43 folds for LGBM and 43 folds for LSTM for 视觉中国.\n",
                        "  - 对于 长白山，已识别出 37 个用于模型输入的有效特征.\n",
                        "  - Cached 39 folds for LGBM and 39 folds for LSTM for 长白山.\n",
                        "  - 对于 TCL科技，已识别出 36 个用于模型输入的有效特征.\n",
                        "  - Cached 48 folds for LGBM and 48 folds for LSTM for TCL科技.\n",
                        "\\nINFO: 预处理已完成. 正在将 L3 缓存保存至 data\\processed\\_preprocessed_cache.joblib...\n",
                        "SUCCESS: L3 缓存已保存.\n"
                    ]
                }
            ],
            "source": [
                "# train.ipynb -> \"2.2 数据预加载与全局预处理\" (最终 LSTM 修复版)\n",
                "\n",
                "global_data_cache = {}\n",
                "print(\"--- 开始步骤 2.2: 数据预加载与全局预处理 ---\\\\n\")\n",
                "\n",
                "L3_CACHE_DIR = Path(global_settings.get('output_dir', 'data/processed'))\n",
                "L3_CACHE_DIR.mkdir(parents=True, exist_ok=True)\n",
                "L3_CACHE_PATH = L3_CACHE_DIR / \"_preprocessed_cache.joblib\"\n",
                "\n",
                "FORCE_REPROCESS = True      # 设置为 True 以重建缓存\n",
                "\n",
                "if L3_CACHE_PATH.exists() and not FORCE_REPROCESS:\n",
                "    print(f\"INFO: 已找到 L3 缓存. 正在从 {L3_CACHE_PATH} 加载...\")\n",
                "    try:\n",
                "        global_data_cache = joblib.load(L3_CACHE_PATH)\n",
                "        print(\"SUCCESS: L3 缓存已加载到内存中.\")\n",
                "    except Exception as e:\n",
                "        print(f\"WARNNING: 加载 L3 缓存失败: {e}. 正在启动预处理.\")\n",
                "        global_data_cache = {}\n",
                "else:\n",
                "    print(\"INFO: 未找到 L3 缓存或正在强制重新处理. 正在启动预处理...\\\\n\")\n",
                "\n",
                "if not global_data_cache:\n",
                "    print(\"INFO: 未找到 L3 缓存或缓存为空. 正在启动预处理...\\\\n\")\n",
                "    if config and stocks_to_process:\n",
                "        lstm_builder_for_preprocessing = LSTMBuilder(config)\n",
                "        \n",
                "        for stock_info in tqdm(stocks_to_process, desc=\"Pre-processing Stocks\"):\n",
                "            ticker = stock_info.get('ticker'); keyword = stock_info.get('keyword', ticker)\n",
                "            if not ticker: continue\n",
                "            data_path = get_processed_data_path(stock_info, config)\n",
                "            if not data_path.exists(): print(f\"\\\\nERROR: 未找到 {keyword} 的 L2 数据.\"); continue\n",
                "            \n",
                "            df = pd.read_pickle(data_path); df.index.name = 'date'\n",
                "            folds = _walk_forward_split(df, strategy_config)\n",
                "            if not folds: print(f\"\\\\nWARNNING: No folds for {keyword}.\"); continue\n",
                "\n",
                "            preprocessed_folds_lgbm, preprocessed_folds_lstm = [], []\n",
                "            label_col = global_settings.get('label_column', 'label_return')\n",
                "            features_for_model = [\n",
                "                c for c in df.columns \n",
                "                if c != label_col and not c.startswith('future_')\n",
                "            ]\n",
                "            print(f\"  - 对于 {keyword}，已识别出 {len(features_for_model)} 个用于模型输入的有效特征.\")\n",
                "\n",
                "            for train_df, val_df in folds:\n",
                "                # 1. 为 LGBM 准备数据 (不变)\n",
                "                X_train_model, y_train = train_df[features_for_model], train_df[label_col]\n",
                "                X_val_model, y_val = val_df[features_for_model], val_df[label_col]\n",
                "                scaler_lgbm = StandardScaler()\n",
                "                X_train_scaled = pd.DataFrame(scaler_lgbm.fit_transform(X_train_model), index=X_train_model.index, columns=features_for_model)\n",
                "                X_val_scaled = pd.DataFrame(scaler_lgbm.transform(X_val_model), index=X_val_model.index, columns=features_for_model)\n",
                "                preprocessed_folds_lgbm.append({'X_train_scaled': X_train_scaled, 'y_train': y_train, 'X_val_scaled': X_val_scaled, 'y_val': y_val})\n",
                "\n",
                "                # 2. 为 LSTM 准备数据\n",
                "                if 'lstm' in global_settings.get('models_to_train', []):\n",
                "                    # --- 核心修正：为验证集拼接历史数据 ---\n",
                "                    lstm_seq_len = lstm_builder_for_preprocessing.sequence_length\n",
                "                    \n",
                "                    # 确保 train_df 足够长\n",
                "                    if len(train_df) < lstm_seq_len: continue\n",
                "\n",
                "                    # 从 train_df 的末尾“借”一段历史\n",
                "                    train_history_for_val = train_df.iloc[-lstm_seq_len:]\n",
                "                    # 将历史和验证集合并，为 _create_sequences 提供连续的数据\n",
                "                    combined_df_for_lstm_val = pd.concat([train_history_for_val, val_df])\n",
                "                    # ---\n",
                "                    \n",
                "                    scaler_lstm = StandardScaler()\n",
                "                    train_df_scaled = train_df.copy(); combined_df_for_lstm_val_scaled = combined_df_for_lstm_val.copy()\n",
                "                    \n",
                "                    train_df_scaled[features_for_model] = scaler_lstm.fit_transform(train_df[features_for_model])\n",
                "                    combined_df_for_lstm_val_scaled[features_for_model] = scaler_lstm.transform(combined_df_for_lstm_val[features_for_model])\n",
                "\n",
                "                    X_train_seq, y_train_seq, _ = lstm_builder_for_preprocessing._create_sequences(train_df_scaled, features_for_model)\n",
                "                    \n",
                "                    # 使用拼接后的数据为验证集创建序列\n",
                "                    X_val_seq, y_val_seq, dates_val_seq = lstm_builder_for_preprocessing._create_sequences(combined_df_for_lstm_val_scaled, features_for_model)\n",
                "\n",
                "                    preprocessed_folds_lstm.append({'X_train_tensor': torch.from_numpy(X_train_seq), 'y_train_tensor': torch.from_numpy(y_train_seq).unsqueeze(1), 'X_val_tensor': torch.from_numpy(X_val_seq), 'y_val_tensor': torch.from_numpy(y_val_seq).unsqueeze(1), 'y_val_seq': y_val_seq, 'dates_val_seq': dates_val_seq})\n",
                "            \n",
                "            global_data_cache[ticker] = {'full_df': df, 'lgbm_folds': preprocessed_folds_lgbm, 'lstm_folds': preprocessed_folds_lstm}\n",
                "            print(f\"  - Cached {len(preprocessed_folds_lgbm)} folds for LGBM and {len(preprocessed_folds_lstm)} folds for LSTM for {keyword}.\")\n",
                "        \n",
                "        print(f\"\\\\nINFO: 预处理已完成. 正在将 L3 缓存保存至 {L3_CACHE_PATH}...\")\n",
                "        try:\n",
                "            joblib.dump(global_data_cache, L3_CACHE_PATH)\n",
                "            print(\"SUCCESS: L3 缓存已保存.\")\n",
                "        except Exception as e:\n",
                "            print(f\"ERROR: 保存 L3 缓存失败: {e}\")\n"
            ]
        },
        {
            "cell_type": "markdown",
            "metadata": {},
            "source": [
                "### 2.2 超参数优化"
            ]
        },
        {
            "cell_type": "code",
            "execution_count": null,
            "metadata": {},
            "outputs": [],
            "source": [
                "# train.ipynb -> \"2.2 (可选) 超参数优化\" (最终完整版)\n",
                "\n",
                "RUN_HPO = True # 设为 True 以运行优化，False 则跳过\n",
                "\n",
                "# --- 定义要进行 HPO 的模型列表 ---\n",
                "MODELS_FOR_HPO = ['lgbm', 'lstm']\n",
                "\n",
                "if RUN_HPO and config:\n",
                "    hpo_tickers = hpo_config.get('tickers_for_hpo', [])\n",
                "    \n",
                "    if not hpo_tickers:\n",
                "        print(\"INFO: 在配置文件中未指定用于 HPO 的股票，跳过此步骤。\")\n",
                "    elif 'global_data_cache' not in locals() or not global_data_cache:\n",
                "        print(\"ERROR: 全局数据缓存 (global_data_cache) 为空。请先成功运行 2.1 预处理单元格。\")\n",
                "    else:\n",
                "        print(f\"--- 开始为模型 {MODELS_FOR_HPO} 和股票 {hpo_tickers} 进行超参数优化 ---\\n\")\n",
                "        \n",
                "        # 循环遍历要优化的每个模型类型\n",
                "        for model_type_for_hpo in MODELS_FOR_HPO:\n",
                "            print(f\"\\n\" + \"#\"*80)\n",
                "            print(f\"# 开始为模型 [{model_type_for_hpo.upper()}] 进行 HPO\")\n",
                "            print(\"#\"*80)\n",
                "            \n",
                "            hpo_results_list = []\n",
                "            \n",
                "            # --- 从模型专属配置或全局配置中获取 hpo_num_eval_folds ---\n",
                "            model_hpo_config = hpo_config.get(f'{model_type_for_hpo}_hpo_config', {})\n",
                "            num_eval_folds = model_hpo_config.get('hpo_num_eval_folds', hpo_config.get('hpo_num_eval_folds', 2))\n",
                "\n",
                "            for ticker in hpo_tickers:\n",
                "                stock_info = next((s for s in stocks_to_process if s['ticker'] == ticker), None)\n",
                "                if not stock_info:\n",
                "                    print(f\"WARNNING: 未在 'stocks_to_process' 中找到 HPO 股票 {ticker} 的配置。跳过。\")\n",
                "                    continue\n",
                "                \n",
                "                keyword = stock_info.get('keyword', ticker)\n",
                "\n",
                "                if ticker not in global_data_cache:\n",
                "                    print(f\"ERROR: 预处理数据缓存中未找到 {keyword} 的数据。请先成功运行 2.1 单元格。跳过。\")\n",
                "                    continue\n",
                "\n",
                "                all_preprocessed_folds = global_data_cache[ticker].get(f'{model_type_for_hpo}_folds', [])\n",
                "                if not all_preprocessed_folds:\n",
                "                    print(f\"WARNNING: 缓存中未找到 {keyword} 的 '{model_type_for_hpo}' 预处理数据。跳过 HPO。\")\n",
                "                    continue\n",
                "                \n",
                "                # 使用正确的 num_eval_folds 来切片数据\n",
                "                hpo_folds_data = all_preprocessed_folds[-num_eval_folds:]\n",
                "                \n",
                "                print(f\"\\nINFO: 已为 {keyword} 加载最后 {len(hpo_folds_data)} 个 folds 用于 {model_type_for_hpo.upper()} HPO。\")\n",
                "\n",
                "                hpo_run_config = {\n",
                "                    'global_settings': global_settings, 'strategy_config': strategy_config,\n",
                "                    'default_model_params': default_model_params, 'stocks_to_process': [stock_info],\n",
                "                    'hpo_config': hpo_config\n",
                "                }\n",
                "                \n",
                "                best_params, best_value = run_hpo_for_ticker(\n",
                "                    preprocessed_folds=hpo_folds_data,\n",
                "                    ticker=ticker,\n",
                "                    config=hpo_run_config,\n",
                "                    model_type=model_type_for_hpo\n",
                "                    # n_trials 会在 run_hpo_for_ticker 函数内部自动获取\n",
                "                )\n",
                "                \n",
                "                if best_params and best_value is not None:\n",
                "                    hpo_results_list.append({'ticker': ticker, 'keyword': keyword, 'best_score': best_value, **best_params})\n",
                "            \n",
                "            if hpo_results_list:\n",
                "                # --- 实现“冠军排行榜”更新逻辑 ---\n",
                "                hpo_log_dir = Path(\"hpo_logs\")\n",
                "                hpo_log_dir.mkdir(exist_ok=True)\n",
                "                # 每个模型一个独立的冠军榜文件\n",
                "                hpo_best_results_path = hpo_log_dir / f\"hpo_best_results_{model_type_for_hpo}.csv\"\n",
                "                \n",
                "                current_hpo_df = pd.DataFrame(hpo_results_list).set_index('ticker')\n",
                "\n",
                "                if hpo_best_results_path.exists():\n",
                "                    print(f\"\\nINFO: 正在加载 [{model_type_for_hpo.upper()}] 的历史最佳 HPO 结果...\")\n",
                "                    historical_best_df = pd.read_csv(hpo_best_results_path).set_index('ticker')\n",
                "                    \n",
                "                    for ticker, current_row in current_hpo_df.iterrows():\n",
                "                        if ticker not in historical_best_df.index or current_row['best_score'] > historical_best_df.loc[ticker, 'best_score']:\n",
                "                            keyword = current_row.get('keyword', ticker)\n",
                "                            historical_score = historical_best_df.loc[ticker, 'best_score'] if ticker in historical_best_df.index else 'N/A'\n",
                "                            print(f\"  - 新纪录! [{model_type_for_hpo.upper()}] {keyword} 的最佳分数从 {historical_score if isinstance(historical_score, str) else f'{historical_score:.4f}'} 提升至 {current_row['best_score']:.4f}.\")\n",
                "                            historical_best_df.loc[ticker] = current_row\n",
                "                    final_best_df = historical_best_df\n",
                "                else:\n",
                "                    print(f\"\\nINFO: 未找到 [{model_type_for_hpo.upper()}] 的历史 HPO 结果，将本次结果作为初始最佳记录。\")\n",
                "                    final_best_df = current_hpo_df\n",
                "\n",
                "                final_best_df.to_csv(hpo_best_results_path)\n",
                "                print(f\"SUCCESS: 最新的 [{model_type_for_hpo.upper()}] HPO 冠军榜已保存至 {hpo_best_results_path}\")\n",
                "                \n",
                "                # --- 展示和应用最终的参数 ---\n",
                "                PARAM_MAP_CN = {'best_score': '最佳分数 (ICIR)', 'keyword': '股票名称', 'num_leaves': '叶子节点数', 'learning_rate': '学习率', 'min_child_samples': '叶节点最小样本数', 'feature_fraction': '特征采样比例', 'bagging_fraction': '数据采样比例', 'reg_alpha': 'L1正则化', 'reg_lambda': 'L2正则化', 'units_1': '隐藏层1单元数', 'units_2': '隐藏层2单元数', 'dropout': 'Dropout率'}\n",
                "                display_df = final_best_df.reset_index().rename(columns=PARAM_MAP_CN)\n",
                "                if '股票名称' in display_df.columns: display_df = display_df.set_index(['ticker', '股票名称'])\n",
                "                \n",
                "                print(f\"--- {model_type_for_hpo.upper()} HPO 最佳参数冠军榜 ---\")\n",
                "                display(display_df.style.format({'最佳分数 (ICIR)': '{:.4f}'}).background_gradient(cmap='viridis', subset=['最佳分数 (ICIR)']))\n",
                "                \n",
                "                param_cols_original = [c for c in hpo_results_list[0].keys() if c not in ['ticker', 'keyword', 'best_score']]\n",
                "                final_hpo_params = final_best_df[param_cols_original].mean().to_dict()\n",
                "                average_best_score = final_best_df['best_score'].mean()\n",
                "                \n",
                "                for p in ['num_leaves', 'min_child_samples', 'units_1', 'units_2']:\n",
                "                    if p in final_hpo_params: final_hpo_params[p] = int(round(final_hpo_params[p]))\n",
                "                \n",
                "                param_key = f\"{model_type_for_hpo}_params\"\n",
                "                config['default_model_params'][param_key].update(final_hpo_params)\n",
                "                default_model_params[param_key] = config['default_model_params'][param_key]\n",
                "                \n",
                "                print(f\"--- {model_type_for_hpo.upper()} HPO 综合结果 ---\")\n",
                "                print(f\"本轮 HPO 冠军榜平均最高分 (ICIR): {average_best_score:.4f}\")\n",
                "                print(f\"将用于后续训练的【{model_type_for_hpo.upper()} 平均参数】如下:\")\n",
                "                print(yaml.dump(default_model_params[param_key], allow_unicode=True))\n",
                "\n",
                "else:\n",
                "    print(\"INFO: 跳过 HPO 步骤。\")"
            ]
        },
        {
            "cell_type": "markdown",
            "metadata": {},
            "source": [
                "### 2.3 模型训练"
            ]
        },
        {
            "cell_type": "code",
            "execution_count": 5,
            "metadata": {},
            "outputs": [
                {
                    "name": "stdout",
                    "output_type": "stream",
                    "text": [
                        "    - Quantile 0.95: Finished. Best iter: [1]\n",
                        "    - Quantile 0.05: Finished. Best iter: [149]\n",
                        "    - Quantile 0.5: Finished. Best iter: [151]\n",
                        "    - Quantile 0.95: Finished. Best iter: [10]\n",
                        "    - Quantile 0.05: Finished. Best iter: [22]\n",
                        "    - Quantile 0.5: Finished. Best iter: [2]\n",
                        "    - Quantile 0.95: Finished. Best iter: [2]\n",
                        "    - Quantile 0.05: Finished. Best iter: [198]\n",
                        "    - Quantile 0.5: Finished. Best iter: [36]\n",
                        "    - Quantile 0.95: Finished. Best iter: [1]\n",
                        "    - Quantile 0.05: Finished. Best iter: [131]\n",
                        "    - Quantile 0.5: Finished. Best iter: [6]\n",
                        "    - Quantile 0.95: Finished. Best iter: [6]\n",
                        "    - Quantile 0.05: Finished. Best iter: [200]\n",
                        "    - Quantile 0.5: Finished. Best iter: [70]\n",
                        "    - Quantile 0.95: Finished. Best iter: [2]\n",
                        "    - Quantile 0.05: Finished. Best iter: [1]\n",
                        "    - Quantile 0.5: Finished. Best iter: [2]\n",
                        "    - Quantile 0.95: Finished. Best iter: [35]\n",
                        "    - Quantile 0.05: Finished. Best iter: [200]\n",
                        "    - Quantile 0.5: Finished. Best iter: [1]\n",
                        "    - Quantile 0.95: Finished. Best iter: [1]\n",
                        "    - Quantile 0.05: Finished. Best iter: [58]\n",
                        "    - Quantile 0.5: Finished. Best iter: [6]\n",
                        "    - Quantile 0.95: Finished. Best iter: [1]\n",
                        "    - Quantile 0.05: Finished. Best iter: [144]\n",
                        "    - Quantile 0.5: Finished. Best iter: [187]\n",
                        "    - Quantile 0.95: Finished. Best iter: [1]\n",
                        "    - Quantile 0.05: Finished. Best iter: [198]\n",
                        "    - Quantile 0.5: Finished. Best iter: [174]\n",
                        "    - Quantile 0.95: Finished. Best iter: [102]\n",
                        "    - Quantile 0.05: Finished. Best iter: [4]\n",
                        "    - Quantile 0.5: Finished. Best iter: [4]\n",
                        "    - Quantile 0.95: Finished. Best iter: [1]\n",
                        "    - Quantile 0.05: Finished. Best iter: [75]\n",
                        "    - Quantile 0.5: Finished. Best iter: [46]\n",
                        "    - Quantile 0.95: Finished. Best iter: [1]\n",
                        "    - Quantile 0.05: Finished. Best iter: [1]\n",
                        "    - Quantile 0.5: Finished. Best iter: [1]\n",
                        "    - Quantile 0.95: Finished. Best iter: [6]\n",
                        "    - Quantile 0.05: Finished. Best iter: [9]\n",
                        "    - Quantile 0.5: Finished. Best iter: [9]\n",
                        "    - Quantile 0.95: Finished. Best iter: [9]\n",
                        "    - Quantile 0.05: Finished. Best iter: [134]\n",
                        "    - Quantile 0.5: Finished. Best iter: [198]\n",
                        "    - Quantile 0.95: Finished. Best iter: [197]\n",
                        "    - Quantile 0.05: Finished. Best iter: [36]\n",
                        "    - Quantile 0.5: Finished. Best iter: [36]\n",
                        "    - Quantile 0.95: Finished. Best iter: [123]\n",
                        "    - Quantile 0.05: Finished. Best iter: [1]\n",
                        "    - Quantile 0.5: Finished. Best iter: [1]\n",
                        "    - Quantile 0.95: Finished. Best iter: [180]\n",
                        "    - Quantile 0.05: Finished. Best iter: [4]\n",
                        "    - Quantile 0.5: Finished. Best iter: [127]\n",
                        "    - Quantile 0.95: Finished. Best iter: [200]\n",
                        "    - Quantile 0.05: Finished. Best iter: [197]\n",
                        "    - Quantile 0.5: Finished. Best iter: [186]\n",
                        "    - Quantile 0.95: Finished. Best iter: [188]\n",
                        "    - Quantile 0.05: Finished. Best iter: [123]\n",
                        "    - Quantile 0.5: Finished. Best iter: [107]\n",
                        "    - Quantile 0.95: Finished. Best iter: [40]\n",
                        "    - Quantile 0.05: Finished. Best iter: [200]\n",
                        "    - Quantile 0.5: Finished. Best iter: [187]\n",
                        "    - Quantile 0.95: Finished. Best iter: [26]\n",
                        "    - Quantile 0.05: Finished. Best iter: [1]\n",
                        "    - Quantile 0.5: Finished. Best iter: [44]\n",
                        "    - Quantile 0.95: Finished. Best iter: [196]\n",
                        "    - Quantile 0.05: Finished. Best iter: [38]\n",
                        "    - Quantile 0.5: Finished. Best iter: [37]\n",
                        "    - Quantile 0.95: Finished. Best iter: [108]\n",
                        "    - Quantile 0.05: Finished. Best iter: [11]\n",
                        "    - Quantile 0.5: Finished. Best iter: [11]\n",
                        "    - Quantile 0.95: Finished. Best iter: [200]\n",
                        "    - Quantile 0.05: Finished. Best iter: [107]\n",
                        "    - Quantile 0.5: Finished. Best iter: [9]\n",
                        "    - Quantile 0.95: Finished. Best iter: [9]\n",
                        "    - Quantile 0.05: Finished. Best iter: [1]\n",
                        "    - Quantile 0.5: Finished. Best iter: [197]\n",
                        "    - Quantile 0.95: Finished. Best iter: [200]\n",
                        "    - Quantile 0.05: Finished. Best iter: [197]\n",
                        "    - Quantile 0.5: Finished. Best iter: [195]\n",
                        "    - Quantile 0.95: Finished. Best iter: [32]\n",
                        "    - Quantile 0.05: Finished. Best iter: [63]\n",
                        "    - Quantile 0.5: Finished. Best iter: [2]\n",
                        "    - Quantile 0.95: Finished. Best iter: [1]\n",
                        "SUCCESS: Out-of-Fold predictions saved to models\\000100.SZ\\lgbm_oof_preds.csv\n",
                        "INFO: Training final model for TCL科技 (000100.SZ) on all data...\n",
                        "\n",
                        "================================================================================\n",
                        "--- Starting LSTM training for TCL科技 (000100.SZ) ---\n",
                        "INFO: PyTorch LSTMBuilder will use device: CUDA\n",
                        "INFO: Starting Walk-Forward validation for TCL科技 across 47 folds...\n"
                    ]
                },
                {
                    "data": {
                        "application/vnd.jupyter.widget-view+json": {
                            "model_id": "00813bb77b464472a65815620a984634",
                            "version_major": 2,
                            "version_minor": 0
                        },
                        "text/plain": [
                            "Training LSTM on TCL科技:   0%|          | 0/47 [00:00<?, ?it/s]"
                        ]
                    },
                    "metadata": {},
                    "output_type": "display_data"
                },
                {
                    "data": {
                        "application/vnd.jupyter.widget-view+json": {
                            "model_id": "1850336a0a25419f9a1987b720999051",
                            "version_major": 2,
                            "version_minor": 0
                        },
                        "text/plain": [
                            "    - Epochs:   0%|          | 0/200 [00:00<?, ?it/s]"
                        ]
                    },
                    "metadata": {},
                    "output_type": "display_data"
                },
                {
                    "name": "stdout",
                    "output_type": "stream",
                    "text": [
                        "    - Fold finished. Best validation loss: 0.005490 at epoch 36\n"
                    ]
                },
                {
                    "data": {
                        "application/vnd.jupyter.widget-view+json": {
                            "model_id": "6d2c03fe06ff4a768afb3bf439efbf4a",
                            "version_major": 2,
                            "version_minor": 0
                        },
                        "text/plain": [
                            "    - Epochs:   0%|          | 0/200 [00:00<?, ?it/s]"
                        ]
                    },
                    "metadata": {},
                    "output_type": "display_data"
                },
                {
                    "name": "stdout",
                    "output_type": "stream",
                    "text": [
                        "    - Fold finished. Best validation loss: 0.003501 at epoch 1\n"
                    ]
                },
                {
                    "data": {
                        "application/vnd.jupyter.widget-view+json": {
                            "model_id": "562255fa072b47fabdc622174b68df74",
                            "version_major": 2,
                            "version_minor": 0
                        },
                        "text/plain": [
                            "    - Epochs:   0%|          | 0/200 [00:00<?, ?it/s]"
                        ]
                    },
                    "metadata": {},
                    "output_type": "display_data"
                },
                {
                    "name": "stdout",
                    "output_type": "stream",
                    "text": [
                        "    - Fold finished. Best validation loss: 0.001180 at epoch 19\n"
                    ]
                },
                {
                    "data": {
                        "application/vnd.jupyter.widget-view+json": {
                            "model_id": "51dc505b4796438ba3ff26e61bf43272",
                            "version_major": 2,
                            "version_minor": 0
                        },
                        "text/plain": [
                            "    - Epochs:   0%|          | 0/200 [00:00<?, ?it/s]"
                        ]
                    },
                    "metadata": {},
                    "output_type": "display_data"
                },
                {
                    "name": "stdout",
                    "output_type": "stream",
                    "text": [
                        "    - Fold finished. Best validation loss: 0.032795 at epoch 12\n"
                    ]
                },
                {
                    "data": {
                        "application/vnd.jupyter.widget-view+json": {
                            "model_id": "2472d47ab11d47e3a9a2179f117bc872",
                            "version_major": 2,
                            "version_minor": 0
                        },
                        "text/plain": [
                            "    - Epochs:   0%|          | 0/200 [00:00<?, ?it/s]"
                        ]
                    },
                    "metadata": {},
                    "output_type": "display_data"
                },
                {
                    "name": "stdout",
                    "output_type": "stream",
                    "text": [
                        "    - Fold finished. Best validation loss: 0.004435 at epoch 8\n"
                    ]
                },
                {
                    "data": {
                        "application/vnd.jupyter.widget-view+json": {
                            "model_id": "d6809c48a5a64510a8a28b9a4845eb25",
                            "version_major": 2,
                            "version_minor": 0
                        },
                        "text/plain": [
                            "    - Epochs:   0%|          | 0/200 [00:00<?, ?it/s]"
                        ]
                    },
                    "metadata": {},
                    "output_type": "display_data"
                },
                {
                    "name": "stdout",
                    "output_type": "stream",
                    "text": [
                        "    - Fold finished. Best validation loss: 0.029117 at epoch 29\n"
                    ]
                },
                {
                    "data": {
                        "application/vnd.jupyter.widget-view+json": {
                            "model_id": "9a5ff687d2db49ee912988af07462a77",
                            "version_major": 2,
                            "version_minor": 0
                        },
                        "text/plain": [
                            "    - Epochs:   0%|          | 0/200 [00:00<?, ?it/s]"
                        ]
                    },
                    "metadata": {},
                    "output_type": "display_data"
                },
                {
                    "name": "stdout",
                    "output_type": "stream",
                    "text": [
                        "    - Fold finished. Best validation loss: 0.084321 at epoch 1\n"
                    ]
                },
                {
                    "data": {
                        "application/vnd.jupyter.widget-view+json": {
                            "model_id": "264b8ca9059940738506ec2b938d8cf8",
                            "version_major": 2,
                            "version_minor": 0
                        },
                        "text/plain": [
                            "    - Epochs:   0%|          | 0/200 [00:00<?, ?it/s]"
                        ]
                    },
                    "metadata": {},
                    "output_type": "display_data"
                },
                {
                    "name": "stdout",
                    "output_type": "stream",
                    "text": [
                        "    - Fold finished. Best validation loss: 0.005744 at epoch 4\n"
                    ]
                },
                {
                    "data": {
                        "application/vnd.jupyter.widget-view+json": {
                            "model_id": "4aa62e0108724e3da9fd9536e7421a25",
                            "version_major": 2,
                            "version_minor": 0
                        },
                        "text/plain": [
                            "    - Epochs:   0%|          | 0/200 [00:00<?, ?it/s]"
                        ]
                    },
                    "metadata": {},
                    "output_type": "display_data"
                },
                {
                    "name": "stdout",
                    "output_type": "stream",
                    "text": [
                        "    - Fold finished. Best validation loss: 0.016914 at epoch 1\n"
                    ]
                },
                {
                    "data": {
                        "application/vnd.jupyter.widget-view+json": {
                            "model_id": "0cba62f850fa414ebeaa6dd4e405e446",
                            "version_major": 2,
                            "version_minor": 0
                        },
                        "text/plain": [
                            "    - Epochs:   0%|          | 0/200 [00:00<?, ?it/s]"
                        ]
                    },
                    "metadata": {},
                    "output_type": "display_data"
                },
                {
                    "name": "stdout",
                    "output_type": "stream",
                    "text": [
                        "    - Fold finished. Best validation loss: 0.011194 at epoch 1\n"
                    ]
                },
                {
                    "data": {
                        "application/vnd.jupyter.widget-view+json": {
                            "model_id": "3cfac9b760934725a06bc0e0e2f14949",
                            "version_major": 2,
                            "version_minor": 0
                        },
                        "text/plain": [
                            "    - Epochs:   0%|          | 0/200 [00:00<?, ?it/s]"
                        ]
                    },
                    "metadata": {},
                    "output_type": "display_data"
                },
                {
                    "name": "stdout",
                    "output_type": "stream",
                    "text": [
                        "    - Fold finished. Best validation loss: 0.008311 at epoch 7\n"
                    ]
                },
                {
                    "data": {
                        "application/vnd.jupyter.widget-view+json": {
                            "model_id": "681e01912515438b8159d7f1e0619476",
                            "version_major": 2,
                            "version_minor": 0
                        },
                        "text/plain": [
                            "    - Epochs:   0%|          | 0/200 [00:00<?, ?it/s]"
                        ]
                    },
                    "metadata": {},
                    "output_type": "display_data"
                },
                {
                    "name": "stdout",
                    "output_type": "stream",
                    "text": [
                        "    - Fold finished. Best validation loss: 0.002204 at epoch 1\n"
                    ]
                },
                {
                    "data": {
                        "application/vnd.jupyter.widget-view+json": {
                            "model_id": "915982220d8f4974ae0c054ea32ba7de",
                            "version_major": 2,
                            "version_minor": 0
                        },
                        "text/plain": [
                            "    - Epochs:   0%|          | 0/200 [00:00<?, ?it/s]"
                        ]
                    },
                    "metadata": {},
                    "output_type": "display_data"
                },
                {
                    "name": "stdout",
                    "output_type": "stream",
                    "text": [
                        "    - Fold finished. Best validation loss: 0.000732 at epoch 4\n"
                    ]
                },
                {
                    "data": {
                        "application/vnd.jupyter.widget-view+json": {
                            "model_id": "7ef4b07cdea840f7b3b7eabde8b99f92",
                            "version_major": 2,
                            "version_minor": 0
                        },
                        "text/plain": [
                            "    - Epochs:   0%|          | 0/200 [00:00<?, ?it/s]"
                        ]
                    },
                    "metadata": {},
                    "output_type": "display_data"
                },
                {
                    "name": "stdout",
                    "output_type": "stream",
                    "text": [
                        "    - Fold finished. Best validation loss: 0.000378 at epoch 16\n"
                    ]
                },
                {
                    "data": {
                        "application/vnd.jupyter.widget-view+json": {
                            "model_id": "d8c65820476a4a6da7715e93a5ca5627",
                            "version_major": 2,
                            "version_minor": 0
                        },
                        "text/plain": [
                            "    - Epochs:   0%|          | 0/200 [00:00<?, ?it/s]"
                        ]
                    },
                    "metadata": {},
                    "output_type": "display_data"
                },
                {
                    "name": "stdout",
                    "output_type": "stream",
                    "text": [
                        "    - Fold finished. Best validation loss: 0.010883 at epoch 1\n"
                    ]
                },
                {
                    "data": {
                        "application/vnd.jupyter.widget-view+json": {
                            "model_id": "3676cf6c4f2441fd87cda5f8b895f993",
                            "version_major": 2,
                            "version_minor": 0
                        },
                        "text/plain": [
                            "    - Epochs:   0%|          | 0/200 [00:00<?, ?it/s]"
                        ]
                    },
                    "metadata": {},
                    "output_type": "display_data"
                },
                {
                    "name": "stdout",
                    "output_type": "stream",
                    "text": [
                        "    - Fold finished. Best validation loss: 0.026273 at epoch 9\n"
                    ]
                },
                {
                    "data": {
                        "application/vnd.jupyter.widget-view+json": {
                            "model_id": "1db60e5310c842548ca55d2be2bc389e",
                            "version_major": 2,
                            "version_minor": 0
                        },
                        "text/plain": [
                            "    - Epochs:   0%|          | 0/200 [00:00<?, ?it/s]"
                        ]
                    },
                    "metadata": {},
                    "output_type": "display_data"
                },
                {
                    "name": "stdout",
                    "output_type": "stream",
                    "text": [
                        "    - Fold finished. Best validation loss: 0.008431 at epoch 1\n"
                    ]
                },
                {
                    "data": {
                        "application/vnd.jupyter.widget-view+json": {
                            "model_id": "b32cba66ff314427ba7e55a7018d3317",
                            "version_major": 2,
                            "version_minor": 0
                        },
                        "text/plain": [
                            "    - Epochs:   0%|          | 0/200 [00:00<?, ?it/s]"
                        ]
                    },
                    "metadata": {},
                    "output_type": "display_data"
                },
                {
                    "name": "stdout",
                    "output_type": "stream",
                    "text": [
                        "    - Fold finished. Best validation loss: 0.007518 at epoch 1\n"
                    ]
                },
                {
                    "data": {
                        "application/vnd.jupyter.widget-view+json": {
                            "model_id": "9cc74e3f746f4df8b7ccd3a7e90c9bc9",
                            "version_major": 2,
                            "version_minor": 0
                        },
                        "text/plain": [
                            "    - Epochs:   0%|          | 0/200 [00:00<?, ?it/s]"
                        ]
                    },
                    "metadata": {},
                    "output_type": "display_data"
                },
                {
                    "name": "stdout",
                    "output_type": "stream",
                    "text": [
                        "    - Fold finished. Best validation loss: 0.003354 at epoch 9\n"
                    ]
                },
                {
                    "data": {
                        "application/vnd.jupyter.widget-view+json": {
                            "model_id": "e7419e7dbbca4efebc0db9d77de94715",
                            "version_major": 2,
                            "version_minor": 0
                        },
                        "text/plain": [
                            "    - Epochs:   0%|          | 0/200 [00:00<?, ?it/s]"
                        ]
                    },
                    "metadata": {},
                    "output_type": "display_data"
                },
                {
                    "name": "stdout",
                    "output_type": "stream",
                    "text": [
                        "    - Fold finished. Best validation loss: 0.001686 at epoch 11\n"
                    ]
                },
                {
                    "data": {
                        "application/vnd.jupyter.widget-view+json": {
                            "model_id": "07a1bd48666340a29d01891962ce3622",
                            "version_major": 2,
                            "version_minor": 0
                        },
                        "text/plain": [
                            "    - Epochs:   0%|          | 0/200 [00:00<?, ?it/s]"
                        ]
                    },
                    "metadata": {},
                    "output_type": "display_data"
                },
                {
                    "name": "stdout",
                    "output_type": "stream",
                    "text": [
                        "    - Fold finished. Best validation loss: 0.065917 at epoch 1\n"
                    ]
                },
                {
                    "data": {
                        "application/vnd.jupyter.widget-view+json": {
                            "model_id": "6053e3c8b4064b79ab77ad95063cfa84",
                            "version_major": 2,
                            "version_minor": 0
                        },
                        "text/plain": [
                            "    - Epochs:   0%|          | 0/200 [00:00<?, ?it/s]"
                        ]
                    },
                    "metadata": {},
                    "output_type": "display_data"
                },
                {
                    "name": "stdout",
                    "output_type": "stream",
                    "text": [
                        "    - Fold finished. Best validation loss: 0.013449 at epoch 3\n"
                    ]
                },
                {
                    "data": {
                        "application/vnd.jupyter.widget-view+json": {
                            "model_id": "238e1808c975420ba73d003907c110ae",
                            "version_major": 2,
                            "version_minor": 0
                        },
                        "text/plain": [
                            "    - Epochs:   0%|          | 0/200 [00:00<?, ?it/s]"
                        ]
                    },
                    "metadata": {},
                    "output_type": "display_data"
                },
                {
                    "name": "stdout",
                    "output_type": "stream",
                    "text": [
                        "    - Fold finished. Best validation loss: 0.004425 at epoch 1\n"
                    ]
                },
                {
                    "data": {
                        "application/vnd.jupyter.widget-view+json": {
                            "model_id": "ab59e6419768464a82f4b2e117e535cd",
                            "version_major": 2,
                            "version_minor": 0
                        },
                        "text/plain": [
                            "    - Epochs:   0%|          | 0/200 [00:00<?, ?it/s]"
                        ]
                    },
                    "metadata": {},
                    "output_type": "display_data"
                },
                {
                    "name": "stdout",
                    "output_type": "stream",
                    "text": [
                        "    - Fold finished. Best validation loss: 0.008071 at epoch 18\n"
                    ]
                },
                {
                    "data": {
                        "application/vnd.jupyter.widget-view+json": {
                            "model_id": "0053a362210b42d58992eab53e3445cf",
                            "version_major": 2,
                            "version_minor": 0
                        },
                        "text/plain": [
                            "    - Epochs:   0%|          | 0/200 [00:00<?, ?it/s]"
                        ]
                    },
                    "metadata": {},
                    "output_type": "display_data"
                },
                {
                    "name": "stdout",
                    "output_type": "stream",
                    "text": [
                        "    - Fold finished. Best validation loss: 0.064568 at epoch 48\n"
                    ]
                },
                {
                    "data": {
                        "application/vnd.jupyter.widget-view+json": {
                            "model_id": "bc3fd3734d744779924e3c26c983ced7",
                            "version_major": 2,
                            "version_minor": 0
                        },
                        "text/plain": [
                            "    - Epochs:   0%|          | 0/200 [00:00<?, ?it/s]"
                        ]
                    },
                    "metadata": {},
                    "output_type": "display_data"
                },
                {
                    "name": "stdout",
                    "output_type": "stream",
                    "text": [
                        "    - Fold finished. Best validation loss: 0.092167 at epoch 1\n"
                    ]
                },
                {
                    "data": {
                        "application/vnd.jupyter.widget-view+json": {
                            "model_id": "cf3ac5a844484d7e9cb75c455afed072",
                            "version_major": 2,
                            "version_minor": 0
                        },
                        "text/plain": [
                            "    - Epochs:   0%|          | 0/200 [00:00<?, ?it/s]"
                        ]
                    },
                    "metadata": {},
                    "output_type": "display_data"
                },
                {
                    "name": "stdout",
                    "output_type": "stream",
                    "text": [
                        "    - Fold finished. Best validation loss: 0.009821 at epoch 1\n"
                    ]
                },
                {
                    "data": {
                        "application/vnd.jupyter.widget-view+json": {
                            "model_id": "0923b23cb3984c1db9439b9fe02c3b00",
                            "version_major": 2,
                            "version_minor": 0
                        },
                        "text/plain": [
                            "    - Epochs:   0%|          | 0/200 [00:00<?, ?it/s]"
                        ]
                    },
                    "metadata": {},
                    "output_type": "display_data"
                },
                {
                    "name": "stdout",
                    "output_type": "stream",
                    "text": [
                        "    - Fold finished. Best validation loss: 0.007326 at epoch 3\n"
                    ]
                },
                {
                    "data": {
                        "application/vnd.jupyter.widget-view+json": {
                            "model_id": "c2fec04ad2944315a17b06819fc8b4e9",
                            "version_major": 2,
                            "version_minor": 0
                        },
                        "text/plain": [
                            "    - Epochs:   0%|          | 0/200 [00:00<?, ?it/s]"
                        ]
                    },
                    "metadata": {},
                    "output_type": "display_data"
                },
                {
                    "name": "stdout",
                    "output_type": "stream",
                    "text": [
                        "    - Fold finished. Best validation loss: 0.020607 at epoch 37\n"
                    ]
                },
                {
                    "data": {
                        "application/vnd.jupyter.widget-view+json": {
                            "model_id": "0cfe666e113042c885c8052b9334a4e4",
                            "version_major": 2,
                            "version_minor": 0
                        },
                        "text/plain": [
                            "    - Epochs:   0%|          | 0/200 [00:00<?, ?it/s]"
                        ]
                    },
                    "metadata": {},
                    "output_type": "display_data"
                },
                {
                    "name": "stdout",
                    "output_type": "stream",
                    "text": [
                        "    - Fold finished. Best validation loss: 0.018926 at epoch 48\n"
                    ]
                },
                {
                    "data": {
                        "application/vnd.jupyter.widget-view+json": {
                            "model_id": "c55a60eea26e445ab5ed138e877de2a5",
                            "version_major": 2,
                            "version_minor": 0
                        },
                        "text/plain": [
                            "    - Epochs:   0%|          | 0/200 [00:00<?, ?it/s]"
                        ]
                    },
                    "metadata": {},
                    "output_type": "display_data"
                },
                {
                    "name": "stdout",
                    "output_type": "stream",
                    "text": [
                        "    - Fold finished. Best validation loss: 0.011481 at epoch 16\n"
                    ]
                },
                {
                    "data": {
                        "application/vnd.jupyter.widget-view+json": {
                            "model_id": "6782ef512f6443e6b21988231c5fdcff",
                            "version_major": 2,
                            "version_minor": 0
                        },
                        "text/plain": [
                            "    - Epochs:   0%|          | 0/200 [00:00<?, ?it/s]"
                        ]
                    },
                    "metadata": {},
                    "output_type": "display_data"
                },
                {
                    "name": "stdout",
                    "output_type": "stream",
                    "text": [
                        "    - Fold finished. Best validation loss: 0.002149 at epoch 32\n"
                    ]
                },
                {
                    "data": {
                        "application/vnd.jupyter.widget-view+json": {
                            "model_id": "2314f1a18faf42f9b423d6654ab1320f",
                            "version_major": 2,
                            "version_minor": 0
                        },
                        "text/plain": [
                            "    - Epochs:   0%|          | 0/200 [00:00<?, ?it/s]"
                        ]
                    },
                    "metadata": {},
                    "output_type": "display_data"
                },
                {
                    "name": "stdout",
                    "output_type": "stream",
                    "text": [
                        "    - Fold finished. Best validation loss: 0.030985 at epoch 2\n"
                    ]
                },
                {
                    "data": {
                        "application/vnd.jupyter.widget-view+json": {
                            "model_id": "3db0141c88bc4c9d8e3db4569126671d",
                            "version_major": 2,
                            "version_minor": 0
                        },
                        "text/plain": [
                            "    - Epochs:   0%|          | 0/200 [00:00<?, ?it/s]"
                        ]
                    },
                    "metadata": {},
                    "output_type": "display_data"
                },
                {
                    "name": "stdout",
                    "output_type": "stream",
                    "text": [
                        "    - Fold finished. Best validation loss: 0.007535 at epoch 6\n"
                    ]
                },
                {
                    "data": {
                        "application/vnd.jupyter.widget-view+json": {
                            "model_id": "3ec595624d904404b1d9b31b5c7bcf01",
                            "version_major": 2,
                            "version_minor": 0
                        },
                        "text/plain": [
                            "    - Epochs:   0%|          | 0/200 [00:00<?, ?it/s]"
                        ]
                    },
                    "metadata": {},
                    "output_type": "display_data"
                },
                {
                    "name": "stdout",
                    "output_type": "stream",
                    "text": [
                        "    - Fold finished. Best validation loss: 0.004526 at epoch 10\n"
                    ]
                },
                {
                    "data": {
                        "application/vnd.jupyter.widget-view+json": {
                            "model_id": "c9ffbc239ec54adfb6f444a014f4b103",
                            "version_major": 2,
                            "version_minor": 0
                        },
                        "text/plain": [
                            "    - Epochs:   0%|          | 0/200 [00:00<?, ?it/s]"
                        ]
                    },
                    "metadata": {},
                    "output_type": "display_data"
                },
                {
                    "name": "stdout",
                    "output_type": "stream",
                    "text": [
                        "    - Fold finished. Best validation loss: 0.015041 at epoch 1\n"
                    ]
                },
                {
                    "data": {
                        "application/vnd.jupyter.widget-view+json": {
                            "model_id": "05ca67fbf9264fec9dc88d34ae40849d",
                            "version_major": 2,
                            "version_minor": 0
                        },
                        "text/plain": [
                            "    - Epochs:   0%|          | 0/200 [00:00<?, ?it/s]"
                        ]
                    },
                    "metadata": {},
                    "output_type": "display_data"
                },
                {
                    "name": "stdout",
                    "output_type": "stream",
                    "text": [
                        "    - Fold finished. Best validation loss: 0.005227 at epoch 2\n"
                    ]
                },
                {
                    "data": {
                        "application/vnd.jupyter.widget-view+json": {
                            "model_id": "ab2e4968bff542dd804b1b93737f06b9",
                            "version_major": 2,
                            "version_minor": 0
                        },
                        "text/plain": [
                            "    - Epochs:   0%|          | 0/200 [00:00<?, ?it/s]"
                        ]
                    },
                    "metadata": {},
                    "output_type": "display_data"
                },
                {
                    "name": "stdout",
                    "output_type": "stream",
                    "text": [
                        "    - Fold finished. Best validation loss: 0.005051 at epoch 2\n"
                    ]
                },
                {
                    "data": {
                        "application/vnd.jupyter.widget-view+json": {
                            "model_id": "96cba568a5cb45b384e00dba70127bc8",
                            "version_major": 2,
                            "version_minor": 0
                        },
                        "text/plain": [
                            "    - Epochs:   0%|          | 0/200 [00:00<?, ?it/s]"
                        ]
                    },
                    "metadata": {},
                    "output_type": "display_data"
                },
                {
                    "name": "stdout",
                    "output_type": "stream",
                    "text": [
                        "    - Fold finished. Best validation loss: 0.011512 at epoch 1\n"
                    ]
                },
                {
                    "data": {
                        "application/vnd.jupyter.widget-view+json": {
                            "model_id": "4531cc59842e470bb1bb71edc1e8aec0",
                            "version_major": 2,
                            "version_minor": 0
                        },
                        "text/plain": [
                            "    - Epochs:   0%|          | 0/200 [00:00<?, ?it/s]"
                        ]
                    },
                    "metadata": {},
                    "output_type": "display_data"
                },
                {
                    "name": "stdout",
                    "output_type": "stream",
                    "text": [
                        "    - Fold finished. Best validation loss: 0.003566 at epoch 4\n"
                    ]
                },
                {
                    "data": {
                        "application/vnd.jupyter.widget-view+json": {
                            "model_id": "b4bd612019054c22b1adc813748fa559",
                            "version_major": 2,
                            "version_minor": 0
                        },
                        "text/plain": [
                            "    - Epochs:   0%|          | 0/200 [00:00<?, ?it/s]"
                        ]
                    },
                    "metadata": {},
                    "output_type": "display_data"
                },
                {
                    "name": "stdout",
                    "output_type": "stream",
                    "text": [
                        "    - Fold finished. Best validation loss: 0.003853 at epoch 1\n"
                    ]
                },
                {
                    "data": {
                        "application/vnd.jupyter.widget-view+json": {
                            "model_id": "9700901f0d4c4578af701a348bf17908",
                            "version_major": 2,
                            "version_minor": 0
                        },
                        "text/plain": [
                            "    - Epochs:   0%|          | 0/200 [00:00<?, ?it/s]"
                        ]
                    },
                    "metadata": {},
                    "output_type": "display_data"
                },
                {
                    "name": "stdout",
                    "output_type": "stream",
                    "text": [
                        "    - Fold finished. Best validation loss: 0.001857 at epoch 21\n"
                    ]
                },
                {
                    "data": {
                        "application/vnd.jupyter.widget-view+json": {
                            "model_id": "62687be8e15a4cd996abe91862402e90",
                            "version_major": 2,
                            "version_minor": 0
                        },
                        "text/plain": [
                            "    - Epochs:   0%|          | 0/200 [00:00<?, ?it/s]"
                        ]
                    },
                    "metadata": {},
                    "output_type": "display_data"
                },
                {
                    "name": "stdout",
                    "output_type": "stream",
                    "text": [
                        "    - Fold finished. Best validation loss: 0.010736 at epoch 1\n"
                    ]
                },
                {
                    "data": {
                        "application/vnd.jupyter.widget-view+json": {
                            "model_id": "8783e6026aea4f89bfd19c5e33161cb3",
                            "version_major": 2,
                            "version_minor": 0
                        },
                        "text/plain": [
                            "    - Epochs:   0%|          | 0/200 [00:00<?, ?it/s]"
                        ]
                    },
                    "metadata": {},
                    "output_type": "display_data"
                },
                {
                    "name": "stdout",
                    "output_type": "stream",
                    "text": [
                        "    - Fold finished. Best validation loss: 0.026734 at epoch 1\n"
                    ]
                },
                {
                    "data": {
                        "application/vnd.jupyter.widget-view+json": {
                            "model_id": "24a11ff5213d471a9f58ba4a98871de1",
                            "version_major": 2,
                            "version_minor": 0
                        },
                        "text/plain": [
                            "    - Epochs:   0%|          | 0/200 [00:00<?, ?it/s]"
                        ]
                    },
                    "metadata": {},
                    "output_type": "display_data"
                },
                {
                    "name": "stdout",
                    "output_type": "stream",
                    "text": [
                        "    - Fold finished. Best validation loss: 0.001928 at epoch 4\n"
                    ]
                },
                {
                    "data": {
                        "application/vnd.jupyter.widget-view+json": {
                            "model_id": "ba0506c3442e4759bb16c7b39b2a7c88",
                            "version_major": 2,
                            "version_minor": 0
                        },
                        "text/plain": [
                            "    - Epochs:   0%|          | 0/200 [00:00<?, ?it/s]"
                        ]
                    },
                    "metadata": {},
                    "output_type": "display_data"
                },
                {
                    "name": "stdout",
                    "output_type": "stream",
                    "text": [
                        "    - Fold finished. Best validation loss: 0.004435 at epoch 1\n"
                    ]
                },
                {
                    "data": {
                        "application/vnd.jupyter.widget-view+json": {
                            "model_id": "df4b01e6fa484331af43e5a17f6ac338",
                            "version_major": 2,
                            "version_minor": 0
                        },
                        "text/plain": [
                            "    - Epochs:   0%|          | 0/200 [00:00<?, ?it/s]"
                        ]
                    },
                    "metadata": {},
                    "output_type": "display_data"
                },
                {
                    "name": "stdout",
                    "output_type": "stream",
                    "text": [
                        "    - Fold finished. Best validation loss: 0.003021 at epoch 1\n",
                        "SUCCESS: Out-of-Fold predictions saved to models\\000100.SZ\\lstm_oof_preds.csv\n",
                        "INFO: Training final model for TCL科技 (000100.SZ) on all data...\n"
                    ]
                },
                {
                    "data": {
                        "application/vnd.jupyter.widget-view+json": {
                            "model_id": "4e0fc8e848a0474e945550e8d32c06ea",
                            "version_major": 2,
                            "version_minor": 0
                        },
                        "text/plain": [
                            "    - Final Model Epochs:   0%|          | 0/100 [00:00<?, ?it/s]"
                        ]
                    },
                    "metadata": {},
                    "output_type": "display_data"
                }
            ],
            "source": [
                "FORCE_RETRAIN = False\n",
                "all_ic_history = []\n",
                "\n",
                "print(\"--- 开始模型训练 ---\\\\n\")\n",
                "if config and stocks_to_process:\n",
                "    models_to_train = global_settings.get('models_to_train', ['lgbm', 'lstm'])\n",
                "    stock_iterator = tqdm(stocks_to_process, desc=\"Processing Stocks\")\n",
                "\n",
                "    for stock_info in stock_iterator:\n",
                "        ticker = stock_info.get('ticker')\n",
                "        \n",
                "        if not ticker or ticker not in global_data_cache:\n",
                "            continue\n",
                "        \n",
                "        keyword = stock_info.get('keyword', ticker)\n",
                "        stock_iterator.set_description(f\"Processing {keyword}\")\n",
                "        \n",
                "        # 从缓存中获取该股票的所有数据\n",
                "        cached_stock_data = global_data_cache[ticker]\n",
                "        full_df = cached_stock_data['full_df']\n",
                "        \n",
                "        for model_type in models_to_train:\n",
                "            # --- 核心修正：根据 model_type 动态构建正确的键名 ---\n",
                "            folds_key = f\"{model_type}_folds\"\n",
                "            preprocessed_folds = cached_stock_data.get(folds_key)\n",
                "            \n",
                "            if not preprocessed_folds:\n",
                "                print(f\"\\\\nWARNNING: 未找到 {keyword} 模型 '{model_type}' 的预处理 folds. 跳过.\")\n",
                "                continue\n",
                "            # --- 修正结束 ---\n",
                "\n",
                "            run_config = {\n",
                "                'global_settings': global_settings, 'strategy_config': strategy_config,\n",
                "                'default_model_params': default_model_params, 'stocks_to_process': [stock_info],\n",
                "                'full_df_for_final_model': full_df\n",
                "            }\n",
                "\n",
                "            ic_history = run_training_for_ticker(\n",
                "                preprocessed_folds=preprocessed_folds,\n",
                "                ticker=ticker,\n",
                "                model_type=model_type,\n",
                "                config=run_config, \n",
                "                force_retrain=FORCE_RETRAIN,\n",
                "                keyword=keyword\n",
                "            )\n",
                "            \n",
                "            if ic_history is not None and not ic_history.empty:\n",
                "                all_ic_history.append(ic_history)\n",
                "else:\n",
                "    print(\"ERROR: Config 或 stocks_to_process 为空.\")"
            ]
        },
        {
            "cell_type": "markdown",
            "metadata": {},
            "source": [
                "### 2.3.5 融合模型训练"
            ]
        },
        {
            "cell_type": "code",
            "execution_count": 5,
            "metadata": {},
            "outputs": [
                {
                    "name": "stdout",
                    "output_type": "stream",
                    "text": [
                        "\\n--- Starting Stage 2.3.5: Training Fusion Meta-Model ---\\n\n"
                    ]
                },
                {
                    "data": {
                        "application/vnd.jupyter.widget-view+json": {
                            "model_id": "5281e663257f4cc6a05739cfdb42b03d",
                            "version_major": 2,
                            "version_minor": 0
                        },
                        "text/plain": [
                            "Training Fusers:   0%|          | 0/7 [00:00<?, ?it/s]"
                        ]
                    },
                    "metadata": {},
                    "output_type": "display_data"
                },
                {
                    "name": "stdout",
                    "output_type": "stream",
                    "text": [
                        "\n",
                        "--- 正在为 600519.SH 训练融合元模型... ---\n",
                        "INFO: 样本量为 2880，自动选择 5 折交叉验证。\n",
                        "INFO: 使用 Ridge 作为元模型。\n",
                        "  - 交叉验证 IC 分数: ['0.0000', '0.0000', '0.0000', '0.0000', '0.0000'], 平均值: 0.0000\n",
                        "  - IC 稳定性分数 (变异系数): 0.0000\n",
                        "\n",
                        "--- 训练后性能评估 ---\n",
                        "  - 融合模型 IC: 0.0000\n",
                        "  - LGBM 单独 IC: 0.4432\n",
                        "  - LSTM 单独 IC: 0.4155\n",
                        "WARNNING: 融合模型性能未超越最佳单一模型。将回退到简单加权策略。\n",
                        "\n",
                        "--- 正在为 000001.SZ 训练融合元模型... ---\n",
                        "INFO: 样本量为 2880，自动选择 5 折交叉验证。\n",
                        "INFO: 使用 Ridge 作为元模型。\n",
                        "  - 交叉验证 IC 分数: ['0.0000', '0.0000', '0.0000', '0.0000', '0.0000'], 平均值: 0.0000\n",
                        "  - IC 稳定性分数 (变异系数): 0.0000\n",
                        "\n",
                        "--- 训练后性能评估 ---\n",
                        "  - 融合模型 IC: 0.0000\n",
                        "  - LGBM 单独 IC: 0.2427\n",
                        "  - LSTM 单独 IC: 0.2642\n",
                        "WARNNING: 融合模型性能未超越最佳单一模型。将回退到简单加权策略。\n",
                        "\n",
                        "--- 正在为 688256.SH 训练融合元模型... ---\n",
                        "WARNNING: 未找到 lgbm 的 OOF 预测文件: models\\688256.SH\\lgbm_oof_preds.csv。\n",
                        "ERROR: 基础模型的 OOF 预测不完整，无法训练融合模型。\n",
                        "\n",
                        "--- 正在为 601606.SH 训练融合元模型... ---\n",
                        "INFO: 样本量为 1140，自动选择 5 折交叉验证。\n",
                        "INFO: 使用 Ridge 作为元模型。\n",
                        "  - 交叉验证 IC 分数: ['0.0000', '0.0000', '0.0000', '0.0000', '0.0000'], 平均值: 0.0000\n",
                        "  - IC 稳定性分数 (变异系数): 0.0000\n",
                        "\n",
                        "--- 训练后性能评估 ---\n",
                        "  - 融合模型 IC: 0.0000\n",
                        "  - LGBM 单独 IC: 0.4115\n",
                        "  - LSTM 单独 IC: 0.3999\n",
                        "WARNNING: 融合模型性能未超越最佳单一模型。将回退到简单加权策略。\n",
                        "\n",
                        "--- 正在为 000681.SZ 训练融合元模型... ---\n",
                        "INFO: 样本量为 2460，自动选择 5 折交叉验证。\n",
                        "INFO: 使用 Ridge 作为元模型。\n",
                        "  - 交叉验证 IC 分数: ['0.0000', '0.0000', '0.0000', '0.0000', '0.0000'], 平均值: 0.0000\n",
                        "  - IC 稳定性分数 (变异系数): 0.0000\n",
                        "\n",
                        "--- 训练后性能评估 ---\n",
                        "  - 融合模型 IC: 0.0000\n",
                        "  - LGBM 单独 IC: 0.2824\n",
                        "  - LSTM 单独 IC: 0.4676\n",
                        "WARNNING: 融合模型性能未超越最佳单一模型。将回退到简单加权策略。\n",
                        "\n",
                        "--- 正在为 603099.SH 训练融合元模型... ---\n",
                        "INFO: 样本量为 2100，自动选择 5 折交叉验证。\n",
                        "INFO: 使用 Ridge 作为元模型。\n",
                        "  - 交叉验证 IC 分数: ['0.0000', '0.0000', '0.0000', '0.0000', '0.0000'], 平均值: 0.0000\n",
                        "  - IC 稳定性分数 (变异系数): 0.0000\n",
                        "\n",
                        "--- 训练后性能评估 ---\n",
                        "  - 融合模型 IC: 0.0000\n",
                        "  - LGBM 单独 IC: 0.2501\n",
                        "  - LSTM 单独 IC: 0.6111\n",
                        "WARNNING: 融合模型性能未超越最佳单一模型。将回退到简单加权策略。\n",
                        "\n",
                        "--- 正在为 000100.SZ 训练融合元模型... ---\n",
                        "INFO: 样本量为 2820，自动选择 5 折交叉验证。\n",
                        "INFO: 使用 Ridge 作为元模型。\n",
                        "  - 交叉验证 IC 分数: ['0.0000', '0.0000', '0.0000', '0.0000', '0.0000'], 平均值: 0.0000\n",
                        "  - IC 稳定性分数 (变异系数): 0.0000\n",
                        "\n",
                        "--- 训练后性能评估 ---\n",
                        "  - 融合模型 IC: 0.0000\n",
                        "  - LGBM 单独 IC: 0.2309\n",
                        "  - LSTM 单独 IC: 0.3113\n",
                        "WARNNING: 融合模型性能未超越最佳单一模型。将回退到简单加权策略。\n"
                    ]
                }
            ],
            "source": [
                "print(\"\\\\n--- Starting Stage 2.3.5: Training Fusion Meta-Model ---\\\\n\")\n",
                "\n",
                "if config and stocks_to_process:\n",
                "    fuser_iterator = tqdm(stocks_to_process, desc=\"Training Fusers\")\n",
                "    for stock_info in fuser_iterator:\n",
                "        ticker = stock_info.get('ticker')\n",
                "        keyword = stock_info.get('keyword', ticker)\n",
                "        fuser_iterator.set_description(f\"Training Fuser for {keyword}\")\n",
                "        if not ticker: continue\n",
                "\n",
                "        # 1. 实例化融合器\n",
                "        # 我们需要一个包含了所有相关配置的 config 字典\n",
                "        run_config = {\n",
                "            'global_settings': global_settings, \n",
                "            'strategy_config': strategy_config,\n",
                "            'default_model_params': default_model_params,\n",
                "            'stocks_to_process': [stock_info]\n",
                "        }\n",
                "        fuser = ModelFuser(ticker, run_config)\n",
                "        \n",
                "        # 2. 调用训练方法\n",
                "        # 新的 ModelFuser.train() 方法现在是自给自足的，它会自己去加载 OOF 和 y_true\n",
                "        fuser.train()"
            ]
        },
        {
            "cell_type": "markdown",
            "metadata": {},
            "source": [
                "### 2.4 结果聚合、评估与可视化"
            ]
        },
        {
            "cell_type": "code",
            "execution_count": 7,
            "metadata": {},
            "outputs": [
                {
                    "name": "stdout",
                    "output_type": "stream",
                    "text": [
                        "\n",
                        "--- 开始步骤 2.4: 结果聚合、评估与可视化 ---\n",
                        "\n",
                        "--- 模型性能评估总结 ---\n"
                    ]
                },
                {
                    "data": {
                        "text/html": [
                            "<style type=\"text/css\">\n",
                            "#T_cddf5_row0_col4 {\n",
                            "  background-color: #443b84;\n",
                            "  color: #f1f1f1;\n",
                            "}\n",
                            "#T_cddf5_row1_col4 {\n",
                            "  background-color: #440154;\n",
                            "  color: #f1f1f1;\n",
                            "}\n",
                            "#T_cddf5_row2_col4 {\n",
                            "  background-color: #2e6e8e;\n",
                            "  color: #f1f1f1;\n",
                            "}\n",
                            "#T_cddf5_row3_col4 {\n",
                            "  background-color: #1f958b;\n",
                            "  color: #f1f1f1;\n",
                            "}\n",
                            "#T_cddf5_row4_col4 {\n",
                            "  background-color: #1f9a8a;\n",
                            "  color: #f1f1f1;\n",
                            "}\n",
                            "#T_cddf5_row5_col4 {\n",
                            "  background-color: #fde725;\n",
                            "  color: #000000;\n",
                            "}\n",
                            "#T_cddf5_row6_col4 {\n",
                            "  background-color: #2c738e;\n",
                            "  color: #f1f1f1;\n",
                            "}\n",
                            "#T_cddf5_row7_col4 {\n",
                            "  background-color: #1e9d89;\n",
                            "  color: #f1f1f1;\n",
                            "}\n",
                            "#T_cddf5_row8_col4 {\n",
                            "  background-color: #450457;\n",
                            "  color: #f1f1f1;\n",
                            "}\n",
                            "#T_cddf5_row9_col4 {\n",
                            "  background-color: #218f8d;\n",
                            "  color: #f1f1f1;\n",
                            "}\n",
                            "#T_cddf5_row10_col4 {\n",
                            "  background-color: #60ca60;\n",
                            "  color: #000000;\n",
                            "}\n",
                            "#T_cddf5_row11_col4 {\n",
                            "  background-color: #eae51a;\n",
                            "  color: #000000;\n",
                            "}\n",
                            "</style>\n",
                            "<table id=\"T_cddf5\">\n",
                            "  <thead>\n",
                            "    <tr>\n",
                            "      <th class=\"blank level0\" >&nbsp;</th>\n",
                            "      <th id=\"T_cddf5_level0_col0\" class=\"col_heading level0 col0\" >ticker_name</th>\n",
                            "      <th id=\"T_cddf5_level0_col1\" class=\"col_heading level0 col1\" >model_type</th>\n",
                            "      <th id=\"T_cddf5_level0_col2\" class=\"col_heading level0 col2\" >mean</th>\n",
                            "      <th id=\"T_cddf5_level0_col3\" class=\"col_heading level0 col3\" >std</th>\n",
                            "      <th id=\"T_cddf5_level0_col4\" class=\"col_heading level0 col4\" >icir</th>\n",
                            "    </tr>\n",
                            "  </thead>\n",
                            "  <tbody>\n",
                            "    <tr>\n",
                            "      <th id=\"T_cddf5_level0_row0\" class=\"row_heading level0 row0\" >0</th>\n",
                            "      <td id=\"T_cddf5_row0_col0\" class=\"data row0 col0\" >TCL科技</td>\n",
                            "      <td id=\"T_cddf5_row0_col1\" class=\"data row0 col1\" >lgbm</td>\n",
                            "      <td id=\"T_cddf5_row0_col2\" class=\"data row0 col2\" >0.2967</td>\n",
                            "      <td id=\"T_cddf5_row0_col3\" class=\"data row0 col3\" >0.4437</td>\n",
                            "      <td id=\"T_cddf5_row0_col4\" class=\"data row0 col4\" >0.6687</td>\n",
                            "    </tr>\n",
                            "    <tr>\n",
                            "      <th id=\"T_cddf5_level0_row1\" class=\"row_heading level0 row1\" >1</th>\n",
                            "      <td id=\"T_cddf5_row1_col0\" class=\"data row1 col0\" >TCL科技</td>\n",
                            "      <td id=\"T_cddf5_row1_col1\" class=\"data row1 col1\" >lstm</td>\n",
                            "      <td id=\"T_cddf5_row1_col2\" class=\"data row1 col2\" >0.2562</td>\n",
                            "      <td id=\"T_cddf5_row1_col3\" class=\"data row1 col3\" >0.5063</td>\n",
                            "      <td id=\"T_cddf5_row1_col4\" class=\"data row1 col4\" >0.5059</td>\n",
                            "    </tr>\n",
                            "    <tr>\n",
                            "      <th id=\"T_cddf5_level0_row2\" class=\"row_heading level0 row2\" >2</th>\n",
                            "      <td id=\"T_cddf5_row2_col0\" class=\"data row2 col0\" >平安银行</td>\n",
                            "      <td id=\"T_cddf5_row2_col1\" class=\"data row2 col1\" >lgbm</td>\n",
                            "      <td id=\"T_cddf5_row2_col2\" class=\"data row2 col2\" >0.3061</td>\n",
                            "      <td id=\"T_cddf5_row2_col3\" class=\"data row2 col3\" >0.3624</td>\n",
                            "      <td id=\"T_cddf5_row2_col4\" class=\"data row2 col4\" >0.8445</td>\n",
                            "    </tr>\n",
                            "    <tr>\n",
                            "      <th id=\"T_cddf5_level0_row3\" class=\"row_heading level0 row3\" >3</th>\n",
                            "      <td id=\"T_cddf5_row3_col0\" class=\"data row3 col0\" >平安银行</td>\n",
                            "      <td id=\"T_cddf5_row3_col1\" class=\"data row3 col1\" >lstm</td>\n",
                            "      <td id=\"T_cddf5_row3_col2\" class=\"data row3 col2\" >0.3983</td>\n",
                            "      <td id=\"T_cddf5_row3_col3\" class=\"data row3 col3\" >0.3982</td>\n",
                            "      <td id=\"T_cddf5_row3_col4\" class=\"data row3 col4\" >1.0003</td>\n",
                            "    </tr>\n",
                            "    <tr>\n",
                            "      <th id=\"T_cddf5_level0_row4\" class=\"row_heading level0 row4\" >4</th>\n",
                            "      <td id=\"T_cddf5_row4_col0\" class=\"data row4 col0\" >视觉中国</td>\n",
                            "      <td id=\"T_cddf5_row4_col1\" class=\"data row4 col1\" >lgbm</td>\n",
                            "      <td id=\"T_cddf5_row4_col2\" class=\"data row4 col2\" >0.3887</td>\n",
                            "      <td id=\"T_cddf5_row4_col3\" class=\"data row4 col3\" >0.3815</td>\n",
                            "      <td id=\"T_cddf5_row4_col4\" class=\"data row4 col4\" >1.0189</td>\n",
                            "    </tr>\n",
                            "    <tr>\n",
                            "      <th id=\"T_cddf5_level0_row5\" class=\"row_heading level0 row5\" >5</th>\n",
                            "      <td id=\"T_cddf5_row5_col0\" class=\"data row5 col0\" >视觉中国</td>\n",
                            "      <td id=\"T_cddf5_row5_col1\" class=\"data row5 col1\" >lstm</td>\n",
                            "      <td id=\"T_cddf5_row5_col2\" class=\"data row5 col2\" >0.5148</td>\n",
                            "      <td id=\"T_cddf5_row5_col3\" class=\"data row5 col3\" >0.3548</td>\n",
                            "      <td id=\"T_cddf5_row5_col4\" class=\"data row5 col4\" >1.4510</td>\n",
                            "    </tr>\n",
                            "    <tr>\n",
                            "      <th id=\"T_cddf5_level0_row6\" class=\"row_heading level0 row6\" >6</th>\n",
                            "      <td id=\"T_cddf5_row6_col0\" class=\"data row6 col0\" >贵州茅台</td>\n",
                            "      <td id=\"T_cddf5_row6_col1\" class=\"data row6 col1\" >lgbm</td>\n",
                            "      <td id=\"T_cddf5_row6_col2\" class=\"data row6 col2\" >0.3437</td>\n",
                            "      <td id=\"T_cddf5_row6_col3\" class=\"data row6 col3\" >0.3962</td>\n",
                            "      <td id=\"T_cddf5_row6_col4\" class=\"data row6 col4\" >0.8674</td>\n",
                            "    </tr>\n",
                            "    <tr>\n",
                            "      <th id=\"T_cddf5_level0_row7\" class=\"row_heading level0 row7\" >7</th>\n",
                            "      <td id=\"T_cddf5_row7_col0\" class=\"data row7 col0\" >贵州茅台</td>\n",
                            "      <td id=\"T_cddf5_row7_col1\" class=\"data row7 col1\" >lstm</td>\n",
                            "      <td id=\"T_cddf5_row7_col2\" class=\"data row7 col2\" >0.3851</td>\n",
                            "      <td id=\"T_cddf5_row7_col3\" class=\"data row7 col3\" >0.3739</td>\n",
                            "      <td id=\"T_cddf5_row7_col4\" class=\"data row7 col4\" >1.0299</td>\n",
                            "    </tr>\n",
                            "    <tr>\n",
                            "      <th id=\"T_cddf5_level0_row8\" class=\"row_heading level0 row8\" >8</th>\n",
                            "      <td id=\"T_cddf5_row8_col0\" class=\"data row8 col0\" >长城军工</td>\n",
                            "      <td id=\"T_cddf5_row8_col1\" class=\"data row8 col1\" >lgbm</td>\n",
                            "      <td id=\"T_cddf5_row8_col2\" class=\"data row8 col2\" >0.2461</td>\n",
                            "      <td id=\"T_cddf5_row8_col3\" class=\"data row8 col3\" >0.4785</td>\n",
                            "      <td id=\"T_cddf5_row8_col4\" class=\"data row8 col4\" >0.5143</td>\n",
                            "    </tr>\n",
                            "    <tr>\n",
                            "      <th id=\"T_cddf5_level0_row9\" class=\"row_heading level0 row9\" >9</th>\n",
                            "      <td id=\"T_cddf5_row9_col0\" class=\"data row9 col0\" >长城军工</td>\n",
                            "      <td id=\"T_cddf5_row9_col1\" class=\"data row9 col1\" >lstm</td>\n",
                            "      <td id=\"T_cddf5_row9_col2\" class=\"data row9 col2\" >0.3956</td>\n",
                            "      <td id=\"T_cddf5_row9_col3\" class=\"data row9 col3\" >0.4064</td>\n",
                            "      <td id=\"T_cddf5_row9_col4\" class=\"data row9 col4\" >0.9733</td>\n",
                            "    </tr>\n",
                            "    <tr>\n",
                            "      <th id=\"T_cddf5_level0_row10\" class=\"row_heading level0 row10\" >10</th>\n",
                            "      <td id=\"T_cddf5_row10_col0\" class=\"data row10 col0\" >长白山</td>\n",
                            "      <td id=\"T_cddf5_row10_col1\" class=\"data row10 col1\" >lgbm</td>\n",
                            "      <td id=\"T_cddf5_row10_col2\" class=\"data row10 col2\" >0.4249</td>\n",
                            "      <td id=\"T_cddf5_row10_col3\" class=\"data row10 col3\" >0.3481</td>\n",
                            "      <td id=\"T_cddf5_row10_col4\" class=\"data row10 col4\" >1.2206</td>\n",
                            "    </tr>\n",
                            "    <tr>\n",
                            "      <th id=\"T_cddf5_level0_row11\" class=\"row_heading level0 row11\" >11</th>\n",
                            "      <td id=\"T_cddf5_row11_col0\" class=\"data row11 col0\" >长白山</td>\n",
                            "      <td id=\"T_cddf5_row11_col1\" class=\"data row11 col1\" >lstm</td>\n",
                            "      <td id=\"T_cddf5_row11_col2\" class=\"data row11 col2\" >0.4934</td>\n",
                            "      <td id=\"T_cddf5_row11_col3\" class=\"data row11 col3\" >0.3476</td>\n",
                            "      <td id=\"T_cddf5_row11_col4\" class=\"data row11 col4\" >1.4194</td>\n",
                            "    </tr>\n",
                            "  </tbody>\n",
                            "</table>\n"
                        ],
                        "text/plain": [
                            "<pandas.io.formats.style.Styler at 0x189094bbcb0>"
                        ]
                    },
                    "metadata": {},
                    "output_type": "display_data"
                },
                {
                    "data": {
                        "image/png": "[encoded data removed]",
                        "text/plain": [
                            "<Figure size 1200x600 with 1 Axes>"
                        ]
                    },
                    "metadata": {},
                    "output_type": "display_data"
                },
                {
                    "data": {
                        "image/png": "[encoded data removed]",
                        "text/plain": [
                            "<Figure size 1400x800 with 1 Axes>"
                        ]
                    },
                    "metadata": {},
                    "output_type": "display_data"
                }
            ],
            "source": [
                "print(\"\\n--- 开始步骤 2.4: 结果聚合、评估与可视化 ---\")\n",
                "if all_ic_history:\n",
                "    full_ic_df = pd.concat(all_ic_history)\n",
                "    full_ic_df['ticker_name'] = full_ic_df['ticker'].map({s['ticker']: s.get('keyword', s['ticker']) for s in stocks_to_process})\n",
                "    \n",
                "    # 聚合评估结果\n",
                "    evaluation_summary = full_ic_df.groupby(['ticker_name', 'model_type'])['rank_ic'].agg(['mean', 'std']).reset_index()\n",
                "    evaluation_summary['icir'] = evaluation_summary['mean'] / evaluation_summary['std']\n",
                "    \n",
                "    # --- 1. 打印和显示评估表格 ---\n",
                "    print(\"\\n--- 模型性能评估总结 ---\")\n",
                "    display(evaluation_summary.style.format({\n",
                "        'mean': '{:.4f}', 'std': '{:.4f}', 'icir': '{:.4f}'\n",
                "    }).background_gradient(cmap='viridis', subset=['icir']))\n",
                "\n",
                "    # --- 2. 绘制 ICIR 对比图 ---\n",
                "    plt.figure(figsize=(12, 6))\n",
                "    sns.barplot(data=evaluation_summary, x='ticker_name', y='icir', hue='model_type')\n",
                "    plt.title('模型信息比率 (ICIR) 对比', fontsize=16)\n",
                "    plt.xlabel('股票', fontsize=12)\n",
                "    plt.ylabel('ICIR (信息比率)', fontsize=12)\n",
                "    plt.axhline(0, color='grey', linestyle='--')\n",
                "    plt.axhline(0.5, color='red', linestyle='--', label='ICIR=0.5 (良好)')\n",
                "    plt.xticks(rotation=45)\n",
                "    plt.legend()\n",
                "    plt.tight_layout()\n",
                "    plt.show()\n",
                "\n",
                "    # --- 3. 绘制累积 IC 曲线图 ---\n",
                "    plot_df = full_ic_df.copy()\n",
                "    plot_df['date'] = pd.to_datetime(plot_df['date'])\n",
                "    plot_df.sort_values('date', inplace=True)\n",
                "    plot_df['cumulative_ic'] = plot_df.groupby(['ticker_name', 'model_type'])['rank_ic'].cumsum()\n",
                "    \n",
                "    plt.figure(figsize=(14, 8))\n",
                "    sns.lineplot(data=plot_df, x='date', y='cumulative_ic', hue='ticker_name', style='model_type', marker='o', markersize=4, linestyle='--')\n",
                "    plt.title('模型累积 Rank IC 曲线', fontsize=16)\n",
                "    plt.xlabel('日期', fontsize=12)\n",
                "    plt.ylabel('累积 Rank IC', fontsize=12)\n",
                "    plt.legend(title='股票/模型')\n",
                "    plt.tight_layout()\n",
                "    plt.show()\n",
                "\n",
                "else:\n",
                "    print(\"\\nWARNNING: 训练期间未生成 IC 历史。跳过汇总和评估.\")"
            ]
        }
    ],
    "metadata": {
        "...": "...",
        "kernelspec": {
            "display_name": ".venv",
            "language": "python",
            "name": "python3"
        },
        "language_info": {
            "codemirror_mode": {
                "name": "ipython",
                "version": 3
            },
            "file_extension": ".py",
            "mimetype": "text/x-python",
            "name": "python",
            "nbconvert_exporter": "python",
            "pygments_lexer": "ipython3",
            "version": "3.13.0"
        }
    },
    "nbformat": 4,
    "nbformat_minor": 4
}
