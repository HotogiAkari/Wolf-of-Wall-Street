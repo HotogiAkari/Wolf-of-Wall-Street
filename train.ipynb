{
    "cells": [
        {
            "cell_type": "markdown",
            "metadata": {},
            "source": [
                "# 股票预测模型工作流 (最终版)\n",
                "\n",
                "---\n",
                "\n",
                "### **工作流说明**\n",
                "1.  **阶段零 (Setup)**: 导入所有库、加载配置文件。\n",
                "2.  **阶段一 (Data Pipeline)**: **独立运行**。负责获取、处理并保存所有数据。只有在数据源或特征逻辑变更时才需运行。\n",
                "3.  **阶段二 (Model Pipeline)**: **独立运行**。负责加载已处理好的数据，并进行模型训练与评估。这是进行模型实验的主要区域。\n",
                "\n",
                "**操作指南**: 首次运行时，请按顺序执行所有单元格。后续实验中，如果数据未变，可直接运行阶段二之后的所有单元格。"
            ]
        },
        {
            "cell_type": "markdown",
            "metadata": {},
            "source": [
                "## 0. 通用设置与导入"
            ]
        },
        {
            "cell_type": "code",
            "execution_count": null,
            "metadata": {},
            "outputs": [
                {
                    "name": "stderr",
                    "output_type": "stream",
                    "text": [
                        "C:\\Users\\Akari\\AppData\\Local\\Temp\\ipykernel_34904\\3898432250.py:8: TqdmExperimentalWarning: Using `tqdm.autonotebook.tqdm` in notebook mode. Use `tqdm.tqdm` instead to force console mode (e.g. in jupyter console)\n",
                        "  from tqdm.autonotebook import tqdm\n"
                    ]
                },
                {
                    "name": "stdout",
                    "output_type": "stream",
                    "text": [
                        "INFO: Matplotlib and Seaborn styles configured.\n",
                        "INFO: Project modules imported successfully.\n",
                        "SUCCESS: Unified configuration file loaded from 'configs/config.yaml'.\n"
                    ]
                }
            ],
            "source": [
                "import os\n",
                "import sys\n",
                "import yaml\n",
                "import pandas as pd\n",
                "import matplotlib.pyplot as plt\n",
                "import seaborn as sns\n",
                "from pathlib import Path\n",
                "from tqdm.autonotebook import tqdm\n",
                "\n",
                "# --- 设置 OpenCL 环境变量 ---\n",
                "os.environ['PYOPENCL_CTX'] = '0'\n",
                "\n",
                "# --- 设置 Matplotlib 样式 ---\n",
                "plt.style.use('seaborn-v0_8-whitegrid')\n",
                "plt.rcParams['font.sans-serif'] = ['SimHei']\n",
                "plt.rcParams['axes.unicode_minus'] = False\n",
                "print(\"INFO: Matplotlib and Seaborn styles configured.\")\n",
                "\n",
                "# --- 健壮的模块导入逻辑 ---\n",
                "try:\n",
                "    # 导入所有需要的公共函数\n",
                "    from data_process.get_data import initialize_apis, shutdown_apis\n",
                "    from data_process.save_data import run_data_pipeline, get_processed_data_path\n",
                "    from model_builders.build_models import run_training_for_ticker\n",
                "    from model_builders.hpo_utils import run_hpo_for_ticker\n",
                "    print(\"INFO: Project modules imported successfully.\")\n",
                "except ImportError as e:\n",
                "    print(f\"WARNNING: Standard import failed: {e}. Adding project root to sys.path.\")\n",
                "    project_root = str(Path().resolve())\n",
                "    if project_root not in sys.path:\n",
                "        sys.path.append(project_root)\n",
                "    # 再次尝试导入\n",
                "    from data_process.get_data import initialize_apis, shutdown_apis\n",
                "    from data_process.save_data import run_data_pipeline, get_processed_data_path\n",
                "    from model_builders.build_models import run_training_for_ticker\n",
                "    from model_builders.hpo_utils import run_hpo_for_ticker\n",
                "    print(\"INFO: Project modules imported successfully after path adjustment.\")\n",
                "\n",
                "# --- 加载配置文件 ---\n",
                "CONFIG_PATH = 'configs/config.yaml'\n",
                "try:\n",
                "    with open(CONFIG_PATH, 'r', encoding='utf-8') as f:\n",
                "        config = yaml.safe_load(f)\n",
                "    print(f\"SUCCESS: Unified configuration file loaded from '{CONFIG_PATH}'.\")\n",
                "except FileNotFoundError:\n",
                "    print(f\"ERROR: Configuration file not found at '{CONFIG_PATH}'. Please check the path.\")\n",
                "    config = {}\n",
                "\n",
                "# --- 提取核心配置块 (一次性提取) ---\n",
                "if config:\n",
                "    global_settings = config.get('global_settings', {})\n",
                "    strategy_config = config.get('strategy_config', {})\n",
                "    hpo_config = config.get('hpo_config', {})\n",
                "    default_model_params = config.get('default_model_params', {})\n",
                "    stocks_to_process = config.get('stocks_to_process', [])"
            ]
        },
        {
            "cell_type": "markdown",
            "metadata": {},
            "source": [
                "# **阶段一：数据准备与特征工程**\n",
                "\n",
                "此单元格负责完整的ETL流程：登录API -> 处理所有股票数据 -> 保存到磁盘 -> 登出API。"
            ]
        },
        {
            "cell_type": "code",
            "execution_count": null,
            "metadata": {},
            "outputs": [
                {
                    "name": "stdout",
                    "output_type": "stream",
                    "text": [
                        "--- Starting Stage 1: Data Preparation and Feature Engineering ---\n",
                        "\n",
                        "INFO: Attempting to log in to Baostock...\n",
                        "login success!\n",
                        "INFO: Baostock API 登录成功。SDK版本: 00.8.90\n",
                        "INFO: 未在配置中提供有效的 Tushare Token。将跳过宏观数据获取。\n",
                        "============================================================\n",
                        "开始执行数据管道协调任务...\n",
                        "将使用配置文件: configs/config.yaml\n",
                        "============================================================\n",
                        "\n",
                        "================================================================================\n",
                        "--- Starting Batch Feature Generation Process ---\n",
                        "Using config file: configs/config.yaml\n",
                        "================================================================================\n",
                        "\n",
                        "--- Generating features for 贵州茅台 (600519.SH) ---\n",
                        "  - [1/7] 正在从本地缓存加载 sh.600519 的原始日线数据...\n",
                        "INFO: Starting feature calculation pipeline...\n",
                        "  - [Calculating Features] Running: Technical Indicators...\n",
                        "    - Calculated: ema with params {'length': 10}\n",
                        "    - Calculated: ema with params {'length': 30}\n",
                        "    - Calculated: rsi with params {'length': 14}\n",
                        "    - Calculated: macd with params {'fast': 12, 'slow': 26, 'signal': 9}\n",
                        "    - Calculated: bbands with params {'length': 20, 'std': 2}\n",
                        "  - [Calculating Features] Running: Calendar Features...\n",
                        "  - [Calculating Features] INFO: No candlestick patterns specified in config. Skipping Candlestick Patterns.\n",
                        "INFO: Feature calculation pipeline finished.\n",
                        "  - [1/7] 正在从本地缓存加载 sh.000300 的原始日线数据...\n",
                        "  - [1/7] 正在从 Baostock 下载 sz.159928 的日线行情...\n",
                        "  - WARNING [BS]: 未能获取到 sz.159928 在指定日期范围的数据。\n",
                        "WARNNING: Could not get industry data for 贵州茅台. Using benchmark as fallback.\n",
                        "  - [4/7] 正在添加相对表现特征...\n",
                        "  - [5/7] 正在对特征进行平稳化...\n",
                        "  - [6/7] 正在创建并降噪预测标签...\n",
                        "  - [7/7] 正在进行初步特征筛选...\n",
                        "    - 移除了 10 个高相关性特征: ['ema_30', 'bbl_20_2.0_2.0', 'bbm_20_2.0_2.0', 'bbu_20_2.0_2.0', 'week_of_year', 'industry_close', 'relative_strength_vs_benchmark', 'relative_strength_vs_industry', 'correlation_vs_industry', 'industry_close_log_return']\n",
                        "INFO: Running schema validation...\n",
                        "WARNNING: Found 4 large gaps in time series index. Max gap: 12 days 00:00:00\n",
                        "SUCCESS: Data schema and time index validation passed.\n",
                        "--- SUCCESS: Features generated for 贵州茅台. Shape: (4962, 23) ---\n",
                        "\n",
                        "--- Generating features for 平安银行 (000001.SZ) ---\n",
                        "  - [1/7] 正在从本地缓存加载 sz.000001 的原始日线数据...\n",
                        "INFO: Starting feature calculation pipeline...\n",
                        "  - [Calculating Features] Running: Technical Indicators...\n",
                        "    - Calculated: ema with params {'length': 10}\n",
                        "    - Calculated: ema with params {'length': 30}\n",
                        "    - Calculated: rsi with params {'length': 14}\n",
                        "    - Calculated: macd with params {'fast': 12, 'slow': 26, 'signal': 9}\n",
                        "    - Calculated: bbands with params {'length': 20, 'std': 2}\n",
                        "  - [Calculating Features] Running: Calendar Features...\n",
                        "  - [Calculating Features] INFO: No candlestick patterns specified in config. Skipping Candlestick Patterns.\n",
                        "INFO: Feature calculation pipeline finished.\n",
                        "  - [1/7] 正在从本地缓存加载 sh.000300 的原始日线数据...\n",
                        "  - [1/7] 正在从 Baostock 下载 sh.512800 的日线行情...\n",
                        "  - WARNING [BS]: 未能获取到 sh.512800 在指定日期范围的数据。\n",
                        "WARNNING: Could not get industry data for 平安银行. Using benchmark as fallback.\n",
                        "  - [4/7] 正在添加相对表现特征...\n",
                        "  - [5/7] 正在对特征进行平稳化...\n",
                        "  - [6/7] 正在创建并降噪预测标签...\n",
                        "  - [7/7] 正在进行初步特征筛选...\n",
                        "    - 移除了 10 个高相关性特征: ['ema_30', 'macds_12_26_9', 'bbl_20_2.0_2.0', 'bbm_20_2.0_2.0', 'bbu_20_2.0_2.0', 'week_of_year', 'industry_close', 'relative_strength_vs_industry', 'correlation_vs_industry', 'industry_close_log_return']\n",
                        "INFO: Running schema validation...\n",
                        "WARNNING: Found 5 large gaps in time series index. Max gap: 17 days 00:00:00\n",
                        "SUCCESS: Data schema and time index validation passed.\n",
                        "--- SUCCESS: Features generated for 平安银行. Shape: (4952, 23) ---\n",
                        "\n",
                        "--- Generating features for 寒武纪-U (688256.SH) ---\n",
                        "  - [1/7] 正在从本地缓存加载 sh.688256 的原始日线数据...\n",
                        "INFO: Starting feature calculation pipeline...\n",
                        "  - [Calculating Features] Running: Technical Indicators...\n",
                        "    - Calculated: ema with params {'length': 10}\n",
                        "    - Calculated: ema with params {'length': 30}\n",
                        "    - Calculated: rsi with params {'length': 14}\n",
                        "    - Calculated: macd with params {'fast': 12, 'slow': 26, 'signal': 9}\n",
                        "    - Calculated: bbands with params {'length': 20, 'std': 2}\n",
                        "  - [Calculating Features] Running: Calendar Features...\n",
                        "  - [Calculating Features] INFO: No candlestick patterns specified in config. Skipping Candlestick Patterns.\n",
                        "INFO: Feature calculation pipeline finished.\n",
                        "  - [1/7] 正在从本地缓存加载 sh.000300 的原始日线数据...\n",
                        "  - [1/7] 正在从 Baostock 下载 sz.159995 的日线行情...\n",
                        "  - WARNING [BS]: 未能获取到 sz.159995 在指定日期范围的数据。\n",
                        "WARNNING: Could not get industry data for 寒武纪-U. Using benchmark as fallback.\n",
                        "  - [4/7] 正在添加相对表现特征...\n",
                        "  - [5/7] 正在对特征进行平稳化...\n",
                        "  - [6/7] 正在创建并降噪预测标签...\n",
                        "  - [7/7] 正在进行初步特征筛选...\n",
                        "    - 移除了 11 个高相关性特征: ['ema_30', 'macds_12_26_9', 'bbl_20_2.0_2.0', 'bbm_20_2.0_2.0', 'bbu_20_2.0_2.0', 'week_of_year', 'industry_close', 'relative_strength_vs_benchmark', 'relative_strength_vs_industry', 'correlation_vs_industry', 'industry_close_log_return']\n",
                        "INFO: Running schema validation...\n",
                        "WARNNING: Found 2 large gaps in time series index. Max gap: 11 days 00:00:00\n",
                        "ERROR: Data schema validation failed!\n",
                        "Validation Failure Details:\n",
                        "False\n",
                        "ERROR: Final data validation failed for 寒武纪-U. Aborting.\n",
                        "\n",
                        "--- Generating features for 长城军工 (601606.SH) ---\n",
                        "  - [1/7] 正在从本地缓存加载 sh.601606 的原始日线数据...\n",
                        "INFO: Starting feature calculation pipeline...\n",
                        "  - [Calculating Features] Running: Technical Indicators...\n",
                        "    - Calculated: ema with params {'length': 10}\n",
                        "    - Calculated: ema with params {'length': 30}\n",
                        "    - Calculated: rsi with params {'length': 14}\n",
                        "    - Calculated: macd with params {'fast': 12, 'slow': 26, 'signal': 9}\n",
                        "    - Calculated: bbands with params {'length': 20, 'std': 2}\n",
                        "  - [Calculating Features] Running: Calendar Features...\n",
                        "  - [Calculating Features] INFO: No candlestick patterns specified in config. Skipping Candlestick Patterns.\n",
                        "INFO: Feature calculation pipeline finished.\n",
                        "  - [1/7] 正在从本地缓存加载 sh.000300 的原始日线数据...\n",
                        "  - [1/7] 正在从 Baostock 下载 sh.512660 的日线行情...\n",
                        "  - WARNING [BS]: 未能获取到 sh.512660 在指定日期范围的数据。\n",
                        "WARNNING: Could not get industry data for 长城军工. Using benchmark as fallback.\n",
                        "  - [4/7] 正在添加相对表现特征...\n",
                        "  - [5/7] 正在对特征进行平稳化...\n",
                        "  - [6/7] 正在创建并降噪预测标签...\n",
                        "  - [7/7] 正在进行初步特征筛选...\n",
                        "    - 移除了 9 个高相关性特征: ['ema_30', 'macds_12_26_9', 'bbm_20_2.0_2.0', 'bbu_20_2.0_2.0', 'week_of_year', 'industry_close', 'relative_strength_vs_industry', 'correlation_vs_industry', 'industry_close_log_return']\n",
                        "INFO: Running schema validation...\n",
                        "WARNNING: Found 3 large gaps in time series index. Max gap: 11 days 00:00:00\n",
                        "SUCCESS: Data schema and time index validation passed.\n",
                        "--- SUCCESS: Features generated for 长城军工. Shape: (1658, 24) ---\n",
                        "\n",
                        "--- Generating features for 视觉中国 (000681.SZ) ---\n",
                        "  - [1/7] 正在从本地缓存加载 sz.000681 的原始日线数据...\n",
                        "INFO: Starting feature calculation pipeline...\n",
                        "  - [Calculating Features] Running: Technical Indicators...\n",
                        "    - Calculated: ema with params {'length': 10}\n",
                        "    - Calculated: ema with params {'length': 30}\n",
                        "    - Calculated: rsi with params {'length': 14}\n",
                        "    - Calculated: macd with params {'fast': 12, 'slow': 26, 'signal': 9}\n",
                        "    - Calculated: bbands with params {'length': 20, 'std': 2}\n",
                        "  - [Calculating Features] Running: Calendar Features...\n",
                        "  - [Calculating Features] INFO: No candlestick patterns specified in config. Skipping Candlestick Patterns.\n",
                        "INFO: Feature calculation pipeline finished.\n",
                        "  - [1/7] 正在从本地缓存加载 sh.000300 的原始日线数据...\n",
                        "  - [1/7] 正在从 Baostock 下载 sz.159965 的日线行情...\n",
                        "  - WARNING [BS]: 未能获取到 sz.159965 在指定日期范围的数据。\n",
                        "WARNNING: Could not get industry data for 视觉中国. Using benchmark as fallback.\n",
                        "  - [4/7] 正在添加相对表现特征...\n",
                        "  - [5/7] 正在对特征进行平稳化...\n",
                        "  - [6/7] 正在创建并降噪预测标签...\n",
                        "  - [7/7] 正在进行初步特征筛选...\n",
                        "    - 移除了 9 个高相关性特征: ['ema_30', 'bbl_20_2.0_2.0', 'bbm_20_2.0_2.0', 'bbu_20_2.0_2.0', 'week_of_year', 'industry_close', 'relative_strength_vs_industry', 'correlation_vs_industry', 'industry_close_log_return']\n",
                        "INFO: Running schema validation...\n",
                        "WARNNING: Found 8 large gaps in time series index. Max gap: 1386 days 00:00:00\n",
                        "ERROR: Data schema validation failed!\n",
                        "Validation Failure Details:\n",
                        "False\n",
                        "ERROR: Final data validation failed for 视觉中国. Aborting.\n",
                        "\n",
                        "--- Generating features for 长白山 (603099.SH) ---\n",
                        "  - [1/7] 正在从本地缓存加载 sh.603099 的原始日线数据...\n",
                        "INFO: Starting feature calculation pipeline...\n",
                        "  - [Calculating Features] Running: Technical Indicators...\n",
                        "    - Calculated: ema with params {'length': 10}\n",
                        "    - Calculated: ema with params {'length': 30}\n",
                        "    - Calculated: rsi with params {'length': 14}\n",
                        "    - Calculated: macd with params {'fast': 12, 'slow': 26, 'signal': 9}\n",
                        "    - Calculated: bbands with params {'length': 20, 'std': 2}\n",
                        "  - [Calculating Features] Running: Calendar Features...\n",
                        "  - [Calculating Features] INFO: No candlestick patterns specified in config. Skipping Candlestick Patterns.\n",
                        "INFO: Feature calculation pipeline finished.\n",
                        "  - [1/7] 正在从本地缓存加载 sh.000300 的原始日线数据...\n",
                        "  - [1/7] 正在从 Baostock 下载 sh.512500 的日线行情...\n",
                        "  - WARNING [BS]: 未能获取到 sh.512500 在指定日期范围的数据。\n",
                        "WARNNING: Could not get industry data for 长白山. Using benchmark as fallback.\n",
                        "  - [4/7] 正在添加相对表现特征...\n",
                        "  - [5/7] 正在对特征进行平稳化...\n",
                        "  - [6/7] 正在创建并降噪预测标签...\n",
                        "  - [7/7] 正在进行初步特征筛选...\n",
                        "    - 移除了 10 个高相关性特征: ['ema_30', 'bbl_20_2.0_2.0', 'bbm_20_2.0_2.0', 'bbu_20_2.0_2.0', 'week_of_year', 'industry_close', 'relative_strength_vs_benchmark', 'relative_strength_vs_industry', 'correlation_vs_industry', 'industry_close_log_return']\n",
                        "INFO: Running schema validation...\n",
                        "WARNNING: Found 3 large gaps in time series index. Max gap: 11 days 00:00:00\n",
                        "SUCCESS: Data schema and time index validation passed.\n",
                        "--- SUCCESS: Features generated for 长白山. Shape: (2622, 23) ---\n",
                        "\n",
                        "--- Generating features for TCL科技 (000100.SZ) ---\n",
                        "  - [1/7] 正在从本地缓存加载 sz.000100 的原始日线数据...\n",
                        "INFO: Starting feature calculation pipeline...\n",
                        "  - [Calculating Features] Running: Technical Indicators...\n",
                        "    - Calculated: ema with params {'length': 10}\n",
                        "    - Calculated: ema with params {'length': 30}\n",
                        "    - Calculated: rsi with params {'length': 14}\n",
                        "    - Calculated: macd with params {'fast': 12, 'slow': 26, 'signal': 9}\n",
                        "    - Calculated: bbands with params {'length': 20, 'std': 2}\n",
                        "  - [Calculating Features] Running: Calendar Features...\n",
                        "  - [Calculating Features] INFO: No candlestick patterns specified in config. Skipping Candlestick Patterns.\n",
                        "INFO: Feature calculation pipeline finished.\n",
                        "  - [1/7] 正在从本地缓存加载 sh.000300 的原始日线数据...\n",
                        "  - [1/7] 正在从 Baostock 下载 sz.159928 的日线行情...\n",
                        "  - WARNING [BS]: 未能获取到 sz.159928 在指定日期范围的数据。\n",
                        "WARNNING: Could not get industry data for TCL科技. Using benchmark as fallback.\n",
                        "  - [4/7] 正在添加相对表现特征...\n",
                        "  - [5/7] 正在对特征进行平稳化...\n",
                        "  - [6/7] 正在创建并降噪预测标签...\n",
                        "  - [7/7] 正在进行初步特征筛选...\n",
                        "    - 移除了 10 个高相关性特征: ['ema_30', 'macds_12_26_9', 'bbl_20_2.0_2.0', 'bbm_20_2.0_2.0', 'bbu_20_2.0_2.0', 'week_of_year', 'industry_close', 'relative_strength_vs_industry', 'correlation_vs_industry', 'industry_close_log_return']\n",
                        "INFO: Running schema validation...\n",
                        "WARNNING: Found 6 large gaps in time series index. Max gap: 88 days 00:00:00\n",
                        "SUCCESS: Data schema and time index validation passed.\n",
                        "--- SUCCESS: Features generated for TCL科技. Shape: (4854, 23) ---\n",
                        "--- Batch Feature Generation Process Finished ---\n",
                        "\n",
                        "============================================================\n",
                        "开始以确定性方式保存处理好的数据...\n",
                        "  - INFO: 数据文件已存在于 data\\processed\\600519.SH\\2000-01-01_to_2025-08-31\\features_6d065d6e8420.pkl，跳过保存 600519.SH。\n",
                        "  - INFO: 数据文件已存在于 data\\processed\\000001.SZ\\2000-01-01_to_2025-08-31\\features_6bbbbd0e4daf.pkl，跳过保存 000001.SZ。\n",
                        "  - INFO: 数据文件已存在于 data\\processed\\601606.SH\\2000-01-01_to_2025-08-31\\features_cc354e108d7a.pkl，跳过保存 601606.SH。\n",
                        "  - INFO: 数据文件已存在于 data\\processed\\603099.SH\\2000-01-01_to_2025-08-31\\features_9c0dae439626.pkl，跳过保存 603099.SH。\n",
                        "  - INFO: 数据文件已存在于 data\\processed\\000100.SZ\\2000-01-01_to_2025-08-31\\features_6d065d6e8420.pkl，跳过保存 000100.SZ。\n",
                        "--- 所有数据保存完毕。 ---\n",
                        "\n",
                        "数据管道协调任务执行完毕。\n",
                        "\n",
                        "--- Stage 1 Finished: All data has been processed and saved. ---\n",
                        "\n",
                        "================================================================================\n",
                        "logout success!\n",
                        "INFO: Baostock API has been logged out successfully.\n"
                    ]
                }
            ],
            "source": [
                "print(\"--- Starting Stage 1: Data Preparation and Feature Engineering ---\\n\")\n",
                "try:\n",
                "    if config:\n",
                "        initialize_apis(config)\n",
                "        run_data_pipeline(config_path=CONFIG_PATH)\n",
                "        print(\"\\n--- Stage 1 Finished: All data has been processed and saved. ---\")\n",
                "    else:\n",
                "        print(\"ERROR: Config is empty. Cannot start data preparation.\")\n",
                "finally:\n",
                "    # 无论成功与否，最后都调用关闭函数，它会检查登录状态并重置标志位\n",
                "    shutdown_apis()"
            ]
        },
        {
            "cell_type": "markdown",
            "metadata": {},
            "source": [
                "# **阶段二：模型训练与评估**"
            ]
        },
        {
            "cell_type": "markdown",
            "metadata": {},
            "source": [
                "### 2.1 (可选) 超参数优化"
            ]
        },
        {
            "cell_type": "code",
            "execution_count": null,
            "metadata": {},
            "outputs": [
                {
                    "name": "stderr",
                    "output_type": "stream",
                    "text": [
                        "[I 2025-10-12 18:23:38,129] A new study created in memory with name: no-name-ef4cc385-c04b-433c-826a-b104c83eb35c\n"
                    ]
                },
                {
                    "name": "stdout",
                    "output_type": "stream",
                    "text": [
                        "--- Starting HPO for tickers: ['603099.SH', '000100.SZ', '600519.SH'] ---\n",
                        "\n",
                        "INFO: Loaded data for HPO on 长白山. Shape: (2622, 23)\n",
                        "INFO: HPO memory cache cleared.\n",
                        "\n",
                        "================================================================================\n",
                        "--- Starting HPO for 长白山 (603099.SH) with 50 trials ---\n"
                    ]
                },
                {
                    "data": {
                        "application/vnd.jupyter.widget-view+json": {
                            "model_id": "76c343048ec7487e9e7332b007c64806",
                            "version_major": 2,
                            "version_minor": 0
                        },
                        "text/plain": [
                            "  0%|          | 0/50 [00:00<?, ?it/s]"
                        ]
                    },
                    "metadata": {},
                    "output_type": "display_data"
                },
                {
                    "name": "stdout",
                    "output_type": "stream",
                    "text": [
                        "[I 2025-10-12 18:23:41,540] Trial 0 finished with value: 0.44661154978708617 and parameters: {'num_leaves': 25, 'learning_rate': 0.07969454818643935, 'min_child_samples': 47, 'feature_fraction': 0.8394633936788146, 'bagging_fraction': 0.6624074561769746, 'reg_alpha': 0.029375384576328288, 'reg_lambda': 0.014936568554617643}. Best is trial 0 with value: 0.44661154978708617.\n",
                        "[I 2025-10-12 18:23:45,152] Trial 1 finished with value: 4.745188331051218 and parameters: {'num_leaves': 45, 'learning_rate': 0.015930522616241012, 'min_child_samples': 46, 'feature_fraction': 0.608233797718321, 'bagging_fraction': 0.9879639408647978, 'reg_alpha': 3.142880890840109, 'reg_lambda': 0.04335281794951567}. Best is trial 1 with value: 4.745188331051218.\n",
                        "[I 2025-10-12 18:23:50,226] Trial 2 finished with value: 2.6022404681958244 and parameters: {'num_leaves': 17, 'learning_rate': 0.002327067708383781, 'min_child_samples': 25, 'feature_fraction': 0.8099025726528951, 'bagging_fraction': 0.7727780074568463, 'reg_alpha': 0.07476312062252301, 'reg_lambda': 0.6847920095574779}. Best is trial 1 with value: 4.745188331051218.\n"
                    ]
                },
                {
                    "name": "stderr",
                    "output_type": "stream",
                    "text": [
                        "d:\\Project\\Command\\Python\\Neural\\Wolf_of_Wall_Street\\.venv\\Lib\\site-packages\\pandas\\core\\nanops.py:1632: ConstantInputWarning: An input array is constant; the correlation coefficient is not defined.\n",
                        "  return spearmanr(a, b)[0]\n"
                    ]
                },
                {
                    "name": "stdout",
                    "output_type": "stream",
                    "text": [
                        "[I 2025-10-12 18:23:53,353] Trial 3 finished with value: 20446032.182117146 and parameters: {'num_leaves': 15, 'learning_rate': 0.00383962929980417, 'min_child_samples': 28, 'feature_fraction': 0.7824279936868144, 'bagging_fraction': 0.9140703845572055, 'reg_alpha': 0.039721107273819126, 'reg_lambda': 0.34890188454913873}. Best is trial 3 with value: 20446032.182117146.\n",
                        "[I 2025-10-12 18:24:01,376] Trial 4 finished with value: 8.131055487189634 and parameters: {'num_leaves': 34, 'learning_rate': 0.001238513729886093, 'min_child_samples': 40, 'feature_fraction': 0.6682096494749166, 'bagging_fraction': 0.6260206371941118, 'reg_alpha': 7.025166339242156, 'reg_lambda': 7.886714129990489}. Best is trial 3 with value: 20446032.182117146.\n",
                        "[I 2025-10-12 18:24:17,963] Trial 5 finished with value: 3.303323068089707 and parameters: {'num_leaves': 43, 'learning_rate': 0.0040665633135147945, 'min_child_samples': 14, 'feature_fraction': 0.8736932106048627, 'bagging_fraction': 0.7760609974958406, 'reg_alpha': 0.023233503515390115, 'reg_lambda': 0.3058656666978526}. Best is trial 3 with value: 20446032.182117146.\n",
                        "[I 2025-10-12 18:24:19,894] Trial 6 finished with value: 16.338070905973506 and parameters: {'num_leaves': 11, 'learning_rate': 0.06586289317583113, 'min_child_samples': 23, 'feature_fraction': 0.8650089137415928, 'bagging_fraction': 0.7246844304357644, 'reg_alpha': 0.3632486956676606, 'reg_lambda': 0.43664735929796333}. Best is trial 3 with value: 20446032.182117146.\n",
                        "[I 2025-10-12 18:24:22,047] Trial 7 finished with value: 0.7624657660605098 and parameters: {'num_leaves': 17, 'learning_rate': 0.08692991511139551, 'min_child_samples': 49, 'feature_fraction': 0.9757995766256756, 'bagging_fraction': 0.9579309401710595, 'reg_alpha': 0.6218704727769077, 'reg_lambda': 5.829384542994738}. Best is trial 3 with value: 20446032.182117146.\n"
                    ]
                },
                {
                    "name": "stderr",
                    "output_type": "stream",
                    "text": [
                        "d:\\Project\\Command\\Python\\Neural\\Wolf_of_Wall_Street\\.venv\\Lib\\site-packages\\pandas\\core\\nanops.py:1632: ConstantInputWarning: An input array is constant; the correlation coefficient is not defined.\n",
                        "  return spearmanr(a, b)[0]\n"
                    ]
                },
                {
                    "name": "stdout",
                    "output_type": "stream",
                    "text": [
                        "[I 2025-10-12 18:24:23,679] Trial 8 finished with value: 50364769.07197171 and parameters: {'num_leaves': 13, 'learning_rate': 0.0024658447214487376, 'min_child_samples': 12, 'feature_fraction': 0.7301321323053057, 'bagging_fraction': 0.7554709158757928, 'reg_alpha': 0.06516990611177176, 'reg_lambda': 3.063462210622083}. Best is trial 8 with value: 50364769.07197171.\n",
                        "[I 2025-10-12 18:24:28,388] Trial 9 finished with value: 4.528171570176002 and parameters: {'num_leaves': 24, 'learning_rate': 0.0036464395589807202, 'min_child_samples': 37, 'feature_fraction': 0.6563696899899051, 'bagging_fraction': 0.9208787923016158, 'reg_alpha': 0.01673601016782578, 'reg_lambda': 9.133995846860973}. Best is trial 8 with value: 50364769.07197171.\n",
                        "[I 2025-10-12 18:24:31,193] Trial 10 finished with value: 3.4168149477572367 and parameters: {'num_leaves': 31, 'learning_rate': 0.012978384473886913, 'min_child_samples': 59, 'feature_fraction': 0.7387403565626488, 'bagging_fraction': 0.8560354009870224, 'reg_alpha': 0.13831805735878808, 'reg_lambda': 1.552746952753857}. Best is trial 8 with value: 50364769.07197171.\n",
                        "[I 2025-10-12 18:24:33,702] Trial 11 finished with value: 4.330221819387343 and parameters: {'num_leaves': 10, 'learning_rate': 0.007556847140377777, 'min_child_samples': 10, 'feature_fraction': 0.7347390152853027, 'bagging_fraction': 0.8654930790474444, 'reg_alpha': 0.08895288623619253, 'reg_lambda': 0.11476248212044693}. Best is trial 8 with value: 50364769.07197171.\n",
                        "[I 2025-10-12 18:24:36,463] Trial 12 finished with value: 0.44790159114973915 and parameters: {'num_leaves': 18, 'learning_rate': 0.0011048090196650788, 'min_child_samples': 24, 'feature_fraction': 0.7473869332949584, 'bagging_fraction': 0.8528862413275127, 'reg_alpha': 0.010747446438207495, 'reg_lambda': 1.9647380762882152}. Best is trial 8 with value: 50364769.07197171.\n",
                        "[I 2025-10-12 18:24:39,277] Trial 13 finished with value: 2.0645292720322526 and parameters: {'num_leaves': 23, 'learning_rate': 0.0068094844512993176, 'min_child_samples': 29, 'feature_fraction': 0.9267397597931738, 'bagging_fraction': 0.6955447219725875, 'reg_alpha': 0.05025372017720968, 'reg_lambda': 0.1067573696379613}. Best is trial 8 with value: 50364769.07197171.\n",
                        "[I 2025-10-12 18:24:45,591] Trial 14 finished with value: 25.786646201635023 and parameters: {'num_leaves': 36, 'learning_rate': 0.0022224048975826613, 'min_child_samples': 17, 'feature_fraction': 0.7675437542880359, 'bagging_fraction': 0.9058490523843733, 'reg_alpha': 0.17794173644155437, 'reg_lambda': 2.04578978309477}. Best is trial 8 with value: 50364769.07197171.\n",
                        "[I 2025-10-12 18:24:47,748] Trial 15 finished with value: 3.9895085650123177 and parameters: {'num_leaves': 14, 'learning_rate': 0.02826668800296163, 'min_child_samples': 30, 'feature_fraction': 0.6843602655127196, 'bagging_fraction': 0.817821328751992, 'reg_alpha': 0.9656331580684209, 'reg_lambda': 0.8988429017913107}. Best is trial 8 with value: 50364769.07197171.\n",
                        "[I 2025-10-12 18:24:53,793] Trial 16 finished with value: 3.6658960019348394 and parameters: {'num_leaves': 21, 'learning_rate': 0.003876887518805543, 'min_child_samples': 18, 'feature_fraction': 0.7960061894876963, 'bagging_fraction': 0.7286655445361523, 'reg_alpha': 0.03789057003409158, 'reg_lambda': 0.1719381080987718}. Best is trial 8 with value: 50364769.07197171.\n",
                        "[I 2025-10-12 18:25:02,204] Trial 17 finished with value: 3.5860813846157744 and parameters: {'num_leaves': 28, 'learning_rate': 0.0020864316977079883, 'min_child_samples': 33, 'feature_fraction': 0.7097888783723135, 'bagging_fraction': 0.9132193143453703, 'reg_alpha': 0.210936967514812, 'reg_lambda': 3.1552481825040517}. Best is trial 8 with value: 50364769.07197171.\n",
                        "[I 2025-10-12 18:25:04,746] Trial 18 finished with value: 7.839451966719147 and parameters: {'num_leaves': 14, 'learning_rate': 0.022209745474633863, 'min_child_samples': 10, 'feature_fraction': 0.6170139097157814, 'bagging_fraction': 0.8085130279866413, 'reg_alpha': 1.323071869247317, 'reg_lambda': 0.024770610690177438}. Best is trial 8 with value: 50364769.07197171.\n",
                        "[I 2025-10-12 18:25:13,591] Trial 19 finished with value: 36.248755541910015 and parameters: {'num_leaves': 41, 'learning_rate': 0.00589549624238342, 'min_child_samples': 20, 'feature_fraction': 0.7861869048582149, 'bagging_fraction': 0.7431790227758485, 'reg_alpha': 0.09604433699998725, 'reg_lambda': 0.05595399159105624}. Best is trial 8 with value: 50364769.07197171.\n",
                        "[I 2025-10-12 18:25:21,501] Trial 20 finished with value: 4.608787208520166 and parameters: {'num_leaves': 50, 'learning_rate': 0.00214667752526985, 'min_child_samples': 40, 'feature_fraction': 0.9183471047574291, 'bagging_fraction': 0.6733221423256304, 'reg_alpha': 0.010030650591682145, 'reg_lambda': 3.965477889420435}. Best is trial 8 with value: 50364769.07197171.\n",
                        "[I 2025-10-12 18:25:29,209] Trial 21 finished with value: 0.28571279464597876 and parameters: {'num_leaves': 40, 'learning_rate': 0.006411328136619452, 'min_child_samples': 19, 'feature_fraction': 0.7981351629978801, 'bagging_fraction': 0.7616287146723624, 'reg_alpha': 0.06861070211613769, 'reg_lambda': 0.05172067228949872}. Best is trial 8 with value: 50364769.07197171.\n",
                        "[I 2025-10-12 18:25:39,210] Trial 22 finished with value: 3.9111802897962016 and parameters: {'num_leaves': 50, 'learning_rate': 0.004933465696060417, 'min_child_samples': 21, 'feature_fraction': 0.7825544700494848, 'bagging_fraction': 0.7338715133140761, 'reg_alpha': 0.12341461791729297, 'reg_lambda': 0.22336290425317293}. Best is trial 8 with value: 50364769.07197171.\n",
                        "[I 2025-10-12 18:25:47,042] Trial 23 finished with value: 23.87009960754431 and parameters: {'num_leaves': 38, 'learning_rate': 0.009762183278191543, 'min_child_samples': 14, 'feature_fraction': 0.7071693307038958, 'bagging_fraction': 0.8017948727710672, 'reg_alpha': 0.31598556546846535, 'reg_lambda': 0.010835847514722127}. Best is trial 8 with value: 50364769.07197171.\n",
                        "[I 2025-10-12 18:25:53,195] Trial 24 finished with value: 89.89213586152147 and parameters: {'num_leaves': 28, 'learning_rate': 0.0030396431769712973, 'min_child_samples': 28, 'feature_fraction': 0.8259778627544567, 'bagging_fraction': 0.7007062289143248, 'reg_alpha': 0.044801391031693616, 'reg_lambda': 0.06301399943418408}. Best is trial 8 with value: 50364769.07197171.\n"
                    ]
                },
                {
                    "name": "stderr",
                    "output_type": "stream",
                    "text": [
                        "d:\\Project\\Command\\Python\\Neural\\Wolf_of_Wall_Street\\.venv\\Lib\\site-packages\\pandas\\core\\nanops.py:1632: ConstantInputWarning: An input array is constant; the correlation coefficient is not defined.\n",
                        "  return spearmanr(a, b)[0]\n"
                    ]
                },
                {
                    "name": "stdout",
                    "output_type": "stream",
                    "text": [
                        "[I 2025-10-12 18:25:58,901] Trial 25 finished with value: 32530992.970753573 and parameters: {'num_leaves': 20, 'learning_rate': 0.0016268296613238982, 'min_child_samples': 29, 'feature_fraction': 0.8412415836469934, 'bagging_fraction': 0.622983208385484, 'reg_alpha': 0.045607691484005904, 'reg_lambda': 0.6982014150255583}. Best is trial 8 with value: 50364769.07197171.\n",
                        "[I 2025-10-12 18:26:04,809] Trial 26 finished with value: 5.23384152337885 and parameters: {'num_leaves': 20, 'learning_rate': 0.001443640502533287, 'min_child_samples': 33, 'feature_fraction': 0.8584152652373682, 'bagging_fraction': 0.6282572457368231, 'reg_alpha': 0.021669746908757108, 'reg_lambda': 0.917199958961051}. Best is trial 8 with value: 50364769.07197171.\n",
                        "[I 2025-10-12 18:26:08,585] Trial 27 finished with value: 2.9509851073252604 and parameters: {'num_leaves': 14, 'learning_rate': 0.0015523400449131272, 'min_child_samples': 27, 'feature_fraction': 0.9036059223781863, 'bagging_fraction': 0.6013536020636991, 'reg_alpha': 0.058661414166875606, 'reg_lambda': 0.5050963468581301}. Best is trial 8 with value: 50364769.07197171.\n"
                    ]
                },
                {
                    "name": "stderr",
                    "output_type": "stream",
                    "text": [
                        "d:\\Project\\Command\\Python\\Neural\\Wolf_of_Wall_Street\\.venv\\Lib\\site-packages\\pandas\\core\\nanops.py:1632: ConstantInputWarning: An input array is constant; the correlation coefficient is not defined.\n",
                        "  return spearmanr(a, b)[0]\n"
                    ]
                },
                {
                    "name": "stdout",
                    "output_type": "stream",
                    "text": [
                        "[I 2025-10-12 18:26:10,910] Trial 28 finished with value: -42617838.42370073 and parameters: {'num_leaves': 13, 'learning_rate': 0.0030400687921604223, 'min_child_samples': 42, 'feature_fraction': 0.7603692855571655, 'bagging_fraction': 0.8845781795379228, 'reg_alpha': 0.01821579635542878, 'reg_lambda': 1.2674610600747123}. Best is trial 8 with value: 50364769.07197171.\n"
                    ]
                },
                {
                    "name": "stderr",
                    "output_type": "stream",
                    "text": [
                        "d:\\Project\\Command\\Python\\Neural\\Wolf_of_Wall_Street\\.venv\\Lib\\site-packages\\pandas\\core\\nanops.py:1632: ConstantInputWarning: An input array is constant; the correlation coefficient is not defined.\n",
                        "  return spearmanr(a, b)[0]\n"
                    ]
                },
                {
                    "name": "stdout",
                    "output_type": "stream",
                    "text": [
                        "[I 2025-10-12 18:26:13,155] Trial 29 finished with value: 17224614.69597444 and parameters: {'num_leaves': 20, 'learning_rate': 0.0016958139803229764, 'min_child_samples': 59, 'feature_fraction': 0.8377121162156264, 'bagging_fraction': 0.6493683700479091, 'reg_alpha': 0.03234581690549684, 'reg_lambda': 3.540608725895572}. Best is trial 8 with value: 50364769.07197171.\n"
                    ]
                },
                {
                    "name": "stderr",
                    "output_type": "stream",
                    "text": [
                        "d:\\Project\\Command\\Python\\Neural\\Wolf_of_Wall_Street\\.venv\\Lib\\site-packages\\pandas\\core\\nanops.py:1632: ConstantInputWarning: An input array is constant; the correlation coefficient is not defined.\n",
                        "  return spearmanr(a, b)[0]\n"
                    ]
                },
                {
                    "name": "stdout",
                    "output_type": "stream",
                    "text": [
                        "[I 2025-10-12 18:26:18,311] Trial 30 finished with value: 36975889.93935105 and parameters: {'num_leaves': 27, 'learning_rate': 0.0010660930603616416, 'min_child_samples': 53, 'feature_fraction': 0.717346150366539, 'bagging_fraction': 0.95122757266606, 'reg_alpha': 0.032513393743865325, 'reg_lambda': 0.37887116825384176}. Best is trial 8 with value: 50364769.07197171.\n"
                    ]
                },
                {
                    "name": "stderr",
                    "output_type": "stream",
                    "text": [
                        "d:\\Project\\Command\\Python\\Neural\\Wolf_of_Wall_Street\\.venv\\Lib\\site-packages\\pandas\\core\\nanops.py:1632: ConstantInputWarning: An input array is constant; the correlation coefficient is not defined.\n",
                        "  return spearmanr(a, b)[0]\n"
                    ]
                },
                {
                    "name": "stdout",
                    "output_type": "stream",
                    "text": [
                        "[I 2025-10-12 18:26:23,318] Trial 31 finished with value: 43359833.41966472 and parameters: {'num_leaves': 27, 'learning_rate': 0.0012934521824038653, 'min_child_samples': 53, 'feature_fraction': 0.7166665700370984, 'bagging_fraction': 0.9472394772122598, 'reg_alpha': 0.03145911688666272, 'reg_lambda': 0.3426025352002481}. Best is trial 8 with value: 50364769.07197171.\n",
                        "[I 2025-10-12 18:26:27,766] Trial 32 finished with value: 8.130491866124151 and parameters: {'num_leaves': 28, 'learning_rate': 0.0010164772461987218, 'min_child_samples': 52, 'feature_fraction': 0.703557439944841, 'bagging_fraction': 0.984754048611218, 'reg_alpha': 0.028607418256467877, 'reg_lambda': 0.219346887283408}. Best is trial 8 with value: 50364769.07197171.\n",
                        "[I 2025-10-12 18:26:31,950] Trial 33 finished with value: 55.07329437213755 and parameters: {'num_leaves': 26, 'learning_rate': 0.0015834208433151988, 'min_child_samples': 54, 'feature_fraction': 0.6478174484741557, 'bagging_fraction': 0.9535539690171989, 'reg_alpha': 0.013961313423831195, 'reg_lambda': 0.8130277218609003}. Best is trial 8 with value: 50364769.07197171.\n"
                    ]
                },
                {
                    "name": "stderr",
                    "output_type": "stream",
                    "text": [
                        "d:\\Project\\Command\\Python\\Neural\\Wolf_of_Wall_Street\\.venv\\Lib\\site-packages\\pandas\\core\\nanops.py:1632: ConstantInputWarning: An input array is constant; the correlation coefficient is not defined.\n",
                        "  return spearmanr(a, b)[0]\n"
                    ]
                },
                {
                    "name": "stdout",
                    "output_type": "stream",
                    "text": [
                        "[I 2025-10-12 18:26:41,907] Trial 34 finished with value: 37150240.365559846 and parameters: {'num_leaves': 32, 'learning_rate': 0.0010287607642569636, 'min_child_samples': 49, 'feature_fraction': 0.7277671318316582, 'bagging_fraction': 0.9503554672507261, 'reg_alpha': 0.0722145139444157, 'reg_lambda': 0.5147712775998768}. Best is trial 8 with value: 50364769.07197171.\n"
                    ]
                },
                {
                    "name": "stderr",
                    "output_type": "stream",
                    "text": [
                        "d:\\Project\\Command\\Python\\Neural\\Wolf_of_Wall_Street\\.venv\\Lib\\site-packages\\pandas\\core\\nanops.py:1632: ConstantInputWarning: An input array is constant; the correlation coefficient is not defined.\n",
                        "  return spearmanr(a, b)[0]\n"
                    ]
                },
                {
                    "name": "stdout",
                    "output_type": "stream",
                    "text": [
                        "[I 2025-10-12 18:26:53,691] Trial 35 finished with value: 3863633.477025581 and parameters: {'num_leaves': 32, 'learning_rate': 0.0010029978956720565, 'min_child_samples': 47, 'feature_fraction': 0.7221166152931349, 'bagging_fraction': 0.999011400658367, 'reg_alpha': 0.07115086920530882, 'reg_lambda': 0.14111976901256626}. Best is trial 8 with value: 50364769.07197171.\n",
                        "[I 2025-10-12 18:26:58,725] Trial 36 finished with value: 6.637666718204715 and parameters: {'num_leaves': 33, 'learning_rate': 0.0012878389355779776, 'min_child_samples': 54, 'feature_fraction': 0.6808177986707222, 'bagging_fraction': 0.9453634451054127, 'reg_alpha': 0.023979708515065572, 'reg_lambda': 0.30827250987390326}. Best is trial 8 with value: 50364769.07197171.\n",
                        "[I 2025-10-12 18:27:00,596] Trial 37 finished with value: -0.12268847360700323 and parameters: {'num_leaves': 35, 'learning_rate': 0.0029067513057184848, 'min_child_samples': 44, 'feature_fraction': 0.6233068585260121, 'bagging_fraction': 0.9763228788135023, 'reg_alpha': 9.882134453902399, 'reg_lambda': 0.47050080034878095}. Best is trial 8 with value: 50364769.07197171.\n",
                        "[I 2025-10-12 18:27:05,304] Trial 38 finished with value: 6.0515740115871814 and parameters: {'num_leaves': 26, 'learning_rate': 0.0019703051579955614, 'min_child_samples': 50, 'feature_fraction': 0.6916162584581081, 'bagging_fraction': 0.83163104614259, 'reg_alpha': 0.2317700026464172, 'reg_lambda': 0.07695297037349809}. Best is trial 8 with value: 50364769.07197171.\n",
                        "[I 2025-10-12 18:27:09,942] Trial 39 finished with value: 65.1181091994233 and parameters: {'num_leaves': 30, 'learning_rate': 0.0012781895662859748, 'min_child_samples': 55, 'feature_fraction': 0.6414402850696717, 'bagging_fraction': 0.9376546537187516, 'reg_alpha': 0.10376122495160685, 'reg_lambda': 0.029289499245474988}. Best is trial 8 with value: 50364769.07197171.\n"
                    ]
                },
                {
                    "name": "stderr",
                    "output_type": "stream",
                    "text": [
                        "d:\\Project\\Command\\Python\\Neural\\Wolf_of_Wall_Street\\.venv\\Lib\\site-packages\\pandas\\core\\nanops.py:1632: ConstantInputWarning: An input array is constant; the correlation coefficient is not defined.\n",
                        "  return spearmanr(a, b)[0]\n"
                    ]
                },
                {
                    "name": "stdout",
                    "output_type": "stream",
                    "text": [
                        "[I 2025-10-12 18:27:14,710] Trial 40 finished with value: 40862485.775312126 and parameters: {'num_leaves': 30, 'learning_rate': 0.002423416710009879, 'min_child_samples': 57, 'feature_fraction': 0.7608837024072702, 'bagging_fraction': 0.8873960497987674, 'reg_alpha': 2.7529736572780705, 'reg_lambda': 0.5289254365487744}. Best is trial 8 with value: 50364769.07197171.\n"
                    ]
                },
                {
                    "name": "stderr",
                    "output_type": "stream",
                    "text": [
                        "d:\\Project\\Command\\Python\\Neural\\Wolf_of_Wall_Street\\.venv\\Lib\\site-packages\\pandas\\core\\nanops.py:1632: ConstantInputWarning: An input array is constant; the correlation coefficient is not defined.\n",
                        "  return spearmanr(a, b)[0]\n"
                    ]
                },
                {
                    "name": "stdout",
                    "output_type": "stream",
                    "text": [
                        "[I 2025-10-12 18:27:17,320] Trial 41 finished with value: 39450209.08111209 and parameters: {'num_leaves': 30, 'learning_rate': 0.002724730745114738, 'min_child_samples': 57, 'feature_fraction': 0.7545083631353052, 'bagging_fraction': 0.8910612922493566, 'reg_alpha': 4.247768436025432, 'reg_lambda': 0.3649785070475841}. Best is trial 8 with value: 50364769.07197171.\n"
                    ]
                },
                {
                    "name": "stderr",
                    "output_type": "stream",
                    "text": [
                        "d:\\Project\\Command\\Python\\Neural\\Wolf_of_Wall_Street\\.venv\\Lib\\site-packages\\pandas\\core\\nanops.py:1632: ConstantInputWarning: An input array is constant; the correlation coefficient is not defined.\n",
                        "  return spearmanr(a, b)[0]\n"
                    ]
                },
                {
                    "name": "stdout",
                    "output_type": "stream",
                    "text": [
                        "[I 2025-10-12 18:27:19,885] Trial 42 finished with value: 46700912.359973006 and parameters: {'num_leaves': 30, 'learning_rate': 0.002635385012902868, 'min_child_samples': 58, 'feature_fraction': 0.7607486952834577, 'bagging_fraction': 0.8817743965322397, 'reg_alpha': 4.25212066160426, 'reg_lambda': 0.2394852373293467}. Best is trial 8 with value: 50364769.07197171.\n"
                    ]
                },
                {
                    "name": "stderr",
                    "output_type": "stream",
                    "text": [
                        "d:\\Project\\Command\\Python\\Neural\\Wolf_of_Wall_Street\\.venv\\Lib\\site-packages\\pandas\\core\\nanops.py:1632: ConstantInputWarning: An input array is constant; the correlation coefficient is not defined.\n",
                        "  return spearmanr(a, b)[0]\n"
                    ]
                },
                {
                    "name": "stdout",
                    "output_type": "stream",
                    "text": [
                        "[I 2025-10-12 18:27:22,611] Trial 43 finished with value: 37371450.31083172 and parameters: {'num_leaves': 23, 'learning_rate': 0.002589103740519137, 'min_child_samples': 57, 'feature_fraction': 0.7520935190511249, 'bagging_fraction': 0.886889935672853, 'reg_alpha': 4.003485838855542, 'reg_lambda': 0.2669504314195018}. Best is trial 8 with value: 50364769.07197171.\n"
                    ]
                },
                {
                    "name": "stderr",
                    "output_type": "stream",
                    "text": [
                        "d:\\Project\\Command\\Python\\Neural\\Wolf_of_Wall_Street\\.venv\\Lib\\site-packages\\pandas\\core\\nanops.py:1632: ConstantInputWarning: An input array is constant; the correlation coefficient is not defined.\n",
                        "  return spearmanr(a, b)[0]\n"
                    ]
                },
                {
                    "name": "stdout",
                    "output_type": "stream",
                    "text": [
                        "[I 2025-10-12 18:27:24,525] Trial 44 finished with value: 20931953.095491894 and parameters: {'num_leaves': 37, 'learning_rate': 0.004857965097032927, 'min_child_samples': 60, 'feature_fraction': 0.7633526470621793, 'bagging_fraction': 0.8418054916866987, 'reg_alpha': 3.307926357251946, 'reg_lambda': 0.18413994411420678}. Best is trial 8 with value: 50364769.07197171.\n",
                        "[I 2025-10-12 18:27:27,219] Trial 45 finished with value: 10.885878316187767 and parameters: {'num_leaves': 30, 'learning_rate': 0.058296961141996534, 'min_child_samples': 57, 'feature_fraction': 0.771153097163323, 'bagging_fraction': 0.8865361398993207, 'reg_alpha': 1.6370354012300028, 'reg_lambda': 0.08598392324684694}. Best is trial 8 with value: 50364769.07197171.\n",
                        "[I 2025-10-12 18:27:29,298] Trial 46 finished with value: 1.206353567468527 and parameters: {'num_leaves': 24, 'learning_rate': 0.003484948027883734, 'min_child_samples': 56, 'feature_fraction': 0.8123499972988603, 'bagging_fraction': 0.7760397148357534, 'reg_alpha': 4.830579790066591, 'reg_lambda': 6.685240205909509}. Best is trial 8 with value: 50364769.07197171.\n"
                    ]
                },
                {
                    "name": "stderr",
                    "output_type": "stream",
                    "text": [
                        "d:\\Project\\Command\\Python\\Neural\\Wolf_of_Wall_Street\\.venv\\Lib\\site-packages\\pandas\\core\\nanops.py:1632: ConstantInputWarning: An input array is constant; the correlation coefficient is not defined.\n",
                        "  return spearmanr(a, b)[0]\n"
                    ]
                },
                {
                    "name": "stdout",
                    "output_type": "stream",
                    "text": [
                        "[I 2025-10-12 18:27:33,210] Trial 47 finished with value: 38224383.5587146 and parameters: {'num_leaves': 30, 'learning_rate': 0.0024863721393705144, 'min_child_samples': 51, 'feature_fraction': 0.7497970802227766, 'bagging_fraction': 0.8706862266940255, 'reg_alpha': 1.9114384099872999, 'reg_lambda': 1.2532158088265213}. Best is trial 8 with value: 50364769.07197171.\n",
                        "[I 2025-10-12 18:27:35,299] Trial 48 finished with value: 16.587942490679794 and parameters: {'num_leaves': 34, 'learning_rate': 0.0047912430847702305, 'min_child_samples': 46, 'feature_fraction': 0.6710559300757173, 'bagging_fraction': 0.9161449094502747, 'reg_alpha': 6.523077884334183, 'reg_lambda': 0.577594142496869}. Best is trial 8 with value: 50364769.07197171.\n"
                    ]
                },
                {
                    "name": "stderr",
                    "output_type": "stream",
                    "text": [
                        "d:\\Project\\Command\\Python\\Neural\\Wolf_of_Wall_Street\\.venv\\Lib\\site-packages\\pandas\\core\\nanops.py:1632: ConstantInputWarning: An input array is constant; the correlation coefficient is not defined.\n",
                        "  return spearmanr(a, b)[0]\n",
                        "[I 2025-10-12 18:27:37,134] A new study created in memory with name: no-name-4d1c917e-f66a-4f65-b29d-3d633df92c8e\n"
                    ]
                },
                {
                    "name": "stdout",
                    "output_type": "stream",
                    "text": [
                        "[I 2025-10-12 18:27:37,127] Trial 49 finished with value: 63646846.74585483 and parameters: {'num_leaves': 17, 'learning_rate': 0.00198276537521263, 'min_child_samples': 58, 'feature_fraction': 0.7355597564812602, 'bagging_fraction': 0.8956574698845071, 'reg_alpha': 0.5439691017598229, 'reg_lambda': 0.13550092029907773}. Best is trial 49 with value: 63646846.74585483.\n",
                        "\n",
                        "--- HPO Results for 长白山 (603099.SH) ---\n",
                        "Best Score (ICIR): 63646846.7459\n",
                        "Best Parameters:\n",
                        "  num_leaves: 17\n",
                        "  learning_rate: 0.00198276537521263\n",
                        "  min_child_samples: 58\n",
                        "  feature_fraction: 0.7355597564812602\n",
                        "  bagging_fraction: 0.8956574698845071\n",
                        "  reg_alpha: 0.5439691017598229\n",
                        "  reg_lambda: 0.13550092029907773\n",
                        "================================================================================\n",
                        "INFO: Loaded data for HPO on TCL科技. Shape: (4854, 23)\n",
                        "INFO: HPO memory cache cleared.\n",
                        "\n",
                        "================================================================================\n",
                        "--- Starting HPO for TCL科技 (000100.SZ) with 50 trials ---\n"
                    ]
                },
                {
                    "data": {
                        "application/vnd.jupyter.widget-view+json": {
                            "model_id": "d3fec36eec25495b90c5066be815e510",
                            "version_major": 2,
                            "version_minor": 0
                        },
                        "text/plain": [
                            "  0%|          | 0/50 [00:00<?, ?it/s]"
                        ]
                    },
                    "metadata": {},
                    "output_type": "display_data"
                },
                {
                    "name": "stdout",
                    "output_type": "stream",
                    "text": [
                        "[I 2025-10-12 18:27:41,266] Trial 0 finished with value: 4.22665386799851 and parameters: {'num_leaves': 25, 'learning_rate': 0.07969454818643935, 'min_child_samples': 47, 'feature_fraction': 0.8394633936788146, 'bagging_fraction': 0.6624074561769746, 'reg_alpha': 0.029375384576328288, 'reg_lambda': 0.014936568554617643}. Best is trial 0 with value: 4.22665386799851.\n",
                        "[I 2025-10-12 18:27:58,040] Trial 1 finished with value: 15.146619080670574 and parameters: {'num_leaves': 45, 'learning_rate': 0.015930522616241012, 'min_child_samples': 46, 'feature_fraction': 0.608233797718321, 'bagging_fraction': 0.9879639408647978, 'reg_alpha': 3.142880890840109, 'reg_lambda': 0.04335281794951567}. Best is trial 1 with value: 15.146619080670574.\n",
                        "[I 2025-10-12 18:28:22,671] Trial 2 finished with value: 7.6532564976273765 and parameters: {'num_leaves': 17, 'learning_rate': 0.002327067708383781, 'min_child_samples': 25, 'feature_fraction': 0.8099025726528951, 'bagging_fraction': 0.7727780074568463, 'reg_alpha': 0.07476312062252301, 'reg_lambda': 0.6847920095574779}. Best is trial 1 with value: 15.146619080670574.\n",
                        "[I 2025-10-12 18:28:27,665] Trial 3 finished with value: 1.1976520956337449 and parameters: {'num_leaves': 15, 'learning_rate': 0.00383962929980417, 'min_child_samples': 28, 'feature_fraction': 0.7824279936868144, 'bagging_fraction': 0.9140703845572055, 'reg_alpha': 0.039721107273819126, 'reg_lambda': 0.34890188454913873}. Best is trial 1 with value: 15.146619080670574.\n",
                        "[I 2025-10-12 18:28:34,611] Trial 4 finished with value: 3.985877836285847 and parameters: {'num_leaves': 34, 'learning_rate': 0.001238513729886093, 'min_child_samples': 40, 'feature_fraction': 0.6682096494749166, 'bagging_fraction': 0.6260206371941118, 'reg_alpha': 7.025166339242156, 'reg_lambda': 7.886714129990489}. Best is trial 1 with value: 15.146619080670574.\n",
                        "[I 2025-10-12 18:29:02,657] Trial 5 finished with value: 7.614900436695216 and parameters: {'num_leaves': 43, 'learning_rate': 0.0040665633135147945, 'min_child_samples': 14, 'feature_fraction': 0.8736932106048627, 'bagging_fraction': 0.7760609974958406, 'reg_alpha': 0.023233503515390115, 'reg_lambda': 0.3058656666978526}. Best is trial 1 with value: 15.146619080670574.\n",
                        "[I 2025-10-12 18:29:04,636] Trial 6 finished with value: 4.396533862667172 and parameters: {'num_leaves': 11, 'learning_rate': 0.06586289317583113, 'min_child_samples': 23, 'feature_fraction': 0.8650089137415928, 'bagging_fraction': 0.7246844304357644, 'reg_alpha': 0.3632486956676606, 'reg_lambda': 0.43664735929796333}. Best is trial 1 with value: 15.146619080670574.\n",
                        "[I 2025-10-12 18:29:11,944] Trial 7 finished with value: 30.36606473383554 and parameters: {'num_leaves': 17, 'learning_rate': 0.08692991511139551, 'min_child_samples': 49, 'feature_fraction': 0.9757995766256756, 'bagging_fraction': 0.9579309401710595, 'reg_alpha': 0.6218704727769077, 'reg_lambda': 5.829384542994738}. Best is trial 7 with value: 30.36606473383554.\n",
                        "[I 2025-10-12 18:29:17,650] Trial 8 finished with value: 76.69551379270735 and parameters: {'num_leaves': 13, 'learning_rate': 0.0024658447214487376, 'min_child_samples': 12, 'feature_fraction': 0.7301321323053057, 'bagging_fraction': 0.7554709158757928, 'reg_alpha': 0.06516990611177176, 'reg_lambda': 3.063462210622083}. Best is trial 8 with value: 76.69551379270735.\n",
                        "[I 2025-10-12 18:29:38,724] Trial 9 finished with value: 8.568695272650606 and parameters: {'num_leaves': 24, 'learning_rate': 0.0036464395589807202, 'min_child_samples': 37, 'feature_fraction': 0.6563696899899051, 'bagging_fraction': 0.9208787923016158, 'reg_alpha': 0.01673601016782578, 'reg_lambda': 9.133995846860973}. Best is trial 8 with value: 76.69551379270735.\n",
                        "[I 2025-10-12 18:29:48,211] Trial 10 finished with value: 8.191384336727868 and parameters: {'num_leaves': 31, 'learning_rate': 0.012978384473886913, 'min_child_samples': 59, 'feature_fraction': 0.7387403565626488, 'bagging_fraction': 0.8560354009870224, 'reg_alpha': 0.13831805735878808, 'reg_lambda': 1.552746952753857}. Best is trial 8 with value: 76.69551379270735.\n",
                        "[I 2025-10-12 18:29:51,694] Trial 11 finished with value: 8.224212855938767 and parameters: {'num_leaves': 10, 'learning_rate': 0.03085473344630506, 'min_child_samples': 10, 'feature_fraction': 0.9870145737504872, 'bagging_fraction': 0.8462948165495066, 'reg_alpha': 0.5291230083067617, 'reg_lambda': 3.218752335968026}. Best is trial 8 with value: 76.69551379270735.\n",
                        "[I 2025-10-12 18:29:57,908] Trial 12 finished with value: 6.612706811258889 and parameters: {'num_leaves': 20, 'learning_rate': 0.03230674617349932, 'min_child_samples': 58, 'feature_fraction': 0.979655167933542, 'bagging_fraction': 0.7067964291781478, 'reg_alpha': 0.8661025596666062, 'reg_lambda': 2.3681433985632885}. Best is trial 8 with value: 76.69551379270735.\n",
                        "[I 2025-10-12 18:30:02,858] Trial 13 finished with value: 1.1714125999265377 and parameters: {'num_leaves': 23, 'learning_rate': 0.007695461021655305, 'min_child_samples': 50, 'feature_fraction': 0.9222743743889454, 'bagging_fraction': 0.9862778301767894, 'reg_alpha': 1.2379115195587127, 'reg_lambda': 0.1067573696379613}. Best is trial 8 with value: 76.69551379270735.\n",
                        "[I 2025-10-12 18:31:28,362] Trial 14 finished with value: 8.086955598078427 and parameters: {'num_leaves': 36, 'learning_rate': 0.0011146185908471238, 'min_child_samples': 32, 'feature_fraction': 0.73862277263944, 'bagging_fraction': 0.8332908615865308, 'reg_alpha': 0.1597623733519014, 'reg_lambda': 4.1061940814141895}. Best is trial 8 with value: 76.69551379270735.\n",
                        "[I 2025-10-12 18:31:32,460] Trial 15 finished with value: 15.181708679687812 and parameters: {'num_leaves': 15, 'learning_rate': 0.031828206370113174, 'min_child_samples': 19, 'feature_fraction': 0.9232264137788657, 'bagging_fraction': 0.9028253768028489, 'reg_alpha': 0.17387706430988117, 'reg_lambda': 1.1175598689717452}. Best is trial 8 with value: 76.69551379270735.\n",
                        "[I 2025-10-12 18:31:43,828] Trial 16 finished with value: 9.095091051988655 and parameters: {'num_leaves': 28, 'learning_rate': 0.0070469448854032805, 'min_child_samples': 51, 'feature_fraction': 0.7539796407337818, 'bagging_fraction': 0.7217558129988104, 'reg_alpha': 0.01051877705746257, 'reg_lambda': 5.069387611159278}. Best is trial 8 with value: 76.69551379270735.\n",
                        "[I 2025-10-12 18:32:30,837] Trial 17 finished with value: 35.02292439942889 and parameters: {'num_leaves': 19, 'learning_rate': 0.002105587150744621, 'min_child_samples': 42, 'feature_fraction': 0.6736792431153423, 'bagging_fraction': 0.9533498041404486, 'reg_alpha': 1.818503798674406, 'reg_lambda': 1.3849541932702656}. Best is trial 8 with value: 76.69551379270735.\n",
                        "[I 2025-10-12 18:33:50,145] Trial 18 finished with value: 754.1815354796204 and parameters: {'num_leaves': 20, 'learning_rate': 0.0019797613961082053, 'min_child_samples': 41, 'feature_fraction': 0.6903764939098137, 'bagging_fraction': 0.7950092252147258, 'reg_alpha': 2.2425407039139253, 'reg_lambda': 0.1188969884194562}. Best is trial 18 with value: 754.1815354796204.\n",
                        "[I 2025-10-12 18:33:53,061] Trial 19 finished with value: 3.2974842963746527 and parameters: {'num_leaves': 11, 'learning_rate': 0.0019804285005508267, 'min_child_samples': 32, 'feature_fraction': 0.7007822862764849, 'bagging_fraction': 0.8029967056557425, 'reg_alpha': 9.858044573191533, 'reg_lambda': 0.12490636872857047}. Best is trial 18 with value: 754.1815354796204.\n",
                        "[I 2025-10-12 18:34:06,844] Trial 20 finished with value: 5.601730224088595 and parameters: {'num_leaves': 28, 'learning_rate': 0.004971533479872605, 'min_child_samples': 18, 'feature_fraction': 0.6267865556535103, 'bagging_fraction': 0.6817427853448248, 'reg_alpha': 0.07737304572967846, 'reg_lambda': 0.056726119834518085}. Best is trial 18 with value: 754.1815354796204.\n",
                        "[I 2025-10-12 18:34:55,269] Trial 21 finished with value: 75.43372765980796 and parameters: {'num_leaves': 21, 'learning_rate': 0.002016780656459759, 'min_child_samples': 40, 'feature_fraction': 0.6921394372239705, 'bagging_fraction': 0.7616287146723624, 'reg_alpha': 2.0087849217026252, 'reg_lambda': 1.0472252713984216}. Best is trial 18 with value: 754.1815354796204.\n",
                        "[I 2025-10-12 18:36:02,098] Trial 22 finished with value: 29.804736423181907 and parameters: {'num_leaves': 50, 'learning_rate': 0.0018090727802071397, 'min_child_samples': 37, 'feature_fraction': 0.7043569879835553, 'bagging_fraction': 0.7591225605902079, 'reg_alpha': 3.7646741441242098, 'reg_lambda': 0.161029506362114}. Best is trial 18 with value: 754.1815354796204.\n",
                        "[I 2025-10-12 18:37:11,411] Trial 23 finished with value: 268.6404519459623 and parameters: {'num_leaves': 22, 'learning_rate': 0.0028375669982877816, 'min_child_samples': 42, 'feature_fraction': 0.6960979248926873, 'bagging_fraction': 0.8096824108200341, 'reg_alpha': 2.4174960709848534, 'reg_lambda': 0.6699484818612973}. Best is trial 18 with value: 754.1815354796204.\n",
                        "[I 2025-10-12 18:37:14,683] Trial 24 finished with value: 11.673545341093803 and parameters: {'num_leaves': 14, 'learning_rate': 0.0028758734509032545, 'min_child_samples': 55, 'feature_fraction': 0.639365039091573, 'bagging_fraction': 0.8139223467118676, 'reg_alpha': 5.224919847582858, 'reg_lambda': 0.5530273310217216}. Best is trial 18 with value: 754.1815354796204.\n",
                        "[I 2025-10-12 18:37:31,872] Trial 25 finished with value: 13.895453047360919 and parameters: {'num_leaves': 22, 'learning_rate': 0.005798275187093714, 'min_child_samples': 44, 'feature_fraction': 0.7787094917665793, 'bagging_fraction': 0.8829271951121511, 'reg_alpha': 1.4920768700784381, 'reg_lambda': 0.20808677794152408}. Best is trial 18 with value: 754.1815354796204.\n",
                        "[I 2025-10-12 18:38:07,708] Trial 26 finished with value: 14.06018677137562 and parameters: {'num_leaves': 26, 'learning_rate': 0.0014848724441852146, 'min_child_samples': 33, 'feature_fraction': 0.7235310865779224, 'bagging_fraction': 0.7442578096512015, 'reg_alpha': 0.3021872695223843, 'reg_lambda': 0.06586780407539505}. Best is trial 18 with value: 754.1815354796204.\n",
                        "[I 2025-10-12 18:38:13,170] Trial 27 finished with value: 7.268022680556391 and parameters: {'num_leaves': 13, 'learning_rate': 0.0028750429225520013, 'min_child_samples': 29, 'feature_fraction': 0.7600829030863261, 'bagging_fraction': 0.7946403627279892, 'reg_alpha': 2.782798249640322, 'reg_lambda': 0.021693900847788213}. Best is trial 18 with value: 754.1815354796204.\n",
                        "[I 2025-10-12 18:38:27,690] Trial 28 finished with value: 1.2096503557657117 and parameters: {'num_leaves': 18, 'learning_rate': 0.0010122248760022837, 'min_child_samples': 38, 'feature_fraction': 0.8133815360280365, 'bagging_fraction': 0.8747142124301829, 'reg_alpha': 0.05949621106544959, 'reg_lambda': 2.3681748163432412}. Best is trial 18 with value: 754.1815354796204.\n",
                        "[I 2025-10-12 18:38:39,550] Trial 29 finished with value: 4.317314739092151 and parameters: {'num_leaves': 26, 'learning_rate': 0.011326595551655766, 'min_child_samples': 45, 'feature_fraction': 0.602108175580583, 'bagging_fraction': 0.6493683700479091, 'reg_alpha': 1.044802534517798, 'reg_lambda': 0.025317797586890078}. Best is trial 18 with value: 754.1815354796204.\n",
                        "[I 2025-10-12 18:39:09,759] Trial 30 finished with value: 9.068199272816642 and parameters: {'num_leaves': 35, 'learning_rate': 0.0028485739945021964, 'min_child_samples': 54, 'feature_fraction': 0.7193158254277656, 'bagging_fraction': 0.8254812419198323, 'reg_alpha': 0.23766785114992123, 'reg_lambda': 0.011641609056119193}. Best is trial 18 with value: 754.1815354796204.\n",
                        "[I 2025-10-12 18:41:09,539] Trial 31 finished with value: 135.76746792046424 and parameters: {'num_leaves': 23, 'learning_rate': 0.001651884001328337, 'min_child_samples': 41, 'feature_fraction': 0.6902905249051571, 'bagging_fraction': 0.7410089139532894, 'reg_alpha': 1.8603708842500675, 'reg_lambda': 0.7654834545454158}. Best is trial 18 with value: 754.1815354796204.\n",
                        "[I 2025-10-12 18:41:31,275] Trial 32 finished with value: 9.930504196868124 and parameters: {'num_leaves': 31, 'learning_rate': 0.001538980570866032, 'min_child_samples': 42, 'feature_fraction': 0.6859654717269714, 'bagging_fraction': 0.6905972120322004, 'reg_alpha': 4.224109391881601, 'reg_lambda': 0.7717303991943707}. Best is trial 18 with value: 754.1815354796204.\n"
                    ]
                }
            ],
            "source": [
                "RUN_HPO = True # 设为 True 以运行优化，False 则跳过\n",
                "HPO_TRIALS = hpo_config.get('n_trials', 50)\n",
                "\n",
                "if RUN_HPO and config:\n",
                "    hpo_tickers = hpo_config.get('tickers_for_hpo', [])\n",
                "    \n",
                "    if not hpo_tickers:\n",
                "        print(\"INFO: No tickers specified for HPO in config file. Skipping HPO.\")\n",
                "    else:\n",
                "        print(f\"--- Starting HPO for tickers: {hpo_tickers} ---\\n\")\n",
                "        model_type_for_hpo = 'lgbm'\n",
                "        best_params_all = []\n",
                "        \n",
                "        for ticker in hpo_tickers:\n",
                "            stock_info = next((s for s in stocks_to_process if s['ticker'] == ticker), None)\n",
                "            if not stock_info:\n",
                "                print(f\"WARNNING: Config for HPO ticker {ticker} not found in 'stocks_to_process'. Skipping.\")\n",
                "                continue\n",
                "            \n",
                "            keyword = stock_info.get('keyword', ticker)\n",
                "\n",
                "            data_path = get_processed_data_path(stock_info, config)\n",
                "            if not data_path.exists():\n",
                "                print(f\"ERROR: Processed data for HPO on {keyword} not found at {data_path}. Please run Stage 1 first. Skipping.\")\n",
                "                continue\n",
                "            \n",
                "            try:\n",
                "                df_loaded = pd.read_pickle(data_path)\n",
                "                print(f\"INFO: Loaded data for HPO on {keyword}. Shape: {df_loaded.shape}\")\n",
                "            except Exception as e:\n",
                "                print(f\"ERROR: Failed to load data for HPO on {keyword}: {e}. Skipping.\")\n",
                "                continue\n",
                "\n",
                "            # 构建 HPO 所需的完整配置\n",
                "            hpo_run_config = {\n",
                "                'global_settings': global_settings,\n",
                "                'strategy_config': strategy_config,\n",
                "                'default_model_params': default_model_params,\n",
                "                'stocks_to_process': [stock_info],\n",
                "                'hpo_config': hpo_config\n",
                "            }\n",
                "            \n",
                "            best_params = run_hpo_for_ticker(\n",
                "                df=df_loaded,\n",
                "                ticker=ticker,\n",
                "                config=hpo_run_config,\n",
                "                model_type=model_type_for_hpo,\n",
                "                n_trials=HPO_TRIALS\n",
                "            )\n",
                "            if best_params: best_params_all.append(best_params)\n",
                "        \n",
                "        if best_params_all:\n",
                "            final_hpo_params = pd.DataFrame(best_params_all).mean().to_dict()\n",
                "            for int_param in ['num_leaves', 'min_child_samples']:\n",
                "                if int_param in final_hpo_params: final_hpo_params[int_param] = int(round(final_hpo_params[int_param]))\n",
                "            \n",
                "            config['default_model_params']['lgbm_params'].update(final_hpo_params)\n",
                "            default_model_params['lgbm_params'] = config['default_model_params']['lgbm_params']\n",
                "            \n",
                "            print(\"SUCCESS: HPO finished. The following parameters will be used for subsequent LGBM training:\")\n",
                "            print(yaml.dump(default_model_params['lgbm_params']))\n",
                "\n",
                "else:\n",
                "    print(\"INFO: Skipping HPO. Models will be trained with parameters from the YAML file.\")"
            ]
        },
        {
            "cell_type": "markdown",
            "metadata": {},
            "source": [
                "### 2.2 模型训练"
            ]
        },
        {
            "cell_type": "code",
            "execution_count": null,
            "metadata": {},
            "outputs": [],
            "source": [
                "FORCE_RETRAIN = True\n",
                "all_ic_history = []\n",
                "\n",
                "print(\"--- Starting Stage 2: Model Training ---\\\\n\")\n",
                "if config and stocks_to_process:\n",
                "    models_to_train = global_settings.get('models_to_train', ['lgbm', 'lstm'])\n",
                "    \n",
                "    stock_iterator = tqdm(stocks_to_process, desc=\"Processing Stocks\")\n",
                "\n",
                "    for stock_info in stock_iterator:\n",
                "        ticker = stock_info.get('ticker')\n",
                "        keyword = stock_info.get('keyword', ticker)\n",
                "        \n",
                "        # 动态更新进度条的描述\n",
                "        stock_iterator.set_description(f\"Processing {keyword}\")\n",
                "\n",
                "        if not ticker: continue\n",
                "        \n",
                "        # 1. 从磁盘查找并加载本股票的数据\n",
                "        data_path = get_processed_data_path(stock_info, config)\n",
                "        if not data_path.exists():\n",
                "            print(f\"\\\\nERROR: Processed data for {keyword} not found at {data_path}. Please run Stage 1 first. Skipping.\")\n",
                "            continue\n",
                "        \n",
                "        try:\n",
                "            df_loaded = pd.read_pickle(data_path)\n",
                "        except Exception as e:\n",
                "            print(f\"\\\\nERROR: Failed to load data for {keyword}: {e}. Skipping.\")\n",
                "            continue\n",
                "        \n",
                "        # 2. 为每个模型类型进行训练\n",
                "        for model_type in models_to_train:\n",
                "            # 构建传递给训练函数的配置字典\n",
                "            run_config = {\n",
                "                'global_settings': global_settings,\n",
                "                'strategy_config': strategy_config,\n",
                "                'default_model_params': default_model_params,\n",
                "                'stocks_to_process': [stock_info]\n",
                "            }\n",
                "\n",
                "            ic_history = run_training_for_ticker(\n",
                "                df=df_loaded,\n",
                "                ticker=ticker,\n",
                "                model_type=model_type,\n",
                "                config=run_config, \n",
                "                force_retrain=FORCE_RETRAIN,\n",
                "                keyword=keyword\n",
                "            )\n",
                "            \n",
                "            if ic_history is not None and not ic_history.empty:\n",
                "                all_ic_history.append(ic_history)\n",
                "else:\n",
                "    print(\"ERROR: Config is empty or 'stocks_to_process' list is missing/empty. Cannot start training.\")"
            ]
        },
        {
            "cell_type": "markdown",
            "metadata": {},
            "source": [
                "### 2.3 结果聚合、评估与可视化"
            ]
        },
        {
            "cell_type": "code",
            "execution_count": null,
            "metadata": {},
            "outputs": [],
            "source": [
                "print(\"\\n--- Stage 2 Finished: Aggregating and Visualizing Results ---\")\n",
                "if all_ic_history:\n",
                "    full_ic_df = pd.concat(all_ic_history)\n",
                "    full_ic_df['ticker_name'] = full_ic_df['ticker'].map({s['ticker']: s.get('keyword', s['ticker']) for s in stocks_to_process})\n",
                "    \n",
                "    # 聚合评估结果\n",
                "    evaluation_summary = full_ic_df.groupby(['ticker_name', 'model_type'])['rank_ic'].agg(['mean', 'std']).reset_index()\n",
                "    evaluation_summary['icir'] = evaluation_summary['mean'] / evaluation_summary['std']\n",
                "    \n",
                "    # --- 1. 打印和显示评估表格 ---\n",
                "    print(\"\\n--- Model Performance Evaluation Summary ---\")\n",
                "    display(evaluation_summary.style.format({\n",
                "        'mean': '{:.4f}', 'std': '{:.4f}', 'icir': '{:.4f}'\n",
                "    }).background_gradient(cmap='viridis', subset=['icir']))\n",
                "\n",
                "    # --- 2. 绘制 ICIR 对比图 ---\n",
                "    plt.figure(figsize=(12, 6))\n",
                "    sns.barplot(data=evaluation_summary, x='ticker_name', y='icir', hue='model_type')\n",
                "    plt.title('模型信息比率 (ICIR) 对比', fontsize=16)\n",
                "    plt.xlabel('股票', fontsize=12)\n",
                "    plt.ylabel('ICIR (信息比率)', fontsize=12)\n",
                "    plt.axhline(0, color='grey', linestyle='--')\n",
                "    plt.axhline(0.5, color='red', linestyle='--', label='ICIR=0.5 (良好)')\n",
                "    plt.xticks(rotation=45)\n",
                "    plt.legend()\n",
                "    plt.tight_layout()\n",
                "    plt.show()\n",
                "\n",
                "    # --- 3. 绘制累积 IC 曲线图 ---\n",
                "    plot_df = full_ic_df.copy()\n",
                "    plot_df['date'] = pd.to_datetime(plot_df['date'])\n",
                "    plot_df.sort_values('date', inplace=True)\n",
                "    plot_df['cumulative_ic'] = plot_df.groupby(['ticker_name', 'model_type'])['rank_ic'].cumsum()\n",
                "    \n",
                "    plt.figure(figsize=(14, 8))\n",
                "    sns.lineplot(data=plot_df, x='date', y='cumulative_ic', hue='ticker_name', style='model_type', marker='o', markersize=4, linestyle='--')\n",
                "    plt.title('模型累积 Rank IC 曲线', fontsize=16)\n",
                "    plt.xlabel('日期', fontsize=12)\n",
                "    plt.ylabel('累积 Rank IC', fontsize=12)\n",
                "    plt.legend(title='股票/模型')\n",
                "    plt.tight_layout()\n",
                "    plt.show()\n",
                "\n",
                "else:\n",
                "    print(\"\\nWARNNING: No IC history was generated during training. Skipping aggregation and evaluation.\")"
            ]
        }
    ],
    "metadata": {
        "kernelspec": {
            "display_name": "Python 3",
            "language": "python",
            "name": "python3"
        },
        "language_info": {
            "codemirror_mode": {
                "name": "ipython",
                "version": 3
            }
        }
    },
    "nbformat": 4,
    "nbformat_minor": 4
}
