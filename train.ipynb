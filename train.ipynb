{
    "cells": [
        {
            "cell_type": "markdown",
            "metadata": {},
            "source": [
                "# 股票预测模型工作流\n",
                "\n",
                "---\n",
                "### 工作流说明\n",
                "1.  **阶段零 (Setup)**: 导入库、加载配置。\n",
                "2.  **阶段一 (Data Pipeline)**: 独立运行。负责处理并保存数据，生成 L2 特征数据缓存。\n",
                "3.  **阶段二 (Model Pipeline)**: 独立运行。包含三个子步骤：\n",
                "    - **2.1 HPO**: 自动调参。\n",
                "    - **2.2 (预处理)**: 智能地加载或生成 L3 预处理数据缓存\n",
                "    - **2.3 (模型训练)**: 使用 L3 缓存进行高效的模型训练。\n",
                "    - **2.4 (评估)**: 对训练结果进行聚合与可视化。"
            ]
        },
        {
            "cell_type": "markdown",
            "metadata": {},
            "source": [
                "## 0. 通用设置与导入"
            ]
        },
        {
            "cell_type": "code",
            "execution_count": null,
            "metadata": {},
            "outputs": [],
            "source": [
                "import sys\n",
                "from pathlib import Path\n",
                "import matplotlib.pyplot as plt\n",
                "import seaborn as sns\n",
                "\n",
                "# 设置 Matplotlib 样式 (可以在 main_train 外部设置)\n",
                "plt.style.use('seaborn-v0_8-whitegrid')\n",
                "plt.rcParams['font.sans-serif'] = ['SimHei']\n",
                "plt.rcParams['axes.unicode_minus'] = False\n",
                "\n",
                "# --- 动态导入 main_train ---\n",
                "project_root = str(Path().resolve())\n",
                "if project_root not in sys.path:\n",
                "    sys.path.append(project_root)\n",
                "\n",
                "# 从我们统一的核心引擎中导入所有需要的函数和模块\n",
                "from main_train import (\n",
                "    run_load_config_and_modules,\n",
                "    run_all_data_pipeline,\n",
                "    run_preprocess_l3_cache,\n",
                "    run_hpo_train,\n",
                "    run_all_models_train,\n",
                "    run_performance_evaluation,\n",
                "    run_results_visualization\n",
                ")\n",
                "\n",
                "# --- 加载全局配置和模块 ---\n",
                "# 在 Notebook 的生命周期中，我们只加载一次\n",
                "config, modules = run_load_config_and_modules()\n",
                "\n",
                "if not (config and modules):\n",
                "    raise RuntimeError(\"环境初始化失败，请检查配置文件路径和模块导入。\")"
            ]
        },
        {
            "cell_type": "markdown",
            "metadata": {},
            "source": [
                "# **阶段一：数据准备与特征工程**"
            ]
        },
        {
            "cell_type": "code",
            "execution_count": null,
            "metadata": {},
            "outputs": [
                {
                    "name": "stdout",
                    "output_type": "stream",
                    "text": [
                        "  - INFO: 已将 sh.600019 (sh.600019) 的数据缓存至 data\\data_cache\\raw_ohlcv\\raw_sh_600019_2010-10-27_2025-09-30.pkl\n",
                        "  - 正在从 Baostock 下载 sh.600023 (sh.600023) 的日线行情...\n",
                        "  - INFO: 已将 sh.600023 (sh.600023) 的数据缓存至 data\\data_cache\\raw_ohlcv\\raw_sh_600023_2010-10-27_2025-09-30.pkl\n",
                        "  - 正在从 Baostock 下载 sh.600025 (sh.600025) 的日线行情...\n",
                        "  - INFO: 已将 sh.600025 (sh.600025) 的数据缓存至 data\\data_cache\\raw_ohlcv\\raw_sh_600025_2010-10-27_2025-09-30.pkl\n",
                        "  - 正在从 Baostock 下载 sh.600026 (sh.600026) 的日线行情...\n",
                        "  - INFO: 已将 sh.600026 (sh.600026) 的数据缓存至 data\\data_cache\\raw_ohlcv\\raw_sh_600026_2010-10-27_2025-09-30.pkl\n",
                        "  - 正在从 Baostock 下载 sh.600027 (sh.600027) 的日线行情...\n",
                        "  - INFO: 已将 sh.600027 (sh.600027) 的数据缓存至 data\\data_cache\\raw_ohlcv\\raw_sh_600027_2010-10-27_2025-09-30.pkl\n",
                        "  - 正在从 Baostock 下载 sh.600028 (sh.600028) 的日线行情...\n",
                        "  - INFO: 已将 sh.600028 (sh.600028) 的数据缓存至 data\\data_cache\\raw_ohlcv\\raw_sh_600028_2010-10-27_2025-09-30.pkl\n",
                        "  - 正在从 Baostock 下载 sh.600029 (sh.600029) 的日线行情...\n",
                        "  - INFO: 已将 sh.600029 (sh.600029) 的数据缓存至 data\\data_cache\\raw_ohlcv\\raw_sh_600029_2010-10-27_2025-09-30.pkl\n",
                        "  - 正在从 Baostock 下载 sh.600030 (sh.600030) 的日线行情...\n",
                        "  - INFO: 已将 sh.600030 (sh.600030) 的数据缓存至 data\\data_cache\\raw_ohlcv\\raw_sh_600030_2010-10-27_2025-09-30.pkl\n",
                        "  - 正在从 Baostock 下载 sh.600031 (sh.600031) 的日线行情...\n",
                        "  - INFO: 已将 sh.600031 (sh.600031) 的数据缓存至 data\\data_cache\\raw_ohlcv\\raw_sh_600031_2010-10-27_2025-09-30.pkl\n",
                        "  - 正在从 Baostock 下载 sh.600036 (sh.600036) 的日线行情...\n",
                        "  - INFO: 已将 sh.600036 (sh.600036) 的数据缓存至 data\\data_cache\\raw_ohlcv\\raw_sh_600036_2010-10-27_2025-09-30.pkl\n",
                        "  - 正在从 Baostock 下载 sh.600039 (sh.600039) 的日线行情...\n",
                        "  - INFO: 已将 sh.600039 (sh.600039) 的数据缓存至 data\\data_cache\\raw_ohlcv\\raw_sh_600039_2010-10-27_2025-09-30.pkl\n",
                        "  - 正在从 Baostock 下载 sh.600048 (sh.600048) 的日线行情...\n",
                        "  - INFO: 已将 sh.600048 (sh.600048) 的数据缓存至 data\\data_cache\\raw_ohlcv\\raw_sh_600048_2010-10-27_2025-09-30.pkl\n",
                        "  - 正在从 Baostock 下载 sh.600050 (sh.600050) 的日线行情...\n",
                        "  - INFO: 已将 sh.600050 (sh.600050) 的数据缓存至 data\\data_cache\\raw_ohlcv\\raw_sh_600050_2010-10-27_2025-09-30.pkl\n",
                        "  - 正在从 Baostock 下载 sh.600061 (sh.600061) 的日线行情...\n",
                        "  - INFO: 已将 sh.600061 (sh.600061) 的数据缓存至 data\\data_cache\\raw_ohlcv\\raw_sh_600061_2010-10-27_2025-09-30.pkl\n",
                        "  - 正在从 Baostock 下载 sh.600066 (sh.600066) 的日线行情...\n",
                        "  - INFO: 已将 sh.600066 (sh.600066) 的数据缓存至 data\\data_cache\\raw_ohlcv\\raw_sh_600066_2010-10-27_2025-09-30.pkl\n",
                        "  - 正在从 Baostock 下载 sh.600085 (sh.600085) 的日线行情...\n",
                        "  - INFO: 已将 sh.600085 (sh.600085) 的数据缓存至 data\\data_cache\\raw_ohlcv\\raw_sh_600085_2010-10-27_2025-09-30.pkl\n",
                        "  - 正在从 Baostock 下载 sh.600089 (sh.600089) 的日线行情...\n",
                        "  - INFO: 已将 sh.600089 (sh.600089) 的数据缓存至 data\\data_cache\\raw_ohlcv\\raw_sh_600089_2010-10-27_2025-09-30.pkl\n",
                        "  - 正在从 Baostock 下载 sh.600104 (sh.600104) 的日线行情...\n",
                        "  - INFO: 已将 sh.600104 (sh.600104) 的数据缓存至 data\\data_cache\\raw_ohlcv\\raw_sh_600104_2010-10-27_2025-09-30.pkl\n",
                        "  - 正在从 Baostock 下载 sh.600111 (sh.600111) 的日线行情...\n",
                        "  - INFO: 已将 sh.600111 (sh.600111) 的数据缓存至 data\\data_cache\\raw_ohlcv\\raw_sh_600111_2010-10-27_2025-09-30.pkl\n",
                        "  - 正在从 Baostock 下载 sh.600115 (sh.600115) 的日线行情...\n",
                        "  - INFO: 已将 sh.600115 (sh.600115) 的数据缓存至 data\\data_cache\\raw_ohlcv\\raw_sh_600115_2010-10-27_2025-09-30.pkl\n",
                        "  - 正在从 Baostock 下载 sh.600150 (sh.600150) 的日线行情...\n",
                        "  - INFO: 已将 sh.600150 (sh.600150) 的数据缓存至 data\\data_cache\\raw_ohlcv\\raw_sh_600150_2010-10-27_2025-09-30.pkl\n",
                        "  - 正在从 Baostock 下载 sh.600160 (sh.600160) 的日线行情...\n",
                        "  - INFO: 已将 sh.600160 (sh.600160) 的数据缓存至 data\\data_cache\\raw_ohlcv\\raw_sh_600160_2010-10-27_2025-09-30.pkl\n",
                        "  - 正在从 Baostock 下载 sh.600161 (sh.600161) 的日线行情...\n",
                        "  - INFO: 已将 sh.600161 (sh.600161) 的数据缓存至 data\\data_cache\\raw_ohlcv\\raw_sh_600161_2010-10-27_2025-09-30.pkl\n",
                        "  - 正在从 Baostock 下载 sh.600176 (sh.600176) 的日线行情...\n"
                    ]
                }
            ],
            "source": [
                "USE_LATEST_DATE = True\n",
                "if config and modules:\n",
                "    print(f\"--- INFO: 日期模式 -> {'使用最新日期' if USE_LATEST_DATE else '使用配置文件中的固定日期'} ---\")\n",
                "    \n",
                "    # 将开关状态传递给核心引擎函数\n",
                "    run_all_data_pipeline(config, modules, use_today_as_end_date=USE_LATEST_DATE)"
            ]
        },
        {
            "cell_type": "markdown",
            "metadata": {},
            "source": [
                "# **阶段二：模型训练与评估**"
            ]
        },
        {
            "cell_type": "markdown",
            "metadata": {},
            "source": [
                "### 2.1 数据预加载与全局预处理 (L3 缓存)"
            ]
        },
        {
            "cell_type": "code",
            "execution_count": null,
            "metadata": {},
            "outputs": [],
            "source": [
                "if config and modules:\n",
                "    # 调用核心引擎中的预处理函数\n",
                "    # force_reprocess=True/False 可以方便地控制是否重建缓存\n",
                "    global_data_cache = run_preprocess_l3_cache(config, modules, force_reprocess=False)"
            ]
        },
        {
            "cell_type": "markdown",
            "metadata": {},
            "source": [
                "### 2.2 超参数优化"
            ]
        },
        {
            "cell_type": "code",
            "execution_count": null,
            "metadata": {},
            "outputs": [],
            "source": [
                "# 同样，可以通过一个简单的开关来控制是否运行\n",
                "RUN_HPO = False\n",
                "\n",
                "if RUN_HPO and config and modules and 'global_data_cache' in locals():\n",
                "    # 调用核心引擎中的 HPO 函数\n",
                "    # HPO 的结果会自动更新到内存中的 config 字典里\n",
                "    run_hpo_train(config, modules, global_data_cache)"
            ]
        },
        {
            "cell_type": "markdown",
            "metadata": {},
            "source": [
                "### 2.3 模型训练"
            ]
        },
        {
            "cell_type": "code",
            "execution_count": null,
            "metadata": {},
            "outputs": [],
            "source": [
                "if config and modules and 'global_data_cache' in locals():\n",
                "    # 调用核心引擎中的模型训练函数\n",
                "    # 同样可以通过开关控制是否强制重训\n",
                "    all_ic_history = run_all_models_train(\n",
                "        config, \n",
                "        modules,  \n",
                "        force_retrain_base=False, \n",
                "        force_retrain_fuser=True\n",
                "    )"
            ]
        },
        {
            "cell_type": "markdown",
            "metadata": {},
            "source": [
                "### 2.4 结果聚合、评估与可视化"
            ]
        },
        {
            "cell_type": "code",
            "execution_count": null,
            "metadata": {},
            "outputs": [],
            "source": [
                "if config and modules and 'all_ic_history' in locals() and all_ic_history:\n",
                "    # 调用核心引擎中的评估和可视化函数\n",
                "    evaluation_summary, backtest_summary, final_eval_df = run_performance_evaluation(config, modules, all_ic_history)\n",
                "    \n",
                "    # 只有在有结果时才进行可视化\n",
                "    if evaluation_summary is not None or backtest_summary is not None:\n",
                "        run_results_visualization(config, modules, evaluation_summary, backtest_summary, final_eval_df)\n",
                "    else: print('无可视化结果')"
            ]
        }
    ],
    "metadata": {
        "...": "...",
        "kernelspec": {
            "display_name": ".venv",
            "language": "python",
            "name": "python3"
        },
        "language_info": {
            "codemirror_mode": {
                "name": "ipython",
                "version": 3
            },
            "file_extension": ".py",
            "mimetype": "text/x-python",
            "name": "python",
            "nbconvert_exporter": "python",
            "pygments_lexer": "ipython3",
            "version": "3.13.0"
        }
    },
    "nbformat": 4,
    "nbformat_minor": 4
}
