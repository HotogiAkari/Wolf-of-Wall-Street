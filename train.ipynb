{
    "cells": [
        {
            "cell_type": "markdown",
            "metadata": {},
            "source": [
                "# 股票预测模型工作流\n",
                "\n",
                "---\n",
                "### 工作流说明\n",
                "1.  **阶段零 (Setup)**: 导入库、加载配置。\n",
                "2.  **阶段一 (Data Pipeline)**: 独立运行。负责处理并保存数据，生成 L2 特征数据缓存。\n",
                "3.  **阶段二 (Model Pipeline)**: 独立运行。包含三个子步骤：\n",
                "    - **2.1 HPO**: 自动调参。\n",
                "    - **2.2 (预处理)**: 智能地加载或生成 L3 预处理数据缓存\n",
                "    - **2.3 (模型训练)**: 使用 L3 缓存进行高效的模型训练。\n",
                "    - **2.4 (评估)**: 对训练结果进行聚合与可视化。"
            ]
        },
        {
            "cell_type": "markdown",
            "metadata": {},
            "source": [
                "## 0. 通用设置与导入"
            ]
        },
        {
            "cell_type": "code",
            "execution_count": 1,
            "metadata": {},
            "outputs": [
                {
                    "name": "stderr",
                    "output_type": "stream",
                    "text": [
                        "C:\\Users\\Akari\\AppData\\Local\\Temp\\ipykernel_30412\\2077795851.py:9: TqdmExperimentalWarning: Using `tqdm.autonotebook.tqdm` in notebook mode. Use `tqdm.tqdm` instead to force console mode (e.g. in jupyter console)\n",
                        "  from tqdm.autonotebook import tqdm\n"
                    ]
                },
                {
                    "name": "stdout",
                    "output_type": "stream",
                    "text": [
                        "将项目根目录添加到 sys.path: D:\\Project\\Command\\Python\\Neural\\Wolf_of_Wall_Street\n",
                        "--- 开始为 Notebook 加载和合并所有配置文件 ---\n",
                        "  - [DEBUG] 主配置 'config.yaml' 已加载。\n",
                        "\n",
                        "  - [DEBUG] 正在合并 'data/default'...\n",
                        "\n",
                        "  - [DEBUG] 正在合并 'features/default'...\n",
                        "\n",
                        "  - [DEBUG] 正在合并 'labeling/raw_return'...\n",
                        "  - [WARN_DEBUG] 找不到子配置文件: configs\\override \\model\\['lgbm', 'lstm', 'tabtransformer', 'fuser'].yaml\n",
                        "\n",
                        "  - [DEBUG] 正在合并 'hpo/default'...\n",
                        "\n",
                        "  - [DEBUG] 正在合并 'backtest/default'...\n",
                        "\n",
                        "  - [DEBUG] 正在合并 'application/default'...\n",
                        "\n",
                        "  - [DEBUG] 正在合并 '_self_'...\n",
                        "\n",
                        "--- 所有配置文件合并完成 ---\n",
                        "--- 正在加载所有项目模块... ---\n",
                        "INFO: 项目模块导入成功。\n"
                    ]
                }
            ],
            "source": [
                "import sys\n",
                "import json\n",
                "import yaml\n",
                "from pathlib import Path\n",
                "import matplotlib.pyplot as plt\n",
                "import pandas as pd\n",
                "import torch\n",
                "import joblib\n",
                "from tqdm.autonotebook import tqdm\n",
                "from sklearn.preprocessing import StandardScaler\n",
                "from utils.config_utils import load_and_merge_configs_for_notebook\n",
                "\n",
                "# --- 1. 环境与路径设置 ---\n",
                "project_root = str(Path().resolve())\n",
                "if project_root not in sys.path:\n",
                "    print(f\"将项目根目录添加到 sys.path: {project_root}\")\n",
                "    sys.path.append(project_root)\n",
                "\n",
                "plt.style.use('seaborn-v0_8-whitegrid')\n",
                "plt.rcParams['font.sans-serif'] = ['SimHei']\n",
                "plt.rcParams['axes.unicode_minus'] = False\n",
                "\n",
                "# --- 2.  加载配置和所有模块 ---\n",
                "# a. 加载配置\n",
                "config = load_and_merge_configs_for_notebook()\n",
                "\n",
                "# b. 手动加载所有模块\n",
                "print(\"--- 正在加载所有项目模块... ---\")\n",
                "try:\n",
                "    from main_train import (\n",
                "        run_all_data_pipeline, run_preprocess_l3_cache, run_hpo_train,\n",
                "        run_all_models_train, run_performance_evaluation, run_results_visualization,\n",
                "    )\n",
                "    from data_process.get_data import initialize_apis, shutdown_apis, get_full_feature_df, get_latest_global_data\n",
                "    from data_process.save_data import run_data_pipeline, get_processed_data_path\n",
                "    from model.build_models import run_training_for_ticker\n",
                "    from utils.hpo_utils import run_hpo_for_ticker\n",
                "    from model.builders.model_fuser import ModelFuser\n",
                "    from model.builders.lgbm_builder import LGBMBuilder\n",
                "    from model.builders.lstm_builder import LSTMBuilder, LSTMModel\n",
                "    from model.builders.tabtransformer_builder import TabTransformerBuilder, TabTransformerModel\n",
                "    from risk_management.risk_manager import RiskManager\n",
                "    from utils.date_utils import resolve_data_pipeline_dates\n",
                "    from utils.encoding_utils import encode_categorical_features\n",
                "    from utils.file_utils import find_latest_artifact_paths\n",
                "    from utils.ml_utils import walk_forward_split\n",
                "    print(\"INFO: 项目模块导入成功。\")\n",
                "except ImportError as e:\n",
                "    raise ImportError(f\"模块导入失败，请确保 Notebook 的运行目录在项目根目录。错误: {e}\")\n",
                "\n",
                "# c. 构建 modules 字典\n",
                "modules = {\n",
                "    'initialize_apis': initialize_apis, 'shutdown_apis': shutdown_apis,\n",
                "    'get_full_feature_df': get_full_feature_df, 'get_latest_global_data': get_latest_global_data,\n",
                "    'run_data_pipeline': run_data_pipeline, 'get_processed_data_path': get_processed_data_path,\n",
                "    'run_training_for_ticker': run_training_for_ticker, 'run_hpo_for_ticker': run_hpo_for_ticker,\n",
                "    'ModelFuser': ModelFuser, 'LGBMBuilder': LGBMBuilder, 'LSTMBuilder': LSTMBuilder, 'LSTMModel': LSTMModel,\n",
                "    'TabTransformerBuilder': TabTransformerBuilder, 'TabTransformerModel': TabTransformerModel,\n",
                "    'RiskManager': RiskManager,\n",
                "    'resolve_data_pipeline_dates': resolve_data_pipeline_dates,\n",
                "    'encode_categorical_features': encode_categorical_features,\n",
                "    'find_latest_artifact_paths': find_latest_artifact_paths,\n",
                "    'walk_forward_split': walk_forward_split,\n",
                "    'pd': pd, 'torch': torch, 'joblib': joblib, 'tqdm': tqdm, 'StandardScaler': StandardScaler, 'Path': Path, 'yaml': yaml, 'json': json\n",
                "}\n"
            ]
        },
        {
            "cell_type": "markdown",
            "metadata": {},
            "source": [
                "# **阶段一：数据准备与特征工程**"
            ]
        },
        {
            "cell_type": "code",
            "execution_count": 2,
            "metadata": {},
            "outputs": [
                {
                    "name": "stdout",
                    "output_type": "stream",
                    "text": [
                        "--- INFO: 日期模式 -> 使用最新日期 ---\n",
                        "=== 阶段一：数据准备与特征工程 ===\n",
                        "INFO: 已启用动态日期模式，将使用今天的日期 '2025-11-01' 作为 end_date。\n",
                        "INFO: 日期已解析. Start Date: 2010-11-01, End Date: 2025-11-01\n",
                        "INFO: 正在尝试登录 Baostock...\n",
                        "login success!\n",
                        "INFO: Baostock API 登录成功。\n",
                        "INFO: 未在配置中提供有效的 Tushare Token，将跳过 Tushare 相关数据。\n",
                        "开始执行数据管道协调任务...\n",
                        "\n",
                        "需要为以下 7 只股票生成新数据: ['TCL科技 (000100.SZ)', '兴业矿业 (000426.SZ)', '孚日股份 (002083.SZ)', '宜华健康 (000150.SZ)', '新宁物流 (300013.SZ)', '佳云科技 (300242.SZ)', '精功科技 (002006.SZ)']\n",
                        "\n",
                        "--- 正在准备所有全局市场数据 (此过程只运行一次) ---\n",
                        "--- 开始生成市场广度数据 ---\n",
                        "  - 正在从缓存加载市场广度数据: data\\data_cache\\market_breadth_2010-11-01_2025-09-30.pkl\n",
                        "INFO: 正在下载 4 个外部市场的数据: ['SPY', 'QQQ', 'GLD', 'TLT']\n",
                        "  - 正在为 SPY 获取美股数据...\n",
                        "  - 正在从 Yahoo Finance 下载 SPY 的数据...\n"
                    ]
                },
                {
                    "name": "stderr",
                    "output_type": "stream",
                    "text": [
                        "d:\\Project\\Command\\Python\\Neural\\Wolf_of_Wall_Street\\data_process\\get_data.py:308: FutureWarning: YF.download() has changed argument auto_adjust default to True\n",
                        "  df = yf.download(ticker, start=start_date, end=end_date_inclusive, progress=False)\n",
                        "\n",
                        "1 Failed download:\n",
                        "['SPY']: YFRateLimitError('Too Many Requests. Rate limited. Try after a while.')\n"
                    ]
                },
                {
                    "name": "stdout",
                    "output_type": "stream",
                    "text": [
                        "  - 警告 [YF]: 下载 SPY 数据失败 (尝试 1/3). 将在 0.50 秒后重试. 错误: yfinance returned an empty DataFrame for SPY.\n"
                    ]
                },
                {
                    "name": "stderr",
                    "output_type": "stream",
                    "text": [
                        "d:\\Project\\Command\\Python\\Neural\\Wolf_of_Wall_Street\\data_process\\get_data.py:308: FutureWarning: YF.download() has changed argument auto_adjust default to True\n",
                        "  df = yf.download(ticker, start=start_date, end=end_date_inclusive, progress=False)\n",
                        "\n",
                        "1 Failed download:\n",
                        "['SPY']: YFRateLimitError('Too Many Requests. Rate limited. Try after a while.')\n"
                    ]
                },
                {
                    "name": "stdout",
                    "output_type": "stream",
                    "text": [
                        "  - 警告 [YF]: 下载 SPY 数据失败 (尝试 2/3). 将在 1.00 秒后重试. 错误: yfinance returned an empty DataFrame for SPY.\n"
                    ]
                },
                {
                    "name": "stderr",
                    "output_type": "stream",
                    "text": [
                        "d:\\Project\\Command\\Python\\Neural\\Wolf_of_Wall_Street\\data_process\\get_data.py:308: FutureWarning: YF.download() has changed argument auto_adjust default to True\n",
                        "  df = yf.download(ticker, start=start_date, end=end_date_inclusive, progress=False)\n",
                        "\n",
                        "1 Failed download:\n",
                        "['SPY']: YFRateLimitError('Too Many Requests. Rate limited. Try after a while.')\n"
                    ]
                },
                {
                    "name": "stdout",
                    "output_type": "stream",
                    "text": [
                        "  - 警告 [YF]: 下载 SPY 数据失败 (尝试 3/3). 将在 2.00 秒后重试. 错误: yfinance returned an empty DataFrame for SPY.\n",
                        "  - 错误 [YF]: 下载 SPY 数据在 3 次尝试后仍失败。\n",
                        "  - 正在为 QQQ 获取美股数据...\n",
                        "  - 正在从 Yahoo Finance 下载 QQQ 的数据...\n"
                    ]
                },
                {
                    "name": "stderr",
                    "output_type": "stream",
                    "text": [
                        "d:\\Project\\Command\\Python\\Neural\\Wolf_of_Wall_Street\\data_process\\get_data.py:308: FutureWarning: YF.download() has changed argument auto_adjust default to True\n",
                        "  df = yf.download(ticker, start=start_date, end=end_date_inclusive, progress=False)\n",
                        "\n",
                        "1 Failed download:\n",
                        "['QQQ']: YFRateLimitError('Too Many Requests. Rate limited. Try after a while.')\n"
                    ]
                },
                {
                    "name": "stdout",
                    "output_type": "stream",
                    "text": [
                        "  - 警告 [YF]: 下载 QQQ 数据失败 (尝试 1/3). 将在 0.50 秒后重试. 错误: yfinance returned an empty DataFrame for QQQ.\n"
                    ]
                },
                {
                    "name": "stderr",
                    "output_type": "stream",
                    "text": [
                        "d:\\Project\\Command\\Python\\Neural\\Wolf_of_Wall_Street\\data_process\\get_data.py:308: FutureWarning: YF.download() has changed argument auto_adjust default to True\n",
                        "  df = yf.download(ticker, start=start_date, end=end_date_inclusive, progress=False)\n",
                        "\n",
                        "1 Failed download:\n",
                        "['QQQ']: YFRateLimitError('Too Many Requests. Rate limited. Try after a while.')\n"
                    ]
                },
                {
                    "name": "stdout",
                    "output_type": "stream",
                    "text": [
                        "  - 警告 [YF]: 下载 QQQ 数据失败 (尝试 2/3). 将在 1.00 秒后重试. 错误: yfinance returned an empty DataFrame for QQQ.\n"
                    ]
                },
                {
                    "name": "stderr",
                    "output_type": "stream",
                    "text": [
                        "d:\\Project\\Command\\Python\\Neural\\Wolf_of_Wall_Street\\data_process\\get_data.py:308: FutureWarning: YF.download() has changed argument auto_adjust default to True\n",
                        "  df = yf.download(ticker, start=start_date, end=end_date_inclusive, progress=False)\n",
                        "\n",
                        "1 Failed download:\n",
                        "['QQQ']: YFRateLimitError('Too Many Requests. Rate limited. Try after a while.')\n"
                    ]
                },
                {
                    "name": "stdout",
                    "output_type": "stream",
                    "text": [
                        "  - 警告 [YF]: 下载 QQQ 数据失败 (尝试 3/3). 将在 2.00 秒后重试. 错误: yfinance returned an empty DataFrame for QQQ.\n",
                        "  - 错误 [YF]: 下载 QQQ 数据在 3 次尝试后仍失败。\n",
                        "  - 正在为 GLD 获取美股数据...\n",
                        "  - 正在从 Yahoo Finance 下载 GLD 的数据...\n"
                    ]
                },
                {
                    "name": "stderr",
                    "output_type": "stream",
                    "text": [
                        "d:\\Project\\Command\\Python\\Neural\\Wolf_of_Wall_Street\\data_process\\get_data.py:308: FutureWarning: YF.download() has changed argument auto_adjust default to True\n",
                        "  df = yf.download(ticker, start=start_date, end=end_date_inclusive, progress=False)\n",
                        "\n",
                        "1 Failed download:\n",
                        "['GLD']: YFRateLimitError('Too Many Requests. Rate limited. Try after a while.')\n"
                    ]
                },
                {
                    "name": "stdout",
                    "output_type": "stream",
                    "text": [
                        "  - 警告 [YF]: 下载 GLD 数据失败 (尝试 1/3). 将在 0.50 秒后重试. 错误: yfinance returned an empty DataFrame for GLD.\n"
                    ]
                },
                {
                    "name": "stderr",
                    "output_type": "stream",
                    "text": [
                        "d:\\Project\\Command\\Python\\Neural\\Wolf_of_Wall_Street\\data_process\\get_data.py:308: FutureWarning: YF.download() has changed argument auto_adjust default to True\n",
                        "  df = yf.download(ticker, start=start_date, end=end_date_inclusive, progress=False)\n",
                        "\n",
                        "1 Failed download:\n",
                        "['GLD']: YFRateLimitError('Too Many Requests. Rate limited. Try after a while.')\n"
                    ]
                },
                {
                    "name": "stdout",
                    "output_type": "stream",
                    "text": [
                        "  - 警告 [YF]: 下载 GLD 数据失败 (尝试 2/3). 将在 1.00 秒后重试. 错误: yfinance returned an empty DataFrame for GLD.\n"
                    ]
                },
                {
                    "name": "stderr",
                    "output_type": "stream",
                    "text": [
                        "d:\\Project\\Command\\Python\\Neural\\Wolf_of_Wall_Street\\data_process\\get_data.py:308: FutureWarning: YF.download() has changed argument auto_adjust default to True\n",
                        "  df = yf.download(ticker, start=start_date, end=end_date_inclusive, progress=False)\n",
                        "\n",
                        "1 Failed download:\n",
                        "['GLD']: YFRateLimitError('Too Many Requests. Rate limited. Try after a while.')\n"
                    ]
                },
                {
                    "name": "stdout",
                    "output_type": "stream",
                    "text": [
                        "  - 警告 [YF]: 下载 GLD 数据失败 (尝试 3/3). 将在 2.00 秒后重试. 错误: yfinance returned an empty DataFrame for GLD.\n",
                        "  - 错误 [YF]: 下载 GLD 数据在 3 次尝试后仍失败。\n",
                        "  - 正在为 TLT 获取美股数据...\n",
                        "  - 正在从 Yahoo Finance 下载 TLT 的数据...\n"
                    ]
                },
                {
                    "name": "stderr",
                    "output_type": "stream",
                    "text": [
                        "d:\\Project\\Command\\Python\\Neural\\Wolf_of_Wall_Street\\data_process\\get_data.py:308: FutureWarning: YF.download() has changed argument auto_adjust default to True\n",
                        "  df = yf.download(ticker, start=start_date, end=end_date_inclusive, progress=False)\n",
                        "\n",
                        "1 Failed download:\n",
                        "['TLT']: YFRateLimitError('Too Many Requests. Rate limited. Try after a while.')\n"
                    ]
                },
                {
                    "name": "stdout",
                    "output_type": "stream",
                    "text": [
                        "  - 警告 [YF]: 下载 TLT 数据失败 (尝试 1/3). 将在 0.50 秒后重试. 错误: yfinance returned an empty DataFrame for TLT.\n"
                    ]
                },
                {
                    "name": "stderr",
                    "output_type": "stream",
                    "text": [
                        "d:\\Project\\Command\\Python\\Neural\\Wolf_of_Wall_Street\\data_process\\get_data.py:308: FutureWarning: YF.download() has changed argument auto_adjust default to True\n",
                        "  df = yf.download(ticker, start=start_date, end=end_date_inclusive, progress=False)\n",
                        "\n",
                        "1 Failed download:\n",
                        "['TLT']: YFRateLimitError('Too Many Requests. Rate limited. Try after a while.')\n"
                    ]
                },
                {
                    "name": "stdout",
                    "output_type": "stream",
                    "text": [
                        "  - 警告 [YF]: 下载 TLT 数据失败 (尝试 2/3). 将在 1.00 秒后重试. 错误: yfinance returned an empty DataFrame for TLT.\n"
                    ]
                },
                {
                    "name": "stderr",
                    "output_type": "stream",
                    "text": [
                        "d:\\Project\\Command\\Python\\Neural\\Wolf_of_Wall_Street\\data_process\\get_data.py:308: FutureWarning: YF.download() has changed argument auto_adjust default to True\n",
                        "  df = yf.download(ticker, start=start_date, end=end_date_inclusive, progress=False)\n",
                        "\n",
                        "1 Failed download:\n",
                        "['TLT']: YFRateLimitError('Too Many Requests. Rate limited. Try after a while.')\n"
                    ]
                },
                {
                    "name": "stdout",
                    "output_type": "stream",
                    "text": [
                        "  - 警告 [YF]: 下载 TLT 数据失败 (尝试 3/3). 将在 2.00 秒后重试. 错误: yfinance returned an empty DataFrame for TLT.\n",
                        "  - 错误 [YF]: 下载 TLT 数据在 3 次尝试后仍失败。\n",
                        "--- 正在获取市场情绪数据 (恐慌指数) ---\n",
                        "  - 错误 [akshare]: 获取市场情绪数据失败: module 'akshare' has no attribute 'idx_ivix'\n",
                        "--- 所有全局市场数据准备完毕 ---\n",
                        "\n",
                        "\n",
                        "--- 正在为 TCL科技 (000100.SZ) 生成【训练用】历史特征 ---\n",
                        "  - 数据窗口: 2010-11-01 to 2025-09-30\n",
                        "  - 正在从本地缓存加载 TCL科技 (sz.000100) 的原始日线数据...\n",
                        "  - INFO: 正在为 'TCL科技的行业指数' (159928.SZ) 获取指数数据...\n",
                        "  - 正在从 Baostock 下载 TCL科技的行业指数 (159928.SZ) 的日线行情...\n",
                        "  - WARNING [BS]: 未能获取到 TCL科技的行业指数 (159928.SZ) 在指定日期范围的数据。\n",
                        "    - 警告: 无法直接获取指数 'TCL科技的行业指数' (159928.SZ)。将尝试在本地合成等权重指数...\n",
                        "    - 错误: 在 API 映射表中未找到指数 'TCL科技的行业指数' (159928.SZ) 的成分股查询接口。\n",
                        "  - INFO: 正在为 '基准指数' (sh.000300) 获取指数数据...\n",
                        "  - 正在从本地缓存加载 基准指数 (sh.000300) 的原始日线数据...\n",
                        "    - SUCCESS: 已直接从 Baostock 获取到 '基准指数' (sh.000300) 的数据。\n",
                        "INFO: 开始特征计算流水线...\n",
                        "  - 将按以下阶段顺序执行计算器: ['base', 'contextual', 'composite']\n",
                        "  - [Calculating Features] Running: Technical Indicators...\n",
                        "    - Calculated: ema with params {'length': 10}\n",
                        "    - Calculated: ema with params {'length': 30}\n",
                        "    - Calculated: ema with params {'length': 50}\n",
                        "    - Calculated: ema with params {'length': 200}\n",
                        "    - Calculated: sma with params {'length': 20}\n",
                        "    - Calculated: dema with params {'length': 20}\n",
                        "    - Calculated: tema with params {'length': 20}\n",
                        "    - Calculated: adx with params {'length': 14}\n",
                        "    - Calculated: rsi with params {'length': 14}\n",
                        "    - Calculated: stoch with params {'k': 14, 'd': 3, 'smooth_k': 3}\n",
                        "    - Calculated: macd with params {'fast': 12, 'slow': 26, 'signal': 9}\n",
                        "    - Calculated: ppo with params {'fast': 12, 'slow': 26}\n",
                        "    - Calculated: roc with params {'length': 10}\n",
                        "    - Calculated: mom with params {'length': 10}\n",
                        "    - Calculated: bbands with params {'length': 20, 'std': 2}\n",
                        "    - Calculated: atr with params {'length': 14}\n",
                        "    - Calculated: natr with params {'length': 14}\n",
                        "    - Calculated: donchian with params {'lower_length': 20, 'upper_length': 20}\n",
                        "    - Calculated: obv with params {}\n",
                        "    - Calculated: mfi with params {'length': 14}\n",
                        "    - Calculated: vwap with params {}\n",
                        "    - Calculated: psar with params {'acceleration': 0.02, 'maximum': 0.2}\n",
                        "    - Calculated: ichimoku with params {'tenkan': 9, 'kijun': 26, 'senkou': 52}\n",
                        "  - [Calculating Features] Running: Candlestick Patterns...\n",
                        "  - [Calculating Features] Running: Calendar Features...\n",
                        "  - [Calculating Features] Running: Statistical Features...\n",
                        "  - [Calculating Features] Running: Price Structure Features...\n",
                        "  - [Calculating Features] Running: Volume Features...\n",
                        "  - [Calculating Features] Running: Trend Regime Features (Vectorized)...\n",
                        "  - [Calculating Features] Running: Momentum & Volatility Features...\n",
                        "  - [Calculating Features] Running: Advanced Risk Features...\n",
                        "  - [计算特征] 正在运行: 流动性与资金流特征...\n",
                        "    - 已计算: Amihud 非流动性指标\n",
                        "    - 已计算: 60日成交量 Z-Score\n",
                        "  - [Calculating Features] Running: Fundamental Features...\n",
                        "    - WARNNING: Tushare Pro API not available. Skipping Fundamental Features.\n",
                        "    - WARNNING: 计算器 'Relative Strength & Beta Features' 缺少依赖特征 {'industry_close'}，可能计算失败或不准确。跳过。\n",
                        "  - [Calculating Features] Running: Market Regime Features...\n",
                        "  - [计算特征] 信息: 未提供外部市场数据，跳过 跨市场关联特征。\n",
                        "  - [计算特征] 正在运行: 交叉信号特征 (金叉/死叉)...\n",
                        "    - 已计算: ema_50_200 (金叉/死叉信号)\n",
                        "    - 已计算: macd_signal (金叉/死叉信号)\n",
                        "  - [计算特征] 正在运行: K线量化解构特征...\n",
                        "    - 已计算: K线在布林带中的位置\n",
                        "    - 已计算: 波动率扩张比率\n",
                        "    - 已计算: 跳空缺口大小\n",
                        "  - [Calculating Features] Running: Contextual & Cross-Sectional Features...\n",
                        "    - Calculated: Market Trend Regime (Uptrend/Downtrend)\n",
                        "    - Created Cross-Feature: RSI x Trend Regime\n",
                        "    - Created Cross-Feature: ROC x Volatility Regime\n",
                        "    - Created Cross-Feature: Volume Change x Trend Regime\n",
                        "INFO: 特征计算流水线结束。\n",
                        "INFO: 训练模式，将运行完整的后处理流程 (包括特征选择和标签生成)。\n",
                        "  - [Post-processing] Running: Stationarity Transformer...\n",
                        "  - [Post-processing] Running: Correlation Selector...\n",
                        "    - Removed 37 highly correlated features: ['ema_30', 'ema_50', 'ema_200', 'sma_20', 'dema_20', 'tema_20', 'adxr_14_2', 'stochd_14_3_3', 'macds_12_26_9', 'bbl_20_2.0_2.0', 'bbm_20_2.0_2.0', 'bbu_20_2.0_2.0', 'dcl_20_20', 'dcm_20_20', 'dcu_20_20', 'vwap_d', 'psarl_0.02_0.2', 'psars_0.02_0.2', 'isa_9', 'isb_26', 'its_9', 'iks_26', 'ics_26', 'year', 'week_of_year', 'return_10', 'zscore_30', 'zscore_45', 'volatility_60', 'zscore_60', 'vwap', 'momentum_3m', 'volatility_3m', 'downside_vol_6m', 'downside_vol_12m', 'candle_pos_in_bbands', 'rsi_x_uptrend']\n",
                        "\n",
                        "  --- [数据后处理] INFO: 为 TCL科技 (000100.SZ) 计算原始收益率标签... ---\n",
                        "    - INFO: 将使用标签列名 'label_return'，预测未来 45 天的收益率。\n",
                        "    - INFO: 正在对 'close' 列执行 pct_change(periods=45).shift(-45)...\n",
                        "    - INFO: 计算完成。结果包含 45 个 NaN 值 (共 3629 行)。\n",
                        "    - INFO: 已成功将计算结果添加到 DataFrame 的 'label_return' 列。\n",
                        "    - INFO: 正在对标签列进行去极值处理 (clip at 1% and 99%)...\n",
                        "  --- 成功为 TCL科技 (000100.SZ) 生成原始收益率标签 ---\n",
                        "INFO: 运行架构验证...\n",
                        "    - WARNNING (Data Gaps): Found 14 large gap(s) in time series after the first data point. Max gap: 152 days 00:00:00.\n",
                        "SUCCESS: 数据结构和时间索引验证通过.\n",
                        "--- SUCCESS: 成功为 TCL科技 (000100.SZ) 生成特征. 维度: (3037, 99) ---\n",
                        "\n",
                        "--- 正在为 兴业矿业 (000426.SZ) 生成【训练用】历史特征 ---\n",
                        "  - 数据窗口: 2010-11-01 to 2025-09-30\n",
                        "  - 正在从本地缓存加载 兴业矿业 (sz.000426) 的原始日线数据...\n",
                        "  - INFO: 正在为 '兴业矿业的行业指数' (159915.SZ) 获取指数数据...\n",
                        "  - 正在从 Baostock 下载 兴业矿业的行业指数 (159915.SZ) 的日线行情...\n",
                        "  - WARNING [BS]: 未能获取到 兴业矿业的行业指数 (159915.SZ) 在指定日期范围的数据。\n",
                        "    - 警告: 无法直接获取指数 '兴业矿业的行业指数' (159915.SZ)。将尝试在本地合成等权重指数...\n",
                        "    - 错误: 在 API 映射表中未找到指数 '兴业矿业的行业指数' (159915.SZ) 的成分股查询接口。\n",
                        "  - INFO: 正在为 '基准指数' (sh.000300) 获取指数数据...\n",
                        "  - 正在从本地缓存加载 基准指数 (sh.000300) 的原始日线数据...\n",
                        "    - SUCCESS: 已直接从 Baostock 获取到 '基准指数' (sh.000300) 的数据。\n",
                        "INFO: 开始特征计算流水线...\n",
                        "  - 将按以下阶段顺序执行计算器: ['base', 'contextual', 'composite']\n",
                        "  - [Calculating Features] Running: Technical Indicators...\n",
                        "    - Calculated: ema with params {'length': 10}\n",
                        "    - Calculated: ema with params {'length': 30}\n",
                        "    - Calculated: ema with params {'length': 50}\n",
                        "    - Calculated: ema with params {'length': 200}\n",
                        "    - Calculated: sma with params {'length': 20}\n",
                        "    - Calculated: dema with params {'length': 20}\n",
                        "    - Calculated: tema with params {'length': 20}\n",
                        "    - Calculated: adx with params {'length': 14}\n",
                        "    - Calculated: rsi with params {'length': 14}\n",
                        "    - Calculated: stoch with params {'k': 14, 'd': 3, 'smooth_k': 3}\n",
                        "    - Calculated: macd with params {'fast': 12, 'slow': 26, 'signal': 9}\n",
                        "    - Calculated: ppo with params {'fast': 12, 'slow': 26}\n",
                        "    - Calculated: roc with params {'length': 10}\n",
                        "    - Calculated: mom with params {'length': 10}\n",
                        "    - Calculated: bbands with params {'length': 20, 'std': 2}\n",
                        "    - Calculated: atr with params {'length': 14}\n",
                        "    - Calculated: natr with params {'length': 14}\n",
                        "    - Calculated: donchian with params {'lower_length': 20, 'upper_length': 20}\n",
                        "    - Calculated: obv with params {}\n",
                        "    - Calculated: mfi with params {'length': 14}\n",
                        "    - Calculated: vwap with params {}\n",
                        "    - Calculated: psar with params {'acceleration': 0.02, 'maximum': 0.2}\n",
                        "    - Calculated: ichimoku with params {'tenkan': 9, 'kijun': 26, 'senkou': 52}\n",
                        "  - [Calculating Features] Running: Candlestick Patterns...\n",
                        "  - [Calculating Features] Running: Calendar Features...\n",
                        "  - [Calculating Features] Running: Statistical Features...\n",
                        "  - [Calculating Features] Running: Price Structure Features...\n",
                        "  - [Calculating Features] Running: Volume Features...\n",
                        "  - [Calculating Features] Running: Trend Regime Features (Vectorized)...\n",
                        "  - [Calculating Features] Running: Momentum & Volatility Features...\n",
                        "  - [Calculating Features] Running: Advanced Risk Features...\n",
                        "  - [计算特征] 正在运行: 流动性与资金流特征...\n",
                        "    - 已计算: Amihud 非流动性指标\n",
                        "    - 已计算: 60日成交量 Z-Score\n",
                        "  - [Calculating Features] Running: Fundamental Features...\n",
                        "    - WARNNING: Tushare Pro API not available. Skipping Fundamental Features.\n",
                        "    - WARNNING: 计算器 'Relative Strength & Beta Features' 缺少依赖特征 {'industry_close'}，可能计算失败或不准确。跳过。\n",
                        "  - [Calculating Features] Running: Market Regime Features...\n",
                        "  - [计算特征] 信息: 未提供外部市场数据，跳过 跨市场关联特征。\n",
                        "  - [计算特征] 正在运行: 交叉信号特征 (金叉/死叉)...\n",
                        "    - 已计算: ema_50_200 (金叉/死叉信号)\n",
                        "    - 已计算: macd_signal (金叉/死叉信号)\n",
                        "  - [计算特征] 正在运行: K线量化解构特征...\n",
                        "    - 已计算: K线在布林带中的位置\n",
                        "    - 已计算: 波动率扩张比率\n",
                        "    - 已计算: 跳空缺口大小\n",
                        "  - [Calculating Features] Running: Contextual & Cross-Sectional Features...\n",
                        "    - Calculated: Market Trend Regime (Uptrend/Downtrend)\n",
                        "    - Created Cross-Feature: RSI x Trend Regime\n",
                        "    - Created Cross-Feature: ROC x Volatility Regime\n",
                        "    - Created Cross-Feature: Volume Change x Trend Regime\n",
                        "INFO: 特征计算流水线结束。\n",
                        "INFO: 训练模式，将运行完整的后处理流程 (包括特征选择和标签生成)。\n",
                        "  - [Post-processing] Running: Stationarity Transformer...\n",
                        "  - [Post-processing] Running: Correlation Selector...\n",
                        "    - Removed 35 highly correlated features: ['ema_30', 'ema_50', 'ema_200', 'sma_20', 'dema_20', 'tema_20', 'adxr_14_2', 'stochd_14_3_3', 'macds_12_26_9', 'bbl_20_2.0_2.0', 'bbm_20_2.0_2.0', 'bbu_20_2.0_2.0', 'dcl_20_20', 'dcm_20_20', 'dcu_20_20', 'vwap_d', 'psarl_0.02_0.2', 'psars_0.02_0.2', 'isa_9', 'isb_26', 'its_9', 'iks_26', 'year', 'week_of_year', 'return_10', 'zscore_20', 'zscore_60', 'trend_slope', 'momentum_3m', 'volatility_3m', 'sharpe_3m', 'sharpe_6m', 'sharpe_12m', 'candle_pos_in_bbands', 'rsi_x_uptrend']\n",
                        "\n",
                        "  --- [数据后处理] INFO: 为 兴业矿业 (000426.SZ) 计算原始收益率标签... ---\n",
                        "    - INFO: 将使用标签列名 'label_return'，预测未来 45 天的收益率。\n",
                        "    - INFO: 正在对 'close' 列执行 pct_change(periods=45).shift(-45)...\n",
                        "    - INFO: 计算完成。结果包含 45 个 NaN 值 (共 3629 行)。\n",
                        "    - INFO: 已成功将计算结果添加到 DataFrame 的 'label_return' 列。\n",
                        "    - INFO: 正在对标签列进行去极值处理 (clip at 1% and 99%)...\n",
                        "  --- 成功为 兴业矿业 (000426.SZ) 生成原始收益率标签 ---\n",
                        "INFO: 运行架构验证...\n",
                        "    - WARNNING (Data Gaps): Found 15 large gap(s) in time series after the first data point. Max gap: 160 days 00:00:00.\n",
                        "SUCCESS: 数据结构和时间索引验证通过.\n",
                        "--- SUCCESS: 成功为 兴业矿业 (000426.SZ) 生成特征. 维度: (2929, 101) ---\n",
                        "\n",
                        "--- 正在为 孚日股份 (002083.SZ) 生成【训练用】历史特征 ---\n",
                        "  - 数据窗口: 2010-11-01 to 2025-09-30\n",
                        "  - 正在从本地缓存加载 孚日股份 (sz.002083) 的原始日线数据...\n",
                        "  - INFO: 正在为 '孚日股份的行业指数' (159825.SZ) 获取指数数据...\n",
                        "  - 正在从 Baostock 下载 孚日股份的行业指数 (159825.SZ) 的日线行情...\n",
                        "  - WARNING [BS]: 未能获取到 孚日股份的行业指数 (159825.SZ) 在指定日期范围的数据。\n",
                        "    - 警告: 无法直接获取指数 '孚日股份的行业指数' (159825.SZ)。将尝试在本地合成等权重指数...\n",
                        "    - 错误: 在 API 映射表中未找到指数 '孚日股份的行业指数' (159825.SZ) 的成分股查询接口。\n",
                        "  - INFO: 正在为 '基准指数' (sh.000300) 获取指数数据...\n",
                        "  - 正在从本地缓存加载 基准指数 (sh.000300) 的原始日线数据...\n",
                        "    - SUCCESS: 已直接从 Baostock 获取到 '基准指数' (sh.000300) 的数据。\n",
                        "INFO: 开始特征计算流水线...\n",
                        "  - 将按以下阶段顺序执行计算器: ['base', 'contextual', 'composite']\n",
                        "  - [Calculating Features] Running: Technical Indicators...\n",
                        "    - Calculated: ema with params {'length': 10}\n",
                        "    - Calculated: ema with params {'length': 30}\n",
                        "    - Calculated: ema with params {'length': 50}\n",
                        "    - Calculated: ema with params {'length': 200}\n",
                        "    - Calculated: sma with params {'length': 20}\n",
                        "    - Calculated: dema with params {'length': 20}\n",
                        "    - Calculated: tema with params {'length': 20}\n",
                        "    - Calculated: adx with params {'length': 14}\n",
                        "    - Calculated: rsi with params {'length': 14}\n",
                        "    - Calculated: stoch with params {'k': 14, 'd': 3, 'smooth_k': 3}\n",
                        "    - Calculated: macd with params {'fast': 12, 'slow': 26, 'signal': 9}\n",
                        "    - Calculated: ppo with params {'fast': 12, 'slow': 26}\n",
                        "    - Calculated: roc with params {'length': 10}\n",
                        "    - Calculated: mom with params {'length': 10}\n",
                        "    - Calculated: bbands with params {'length': 20, 'std': 2}\n",
                        "    - Calculated: atr with params {'length': 14}\n",
                        "    - Calculated: natr with params {'length': 14}\n",
                        "    - Calculated: donchian with params {'lower_length': 20, 'upper_length': 20}\n",
                        "    - Calculated: obv with params {}\n",
                        "    - Calculated: mfi with params {'length': 14}\n",
                        "    - Calculated: vwap with params {}\n",
                        "    - Calculated: psar with params {'acceleration': 0.02, 'maximum': 0.2}\n",
                        "    - Calculated: ichimoku with params {'tenkan': 9, 'kijun': 26, 'senkou': 52}\n",
                        "  - [Calculating Features] Running: Candlestick Patterns...\n",
                        "  - [Calculating Features] Running: Calendar Features...\n",
                        "  - [Calculating Features] Running: Statistical Features...\n",
                        "  - [Calculating Features] Running: Price Structure Features...\n",
                        "  - [Calculating Features] Running: Volume Features...\n",
                        "  - [Calculating Features] Running: Trend Regime Features (Vectorized)...\n",
                        "  - [Calculating Features] Running: Momentum & Volatility Features...\n",
                        "  - [Calculating Features] Running: Advanced Risk Features...\n",
                        "  - [计算特征] 正在运行: 流动性与资金流特征...\n",
                        "    - 已计算: Amihud 非流动性指标\n",
                        "    - 已计算: 60日成交量 Z-Score\n",
                        "  - [Calculating Features] Running: Fundamental Features...\n",
                        "    - WARNNING: Tushare Pro API not available. Skipping Fundamental Features.\n",
                        "    - WARNNING: 计算器 'Relative Strength & Beta Features' 缺少依赖特征 {'industry_close'}，可能计算失败或不准确。跳过。\n",
                        "  - [Calculating Features] Running: Market Regime Features...\n",
                        "  - [计算特征] 信息: 未提供外部市场数据，跳过 跨市场关联特征。\n",
                        "  - [计算特征] 正在运行: 交叉信号特征 (金叉/死叉)...\n",
                        "    - 已计算: ema_50_200 (金叉/死叉信号)\n",
                        "    - 已计算: macd_signal (金叉/死叉信号)\n",
                        "  - [计算特征] 正在运行: K线量化解构特征...\n",
                        "    - 已计算: K线在布林带中的位置\n",
                        "    - 已计算: 波动率扩张比率\n",
                        "    - 已计算: 跳空缺口大小\n",
                        "  - [Calculating Features] Running: Contextual & Cross-Sectional Features...\n",
                        "    - Calculated: Market Trend Regime (Uptrend/Downtrend)\n",
                        "    - Created Cross-Feature: RSI x Trend Regime\n",
                        "    - Created Cross-Feature: ROC x Volatility Regime\n",
                        "    - Created Cross-Feature: Volume Change x Trend Regime\n",
                        "INFO: 特征计算流水线结束。\n",
                        "INFO: 训练模式，将运行完整的后处理流程 (包括特征选择和标签生成)。\n",
                        "  - [Post-processing] Running: Stationarity Transformer...\n",
                        "  - [Post-processing] Running: Correlation Selector...\n",
                        "    - Removed 33 highly correlated features: ['ema_30', 'ema_50', 'sma_20', 'dema_20', 'tema_20', 'adxr_14_2', 'stochd_14_3_3', 'mom_10', 'bbl_20_2.0_2.0', 'bbm_20_2.0_2.0', 'bbu_20_2.0_2.0', 'dcl_20_20', 'dcm_20_20', 'dcu_20_20', 'vwap_d', 'psarl_0.02_0.2', 'psars_0.02_0.2', 'isa_9', 'isb_26', 'its_9', 'iks_26', 'week_of_year', 'return_10', 'zscore_20', 'volatility_60', 'zscore_60', 'momentum_3m', 'volatility_3m', 'downside_vol_3m', 'downside_vol_6m', 'downside_vol_12m', 'candle_pos_in_bbands', 'rsi_x_uptrend']\n",
                        "\n",
                        "  --- [数据后处理] INFO: 为 孚日股份 (002083.SZ) 计算原始收益率标签... ---\n",
                        "    - INFO: 将使用标签列名 'label_return'，预测未来 45 天的收益率。\n",
                        "    - INFO: 正在对 'close' 列执行 pct_change(periods=45).shift(-45)...\n",
                        "    - INFO: 计算完成。结果包含 45 个 NaN 值 (共 3629 行)。\n",
                        "    - INFO: 已成功将计算结果添加到 DataFrame 的 'label_return' 列。\n",
                        "    - INFO: 正在对标签列进行去极值处理 (clip at 1% and 99%)...\n",
                        "  --- 成功为 孚日股份 (002083.SZ) 生成原始收益率标签 ---\n",
                        "INFO: 运行架构验证...\n",
                        "    - WARNNING (Data Gaps): Found 4 large gap(s) in time series after the first data point. Max gap: 15 days 00:00:00.\n",
                        "SUCCESS: 数据结构和时间索引验证通过.\n",
                        "--- SUCCESS: 成功为 孚日股份 (002083.SZ) 生成特征. 维度: (3322, 103) ---\n",
                        "\n",
                        "--- 正在为 宜华健康 (000150.SZ) 生成【训练用】历史特征 ---\n",
                        "  - 数据窗口: 2010-11-01 to 2025-09-30\n",
                        "  - 正在从本地缓存加载 宜华健康 (sz.000150) 的原始日线数据...\n",
                        "  - INFO: 正在为 '宜华健康的行业指数' (512170.SH) 获取指数数据...\n",
                        "  - 正在从 Baostock 下载 宜华健康的行业指数 (512170.SH) 的日线行情...\n",
                        "  - WARNING [BS]: 未能获取到 宜华健康的行业指数 (512170.SH) 在指定日期范围的数据。\n",
                        "    - 警告: 无法直接获取指数 '宜华健康的行业指数' (512170.SH)。将尝试在本地合成等权重指数...\n",
                        "    - 错误: 在 API 映射表中未找到指数 '宜华健康的行业指数' (512170.SH) 的成分股查询接口。\n",
                        "  - INFO: 正在为 '基准指数' (sh.000300) 获取指数数据...\n",
                        "  - 正在从本地缓存加载 基准指数 (sh.000300) 的原始日线数据...\n",
                        "    - SUCCESS: 已直接从 Baostock 获取到 '基准指数' (sh.000300) 的数据。\n",
                        "INFO: 开始特征计算流水线...\n",
                        "  - 将按以下阶段顺序执行计算器: ['base', 'contextual', 'composite']\n",
                        "  - [Calculating Features] Running: Technical Indicators...\n",
                        "    - Calculated: ema with params {'length': 10}\n",
                        "    - Calculated: ema with params {'length': 30}\n",
                        "    - Calculated: ema with params {'length': 50}\n",
                        "    - Calculated: ema with params {'length': 200}\n",
                        "    - Calculated: sma with params {'length': 20}\n",
                        "    - Calculated: dema with params {'length': 20}\n",
                        "    - Calculated: tema with params {'length': 20}\n",
                        "    - Calculated: adx with params {'length': 14}\n",
                        "    - Calculated: rsi with params {'length': 14}\n",
                        "    - Calculated: stoch with params {'k': 14, 'd': 3, 'smooth_k': 3}\n",
                        "    - Calculated: macd with params {'fast': 12, 'slow': 26, 'signal': 9}\n",
                        "    - Calculated: ppo with params {'fast': 12, 'slow': 26}\n",
                        "    - Calculated: roc with params {'length': 10}\n",
                        "    - Calculated: mom with params {'length': 10}\n",
                        "    - Calculated: bbands with params {'length': 20, 'std': 2}\n",
                        "    - Calculated: atr with params {'length': 14}\n",
                        "    - Calculated: natr with params {'length': 14}\n",
                        "    - Calculated: donchian with params {'lower_length': 20, 'upper_length': 20}\n",
                        "    - Calculated: obv with params {}\n",
                        "    - Calculated: mfi with params {'length': 14}\n",
                        "    - Calculated: vwap with params {}\n",
                        "    - Calculated: psar with params {'acceleration': 0.02, 'maximum': 0.2}\n",
                        "    - Calculated: ichimoku with params {'tenkan': 9, 'kijun': 26, 'senkou': 52}\n",
                        "  - [Calculating Features] Running: Candlestick Patterns...\n",
                        "  - [Calculating Features] Running: Calendar Features...\n",
                        "  - [Calculating Features] Running: Statistical Features...\n",
                        "  - [Calculating Features] Running: Price Structure Features...\n",
                        "  - [Calculating Features] Running: Volume Features...\n",
                        "  - [Calculating Features] Running: Trend Regime Features (Vectorized)...\n",
                        "  - [Calculating Features] Running: Momentum & Volatility Features...\n",
                        "  - [Calculating Features] Running: Advanced Risk Features...\n",
                        "  - [计算特征] 正在运行: 流动性与资金流特征...\n",
                        "    - 已计算: Amihud 非流动性指标\n",
                        "    - 已计算: 60日成交量 Z-Score\n",
                        "  - [Calculating Features] Running: Fundamental Features...\n",
                        "    - WARNNING: Tushare Pro API not available. Skipping Fundamental Features.\n",
                        "    - WARNNING: 计算器 'Relative Strength & Beta Features' 缺少依赖特征 {'industry_close'}，可能计算失败或不准确。跳过。\n",
                        "  - [Calculating Features] Running: Market Regime Features...\n",
                        "  - [计算特征] 信息: 未提供外部市场数据，跳过 跨市场关联特征。\n",
                        "  - [计算特征] 正在运行: 交叉信号特征 (金叉/死叉)...\n",
                        "    - 已计算: ema_50_200 (金叉/死叉信号)\n",
                        "    - 已计算: macd_signal (金叉/死叉信号)\n",
                        "  - [计算特征] 正在运行: K线量化解构特征...\n",
                        "    - 已计算: K线在布林带中的位置\n",
                        "    - 已计算: 波动率扩张比率\n",
                        "    - 已计算: 跳空缺口大小\n",
                        "  - [Calculating Features] Running: Contextual & Cross-Sectional Features...\n",
                        "    - Calculated: Market Trend Regime (Uptrend/Downtrend)\n",
                        "    - Created Cross-Feature: RSI x Trend Regime\n",
                        "    - Created Cross-Feature: ROC x Volatility Regime\n",
                        "    - Created Cross-Feature: Volume Change x Trend Regime\n",
                        "INFO: 特征计算流水线结束。\n",
                        "INFO: 训练模式，将运行完整的后处理流程 (包括特征选择和标签生成)。\n",
                        "  - [Post-processing] Running: Stationarity Transformer...\n",
                        "  - [Post-processing] Running: Correlation Selector...\n",
                        "    - Removed 33 highly correlated features: ['ema_30', 'ema_50', 'ema_200', 'sma_20', 'dema_20', 'tema_20', 'adxr_14_2', 'stochd_14_3_3', 'macds_12_26_9', 'bbl_20_2.0_2.0', 'bbm_20_2.0_2.0', 'bbu_20_2.0_2.0', 'dcl_20_20', 'dcm_20_20', 'dcu_20_20', 'vwap_d', 'psarl_0.02_0.2', 'psars_0.02_0.2', 'isa_9', 'isb_26', 'its_9', 'iks_26', 'ics_26', 'week_of_year', 'return_10', 'zscore_20', 'volatility_60', 'zscore_60', 'trend_slope', 'momentum_3m', 'volatility_3m', 'candle_pos_in_bbands', 'vol_change_x_uptrend']\n",
                        "\n",
                        "  --- [数据后处理] INFO: 为 宜华健康 (000150.SZ) 计算原始收益率标签... ---\n",
                        "    - INFO: 将使用标签列名 'label_return'，预测未来 45 天的收益率。\n",
                        "    - INFO: 正在对 'close' 列执行 pct_change(periods=45).shift(-45)...\n",
                        "    - INFO: 计算完成。结果包含 45 个 NaN 值 (共 3038 行)。\n",
                        "    - INFO: 已成功将计算结果添加到 DataFrame 的 'label_return' 列。\n",
                        "    - INFO: 正在对标签列进行去极值处理 (clip at 1% and 99%)...\n",
                        "  --- 成功为 宜华健康 (000150.SZ) 生成原始收益率标签 ---\n",
                        "INFO: 运行架构验证...\n",
                        "    - WARNNING (Data Gaps): Found 10 large gap(s) in time series after the first data point. Max gap: 195 days 00:00:00.\n",
                        "SUCCESS: 数据结构和时间索引验证通过.\n",
                        "--- SUCCESS: 成功为 宜华健康 (000150.SZ) 生成特征. 维度: (2398, 103) ---\n",
                        "\n",
                        "--- 正在为 新宁物流 (300013.SZ) 生成【训练用】历史特征 ---\n",
                        "  - 数据窗口: 2010-11-01 to 2025-09-30\n",
                        "  - 正在从本地缓存加载 新宁物流 (sz.300013) 的原始日线数据...\n",
                        "  - INFO: 正在为 '新宁物流的行业指数' (159928.SZ) 获取指数数据...\n",
                        "  - 正在从 Baostock 下载 新宁物流的行业指数 (159928.SZ) 的日线行情...\n",
                        "  - WARNING [BS]: 未能获取到 新宁物流的行业指数 (159928.SZ) 在指定日期范围的数据。\n",
                        "    - 警告: 无法直接获取指数 '新宁物流的行业指数' (159928.SZ)。将尝试在本地合成等权重指数...\n",
                        "    - 错误: 在 API 映射表中未找到指数 '新宁物流的行业指数' (159928.SZ) 的成分股查询接口。\n",
                        "  - INFO: 正在为 '基准指数' (sh.000300) 获取指数数据...\n",
                        "  - 正在从本地缓存加载 基准指数 (sh.000300) 的原始日线数据...\n",
                        "    - SUCCESS: 已直接从 Baostock 获取到 '基准指数' (sh.000300) 的数据。\n",
                        "INFO: 开始特征计算流水线...\n",
                        "  - 将按以下阶段顺序执行计算器: ['base', 'contextual', 'composite']\n",
                        "  - [Calculating Features] Running: Technical Indicators...\n",
                        "    - Calculated: ema with params {'length': 10}\n",
                        "    - Calculated: ema with params {'length': 30}\n",
                        "    - Calculated: ema with params {'length': 50}\n",
                        "    - Calculated: ema with params {'length': 200}\n",
                        "    - Calculated: sma with params {'length': 20}\n",
                        "    - Calculated: dema with params {'length': 20}\n",
                        "    - Calculated: tema with params {'length': 20}\n",
                        "    - Calculated: adx with params {'length': 14}\n",
                        "    - Calculated: rsi with params {'length': 14}\n",
                        "    - Calculated: stoch with params {'k': 14, 'd': 3, 'smooth_k': 3}\n",
                        "    - Calculated: macd with params {'fast': 12, 'slow': 26, 'signal': 9}\n",
                        "    - Calculated: ppo with params {'fast': 12, 'slow': 26}\n",
                        "    - Calculated: roc with params {'length': 10}\n",
                        "    - Calculated: mom with params {'length': 10}\n",
                        "    - Calculated: bbands with params {'length': 20, 'std': 2}\n",
                        "    - Calculated: atr with params {'length': 14}\n",
                        "    - Calculated: natr with params {'length': 14}\n",
                        "    - Calculated: donchian with params {'lower_length': 20, 'upper_length': 20}\n",
                        "    - Calculated: obv with params {}\n",
                        "    - Calculated: mfi with params {'length': 14}\n",
                        "    - Calculated: vwap with params {}\n",
                        "    - Calculated: psar with params {'acceleration': 0.02, 'maximum': 0.2}\n",
                        "    - Calculated: ichimoku with params {'tenkan': 9, 'kijun': 26, 'senkou': 52}\n",
                        "  - [Calculating Features] Running: Candlestick Patterns...\n",
                        "  - [Calculating Features] Running: Calendar Features...\n",
                        "  - [Calculating Features] Running: Statistical Features...\n",
                        "  - [Calculating Features] Running: Price Structure Features...\n",
                        "  - [Calculating Features] Running: Volume Features...\n",
                        "  - [Calculating Features] Running: Trend Regime Features (Vectorized)...\n",
                        "  - [Calculating Features] Running: Momentum & Volatility Features...\n",
                        "  - [Calculating Features] Running: Advanced Risk Features...\n",
                        "  - [计算特征] 正在运行: 流动性与资金流特征...\n",
                        "    - 已计算: Amihud 非流动性指标\n",
                        "    - 已计算: 60日成交量 Z-Score\n",
                        "  - [Calculating Features] Running: Fundamental Features...\n",
                        "    - WARNNING: Tushare Pro API not available. Skipping Fundamental Features.\n",
                        "    - WARNNING: 计算器 'Relative Strength & Beta Features' 缺少依赖特征 {'industry_close'}，可能计算失败或不准确。跳过。\n",
                        "  - [Calculating Features] Running: Market Regime Features...\n",
                        "  - [计算特征] 信息: 未提供外部市场数据，跳过 跨市场关联特征。\n",
                        "  - [计算特征] 正在运行: 交叉信号特征 (金叉/死叉)...\n",
                        "    - 已计算: ema_50_200 (金叉/死叉信号)\n",
                        "    - 已计算: macd_signal (金叉/死叉信号)\n",
                        "  - [计算特征] 正在运行: K线量化解构特征...\n",
                        "    - 已计算: K线在布林带中的位置\n",
                        "    - 已计算: 波动率扩张比率\n",
                        "    - 已计算: 跳空缺口大小\n",
                        "  - [Calculating Features] Running: Contextual & Cross-Sectional Features...\n",
                        "    - Calculated: Market Trend Regime (Uptrend/Downtrend)\n",
                        "    - Created Cross-Feature: RSI x Trend Regime\n",
                        "    - Created Cross-Feature: ROC x Volatility Regime\n",
                        "    - Created Cross-Feature: Volume Change x Trend Regime\n",
                        "INFO: 特征计算流水线结束。\n",
                        "INFO: 训练模式，将运行完整的后处理流程 (包括特征选择和标签生成)。\n",
                        "  - [Post-processing] Running: Stationarity Transformer...\n",
                        "  - [Post-processing] Running: Correlation Selector...\n",
                        "    - Removed 30 highly correlated features: ['ema_30', 'ema_50', 'sma_20', 'dema_20', 'tema_20', 'adxr_14_2', 'stochd_14_3_3', 'macds_12_26_9', 'bbl_20_2.0_2.0', 'bbm_20_2.0_2.0', 'bbu_20_2.0_2.0', 'dcl_20_20', 'dcm_20_20', 'dcu_20_20', 'vwap_d', 'psarl_0.02_0.2', 'psars_0.02_0.2', 'isa_9', 'isb_26', 'its_9', 'iks_26', 'week_of_year', 'return_10', 'zscore_20', 'volatility_60', 'zscore_60', 'trend_slope', 'momentum_3m', 'volatility_3m', 'candle_pos_in_bbands']\n",
                        "\n",
                        "  --- [数据后处理] INFO: 为 新宁物流 (300013.SZ) 计算原始收益率标签... ---\n",
                        "    - INFO: 将使用标签列名 'label_return'，预测未来 45 天的收益率。\n",
                        "    - INFO: 正在对 'close' 列执行 pct_change(periods=45).shift(-45)...\n",
                        "    - INFO: 计算完成。结果包含 45 个 NaN 值 (共 3622 行)。\n",
                        "    - INFO: 已成功将计算结果添加到 DataFrame 的 'label_return' 列。\n",
                        "    - INFO: 正在对标签列进行去极值处理 (clip at 1% and 99%)...\n",
                        "  --- 成功为 新宁物流 (300013.SZ) 生成原始收益率标签 ---\n",
                        "INFO: 运行架构验证...\n",
                        "    - WARNNING (Data Gaps): Found 8 large gap(s) in time series after the first data point. Max gap: 173 days 00:00:00.\n",
                        "SUCCESS: 数据结构和时间索引验证通过.\n",
                        "--- SUCCESS: 成功为 新宁物流 (300013.SZ) 生成特征. 维度: (3099, 106) ---\n",
                        "\n",
                        "--- 正在为 佳云科技 (300242.SZ) 生成【训练用】历史特征 ---\n",
                        "  - 数据窗口: 2010-11-01 to 2025-09-30\n",
                        "  - 正在从本地缓存加载 佳云科技 (sz.300242) 的原始日线数据...\n",
                        "  - INFO: 正在为 '佳云科技的行业指数' (159939.SZ) 获取指数数据...\n",
                        "  - 正在从 Baostock 下载 佳云科技的行业指数 (159939.SZ) 的日线行情...\n",
                        "  - WARNING [BS]: 未能获取到 佳云科技的行业指数 (159939.SZ) 在指定日期范围的数据。\n",
                        "    - 警告: 无法直接获取指数 '佳云科技的行业指数' (159939.SZ)。将尝试在本地合成等权重指数...\n",
                        "    - 错误: 在 API 映射表中未找到指数 '佳云科技的行业指数' (159939.SZ) 的成分股查询接口。\n",
                        "  - INFO: 正在为 '基准指数' (sh.000300) 获取指数数据...\n",
                        "  - 正在从本地缓存加载 基准指数 (sh.000300) 的原始日线数据...\n",
                        "    - SUCCESS: 已直接从 Baostock 获取到 '基准指数' (sh.000300) 的数据。\n",
                        "INFO: 开始特征计算流水线...\n",
                        "  - 将按以下阶段顺序执行计算器: ['base', 'contextual', 'composite']\n",
                        "  - [Calculating Features] Running: Technical Indicators...\n",
                        "    - Calculated: ema with params {'length': 10}\n",
                        "    - Calculated: ema with params {'length': 30}\n",
                        "    - Calculated: ema with params {'length': 50}\n",
                        "    - Calculated: ema with params {'length': 200}\n",
                        "    - Calculated: sma with params {'length': 20}\n",
                        "    - Calculated: dema with params {'length': 20}\n",
                        "    - Calculated: tema with params {'length': 20}\n",
                        "    - Calculated: adx with params {'length': 14}\n",
                        "    - Calculated: rsi with params {'length': 14}\n",
                        "    - Calculated: stoch with params {'k': 14, 'd': 3, 'smooth_k': 3}\n",
                        "    - Calculated: macd with params {'fast': 12, 'slow': 26, 'signal': 9}\n",
                        "    - Calculated: ppo with params {'fast': 12, 'slow': 26}\n",
                        "    - Calculated: roc with params {'length': 10}\n",
                        "    - Calculated: mom with params {'length': 10}\n",
                        "    - Calculated: bbands with params {'length': 20, 'std': 2}\n",
                        "    - Calculated: atr with params {'length': 14}\n",
                        "    - Calculated: natr with params {'length': 14}\n",
                        "    - Calculated: donchian with params {'lower_length': 20, 'upper_length': 20}\n",
                        "    - Calculated: obv with params {}\n",
                        "    - Calculated: mfi with params {'length': 14}\n",
                        "    - Calculated: vwap with params {}\n",
                        "    - Calculated: psar with params {'acceleration': 0.02, 'maximum': 0.2}\n",
                        "    - Calculated: ichimoku with params {'tenkan': 9, 'kijun': 26, 'senkou': 52}\n",
                        "  - [Calculating Features] Running: Candlestick Patterns...\n",
                        "  - [Calculating Features] Running: Calendar Features...\n",
                        "  - [Calculating Features] Running: Statistical Features...\n",
                        "  - [Calculating Features] Running: Price Structure Features...\n",
                        "  - [Calculating Features] Running: Volume Features...\n",
                        "  - [Calculating Features] Running: Trend Regime Features (Vectorized)...\n",
                        "  - [Calculating Features] Running: Momentum & Volatility Features...\n",
                        "  - [Calculating Features] Running: Advanced Risk Features...\n",
                        "  - [计算特征] 正在运行: 流动性与资金流特征...\n",
                        "    - 已计算: Amihud 非流动性指标\n",
                        "    - 已计算: 60日成交量 Z-Score\n",
                        "  - [Calculating Features] Running: Fundamental Features...\n",
                        "    - WARNNING: Tushare Pro API not available. Skipping Fundamental Features.\n",
                        "    - WARNNING: 计算器 'Relative Strength & Beta Features' 缺少依赖特征 {'industry_close'}，可能计算失败或不准确。跳过。\n",
                        "  - [Calculating Features] Running: Market Regime Features...\n",
                        "  - [计算特征] 信息: 未提供外部市场数据，跳过 跨市场关联特征。\n",
                        "  - [计算特征] 正在运行: 交叉信号特征 (金叉/死叉)...\n",
                        "    - 已计算: ema_50_200 (金叉/死叉信号)\n",
                        "    - 已计算: macd_signal (金叉/死叉信号)\n",
                        "  - [计算特征] 正在运行: K线量化解构特征...\n",
                        "    - 已计算: K线在布林带中的位置\n",
                        "    - 已计算: 波动率扩张比率\n",
                        "    - 已计算: 跳空缺口大小\n",
                        "  - [Calculating Features] Running: Contextual & Cross-Sectional Features...\n",
                        "    - Calculated: Market Trend Regime (Uptrend/Downtrend)\n",
                        "    - Created Cross-Feature: RSI x Trend Regime\n",
                        "    - Created Cross-Feature: ROC x Volatility Regime\n",
                        "    - Created Cross-Feature: Volume Change x Trend Regime\n",
                        "INFO: 特征计算流水线结束。\n",
                        "INFO: 训练模式，将运行完整的后处理流程 (包括特征选择和标签生成)。\n",
                        "  - [Post-processing] Running: Stationarity Transformer...\n",
                        "  - [Post-processing] Running: Correlation Selector...\n",
                        "    - Removed 31 highly correlated features: ['ema_30', 'ema_50', 'ema_200', 'sma_20', 'dema_20', 'tema_20', 'adxr_14_2', 'stochd_14_3_3', 'bbl_20_2.0_2.0', 'bbm_20_2.0_2.0', 'bbu_20_2.0_2.0', 'dcl_20_20', 'dcm_20_20', 'dcu_20_20', 'vwap_d', 'psarl_0.02_0.2', 'psars_0.02_0.2', 'isa_9', 'isb_26', 'its_9', 'iks_26', 'ics_26', 'week_of_year', 'return_10', 'zscore_20', 'zscore_60', 'trend_slope', 'momentum_3m', 'volatility_3m', 'downside_vol_12m', 'candle_pos_in_bbands']\n",
                        "\n",
                        "  --- [数据后处理] INFO: 为 佳云科技 (300242.SZ) 计算原始收益率标签... ---\n",
                        "    - INFO: 将使用标签列名 'label_return'，预测未来 45 天的收益率。\n",
                        "    - INFO: 正在对 'close' 列执行 pct_change(periods=45).shift(-45)...\n",
                        "    - INFO: 计算完成。结果包含 45 个 NaN 值 (共 3458 行)。\n",
                        "    - INFO: 已成功将计算结果添加到 DataFrame 的 'label_return' 列。\n",
                        "    - INFO: 正在对标签列进行去极值处理 (clip at 1% and 99%)...\n",
                        "  --- 成功为 佳云科技 (300242.SZ) 生成原始收益率标签 ---\n",
                        "INFO: 运行架构验证...\n",
                        "    - WARNNING (Data Gaps): Found 15 large gap(s) in time series after the first data point. Max gap: 113 days 00:00:00.\n",
                        "SUCCESS: 数据结构和时间索引验证通过.\n",
                        "--- SUCCESS: 成功为 佳云科技 (300242.SZ) 生成特征. 维度: (2768, 105) ---\n",
                        "\n",
                        "--- 正在为 精功科技 (002006.SZ) 生成【训练用】历史特征 ---\n",
                        "  - 数据窗口: 2010-11-01 to 2025-09-30\n",
                        "  - 正在从本地缓存加载 精功科技 (sz.002006) 的原始日线数据...\n",
                        "  - INFO: 正在为 '精功科技的行业指数' (512480.SH) 获取指数数据...\n",
                        "  - 正在从 Baostock 下载 精功科技的行业指数 (512480.SH) 的日线行情...\n",
                        "  - WARNING [BS]: 未能获取到 精功科技的行业指数 (512480.SH) 在指定日期范围的数据。\n",
                        "    - 警告: 无法直接获取指数 '精功科技的行业指数' (512480.SH)。将尝试在本地合成等权重指数...\n",
                        "    - 错误: 在 API 映射表中未找到指数 '精功科技的行业指数' (512480.SH) 的成分股查询接口。\n",
                        "  - INFO: 正在为 '基准指数' (sh.000300) 获取指数数据...\n",
                        "  - 正在从本地缓存加载 基准指数 (sh.000300) 的原始日线数据...\n",
                        "    - SUCCESS: 已直接从 Baostock 获取到 '基准指数' (sh.000300) 的数据。\n",
                        "INFO: 开始特征计算流水线...\n",
                        "  - 将按以下阶段顺序执行计算器: ['base', 'contextual', 'composite']\n",
                        "  - [Calculating Features] Running: Technical Indicators...\n",
                        "    - Calculated: ema with params {'length': 10}\n",
                        "    - Calculated: ema with params {'length': 30}\n",
                        "    - Calculated: ema with params {'length': 50}\n",
                        "    - Calculated: ema with params {'length': 200}\n",
                        "    - Calculated: sma with params {'length': 20}\n",
                        "    - Calculated: dema with params {'length': 20}\n",
                        "    - Calculated: tema with params {'length': 20}\n",
                        "    - Calculated: adx with params {'length': 14}\n",
                        "    - Calculated: rsi with params {'length': 14}\n",
                        "    - Calculated: stoch with params {'k': 14, 'd': 3, 'smooth_k': 3}\n",
                        "    - Calculated: macd with params {'fast': 12, 'slow': 26, 'signal': 9}\n",
                        "    - Calculated: ppo with params {'fast': 12, 'slow': 26}\n",
                        "    - Calculated: roc with params {'length': 10}\n",
                        "    - Calculated: mom with params {'length': 10}\n",
                        "    - Calculated: bbands with params {'length': 20, 'std': 2}\n",
                        "    - Calculated: atr with params {'length': 14}\n",
                        "    - Calculated: natr with params {'length': 14}\n",
                        "    - Calculated: donchian with params {'lower_length': 20, 'upper_length': 20}\n",
                        "    - Calculated: obv with params {}\n",
                        "    - Calculated: mfi with params {'length': 14}\n",
                        "    - Calculated: vwap with params {}\n",
                        "    - Calculated: psar with params {'acceleration': 0.02, 'maximum': 0.2}\n",
                        "    - Calculated: ichimoku with params {'tenkan': 9, 'kijun': 26, 'senkou': 52}\n",
                        "  - [Calculating Features] Running: Candlestick Patterns...\n",
                        "  - [Calculating Features] Running: Calendar Features...\n",
                        "  - [Calculating Features] Running: Statistical Features...\n",
                        "  - [Calculating Features] Running: Price Structure Features...\n",
                        "  - [Calculating Features] Running: Volume Features...\n",
                        "  - [Calculating Features] Running: Trend Regime Features (Vectorized)...\n",
                        "  - [Calculating Features] Running: Momentum & Volatility Features...\n",
                        "  - [Calculating Features] Running: Advanced Risk Features...\n",
                        "  - [计算特征] 正在运行: 流动性与资金流特征...\n",
                        "    - 已计算: Amihud 非流动性指标\n",
                        "    - 已计算: 60日成交量 Z-Score\n",
                        "  - [Calculating Features] Running: Fundamental Features...\n",
                        "    - WARNNING: Tushare Pro API not available. Skipping Fundamental Features.\n",
                        "    - WARNNING: 计算器 'Relative Strength & Beta Features' 缺少依赖特征 {'industry_close'}，可能计算失败或不准确。跳过。\n",
                        "  - [Calculating Features] Running: Market Regime Features...\n",
                        "  - [计算特征] 信息: 未提供外部市场数据，跳过 跨市场关联特征。\n",
                        "  - [计算特征] 正在运行: 交叉信号特征 (金叉/死叉)...\n",
                        "    - 已计算: ema_50_200 (金叉/死叉信号)\n",
                        "    - 已计算: macd_signal (金叉/死叉信号)\n",
                        "  - [计算特征] 正在运行: K线量化解构特征...\n",
                        "    - 已计算: K线在布林带中的位置\n",
                        "    - 已计算: 波动率扩张比率\n",
                        "    - 已计算: 跳空缺口大小\n",
                        "  - [Calculating Features] Running: Contextual & Cross-Sectional Features...\n",
                        "    - Calculated: Market Trend Regime (Uptrend/Downtrend)\n",
                        "    - Created Cross-Feature: RSI x Trend Regime\n",
                        "    - Created Cross-Feature: ROC x Volatility Regime\n",
                        "    - Created Cross-Feature: Volume Change x Trend Regime\n",
                        "INFO: 特征计算流水线结束。\n",
                        "INFO: 训练模式，将运行完整的后处理流程 (包括特征选择和标签生成)。\n",
                        "  - [Post-processing] Running: Stationarity Transformer...\n",
                        "  - [Post-processing] Running: Correlation Selector...\n",
                        "    - Removed 31 highly correlated features: ['ema_30', 'ema_50', 'sma_20', 'dema_20', 'tema_20', 'adxr_14_2', 'stochd_14_3_3', 'macds_12_26_9', 'bbl_20_2.0_2.0', 'bbm_20_2.0_2.0', 'bbu_20_2.0_2.0', 'dcl_20_20', 'dcm_20_20', 'dcu_20_20', 'vwap_d', 'psarl_0.02_0.2', 'psars_0.02_0.2', 'isa_9', 'isb_26', 'its_9', 'iks_26', 'year', 'week_of_year', 'return_10', 'zscore_20', 'volatility_60', 'zscore_60', 'momentum_3m', 'volatility_3m', 'candle_pos_in_bbands', 'vol_change_x_uptrend']\n",
                        "\n",
                        "  --- [数据后处理] INFO: 为 精功科技 (002006.SZ) 计算原始收益率标签... ---\n",
                        "    - INFO: 将使用标签列名 'label_return'，预测未来 45 天的收益率。\n",
                        "    - INFO: 正在对 'close' 列执行 pct_change(periods=45).shift(-45)...\n",
                        "    - INFO: 计算完成。结果包含 45 个 NaN 值 (共 3629 行)。\n",
                        "    - INFO: 已成功将计算结果添加到 DataFrame 的 'label_return' 列。\n",
                        "    - INFO: 正在对标签列进行去极值处理 (clip at 1% and 99%)...\n",
                        "  --- 成功为 精功科技 (002006.SZ) 生成原始收益率标签 ---\n",
                        "INFO: 运行架构验证...\n",
                        "    - WARNNING (Data Gaps): Found 10 large gap(s) in time series after the first data point. Max gap: 217 days 00:00:00.\n",
                        "SUCCESS: 数据结构和时间索引验证通过.\n",
                        "--- SUCCESS: 成功为 精功科技 (002006.SZ) 生成特征. 维度: (2932, 105) ---\n",
                        "--- 批量特征生成流程完成 ---\n",
                        "--- 正在保存处理好的数据... ---\n",
                        "\n",
                        "  - 正在保存 TCL科技 (000100.SZ) 的数据...\n",
                        "    - SUCCESS: 数据已成功保存至: data\\processed\\000100.SZ\\8bd4cb7d117a\\features.pkl\n",
                        "    - INFO: 元信息已保存至: data\\processed\\000100.SZ\\8bd4cb7d117a\\meta.json\n",
                        "\n",
                        "  - 正在保存 兴业矿业 (000426.SZ) 的数据...\n",
                        "    - SUCCESS: 数据已成功保存至: data\\processed\\000426.SZ\\c235e03ee6af\\features.pkl\n",
                        "    - INFO: 元信息已保存至: data\\processed\\000426.SZ\\c235e03ee6af\\meta.json\n",
                        "\n",
                        "  - 正在保存 孚日股份 (002083.SZ) 的数据...\n",
                        "    - SUCCESS: 数据已成功保存至: data\\processed\\002083.SZ\\0c75b9f8a7de\\features.pkl\n",
                        "    - INFO: 元信息已保存至: data\\processed\\002083.SZ\\0c75b9f8a7de\\meta.json\n",
                        "\n",
                        "  - 正在保存 宜华健康 (000150.SZ) 的数据...\n",
                        "    - SUCCESS: 数据已成功保存至: data\\processed\\000150.SZ\\cfa67624588c\\features.pkl\n",
                        "    - INFO: 元信息已保存至: data\\processed\\000150.SZ\\cfa67624588c\\meta.json\n",
                        "\n",
                        "  - 正在保存 新宁物流 (300013.SZ) 的数据...\n",
                        "    - SUCCESS: 数据已成功保存至: data\\processed\\300013.SZ\\c2dcd63c0490\\features.pkl\n",
                        "    - INFO: 元信息已保存至: data\\processed\\300013.SZ\\c2dcd63c0490\\meta.json\n",
                        "\n",
                        "  - 正在保存 佳云科技 (300242.SZ) 的数据...\n",
                        "    - SUCCESS: 数据已成功保存至: data\\processed\\300242.SZ\\5de9096c19e8\\features.pkl\n",
                        "    - INFO: 元信息已保存至: data\\processed\\300242.SZ\\5de9096c19e8\\meta.json\n",
                        "\n",
                        "  - 正在保存 精功科技 (002006.SZ) 的数据...\n",
                        "    - SUCCESS: 数据已成功保存至: data\\processed\\002006.SZ\\a574aa0a9571\\features.pkl\n",
                        "    - INFO: 元信息已保存至: data\\processed\\002006.SZ\\a574aa0a9571\\meta.json\n",
                        "\n",
                        "--- 所有数据保存完毕。 ---\n",
                        "\n",
                        "数据管道协调任务执行完毕。\n",
                        "logout success!\n",
                        "INFO: Baostock API 已成功登出.\n",
                        "--- 阶段 1 成功完成。 ---\n"
                    ]
                }
            ],
            "source": [
                "USE_LATEST_DATE = True\n",
                "if config and modules:\n",
                "    print(f\"--- INFO: 日期模式 -> {'使用最新日期' if USE_LATEST_DATE else '使用配置文件中的固定日期'} ---\")\n",
                "    run_all_data_pipeline(config, modules, use_today_as_end_date=USE_LATEST_DATE)"
            ]
        },
        {
            "cell_type": "markdown",
            "metadata": {},
            "source": [
                "# **阶段二：模型训练与评估**"
            ]
        },
        {
            "cell_type": "markdown",
            "metadata": {},
            "source": [
                "### 2.1 数据预加载与全局预处理 (L3 缓存)"
            ]
        },
        {
            "cell_type": "code",
            "execution_count": 3,
            "metadata": {},
            "outputs": [
                {
                    "name": "stdout",
                    "output_type": "stream",
                    "text": [
                        "=== 工作流阶段 2.1：为模型预处理数据 (L3 缓存) ===\n",
                        "INFO: 开始执行预处理流程 (分块保存模式)...\n",
                        "\n"
                    ]
                },
                {
                    "data": {
                        "application/vnd.jupyter.widget-view+json": {
                            "model_id": "eb42001be2724d3b8732a44bfa8bb98a",
                            "version_major": 2,
                            "version_minor": 0
                        },
                        "text/plain": [
                            "正在预处理股票:   0%|          | 0/7 [00:00<?, ?it/s]"
                        ]
                    },
                    "metadata": {},
                    "output_type": "display_data"
                },
                {
                    "name": "stdout",
                    "output_type": "stream",
                    "text": [
                        "WARNNING: (Fold 1) 为 TabTransformer 配置的 categorical_features 为空，跳过。\n",
                        "WARNNING: (Fold 2) 为 TabTransformer 配置的 categorical_features 为空，跳过。\n",
                        "WARNNING: (Fold 3) 为 TabTransformer 配置的 categorical_features 为空，跳过。\n",
                        "WARNNING: (Fold 4) 为 TabTransformer 配置的 categorical_features 为空，跳过。\n",
                        "WARNNING: (Fold 5) 为 TabTransformer 配置的 categorical_features 为空，跳过。\n",
                        "WARNNING: (Fold 6) 为 TabTransformer 配置的 categorical_features 为空，跳过。\n",
                        "WARNNING: (Fold 7) 为 TabTransformer 配置的 categorical_features 为空，跳过。\n",
                        "WARNNING: (Fold 8) 为 TabTransformer 配置的 categorical_features 为空，跳过。\n",
                        "WARNNING: (Fold 9) 为 TabTransformer 配置的 categorical_features 为空，跳过。\n",
                        "WARNNING: (Fold 10) 为 TabTransformer 配置的 categorical_features 为空，跳过。\n",
                        "WARNNING: (Fold 11) 为 TabTransformer 配置的 categorical_features 为空，跳过。\n",
                        "WARNNING: (Fold 12) 为 TabTransformer 配置的 categorical_features 为空，跳过。\n",
                        "WARNNING: (Fold 13) 为 TabTransformer 配置的 categorical_features 为空，跳过。\n",
                        "WARNNING: (Fold 14) 为 TabTransformer 配置的 categorical_features 为空，跳过。\n",
                        "WARNNING: (Fold 15) 为 TabTransformer 配置的 categorical_features 为空，跳过。\n",
                        "WARNNING: (Fold 16) 为 TabTransformer 配置的 categorical_features 为空，跳过。\n",
                        "WARNNING: (Fold 17) 为 TabTransformer 配置的 categorical_features 为空，跳过。\n",
                        "WARNNING: (Fold 18) 为 TabTransformer 配置的 categorical_features 为空，跳过。\n",
                        "WARNNING: (Fold 19) 为 TabTransformer 配置的 categorical_features 为空，跳过。\n",
                        "WARNNING: (Fold 20) 为 TabTransformer 配置的 categorical_features 为空，跳过。\n",
                        "WARNNING: (Fold 21) 为 TabTransformer 配置的 categorical_features 为空，跳过。\n",
                        "WARNNING: (Fold 22) 为 TabTransformer 配置的 categorical_features 为空，跳过。\n",
                        "WARNNING: (Fold 23) 为 TabTransformer 配置的 categorical_features 为空，跳过。\n",
                        "WARNNING: (Fold 24) 为 TabTransformer 配置的 categorical_features 为空，跳过。\n",
                        "WARNNING: (Fold 25) 为 TabTransformer 配置的 categorical_features 为空，跳过。\n",
                        "WARNNING: (Fold 26) 为 TabTransformer 配置的 categorical_features 为空，跳过。\n",
                        "WARNNING: (Fold 27) 为 TabTransformer 配置的 categorical_features 为空，跳过。\n",
                        "WARNNING: (Fold 28) 为 TabTransformer 配置的 categorical_features 为空，跳过。\n",
                        "WARNNING: (Fold 29) 为 TabTransformer 配置的 categorical_features 为空，跳过。\n",
                        "WARNNING: (Fold 30) 为 TabTransformer 配置的 categorical_features 为空，跳过。\n",
                        "WARNNING: (Fold 31) 为 TabTransformer 配置的 categorical_features 为空，跳过。\n",
                        "WARNNING: (Fold 32) 为 TabTransformer 配置的 categorical_features 为空，跳过。\n",
                        "WARNNING: (Fold 33) 为 TabTransformer 配置的 categorical_features 为空，跳过。\n",
                        "WARNNING: (Fold 34) 为 TabTransformer 配置的 categorical_features 为空，跳过。\n",
                        "WARNNING: (Fold 35) 为 TabTransformer 配置的 categorical_features 为空，跳过。\n",
                        "WARNNING: (Fold 36) 为 TabTransformer 配置的 categorical_features 为空，跳过。\n",
                        "WARNNING: (Fold 37) 为 TabTransformer 配置的 categorical_features 为空，跳过。\n",
                        "WARNNING: (Fold 38) 为 TabTransformer 配置的 categorical_features 为空，跳过。\n",
                        "WARNNING: (Fold 39) 为 TabTransformer 配置的 categorical_features 为空，跳过。\n",
                        "WARNNING: (Fold 40) 为 TabTransformer 配置的 categorical_features 为空，跳过。\n",
                        "WARNNING: (Fold 41) 为 TabTransformer 配置的 categorical_features 为空，跳过。\n",
                        "WARNNING: (Fold 42) 为 TabTransformer 配置的 categorical_features 为空，跳过。\n",
                        "WARNNING: (Fold 1) 为 TabTransformer 配置的 categorical_features 为空，跳过。\n",
                        "WARNNING: (Fold 2) 为 TabTransformer 配置的 categorical_features 为空，跳过。\n",
                        "WARNNING: (Fold 3) 为 TabTransformer 配置的 categorical_features 为空，跳过。\n",
                        "WARNNING: (Fold 4) 为 TabTransformer 配置的 categorical_features 为空，跳过。\n",
                        "WARNNING: (Fold 5) 为 TabTransformer 配置的 categorical_features 为空，跳过。\n",
                        "WARNNING: (Fold 6) 为 TabTransformer 配置的 categorical_features 为空，跳过。\n",
                        "WARNNING: (Fold 7) 为 TabTransformer 配置的 categorical_features 为空，跳过。\n",
                        "WARNNING: (Fold 8) 为 TabTransformer 配置的 categorical_features 为空，跳过。\n",
                        "WARNNING: (Fold 9) 为 TabTransformer 配置的 categorical_features 为空，跳过。\n",
                        "WARNNING: (Fold 10) 为 TabTransformer 配置的 categorical_features 为空，跳过。\n",
                        "WARNNING: (Fold 11) 为 TabTransformer 配置的 categorical_features 为空，跳过。\n",
                        "WARNNING: (Fold 12) 为 TabTransformer 配置的 categorical_features 为空，跳过。\n",
                        "WARNNING: (Fold 13) 为 TabTransformer 配置的 categorical_features 为空，跳过。\n",
                        "WARNNING: (Fold 14) 为 TabTransformer 配置的 categorical_features 为空，跳过。\n",
                        "WARNNING: (Fold 15) 为 TabTransformer 配置的 categorical_features 为空，跳过。\n",
                        "WARNNING: (Fold 16) 为 TabTransformer 配置的 categorical_features 为空，跳过。\n",
                        "WARNNING: (Fold 17) 为 TabTransformer 配置的 categorical_features 为空，跳过。\n",
                        "WARNNING: (Fold 18) 为 TabTransformer 配置的 categorical_features 为空，跳过。\n",
                        "WARNNING: (Fold 19) 为 TabTransformer 配置的 categorical_features 为空，跳过。\n",
                        "WARNNING: (Fold 20) 为 TabTransformer 配置的 categorical_features 为空，跳过。\n",
                        "WARNNING: (Fold 21) 为 TabTransformer 配置的 categorical_features 为空，跳过。\n",
                        "WARNNING: (Fold 22) 为 TabTransformer 配置的 categorical_features 为空，跳过。\n",
                        "WARNNING: (Fold 23) 为 TabTransformer 配置的 categorical_features 为空，跳过。\n",
                        "WARNNING: (Fold 24) 为 TabTransformer 配置的 categorical_features 为空，跳过。\n",
                        "WARNNING: (Fold 25) 为 TabTransformer 配置的 categorical_features 为空，跳过。\n",
                        "WARNNING: (Fold 26) 为 TabTransformer 配置的 categorical_features 为空，跳过。\n",
                        "WARNNING: (Fold 27) 为 TabTransformer 配置的 categorical_features 为空，跳过。\n",
                        "WARNNING: (Fold 28) 为 TabTransformer 配置的 categorical_features 为空，跳过。\n",
                        "WARNNING: (Fold 29) 为 TabTransformer 配置的 categorical_features 为空，跳过。\n",
                        "WARNNING: (Fold 30) 为 TabTransformer 配置的 categorical_features 为空，跳过。\n",
                        "WARNNING: (Fold 31) 为 TabTransformer 配置的 categorical_features 为空，跳过。\n",
                        "WARNNING: (Fold 32) 为 TabTransformer 配置的 categorical_features 为空，跳过。\n",
                        "WARNNING: (Fold 33) 为 TabTransformer 配置的 categorical_features 为空，跳过。\n",
                        "WARNNING: (Fold 34) 为 TabTransformer 配置的 categorical_features 为空，跳过。\n",
                        "WARNNING: (Fold 35) 为 TabTransformer 配置的 categorical_features 为空，跳过。\n",
                        "WARNNING: (Fold 36) 为 TabTransformer 配置的 categorical_features 为空，跳过。\n",
                        "WARNNING: (Fold 37) 为 TabTransformer 配置的 categorical_features 为空，跳过。\n",
                        "WARNNING: (Fold 38) 为 TabTransformer 配置的 categorical_features 为空，跳过。\n",
                        "WARNNING: (Fold 39) 为 TabTransformer 配置的 categorical_features 为空，跳过。\n",
                        "WARNNING: (Fold 40) 为 TabTransformer 配置的 categorical_features 为空，跳过。\n",
                        "WARNNING: (Fold 1) 为 TabTransformer 配置的 categorical_features 为空，跳过。\n",
                        "WARNNING: (Fold 2) 为 TabTransformer 配置的 categorical_features 为空，跳过。\n",
                        "WARNNING: (Fold 3) 为 TabTransformer 配置的 categorical_features 为空，跳过。\n",
                        "WARNNING: (Fold 4) 为 TabTransformer 配置的 categorical_features 为空，跳过。\n",
                        "WARNNING: (Fold 5) 为 TabTransformer 配置的 categorical_features 为空，跳过。\n",
                        "WARNNING: (Fold 6) 为 TabTransformer 配置的 categorical_features 为空，跳过。\n",
                        "WARNNING: (Fold 7) 为 TabTransformer 配置的 categorical_features 为空，跳过。\n",
                        "WARNNING: (Fold 8) 为 TabTransformer 配置的 categorical_features 为空，跳过。\n",
                        "WARNNING: (Fold 9) 为 TabTransformer 配置的 categorical_features 为空，跳过。\n",
                        "WARNNING: (Fold 10) 为 TabTransformer 配置的 categorical_features 为空，跳过。\n",
                        "WARNNING: (Fold 11) 为 TabTransformer 配置的 categorical_features 为空，跳过。\n",
                        "WARNNING: (Fold 12) 为 TabTransformer 配置的 categorical_features 为空，跳过。\n",
                        "WARNNING: (Fold 13) 为 TabTransformer 配置的 categorical_features 为空，跳过。\n",
                        "WARNNING: (Fold 14) 为 TabTransformer 配置的 categorical_features 为空，跳过。\n",
                        "WARNNING: (Fold 15) 为 TabTransformer 配置的 categorical_features 为空，跳过。\n",
                        "WARNNING: (Fold 16) 为 TabTransformer 配置的 categorical_features 为空，跳过。\n",
                        "WARNNING: (Fold 17) 为 TabTransformer 配置的 categorical_features 为空，跳过。\n",
                        "WARNNING: (Fold 18) 为 TabTransformer 配置的 categorical_features 为空，跳过。\n",
                        "WARNNING: (Fold 19) 为 TabTransformer 配置的 categorical_features 为空，跳过。\n",
                        "WARNNING: (Fold 20) 为 TabTransformer 配置的 categorical_features 为空，跳过。\n",
                        "WARNNING: (Fold 21) 为 TabTransformer 配置的 categorical_features 为空，跳过。\n",
                        "WARNNING: (Fold 22) 为 TabTransformer 配置的 categorical_features 为空，跳过。\n",
                        "WARNNING: (Fold 23) 为 TabTransformer 配置的 categorical_features 为空，跳过。\n",
                        "WARNNING: (Fold 24) 为 TabTransformer 配置的 categorical_features 为空，跳过。\n",
                        "WARNNING: (Fold 25) 为 TabTransformer 配置的 categorical_features 为空，跳过。\n",
                        "WARNNING: (Fold 26) 为 TabTransformer 配置的 categorical_features 为空，跳过。\n",
                        "WARNNING: (Fold 27) 为 TabTransformer 配置的 categorical_features 为空，跳过。\n",
                        "WARNNING: (Fold 28) 为 TabTransformer 配置的 categorical_features 为空，跳过。\n",
                        "WARNNING: (Fold 29) 为 TabTransformer 配置的 categorical_features 为空，跳过。\n",
                        "WARNNING: (Fold 30) 为 TabTransformer 配置的 categorical_features 为空，跳过。\n",
                        "WARNNING: (Fold 31) 为 TabTransformer 配置的 categorical_features 为空，跳过。\n",
                        "WARNNING: (Fold 32) 为 TabTransformer 配置的 categorical_features 为空，跳过。\n",
                        "WARNNING: (Fold 33) 为 TabTransformer 配置的 categorical_features 为空，跳过。\n",
                        "WARNNING: (Fold 34) 为 TabTransformer 配置的 categorical_features 为空，跳过。\n",
                        "WARNNING: (Fold 35) 为 TabTransformer 配置的 categorical_features 为空，跳过。\n",
                        "WARNNING: (Fold 36) 为 TabTransformer 配置的 categorical_features 为空，跳过。\n",
                        "WARNNING: (Fold 37) 为 TabTransformer 配置的 categorical_features 为空，跳过。\n",
                        "WARNNING: (Fold 38) 为 TabTransformer 配置的 categorical_features 为空，跳过。\n",
                        "WARNNING: (Fold 39) 为 TabTransformer 配置的 categorical_features 为空，跳过。\n",
                        "WARNNING: (Fold 40) 为 TabTransformer 配置的 categorical_features 为空，跳过。\n",
                        "WARNNING: (Fold 41) 为 TabTransformer 配置的 categorical_features 为空，跳过。\n",
                        "WARNNING: (Fold 42) 为 TabTransformer 配置的 categorical_features 为空，跳过。\n",
                        "WARNNING: (Fold 43) 为 TabTransformer 配置的 categorical_features 为空，跳过。\n",
                        "WARNNING: (Fold 44) 为 TabTransformer 配置的 categorical_features 为空，跳过。\n",
                        "WARNNING: (Fold 45) 为 TabTransformer 配置的 categorical_features 为空，跳过。\n",
                        "WARNNING: (Fold 46) 为 TabTransformer 配置的 categorical_features 为空，跳过。\n",
                        "WARNNING: (Fold 47) 为 TabTransformer 配置的 categorical_features 为空，跳过。\n",
                        "WARNNING: (Fold 1) 为 TabTransformer 配置的 categorical_features 为空，跳过。\n",
                        "WARNNING: (Fold 2) 为 TabTransformer 配置的 categorical_features 为空，跳过。\n",
                        "WARNNING: (Fold 3) 为 TabTransformer 配置的 categorical_features 为空，跳过。\n",
                        "WARNNING: (Fold 4) 为 TabTransformer 配置的 categorical_features 为空，跳过。\n",
                        "WARNNING: (Fold 5) 为 TabTransformer 配置的 categorical_features 为空，跳过。\n",
                        "WARNNING: (Fold 6) 为 TabTransformer 配置的 categorical_features 为空，跳过。\n",
                        "WARNNING: (Fold 7) 为 TabTransformer 配置的 categorical_features 为空，跳过。\n",
                        "WARNNING: (Fold 8) 为 TabTransformer 配置的 categorical_features 为空，跳过。\n",
                        "WARNNING: (Fold 9) 为 TabTransformer 配置的 categorical_features 为空，跳过。\n",
                        "WARNNING: (Fold 10) 为 TabTransformer 配置的 categorical_features 为空，跳过。\n",
                        "WARNNING: (Fold 11) 为 TabTransformer 配置的 categorical_features 为空，跳过。\n",
                        "WARNNING: (Fold 12) 为 TabTransformer 配置的 categorical_features 为空，跳过。\n",
                        "WARNNING: (Fold 13) 为 TabTransformer 配置的 categorical_features 为空，跳过。\n",
                        "WARNNING: (Fold 14) 为 TabTransformer 配置的 categorical_features 为空，跳过。\n",
                        "WARNNING: (Fold 15) 为 TabTransformer 配置的 categorical_features 为空，跳过。\n",
                        "WARNNING: (Fold 16) 为 TabTransformer 配置的 categorical_features 为空，跳过。\n",
                        "WARNNING: (Fold 17) 为 TabTransformer 配置的 categorical_features 为空，跳过。\n",
                        "WARNNING: (Fold 18) 为 TabTransformer 配置的 categorical_features 为空，跳过。\n",
                        "WARNNING: (Fold 19) 为 TabTransformer 配置的 categorical_features 为空，跳过。\n",
                        "WARNNING: (Fold 20) 为 TabTransformer 配置的 categorical_features 为空，跳过。\n",
                        "WARNNING: (Fold 21) 为 TabTransformer 配置的 categorical_features 为空，跳过。\n",
                        "WARNNING: (Fold 22) 为 TabTransformer 配置的 categorical_features 为空，跳过。\n",
                        "WARNNING: (Fold 23) 为 TabTransformer 配置的 categorical_features 为空，跳过。\n",
                        "WARNNING: (Fold 24) 为 TabTransformer 配置的 categorical_features 为空，跳过。\n",
                        "WARNNING: (Fold 25) 为 TabTransformer 配置的 categorical_features 为空，跳过。\n",
                        "WARNNING: (Fold 26) 为 TabTransformer 配置的 categorical_features 为空，跳过。\n",
                        "WARNNING: (Fold 27) 为 TabTransformer 配置的 categorical_features 为空，跳过。\n",
                        "WARNNING: (Fold 28) 为 TabTransformer 配置的 categorical_features 为空，跳过。\n",
                        "WARNNING: (Fold 29) 为 TabTransformer 配置的 categorical_features 为空，跳过。\n",
                        "WARNNING: (Fold 30) 为 TabTransformer 配置的 categorical_features 为空，跳过。\n",
                        "WARNNING: (Fold 31) 为 TabTransformer 配置的 categorical_features 为空，跳过。\n",
                        "WARNNING: (Fold 1) 为 TabTransformer 配置的 categorical_features 为空，跳过。\n",
                        "WARNNING: (Fold 2) 为 TabTransformer 配置的 categorical_features 为空，跳过。\n",
                        "WARNNING: (Fold 3) 为 TabTransformer 配置的 categorical_features 为空，跳过。\n",
                        "WARNNING: (Fold 4) 为 TabTransformer 配置的 categorical_features 为空，跳过。\n",
                        "WARNNING: (Fold 5) 为 TabTransformer 配置的 categorical_features 为空，跳过。\n",
                        "WARNNING: (Fold 6) 为 TabTransformer 配置的 categorical_features 为空，跳过。\n",
                        "WARNNING: (Fold 7) 为 TabTransformer 配置的 categorical_features 为空，跳过。\n",
                        "WARNNING: (Fold 8) 为 TabTransformer 配置的 categorical_features 为空，跳过。\n",
                        "WARNNING: (Fold 9) 为 TabTransformer 配置的 categorical_features 为空，跳过。\n",
                        "WARNNING: (Fold 10) 为 TabTransformer 配置的 categorical_features 为空，跳过。\n",
                        "WARNNING: (Fold 11) 为 TabTransformer 配置的 categorical_features 为空，跳过。\n",
                        "WARNNING: (Fold 12) 为 TabTransformer 配置的 categorical_features 为空，跳过。\n",
                        "WARNNING: (Fold 13) 为 TabTransformer 配置的 categorical_features 为空，跳过。\n",
                        "WARNNING: (Fold 14) 为 TabTransformer 配置的 categorical_features 为空，跳过。\n",
                        "WARNNING: (Fold 15) 为 TabTransformer 配置的 categorical_features 为空，跳过。\n",
                        "WARNNING: (Fold 16) 为 TabTransformer 配置的 categorical_features 为空，跳过。\n",
                        "WARNNING: (Fold 17) 为 TabTransformer 配置的 categorical_features 为空，跳过。\n",
                        "WARNNING: (Fold 18) 为 TabTransformer 配置的 categorical_features 为空，跳过。\n",
                        "WARNNING: (Fold 19) 为 TabTransformer 配置的 categorical_features 为空，跳过。\n",
                        "WARNNING: (Fold 20) 为 TabTransformer 配置的 categorical_features 为空，跳过。\n",
                        "WARNNING: (Fold 21) 为 TabTransformer 配置的 categorical_features 为空，跳过。\n",
                        "WARNNING: (Fold 22) 为 TabTransformer 配置的 categorical_features 为空，跳过。\n",
                        "WARNNING: (Fold 23) 为 TabTransformer 配置的 categorical_features 为空，跳过。\n",
                        "WARNNING: (Fold 24) 为 TabTransformer 配置的 categorical_features 为空，跳过。\n",
                        "WARNNING: (Fold 25) 为 TabTransformer 配置的 categorical_features 为空，跳过。\n",
                        "WARNNING: (Fold 26) 为 TabTransformer 配置的 categorical_features 为空，跳过。\n",
                        "WARNNING: (Fold 27) 为 TabTransformer 配置的 categorical_features 为空，跳过。\n",
                        "WARNNING: (Fold 28) 为 TabTransformer 配置的 categorical_features 为空，跳过。\n",
                        "WARNNING: (Fold 29) 为 TabTransformer 配置的 categorical_features 为空，跳过。\n",
                        "WARNNING: (Fold 30) 为 TabTransformer 配置的 categorical_features 为空，跳过。\n",
                        "WARNNING: (Fold 31) 为 TabTransformer 配置的 categorical_features 为空，跳过。\n",
                        "WARNNING: (Fold 32) 为 TabTransformer 配置的 categorical_features 为空，跳过。\n",
                        "WARNNING: (Fold 33) 为 TabTransformer 配置的 categorical_features 为空，跳过。\n",
                        "WARNNING: (Fold 34) 为 TabTransformer 配置的 categorical_features 为空，跳过。\n",
                        "WARNNING: (Fold 35) 为 TabTransformer 配置的 categorical_features 为空，跳过。\n",
                        "WARNNING: (Fold 36) 为 TabTransformer 配置的 categorical_features 为空，跳过。\n",
                        "WARNNING: (Fold 37) 为 TabTransformer 配置的 categorical_features 为空，跳过。\n",
                        "WARNNING: (Fold 38) 为 TabTransformer 配置的 categorical_features 为空，跳过。\n",
                        "WARNNING: (Fold 39) 为 TabTransformer 配置的 categorical_features 为空，跳过。\n",
                        "WARNNING: (Fold 40) 为 TabTransformer 配置的 categorical_features 为空，跳过。\n",
                        "WARNNING: (Fold 41) 为 TabTransformer 配置的 categorical_features 为空，跳过。\n",
                        "WARNNING: (Fold 42) 为 TabTransformer 配置的 categorical_features 为空，跳过。\n",
                        "WARNNING: (Fold 43) 为 TabTransformer 配置的 categorical_features 为空，跳过。\n",
                        "WARNNING: (Fold 1) 为 TabTransformer 配置的 categorical_features 为空，跳过。\n",
                        "WARNNING: (Fold 2) 为 TabTransformer 配置的 categorical_features 为空，跳过。\n",
                        "WARNNING: (Fold 3) 为 TabTransformer 配置的 categorical_features 为空，跳过。\n",
                        "WARNNING: (Fold 4) 为 TabTransformer 配置的 categorical_features 为空，跳过。\n",
                        "WARNNING: (Fold 5) 为 TabTransformer 配置的 categorical_features 为空，跳过。\n",
                        "WARNNING: (Fold 6) 为 TabTransformer 配置的 categorical_features 为空，跳过。\n",
                        "WARNNING: (Fold 7) 为 TabTransformer 配置的 categorical_features 为空，跳过。\n",
                        "WARNNING: (Fold 8) 为 TabTransformer 配置的 categorical_features 为空，跳过。\n",
                        "WARNNING: (Fold 9) 为 TabTransformer 配置的 categorical_features 为空，跳过。\n",
                        "WARNNING: (Fold 10) 为 TabTransformer 配置的 categorical_features 为空，跳过。\n",
                        "WARNNING: (Fold 11) 为 TabTransformer 配置的 categorical_features 为空，跳过。\n",
                        "WARNNING: (Fold 12) 为 TabTransformer 配置的 categorical_features 为空，跳过。\n",
                        "WARNNING: (Fold 13) 为 TabTransformer 配置的 categorical_features 为空，跳过。\n",
                        "WARNNING: (Fold 14) 为 TabTransformer 配置的 categorical_features 为空，跳过。\n",
                        "WARNNING: (Fold 15) 为 TabTransformer 配置的 categorical_features 为空，跳过。\n",
                        "WARNNING: (Fold 16) 为 TabTransformer 配置的 categorical_features 为空，跳过。\n",
                        "WARNNING: (Fold 17) 为 TabTransformer 配置的 categorical_features 为空，跳过。\n",
                        "WARNNING: (Fold 18) 为 TabTransformer 配置的 categorical_features 为空，跳过。\n",
                        "WARNNING: (Fold 19) 为 TabTransformer 配置的 categorical_features 为空，跳过。\n",
                        "WARNNING: (Fold 20) 为 TabTransformer 配置的 categorical_features 为空，跳过。\n",
                        "WARNNING: (Fold 21) 为 TabTransformer 配置的 categorical_features 为空，跳过。\n",
                        "WARNNING: (Fold 22) 为 TabTransformer 配置的 categorical_features 为空，跳过。\n",
                        "WARNNING: (Fold 23) 为 TabTransformer 配置的 categorical_features 为空，跳过。\n",
                        "WARNNING: (Fold 24) 为 TabTransformer 配置的 categorical_features 为空，跳过。\n",
                        "WARNNING: (Fold 25) 为 TabTransformer 配置的 categorical_features 为空，跳过。\n",
                        "WARNNING: (Fold 26) 为 TabTransformer 配置的 categorical_features 为空，跳过。\n",
                        "WARNNING: (Fold 27) 为 TabTransformer 配置的 categorical_features 为空，跳过。\n",
                        "WARNNING: (Fold 28) 为 TabTransformer 配置的 categorical_features 为空，跳过。\n",
                        "WARNNING: (Fold 29) 为 TabTransformer 配置的 categorical_features 为空，跳过。\n",
                        "WARNNING: (Fold 30) 为 TabTransformer 配置的 categorical_features 为空，跳过。\n",
                        "WARNNING: (Fold 31) 为 TabTransformer 配置的 categorical_features 为空，跳过。\n",
                        "WARNNING: (Fold 32) 为 TabTransformer 配置的 categorical_features 为空，跳过。\n",
                        "WARNNING: (Fold 33) 为 TabTransformer 配置的 categorical_features 为空，跳过。\n",
                        "WARNNING: (Fold 34) 为 TabTransformer 配置的 categorical_features 为空，跳过。\n",
                        "WARNNING: (Fold 35) 为 TabTransformer 配置的 categorical_features 为空，跳过。\n",
                        "WARNNING: (Fold 36) 为 TabTransformer 配置的 categorical_features 为空，跳过。\n",
                        "WARNNING: (Fold 37) 为 TabTransformer 配置的 categorical_features 为空，跳过。\n",
                        "WARNNING: (Fold 1) 为 TabTransformer 配置的 categorical_features 为空，跳过。\n",
                        "WARNNING: (Fold 2) 为 TabTransformer 配置的 categorical_features 为空，跳过。\n",
                        "WARNNING: (Fold 3) 为 TabTransformer 配置的 categorical_features 为空，跳过。\n",
                        "WARNNING: (Fold 4) 为 TabTransformer 配置的 categorical_features 为空，跳过。\n",
                        "WARNNING: (Fold 5) 为 TabTransformer 配置的 categorical_features 为空，跳过。\n",
                        "WARNNING: (Fold 6) 为 TabTransformer 配置的 categorical_features 为空，跳过。\n",
                        "WARNNING: (Fold 7) 为 TabTransformer 配置的 categorical_features 为空，跳过。\n",
                        "WARNNING: (Fold 8) 为 TabTransformer 配置的 categorical_features 为空，跳过。\n",
                        "WARNNING: (Fold 9) 为 TabTransformer 配置的 categorical_features 为空，跳过。\n",
                        "WARNNING: (Fold 10) 为 TabTransformer 配置的 categorical_features 为空，跳过。\n",
                        "WARNNING: (Fold 11) 为 TabTransformer 配置的 categorical_features 为空，跳过。\n",
                        "WARNNING: (Fold 12) 为 TabTransformer 配置的 categorical_features 为空，跳过。\n",
                        "WARNNING: (Fold 13) 为 TabTransformer 配置的 categorical_features 为空，跳过。\n",
                        "WARNNING: (Fold 14) 为 TabTransformer 配置的 categorical_features 为空，跳过。\n",
                        "WARNNING: (Fold 15) 为 TabTransformer 配置的 categorical_features 为空，跳过。\n",
                        "WARNNING: (Fold 16) 为 TabTransformer 配置的 categorical_features 为空，跳过。\n",
                        "WARNNING: (Fold 17) 为 TabTransformer 配置的 categorical_features 为空，跳过。\n",
                        "WARNNING: (Fold 18) 为 TabTransformer 配置的 categorical_features 为空，跳过。\n",
                        "WARNNING: (Fold 19) 为 TabTransformer 配置的 categorical_features 为空，跳过。\n",
                        "WARNNING: (Fold 20) 为 TabTransformer 配置的 categorical_features 为空，跳过。\n",
                        "WARNNING: (Fold 21) 为 TabTransformer 配置的 categorical_features 为空，跳过。\n",
                        "WARNNING: (Fold 22) 为 TabTransformer 配置的 categorical_features 为空，跳过。\n",
                        "WARNNING: (Fold 23) 为 TabTransformer 配置的 categorical_features 为空，跳过。\n",
                        "WARNNING: (Fold 24) 为 TabTransformer 配置的 categorical_features 为空，跳过。\n",
                        "WARNNING: (Fold 25) 为 TabTransformer 配置的 categorical_features 为空，跳过。\n",
                        "WARNNING: (Fold 26) 为 TabTransformer 配置的 categorical_features 为空，跳过。\n",
                        "WARNNING: (Fold 27) 为 TabTransformer 配置的 categorical_features 为空，跳过。\n",
                        "WARNNING: (Fold 28) 为 TabTransformer 配置的 categorical_features 为空，跳过。\n",
                        "WARNNING: (Fold 29) 为 TabTransformer 配置的 categorical_features 为空，跳过。\n",
                        "WARNNING: (Fold 30) 为 TabTransformer 配置的 categorical_features 为空，跳过。\n",
                        "WARNNING: (Fold 31) 为 TabTransformer 配置的 categorical_features 为空，跳过。\n",
                        "WARNNING: (Fold 32) 为 TabTransformer 配置的 categorical_features 为空，跳过。\n",
                        "WARNNING: (Fold 33) 为 TabTransformer 配置的 categorical_features 为空，跳过。\n",
                        "WARNNING: (Fold 34) 为 TabTransformer 配置的 categorical_features 为空，跳过。\n",
                        "WARNNING: (Fold 35) 为 TabTransformer 配置的 categorical_features 为空，跳过。\n",
                        "WARNNING: (Fold 36) 为 TabTransformer 配置的 categorical_features 为空，跳过。\n",
                        "WARNNING: (Fold 37) 为 TabTransformer 配置的 categorical_features 为空，跳过。\n",
                        "WARNNING: (Fold 38) 为 TabTransformer 配置的 categorical_features 为空，跳过。\n",
                        "WARNNING: (Fold 39) 为 TabTransformer 配置的 categorical_features 为空，跳过。\n",
                        "WARNNING: (Fold 40) 为 TabTransformer 配置的 categorical_features 为空，跳过。\n",
                        "\n",
                        "--- INFO: L3 缓存文件已在磁盘上准备就绪。 ---\n",
                        "--- 阶段 2.1 成功完成。 ---\n"
                    ]
                }
            ],
            "source": [
                "if config and modules:\n",
                "    # force_reprocess=True/False 可以控制是否重建缓存\n",
                "    run_preprocess_l3_cache(config, modules, force_reprocess=False)"
            ]
        },
        {
            "cell_type": "markdown",
            "metadata": {},
            "source": [
                "### 2.2 超参数优化"
            ]
        },
        {
            "cell_type": "code",
            "execution_count": 4,
            "metadata": {},
            "outputs": [],
            "source": [
                "RUN_HPO = False\n",
                "if RUN_HPO and config and modules:\n",
                "    run_hpo_train(config, modules)"
            ]
        },
        {
            "cell_type": "markdown",
            "metadata": {},
            "source": [
                "### 2.3 模型训练"
            ]
        },
        {
            "cell_type": "code",
            "execution_count": 5,
            "metadata": {},
            "outputs": [
                {
                    "name": "stdout",
                    "output_type": "stream",
                    "text": [
                        "=== 工作流阶段 2.3：训练所有模型 ===\n"
                    ]
                },
                {
                    "data": {
                        "application/vnd.jupyter.widget-view+json": {
                            "model_id": "f21d5bfa7e2b401d81790d089b4b1808",
                            "version_major": 2,
                            "version_minor": 0
                        },
                        "text/plain": [
                            "处理股票模型:   0%|          | 0/7 [00:00<?, ?it/s]"
                        ]
                    },
                    "metadata": {},
                    "output_type": "display_data"
                },
                {
                    "name": "stdout",
                    "output_type": "stream",
                    "text": [
                        "\n",
                        "--- 2.3.1 为 TCL科技 (000100.SZ) 训练基础模型 ---\n",
                        "--- 开始为 TCL科技 (000100.SZ) 进行 LGBM 模型训练 ---\n",
                        "INFO: 未检测到任何历史记录，将从头开始全新训练。\n",
                        "INFO: 开始对 TCL科技 (000100.SZ) 进行跨 42 folds 的前向验证...\n"
                    ]
                },
                {
                    "data": {
                        "application/vnd.jupyter.widget-view+json": {
                            "model_id": "5993713b214f402a926aef0228916a4e",
                            "version_major": 2,
                            "version_minor": 0
                        },
                        "text/plain": [
                            "正在 TCL科技 上训练 LGBM:   0%|          | 0/42 [00:00<?, ?it/s]"
                        ]
                    },
                    "metadata": {},
                    "output_type": "display_data"
                },
                {
                    "name": "stdout",
                    "output_type": "stream",
                    "text": [
                        "INFO: 滚动训练成功完成，准备训练最终模型。\n",
                        "INFO: 正在训练最终模型...\n",
                        "SUCCESS: 新版本 (20250930) 模型已保存: lgbm_model_20250930.pkl\n",
                        "INFO: 整个训练流程（包括最终模型）成功完成，已移除进度文件。\n",
                        "WARNNING: 未找到 TCL科技 (000100.SZ) 的 'lstm' 预处理 folds。跳过训练。\n",
                        "--- 开始为 TCL科技 (000100.SZ) 进行 TABTRANSFORMER 模型训练 ---\n",
                        "INFO: 未检测到任何历史记录，将从头开始全新训练。\n",
                        "INFO: 开始对 TCL科技 (000100.SZ) 进行跨 42 folds 的前向验证...\n"
                    ]
                },
                {
                    "data": {
                        "application/vnd.jupyter.widget-view+json": {
                            "model_id": "29604f784efd44faa84863177eec5e46",
                            "version_major": 2,
                            "version_minor": 0
                        },
                        "text/plain": [
                            "正在 TCL科技 上训练 TABTRANSFORMER:   0%|          | 0/42 [00:00<?, ?it/s]"
                        ]
                    },
                    "metadata": {},
                    "output_type": "display_data"
                },
                {
                    "name": "stdout",
                    "output_type": "stream",
                    "text": [
                        "\n",
                        "ERROR: 为 TCL科技 (000100.SZ) 训练 TABTRANSFORMER 模型时发生严重错误: 'X_train_cont'\n",
                        "INFO: 由于 TCL科技 (000100.SZ) 的基础模型训练未完全成功或被跳过，跳过其融合模型训练。\n",
                        "\n",
                        "--- 2.3.1 为 兴业矿业 (000426.SZ) 训练基础模型 ---\n",
                        "--- 开始为 兴业矿业 (000426.SZ) 进行 LGBM 模型训练 ---\n",
                        "INFO: 未检测到任何历史记录，将从头开始全新训练。\n",
                        "INFO: 开始对 兴业矿业 (000426.SZ) 进行跨 40 folds 的前向验证...\n"
                    ]
                },
                {
                    "data": {
                        "application/vnd.jupyter.widget-view+json": {
                            "model_id": "21f274b5040d48c58e5cb4fd2e744485",
                            "version_major": 2,
                            "version_minor": 0
                        },
                        "text/plain": [
                            "正在 兴业矿业 上训练 LGBM:   0%|          | 0/40 [00:00<?, ?it/s]"
                        ]
                    },
                    "metadata": {},
                    "output_type": "display_data"
                },
                {
                    "name": "stdout",
                    "output_type": "stream",
                    "text": [
                        "INFO: 滚动训练成功完成，准备训练最终模型。\n",
                        "INFO: 正在训练最终模型...\n",
                        "SUCCESS: 新版本 (20250930) 模型已保存: lgbm_model_20250930.pkl\n",
                        "INFO: 整个训练流程（包括最终模型）成功完成，已移除进度文件。\n",
                        "WARNNING: 未找到 兴业矿业 (000426.SZ) 的 'lstm' 预处理 folds。跳过训练。\n",
                        "--- 开始为 兴业矿业 (000426.SZ) 进行 TABTRANSFORMER 模型训练 ---\n",
                        "INFO: 未检测到任何历史记录，将从头开始全新训练。\n",
                        "INFO: 开始对 兴业矿业 (000426.SZ) 进行跨 40 folds 的前向验证...\n"
                    ]
                },
                {
                    "data": {
                        "application/vnd.jupyter.widget-view+json": {
                            "model_id": "467f8c2cd640468b8199dccbe49842d9",
                            "version_major": 2,
                            "version_minor": 0
                        },
                        "text/plain": [
                            "正在 兴业矿业 上训练 TABTRANSFORMER:   0%|          | 0/40 [00:00<?, ?it/s]"
                        ]
                    },
                    "metadata": {},
                    "output_type": "display_data"
                },
                {
                    "name": "stdout",
                    "output_type": "stream",
                    "text": [
                        "\n",
                        "ERROR: 为 兴业矿业 (000426.SZ) 训练 TABTRANSFORMER 模型时发生严重错误: 'X_train_cont'\n",
                        "INFO: 由于 兴业矿业 (000426.SZ) 的基础模型训练未完全成功或被跳过，跳过其融合模型训练。\n",
                        "\n",
                        "--- 2.3.1 为 孚日股份 (002083.SZ) 训练基础模型 ---\n",
                        "--- 开始为 孚日股份 (002083.SZ) 进行 LGBM 模型训练 ---\n",
                        "INFO: 未检测到任何历史记录，将从头开始全新训练。\n",
                        "INFO: 开始对 孚日股份 (002083.SZ) 进行跨 47 folds 的前向验证...\n"
                    ]
                },
                {
                    "data": {
                        "application/vnd.jupyter.widget-view+json": {
                            "model_id": "6048766061964a06878f6c524eb79277",
                            "version_major": 2,
                            "version_minor": 0
                        },
                        "text/plain": [
                            "正在 孚日股份 上训练 LGBM:   0%|          | 0/47 [00:00<?, ?it/s]"
                        ]
                    },
                    "metadata": {},
                    "output_type": "display_data"
                },
                {
                    "name": "stdout",
                    "output_type": "stream",
                    "text": [
                        "INFO: 滚动训练成功完成，准备训练最终模型。\n",
                        "INFO: 正在训练最终模型...\n",
                        "SUCCESS: 新版本 (20250930) 模型已保存: lgbm_model_20250930.pkl\n",
                        "INFO: 整个训练流程（包括最终模型）成功完成，已移除进度文件。\n",
                        "WARNNING: 未找到 孚日股份 (002083.SZ) 的 'lstm' 预处理 folds。跳过训练。\n",
                        "--- 开始为 孚日股份 (002083.SZ) 进行 TABTRANSFORMER 模型训练 ---\n",
                        "INFO: 未检测到任何历史记录，将从头开始全新训练。\n",
                        "INFO: 开始对 孚日股份 (002083.SZ) 进行跨 47 folds 的前向验证...\n"
                    ]
                },
                {
                    "data": {
                        "application/vnd.jupyter.widget-view+json": {
                            "model_id": "b23718a541054999a45afc6d84b30960",
                            "version_major": 2,
                            "version_minor": 0
                        },
                        "text/plain": [
                            "正在 孚日股份 上训练 TABTRANSFORMER:   0%|          | 0/47 [00:00<?, ?it/s]"
                        ]
                    },
                    "metadata": {},
                    "output_type": "display_data"
                },
                {
                    "name": "stdout",
                    "output_type": "stream",
                    "text": [
                        "\n",
                        "ERROR: 为 孚日股份 (002083.SZ) 训练 TABTRANSFORMER 模型时发生严重错误: 'X_train_cont'\n",
                        "INFO: 由于 孚日股份 (002083.SZ) 的基础模型训练未完全成功或被跳过，跳过其融合模型训练。\n",
                        "\n",
                        "--- 2.3.1 为 宜华健康 (000150.SZ) 训练基础模型 ---\n",
                        "--- 开始为 宜华健康 (000150.SZ) 进行 LGBM 模型训练 ---\n",
                        "INFO: 未检测到任何历史记录，将从头开始全新训练。\n",
                        "INFO: 开始对 宜华健康 (000150.SZ) 进行跨 31 folds 的前向验证...\n"
                    ]
                },
                {
                    "data": {
                        "application/vnd.jupyter.widget-view+json": {
                            "model_id": "95bede5a85794a4db44c86cf30401dbd",
                            "version_major": 2,
                            "version_minor": 0
                        },
                        "text/plain": [
                            "正在 宜华健康 上训练 LGBM:   0%|          | 0/31 [00:00<?, ?it/s]"
                        ]
                    },
                    "metadata": {},
                    "output_type": "display_data"
                },
                {
                    "name": "stdout",
                    "output_type": "stream",
                    "text": [
                        "INFO: 滚动训练成功完成，准备训练最终模型。\n",
                        "INFO: 正在训练最终模型...\n",
                        "SUCCESS: 新版本 (20250930) 模型已保存: lgbm_model_20250930.pkl\n",
                        "INFO: 整个训练流程（包括最终模型）成功完成，已移除进度文件。\n",
                        "WARNNING: 未找到 宜华健康 (000150.SZ) 的 'lstm' 预处理 folds。跳过训练。\n",
                        "--- 开始为 宜华健康 (000150.SZ) 进行 TABTRANSFORMER 模型训练 ---\n",
                        "INFO: 未检测到任何历史记录，将从头开始全新训练。\n",
                        "INFO: 开始对 宜华健康 (000150.SZ) 进行跨 31 folds 的前向验证...\n"
                    ]
                },
                {
                    "data": {
                        "application/vnd.jupyter.widget-view+json": {
                            "model_id": "54ed9530a4944a1e90a1e778c38c6d30",
                            "version_major": 2,
                            "version_minor": 0
                        },
                        "text/plain": [
                            "正在 宜华健康 上训练 TABTRANSFORMER:   0%|          | 0/31 [00:00<?, ?it/s]"
                        ]
                    },
                    "metadata": {},
                    "output_type": "display_data"
                },
                {
                    "name": "stdout",
                    "output_type": "stream",
                    "text": [
                        "\n",
                        "ERROR: 为 宜华健康 (000150.SZ) 训练 TABTRANSFORMER 模型时发生严重错误: 'X_train_cont'\n",
                        "INFO: 由于 宜华健康 (000150.SZ) 的基础模型训练未完全成功或被跳过，跳过其融合模型训练。\n",
                        "\n",
                        "--- 2.3.1 为 新宁物流 (300013.SZ) 训练基础模型 ---\n",
                        "--- 开始为 新宁物流 (300013.SZ) 进行 LGBM 模型训练 ---\n",
                        "INFO: 未检测到任何历史记录，将从头开始全新训练。\n",
                        "INFO: 开始对 新宁物流 (300013.SZ) 进行跨 43 folds 的前向验证...\n"
                    ]
                },
                {
                    "data": {
                        "application/vnd.jupyter.widget-view+json": {
                            "model_id": "1fb7f04a861949e7a0aeb9c8e61f1a35",
                            "version_major": 2,
                            "version_minor": 0
                        },
                        "text/plain": [
                            "正在 新宁物流 上训练 LGBM:   0%|          | 0/43 [00:00<?, ?it/s]"
                        ]
                    },
                    "metadata": {},
                    "output_type": "display_data"
                },
                {
                    "name": "stdout",
                    "output_type": "stream",
                    "text": [
                        "INFO: 滚动训练成功完成，准备训练最终模型。\n",
                        "INFO: 正在训练最终模型...\n",
                        "SUCCESS: 新版本 (20250930) 模型已保存: lgbm_model_20250930.pkl\n",
                        "INFO: 整个训练流程（包括最终模型）成功完成，已移除进度文件。\n",
                        "WARNNING: 未找到 新宁物流 (300013.SZ) 的 'lstm' 预处理 folds。跳过训练。\n",
                        "--- 开始为 新宁物流 (300013.SZ) 进行 TABTRANSFORMER 模型训练 ---\n",
                        "INFO: 未检测到任何历史记录，将从头开始全新训练。\n",
                        "INFO: 开始对 新宁物流 (300013.SZ) 进行跨 43 folds 的前向验证...\n"
                    ]
                },
                {
                    "data": {
                        "application/vnd.jupyter.widget-view+json": {
                            "model_id": "f0ba98998ff5488c8c167e304f3791b6",
                            "version_major": 2,
                            "version_minor": 0
                        },
                        "text/plain": [
                            "正在 新宁物流 上训练 TABTRANSFORMER:   0%|          | 0/43 [00:00<?, ?it/s]"
                        ]
                    },
                    "metadata": {},
                    "output_type": "display_data"
                },
                {
                    "name": "stdout",
                    "output_type": "stream",
                    "text": [
                        "\n",
                        "ERROR: 为 新宁物流 (300013.SZ) 训练 TABTRANSFORMER 模型时发生严重错误: 'X_train_cont'\n",
                        "INFO: 由于 新宁物流 (300013.SZ) 的基础模型训练未完全成功或被跳过，跳过其融合模型训练。\n",
                        "\n",
                        "--- 2.3.1 为 佳云科技 (300242.SZ) 训练基础模型 ---\n",
                        "--- 开始为 佳云科技 (300242.SZ) 进行 LGBM 模型训练 ---\n",
                        "INFO: 未检测到任何历史记录，将从头开始全新训练。\n",
                        "INFO: 开始对 佳云科技 (300242.SZ) 进行跨 37 folds 的前向验证...\n"
                    ]
                },
                {
                    "data": {
                        "application/vnd.jupyter.widget-view+json": {
                            "model_id": "5510d7311e174b9f8eda70e750a5add2",
                            "version_major": 2,
                            "version_minor": 0
                        },
                        "text/plain": [
                            "正在 佳云科技 上训练 LGBM:   0%|          | 0/37 [00:00<?, ?it/s]"
                        ]
                    },
                    "metadata": {},
                    "output_type": "display_data"
                },
                {
                    "name": "stdout",
                    "output_type": "stream",
                    "text": [
                        "INFO: 滚动训练成功完成，准备训练最终模型。\n",
                        "INFO: 正在训练最终模型...\n",
                        "SUCCESS: 新版本 (20250930) 模型已保存: lgbm_model_20250930.pkl\n",
                        "INFO: 整个训练流程（包括最终模型）成功完成，已移除进度文件。\n",
                        "WARNNING: 未找到 佳云科技 (300242.SZ) 的 'lstm' 预处理 folds。跳过训练。\n",
                        "--- 开始为 佳云科技 (300242.SZ) 进行 TABTRANSFORMER 模型训练 ---\n",
                        "INFO: 未检测到任何历史记录，将从头开始全新训练。\n",
                        "INFO: 开始对 佳云科技 (300242.SZ) 进行跨 37 folds 的前向验证...\n"
                    ]
                },
                {
                    "data": {
                        "application/vnd.jupyter.widget-view+json": {
                            "model_id": "82da52bd4841441cab3ec748981400a1",
                            "version_major": 2,
                            "version_minor": 0
                        },
                        "text/plain": [
                            "正在 佳云科技 上训练 TABTRANSFORMER:   0%|          | 0/37 [00:00<?, ?it/s]"
                        ]
                    },
                    "metadata": {},
                    "output_type": "display_data"
                },
                {
                    "name": "stdout",
                    "output_type": "stream",
                    "text": [
                        "\n",
                        "ERROR: 为 佳云科技 (300242.SZ) 训练 TABTRANSFORMER 模型时发生严重错误: 'X_train_cont'\n",
                        "INFO: 由于 佳云科技 (300242.SZ) 的基础模型训练未完全成功或被跳过，跳过其融合模型训练。\n",
                        "\n",
                        "--- 2.3.1 为 精功科技 (002006.SZ) 训练基础模型 ---\n",
                        "--- 开始为 精功科技 (002006.SZ) 进行 LGBM 模型训练 ---\n",
                        "INFO: 未检测到任何历史记录，将从头开始全新训练。\n",
                        "INFO: 开始对 精功科技 (002006.SZ) 进行跨 40 folds 的前向验证...\n"
                    ]
                },
                {
                    "data": {
                        "application/vnd.jupyter.widget-view+json": {
                            "model_id": "dca07e91a109403db68fcac0383a1345",
                            "version_major": 2,
                            "version_minor": 0
                        },
                        "text/plain": [
                            "正在 精功科技 上训练 LGBM:   0%|          | 0/40 [00:00<?, ?it/s]"
                        ]
                    },
                    "metadata": {},
                    "output_type": "display_data"
                },
                {
                    "name": "stdout",
                    "output_type": "stream",
                    "text": [
                        "INFO: 滚动训练成功完成，准备训练最终模型。\n",
                        "INFO: 正在训练最终模型...\n",
                        "SUCCESS: 新版本 (20250930) 模型已保存: lgbm_model_20250930.pkl\n",
                        "INFO: 整个训练流程（包括最终模型）成功完成，已移除进度文件。\n",
                        "WARNNING: 未找到 精功科技 (002006.SZ) 的 'lstm' 预处理 folds。跳过训练。\n",
                        "--- 开始为 精功科技 (002006.SZ) 进行 TABTRANSFORMER 模型训练 ---\n",
                        "INFO: 未检测到任何历史记录，将从头开始全新训练。\n",
                        "INFO: 开始对 精功科技 (002006.SZ) 进行跨 40 folds 的前向验证...\n"
                    ]
                },
                {
                    "data": {
                        "application/vnd.jupyter.widget-view+json": {
                            "model_id": "29ca7d833d1f4680a341359e65df6efe",
                            "version_major": 2,
                            "version_minor": 0
                        },
                        "text/plain": [
                            "正在 精功科技 上训练 TABTRANSFORMER:   0%|          | 0/40 [00:00<?, ?it/s]"
                        ]
                    },
                    "metadata": {},
                    "output_type": "display_data"
                },
                {
                    "name": "stdout",
                    "output_type": "stream",
                    "text": [
                        "\n",
                        "ERROR: 为 精功科技 (002006.SZ) 训练 TABTRANSFORMER 模型时发生严重错误: 'X_train_cont'\n",
                        "INFO: 由于 精功科技 (002006.SZ) 的基础模型训练未完全成功或被跳过，跳过其融合模型训练。\n",
                        "\n",
                        "--- 阶段 2.3 成功完成。 ---\n"
                    ]
                }
            ],
            "source": [
                "if config and modules:\n",
                "    all_ic_history = run_all_models_train(\n",
                "        config, \n",
                "        modules,  \n",
                "        force_retrain_base=False, \n",
                "        force_retrain_fuser=True\n",
                "    )"
            ]
        },
        {
            "cell_type": "markdown",
            "metadata": {},
            "source": [
                "### 2.4 结果聚合、评估与可视化"
            ]
        },
        {
            "cell_type": "code",
            "execution_count": 6,
            "metadata": {},
            "outputs": [
                {
                    "name": "stdout",
                    "output_type": "stream",
                    "text": [
                        "=== 工作流阶段 2.4a：计算性能评估指标 ===\n",
                        "INFO: 正在加载融合模型 (ModelFuser) 并对 OOF 数据进行批量预测...\n"
                    ]
                },
                {
                    "data": {
                        "application/vnd.jupyter.widget-view+json": {
                            "model_id": "547ad248b2744b9d843a97b48c4ca11e",
                            "version_major": 2,
                            "version_minor": 0
                        },
                        "text/plain": [
                            "融合 OOF 预测 (评估): 0it [00:00, ?it/s]"
                        ]
                    },
                    "metadata": {},
                    "output_type": "display_data"
                },
                {
                    "ename": "AttributeError",
                    "evalue": "'NoneType' object has no attribute 'where'",
                    "output_type": "error",
                    "traceback": [
                        "\u001b[31m---------------------------------------------------------------------------\u001b[39m",
                        "\u001b[31mAttributeError\u001b[39m                            Traceback (most recent call last)",
                        "\u001b[36mCell\u001b[39m\u001b[36m \u001b[39m\u001b[32mIn[6]\u001b[39m\u001b[32m, line 3\u001b[39m\n\u001b[32m      1\u001b[39m \u001b[38;5;28;01mif\u001b[39;00m config \u001b[38;5;129;01mand\u001b[39;00m modules \u001b[38;5;129;01mand\u001b[39;00m \u001b[33m'\u001b[39m\u001b[33mall_ic_history\u001b[39m\u001b[33m'\u001b[39m \u001b[38;5;129;01min\u001b[39;00m \u001b[38;5;28mlocals\u001b[39m() \u001b[38;5;129;01mand\u001b[39;00m all_ic_history:\n\u001b[32m      2\u001b[39m     \u001b[38;5;66;03m# 调用核心引擎中的评估和可视化函数\u001b[39;00m\n\u001b[32m----> \u001b[39m\u001b[32m3\u001b[39m     evaluation_summary, backtest_summary, final_eval_df = \u001b[43mrun_performance_evaluation\u001b[49m\u001b[43m(\u001b[49m\u001b[43mconfig\u001b[49m\u001b[43m,\u001b[49m\u001b[43m \u001b[49m\u001b[43mmodules\u001b[49m\u001b[43m,\u001b[49m\u001b[43m \u001b[49m\u001b[43mall_ic_history\u001b[49m\u001b[43m)\u001b[49m\n\u001b[32m      5\u001b[39m     \u001b[38;5;66;03m# 只有在有结果时才进行可视化\u001b[39;00m\n\u001b[32m      6\u001b[39m     \u001b[38;5;28;01mif\u001b[39;00m evaluation_summary \u001b[38;5;129;01mis\u001b[39;00m \u001b[38;5;129;01mnot\u001b[39;00m \u001b[38;5;28;01mNone\u001b[39;00m \u001b[38;5;129;01mor\u001b[39;00m backtest_summary \u001b[38;5;129;01mis\u001b[39;00m \u001b[38;5;129;01mnot\u001b[39;00m \u001b[38;5;28;01mNone\u001b[39;00m:\n",
                        "\u001b[36mFile \u001b[39m\u001b[32md:\\Project\\Command\\Python\\Neural\\Wolf_of_Wall_Street\\main_train.py:1012\u001b[39m, in \u001b[36mrun_performance_evaluation\u001b[39m\u001b[34m(config, modules, all_ic_history)\u001b[39m\n\u001b[32m   1010\u001b[39m \u001b[38;5;28;01mdef\u001b[39;00m\u001b[38;5;250m \u001b[39m\u001b[34msafe_std\u001b[39m(x): \u001b[38;5;28;01mreturn\u001b[39;00m x.std(ddof=\u001b[32m0\u001b[39m) \u001b[38;5;28;01mif\u001b[39;00m \u001b[38;5;28mlen\u001b[39m(x) > \u001b[32m1\u001b[39m \u001b[38;5;28;01melse\u001b[39;00m \u001b[32m0.0\u001b[39m\n\u001b[32m   1011\u001b[39m evaluation_summary = final_eval_df.groupby([\u001b[33m'\u001b[39m\u001b[33mticker_name\u001b[39m\u001b[33m'\u001b[39m, \u001b[33m'\u001b[39m\u001b[33mmodel_type\u001b[39m\u001b[33m'\u001b[39m])[\u001b[33m'\u001b[39m\u001b[33mrank_ic\u001b[39m\u001b[33m'\u001b[39m].agg(mean=\u001b[33m'\u001b[39m\u001b[33mmean\u001b[39m\u001b[33m'\u001b[39m, std=safe_std).reset_index()\n\u001b[32m-> \u001b[39m\u001b[32m1012\u001b[39m evaluation_summary[\u001b[33m'\u001b[39m\u001b[33micir\u001b[39m\u001b[33m'\u001b[39m] = \u001b[43mnp\u001b[49m\u001b[43m.\u001b[49m\u001b[43mwhere\u001b[49m(evaluation_summary[\u001b[33m'\u001b[39m\u001b[33mstd\u001b[39m\u001b[33m'\u001b[39m] > \u001b[32m1e-8\u001b[39m, evaluation_summary[\u001b[33m'\u001b[39m\u001b[33mmean\u001b[39m\u001b[33m'\u001b[39m] / evaluation_summary[\u001b[33m'\u001b[39m\u001b[33mstd\u001b[39m\u001b[33m'\u001b[39m], evaluation_summary[\u001b[33m'\u001b[39m\u001b[33mmean\u001b[39m\u001b[33m'\u001b[39m] * \u001b[32m100\u001b[39m)\n\u001b[32m   1014\u001b[39m \u001b[38;5;28mprint\u001b[39m(\u001b[33m\"\u001b[39m\u001b[33m=== 1. 模型预测能力评估 (ICIR) ===\u001b[39m\u001b[33m\"\u001b[39m)\n\u001b[32m   1015\u001b[39m \u001b[38;5;28mprint\u001b[39m(evaluation_summary.to_string())\n",
                        "\u001b[31mAttributeError\u001b[39m: 'NoneType' object has no attribute 'where'"
                    ]
                }
            ],
            "source": [
                "if config and modules and 'all_ic_history' in locals() and all_ic_history:\n",
                "    # 调用核心引擎中的评估和可视化函数\n",
                "    evaluation_summary, backtest_summary, final_eval_df = run_performance_evaluation(config, modules, all_ic_history)\n",
                "    \n",
                "    # 只有在有结果时才进行可视化\n",
                "    if evaluation_summary is not None or backtest_summary is not None:\n",
                "        run_results_visualization(config, modules, evaluation_summary, backtest_summary, final_eval_df)\n",
                "    else: print('无可视化结果')"
            ]
        }
    ],
    "metadata": {
        "...": "...",
        "kernelspec": {
            "display_name": ".venv",
            "language": "python",
            "name": "python3"
        },
        "language_info": {
            "codemirror_mode": {
                "name": "ipython",
                "version": 3
            },
            "file_extension": ".py",
            "mimetype": "text/x-python",
            "name": "python",
            "nbconvert_exporter": "python",
            "pygments_lexer": "ipython3",
            "version": "3.13.0"
        }
    },
    "nbformat": 4,
    "nbformat_minor": 4
}
