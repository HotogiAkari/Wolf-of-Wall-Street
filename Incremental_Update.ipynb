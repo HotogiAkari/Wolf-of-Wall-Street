{
 "cells": [
  {
   "cell_type": "markdown",
   "metadata": {},
   "source": [
    "# 模型增量更新与每日预测引擎 (批量版)\n",
    "\n",
    "---\n",
    "\n",
    "### **目标**\n",
    "本 Notebook 是项目的**每日自动化运行脚本**。它会遍历配置文件中定义的所有股票，为每一只成功训练过模型的股票执行在线学习（热更新），并生成新的交易信号。\n",
    "\n",
    "### **工作流程**\n",
    "1.  **环境设置**: 导入库，加载配置。\n",
    "2.  **主循环 (遍历股票)**: 对股票池中的每一只股票，执行以下步骤：\n",
    "    a. **加载模型**: 加载该股票的基础模型 (LGBM, LSTM) 和融合模型 (Fuser)。如果任何模型缺失，则跳过该股票。\n",
    "    b. **获取增量数据**: 智能地获取从上次批量训练至今的所有新数据。\n",
    "    c. **执行增量训练**: 批量生成“历史预测”与“真实标签”，对融合模型进行 `partial_train`。\n",
    "    d. **生成今日新预测**: 使用更新后的融合模型，生成用于次日交易的决策建议。"
   ]
  },
  {
   "cell_type": "markdown",
   "metadata": {},
   "source": [
    "## 1. 环境设置与导入"
   ]
  },
  {
   "cell_type": "code",
   "execution_count": 1,
   "metadata": {},
   "outputs": [
    {
     "name": "stderr",
     "output_type": "stream",
     "text": [
      "d:\\Project\\Command\\Python\\Neural\\Wolf_of_Wall_Street\\main_train.py:13: TqdmExperimentalWarning: Using `tqdm.autonotebook.tqdm` in notebook mode. Use `tqdm.tqdm` instead to force console mode (e.g. in jupyter console)\n",
      "  from tqdm.autonotebook import tqdm\n"
     ]
    },
    {
     "name": "stdout",
     "output_type": "stream",
     "text": [
      "--- INFO: 自动化再训练调度器 (Incremental Update) 已初始化。 ---\n",
      "--- 正在初始化环境：加载配置与模块... ---\n",
      "INFO: 底层并行计算库线程数已设置为: 4\n",
      "INFO: 项目模块导入成功。\n",
      "SUCCESS: 配置已从 'configs/config.yaml' 加载。\n",
      "\n",
      "================================================================================\n",
      "### 准备启动：周期性自动化再训练 ###\n",
      "### 将会为配置文件中的 8 只股票重新生成所有模型 ###\n",
      "================================================================================\n",
      "\n",
      "\n",
      "--- ERROR: 在执行周期性再训练时发生严重错误 ---\n",
      "run_periodic_retraining_workflow() missing 1 required positional argument: 'full_retrain'\n"
     ]
    },
    {
     "name": "stderr",
     "output_type": "stream",
     "text": [
      "Traceback (most recent call last):\n",
      "  File \"C:\\Users\\Akari\\AppData\\Local\\Temp\\ipykernel_28148\\1244307769.py\", line 31, in <module>\n",
      "    run_periodic_retraining_workflow(config, modules)\n",
      "    ~~~~~~~~~~~~~~~~~~~~~~~~~~~~~~~~^^^^^^^^^^^^^^^^^\n",
      "TypeError: run_periodic_retraining_workflow() missing 1 required positional argument: 'full_retrain'\n"
     ]
    }
   ],
   "source": [
    "# 文件路径: Incremental_Update.ipynb\n",
    "\n",
    "import sys\n",
    "from pathlib import Path\n",
    "\n",
    "# --- 1. 动态导入 main_train 核心引擎 ---\n",
    "project_root = str(Path().resolve())\n",
    "if project_root not in sys.path:\n",
    "    sys.path.append(project_root)\n",
    "\n",
    "try:\n",
    "    from main_train import run_load_config_and_modules, run_periodic_retraining_workflow\n",
    "    print(\"--- INFO: 自动化再训练调度器 (Incremental Update) 已初始化。 ---\")\n",
    "except ImportError as e:\n",
    "    raise ImportError(f\"FATAL: 无法从 main_train.py 导入核心函数: {e}\")\n",
    "\n",
    "# --- 2. 加载全局配置和模块 ---\n",
    "config, modules = run_load_config_and_modules()\n",
    "\n",
    "if not (config and modules):\n",
    "    raise RuntimeError(\"环境初始化失败，请检查配置文件路径和模块导入。\")\n",
    "\n",
    "# --- 3. 执行周期性再训练工作流 ---\n",
    "# 这个工作流会在内部自动将 end_date 更新为当天，并强制重新训练所有模型\n",
    "if config and modules:\n",
    "    print(\"\\n\" + \"=\"*80)\n",
    "    print(\"### 准备启动：周期性自动化再训练 ###\")\n",
    "    print(f\"### 将会为配置文件中的 {len(config.get('stocks_to_process', []))} 只股票重新生成所有模型 ###\")\n",
    "    print(\"=\"*80 + \"\\n\")\n",
    "    try:\n",
    "        run_periodic_retraining_workflow(config, modules)\n",
    "        \n",
    "        print(\"\\n\" + \"*\"*80)\n",
    "        print(\"### 自动化再训练工作流成功执行完毕！ ###\")\n",
    "        print(\"*\"*80)\n",
    "    except Exception as e:\n",
    "        print(f\"\\n--- ERROR: 在执行周期性再训练时发生严重错误 ---\")\n",
    "        print(e)\n",
    "        import traceback\n",
    "        traceback.print_exc()"
   ]
  }
 ],
 "metadata": {
  "...": "...",
  "kernelspec": {
   "display_name": ".venv",
   "language": "python",
   "name": "python3"
  },
  "language_info": {
   "codemirror_mode": {
    "name": "ipython",
    "version": 3
   },
   "file_extension": ".py",
   "mimetype": "text/x-python",
   "name": "python",
   "nbconvert_exporter": "python",
   "pygments_lexer": "ipython3",
   "version": "3.13.0"
  }
 },
 "nbformat": 4,
 "nbformat_minor": 4
}
