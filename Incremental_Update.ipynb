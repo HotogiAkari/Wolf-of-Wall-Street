{
 "cells": [
  {
   "cell_type": "markdown",
   "metadata": {},
   "source": [
    "# 模型增量更新与每日预测引擎 (批量版)\n",
    "\n",
    "---\n",
    "\n",
    "### **目标**\n",
    "本 Notebook 是项目的**每日自动化运行脚本**。它会遍历配置文件中定义的所有股票，为每一只成功训练过模型的股票执行在线学习（热更新），并生成新的交易信号。\n",
    "\n",
    "### **工作流程**\n",
    "1.  **环境设置**: 导入库，加载配置。\n",
    "2.  **主循环 (遍历股票)**: 对股票池中的每一只股票，执行以下步骤：\n",
    "    a. **加载模型**: 加载该股票的基础模型 (LGBM, LSTM) 和融合模型 (Fuser)。如果任何模型缺失，则跳过该股票。\n",
    "    b. **获取增量数据**: 智能地获取从上次批量训练至今的所有新数据。\n",
    "    c. **执行增量训练**: 批量生成“历史预测”与“真实标签”，对融合模型进行 `partial_train`。\n",
    "    d. **生成今日新预测**: 使用更新后的融合模型，生成用于次日交易的决策建议。"
   ]
  },
  {
   "cell_type": "markdown",
   "metadata": {},
   "source": [
    "## 1. 环境设置与导入"
   ]
  },
  {
   "cell_type": "code",
   "execution_count": null,
   "metadata": {},
   "outputs": [],
   "source": [
    "import sys\n",
    "import json\n",
    "import yaml\n",
    "from pathlib import Path\n",
    "import matplotlib.pyplot as plt\n",
    "import pandas as pd\n",
    "import torch\n",
    "import joblib\n",
    "from tqdm.autonotebook import tqdm\n",
    "from sklearn.preprocessing import StandardScaler\n",
    "from utils.config_utils import load_and_merge_configs_for_notebook\n",
    "\n",
    "# --- 1. 环境与路径设置 ---\n",
    "project_root = str(Path().resolve())\n",
    "if project_root not in sys.path:\n",
    "    print(f\"将项目根目录添加到 sys.path: {project_root}\")\n",
    "    sys.path.append(project_root)\n",
    "\n",
    "plt.style.use('seaborn-v0_8-whitegrid')\n",
    "plt.rcParams['font.sans-serif'] = ['SimHei']\n",
    "plt.rcParams['axes.unicode_minus'] = False\n",
    "\n",
    "# --- 2.  加载配置和所有模块 ---\n",
    "# a. 加载配置\n",
    "config = load_and_merge_configs_for_notebook()\n",
    "\n",
    "# b. 手动加载所有模块\n",
    "print(\"--- 正在加载所有项目模块... ---\")\n",
    "try:\n",
    "    from main_train import run_periodic_retraining_workflow\n",
    "    from data_process.get_data import initialize_apis, shutdown_apis, get_full_feature_df, get_latest_global_data\n",
    "    from data_process.save_data import run_data_pipeline, get_processed_data_path\n",
    "    from model.build_models import run_training_for_ticker\n",
    "    from utils.hpo_utils import run_hpo_for_ticker\n",
    "    from model.builders.model_fuser import ModelFuser\n",
    "    from model.builders.lgbm_builder import LGBMBuilder\n",
    "    from model.builders.lstm_builder import LSTMBuilder, LSTMModel\n",
    "    from model.builders.tabtransformer_builder import TabTransformerBuilder, TabTransformerModel\n",
    "    from risk_management.risk_manager import RiskManager\n",
    "    from utils.date_utils import resolve_data_pipeline_dates\n",
    "    from utils.encoding_utils import encode_categorical_features\n",
    "    from utils.file_utils import find_latest_artifact_paths\n",
    "    from utils.ml_utils import walk_forward_split\n",
    "    print(\"INFO: 项目模块导入成功。\")\n",
    "except ImportError as e:\n",
    "    raise ImportError(f\"模块导入失败，请确保 Notebook 的运行目录在项目根目录。错误: {e}\")\n",
    "\n",
    "# c. 构建 modules 字典\n",
    "modules = {\n",
    "    'initialize_apis': initialize_apis, 'shutdown_apis': shutdown_apis,\n",
    "    'get_full_feature_df': get_full_feature_df, 'get_latest_global_data': get_latest_global_data,\n",
    "    'run_data_pipeline': run_data_pipeline, 'get_processed_data_path': get_processed_data_path,\n",
    "    'run_training_for_ticker': run_training_for_ticker, 'run_hpo_for_ticker': run_hpo_for_ticker,\n",
    "    'ModelFuser': ModelFuser, 'LGBMBuilder': LGBMBuilder, 'LSTMBuilder': LSTMBuilder, 'LSTMModel': LSTMModel,\n",
    "    'TabTransformerBuilder': TabTransformerBuilder, 'TabTransformerModel': TabTransformerModel,\n",
    "    'RiskManager': RiskManager,\n",
    "    'resolve_data_pipeline_dates': resolve_data_pipeline_dates,\n",
    "    'encode_categorical_features': encode_categorical_features,\n",
    "    'find_latest_artifact_paths': find_latest_artifact_paths,\n",
    "    'walk_forward_split': walk_forward_split,\n",
    "    'pd': pd, 'torch': torch, 'joblib': joblib, 'tqdm': tqdm, 'StandardScaler': StandardScaler, 'Path': Path, 'yaml': yaml, 'json': json\n",
    "}"
   ]
  },
  {
   "cell_type": "markdown",
   "metadata": {},
   "source": [
    "# 更新流程"
   ]
  },
  {
   "cell_type": "code",
   "execution_count": null,
   "metadata": {},
   "outputs": [],
   "source": [
    "if config and modules:\n",
    "    print(\"=== 准备启动：周期性自动化再训练 ===\")\n",
    "    print(f\"=== 将会为配置文件中的 {len(config.get('stocks_to_process', []))} 只股票重新生成所有模型 ===\")\n",
    "    try:\n",
    "        run_periodic_retraining_workflow(config, modules)\n",
    "\n",
    "        print(\"=== 自动化再训练工作流成功执行完毕！ ===\")\n",
    "    except Exception as e:\n",
    "        print(f\"\\n--- ERROR: 在执行周期性再训练时发生严重错误 ---\")\n",
    "        print(e)\n",
    "        import traceback\n",
    "        traceback.print_exc()"
   ]
  }
 ],
 "metadata": {
  "...": "...",
  "kernelspec": {
   "display_name": ".venv",
   "language": "python",
   "name": "python3"
  },
  "language_info": {
   "codemirror_mode": {
    "name": "ipython",
    "version": 3
   },
   "file_extension": ".py",
   "mimetype": "text/x-python",
   "name": "python",
   "nbconvert_exporter": "python",
   "pygments_lexer": "ipython3",
   "version": "3.13.0"
  }
 },
 "nbformat": 4,
 "nbformat_minor": 4
}
