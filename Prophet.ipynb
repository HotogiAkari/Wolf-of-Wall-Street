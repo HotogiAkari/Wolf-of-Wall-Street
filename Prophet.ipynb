{
 "cells": [
  {
   "cell_type": "markdown",
   "metadata": {},
   "source": [
    "# 模型融合预测与交易决策引擎\n",
    "\n",
    "---\n",
    "\n",
    "### **目标**\n",
    "本 Notebook 是整个项目的**应用终端**。它的核心职责是模拟实盘环境，对指定的股票执行完整的“数据-预测-决策”流程。\n",
    "\n",
    "### **工作流程**\n",
    "1.  **环境设置与目标选定**: 导入库，加载配置，并指定今天要进行预测的目标股票。\n",
    "2.  **加载已训练构件**: \n",
    "    - 自动查找并加载目标股票**最新版本**的 LGBM 和 LSTM 模型。\n",
    "    - 加载对应的 `StandardScaler`。\n",
    "    - 加载两个模型完整的 IC 历史记录，用于动态权重计算。\n",
    "3.  **获取最新特征**: 调用数据处理流水线，获取截至**今天**的最新一行特征数据。\n",
    "4.  **独立模型预测**: 分别使用 LGBM 和 LSTM 模型对最新特征进行预测。\n",
    "5.  **动态权重融合**: \n",
    "    - 基于 IC 历史计算出 LGBM 和 LSTM 当前的动态权重。\n",
    "    - 对两个模型的预测值（经过 Z-score 标准化）进行加权融合，得到最终的预测信号。\n",
    "6.  **风险审批与决策输出**: \n",
    "    - 将融合后的信号提交给 `RiskManager` 进行最终审批（如重复信号检查）。\n",
    "    - 根据审批结果，输出明确的交易决策（如：**【批准开仓：买入】** 或 **【信号被拒：重复信号】**）。"
   ]
  },
  {
   "cell_type": "markdown",
   "metadata": {},
   "source": [
    "## 1. 环境设置与目标选定"
   ]
  },
  {
   "cell_type": "code",
   "execution_count": 1,
   "metadata": {},
   "outputs": [
    {
     "name": "stderr",
     "output_type": "stream",
     "text": [
      "d:\\Project\\Command\\Python\\Neural\\Wolf_of_Wall_Street\\main_train.py:13: TqdmExperimentalWarning: Using `tqdm.autonotebook.tqdm` in notebook mode. Use `tqdm.tqdm` instead to force console mode (e.g. in jupyter console)\n",
      "  from tqdm.autonotebook import tqdm\n"
     ]
    },
    {
     "name": "stdout",
     "output_type": "stream",
     "text": [
      "--- INFO: 预测引擎 (Prophet) 已初始化。 ---\n",
      "--- 正在初始化环境：加载配置与模块... ---\n",
      "INFO: 底层并行计算库线程数已设置为: 4\n",
      "INFO: 项目模块导入成功。\n",
      "SUCCESS: 配置已从 'configs/config.yaml' 加载。\n",
      "=== 主工作流：启动单点预测 ===\n",
      "\n",
      "--- 步骤1：加载所有已训练构件 (自动查找最新版本) ---\n",
      "  - 正在加载 LGBM 的构件...\n",
      "    - SUCCESS: LGBM 版本 '20251024' 已加载。\n",
      "  - 正在加载 LSTM 的构件...\n",
      "    - SUCCESS: LSTM 版本 '20251024' 已加载。\n",
      "  - 正在加载 TABTRANSFORMER 的构件...\n",
      "    - ERROR: 加载 TABTRANSFORMER 构件失败: Error(s) in loading state_dict for LSTMModel:\n",
      "\tMissing key(s) in state_dict: \"lstm1.weight_ih_l0\", \"lstm1.weight_hh_l0\", \"lstm1.bias_ih_l0\", \"lstm1.bias_hh_l0\", \"lstm2.weight_ih_l0\", \"lstm2.weight_hh_l0\", \"lstm2.bias_ih_l0\", \"lstm2.bias_hh_l0\", \"fc.weight\", \"fc.bias\". \n",
      "\tUnexpected key(s) in state_dict: \"cat_embeds.0.weight\", \"cat_embeds.1.weight\", \"cat_embeds.2.weight\", \"cat_embeds.3.weight\", \"transformer.layers.0.self_attn.in_proj_weight\", \"transformer.layers.0.self_attn.in_proj_bias\", \"transformer.layers.0.self_attn.out_proj.weight\", \"transformer.layers.0.self_attn.out_proj.bias\", \"transformer.layers.0.linear1.weight\", \"transformer.layers.0.linear1.bias\", \"transformer.layers.0.linear2.weight\", \"transformer.layers.0.linear2.bias\", \"transformer.layers.0.norm1.weight\", \"transformer.layers.0.norm1.bias\", \"transformer.layers.0.norm2.weight\", \"transformer.layers.0.norm2.bias\", \"transformer.layers.1.self_attn.in_proj_weight\", \"transformer.layers.1.self_attn.in_proj_bias\", \"transformer.layers.1.self_attn.out_proj.weight\", \"transformer.layers.1.self_attn.out_proj.bias\", \"transformer.layers.1.linear1.weight\", \"transformer.layers.1.linear1.bias\", \"transformer.layers.1.linear2.weight\", \"transformer.layers.1.linear2.bias\", \"transformer.layers.1.norm1.weight\", \"transformer.layers.1.norm1.bias\", \"transformer.layers.1.norm2.weight\", \"transformer.layers.1.norm2.bias\", \"transformer.layers.2.self_attn.in_proj_weight\", \"transformer.layers.2.self_attn.in_proj_bias\", \"transformer.layers.2.self_attn.out_proj.weight\", \"transformer.layers.2.self_attn.out_proj.bias\", \"transformer.layers.2.linear1.weight\", \"transformer.layers.2.linear1.bias\", \"transformer.layers.2.linear2.weight\", \"transformer.layers.2.linear2.bias\", \"transformer.layers.2.norm1.weight\", \"transformer.layers.2.norm1.bias\", \"transformer.layers.2.norm2.weight\", \"transformer.layers.2.norm2.bias\", \"transformer.layers.3.self_attn.in_proj_weight\", \"transformer.layers.3.self_attn.in_proj_bias\", \"transformer.layers.3.self_attn.out_proj.weight\", \"transformer.layers.3.self_attn.out_proj.bias\", \"transformer.layers.3.linear1.weight\", \"transformer.layers.3.linear1.bias\", \"transformer.layers.3.linear2.weight\", \"transformer.layers.3.linear2.bias\", \"transformer.layers.3.norm1.weight\", \"transformer.layers.3.norm1.bias\", \"transformer.layers.3.norm2.weight\", \"transformer.layers.3.norm2.bias\", \"mlp.0.weight\", \"mlp.0.bias\", \"mlp.1.weight\", \"mlp.1.bias\", \"mlp.4.weight\", \"mlp.4.bias\". \n",
      "  - INFO: 正在加载训练时使用的特征列表...\n",
      "    - SUCCESS: 已从 LSTM 的元数据加载特征列表 (73个)。\n",
      "INFO: 未找到已训练的融合模型文件，将使用新初始化的模型。\n",
      "  - WARNNING: 未能加载 ModelFuser，将回退到简单平均。\n",
      "INFO: 确保运行时数据目录 'data\\runtime_data' 已存在。\n",
      "SUCCESS: RiskManager initialized and connected to 'data\\runtime_data\\order_history.db'.\n",
      "--- 步骤1成功完成：所有构件已加载。 ---\n",
      "\n",
      "--- 步骤2：准备预测所需的数据 ---\n",
      "INFO: 正在尝试登录 Baostock...\n",
      "login success!\n",
      "INFO: Baostock API 登录成功。\n",
      "INFO: 未在配置中提供有效的 Tushare Token，将跳过 Tushare 相关数据。\n",
      "  - INFO: 检查全局数据缓存是否为最新...\n",
      "    - SUCCESS: 发现今天的全局数据缓存。正在从缓存加载...\n",
      "\n",
      "--- 正在为 TCL科技 (000100.SZ) 生成特征 ---\n",
      "  - 数据窗口: 2023-10-25 to 2025-10-24\n",
      "  - 正在从本地缓存加载 TCL科技 (sz.000100) 的原始日线数据...\n",
      "  - INFO: 正在为 'TCL科技的行业指数' (159928.SZ) 获取指数数据...\n",
      "  - 正在从 Baostock 下载 TCL科技的行业指数 (159928.SZ) 的日线行情...\n",
      "  - WARNING [BS]: 未能获取到 TCL科技的行业指数 (159928.SZ) 在指定日期范围的数据。\n",
      "    - 警告: 无法直接获取指数 'TCL科技的行业指数' (159928.SZ)。将尝试在本地合成等权重指数...\n",
      "    - 错误: 在 API 映射表中未找到指数 'TCL科技的行业指数' (159928.SZ) 的成分股查询接口。\n",
      "  - INFO: 正在为 '基准指数' (sh.000300) 获取指数数据...\n",
      "  - 正在从本地缓存加载 基准指数 (sh.000300) 的原始日线数据...\n",
      "    - SUCCESS: 已直接从 Baostock 获取到 '基准指数' (sh.000300) 的数据。\n",
      "INFO: 开始特征计算流水线...\n",
      "  - [Calculating Features] Running: Technical Indicators...\n",
      "    - Calculated: ema with params {'length': 50}\n",
      "    - Calculated: ema with params {'length': 200}\n",
      "    - Calculated: macd with params {'fast': 12, 'slow': 26, 'signal': 9}\n",
      "  - [Calculating Features] Running: Calendar Features...\n",
      "  - [Calculating Features] Running: Candlestick Patterns...\n",
      "  - [Calculating Features] Running: Statistical Features...\n",
      "  - [Calculating Features] Running: Price Structure Features...\n",
      "  - [Calculating Features] Running: Volume Features...\n",
      "  - [Calculating Features] Running: Trend Regime Features (Vectorized)...\n",
      "  - [Calculating Features] Running: Momentum & Volatility Features...\n",
      "  - [Calculating Features] Running: Fundamental Features...\n",
      "    - WARNNING: Tushare Pro API not available. Skipping Fundamental Features.\n",
      "  - [Calculating Features] Running: Relative Strength & Beta Features...\n",
      "    - WARNNING: Missing 'benchmark_close' or 'industry_close' column. Skipping Relative Strength & Beta Features.\n",
      "  - [Calculating Features] Running: Market Regime Features...\n",
      "  - [Calculating Features] Running: Advanced Risk Features...\n",
      "  - [计算特征] 正在运行: 交叉信号特征 (金叉/死叉)...\n",
      "    - 已计算: ema_50_200 (金叉/死叉信号)\n",
      "    - 已计算: macd_signal (金叉/死叉信号)\n",
      "  - [计算特征] 正在运行: K线量化解构特征...\n",
      "    - 已计算: K线在布林带中的位置\n",
      "    - 已计算: 波动率扩张比率\n",
      "    - 已计算: 跳空缺口大小\n",
      "  - [计算特征] 信息: 未提供外部市场数据，跳过 跨市场关联特征。\n",
      "  - [计算特征] 正在运行: 流动性与资金流特征...\n",
      "    - 已计算: Amihud 非流动性指标\n",
      "    - 已计算: 60日成交量 Z-Score\n",
      "  - [Calculating Features] Running: Contextual & Cross-Sectional Features...\n",
      "    - Calculated: Market Trend Regime (Uptrend/Downtrend)\n",
      "    - Created Cross-Feature: Volume Change x Trend Regime\n",
      "INFO: 特征计算流水线结束。\n",
      "  - [Post-processing] Running: Stationarity Transformer...\n",
      "  - [Post-processing] Running: Correlation Selector...\n",
      "    - Removed 16 highly correlated features: ['macds_12_26_9', 'week_of_year', 'zscore_30', 'zscore_45', 'volatility_60', 'zscore_60', 'vwap', 'trend_slope', 'momentum_3m', 'volatility_3m', 'sharpe_3m', 'sharpe_6m', 'volatility_12m', 'sharpe_12m', 'max_drawdown_60d', 'candle_pos_in_bbands']\n",
      "\n",
      "  --- [数据后处理] INFO: 为 TCL科技 (000100.SZ) 计算原始收益率标签... ---\n",
      "    - INFO: 将使用标签列名 'label_return'，预测未来 45 天的收益率。\n",
      "    - INFO: 正在对 'close' 列执行 pct_change(periods=45).shift(-45)...\n",
      "    - INFO: 计算完成。结果包含 45 个 NaN 值 (共 484 行)。\n",
      "    - INFO: 已成功将计算结果添加到 DataFrame 的 'label_return' 列。\n",
      "    - INFO: 正在对标签列进行去极值处理 (clip at 1% and 99%)...\n",
      "  --- 成功为 TCL科技 (000100.SZ) 生成原始收益率标签 ---\n",
      "INFO: 运行架构验证...\n",
      "SUCCESS: 数据结构和时间索引验证通过.\n",
      "--- SUCCESS: 成功为 TCL科技 (000100.SZ) 生成特征. 维度: (197, 78) ---\n",
      "logout success!\n",
      "INFO: Baostock API 已成功登出.\n",
      "--- 步骤2成功完成：最新特征数据已生成。 ---\n",
      "\n",
      "FATAL: 单点预测工作流失败: 预测时生成的特征数据缺少了训练时的关键特征: {'candle_pos_in_bbands', 'volatility_12m'}。这可能意味着特征计算逻辑已发生变化。\n"
     ]
    },
    {
     "name": "stderr",
     "output_type": "stream",
     "text": [
      "Traceback (most recent call last):\n",
      "  File \"d:\\Project\\Command\\Python\\Neural\\Wolf_of_Wall_Street\\main_train.py\", line 1180, in run_single_stock_prediction\n",
      "    _prophet_generate_decision(config, modules, artifacts, full_feature_df, target_ticker, keyword)\n",
      "    ~~~~~~~~~~~~~~~~~~~~~~~~~~^^^^^^^^^^^^^^^^^^^^^^^^^^^^^^^^^^^^^^^^^^^^^^^^^^^^^^^^^^^^^^^^^^^^^\n",
      "  File \"d:\\Project\\Command\\Python\\Neural\\Wolf_of_Wall_Street\\main_train.py\", line 276, in _prophet_generate_decision\n",
      "    raise RuntimeError(f\"预测时生成的特征数据缺少了训练时的关键特征: {missing_features}。这可能意味着特征计算逻辑已发生变化。\")\n",
      "RuntimeError: 预测时生成的特征数据缺少了训练时的关键特征: {'candle_pos_in_bbands', 'volatility_12m'}。这可能意味着特征计算逻辑已发生变化。\n"
     ]
    }
   ],
   "source": [
    "# 文件路径: Prophet.ipynb\n",
    "\n",
    "import sys\n",
    "from pathlib import Path\n",
    "\n",
    "# --- 1. 动态导入 main_train 核心引擎 ---\n",
    "project_root = str(Path().resolve())\n",
    "if project_root not in sys.path:\n",
    "    sys.path.append(project_root)\n",
    "\n",
    "try:\n",
    "    from main_train import run_load_config_and_modules, run_single_stock_prediction\n",
    "    print(\"--- INFO: 预测引擎 (Prophet) 已初始化。 ---\")\n",
    "except ImportError as e:\n",
    "    raise ImportError(f\"FATAL: 无法从 main_train.py 导入核心函数: {e}\")\n",
    "\n",
    "# --- 2. 加载全局配置和模块 ---\n",
    "# 在 Notebook 的生命周期中，我们只加载一次\n",
    "config, modules = run_load_config_and_modules()\n",
    "\n",
    "if not (config and modules):\n",
    "    raise RuntimeError(\"环境初始化失败，请检查配置文件路径和模块导入。\")\n",
    "\n",
    "# --- 3. (可选) 在此手动指定要预测的股票 ---\n",
    "# 如果留空，则会使用 config.yaml 中 application_settings.prophet_target_ticker 定义的值\n",
    "TARGET_TICKER_OVERRIDE = '000100.SZ' # 例如: '000100.SZ'\n",
    "\n",
    "# --- 4. 执行单点预测工作流 ---\n",
    "if config and modules:\n",
    "    try:\n",
    "        run_single_stock_prediction(\n",
    "            config=config, \n",
    "            modules=modules, \n",
    "            target_ticker=TARGET_TICKER_OVERRIDE\n",
    "        )\n",
    "    except Exception as e:\n",
    "        print(f\"\\n--- ERROR: 在执行单点预测时发生严重错误 ---\")\n",
    "        print(e)\n",
    "        import traceback\n",
    "        traceback.print_exc()"
   ]
  },
  {
   "cell_type": "markdown",
   "metadata": {},
   "source": [
    "## 2. 加载已训练构件 (模型, Scaler, IC历史)"
   ]
  },
  {
   "cell_type": "markdown",
   "metadata": {},
   "source": [
    "## 3. 获取最新特征数据\n",
    "\n",
    "调用数据流水线，获取截至**今天**的最新特征。我们只关心返回的数据框的**最后一行**。"
   ]
  },
  {
   "cell_type": "markdown",
   "metadata": {},
   "source": [
    "## 4. 独立模型预测"
   ]
  },
  {
   "cell_type": "markdown",
   "metadata": {},
   "source": [
    "## 5. 动态权重融合"
   ]
  },
  {
   "cell_type": "markdown",
   "metadata": {},
   "source": [
    "## 6. 风险审批与决策输出"
   ]
  }
 ],
 "metadata": {
  "kernelspec": {
   "display_name": ".venv",
   "language": "python",
   "name": "python3"
  },
  "language_info": {
   "codemirror_mode": {
    "name": "ipython",
    "version": 3
   },
   "file_extension": ".py",
   "mimetype": "text/x-python",
   "name": "python",
   "nbconvert_exporter": "python",
   "pygments_lexer": "ipython3",
   "version": "3.13.0"
  }
 },
 "nbformat": 4,
 "nbformat_minor": 4
}
