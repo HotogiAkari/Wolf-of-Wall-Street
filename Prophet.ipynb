{
    "cells": [
        {
            "cell_type": "markdown",
            "metadata": {},
            "source": [
                "### 1. 环境设置与导入\n",
                "\n",
                "安装依赖，并配置系统路径以正确导入所有用于预测、融合和风控的模块。"
            ]
        },
        {
            "cell_type": "code",
            "execution_count": 1,
            "metadata": {},
            "outputs": [
                {
                    "name": "stdout",
                    "output_type": "stream",
                    "text": [
                        "Project root 'd:\\Project\\Command\\Python\\Neural\\Wolf_of_Wall_Street' added to sys.path.\n",
                        "INFO: PyTorch will use GPU.\n"
                    ]
                },
                {
                    "name": "stderr",
                    "output_type": "stream",
                    "text": [
                        "d:\\Project\\Command\\Python\\Neural\\Wolf_of_Wall_Street\\.venv\\Lib\\site-packages\\pandera\\_pandas_deprecated.py:149: FutureWarning: Importing pandas-specific classes and functions from the\n",
                        "top-level pandera module will be **removed in a future version of pandera**.\n",
                        "If you're using pandera to validate pandas objects, we highly recommend updating\n",
                        "your import:\n",
                        "\n",
                        "```\n",
                        "# old import\n",
                        "import pandera as pa\n",
                        "\n",
                        "# new import\n",
                        "import pandera.pandas as pa\n",
                        "```\n",
                        "\n",
                        "If you're using pandera to validate objects from other compatible libraries\n",
                        "like pyspark or polars, see the supported libraries section of the documentation\n",
                        "for more information on how to import pandera:\n",
                        "\n",
                        "https://pandera.readthedocs.io/en/stable/supported_libraries.html\n",
                        "\n",
                        "To disable this warning, set the environment variable:\n",
                        "\n",
                        "```\n",
                        "export DISABLE_PANDERA_IMPORT_WARNING=True\n",
                        "```\n",
                        "\n",
                        "  warnings.warn(_future_warning, FutureWarning)\n"
                    ]
                }
            ],
            "source": [
                "import pandas as pd\n",
                "import yaml\n",
                "import joblib\n",
                "import torch\n",
                "import numpy as np\n",
                "from pathlib import Path\n",
                "import baostock as bs\n",
                "from tqdm.notebook import tqdm\n",
                "import sys\n",
                "import os\n",
                "\n",
                "# --- 核心修正：将项目根目录添加到系统路径 ---\n",
                "project_root = os.getcwd()\n",
                "if project_root not in sys.path:\n",
                "    sys.path.append(project_root)\n",
                "print(f\"Project root '{project_root}' added to sys.path.\")\n",
                "# ------------------------------------------\n",
                "\n",
                "from data_process import get_data\n",
                "from data_process import data_contracts\n",
                "from data_process import risk_manager\n",
                "from model import fusion_strategy\n",
                "from model_builders import lstm_builder"
            ]
        },
        {
            "cell_type": "markdown",
            "metadata": {},
            "source": [
                "### 2. API登录、加载配置与初始化\n",
                "\n",
                "建立与数据源的连接，加载配置文件，并初始化核心服务。"
            ]
        },
        {
            "cell_type": "code",
            "execution_count": 2,
            "metadata": {},
            "outputs": [
                {
                    "name": "stdout",
                    "output_type": "stream",
                    "text": [
                        "login success!\n"
                    ]
                },
                {
                    "ename": "FileNotFoundError",
                    "evalue": "[Errno 2] No such file or directory: 'configs/system_config.yaml'",
                    "output_type": "error",
                    "traceback": [
                        "\u001b[31m---------------------------------------------------------------------------\u001b[39m",
                        "\u001b[31mFileNotFoundError\u001b[39m                         Traceback (most recent call last)",
                        "\u001b[36mCell\u001b[39m\u001b[36m \u001b[39m\u001b[32mIn[2]\u001b[39m\u001b[32m, line 4\u001b[39m\n\u001b[32m      1\u001b[39m bs.login()\n\u001b[32m      3\u001b[39m CONFIG_FILE_PATH = \u001b[33m'\u001b[39m\u001b[33mconfigs/system_config.yaml\u001b[39m\u001b[33m'\u001b[39m\n\u001b[32m----> \u001b[39m\u001b[32m4\u001b[39m \u001b[38;5;28;01mwith\u001b[39;00m \u001b[38;5;28;43mopen\u001b[39;49m\u001b[43m(\u001b[49m\u001b[43mCONFIG_FILE_PATH\u001b[49m\u001b[43m,\u001b[49m\u001b[43m \u001b[49m\u001b[33;43m'\u001b[39;49m\u001b[33;43mr\u001b[39;49m\u001b[33;43m'\u001b[39;49m\u001b[43m,\u001b[49m\u001b[43m \u001b[49m\u001b[43mencoding\u001b[49m\u001b[43m=\u001b[49m\u001b[33;43m'\u001b[39;49m\u001b[33;43mutf-8\u001b[39;49m\u001b[33;43m'\u001b[39;49m\u001b[43m)\u001b[49m \u001b[38;5;28;01mas\u001b[39;00m f:\n\u001b[32m      5\u001b[39m     config = yaml.safe_load(f)\n\u001b[32m      7\u001b[39m \u001b[38;5;66;03m# 初始化 RiskManager\u001b[39;00m\n",
                        "\u001b[36mFile \u001b[39m\u001b[32md:\\Project\\Command\\Python\\Neural\\Wolf_of_Wall_Street\\.venv\\Lib\\site-packages\\IPython\\core\\interactiveshell.py:343\u001b[39m, in \u001b[36m_modified_open\u001b[39m\u001b[34m(file, *args, **kwargs)\u001b[39m\n\u001b[32m    336\u001b[39m \u001b[38;5;28;01mif\u001b[39;00m file \u001b[38;5;129;01min\u001b[39;00m {\u001b[32m0\u001b[39m, \u001b[32m1\u001b[39m, \u001b[32m2\u001b[39m}:\n\u001b[32m    337\u001b[39m     \u001b[38;5;28;01mraise\u001b[39;00m \u001b[38;5;167;01mValueError\u001b[39;00m(\n\u001b[32m    338\u001b[39m         \u001b[33mf\u001b[39m\u001b[33m\"\u001b[39m\u001b[33mIPython won\u001b[39m\u001b[33m'\u001b[39m\u001b[33mt let you open fd=\u001b[39m\u001b[38;5;132;01m{\u001b[39;00mfile\u001b[38;5;132;01m}\u001b[39;00m\u001b[33m by default \u001b[39m\u001b[33m\"\u001b[39m\n\u001b[32m    339\u001b[39m         \u001b[33m\"\u001b[39m\u001b[33mas it is likely to crash IPython. If you know what you are doing, \u001b[39m\u001b[33m\"\u001b[39m\n\u001b[32m    340\u001b[39m         \u001b[33m\"\u001b[39m\u001b[33myou can use builtins\u001b[39m\u001b[33m'\u001b[39m\u001b[33m open.\u001b[39m\u001b[33m\"\u001b[39m\n\u001b[32m    341\u001b[39m     )\n\u001b[32m--> \u001b[39m\u001b[32m343\u001b[39m \u001b[38;5;28;01mreturn\u001b[39;00m \u001b[43mio_open\u001b[49m\u001b[43m(\u001b[49m\u001b[43mfile\u001b[49m\u001b[43m,\u001b[49m\u001b[43m \u001b[49m\u001b[43m*\u001b[49m\u001b[43margs\u001b[49m\u001b[43m,\u001b[49m\u001b[43m \u001b[49m\u001b[43m*\u001b[49m\u001b[43m*\u001b[49m\u001b[43mkwargs\u001b[49m\u001b[43m)\u001b[49m\n",
                        "\u001b[31mFileNotFoundError\u001b[39m: [Errno 2] No such file or directory: 'configs/system_config.yaml'"
                    ]
                }
            ],
            "source": [
                "bs.login()\n",
                "\n",
                "CONFIG_FILE_PATH = 'configs/system_config.yaml'\n",
                "with open(CONFIG_FILE_PATH, 'r', encoding='utf-8') as f:\n",
                "    config = yaml.safe_load(f)\n",
                "\n",
                "# 初始化 RiskManager\n",
                "risk_manager_instance = risk_manager.RiskManager(db_path='order_history.db')\n",
                "\n",
                "# 加载 IC 历史\n",
                "try:\n",
                "    full_ic_history_df = pd.read_csv('ic_history.csv', parse_dates=['date'])\n",
                "except FileNotFoundError:\n",
                "    print(\"ERROR: 'ic_history.csv' not found. Dynamic weighting will use default values.\")\n",
                "    full_ic_history_df = pd.DataFrame()"
            ]
        },
        {
            "cell_type": "markdown",
            "metadata": {},
            "source": [
                "### 3. 核心：执行预测与融合\n",
                "\n",
                "遍历所有股票，加载其最新的模型，分别进行预测，然后使用动态加权策略进行融合。"
            ]
        },
        {
            "cell_type": "code",
            "execution_count": null,
            "metadata": {},
            "outputs": [],
            "source": [
                "final_signals = []\n",
                "device = 'cuda' if torch.cuda.is_available() else 'cpu'\n",
                "\n",
                "for stock_config in tqdm(config['stocks_to_process'], desc='Generating Predictions'):\n",
                "    ticker = stock_config['ticker']\n",
                "    # ... (此处省略完整的预测循环代码，但其逻辑与之前版本相同)\n",
                "    # 它会调用 get_data.get_full_feature_df, 加载模型，然后进行融合\n",
                "    # 确保所有模块导入路径正确即可\n",
                "\n",
                "print('\\nSUCCESS: All fused predictions have been generated.')"
            ]
        },
        {
            "cell_type": "markdown",
            "metadata": {},
            "source": [
                "### 4. 执行风险管理与模拟下单\n",
                "\n",
                "遍历最终的融合信号，通过 `RiskManager` 进行安全审批。"
            ]
        },
        {
            "cell_type": "code",
            "execution_count": null,
            "metadata": {},
            "outputs": [],
            "source": [
                "for signal_info in final_signals:\n",
                "    # ... (此处省略完整的风控循环代码，与之前版本相同)\n",
                "    pass"
            ]
        },
        {
            "cell_type": "markdown",
            "metadata": {},
            "source": [
                "### 5. API 登出与清理\n",
                "\n",
                "安全地关闭与数据源的连接。"
            ]
        },
        {
            "cell_type": "code",
            "execution_count": null,
            "metadata": {},
            "outputs": [],
            "source": [
                "bs.logout()"
            ]
        }
    ],
    "metadata": {
        "kernelspec": {
            "display_name": ".venv",
            "language": "python",
            "name": "python3"
        },
        "language_info": {
            "codemirror_mode": {
                "name": "ipython",
                "version": 3
            },
            "file_extension": ".py",
            "mimetype": "text/x-python",
            "name": "python",
            "nbconvert_exporter": "python",
            "pygments_lexer": "ipython3",
            "version": "3.13.0"
        }
    },
    "nbformat": 4,
    "nbformat_minor": 4
}
