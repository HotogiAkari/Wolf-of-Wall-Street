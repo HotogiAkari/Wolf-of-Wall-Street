{
 "cells": [
  {
   "cell_type": "markdown",
   "metadata": {},
   "source": [
    "# 模型融合预测与交易决策引擎\n",
    "\n",
    "---\n",
    "\n",
    "### **目标**\n",
    "本 Notebook 是整个项目的**应用终端**。它的核心职责是模拟实盘环境，对指定的股票执行完整的“数据-预测-决策”流程。\n",
    "\n",
    "### **工作流程**\n",
    "1.  **环境设置与目标选定**: 导入库，加载配置，并指定今天要进行预测的目标股票。\n",
    "2.  **加载已训练构件**: \n",
    "    - 自动查找并加载目标股票**最新版本**的 LGBM 和 LSTM 模型。\n",
    "    - 加载对应的 `StandardScaler`。\n",
    "    - 加载两个模型完整的 IC 历史记录，用于动态权重计算。\n",
    "3.  **获取最新特征**: 调用数据处理流水线，获取截至**今天**的最新一行特征数据。\n",
    "4.  **独立模型预测**: 分别使用 LGBM 和 LSTM 模型对最新特征进行预测。\n",
    "5.  **动态权重融合**: \n",
    "    - 基于 IC 历史计算出 LGBM 和 LSTM 当前的动态权重。\n",
    "    - 对两个模型的预测值（经过 Z-score 标准化）进行加权融合，得到最终的预测信号。\n",
    "6.  **风险审批与决策输出**: \n",
    "    - 将融合后的信号提交给 `RiskManager` 进行最终审批（如重复信号检查）。\n",
    "    - 根据审批结果，输出明确的交易决策（如：**【批准开仓：买入】** 或 **【信号被拒：重复信号】**）。"
   ]
  },
  {
   "cell_type": "markdown",
   "metadata": {},
   "source": [
    "## 1. 环境设置与目标选定"
   ]
  },
  {
   "cell_type": "code",
   "execution_count": null,
   "metadata": {},
   "outputs": [],
   "source": [
    "import sys\n",
    "import json\n",
    "import yaml\n",
    "from pathlib import Path\n",
    "import matplotlib.pyplot as plt\n",
    "import pandas as pd\n",
    "import torch\n",
    "import joblib\n",
    "from tqdm.autonotebook import tqdm\n",
    "from sklearn.preprocessing import StandardScaler\n",
    "from utils.config_utils import load_and_merge_configs_for_notebook\n",
    "\n",
    "# --- 1. 环境与路径设置 ---\n",
    "project_root = str(Path().resolve())\n",
    "if project_root not in sys.path:\n",
    "    print(f\"将项目根目录添加到 sys.path: {project_root}\")\n",
    "    sys.path.append(project_root)\n",
    "\n",
    "plt.style.use('seaborn-v0_8-whitegrid')\n",
    "plt.rcParams['font.sans-serif'] = ['SimHei']\n",
    "plt.rcParams['axes.unicode_minus'] = False\n",
    "\n",
    "# --- 2.  加载配置和所有模块 ---\n",
    "# a. 加载配置\n",
    "config = load_and_merge_configs_for_notebook()\n",
    "\n",
    "# b. 手动加载所有模块\n",
    "print(\"--- 正在加载所有项目模块... ---\")\n",
    "try:\n",
    "    from main_train import run_single_stock_prediction\n",
    "    from data_process.get_data import initialize_apis, shutdown_apis, get_full_feature_df, get_latest_global_data\n",
    "    from data_process.save_data import run_data_pipeline, get_processed_data_path\n",
    "    from model.build_models import run_training_for_ticker\n",
    "    from utils.hpo_utils import run_hpo_for_ticker\n",
    "    from model.builders.model_fuser import ModelFuser\n",
    "    from model.builders.lgbm_builder import LGBMBuilder\n",
    "    from model.builders.lstm_builder import LSTMBuilder, LSTMModel\n",
    "    from model.builders.tabtransformer_builder import TabTransformerBuilder, TabTransformerModel\n",
    "    from risk_management.risk_manager import RiskManager\n",
    "    from utils.date_utils import resolve_data_pipeline_dates\n",
    "    from utils.encoding_utils import encode_categorical_features\n",
    "    from utils.file_utils import find_latest_artifact_paths\n",
    "    from utils.ml_utils import walk_forward_split\n",
    "    print(\"INFO: 项目模块导入成功。\")\n",
    "except ImportError as e:\n",
    "    raise ImportError(f\"模块导入失败，请确保 Notebook 的运行目录在项目根目录。错误: {e}\")\n",
    "\n",
    "# c. 构建 modules 字典\n",
    "modules = {\n",
    "    'initialize_apis': initialize_apis, 'shutdown_apis': shutdown_apis,\n",
    "    'get_full_feature_df': get_full_feature_df, 'get_latest_global_data': get_latest_global_data,\n",
    "    'run_data_pipeline': run_data_pipeline, 'get_processed_data_path': get_processed_data_path,\n",
    "    'run_training_for_ticker': run_training_for_ticker, 'run_hpo_for_ticker': run_hpo_for_ticker,\n",
    "    'ModelFuser': ModelFuser, 'LGBMBuilder': LGBMBuilder, 'LSTMBuilder': LSTMBuilder, 'LSTMModel': LSTMModel,\n",
    "    'TabTransformerBuilder': TabTransformerBuilder, 'TabTransformerModel': TabTransformerModel,\n",
    "    'RiskManager': RiskManager,\n",
    "    'resolve_data_pipeline_dates': resolve_data_pipeline_dates,\n",
    "    'encode_categorical_features': encode_categorical_features,\n",
    "    'find_latest_artifact_paths': find_latest_artifact_paths,\n",
    "    'walk_forward_split': walk_forward_split,\n",
    "    'pd': pd, 'torch': torch, 'joblib': joblib, 'tqdm': tqdm, 'StandardScaler': StandardScaler, 'Path': Path, 'yaml': yaml, 'json': json\n",
    "}"
   ]
  },
  {
   "cell_type": "markdown",
   "metadata": {},
   "source": [
    "# 预测流程"
   ]
  },
  {
   "cell_type": "code",
   "execution_count": null,
   "metadata": {},
   "outputs": [],
   "source": [
    "# 可指定预测股票，如果留空，则会使用 config.yaml 中 application_settings.prophet_target_ticker 定义的值\n",
    "TARGET_TICKER_OVERRIDE = '000100.SZ' # 例如: '000100.SZ'\n",
    "\n",
    "if config and modules:\n",
    "    try:\n",
    "        run_single_stock_prediction(\n",
    "            config=config, \n",
    "            modules=modules, \n",
    "            target_ticker=TARGET_TICKER_OVERRIDE\n",
    "        )\n",
    "    except Exception as e:\n",
    "        print(f\"\\n--- ERROR: 在执行单点预测时发生严重错误 ---\")\n",
    "        print(e)\n",
    "        import traceback\n",
    "        traceback.print_exc()"
   ]
  }
 ],
 "metadata": {
  "kernelspec": {
   "display_name": ".venv",
   "language": "python",
   "name": "python3"
  },
  "language_info": {
   "codemirror_mode": {
    "name": "ipython",
    "version": 3
   },
   "file_extension": ".py",
   "mimetype": "text/x-python",
   "name": "python",
   "nbconvert_exporter": "python",
   "pygments_lexer": "ipython3",
   "version": "3.13.0"
  }
 },
 "nbformat": 4,
 "nbformat_minor": 4
}
