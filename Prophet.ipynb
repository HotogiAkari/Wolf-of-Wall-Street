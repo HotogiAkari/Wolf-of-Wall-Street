{
 "cells": [
  {
   "cell_type": "markdown",
   "metadata": {},
   "source": [
    "# 模型融合预测与交易决策引擎\n",
    "\n",
    "---\n",
    "\n",
    "### **目标**\n",
    "本 Notebook 是整个项目的**应用终端**。它的核心职责是模拟实盘环境，对指定的股票执行完整的“数据-预测-决策”流程。\n",
    "\n",
    "### **工作流程**\n",
    "1.  **环境设置与目标选定**: 导入库，加载配置，并指定今天要进行预测的目标股票。\n",
    "2.  **加载已训练构件**: \n",
    "    - 自动查找并加载目标股票**最新版本**的 LGBM 和 LSTM 模型。\n",
    "    - 加载对应的 `StandardScaler`。\n",
    "    - 加载两个模型完整的 IC 历史记录，用于动态权重计算。\n",
    "3.  **获取最新特征**: 调用数据处理流水线，获取截至**今天**的最新一行特征数据。\n",
    "4.  **独立模型预测**: 分别使用 LGBM 和 LSTM 模型对最新特征进行预测。\n",
    "5.  **动态权重融合**: \n",
    "    - 基于 IC 历史计算出 LGBM 和 LSTM 当前的动态权重。\n",
    "    - 对两个模型的预测值（经过 Z-score 标准化）进行加权融合，得到最终的预测信号。\n",
    "6.  **风险审批与决策输出**: \n",
    "    - 将融合后的信号提交给 `RiskManager` 进行最终审批（如重复信号检查）。\n",
    "    - 根据审批结果，输出明确的交易决策（如：**【批准开仓：买入】** 或 **【信号被拒：重复信号】**）。"
   ]
  },
  {
   "cell_type": "markdown",
   "metadata": {},
   "source": [
    "## 1. 环境设置与目标选定"
   ]
  },
  {
   "cell_type": "code",
   "execution_count": null,
   "metadata": {},
   "outputs": [],
   "source": [
    "# 文件路径: Prophet.ipynb\n",
    "\n",
    "import sys\n",
    "from pathlib import Path\n",
    "\n",
    "# --- 1. 动态导入 main_train 核心引擎 ---\n",
    "project_root = str(Path().resolve())\n",
    "if project_root not in sys.path:\n",
    "    sys.path.append(project_root)\n",
    "\n",
    "try:\n",
    "    from main_train import run_load_config_and_modules, run_single_stock_prediction\n",
    "    print(\"--- INFO: 预测引擎 (Prophet) 已初始化。 ---\")\n",
    "except ImportError as e:\n",
    "    raise ImportError(f\"FATAL: 无法从 main_train.py 导入核心函数: {e}\")\n",
    "\n",
    "# --- 2. 加载全局配置和模块 ---\n",
    "# 在 Notebook 的生命周期中，我们只加载一次\n",
    "config, modules = run_load_config_and_modules()\n",
    "\n",
    "if not (config and modules):\n",
    "    raise RuntimeError(\"环境初始化失败，请检查配置文件路径和模块导入。\")\n",
    "\n",
    "# --- 3. (可选) 在此手动指定要预测的股票 ---\n",
    "# 如果留空，则会使用 config.yaml 中 application_settings.prophet_target_ticker 定义的值\n",
    "TARGET_TICKER_OVERRIDE = '000100.SZ' # 例如: '000100.SZ'\n",
    "\n",
    "# --- 4. 执行单点预测工作流 ---\n",
    "if config and modules:\n",
    "    try:\n",
    "        run_single_stock_prediction(\n",
    "            config=config, \n",
    "            modules=modules, \n",
    "            target_ticker=TARGET_TICKER_OVERRIDE\n",
    "        )\n",
    "    except Exception as e:\n",
    "        print(f\"\\n--- ERROR: 在执行单点预测时发生严重错误 ---\")\n",
    "        print(e)\n",
    "        import traceback\n",
    "        traceback.print_exc()"
   ]
  },
  {
   "cell_type": "markdown",
   "metadata": {},
   "source": [
    "## 4. 独立模型预测"
   ]
  },
  {
   "cell_type": "markdown",
   "metadata": {},
   "source": [
    "## 5. 动态权重融合"
   ]
  },
  {
   "cell_type": "markdown",
   "metadata": {},
   "source": [
    "## 6. 风险审批与决策输出"
   ]
  }
 ],
 "metadata": {
  "kernelspec": {
   "display_name": ".venv",
   "language": "python",
   "name": "python3"
  },
  "language_info": {
   "codemirror_mode": {
    "name": "ipython",
    "version": 3
   },
   "file_extension": ".py",
   "mimetype": "text/x-python",
   "name": "python",
   "nbconvert_exporter": "python",
   "pygments_lexer": "ipython3",
   "version": "3.13.0"
  }
 },
 "nbformat": 4,
 "nbformat_minor": 4
}
