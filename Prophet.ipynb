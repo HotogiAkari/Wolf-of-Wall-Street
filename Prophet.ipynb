{
 "cells": [
  {
   "cell_type": "markdown",
   "metadata": {},
   "source": [
    "# 模型融合预测与交易决策引擎\n",
    "\n",
    "---\n",
    "\n",
    "### **目标**\n",
    "本 Notebook 是整个项目的**应用终端**。它的核心职责是模拟实盘环境，对指定的股票执行完整的“数据-预测-决策”流程。\n",
    "\n",
    "### **工作流程**\n",
    "1.  **环境设置与目标选定**: 导入库，加载配置，并指定今天要进行预测的目标股票。\n",
    "2.  **加载已训练构件**: \n",
    "    - 自动查找并加载目标股票**最新版本**的 LGBM 和 LSTM 模型。\n",
    "    - 加载对应的 `StandardScaler`。\n",
    "    - 加载两个模型完整的 IC 历史记录，用于动态权重计算。\n",
    "3.  **获取最新特征**: 调用数据处理流水线，获取截至**今天**的最新一行特征数据。\n",
    "4.  **独立模型预测**: 分别使用 LGBM 和 LSTM 模型对最新特征进行预测。\n",
    "5.  **动态权重融合**: \n",
    "    - 基于 IC 历史计算出 LGBM 和 LSTM 当前的动态权重。\n",
    "    - 对两个模型的预测值（经过 Z-score 标准化）进行加权融合，得到最终的预测信号。\n",
    "6.  **风险审批与决策输出**: \n",
    "    - 将融合后的信号提交给 `RiskManager` 进行最终审批（如重复信号检查）。\n",
    "    - 根据审批结果，输出明确的交易决策（如：**【批准开仓：买入】** 或 **【信号被拒：重复信号】**）。"
   ]
  },
  {
   "cell_type": "markdown",
   "metadata": {},
   "source": [
    "## 1. 环境设置与目标选定"
   ]
  },
  {
   "cell_type": "code",
   "execution_count": 1,
   "metadata": {},
   "outputs": [
    {
     "name": "stderr",
     "output_type": "stream",
     "text": [
      "d:\\Project\\Command\\Python\\Neural\\Wolf_of_Wall_Street\\model_builders\\lstm_builder.py:13: TqdmExperimentalWarning: Using `tqdm.autonotebook.tqdm` in notebook mode. Use `tqdm.tqdm` instead to force console mode (e.g. in jupyter console)\n",
      "  from tqdm.autonotebook import tqdm\n"
     ]
    },
    {
     "name": "stdout",
     "output_type": "stream",
     "text": [
      "INFO: 项目模型导入成功.\n",
      "SUCCESS: Config loaded from 'configs/config.yaml'.\n",
      "--- 目标股票已设定: 贵州茅台 (600519.SH) ---\n"
     ]
    }
   ],
   "source": [
    "import sys, yaml, pandas as pd, joblib, torch\n",
    "from pathlib import Path\n",
    "from IPython.display import display\n",
    "\n",
    "# --- 模块导入 ---\n",
    "try:\n",
    "    from data_process.get_data import initialize_apis, shutdown_apis, get_full_feature_df\n",
    "    from model_builders.lstm_builder import LSTMModel\n",
    "    from model_builders.model_fuser import ModelFuser\n",
    "    print(\"INFO: 项目模型导入成功.\")\n",
    "except ImportError as e:\n",
    "    print(f\"WARNNING: 导入失败: {e}. 正在添加项目根目录...\")\n",
    "    project_root = str(Path().resolve()); sys.path.append(project_root) if project_root not in sys.path else None\n",
    "    from data_process.get_data import initialize_apis, shutdown_apis, get_full_feature_df\n",
    "    from model_builders.lstm_builder import LSTMModel\n",
    "    from model_builders.model_fuser import ModelFuser\n",
    "    print(\"INFO: 导入成功.\")\n",
    "\n",
    "# --- 加载配置文件 ---\n",
    "CONFIG_PATH = 'configs/config.yaml'\n",
    "try:\n",
    "    with open(CONFIG_PATH, 'r', encoding='utf-8') as f: config = yaml.safe_load(f)\n",
    "    print(f\"SUCCESS: Config loaded from '{CONFIG_PATH}'.\")\n",
    "except FileNotFoundError:\n",
    "    print(f\"ERROR: Config file not found.\"); config = {}\n",
    "\n",
    "# --- 设定要分析的股票 --- \n",
    "TARGET_TICKER = '600519.SH'\n",
    "stock_info = next((s for s in config.get('stocks_to_process', []) if s['ticker'] == TARGET_TICKER), None)\n",
    "if stock_info:\n",
    "    TARGET_KEYWORD = stock_info.get('keyword', TARGET_TICKER)\n",
    "    print(f\"--- 目标股票已设定: {TARGET_KEYWORD} ({TARGET_TICKER}) ---\")\n",
    "else:\n",
    "    print(f\"ERROR: 在配置文件中未找到股票 {TARGET_TICKER} 的信息！\")"
   ]
  },
  {
   "cell_type": "markdown",
   "metadata": {},
   "source": [
    "## 2. 加载已训练构件 (模型, Scaler, IC历史)"
   ]
  },
  {
   "cell_type": "code",
   "execution_count": 2,
   "metadata": {},
   "outputs": [
    {
     "name": "stdout",
     "output_type": "stream",
     "text": [
      "\n",
      "--- 正在加载 LGBM 的构件...\n",
      "ERROR: 未找到 LGBM 的模型文件。请先运行训练流程。\n",
      "\n",
      "--- 正在加载 LSTM 的构件...\n",
      "ERROR: 未找到 LSTM 的模型文件。请先运行训练流程。\n"
     ]
    }
   ],
   "source": [
    "models = {}\n",
    "scalers = {}\n",
    "ic_histories = {}\n",
    "all_components_loaded = False\n",
    "\n",
    "if stock_info:\n",
    "    model_dir = Path(config.get('global_settings', {}).get('model_dir', 'models')) / TARGET_TICKER\n",
    "    models_to_load = config.get('global_settings', {}).get('models_to_train', ['lgbm', 'lstm'])\n",
    "    \n",
    "    all_found = True\n",
    "    for model_type in models_to_load:\n",
    "        print(f\"\\n--- 正在加载 {model_type.upper()} 的构件...\")\n",
    "        # 查找最新版本的模型\n",
    "        model_files = sorted(model_dir.glob(f\"{model_type}_model_*.p*t\")) # .pkl or .pt\n",
    "        if not model_files:\n",
    "            print(f\"ERROR: 未找到 {model_type.upper()} 的模型文件。请先运行训练流程。\")\n",
    "            all_found = False; continue\n",
    "        \n",
    "        latest_model_file = model_files[-1]\n",
    "        version_timestamp = latest_model_file.stem.split('_')[-1]\n",
    "        latest_scaler_file = model_dir / f\"{model_type}_scaler_{version_timestamp}.pkl\"\n",
    "        ic_history_file = model_dir / f\"{model_type}_ic_history.csv\"\n",
    "\n",
    "        # 加载模型、Scaler 和 IC 历史\n",
    "        try:\n",
    "            if model_type == 'lgbm':\n",
    "                models[model_type] = joblib.load(latest_model_file)\n",
    "            elif model_type == 'lstm':\n",
    "                # 需要先初始化模型结构，再加载权重\n",
    "                lstm_cfg = {**config.get('default_model_params',{}), **stock_info}.get('lstm_params',{})\n",
    "                # 假设特征数量与之前训练时一致，后续会动态获取\n",
    "                model_instance = LSTMModel(input_size=23, hidden_size_1=lstm_cfg.get('units_1',64), hidden_size_2=lstm_cfg.get('units_2',32), dropout=lstm_cfg.get('dropout',0.2))\n",
    "                model_instance.load_state_dict(torch.load(latest_model_file))\n",
    "                model_instance.eval() # 设为评估模式\n",
    "                models[model_type] = model_instance\n",
    "                \n",
    "            scalers[model_type] = joblib.load(latest_scaler_file)\n",
    "            ic_histories[model_type] = pd.read_csv(ic_history_file, index_col=0, parse_dates=True)\n",
    "            print(f\"SUCCESS: 成功加载 {model_type.upper()} 版本 '{version_timestamp}' 的模型、Scaler 和 IC 历史。\")\n",
    "        except FileNotFoundError as e:\n",
    "            print(f\"ERROR: 加载失败，找不到文件: {e}\")\n",
    "            all_found = False\n",
    "        except Exception as e:\n",
    "            print(f\"ERROR: 加载时发生未知错误: {e}\")\n",
    "            all_found = False\n",
    "\n",
    "    if all_found and len(models) == len(models_to_load):\n",
    "        all_components_loaded = True\n",
    "        print(\"\\n--- 所有必需的模型构件已成功加载！---\")\n",
    "else:\n",
    "    print(\"ERROR: 股票信息未定义，无法加载模型。\")"
   ]
  },
  {
   "cell_type": "markdown",
   "metadata": {},
   "source": [
    "## 3. 获取最新特征数据\n",
    "\n",
    "调用数据流水线，获取截至**今天**的最新特征。我们只关心返回的数据框的**最后一行**。"
   ]
  },
  {
   "cell_type": "code",
   "execution_count": null,
   "metadata": {},
   "outputs": [
    {
     "name": "stdout",
     "output_type": "stream",
     "text": [
      "模型构件加载不完整，跳过数据获取。\n"
     ]
    }
   ],
   "source": [
    "# Prophet.ipynb -> \"3. 获取最新特征数据\" (最终修正版)\n",
    "\n",
    "latest_features = None\n",
    "full_feature_df_for_risk = None # 用于风险审批\n",
    "\n",
    "if all_components_loaded:\n",
    "    try:\n",
    "        initialize_apis(config)\n",
    "\n",
    "        full_feature_df_for_risk = get_full_feature_df(\n",
    "            TARGET_TICKER, \n",
    "            config, \n",
    "            keyword=TARGET_KEYWORD, \n",
    "            prediction_mode=True # <--- 在这里指定预测模式\n",
    "        )\n",
    "        \n",
    "        if full_feature_df_for_risk is not None and not full_feature_df_for_risk.empty:\n",
    "            latest_features = full_feature_df_for_risk.iloc[-1:] # 获取最后一行\n",
    "            print(f\"SUCCESS: 成功获取 {TARGET_KEYWORD} 的最新特征数据 (日期: {latest_features.index[0].date()})。\")\n",
    "            display(latest_features)\n",
    "    finally:\n",
    "        shutdown_apis()\n",
    "else:\n",
    "    print(\"模型构件加载不完整，跳过数据获取。\")"
   ]
  },
  {
   "cell_type": "markdown",
   "metadata": {},
   "source": [
    "## 4. 独立模型预测"
   ]
  },
  {
   "cell_type": "code",
   "execution_count": null,
   "metadata": {},
   "outputs": [],
   "source": [
    "# Prophet.ipynb -> \"4. 独立模型预测\" (修正版 - 预测分位数)\n",
    "\n",
    "predictions = {}\n",
    "# --- 新增：用于存储详细的分位数预测 ---\n",
    "lgbm_quantile_preds = {}\n",
    "# ---\n",
    "\n",
    "if latest_features is not None:\n",
    "    label_col = config.get('global_settings', {}).get('label_column', 'label_return')\n",
    "    feature_cols = [c for c in latest_features.columns if c != label_col]\n",
    "    X_latest = latest_features[feature_cols]\n",
    "\n",
    "    # --- LGBM 预测 (现在预测所有分位数) ---\n",
    "    if 'lgbm' in models:\n",
    "        X_scaled_lgbm = scalers['lgbm'].transform(X_latest)\n",
    "        \n",
    "        # 循环遍历所有已训练的分位数模型\n",
    "        for name, model in models['lgbm'].items():\n",
    "            pred = model.predict(X_scaled_lgbm)[0]\n",
    "            lgbm_quantile_preds[name] = pred\n",
    "            # 仍然将中位数作为 lgbm 的主要“点预测”\n",
    "            if name == 'q_0.5':\n",
    "                predictions['lgbm'] = pred\n",
    "        \n",
    "        print(\"--- LGBM 分位数预测结果 ---\")\n",
    "        for name, pred in lgbm_quantile_preds.items():\n",
    "            print(f\"  - {name} (预期收益率): {pred:.6f}\")\n",
    "\n",
    "    # --- LSTM 预测 (保持不变) ---\n",
    "    if 'lstm' in models:\n",
    "        lstm_cfg = {**config.get('default_model_params',{}), **stock_info}.get('lstm_params',{})\n",
    "        seq_len = lstm_cfg.get('sequence_length', 60)\n",
    "        pseudo_sequence_df = pd.concat([X_latest] * seq_len, ignore_index=True)\n",
    "        X_scaled_lstm = scalers['lstm'].transform(pseudo_sequence_df)\n",
    "        X_tensor_lstm = torch.from_numpy(X_scaled_lstm).unsqueeze(0).float()\n",
    "        with torch.no_grad():\n",
    "            pred_lstm = models['lstm'](X_tensor_lstm).item()\n",
    "        predictions['lstm'] = pred_lstm\n",
    "        print(f\"\\nLSTM 原始预测值: {pred_lstm:.6f}\")\n",
    "else:\n",
    "    print(\"最新特征数据不可用，无法进行预测。\")"
   ]
  },
  {
   "cell_type": "markdown",
   "metadata": {},
   "source": [
    "## 5. 动态权重融合"
   ]
  },
  {
   "cell_type": "code",
   "execution_count": null,
   "metadata": {},
   "outputs": [],
   "source": [
    "fused_prediction = None\n",
    "# 用于平滑的历史预测列表\n",
    "prediction_history = []\n",
    "\n",
    "if len(predictions) == 2:\n",
    "    print(\"\\\\n--- 开始执行模型融合 (Stacking)... ---\")\n",
    "    fuser = ModelFuser(TARGET_TICKER, config)\n",
    "    \n",
    "    if fuser.load():\n",
    "        # 将预测结果打包成字典\n",
    "        preds_dict = {f'pred_{model_type}': pred for model_type, pred in predictions.items()}\n",
    "        \n",
    "        # 调用 predict 方法进行融合\n",
    "        fused_prediction = fuser.predict(preds_dict, history=prediction_history)\n",
    "        prediction_history.append(fused_prediction) # 更新历史\n",
    "        \n",
    "        print(f\"\\\\n融合后的最终预测信号 (已平滑): {fused_prediction:.6f}\")\n",
    "        \n",
    "        if hasattr(fuser.meta_model, 'coef_'):\n",
    "            # 动态获取特征名\n",
    "            feature_names = fuser.scaler.get_feature_names_out() if hasattr(fuser.scaler, 'get_feature_names_out') else ['LGBM', 'LSTM']\n",
    "            coefs = {name: val for name, val in zip(feature_names, fuser.meta_model.coef_)}\n",
    "            print(f\"融合模型权重 -> {coefs}\")\n",
    "else:\n",
    "    print(\"模型预测不完整，无法进行融合。\")"
   ]
  },
  {
   "cell_type": "markdown",
   "metadata": {},
   "source": [
    "## 6. 风险审批与决策输出"
   ]
  },
  {
   "cell_type": "code",
   "execution_count": null,
   "metadata": {},
   "outputs": [],
   "source": [
    "from IPython.display import display, HTML\n",
    "\n",
    "if fused_prediction is not None:\n",
    "    # --- 1. 准备报告数据 ---\n",
    "    direction = '看涨 (BUY)' if fused_prediction > 0 else '看跌 (SELL)'\n",
    "    horizon = config.get('strategy_config', {}).get('labeling_horizon', 30)\n",
    "\n",
    "    # --- 2. 风险评估 (不再需要 RiskManager) ---\n",
    "    # 风险评估逻辑现在可以简化或直接在报告中展示\n",
    "    risk_assessment = \"低\" # 假设\n",
    "    risk_notes = \"模型输出稳定。\"\n",
    "\n",
    "    # --- 3. 构建并展示 DataFrame 报告 ---\n",
    "    report_data = [\n",
    "        ('基础信息', '股票名称', f\"{TARGET_KEYWORD} ({TARGET_TICKER})\"),\n",
    "        ('基础信息', '预测日期', pd.Timestamp.now().strftime('%Y-%m-%d')),\n",
    "        ('核心观点', '投资方向', direction),\n",
    "        ('核心观点', '信号强度 (预期收益)', fused_prediction),\n",
    "        ('风险控制', '当前风险等级', risk_assessment),\n",
    "        ('风险控制', '风险备注', risk_notes),\n",
    "    ]\n",
    "    report_df = pd.DataFrame(report_data, columns=['类别', '项目', '内容']).set_index(['类别', '项目'])\n",
    "    \n",
    "    # --- 4. 美化与显示 ---\n",
    "    def format_value(s):\n",
    "        idx = s.name[1]\n",
    "        if idx == '信号强度 (预期收益)': return [f'{v:+.2%}' for v in s]\n",
    "        return s\n",
    "        \n",
    "    def color_direction(val):\n",
    "        if '看涨' in str(val): return 'color: red; font-weight: bold'\n",
    "        if '看跌' in str(val): return 'color: green; font-weight: bold'\n",
    "        return ''\n",
    "        \n",
    "    styled_report = (report_df.style\n",
    "        .set_caption(\"投资建议\")\n",
    "        .apply(format_value, axis=1)\n",
    "        .applymap_index(lambda v: 'font-weight: bold;', level=0)\n",
    "        .applymap(color_direction, subset=pd.IndexSlice[('核心观点', '投资方向'), :])\n",
    "        .set_table_styles([ ... ]) # (保留您之前的样式)\n",
    "    )\n",
    "    \n",
    "    display(styled_report)\n",
    "   \n",
    "else:\n",
    "    print(\"无有效融合信号，无法生成投资建议。\")"
   ]
  }
 ],
 "metadata": {
  "kernelspec": {
   "display_name": ".venv",
   "language": "python",
   "name": "python3"
  },
  "language_info": {
   "codemirror_mode": {
    "name": "ipython",
    "version": 3
   },
   "file_extension": ".py",
   "mimetype": "text/x-python",
   "name": "python",
   "nbconvert_exporter": "python",
   "pygments_lexer": "ipython3",
   "version": "3.13.0"
  }
 },
 "nbformat": 4,
 "nbformat_minor": 4
}
